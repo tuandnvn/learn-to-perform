{
 "cells": [
  {
   "cell_type": "markdown",
   "metadata": {},
   "source": [
    "### Process 150 demonstrations from dat file to JSON"
   ]
  },
  {
   "cell_type": "code",
   "execution_count": 4,
   "metadata": {
    "collapsed": true
   },
   "outputs": [],
   "source": [
    "import os\n",
    "import sys\n",
    "import pickle\n",
    "\n",
    "module_path = os.path.abspath(os.path.join('..'))\n",
    "if module_path not in sys.path:\n",
    "    sys.path.append(module_path)"
   ]
  },
  {
   "cell_type": "code",
   "execution_count": 32,
   "metadata": {},
   "outputs": [],
   "source": [
    "name_to_folder = {\n",
    "    'Around' : 'SlideAroundDiscrete',\n",
    "    'Closer' : 'SlideToward',\n",
    "    'Next' : 'SlideNext',\n",
    "    'Past' : 'SlidePast',\n",
    "    'Away' : 'SlideAway',\n",
    "}\n",
    "\n",
    "json_structure = {}\n",
    "\n",
    "\n",
    "for action in name_to_folder:\n",
    "    json_structure[action] = []\n",
    "    \n",
    "    prefix = os.path.join( \"..\", \"experiments\", \n",
    "                          \"human_evaluation_2d\", \n",
    "                          name_to_folder[action])\n",
    "\n",
    "    for index in range(30):\n",
    "        one_demo = {}\n",
    "        stored_config_file = os.path.join(prefix, str(index) + \".dat\")\n",
    "        with open(stored_config_file, 'rb') as fh:\n",
    "            # need this encoding \n",
    "            stored_config = pickle.load(fh, encoding='latin-1')\n",
    "    \n",
    "        one_demo ['start_config']  = [list(cube.transform.position.flatten()) for cube in stored_config['start_config'] ]\n",
    "        \n",
    "        one_demo ['action_storage'] = []\n",
    "        \n",
    "        for _, _, next_transform, _, _, success, _, _ in stored_config['action_storage']:\n",
    "            if success:\n",
    "                t = list(next_transform.position.flatten())\n",
    "                if len(one_demo ['action_storage']) == 0 or \\\n",
    "                        (len(one_demo ['action_storage']) > 0 and one_demo ['action_storage'][-1] != t):\n",
    "                    one_demo ['action_storage'].append( t )\n",
    "        \n",
    "        json_structure[action].append(one_demo)"
   ]
  },
  {
   "cell_type": "code",
   "execution_count": 27,
   "metadata": {
    "collapsed": true
   },
   "outputs": [],
   "source": [
    "import json"
   ]
  },
  {
   "cell_type": "code",
   "execution_count": 33,
   "metadata": {
    "collapsed": true
   },
   "outputs": [],
   "source": [
    "with open('all_demos.json', 'w') as fh:\n",
    "    json.dump(json_structure, fh)"
   ]
  },
  {
   "cell_type": "code",
   "execution_count": null,
   "metadata": {
    "collapsed": true
   },
   "outputs": [],
   "source": []
  }
 ],
 "metadata": {
  "kernelspec": {
   "display_name": "Python 3",
   "language": "python",
   "name": "python3"
  },
  "language_info": {
   "codemirror_mode": {
    "name": "ipython",
    "version": 3
   },
   "file_extension": ".py",
   "mimetype": "text/x-python",
   "name": "python",
   "nbconvert_exporter": "python",
   "pygments_lexer": "ipython3",
   "version": "3.5.4"
  }
 },
 "nbformat": 4,
 "nbformat_minor": 2
}
