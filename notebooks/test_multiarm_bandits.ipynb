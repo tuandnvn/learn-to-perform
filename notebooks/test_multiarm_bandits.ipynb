{
 "cells": [
  {
   "cell_type": "code",
   "execution_count": 1,
   "metadata": {
    "collapsed": true
   },
   "outputs": [],
   "source": [
    "import numpy as np"
   ]
  },
  {
   "cell_type": "code",
   "execution_count": 38,
   "metadata": {
    "collapsed": true
   },
   "outputs": [],
   "source": [
    "%matplotlib inline\n",
    "\n",
    "from matplotlib import pyplot as plt\n"
   ]
  },
  {
   "cell_type": "code",
   "execution_count": 3,
   "metadata": {},
   "outputs": [],
   "source": [
    "means = np.random.normal(loc= 0, scale = 1, size = (2000, 10))"
   ]
  },
  {
   "cell_type": "code",
   "execution_count": 4,
   "metadata": {},
   "outputs": [
    {
     "data": {
      "text/plain": [
       "array([-0.39783371, -1.12593155, -1.98856583, -1.20557544,  0.03525123,\n",
       "        0.32511122,  2.72542677,  1.18867912, -0.81343881,  2.6791546 ])"
      ]
     },
     "execution_count": 4,
     "metadata": {},
     "output_type": "execute_result"
    }
   ],
   "source": [
    "means[0]"
   ]
  },
  {
   "cell_type": "code",
   "execution_count": 103,
   "metadata": {
    "collapsed": true
   },
   "outputs": [],
   "source": [
    "'''\n",
    "q_n = average of returns so far for each action\n",
    "c_n = count of each action so far\n",
    "\n",
    "return an action that is epsilon-greedy\n",
    "'''\n",
    "def epsilon_greedy_action( q_n, c_n, epsilon ):\n",
    "    e_value = np.random.uniform( low = 0, high = 1 )\n",
    "    \n",
    "    if e_value < 1 - epsilon:\n",
    "        '''Greedy'''\n",
    "        argmaxs = np.argwhere(q_n == np.amax(q_n)).flatten()\n",
    "        if len(argmaxs) == 1:\n",
    "            return argmaxs[0]\n",
    "        else:\n",
    "            return argmaxs[np.random.randint(low = 0, high = len(argmaxs))]\n",
    "    else:\n",
    "        '''Exploratory'''\n",
    "        return np.random.randint(low = 0, high = 10)"
   ]
  },
  {
   "cell_type": "code",
   "execution_count": 104,
   "metadata": {
    "collapsed": true
   },
   "outputs": [],
   "source": [
    "'''\n",
    "Get a reward from doing the action on the predefined config\n",
    "'''\n",
    "def get_reward ( config, action ):\n",
    "    mean, variance = config[action]\n",
    "    \n",
    "    return np.random.normal(loc= mean, scale = variance)\n",
    "\n",
    "'''\n",
    "For a set of parameters for 10-arm bandit problem, run through a number of iteration and draw statistic\n",
    "\n",
    "config = np.array of size (2,10), first row for mean, second row for variance\n",
    "policy = a function that take in (q_n, c_n) and return an action\n",
    "iterations = number of iterations\n",
    "\n",
    "Return:\n",
    "actions: all actions that have been selected\n",
    "rewards: all rewards that have been received\n",
    "c_ns: number of actions correspond to max action\n",
    "'''\n",
    "def run_for_one_config( config, policy, iterations = 1000):\n",
    "    q_n = np.zeros(10)\n",
    "    c_n = np.zeros(10, dtype=np.int32)\n",
    "    \n",
    "    actions = []\n",
    "    rewards = []\n",
    "    c_ns = []\n",
    "    \n",
    "    max_action = np.argmax(config[:,0])\n",
    "    \n",
    "    for i in range(iterations):\n",
    "        action = policy (q_n, c_n)\n",
    "        reward = get_reward ( config, action )\n",
    "        \n",
    "        # Update q_n, c_n\n",
    "        c_n[action] += 1\n",
    "        q_n[action] += ( reward - q_n[action] ) / c_n[action]\n",
    "        c_ns.append(c_n[max_action])\n",
    "        \n",
    "        actions.append(action)\n",
    "        rewards.append(reward)\n",
    "        \n",
    "    return np.array(actions), np.array(rewards), np.array(c_ns)\n",
    "\n",
    "'''\n",
    "Params:\n",
    "actions: all actions that have been selected\n",
    "rewards: all rewards that have been received\n",
    "\n",
    "Return:\n",
    "ave_rewards: average rewards that have been received so far\n",
    "\n",
    "'''\n",
    "def turn_to_statistics( rewards, iterations = 1000):\n",
    "    ave_rewards = []\n",
    "    last_average_reward = 0 # (it is actually ave_rewards[i-1])\n",
    "    \n",
    "    for i in range(iterations):\n",
    "        last_average_reward = last_average_reward + ( rewards[i] - last_average_reward )/(i + 1) \n",
    "        ave_rewards.append(last_average_reward)\n",
    "        \n",
    "    return np.array(ave_rewards)"
   ]
  },
  {
   "cell_type": "code",
   "execution_count": 105,
   "metadata": {},
   "outputs": [
    {
     "name": "stdout",
     "output_type": "stream",
     "text": [
      "[[-0.39783371  1.        ]\n",
      " [-1.12593155  1.        ]\n",
      " [-1.98856583  1.        ]\n",
      " [-1.20557544  1.        ]\n",
      " [ 0.03525123  1.        ]\n",
      " [ 0.32511122  1.        ]\n",
      " [ 2.72542677  1.        ]\n",
      " [ 1.18867912  1.        ]\n",
      " [-0.81343881  1.        ]\n",
      " [ 2.6791546   1.        ]]\n"
     ]
    }
   ],
   "source": [
    "config = np.stack([means[0], np.ones(10)]).T\n",
    "print(config)"
   ]
  },
  {
   "cell_type": "code",
   "execution_count": 106,
   "metadata": {},
   "outputs": [],
   "source": [
    "actions, rewards, cns = run_for_one_config( config, lambda q_n, c_n : epsilon_greedy_action( q_n, c_n, 0.1))\n",
    "actions2, rewards2, cns2 = run_for_one_config( config, lambda q_n, c_n : epsilon_greedy_action( q_n, c_n, 0.01))\n",
    "actions3, rewards3, cns3 = run_for_one_config( config, lambda q_n, c_n : epsilon_greedy_action( q_n, c_n, 0))"
   ]
  },
  {
   "cell_type": "code",
   "execution_count": 107,
   "metadata": {},
   "outputs": [],
   "source": [
    "avg_rewards = turn_to_statistics(rewards)\n",
    "avg_rewards2 = turn_to_statistics(rewards2)\n",
    "avg_rewards3 = turn_to_statistics(rewards3)"
   ]
  },
  {
   "cell_type": "code",
   "execution_count": 108,
   "metadata": {},
   "outputs": [
    {
     "data": {
      "text/plain": [
       "[<matplotlib.lines.Line2D at 0x1babee1ada0>]"
      ]
     },
     "execution_count": 108,
     "metadata": {},
     "output_type": "execute_result"
    },
    {
     "data": {
      "image/png": "[encoded data removed]",
      "text/plain": [
       "<matplotlib.figure.Figure at 0x1babed91fd0>"
      ]
     },
     "metadata": {},
     "output_type": "display_data"
    }
   ],
   "source": [
    "plt.plot(np.arange(1000),avg_rewards, color ='r')\n",
    "plt.plot(np.arange(1000),avg_rewards2, color = 'g')\n",
    "plt.plot(np.arange(1000),avg_rewards3, color = 'b')\n"
   ]
  },
  {
   "cell_type": "code",
   "execution_count": 110,
   "metadata": {},
   "outputs": [
    {
     "data": {
      "text/plain": [
       "[<matplotlib.lines.Line2D at 0x1babef5b940>]"
      ]
     },
     "execution_count": 110,
     "metadata": {},
     "output_type": "execute_result"
    },
    {
     "data": {
      "image/png": "[encoded data removed]",
      "text/plain": [
       "<matplotlib.figure.Figure at 0x1babee6feb8>"
      ]
     },
     "metadata": {},
     "output_type": "display_data"
    }
   ],
   "source": [
    "plt.plot(np.arange(1000),cns/np.arange(1,1001), color ='r')\n",
    "plt.plot(np.arange(1000),cns2/np.arange(1,1001), color = 'g')\n",
    "plt.plot(np.arange(1000),cns3/np.arange(1,1001), color = 'b')"
   ]
  },
  {
   "cell_type": "code",
   "execution_count": 111,
   "metadata": {},
   "outputs": [
    {
     "name": "stdout",
     "output_type": "stream",
     "text": [
      "0\n",
      "100\n",
      "200\n",
      "300\n",
      "400\n",
      "500\n",
      "600\n",
      "700\n",
      "800\n",
      "900\n",
      "1000\n",
      "1100\n",
      "1200\n",
      "1300\n",
      "1400\n",
      "1500\n",
      "1600\n",
      "1700\n",
      "1800\n",
      "1900\n"
     ]
    }
   ],
   "source": [
    "# Average for multiple configuration\n",
    "avg_cns = np.zeros((3,1000))\n",
    "avg_avg_rewards = np.zeros((3,1000))\n",
    "\n",
    "epsilons = [0.1, 0.01, 0]\n",
    "for i in range(100):\n",
    "    if i % 100 == 0:\n",
    "        print (i)\n",
    "    config = np.stack([means[i], np.ones(10)]).T\n",
    "    \n",
    "    for j in range(len(epsilons)):\n",
    "        actions, rewards, cns = run_for_one_config( config, lambda q_n, c_n : epsilon_greedy_action( q_n, c_n, epsilons[j]))\n",
    "        avg_rewards = turn_to_statistics(rewards)\n",
    "        \n",
    "        avg_cns[j] += (cns - avg_cns[j]) * 1.0 / (i+1)\n",
    "        avg_avg_rewards[j] = avg_rewards"
   ]
  },
  {
   "cell_type": "code",
   "execution_count": 112,
   "metadata": {},
   "outputs": [
    {
     "data": {
      "text/plain": [
       "[<matplotlib.lines.Line2D at 0x1babffcf978>]"
      ]
     },
     "execution_count": 112,
     "metadata": {},
     "output_type": "execute_result"
    },
    {
     "data": {
      "image/png": "[encoded data removed]",
      "text/plain": [
       "<matplotlib.figure.Figure at 0x1babeec7cc0>"
      ]
     },
     "metadata": {},
     "output_type": "display_data"
    }
   ],
   "source": [
    "plt.plot(np.arange(1000),avg_avg_rewards[0], color ='r')\n",
    "plt.plot(np.arange(1000),avg_avg_rewards[1], color = 'g')\n",
    "plt.plot(np.arange(1000),avg_avg_rewards[2], color = 'b')\n"
   ]
  },
  {
   "cell_type": "code",
   "execution_count": 113,
   "metadata": {},
   "outputs": [
    {
     "data": {
      "text/plain": [
       "[<matplotlib.lines.Line2D at 0x1bac00612e8>]"
      ]
     },
     "execution_count": 113,
     "metadata": {},
     "output_type": "execute_result"
    },
    {
     "data": {
      "image/png": "[encoded data removed]",
      "text/plain": [
       "<matplotlib.figure.Figure at 0x1babff91940>"
      ]
     },
     "metadata": {},
     "output_type": "display_data"
    }
   ],
   "source": [
    "plt.plot(np.arange(1000),avg_cns[0]/np.arange(1,1001), color ='r')\n",
    "plt.plot(np.arange(1000),avg_cns[1]/np.arange(1,1001), color = 'g')\n",
    "plt.plot(np.arange(1000),avg_cns[2]/np.arange(1,1001), color = 'b')"
   ]
  },
  {
   "cell_type": "code",
   "execution_count": 92,
   "metadata": {},
   "outputs": [
    {
     "data": {
      "text/plain": [
       "array([[-0.39783371, -1.12593155, -1.98856583, -1.20557544,  0.03525123,\n",
       "         0.32511122,  2.72542677,  1.18867912, -0.81343881,  2.6791546 ],\n",
       "       [ 1.80778576, -1.66796189,  0.39943735,  0.0744907 ,  0.02816629,\n",
       "         2.46286334,  0.66194674,  0.86717812, -0.13513382, -0.13935182],\n",
       "       [ 0.43480839, -1.21007101,  0.57837772, -0.10221819, -0.39313696,\n",
       "         1.39522989,  0.92052636, -0.41080767, -0.41763138,  0.5765782 ]])"
      ]
     },
     "execution_count": 92,
     "metadata": {},
     "output_type": "execute_result"
    }
   ],
   "source": [
    "means[:3]"
   ]
  },
  {
   "cell_type": "code",
   "execution_count": 99,
   "metadata": {
    "collapsed": true
   },
   "outputs": [],
   "source": [
    "argmaxs = np.argwhere([1,1,2] == np.amax([1,1,2]))"
   ]
  },
  {
   "cell_type": "code",
   "execution_count": 100,
   "metadata": {},
   "outputs": [
    {
     "data": {
      "text/plain": [
       "array([[2]], dtype=int64)"
      ]
     },
     "execution_count": 100,
     "metadata": {},
     "output_type": "execute_result"
    }
   ],
   "source": [
    "argmaxs"
   ]
  },
  {
   "cell_type": "code",
   "execution_count": 102,
   "metadata": {},
   "outputs": [
    {
     "data": {
      "text/plain": [
       "array([0, 3, 5], dtype=int64)"
      ]
     },
     "execution_count": 102,
     "metadata": {},
     "output_type": "execute_result"
    }
   ],
   "source": [
    "l = [7, 6, 5, 7, 6, 7, 6, 6, 6, 4, 5, 6]\n",
    "np.argwhere(l == np.max(l)).flatten()"
   ]
  },
  {
   "cell_type": "code",
   "execution_count": null,
   "metadata": {
    "collapsed": true
   },
   "outputs": [],
   "source": []
  }
 ],
 "metadata": {
  "kernelspec": {
   "display_name": "Python 3",
   "language": "python",
   "name": "python3"
  },
  "language_info": {
   "codemirror_mode": {
    "name": "ipython",
    "version": 3
   },
   "file_extension": ".py",
   "mimetype": "text/x-python",
   "name": "python",
   "nbconvert_exporter": "python",
   "pygments_lexer": "ipython3",
   "version": "3.6.2"
  }
 },
 "nbformat": 4,
 "nbformat_minor": 2
}
