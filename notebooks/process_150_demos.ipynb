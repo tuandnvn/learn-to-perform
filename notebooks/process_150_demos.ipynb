{
 "cells": [
  {
   "cell_type": "markdown",
   "metadata": {},
   "source": [
    "### Process 150 demonstrations from dat file to JSON"
   ]
  },
  {
   "cell_type": "code",
   "execution_count": 4,
   "metadata": {
    "collapsed": true
   },
   "outputs": [],
   "source": [
    "import os\n",
    "import sys\n",
    "import pickle\n",
    "\n",
    "module_path = os.path.abspath(os.path.join('..'))\n",
    "if module_path not in sys.path:\n",
    "    sys.path.append(module_path)"
   ]
  },
  {
   "cell_type": "code",
   "execution_count": 32,
   "metadata": {
    "collapsed": true
   },
   "outputs": [],
   "source": [
    "name_to_folder = {\n",
    "    'Around' : 'SlideAroundDiscrete',\n",
    "    'Closer' : 'SlideToward',\n",
    "    'Next' : 'SlideNext',\n",
    "    'Past' : 'SlidePast',\n",
    "    'Away' : 'SlideAway',\n",
    "}\n",
    "\n",
    "json_structure = {}\n",
    "\n",
    "\n",
    "for action in name_to_folder:\n",
    "    json_structure[action] = []\n",
    "    \n",
    "    prefix = os.path.join( \"..\", \"experiments\", \n",
    "                          \"human_evaluation_2d\", \n",
    "                          name_to_folder[action])\n",
    "\n",
    "    for index in range(30):\n",
    "        one_demo = {}\n",
    "        stored_config_file = os.path.join(prefix, str(index) + \".dat\")\n",
    "        with open(stored_config_file, 'rb') as fh:\n",
    "            # need this encoding \n",
    "            stored_config = pickle.load(fh, encoding='latin-1')\n",
    "    \n",
    "        one_demo ['start_config']  = [list(cube.transform.position.flatten()) for cube in stored_config['start_config'] ]\n",
    "        \n",
    "        one_demo ['action_storage'] = []\n",
    "        \n",
    "        for _, _, next_transform, _, _, success, _, _ in stored_config['action_storage']:\n",
    "            if success:\n",
    "                t = list(next_transform.position.flatten())\n",
    "                if len(one_demo ['action_storage']) == 0 or \\\n",
    "                        (len(one_demo ['action_storage']) > 0 and one_demo ['action_storage'][-1] != t):\n",
    "                    one_demo ['action_storage'].append( t )\n",
    "        \n",
    "        json_structure[action].append(one_demo)"
   ]
  },
  {
   "cell_type": "code",
   "execution_count": 27,
   "metadata": {
    "collapsed": true
   },
   "outputs": [],
   "source": [
    "import json"
   ]
  },
  {
   "cell_type": "code",
   "execution_count": 33,
   "metadata": {
    "collapsed": true
   },
   "outputs": [],
   "source": [
    "with open('all_demos.json', 'w') as fh:\n",
    "    json.dump(json_structure, fh)"
   ]
  },
  {
   "cell_type": "code",
   "execution_count": 35,
   "metadata": {},
   "outputs": [
    {
     "data": {
      "text/plain": [
       "array([121,  82,  91,  46,  21,   2,  94,  13,  78,  74,  64,  93,  76,\n",
       "        49,  66, 113, 126, 132,   3, 100,  68,  20, 115,  99, 124, 102,\n",
       "        83,  34, 109,  10,  25,  58,  96,  90, 144,  26,  32,  22,  24,\n",
       "       131,  88,  97,  38,  31,  87, 134,  54,  17, 122,  40,  50,  61,\n",
       "        42,  36, 123,  51,  56,  44,   4,   5,  15, 125, 106,  95, 143,\n",
       "       147,  79, 139, 130,  60, 112, 116, 133,  35, 137,   8,  80,  84,\n",
       "       105, 118,  62,  39,  85,  63, 117,  72,  14,  92,  71,  43, 140,\n",
       "        67,  12,  69,  11, 110, 108, 145,  57, 114, 138, 127, 128,  65,\n",
       "        52, 141,  81,  86,  53, 136,  75,  55,  47, 129, 120,  41,   0,\n",
       "        73,   9, 104,  89,  28,   1,  16, 148,  29,  77, 149,  18, 111,\n",
       "        59,  37, 101,  33, 119,  19,  23,  45, 107,   6,  30,  70, 142,\n",
       "         7,  27, 135, 146,  98, 103,  48])"
      ]
     },
     "execution_count": 35,
     "metadata": {},
     "output_type": "execute_result"
    }
   ],
   "source": [
    "import numpy as np\n",
    "np.random.permutation(150)"
   ]
  },
  {
   "cell_type": "code",
   "execution_count": 36,
   "metadata": {
    "collapsed": true
   },
   "outputs": [],
   "source": [
    "permutation = [121,  82,  91,  46,  21,   2,  94,  13,  78,  74,  64,  93,  76,\n",
    "        49,  66, 113, 126, 132,   3, 100,  68,  20, 115,  99, 124, 102,\n",
    "        83,  34, 109,  10,  25,  58,  96,  90, 144,  26,  32,  22,  24,\n",
    "       131,  88,  97,  38,  31,  87, 134,  54,  17, 122,  40,  50,  61,\n",
    "        42,  36, 123,  51,  56,  44,   4,   5,  15, 125, 106,  95, 143,\n",
    "       147,  79, 139, 130,  60, 112, 116, 133,  35, 137,   8,  80,  84,\n",
    "       105, 118,  62,  39,  85,  63, 117,  72,  14,  92,  71,  43, 140,\n",
    "        67,  12,  69,  11, 110, 108, 145,  57, 114, 138, 127, 128,  65,\n",
    "        52, 141,  81,  86,  53, 136,  75,  55,  47, 129, 120,  41,   0,\n",
    "        73,   9, 104,  89,  28,   1,  16, 148,  29,  77, 149,  18, 111,\n",
    "        59,  37, 101,  33, 119,  19,  23,  45, 107,   6,  30,  70, 142,\n",
    "         7,  27, 135, 146,  98, 103,  48]"
   ]
  },
  {
   "cell_type": "code",
   "execution_count": 53,
   "metadata": {
    "collapsed": true
   },
   "outputs": [],
   "source": [
    "def oracle ( loop_index ):\n",
    "    '''\n",
    "    Return the correct label for a loop_index, which is a permutated from the true_index\n",
    "    '''\n",
    "    true_index = permutation[loop_index]\n",
    "    \n",
    "    t = true_index // 30\n",
    "    \n",
    "    return t"
   ]
  },
  {
   "cell_type": "code",
   "execution_count": 39,
   "metadata": {
    "collapsed": true
   },
   "outputs": [],
   "source": [
    "import matplotlib.pyplot as plt\n",
    "%matplotlib inline"
   ]
  },
  {
   "cell_type": "code",
   "execution_count": 40,
   "metadata": {
    "collapsed": true
   },
   "outputs": [],
   "source": [
    "bitmap = np.zeros((6,5))"
   ]
  },
  {
   "cell_type": "code",
   "execution_count": 45,
   "metadata": {
    "collapsed": true
   },
   "outputs": [],
   "source": [
    "answer_code = ['Away', 'Closer', 'Past', 'Around', 'Next', 'None']\n",
    "answer_map = dict((v, k) for k, v in enumerate(answer_code) )"
   ]
  },
  {
   "cell_type": "code",
   "execution_count": 51,
   "metadata": {},
   "outputs": [
    {
     "data": {
      "text/plain": [
       "{'Around': 3, 'Away': 0, 'Closer': 1, 'Next': 4, 'None': 5, 'Past': 2}"
      ]
     },
     "execution_count": 51,
     "metadata": {},
     "output_type": "execute_result"
    }
   ],
   "source": [
    "answer_map"
   ]
  },
  {
   "cell_type": "code",
   "execution_count": 54,
   "metadata": {},
   "outputs": [],
   "source": [
    "import os\n",
    "import glob\n",
    "\n",
    "path = os.path.join('..', '3D scenes', 'answers', 'answers_*.txt')\n",
    "\n",
    "for file_name in glob.glob(path):\n",
    "    with open(file_name, 'r') as fh:\n",
    "        data = json.load(fh)\n",
    "        \n",
    "        #print (data)\n",
    "        \n",
    "        for loop_index in range(150):\n",
    "            true_y = oracle(loop_index) # from 0 to 4\n",
    "            answer_y = answer_map[data[str(loop_index)]] # from 0 to 5\n",
    "            \n",
    "            bitmap[answer_y, true_y] += 1"
   ]
  },
  {
   "cell_type": "code",
   "execution_count": 55,
   "metadata": {},
   "outputs": [
    {
     "data": {
      "text/plain": [
       "array([[ 68.,   0.,   8.,   0.,   0.],\n",
       "       [  0.,  92.,   1.,   0.,  51.],\n",
       "       [ 29.,   0.,  78.,   9.,   9.],\n",
       "       [  0.,   1.,  17.,  94.,   4.],\n",
       "       [  0.,  26.,   1.,   1.,  40.],\n",
       "       [ 23.,   3.,  15.,  16.,  16.]])"
      ]
     },
     "execution_count": 55,
     "metadata": {},
     "output_type": "execute_result"
    }
   ],
   "source": [
    "bitmap"
   ]
  },
  {
   "cell_type": "code",
   "execution_count": 41,
   "metadata": {},
   "outputs": [
    {
     "ename": "NameError",
     "evalue": "name 'rs' is not defined",
     "output_type": "error",
     "traceback": [
      "\u001b[1;31m---------------------------------------------------------------------------\u001b[0m",
      "\u001b[1;31mNameError\u001b[0m                                 Traceback (most recent call last)",
      "\u001b[1;32m<ipython-input-41-24f1e006103b>\u001b[0m in \u001b[0;36m<module>\u001b[1;34m()\u001b[0m\n\u001b[0;32m      2\u001b[0m \u001b[1;33m\u001b[0m\u001b[0m\n\u001b[0;32m      3\u001b[0m ax.imshow(bitmap, cmap='hot_r', interpolation='nearest', \n\u001b[1;32m----> 4\u001b[1;33m           extent=[rs[0] - 0.1, rs[-1] + 0.1, rs[0] - 0.1, rs[-1] + 0.1])\n\u001b[0m\u001b[0;32m      5\u001b[0m \u001b[1;31m# ax.set_xlim(rs[0], rs[-1])\u001b[0m\u001b[1;33m\u001b[0m\u001b[1;33m\u001b[0m\u001b[0m\n\u001b[0;32m      6\u001b[0m \u001b[1;31m# ax.set_xticks(rs)\u001b[0m\u001b[1;33m\u001b[0m\u001b[1;33m\u001b[0m\u001b[0m\n",
      "\u001b[1;31mNameError\u001b[0m: name 'rs' is not defined"
     ]
    },
    {
     "data": {
      "image/png": "[encoded data removed]",
      "text/plain": [
       "<matplotlib.figure.Figure at 0x1b9f541d6d8>"
      ]
     },
     "metadata": {},
     "output_type": "display_data"
    }
   ],
   "source": [
    "fig, ax = plt.subplots(figsize=(6,5))\n",
    "\n",
    "ax.imshow(bitmap, cmap='hot_r', interpolation='nearest', \n",
    "          extent=[rs[0] - 0.1, rs[-1] + 0.1, rs[0] - 0.1, rs[-1] + 0.1])\n",
    "# ax.set_xlim(rs[0], rs[-1])\n",
    "# ax.set_xticks(rs)\n",
    "# ax.set_ylim(rs[0], rs[-1])\n",
    "# ax.set_yticks(rs)\n",
    "plt.show()"
   ]
  },
  {
   "cell_type": "code",
   "execution_count": 64,
   "metadata": {
    "collapsed": true
   },
   "outputs": [],
   "source": [
    "import itertools\n",
    "import numpy as np\n",
    "\n",
    "def plot_confusion_matrix(cm, x_classes, y_classes,\n",
    "                          normalize=False,\n",
    "                          title='Confusion matrix',\n",
    "                          cmap=plt.cm.Blues):\n",
    "    \"\"\"\n",
    "    This function prints and plots the confusion matrix.\n",
    "    Normalization can be applied by setting `normalize=True`.\n",
    "    \"\"\"\n",
    "    if normalize:\n",
    "        cm = cm.astype('float') / cm.sum(axis=1)[:, np.newaxis]\n",
    "        print(\"Normalized confusion matrix\")\n",
    "    else:\n",
    "        print('Confusion matrix, without normalization')\n",
    "\n",
    "    print(cm)\n",
    "\n",
    "    plt.imshow(cm, interpolation='nearest', cmap=cmap)\n",
    "    plt.title(title)\n",
    "    plt.colorbar()\n",
    "\n",
    "    plt.xticks(np.arange(len(x_classes)), x_classes, rotation=45)\n",
    "    plt.yticks(np.arange(len(y_classes)), y_classes)\n",
    "\n",
    "    fmt = '.2f' if normalize else 'd'\n",
    "    thresh = cm.max() / 2.\n",
    "    for i, j in itertools.product(range(cm.shape[0]), range(cm.shape[1])):\n",
    "        plt.text(j, i, format(cm[i, j], fmt),\n",
    "                 horizontalalignment=\"center\",\n",
    "                 color=\"white\" if cm[i, j] > thresh else \"black\")\n",
    "\n",
    "    plt.tight_layout()\n",
    "    plt.ylabel('True label')\n",
    "    plt.xlabel('Given label')"
   ]
  },
  {
   "cell_type": "code",
   "execution_count": 67,
   "metadata": {},
   "outputs": [
    {
     "name": "stdout",
     "output_type": "stream",
     "text": [
      "Normalized confusion matrix\n",
      "[[ 0.56666667  0.          0.24166667  0.          0.          0.19166667]\n",
      " [ 0.          0.75409836  0.          0.00819672  0.21311475  0.02459016]\n",
      " [ 0.06666667  0.00833333  0.65        0.14166667  0.00833333  0.125     ]\n",
      " [ 0.          0.          0.075       0.78333333  0.00833333  0.13333333]\n",
      " [ 0.          0.425       0.075       0.03333333  0.33333333  0.13333333]]\n"
     ]
    },
    {
     "data": {
      "image/png": "[encoded data removed]",
      "text/plain": [
       "<matplotlib.figure.Figure at 0x1b9f6a1a780>"
      ]
     },
     "metadata": {},
     "output_type": "display_data"
    }
   ],
   "source": [
    "plot_confusion_matrix ( bitmap.T,\n",
    "                       ['Away', 'Closer', 'Past', 'Around', 'Next', 'None'], \n",
    "                       ['Away', 'Closer', 'Past', 'Around', 'Next'], normalize = True)"
   ]
  },
  {
   "cell_type": "code",
   "execution_count": null,
   "metadata": {
    "collapsed": true
   },
   "outputs": [],
   "source": []
  }
 ],
 "metadata": {
  "kernelspec": {
   "display_name": "Python 3",
   "language": "python",
   "name": "python3"
  },
  "language_info": {
   "codemirror_mode": {
    "name": "ipython",
    "version": 3
   },
   "file_extension": ".py",
   "mimetype": "text/x-python",
   "name": "python",
   "nbconvert_exporter": "python",
   "pygments_lexer": "ipython3",
   "version": "3.5.4"
  }
 },
 "nbformat": 4,
 "nbformat_minor": 2
}
