{
 "cells": [
  {
   "cell_type": "code",
   "execution_count": 322,
   "metadata": {},
   "outputs": [],
   "source": [
    "from random import random\n",
    "from random import randint\n",
    "from random import choice\n",
    "from numpy import array\n",
    "from numpy import zeros\n",
    "import numpy as np\n",
    "from keras.preprocessing.sequence import pad_sequences"
   ]
  },
  {
   "cell_type": "code",
   "execution_count": 80,
   "metadata": {},
   "outputs": [],
   "source": [
    "def check_in_frame ( size, pos ):\n",
    "    \"\"\"\n",
    "    Allow space around the shape\n",
    "    \"\"\"\n",
    "    if 0 <= pos[0] < size and  0 <= pos[1] < size:\n",
    "        return True\n",
    "    return False\n",
    "\n",
    "def check_in_frame_with_space ( size, pos ):\n",
    "    \"\"\"\n",
    "    Allow space around the shape\n",
    "    \"\"\"\n",
    "    if 1 <= pos[0] < size - 1 and  1 <= pos[1] < size - 1:\n",
    "        return True\n",
    "    return False\n",
    "\n",
    "def generate_u_shape ( frame, bottom, left, right, direction, position ):\n",
    "    \"\"\"\n",
    "    Impose an U shape structure on the frame, position is where you start it (top-left corner of rectangle)\n",
    "    \n",
    "    This is an U-shape with bottom = 4, left = 4, right = 3, direction = 0\n",
    "    S\n",
    "    o x x o\n",
    "    o x x o\n",
    "    o o o o\n",
    "    \n",
    "    S o o o \n",
    "    o x x \n",
    "    o x x \n",
    "    o o o\n",
    "    \n",
    "    S o o o\n",
    "    o x x o\n",
    "    o x x o\n",
    "    o \n",
    "    \n",
    "    # Let consider this case in a later phase\n",
    "    This is an U-shape with bottom = 4, left = 4, right = 3, direction = 1\n",
    "    \n",
    "            o\n",
    "          o\n",
    "        o x\n",
    "      o x x x\n",
    "        o x x x o\n",
    "          o x o\n",
    "            o\n",
    "    We can start with even direction first ( 0 (North), 2 (East), 4 (South), 6(West) )\n",
    "    The positions marked with x are the positions that are considered inside the U-shape\n",
    "    \n",
    "    This function returns whether imposition successes, and frame would be imposed with the U-shape\n",
    "    \n",
    "    Parameters:\n",
    "    =====================\n",
    "    frame: squared frame\n",
    "    bottom: integer value\n",
    "    left: integer value\n",
    "    right: integer value\n",
    "    direction: \n",
    "    position: tuple of 2\n",
    "    \n",
    "    Returns:\n",
    "    =====================\n",
    "    - success: whether imposition successes or not\n",
    "    - inside_points: list of points inside the shape (x)\n",
    "    \n",
    "    \"\"\"\n",
    "    size = frame.shape[0]\n",
    "    \n",
    "    if direction == 0 or direction == 4:\n",
    "        other_corner = ( position[0] + max(left, right) - 1, position[1] + bottom - 1 )\n",
    "        \n",
    "    if direction == 2 or direction == 6:\n",
    "        other_corner = ( position[0] + bottom - 1, position[1] + max(left, right) - 1 )\n",
    "\n",
    "    if not check_in_frame_with_space ( size, position) or not check_in_frame_with_space ( size, other_corner ):\n",
    "        return False, ( [], [] )\n",
    "    \n",
    "    # Let's create one U-shape that has a direction == 0, than we rotate it\n",
    "    inner_shape = np.zeros((max(left, right), bottom))\n",
    "    # Left side\n",
    "    for i in range (max(left, right)):\n",
    "        inner_shape[i,0] = 1\n",
    "    \n",
    "    # Right side\n",
    "    for i in range (max(left, right) - min(left, right), max(left, right)):\n",
    "        inner_shape[i,bottom - 1] = 1\n",
    "    \n",
    "    # Bottom side\n",
    "    for i in range (bottom):\n",
    "        inner_shape[max(left, right) - 1,i] = 1\n",
    "        \n",
    "    for i in range(max(left, right) - min(left, right), max(left, right) - 1):\n",
    "        for j in range(1, bottom - 1):\n",
    "            inner_shape[i,j] = 2\n",
    "    \n",
    "    rotated_shape = np.rot90 ( inner_shape, -direction // 2 )\n",
    "    \n",
    "    \n",
    "    frame[ position[0] : position[0] + rotated_shape.shape[0], \n",
    "          position[1] : position[1] + rotated_shape.shape[1] ] = rotated_shape\n",
    "    \n",
    "    inside_points = np.where(frame == 2)\n",
    "    \n",
    "    frame[frame == 2] = 0\n",
    "    \n",
    "    return True, inside_points\n"
   ]
  },
  {
   "cell_type": "code",
   "execution_count": 66,
   "metadata": {},
   "outputs": [],
   "source": [
    "def check_in_range (value, bottom, left, right, direction, position ):\n",
    "    \"\"\"\n",
    "    bottom, left, right, direction, position is the parameters of U-shape\n",
    "    \n",
    "    value is a coordinates (x, y)\n",
    "    \"\"\"\n",
    "    if direction == 0 or direction == 4:\n",
    "        if position[0] <= value[0] <= position[0] + max(left, right) and position[1] <= value[1] <= position[1] + bottom:\n",
    "            return True\n",
    "    \n",
    "    if direction == 2 or direction == 6:\n",
    "        if position[0] <= value[0] <= position[0] + bottom and position[1] <= value[1] <= position[1] +  max(left, right):\n",
    "            return True\n",
    "    \n",
    "    return False"
   ]
  },
  {
   "cell_type": "code",
   "execution_count": 55,
   "metadata": {},
   "outputs": [
    {
     "data": {
      "text/plain": [
       "(array([0, 0, 0, 1, 1, 1], dtype=int64),\n",
       " array([0, 1, 2, 0, 1, 2], dtype=int64))"
      ]
     },
     "execution_count": 55,
     "metadata": {},
     "output_type": "execute_result"
    }
   ],
   "source": [
    "a = np.ones((2,3))\n",
    "np.where(a == 1)"
   ]
  },
  {
   "cell_type": "code",
   "execution_count": 58,
   "metadata": {},
   "outputs": [
    {
     "data": {
      "text/plain": [
       "(True, (array([6, 6, 7, 7], dtype=int64), array([5, 6, 5, 6], dtype=int64)))"
      ]
     },
     "execution_count": 58,
     "metadata": {},
     "output_type": "execute_result"
    }
   ],
   "source": [
    "f = zeros ((10, 10))\n",
    "generate_u_shape (f , 4, 4, 3, 4, (5,4) )"
   ]
  },
  {
   "cell_type": "code",
   "execution_count": 59,
   "metadata": {},
   "outputs": [
    {
     "data": {
      "text/plain": [
       "array([[0., 0., 0., 0., 0., 0., 0., 0., 0., 0.],\n",
       "       [0., 0., 0., 0., 0., 0., 0., 0., 0., 0.],\n",
       "       [0., 0., 0., 0., 0., 0., 0., 0., 0., 0.],\n",
       "       [0., 0., 0., 0., 0., 0., 0., 0., 0., 0.],\n",
       "       [0., 0., 0., 0., 0., 0., 0., 0., 0., 0.],\n",
       "       [0., 0., 0., 0., 1., 1., 1., 1., 0., 0.],\n",
       "       [0., 0., 0., 0., 1., 0., 0., 1., 0., 0.],\n",
       "       [0., 0., 0., 0., 1., 0., 0., 1., 0., 0.],\n",
       "       [0., 0., 0., 0., 0., 0., 0., 1., 0., 0.],\n",
       "       [0., 0., 0., 0., 0., 0., 0., 0., 0., 0.]])"
      ]
     },
     "execution_count": 59,
     "metadata": {},
     "output_type": "execute_result"
    }
   ],
   "source": [
    "f"
   ]
  },
  {
   "cell_type": "code",
   "execution_count": 380,
   "metadata": {},
   "outputs": [],
   "source": [
    "def generate_u_shape_frame ( size, bottom_range = list(range(3,5)), \n",
    "                  left_range = list(range(3,5)), right_range = list(range(3,5)), \n",
    "                  direction_range = list(range(0,8,2)) ):\n",
    "    frame = zeros((size,size))\n",
    "    \n",
    "    # You random a value in those range to add into the frame\n",
    "    # You also\n",
    "    bottom = choice(bottom_range)\n",
    "    left = choice(left_range)\n",
    "    right = choice(right_range)\n",
    "    direction = choice(direction_range)\n",
    "    while True:\n",
    "        position_x = randint ( 0, size - 1 )\n",
    "        position_y = randint ( 0, size - 1 )\n",
    "        position = (position_x, position_y)\n",
    "\n",
    "        success, inner_list = generate_u_shape  ( frame, bottom, left, right, direction, position )\n",
    "        \n",
    "        if success : \n",
    "            break\n",
    "    \n",
    "    # Random outer position for moving point\n",
    "    while True:\n",
    "        pos_start_x = randint ( 0, size - 1 )\n",
    "        pos_start_y = randint ( 0, size - 1 )\n",
    "        \n",
    "        pos_start = (pos_start_x, pos_start_y)\n",
    "        \n",
    "        # Just need to be out of the rectangle\n",
    "        if check_in_range ( pos_start, bottom, left, right, direction, position ):\n",
    "            continue\n",
    "            \n",
    "        break\n",
    "    \n",
    "    # Random inner position for moving point\n",
    "    index = randint ( 0, len(inner_list[0]) - 1 )\n",
    "    pos_end = (inner_list[0][index], inner_list[1][index])\n",
    "    \n",
    "    return frame, pos_start, pos_end"
   ]
  },
  {
   "cell_type": "code",
   "execution_count": 381,
   "metadata": {},
   "outputs": [],
   "source": [
    "frame, pos_start, pos_end = generate_u_shape_frame ( 10 )"
   ]
  },
  {
   "cell_type": "code",
   "execution_count": 382,
   "metadata": {},
   "outputs": [
    {
     "data": {
      "text/plain": [
       "array([[0., 0., 0., 0., 0., 0., 0., 0., 0., 0.],\n",
       "       [0., 0., 0., 0., 0., 0., 0., 0., 0., 0.],\n",
       "       [0., 0., 0., 0., 0., 0., 0., 0., 0., 0.],\n",
       "       [0., 0., 0., 0., 0., 0., 0., 0., 0., 0.],\n",
       "       [0., 0., 0., 0., 0., 0., 0., 0., 0., 0.],\n",
       "       [0., 0., 0., 0., 1., 1., 1., 0., 0., 0.],\n",
       "       [0., 0., 0., 0., 0., 0., 1., 0., 0., 0.],\n",
       "       [0., 0., 0., 0., 0., 0., 1., 0., 0., 0.],\n",
       "       [0., 0., 0., 0., 1., 1., 1., 0., 0., 0.],\n",
       "       [0., 0., 0., 0., 0., 0., 0., 0., 0., 0.]])"
      ]
     },
     "execution_count": 382,
     "metadata": {},
     "output_type": "execute_result"
    }
   ],
   "source": [
    "frame"
   ]
  },
  {
   "cell_type": "code",
   "execution_count": 131,
   "metadata": {},
   "outputs": [
    {
     "data": {
      "text/plain": [
       "(7, 9)"
      ]
     },
     "execution_count": 131,
     "metadata": {},
     "output_type": "execute_result"
    }
   ],
   "source": [
    "pos_start"
   ]
  },
  {
   "cell_type": "code",
   "execution_count": 135,
   "metadata": {},
   "outputs": [
    {
     "data": {
      "text/plain": [
       "(4, 4)"
      ]
     },
     "execution_count": 135,
     "metadata": {},
     "output_type": "execute_result"
    }
   ],
   "source": [
    "pos_end"
   ]
  },
  {
   "cell_type": "code",
   "execution_count": 138,
   "metadata": {},
   "outputs": [],
   "source": [
    "def get_neighbors ( size, pos ):\n",
    "    neighbors = []\n",
    "    for i in range(-1, 2):\n",
    "        for j in range(-1, 2):\n",
    "            if (i == 0 or j == 0) and not i == j == 0:\n",
    "                new_pos = (pos[0] + i, pos[1] + j)\n",
    "                if check_in_frame ( size, new_pos ):\n",
    "                    neighbors.append(new_pos)\n",
    "    return neighbors\n",
    "    \n",
    "\n",
    "def generate_path ( frame, pos_start, pos_end ):\n",
    "    size = frame.shape[0]\n",
    "    # Keep track of the previous cell that has been expanded to\n",
    "    parent = {}\n",
    "    \n",
    "    ### There is nothing too difficult here, we run overflow algorithm to cover the space\n",
    "    f = frame.copy()\n",
    "    f[pos_start] = 2\n",
    "    f[pos_end] = 3\n",
    "    \n",
    "    explore_list = [ pos_start ]\n",
    "    \n",
    "    def search ( l ):\n",
    "        while l:\n",
    "            # Get the shortest path to the pos_end\n",
    "            new_explore_list = []\n",
    "\n",
    "            for pos in l:\n",
    "                for n in get_neighbors( size, pos ):\n",
    "                    if f[n] == 3:\n",
    "                        # Found\n",
    "                        parent[n] = pos\n",
    "                        return\n",
    "                    if f[n] == 0:\n",
    "                        # Add into new list\n",
    "                        new_explore_list.append(n)\n",
    "                        parent[n] = pos\n",
    "                        # 4 is marked\n",
    "                        f[n] = 4\n",
    "            l = new_explore_list\n",
    "        \n",
    "    \n",
    "    search ( explore_list )\n",
    "    cur = pos_end\n",
    "    \n",
    "    path = []\n",
    "    while cur in parent:\n",
    "        path.append(cur)\n",
    "        cur = parent[cur]\n",
    "    \n",
    "    path.append(cur)\n",
    "    return path[::-1]"
   ]
  },
  {
   "cell_type": "code",
   "execution_count": 139,
   "metadata": {},
   "outputs": [
    {
     "data": {
      "text/plain": [
       "[(7, 9), (6, 9), (5, 9), (4, 9), (4, 8), (4, 7), (4, 6), (4, 5), (4, 4)]"
      ]
     },
     "execution_count": 139,
     "metadata": {},
     "output_type": "execute_result"
    }
   ],
   "source": [
    "generate_path ( frame, pos_start, pos_end )"
   ]
  },
  {
   "cell_type": "code",
   "execution_count": 349,
   "metadata": {},
   "outputs": [],
   "source": [
    "def build_frames(size, env_generator ):\n",
    "    frames = list()\n",
    "    # create the first frame\n",
    "    frame, pos_start, pos_end = env_generator ( size )\n",
    "    \n",
    "    # If it is enter (enter = 1): start with pos_start, end with pos_end\n",
    "    # If it is exit (exit = 1): start with pos_end, end with pos_start\n",
    "    r = random()\n",
    "    print (r)\n",
    "    enter = 1 if r < 0.5 else 0\n",
    "    \n",
    "    if enter == 0:\n",
    "        pos_start, pos_end = (pos_end, pos_start)\n",
    "        \n",
    "    path = generate_path ( frame, pos_start, pos_end )\n",
    "    \n",
    "    for step in path:\n",
    "        f = frame.copy()\n",
    "        f[step] = 1\n",
    "        frames.append(f)\n",
    "        \n",
    "    return frames, enter"
   ]
  },
  {
   "cell_type": "code",
   "execution_count": 160,
   "metadata": {},
   "outputs": [],
   "source": [
    "from matplotlib import pyplot"
   ]
  },
  {
   "cell_type": "code",
   "execution_count": 383,
   "metadata": {},
   "outputs": [
    {
     "name": "stdout",
     "output_type": "stream",
     "text": [
      "0.43449652360631996\n",
      "Enter\n",
      "15\n"
     ]
    },
    {
     "data": {
      "image/png": "[encoded data removed]",
      "text/plain": [
       "<matplotlib.figure.Figure at 0x1d6e102a320>"
      ]
     },
     "metadata": {},
     "output_type": "display_data"
    }
   ],
   "source": [
    "size = 12\n",
    "frames, enter = build_frames(size, lambda size: generate_u_shape_frame(size, bottom_range = list(range(3,6)), \n",
    "                  left_range = list(range(3,6)), right_range = list(range(3,6)) ))\n",
    "if enter == 1:\n",
    "    print ('Enter')\n",
    "else:\n",
    "    print ('Exit')\n",
    "    \n",
    "print (len(frames))\n",
    "# plot all frames\n",
    "pyplot.figure()\n",
    "for i in range(len(frames)):\n",
    "    # create a gray scale subplot for each frame\n",
    "    pyplot.subplot(1, len(frames), i + 1)\n",
    "    pyplot.imshow(frames[i], cmap='Greys')\n",
    "    # turn of the scale to make it clearer\n",
    "    ax = pyplot.gca()\n",
    "    ax.get_xaxis().set_visible(False)\n",
    "    ax.get_yaxis().set_visible(False)\n",
    "# show the plot\n",
    "pyplot.show()"
   ]
  },
  {
   "cell_type": "code",
   "execution_count": 525,
   "metadata": {},
   "outputs": [],
   "source": [
    "def build_frames_pad(size, length, env_generator, padding_start = False ):\n",
    "    \"\"\"\n",
    "    Limit the length of the session, or adding cloned frame if needed\n",
    "    \"\"\"\n",
    "    frames = list()\n",
    "    # create the first frame\n",
    "    frame, pos_start, pos_end = env_generator ( size )\n",
    "    if frame is None:\n",
    "        return None, None\n",
    "    \n",
    "    # If it is enter (enter = 1): start with pos_start, end with pos_end\n",
    "    # If it is exit (exit = 1): start with pos_end, end with pos_start\n",
    "    r = random()\n",
    "    enter = 1 if r < 0.5 else 0\n",
    "    \n",
    "    if enter == 0:\n",
    "        pos_start, pos_end = (pos_end, pos_start)\n",
    "        \n",
    "    path = generate_path ( frame, pos_start, pos_end )\n",
    "    \n",
    "    for step in path:\n",
    "        f = frame.copy()\n",
    "        f[step] = 1\n",
    "        frames.append(f)\n",
    "        \n",
    "    if len(frames) > length:\n",
    "        \"\"\"\n",
    "        Randomly drop some frames, just not the first and last ones\n",
    "        \"\"\"\n",
    "        while len(frames) > length:\n",
    "            drop_index = randint(1, len(frames) - 2)\n",
    "            frames.pop(drop_index)\n",
    "    \n",
    "    if len(frames) < length:\n",
    "        if padding_start:\n",
    "            frames = [frames[0]] * (length - len(frames)) + frames\n",
    "        else:\n",
    "            frames = frames + [frames[-1]] * (length - len(frames))\n",
    "        \n",
    "        \n",
    "    return frames, enter"
   ]
  },
  {
   "cell_type": "code",
   "execution_count": 384,
   "metadata": {},
   "outputs": [],
   "source": [
    "frames, enter = build_frames_pad(size, 10, lambda size: generate_u_shape_frame(size, bottom_range = list(range(3,6)), \n",
    "                  left_range = list(range(3,6)), right_range = list(range(3,6)) ))"
   ]
  },
  {
   "cell_type": "code",
   "execution_count": 357,
   "metadata": {},
   "outputs": [
    {
     "name": "stdout",
     "output_type": "stream",
     "text": [
      "10\n"
     ]
    }
   ],
   "source": [
    "print (len(frames))"
   ]
  },
  {
   "cell_type": "code",
   "execution_count": 422,
   "metadata": {},
   "outputs": [],
   "source": [
    "def plot( sample ):\n",
    "    sample = array(sample)\n",
    "    sample = sample.reshape(sample.shape[0], sample.shape[1], sample.shape[2], 1)\n",
    "    pyplot.figure()\n",
    "    for i in range(len(sample)):\n",
    "        # create a gray scale subplot for each frame\n",
    "        pyplot.subplot(1, len(sample), i + 1)\n",
    "        pyplot.imshow(sample[i,:,:,0], cmap='Greys')\n",
    "        # turn of the scale to make it clearer\n",
    "        ax = pyplot.gca()\n",
    "        ax.get_xaxis().set_visible(False)\n",
    "        ax.get_yaxis().set_visible(False)\n",
    "    # show the plot\n",
    "    pyplot.show()"
   ]
  },
  {
   "cell_type": "code",
   "execution_count": 528,
   "metadata": {},
   "outputs": [],
   "source": [
    "# generate multiple sequences of frames and reshape for network input\n",
    "def generate_examples(size, length, n_patterns, env_generator):\n",
    "    X, y = list(), list()\n",
    "    while len(X) < n_patterns:\n",
    "        frames, enter = build_frames_pad(size, length, env_generator)\n",
    "        if not frames is None:\n",
    "            X.append(frames)\n",
    "            y.append(enter)\n",
    "    \n",
    "    # resize as [samples, timesteps, width, height, channels]\n",
    "    X = array(X).reshape(n_patterns, length, size, size, 1)\n",
    "    y = array(y).reshape(n_patterns, 1)\n",
    "    return X, y"
   ]
  },
  {
   "cell_type": "code",
   "execution_count": 471,
   "metadata": {},
   "outputs": [],
   "source": [
    "X, y = generate_examples(12, 15, 20000, shape_generator)"
   ]
  },
  {
   "cell_type": "code",
   "execution_count": 318,
   "metadata": {},
   "outputs": [
    {
     "data": {
      "image/png": "[encoded data removed]",
      "text/plain": [
       "<matplotlib.figure.Figure at 0x1d6df1f0c18>"
      ]
     },
     "metadata": {},
     "output_type": "display_data"
    }
   ],
   "source": [
    "plot(X[0])"
   ]
  },
  {
   "cell_type": "code",
   "execution_count": 274,
   "metadata": {},
   "outputs": [
    {
     "data": {
      "image/png": "[encoded data removed]",
      "text/plain": [
       "<matplotlib.figure.Figure at 0x1d6c480e470>"
      ]
     },
     "metadata": {},
     "output_type": "display_data"
    },
    {
     "data": {
      "image/png": "[encoded data removed]",
      "text/plain": [
       "<matplotlib.figure.Figure at 0x1d6c48cd668>"
      ]
     },
     "metadata": {},
     "output_type": "display_data"
    },
    {
     "data": {
      "image/png": "[encoded data removed]",
      "text/plain": [
       "<matplotlib.figure.Figure at 0x1d6c48e57f0>"
      ]
     },
     "metadata": {},
     "output_type": "display_data"
    }
   ],
   "source": [
    "for i in range( len(X[3]) // 5 ):\n",
    "    plot(X[3][5 * i:5 * i + 5])"
   ]
  },
  {
   "cell_type": "code",
   "execution_count": 294,
   "metadata": {},
   "outputs": [],
   "source": [
    "from keras.models import Sequential\n",
    "from keras.layers import Conv2D\n",
    "from keras.layers import MaxPooling2D\n",
    "from keras.layers import LSTM\n",
    "from keras.layers import Dense\n",
    "from keras.layers import Flatten\n",
    "from keras.layers import TimeDistributed\n",
    "from keras.optimizers import Adam"
   ]
  },
  {
   "cell_type": "code",
   "execution_count": 287,
   "metadata": {},
   "outputs": [
    {
     "name": "stdout",
     "output_type": "stream",
     "text": [
      "(20000, 15, 12, 12, 1)\n"
     ]
    }
   ],
   "source": [
    "print (X.shape)"
   ]
  },
  {
   "cell_type": "code",
   "execution_count": 482,
   "metadata": {},
   "outputs": [
    {
     "name": "stdout",
     "output_type": "stream",
     "text": [
      "_________________________________________________________________\n",
      "Layer (type)                 Output Shape              Param #   \n",
      "=================================================================\n",
      "time_distributed_76 (TimeDis (None, None, 11, 11, 4)   20        \n",
      "_________________________________________________________________\n",
      "time_distributed_77 (TimeDis (None, None, 5, 5, 4)     0         \n",
      "_________________________________________________________________\n",
      "time_distributed_78 (TimeDis (None, None, 100)         0         \n",
      "_________________________________________________________________\n",
      "lstm_16 (LSTM)               (None, 100)               80400     \n",
      "_________________________________________________________________\n",
      "dense_16 (Dense)             (None, 1)                 101       \n",
      "=================================================================\n",
      "Total params: 80,521\n",
      "Trainable params: 80,521\n",
      "Non-trainable params: 0\n",
      "_________________________________________________________________\n",
      "None\n",
      "Epoch 1/1\n",
      "20000/20000 [==============================] - 60s 3ms/step - loss: 0.4774 - acc: 0.7500\n"
     ]
    },
    {
     "data": {
      "text/plain": [
       "<keras.callbacks.History at 0x1d6e595ef98>"
      ]
     },
     "execution_count": 482,
     "metadata": {},
     "output_type": "execute_result"
    }
   ],
   "source": [
    "# configure problem\n",
    "# define the model\n",
    "model = Sequential()\n",
    "model.add(TimeDistributed(Conv2D(4, (2,2), activation='relu'),\n",
    "input_shape=(None,size,size,1)))\n",
    "model.add(TimeDistributed(MaxPooling2D(pool_size=(2, 2))))\n",
    "# model.add(TimeDistributed(Conv2D(4, (2,2), activation='relu'),\n",
    "# input_shape=(None,size,size,1)))\n",
    "# model.add(TimeDistributed(MaxPooling2D(pool_size=(2, 2))))\n",
    "model.add(TimeDistributed(Flatten()))\n",
    "\n",
    "model.add(LSTM(100))\n",
    "model.add(Dense(1, activation='sigmoid'))\n",
    "\n",
    "opt = Adam(lr=0.001, beta_1=0.9, beta_2=0.999, epsilon=None, decay=0.01, amsgrad=False)\n",
    "\n",
    "model.compile(loss='binary_crossentropy', optimizer = opt , metrics=['acc'])\n",
    "print(model.summary())\n",
    "\n",
    "model.fit(X, y, batch_size=32, epochs=1)"
   ]
  },
  {
   "cell_type": "code",
   "execution_count": 484,
   "metadata": {},
   "outputs": [
    {
     "name": "stdout",
     "output_type": "stream",
     "text": [
      "loss: 0.228578, acc: 91.000000\n",
      "Expected: Exit, Predicted: Exit\n"
     ]
    }
   ],
   "source": [
    "shape_generator = lambda size: generate_u_shape_frame(size, bottom_range = list(range(3,6)), \n",
    "                  left_range = list(range(3,6)), right_range = list(range(3,6)) )\n",
    "# evaluate model\n",
    "X_evaluate, y_evaluate = generate_examples(size, 15, 100, shape_generator)\n",
    "loss, acc = model.evaluate(X_evaluate, y_evaluate, verbose=0)\n",
    "print('loss: %f, acc: %f' % (loss, acc*100))\n",
    "# prediction on new data\n",
    "X_test, y_test = generate_examples(size, 15, 1, shape_generator)\n",
    "yhat = model.predict_classes(X_test, verbose=0)\n",
    "expected = \"Enter\" if y_test[0]==1 else \"Exit\"\n",
    "predicted = \"Enter\" if yhat[0]==1 else \"Exit\"\n",
    "print('Expected: %s, Predicted: %s' % (expected, predicted))"
   ]
  },
  {
   "cell_type": "code",
   "execution_count": 323,
   "metadata": {},
   "outputs": [
    {
     "data": {
      "image/png": "[encoded data removed]",
      "text/plain": [
       "<matplotlib.figure.Figure at 0x1d6df76da90>"
      ]
     },
     "metadata": {},
     "output_type": "display_data"
    }
   ],
   "source": [
    "plot(X_evaluate[0])"
   ]
  },
  {
   "cell_type": "code",
   "execution_count": 450,
   "metadata": {},
   "outputs": [],
   "source": [
    "def generate_jar_shape ( frame, width, height, bulb, side, side_start, side_len, direction, position ):\n",
    "    \"\"\"\n",
    "    Impose an jar shape structure on the frame, position is where you start it (top-left corner of rectangle).\n",
    "    This is actually a variance of the U-shape.\n",
    "    The main difference is \n",
    "    \n",
    "    All of the followings have direction = 0, S is where position is\n",
    "    \n",
    "    width = 3, height = 5, bulb = 1 (bulb extended by 1 cell), side = 0 (left, 1 for right), \n",
    "    side_start = 1 (from the top), side_len = 3 ( side_start + side_len < height )\n",
    "    \n",
    "      \n",
    "    S o x o\n",
    "    o o x o\n",
    "    o x x o\n",
    "    o o x o\n",
    "      o o o\n",
    "    \n",
    "    side_start = 2\n",
    "    \n",
    "    S o x o\n",
    "      o x o\n",
    "    o o x o\n",
    "    o x x o\n",
    "    o o o o\n",
    "    \n",
    "    bulb = 2, side_start = 2\n",
    "    S   o x o\n",
    "        o x o\n",
    "    o o o x o\n",
    "    o x x x o\n",
    "    o o o o o\n",
    "    \n",
    "    This function returns whether imposition successes, and frame would be imposed with the jar-shape\n",
    "    \n",
    "    Parameters:\n",
    "    =====================\n",
    "    frame: squared frame\n",
    "    width: width of the main rectangular\n",
    "    height: height of the main rectangular\n",
    "    bulb: \n",
    "    side: \n",
    "    side_start: \n",
    "    side_len:\n",
    "    direction: \n",
    "    position: tuple of 2\n",
    "    \n",
    "    Returns:\n",
    "    =====================\n",
    "    - success: whether imposition successes or not\n",
    "    - inside_points: list of points inside the shape (x)\n",
    "    \n",
    "    \"\"\"\n",
    "    size = frame.shape[0]\n",
    "    \n",
    "    if direction == 0 or direction == 4:\n",
    "        other_corner = ( position[0] + height - 1, position[1] + width + bulb - 1 )\n",
    "        \n",
    "    if direction == 2 or direction == 6:\n",
    "        other_corner = ( position[0] + width + bulb - 1, position[1] + height - 1 )\n",
    "\n",
    "    if not check_in_frame_with_space ( size, position) or not check_in_frame_with_space ( size, other_corner ):\n",
    "        return False, ( [], [] )\n",
    "    \n",
    "    if side_start + side_len >= height:\n",
    "        return False, ( [], [] )\n",
    "    \n",
    "    # Let's create one jar-shape that has a direction == 0, and side = 0\n",
    "    inner_shape = np.zeros((height, width + bulb))\n",
    "\n",
    "    # Right side: draw straight line\n",
    "    for i in range (height):\n",
    "        inner_shape[i,-1] = 1\n",
    "    \n",
    "    # Left side bulb: 5 segments\n",
    "    for i in range (0, side_start):\n",
    "        inner_shape[i, bulb] = 1\n",
    "    \n",
    "    for i in range (0, bulb + 1):\n",
    "        inner_shape[side_start, i] = 1\n",
    "        \n",
    "    for i in range (side_start, side_start + side_len):\n",
    "        inner_shape[i, 0] = 1\n",
    "        \n",
    "    for i in range (0, bulb + 1):\n",
    "        inner_shape[side_start + side_len, i] = 1\n",
    "    \n",
    "    for i in range (side_start + side_len, height):\n",
    "        inner_shape[i, bulb] = 1\n",
    "    \n",
    "    # Bottom side\n",
    "    for i in range (bulb, width + bulb):\n",
    "        inner_shape[height - 1, i] = 1\n",
    "    \n",
    "    # Jar inner\n",
    "    for i in range(0, height - 1):\n",
    "        for j in range(bulb + 1, width + bulb - 1):\n",
    "            inner_shape[i,j] = 2\n",
    "    \n",
    "    # Bulb inner\n",
    "    for i in range(side_start + 1, side_start + side_len):\n",
    "        for j in range(1, width):\n",
    "            inner_shape[i,j] = 2\n",
    "    \n",
    "    if side == 1:\n",
    "        # Flip through the Oy axis\n",
    "        inner_shape = inner_shape[:,::-1]\n",
    "        \n",
    "    rotated_shape = np.rot90 ( inner_shape, -direction // 2 )\n",
    "    \n",
    "    frame[ position[0] : position[0] + rotated_shape.shape[0], \n",
    "          position[1] : position[1] + rotated_shape.shape[1] ] = rotated_shape\n",
    "    \n",
    "    inside_points = np.where(frame == 2)\n",
    "    \n",
    "    frame[frame == 2] = 0\n",
    "    \n",
    "    return True, inside_points"
   ]
  },
  {
   "cell_type": "code",
   "execution_count": 410,
   "metadata": {},
   "outputs": [
    {
     "data": {
      "text/plain": [
       "(True,\n",
       " (array([4, 5, 6, 6, 6, 6, 6, 6, 7, 7, 7, 7, 7, 7, 9], dtype=int64),\n",
       "  array([5, 5, 4, 5, 6, 7, 8, 9, 4, 5, 6, 7, 8, 9, 7], dtype=int64)))"
      ]
     },
     "execution_count": 410,
     "metadata": {},
     "output_type": "execute_result"
    }
   ],
   "source": [
    "f = np.zeros((12, 12))\n",
    "generate_jar_shape ( frame, 4, 5, 2, 0, 1, 2, 2, (3,3) )"
   ]
  },
  {
   "cell_type": "code",
   "execution_count": 451,
   "metadata": {},
   "outputs": [],
   "source": [
    "def check_in_range_jar (value, width, height, bulb, direction, position ):\n",
    "    \"\"\"\n",
    "    \n",
    "    value is a coordinates (x, y)\n",
    "    \"\"\"\n",
    "    if direction == 0 or direction == 4:\n",
    "        other_corner = ( position[0] + height - 1, position[1] + width + bulb - 1 )\n",
    "        \n",
    "    if direction == 2 or direction == 6:\n",
    "        other_corner = ( position[0] + width + bulb - 1, position[1] + height - 1 )\n",
    "        \n",
    "    if position[0] <= value[0] <= other_corner[0] and position[1] <= value[1] <= other_corner[1]:\n",
    "        return True\n",
    "    \n",
    "    return False"
   ]
  },
  {
   "cell_type": "code",
   "execution_count": 500,
   "metadata": {},
   "outputs": [],
   "source": [
    "def generate_jar_shape_frame ( size, width_range = list(range(3,6)), \n",
    "                  height_range = list(range(4,7)), bulb_range = list(range(1,3)),\n",
    "                  side_start_range = list(range(0,3)), side_len_range = list(range(2,4)),\n",
    "                  direction_range = list(range(0,8,2)) ):\n",
    "    frame = zeros((size,size))\n",
    "    \n",
    "    # You random a value in those range to add into the frame\n",
    "    # You also\n",
    "    \n",
    "    width = choice(width_range)\n",
    "    height = choice(height_range)\n",
    "    bulb = choice(bulb_range)\n",
    "    side = choice([0,1])\n",
    "    side_start = choice(side_start_range)\n",
    "    side_len = choice(side_len_range)\n",
    "    direction = choice(direction_range)\n",
    "    \n",
    "    for _ in range(20):\n",
    "        position_x = randint ( 0, size - 1 )\n",
    "        position_y = randint ( 0, size - 1 )\n",
    "        position = (position_x, position_y)\n",
    "\n",
    "        success, inner_list = generate_jar_shape  ( frame, width, height, bulb, side, \n",
    "                                                 side_start, side_len, direction, position )\n",
    "        \n",
    "        \n",
    "        if success :\n",
    "            break\n",
    "    else:\n",
    "        return None, None, None\n",
    "    \n",
    "    # Random outer position for moving point\n",
    "    for _ in range(20):\n",
    "        pos_start_x = randint ( 0, size - 1 )\n",
    "        pos_start_y = randint ( 0, size - 1 )\n",
    "        \n",
    "        pos_start = (pos_start_x, pos_start_y)\n",
    "        \n",
    "        # Just need to be out of the rectangle\n",
    "        if not check_in_range_jar ( pos_start, width, height, bulb, direction, position ):\n",
    "            break\n",
    "    else:\n",
    "        return None, None, None\n",
    "    \n",
    "    # Random inner position for moving point\n",
    "    index = randint ( 0, len(inner_list[0]) - 1 )\n",
    "    pos_end = (inner_list[0][index], inner_list[1][index])\n",
    "    \n",
    "#     frame[pos_start] = 3\n",
    "#     frame[pos_end] = 4\n",
    "    \n",
    "    return frame, pos_start, pos_end"
   ]
  },
  {
   "cell_type": "code",
   "execution_count": 513,
   "metadata": {},
   "outputs": [],
   "source": [
    "frame, pos_start, pos_end = generate_jar_shape_frame ( 12 )"
   ]
  },
  {
   "cell_type": "code",
   "execution_count": 514,
   "metadata": {},
   "outputs": [
    {
     "data": {
      "text/plain": [
       "array([[0., 0., 0., 0., 0., 0., 0., 0., 0., 0., 0., 0.],\n",
       "       [0., 0., 0., 0., 0., 0., 0., 0., 0., 0., 0., 0.],\n",
       "       [0., 0., 0., 0., 0., 0., 1., 1., 1., 1., 0., 0.],\n",
       "       [0., 0., 0., 0., 0., 0., 1., 0., 0., 1., 0., 0.],\n",
       "       [0., 0., 0., 0., 1., 1., 1., 0., 0., 1., 0., 0.],\n",
       "       [0., 0., 0., 0., 0., 0., 0., 0., 0., 1., 0., 0.],\n",
       "       [0., 0., 0., 0., 0., 0., 0., 0., 0., 1., 0., 0.],\n",
       "       [0., 0., 0., 0., 0., 0., 0., 0., 0., 1., 0., 0.],\n",
       "       [0., 0., 0., 0., 1., 1., 1., 1., 1., 1., 0., 0.],\n",
       "       [0., 0., 0., 0., 0., 0., 0., 0., 0., 0., 0., 0.],\n",
       "       [0., 0., 0., 0., 0., 0., 0., 0., 0., 0., 0., 0.],\n",
       "       [0., 0., 0., 0., 0., 0., 0., 0., 0., 0., 0., 0.]])"
      ]
     },
     "execution_count": 514,
     "metadata": {},
     "output_type": "execute_result"
    }
   ],
   "source": [
    "frame"
   ]
  },
  {
   "cell_type": "code",
   "execution_count": 455,
   "metadata": {},
   "outputs": [
    {
     "data": {
      "text/plain": [
       "(8, 0)"
      ]
     },
     "execution_count": 455,
     "metadata": {},
     "output_type": "execute_result"
    }
   ],
   "source": [
    "pos_start"
   ]
  },
  {
   "cell_type": "code",
   "execution_count": 456,
   "metadata": {},
   "outputs": [
    {
     "data": {
      "text/plain": [
       "(5, 6)"
      ]
     },
     "execution_count": 456,
     "metadata": {},
     "output_type": "execute_result"
    }
   ],
   "source": [
    "pos_end"
   ]
  },
  {
   "cell_type": "code",
   "execution_count": 517,
   "metadata": {},
   "outputs": [],
   "source": [
    "frames, enter = build_frames_pad(size, 15, lambda size: generate_jar_shape_frame(size ))"
   ]
  },
  {
   "cell_type": "code",
   "execution_count": 518,
   "metadata": {},
   "outputs": [
    {
     "name": "stdout",
     "output_type": "stream",
     "text": [
      "(12, 12)\n"
     ]
    }
   ],
   "source": [
    "print (frames[0].shape)"
   ]
  },
  {
   "cell_type": "code",
   "execution_count": 519,
   "metadata": {},
   "outputs": [
    {
     "data": {
      "image/png": "[encoded data removed]",
      "text/plain": [
       "<matplotlib.figure.Figure at 0x1d6e80e3cc0>"
      ]
     },
     "metadata": {},
     "output_type": "display_data"
    }
   ],
   "source": [
    "plot(frames)"
   ]
  },
  {
   "cell_type": "code",
   "execution_count": 520,
   "metadata": {},
   "outputs": [
    {
     "data": {
      "image/png": "[encoded data removed]",
      "text/plain": [
       "<matplotlib.figure.Figure at 0x1d6e809a128>"
      ]
     },
     "metadata": {},
     "output_type": "display_data"
    },
    {
     "data": {
      "image/png": "[encoded data removed]",
      "text/plain": [
       "<matplotlib.figure.Figure at 0x1d6e8022160>"
      ]
     },
     "metadata": {},
     "output_type": "display_data"
    },
    {
     "data": {
      "image/png": "[encoded data removed]",
      "text/plain": [
       "<matplotlib.figure.Figure at 0x1d6e81f7d68>"
      ]
     },
     "metadata": {},
     "output_type": "display_data"
    }
   ],
   "source": [
    "for i in range( len(frames) // 5 ):\n",
    "    plot(frames[5 * i:5 * i + 5])"
   ]
  },
  {
   "cell_type": "code",
   "execution_count": 540,
   "metadata": {},
   "outputs": [],
   "source": [
    "jar_generator = lambda size: generate_jar_shape_frame(size )\n",
    "jar_X, jar_y = generate_examples(12, 15, 500, jar_generator)"
   ]
  },
  {
   "cell_type": "code",
   "execution_count": 541,
   "metadata": {},
   "outputs": [
    {
     "name": "stdout",
     "output_type": "stream",
     "text": [
      "loss: 0.636424, acc: 74.400000\n"
     ]
    }
   ],
   "source": [
    "loss, acc = model.evaluate(jar_X, jar_y, verbose=0)\n",
    "print('loss: %f, acc: %f' % (loss, acc*100))"
   ]
  },
  {
   "cell_type": "code",
   "execution_count": 533,
   "metadata": {},
   "outputs": [
    {
     "data": {
      "image/png": "[encoded data removed]",
      "text/plain": [
       "<matplotlib.figure.Figure at 0x1d6e96d9a90>"
      ]
     },
     "metadata": {},
     "output_type": "display_data"
    },
    {
     "data": {
      "image/png": "[encoded data removed]",
      "text/plain": [
       "<matplotlib.figure.Figure at 0x1d6e96d9f98>"
      ]
     },
     "metadata": {},
     "output_type": "display_data"
    },
    {
     "data": {
      "image/png": "[encoded data removed]",
      "text/plain": [
       "<matplotlib.figure.Figure at 0x1d6e978e630>"
      ]
     },
     "metadata": {},
     "output_type": "display_data"
    }
   ],
   "source": [
    "for i in range( len(jar_X[0]) // 5 ):\n",
    "    plot(jar_X[0][5 * i:5 * i + 5])"
   ]
  },
  {
   "cell_type": "code",
   "execution_count": null,
   "metadata": {},
   "outputs": [],
   "source": []
  }
 ],
 "metadata": {
  "kernelspec": {
   "display_name": "Python 3",
   "language": "python",
   "name": "python3"
  },
  "language_info": {
   "codemirror_mode": {
    "name": "ipython",
    "version": 3
   },
   "file_extension": ".py",
   "mimetype": "text/x-python",
   "name": "python",
   "nbconvert_exporter": "python",
   "pygments_lexer": "ipython3",
   "version": "3.5.4"
  }
 },
 "nbformat": 4,
 "nbformat_minor": 2
}
