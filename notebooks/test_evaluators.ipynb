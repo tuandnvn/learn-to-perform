{
 "cells": [
  {
   "cell_type": "code",
   "execution_count": 1,
   "metadata": {},
   "outputs": [
    {
     "name": "stdout",
     "output_type": "stream",
     "text": [
      "/Users/tuando/git/learn-to-perform/strands_qsr_lib/qsr_lib/src3\n"
     ]
    }
   ],
   "source": [
    "import os\n",
    "import sys\n",
    "import numpy as np\n",
    "import pickle\n",
    "\n",
    "module_path = os.path.abspath(os.path.join('..'))\n",
    "if module_path not in sys.path:\n",
    "    sys.path.append(module_path)\n",
    "a = os.path.join(module_path, 'strands_qsr_lib', 'qsr_lib', 'src3')\n",
    "print (a)\n",
    "sys.path.append(a)\n",
    "\n",
    "import project\n",
    "# Need to add this import to load class\n",
    "from project import Project\n",
    "import config\n",
    "import progress_learner\n",
    "from rl import block_movement_env"
   ]
  },
  {
   "cell_type": "code",
   "execution_count": 2,
   "metadata": {},
   "outputs": [
    {
     "data": {
      "text/plain": [
       "<module 'rl.block_movement_env' from '/Users/tuando/git/learn-to-perform/rl/block_movement_env.py'>"
      ]
     },
     "execution_count": 2,
     "metadata": {},
     "output_type": "execute_result"
    }
   ],
   "source": [
    "from importlib import reload\n",
    "reload(block_movement_env)"
   ]
  },
  {
   "cell_type": "code",
   "execution_count": 3,
   "metadata": {},
   "outputs": [],
   "source": [
    "prefix = os.path.join( \"..\", \"experiments\", \"human_evaluation_2d\" )"
   ]
  },
  {
   "cell_type": "code",
   "execution_count": 4,
   "metadata": {},
   "outputs": [],
   "source": [
    "feedback_files = {\"SlideToward\" : 'slideclose.txt', \n",
    "                  \"SlideAway\": 'slideaway.txt', \n",
    "                  \"SlideNext\": 'slidenext.txt', \n",
    "                  \"SlidePast\": 'slidepast.txt', \n",
    "                  \"SlideAround\": 'slidearound2.txt'}"
   ]
  },
  {
   "cell_type": "code",
   "execution_count": 5,
   "metadata": {},
   "outputs": [],
   "source": [
    "def load_feedback_file( f ):\n",
    "    \"\"\"\n",
    "    File format:\n",
    "    \n",
    "    0\t6\t8\t2\n",
    "    1\t8\t9\t1\n",
    "    2\t8\t7\t1\n",
    "    index\tscore_1\tscore2\tdisparity\n",
    "    \"\"\"\n",
    "    scores = {}\n",
    "    with open(f, 'r') as fh:\n",
    "        for line in fh:\n",
    "            values = [int(v) for v in line.split()]\n",
    "            index = values[0]\n",
    "            average_score = np.mean(values[1:3])\n",
    "            \n",
    "            scores[index] = average_score\n",
    "    return scores"
   ]
  },
  {
   "cell_type": "code",
   "execution_count": 6,
   "metadata": {},
   "outputs": [],
   "source": [
    "c = config.Config()"
   ]
  },
  {
   "cell_type": "markdown",
   "metadata": {},
   "source": [
    "#### Loading projects from files"
   ]
  },
  {
   "cell_type": "code",
   "execution_count": 7,
   "metadata": {},
   "outputs": [],
   "source": [
    "import tensorflow as tf\n",
    "\n",
    "sess =  tf.Session()"
   ]
  },
  {
   "cell_type": "code",
   "execution_count": 8,
   "metadata": {},
   "outputs": [
    {
     "name": "stdout",
     "output_type": "stream",
     "text": [
      "========================================================\n",
      "Load for action type = SlideToward\n",
      "-------- Load progress model ---------\n",
      "self.inputs.shape = (?, 20, 200)  after linear layer\n",
      "output.shape = (30, 200) after LSTM\n",
      "self.output.shape = (30,) after linear\n",
      "self._targets.shape = (?,) \n",
      "========================================================\n",
      "Load for action type = SlideAway\n",
      "-------- Load progress model ---------\n",
      "self.inputs.shape = (?, 20, 200)  after linear layer\n",
      "output.shape = (30, 200) after LSTM\n",
      "self.output.shape = (30,) after linear\n",
      "self._targets.shape = (?,) \n",
      "========================================================\n",
      "Load for action type = SlideNext\n",
      "-------- Load progress model ---------\n",
      "self.inputs.shape = (?, 20, 200)  after linear layer\n",
      "output.shape = (30, 200) after LSTM\n",
      "self.output.shape = (30,) after linear\n",
      "self._targets.shape = (?,) \n",
      "========================================================\n",
      "Load for action type = SlidePast\n",
      "-------- Load progress model ---------\n",
      "self.inputs.shape = (?, 20, 200)  after linear layer\n",
      "output.shape = (30, 200) after LSTM\n",
      "self.output.shape = (30,) after linear\n",
      "self._targets.shape = (?,) \n",
      "========================================================\n",
      "Load for action type = SlideAround\n",
      "-------- Load progress model ---------\n",
      "self.inputs.shape = (?, 20, 200)  after linear layer\n",
      "output.shape = (30, 200) after LSTM\n",
      "self.output.shape = (30,) after linear\n",
      "self._targets.shape = (?,) \n"
     ]
    }
   ],
   "source": [
    "projects = {}\n",
    "progress_estimators = {}\n",
    "configs = {}\n",
    "\n",
    "action_types = [\"SlideToward\", \"SlideAway\", \"SlideNext\", \"SlidePast\", \"SlideAround\"]\n",
    "\n",
    "for project_name in action_types:\n",
    "    configs[project_name] = config.Config()\n",
    "    if project_name == 'SlideNext':\n",
    "        configs[project_name].n_input = 8\n",
    "        \n",
    "    print ('========================================================')\n",
    "    print ('Load for action type = ' + project_name)\n",
    "    p_name = project_name.lower() + \"_project.proj\"\n",
    "\n",
    "    projects[project_name] = project.Project.load(os.path.join('..', 'learned_models', p_name))\n",
    "    \n",
    "    with tf.variable_scope(\"model\") as scope:\n",
    "        print('-------- Load progress model ---------')\n",
    "        progress_estimators[project_name] = progress_learner.EventProgressEstimator(is_training=True, name = projects[project_name].name, config = configs[project_name])  "
   ]
  },
  {
   "cell_type": "code",
   "execution_count": 9,
   "metadata": {},
   "outputs": [
    {
     "name": "stdout",
     "output_type": "stream",
     "text": [
      "INFO:tensorflow:Restoring parameters from ../learned_models/progress_SlideToward.mod\n",
      "INFO:tensorflow:Restoring parameters from ../learned_models/progress_SlideAway.mod\n",
      "INFO:tensorflow:Restoring parameters from ../learned_models/progress_SlideNext.mod\n",
      "INFO:tensorflow:Restoring parameters from ../learned_models/progress_SlidePast.mod\n",
      "INFO:tensorflow:Restoring parameters from ../learned_models/progress_SlideAround.mod\n"
     ]
    }
   ],
   "source": [
    "for project_name in action_types:\n",
    "    saver = tf.train.Saver(tf.get_collection(tf.GraphKeys.GLOBAL_VARIABLES, scope='model/' + project_name))\n",
    "\n",
    "    saver.restore(sess, os.path.join('..', 'learned_models', 'progress_' + project_name + '.mod'))"
   ]
  },
  {
   "cell_type": "code",
   "execution_count": 10,
   "metadata": {},
   "outputs": [],
   "source": [
    "## Function to load demonstrations\n",
    "def load_data_from_folder ( folder, c, p, pe, sess ):\n",
    "    \"\"\"\n",
    "    c: Config\n",
    "    p: Project\n",
    "    pe: Progress_estimator\n",
    "    sess: Tensorflow session\n",
    "    \"\"\"\n",
    "    demonstrations = {}\n",
    "    for index in range(30):\n",
    "        stored_config_file = os.path.join(folder, str(index) + \".dat\")\n",
    "        try:\n",
    "            with open(stored_config_file, 'rb') as fh:\n",
    "                # need this encoding \n",
    "                stored_config = pickle.load(fh, encoding='latin-1')\n",
    "\n",
    "                e = block_movement_env.BlockMovementEnv(c, p.speed, p.name, \n",
    "                        progress_estimator = pe, session = sess)\n",
    "                e.reset_env_to_state(stored_config['start_config'], stored_config['action_storage'])\n",
    "\n",
    "                demonstrations[index] = e\n",
    "        except IOError:\n",
    "            pass\n",
    "    return demonstrations"
   ]
  },
  {
   "cell_type": "code",
   "execution_count": 85,
   "metadata": {},
   "outputs": [
    {
     "data": {
      "text/plain": [
       "<module 'automatic_evaluator' from '/Users/tuando/git/learn-to-perform/automatic_evaluator.py'>"
      ]
     },
     "execution_count": 85,
     "metadata": {},
     "output_type": "execute_result"
    }
   ],
   "source": [
    "import automatic_evaluator\n",
    "reload(automatic_evaluator)"
   ]
  },
  {
   "cell_type": "code",
   "execution_count": 12,
   "metadata": {},
   "outputs": [],
   "source": [
    "def get_corref ( automatic_scores , graded_scores ):\n",
    "    x = []\n",
    "    y = []\n",
    "    for k in automatic_scores:\n",
    "        if k in graded_scores:\n",
    "            x.append(automatic_scores[k])\n",
    "            y.append(graded_scores[k])\n",
    "    return np.corrcoef(x, y)[0,1]"
   ]
  },
  {
   "cell_type": "code",
   "execution_count": 13,
   "metadata": {},
   "outputs": [],
   "source": [
    "def dos2unix (original, destination):\n",
    "    with open(original, 'rb') as infile:\n",
    "        content = infile.read()\n",
    "    with open(destination, 'wb') as output:\n",
    "        for line in content.splitlines():\n",
    "            output.write(line + str.encode('\\n'))"
   ]
  },
  {
   "cell_type": "markdown",
   "metadata": {},
   "source": [
    "#### Test for Slide Closer To\n",
    "\n",
    "Using the method **test_slide_close**, we have one hyperparameter to set:\n",
    "threshold. By default, it is 2 * block_size"
   ]
  },
  {
   "cell_type": "code",
   "execution_count": 29,
   "metadata": {},
   "outputs": [],
   "source": [
    "close_demos = load_data_from_folder(os.path.join(prefix, 'SlideClose'), configs['SlideToward'], \n",
    "                                    projects['SlideToward'], progress_estimators['SlideToward'], sess)"
   ]
  },
  {
   "cell_type": "code",
   "execution_count": 30,
   "metadata": {},
   "outputs": [],
   "source": [
    "close_automatic_scores = dict((index, automatic_evaluator.test_slide_close(demo)) for index, demo in close_demos.items())\n"
   ]
  },
  {
   "cell_type": "code",
   "execution_count": 32,
   "metadata": {},
   "outputs": [],
   "source": [
    "close_graded_scores = load_feedback_file ( os.path.join (prefix, feedback_files['SlideToward'] ) )"
   ]
  },
  {
   "cell_type": "code",
   "execution_count": 41,
   "metadata": {},
   "outputs": [
    {
     "data": {
      "text/plain": [
       "0.29390650586323525"
      ]
     },
     "execution_count": 41,
     "metadata": {},
     "output_type": "execute_result"
    }
   ],
   "source": [
    "get_corref(close_automatic_scores, close_graded_scores)"
   ]
  },
  {
   "cell_type": "markdown",
   "metadata": {},
   "source": [
    "Grid search for the value of threshold"
   ]
  },
  {
   "cell_type": "code",
   "execution_count": 55,
   "metadata": {},
   "outputs": [
    {
     "name": "stdout",
     "output_type": "stream",
     "text": [
      "1.5 & 1.75 & 2.0 & 2.25 & 2.5 & 2.75 & 3.0 & 3.25 & 3.5 & 3.75 & 4.0 & 4.25 & 4.5\n",
      "-0.09 & 0.17 & 0.29 & 0.11 & 0.18 & 0.22 & 0.22 & 0.34 & 0.40 & 0.39 & 0.39 & 0.39 & 0.34\n"
     ]
    }
   ],
   "source": [
    "print (' & '.join(str(val) for val in np.linspace(1.5, 4.5, num=13)))\n",
    "corefs = []\n",
    "for threshold in np.linspace(1.5, 4.5, num=13):\n",
    "    score  = dict((index, automatic_evaluator.test_slide_close(demo, threshold = threshold * c.block_size)) for index, demo in close_demos.items())\n",
    "    coref = get_corref(score, close_graded_scores)\n",
    "    corefs.append(coref)\n",
    "    \n",
    "print (' & '.join('%.2f' % val for val in corefs))"
   ]
  },
  {
   "cell_type": "markdown",
   "metadata": {},
   "source": [
    "#### Test for Slide Past\n",
    "\n",
    "Using the method **test_slide_past**, we have one hyperparameter to set:\n",
    "angle_threshold. We will run grid search for the value of angle_threshold / np.pi "
   ]
  },
  {
   "cell_type": "code",
   "execution_count": 83,
   "metadata": {},
   "outputs": [],
   "source": [
    "past_demos = load_data_from_folder(os.path.join(prefix, 'SlidePast'), configs['SlidePast'], \n",
    "                                    projects['SlidePast'], progress_estimators['SlidePast'], sess)"
   ]
  },
  {
   "cell_type": "code",
   "execution_count": 91,
   "metadata": {},
   "outputs": [],
   "source": [
    "past_automatic_scores = dict((index, automatic_evaluator.test_slide_past(demo)) for index, demo in past_demos.items())\n",
    "\n",
    "past_graded_scores = load_feedback_file ( os.path.join (prefix, feedback_files['SlidePast'] ) )"
   ]
  },
  {
   "cell_type": "code",
   "execution_count": 90,
   "metadata": {},
   "outputs": [
    {
     "data": {
      "text/plain": [
       "0.13305925458452292"
      ]
     },
     "execution_count": 90,
     "metadata": {},
     "output_type": "execute_result"
    }
   ],
   "source": [
    "get_corref(past_automatic_scores, past_graded_scores)"
   ]
  },
  {
   "cell_type": "code",
   "execution_count": 93,
   "metadata": {},
   "outputs": [
    {
     "name": "stdout",
     "output_type": "stream",
     "text": [
      "0.3 & 0.35 & 0.4 & 0.45 & 0.5\n",
      "0.120 & 0.133 & 0.133 & 0.133 & 0.133\n"
     ]
    }
   ],
   "source": [
    "print (' & '.join(str(val) for val in np.linspace(0.3, 0.5, num=5)))\n",
    "corefs = []\n",
    "for threshold in np.linspace(0.3, 0.5, num=5):\n",
    "    score  = dict((index, automatic_evaluator.test_slide_past(demo, angle_threshold = threshold * np.pi)) for index, demo in past_demos.items())\n",
    "    coref = get_corref(score, past_graded_scores)\n",
    "    corefs.append(coref)\n",
    "    \n",
    "print (' & '.join('%.3f' % val for val in corefs))"
   ]
  },
  {
   "cell_type": "code",
   "execution_count": null,
   "metadata": {},
   "outputs": [],
   "source": [
    "score  = dict((index, automatic_evaluator.test_slide_past(demo, angle_threshold = threshold)) for index, demo in past_demos.items())"
   ]
  },
  {
   "cell_type": "markdown",
   "metadata": {},
   "source": [
    "#### Test for Slide Away\n",
    "\n",
    "Using the method **test_slide_away**, we have one hyperparameter to set:\n",
    "ratio_threshold. We will run grid search for the value of ratio_threshold"
   ]
  },
  {
   "cell_type": "code",
   "execution_count": 61,
   "metadata": {},
   "outputs": [],
   "source": [
    "away_demos = load_data_from_folder(os.path.join(prefix, 'SlideAway'), configs['SlideAway'], \n",
    "                                    projects['SlideAway'], progress_estimators['SlideAway'], sess)"
   ]
  },
  {
   "cell_type": "code",
   "execution_count": 60,
   "metadata": {
    "collapsed": true
   },
   "outputs": [],
   "source": [
    "away_automatic_scores = dict((index, automatic_evaluator.test_slide_away(demo)) for index, demo in away_demos.items())\n",
    "\n",
    "away_graded_scores = load_feedback_file ( os.path.join (prefix, feedback_files['SlideAway'] ) )"
   ]
  },
  {
   "cell_type": "code",
   "execution_count": 62,
   "metadata": {},
   "outputs": [
    {
     "data": {
      "text/plain": [
       "0.01411487319713608"
      ]
     },
     "execution_count": 62,
     "metadata": {},
     "output_type": "execute_result"
    }
   ],
   "source": [
    "get_corref(away_automatic_scores, away_graded_scores)"
   ]
  },
  {
   "cell_type": "code",
   "execution_count": 80,
   "metadata": {},
   "outputs": [
    {
     "name": "stdout",
     "output_type": "stream",
     "text": [
      "1.1 & 1.2 & 1.3 & 1.4 & 1.5 & 1.6 & 1.7 & 1.8 & 1.9 & 2.0 & 2.1 & 2.2 & 2.3 & 2.4 & 2.5 & 2.6 & 2.7 & 2.8\n"
     ]
    }
   ],
   "source": [
    "print (' & '.join(str(val) for val in np.linspace(1.1, 2.8, num=18)))"
   ]
  },
  {
   "cell_type": "code",
   "execution_count": 79,
   "metadata": {},
   "outputs": [
    {
     "name": "stdout",
     "output_type": "stream",
     "text": [
      "-0.14 & -0.04 & 0.11 & 0.04 & 0.01 & 0.01 & 0.15 & 0.24 & 0.27 & 0.11 & 0.03 & 0.18 & 0.44 & 0.41 & 0.31 & 0.28 & 0.28 & 0.26\n"
     ]
    }
   ],
   "source": [
    "corefs = []\n",
    "for threshold in np.linspace(1.1, 2.8, num=18):\n",
    "    score = dict((index, automatic_evaluator.test_slide_away(demo, \n",
    "      ratio_threshold = threshold)) for index, demo in away_demos.items())\n",
    "    coref = get_corref(score, away_graded_scores)\n",
    "    corefs.append(coref)\n",
    "    \n",
    "print (' & '.join('%.2f' % val for val in corefs))"
   ]
  },
  {
   "cell_type": "code",
   "execution_count": 81,
   "metadata": {
    "collapsed": true
   },
   "outputs": [],
   "source": [
    "score = dict((index, automatic_evaluator.test_slide_away(demo, \n",
    "      ratio_threshold = 2.4)) for index, demo in away_demos.items())"
   ]
  },
  {
   "cell_type": "markdown",
   "metadata": {},
   "source": [
    "#### Test for Slide Around\n",
    "\n",
    "Using the method test_slide_around, we have two hyperparameters to set: *alpha_1, alpha_2*. These values are basically two arcs angles, with alpha_1 < alpha_2. "
   ]
  },
  {
   "cell_type": "code",
   "execution_count": 14,
   "metadata": {},
   "outputs": [],
   "source": [
    "# for index in range(30):\n",
    "#     f = os.path.join(prefix, 'SlideAroundDiscrete', str(index) + \".dat\")\n",
    "    \n",
    "#     dos2unix(f, f)"
   ]
  },
  {
   "cell_type": "code",
   "execution_count": 15,
   "metadata": {},
   "outputs": [],
   "source": [
    "around_demos = load_data_from_folder(os.path.join(prefix, 'SlideAroundDiscrete'), configs['SlideAround'], \n",
    "                                    projects['SlideAround'], progress_estimators['SlideAround'], sess)"
   ]
  },
  {
   "cell_type": "code",
   "execution_count": 16,
   "metadata": {},
   "outputs": [],
   "source": [
    "around_automatic_scores = dict((index, automatic_evaluator.test_slide_around(demo)) for index, demo in around_demos.items())\n",
    "\n",
    "around_graded_scores = load_feedback_file ( os.path.join (prefix, feedback_files['SlideAround'] ) )"
   ]
  },
  {
   "cell_type": "code",
   "execution_count": 17,
   "metadata": {},
   "outputs": [
    {
     "data": {
      "text/plain": [
       "0.26702442763770479"
      ]
     },
     "execution_count": 17,
     "metadata": {},
     "output_type": "execute_result"
    }
   ],
   "source": [
    "get_corref(around_automatic_scores, around_graded_scores)"
   ]
  },
  {
   "cell_type": "code",
   "execution_count": 20,
   "metadata": {},
   "outputs": [],
   "source": [
    "rs = np.linspace(0.7, 1.9, num = 7)"
   ]
  },
  {
   "cell_type": "code",
   "execution_count": 22,
   "metadata": {},
   "outputs": [],
   "source": [
    "bitmap = np.zeros((7, 7))"
   ]
  },
  {
   "cell_type": "code",
   "execution_count": 57,
   "metadata": {},
   "outputs": [],
   "source": [
    "for i, alpha_1 in enumerate(rs):\n",
    "    for j, alpha_2 in enumerate(rs):\n",
    "        if alpha_1 < alpha_2:\n",
    "            scores = dict((index, automatic_evaluator.test_slide_around ( \n",
    "                demo, alpha_1 = alpha_1 * np.pi, alpha_2 = alpha_2 * np.pi )) \n",
    "                 for index, demo in around_demos.items())\n",
    "            \n",
    "            bitmap[i,j] = get_corref(scores, around_graded_scores)"
   ]
  },
  {
   "cell_type": "code",
   "execution_count": 25,
   "metadata": {},
   "outputs": [
    {
     "data": {
      "text/plain": [
       "array([[ 0.        ,  0.32142211,  0.41171972,  0.49322772,  0.59127481,\n",
       "         0.62692399,  0.46646036],\n",
       "       [ 0.        ,  0.        ,  0.43408582,  0.51537989,  0.61192982,\n",
       "         0.65225969,  0.51304036],\n",
       "       [ 0.        ,  0.        ,  0.        ,  0.5394412 ,  0.63500862,\n",
       "         0.68618767,  0.58726056],\n",
       "       [ 0.        ,  0.        ,  0.        ,  0.        ,  0.67039469,\n",
       "         0.73274846,  0.66695003],\n",
       "       [ 0.        ,  0.        ,  0.        ,  0.        ,  0.        ,\n",
       "         0.80047419,  0.77266009],\n",
       "       [ 0.        ,  0.        ,  0.        ,  0.        ,  0.        ,\n",
       "         0.        ,  0.78119596],\n",
       "       [ 0.        ,  0.        ,  0.        ,  0.        ,  0.        ,\n",
       "         0.        ,  0.        ]])"
      ]
     },
     "execution_count": 25,
     "metadata": {},
     "output_type": "execute_result"
    }
   ],
   "source": [
    "bitmap"
   ]
  },
  {
   "cell_type": "code",
   "execution_count": 41,
   "metadata": {},
   "outputs": [
    {
     "data": {
      "image/png": "[encoded data removed]",
      "text/plain": [
       "<matplotlib.figure.Figure at 0x12453e630>"
      ]
     },
     "metadata": {},
     "output_type": "display_data"
    }
   ],
   "source": [
    "import matplotlib.pyplot as plt\n",
    "%matplotlib inline\n",
    "\n",
    "fig, ax = plt.subplots(figsize=(6,6))\n",
    "\n",
    "ax.imshow(bitmap, cmap='hot_r', interpolation='nearest', \n",
    "          extent=[rs[0] - 0.1, rs[-1] + 0.1, rs[0] - 0.1, rs[-1] + 0.1])\n",
    "# ax.set_xlim(rs[0], rs[-1])\n",
    "# ax.set_xticks(rs)\n",
    "# ax.set_ylim(rs[0], rs[-1])\n",
    "# ax.set_yticks(rs)\n",
    "plt.show()"
   ]
  },
  {
   "cell_type": "markdown",
   "metadata": {},
   "source": [
    "#### Test for Slide Next To\n",
    "\n",
    "Using the method test_slide_around, we have two hyperparameters to set: *angle_diff,  threshold*. "
   ]
  },
  {
   "cell_type": "code",
   "execution_count": 42,
   "metadata": {},
   "outputs": [],
   "source": [
    "next_demos = load_data_from_folder(os.path.join(prefix, 'SlideNext'), configs['SlideNext'], \n",
    "                                    projects['SlideNext'], progress_estimators['SlideNext'], sess)"
   ]
  },
  {
   "cell_type": "code",
   "execution_count": 46,
   "metadata": {},
   "outputs": [],
   "source": [
    "next_automatic_scores = dict((index, automatic_evaluator.test_slide_nextto(demo)) for index, demo in next_demos.items())\n",
    "\n",
    "next_graded_scores = load_feedback_file ( os.path.join (prefix, feedback_files['SlideNext'] ) )"
   ]
  },
  {
   "cell_type": "code",
   "execution_count": 47,
   "metadata": {},
   "outputs": [
    {
     "data": {
      "text/plain": [
       "0.14106535497017106"
      ]
     },
     "execution_count": 47,
     "metadata": {},
     "output_type": "execute_result"
    }
   ],
   "source": [
    "get_corref(next_automatic_scores, next_graded_scores)"
   ]
  },
  {
   "cell_type": "code",
   "execution_count": 77,
   "metadata": {},
   "outputs": [
    {
     "name": "stderr",
     "output_type": "stream",
     "text": [
      "/Users/tuando/anaconda3/envs/tensorflow/lib/python3.6/site-packages/numpy/lib/function_base.py:3003: RuntimeWarning: invalid value encountered in true_divide\n",
      "  c /= stddev[:, None]\n",
      "/Users/tuando/anaconda3/envs/tensorflow/lib/python3.6/site-packages/numpy/lib/function_base.py:3004: RuntimeWarning: invalid value encountered in true_divide\n",
      "  c /= stddev[None, :]\n"
     ]
    }
   ],
   "source": [
    "import math\n",
    "bitmap_next = np.zeros((9, 10))\n",
    "angle_diffs = np.linspace(0.05, 0.25, num = 9)\n",
    "thresholds = np.linspace(1.1, 2, num = 10)\n",
    "\n",
    "for i, angle_diff in enumerate(angle_diffs):\n",
    "    for j, threshold in enumerate(thresholds):\n",
    "        scores = dict((index, automatic_evaluator.test_slide_nextto ( \n",
    "            demo, angle_diff = angle_diff * np.pi, threshold = threshold * c.block_size )) \n",
    "             for index, demo in next_demos.items())\n",
    "        \n",
    "        s = get_corref(scores, next_graded_scores)\n",
    "        if not math.isnan(s):\n",
    "            bitmap_next[i,j] = get_corref(scores, next_graded_scores)"
   ]
  },
  {
   "cell_type": "code",
   "execution_count": 81,
   "metadata": {},
   "outputs": [
    {
     "data": {
      "image/png": "[encoded data removed]",
      "text/plain": [
       "<matplotlib.figure.Figure at 0x1306ad3c8>"
      ]
     },
     "metadata": {},
     "output_type": "display_data"
    }
   ],
   "source": [
    "fig, ax = plt.subplots(figsize=(6,6))\n",
    "ax.imshow(bitmap_next, cmap='hot_r', interpolation='nearest', \n",
    "          extent=[thresholds[0] - 0.1/2, thresholds[-1] + 0.1/2, \n",
    "                 angle_diffs[0] - 0.025/2, angle_diffs[-1] + 0.025/2],aspect = 'auto')\n",
    "# ax.set_xlim(rs[0], rs[-1])\n",
    "# ax.set_xticks(rs)\n",
    "# ax.set_ylim(rs[0], rs[-1])\n",
    "# ax.set_yticks(rs)\n",
    "ax.autoscale()\n",
    "plt.show()"
   ]
  },
  {
   "cell_type": "code",
   "execution_count": null,
   "metadata": {},
   "outputs": [],
   "source": []
  }
 ],
 "metadata": {
  "kernelspec": {
   "display_name": "Python 3",
   "language": "python",
   "name": "python3"
  },
  "language_info": {
   "codemirror_mode": {
    "name": "ipython",
    "version": 3
   },
   "file_extension": ".py",
   "mimetype": "text/x-python",
   "name": "python",
   "nbconvert_exporter": "python",
   "pygments_lexer": "ipython3",
   "version": "3.6.3"
  }
 },
 "nbformat": 4,
 "nbformat_minor": 2
}
