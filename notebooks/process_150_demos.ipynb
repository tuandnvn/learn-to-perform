{
 "cells": [
  {
   "cell_type": "markdown",
   "metadata": {},
   "source": [
    "### Process 150 demonstrations from dat file to JSON"
   ]
  },
  {
   "cell_type": "code",
   "execution_count": 4,
   "metadata": {
    "collapsed": true
   },
   "outputs": [],
   "source": [
    "import os\n",
    "import sys\n",
    "import pickle\n",
    "\n",
    "module_path = os.path.abspath(os.path.join('..'))\n",
    "if module_path not in sys.path:\n",
    "    sys.path.append(module_path)"
   ]
  },
  {
   "cell_type": "code",
   "execution_count": 11,
   "metadata": {},
   "outputs": [
    {
     "name": "stdout",
     "output_type": "stream",
     "text": [
      "[array([-0.4522703 ,  0.40625375]), array([ 0.42460775,  0.17190404])]\n",
      "[array([-0.01572524, -0.10102905]), array([ 0.19961559,  0.49010506])]\n",
      "[array([-0.46563477, -0.33078099]), array([ 0.00593638, -0.0624366 ])]\n",
      "[array([-0.4522703 ,  0.40625375]), array([ 0.42460775,  0.17190404])]\n",
      "[array([ 0.0911389 , -0.37027348]), array([ 0.30314527,  0.53788197])]\n"
     ]
    }
   ],
   "source": [
    "name_to_folder = {\n",
    "    'Around' : 'SlideAroundDiscrete',\n",
    "    'Closer' : 'SlideToward',\n",
    "    'Next' : 'SlideNext',\n",
    "    'Past' : 'SlidePast',\n",
    "    'NextTo' : 'SlideNext',\n",
    "}\n",
    "\n",
    "json_structure = []\n",
    "\n",
    "\n",
    "for action in name_to_folder:\n",
    "    prefix = os.path.join( \"..\", \"experiments\", \n",
    "                          \"human_evaluation_2d\", \n",
    "                          name_to_folder[action])\n",
    "\n",
    "    for index in range(1):\n",
    "        one_demo = {}\n",
    "        stored_config_file = os.path.join(prefix, str(index) + \".dat\")\n",
    "        with open(stored_config_file, 'rb') as fh:\n",
    "            # need this encoding \n",
    "            stored_config = pickle.load(fh, encoding='latin-1')\n",
    "    \n",
    "        one_demo ['start_config']  = [cube.transform.position.flatten() for cube in stored_config['start_config'] ]\n",
    "        \n",
    "        stored_config['action_storage'] "
   ]
  },
  {
   "cell_type": "code",
   "execution_count": null,
   "metadata": {
    "collapsed": true
   },
   "outputs": [],
   "source": []
  }
 ],
 "metadata": {
  "kernelspec": {
   "display_name": "Python 3",
   "language": "python",
   "name": "python3"
  },
  "language_info": {
   "codemirror_mode": {
    "name": "ipython",
    "version": 3
   },
   "file_extension": ".py",
   "mimetype": "text/x-python",
   "name": "python",
   "nbconvert_exporter": "python",
   "pygments_lexer": "ipython3",
   "version": "3.5.4"
  }
 },
 "nbformat": 4,
 "nbformat_minor": 2
}
