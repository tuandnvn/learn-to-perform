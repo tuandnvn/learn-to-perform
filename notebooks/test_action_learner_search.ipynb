{
 "cells": [
  {
   "cell_type": "code",
   "execution_count": 4,
   "metadata": {},
   "outputs": [],
   "source": [
    "import tensorflow as tf\n",
    "import os\n",
    "import sys\n",
    "import collections\n",
    "\n",
    "module_path = os.path.abspath(os.path.join('..'))\n",
    "if module_path not in sys.path:\n",
    "    sys.path.append(module_path)\n",
    "a = os.path.join(module_path, \"strands_qsr_lib\\qsr_lib\\src3\")\n",
    "\n",
    "sys.path.append(a)\n",
    "from rl import action_learner, action_learner_search, value_estimator\n",
    "from progress_learner import EventProgressEstimator\n",
    "import config\n",
    "import project\n",
    "# Need to add this import to load class\n",
    "from project import Project\n",
    "from importlib import reload\n",
    "p = project.Project.load(\"../slidearound_hopstep_1_multiscale.proj\")\n",
    "from rl import block_movement_env\n",
    "import matplotlib\n",
    "from matplotlib import pyplot as plt\n",
    "%matplotlib inline\n",
    "import plotting"
   ]
  },
  {
   "cell_type": "code",
   "execution_count": 38,
   "metadata": {},
   "outputs": [
    {
     "name": "stdout",
     "output_type": "stream",
     "text": [
      "-------- Load progress model ---------\n",
      "self.inputs.shape = (?, 20, 200)  after linear layer\n",
      "output.shape = (10, 200) after LSTM\n",
      "self.output.shape = (10,) after linear\n",
      "self._targets.shape = (?,) \n",
      "model/SlideAround/linear/weight:0\n",
      "model/SlideAround/linear/bias:0\n",
      "model/SlideAround/lstm/rnn/multi_rnn_cell/cell_0/basic_lstm_cell/kernel:0\n",
      "model/SlideAround/lstm/rnn/multi_rnn_cell/cell_0/basic_lstm_cell/bias:0\n",
      "model/SlideAround/output_linear/weight:0\n",
      "model/SlideAround/output_linear/bias:0\n",
      "INFO:tensorflow:Restoring parameters from ../progress.mod\n",
      "{0: [Cube : [ 0.4646263   0.32597759  1.37317888], Cube : [ 0.4646263   0.32597759  1.37317888]], 1: [Cube : [ 0.22881703  0.06421508  0.63298786], Cube : [ 0.22881703  0.06421508  0.63298786]]}\n",
      "2\n",
      "{0: [Cube : [-0.37224119 -0.00780143  0.98648601], Cube : [-0.37224119 -0.00780143  0.98648601]], 1: [Cube : [-0.52909019  0.84030135  0.19386991], Cube : [-0.52909019  0.84030135  0.19386991]]}\n",
      "2\n",
      "{0: [Cube : [ 0.34172108  0.33704707  0.55677461], Cube : [ 0.34172108  0.33704707  0.55677461]], 1: [Cube : [-0.42892153 -0.19568418  0.24090695], Cube : [-0.42892153 -0.19568418  0.24090695]]}\n",
      "2\n",
      "{0: [Cube : [-0.37434037 -0.28024     1.42193026], Cube : [-0.37434037 -0.28024     1.42193026]], 1: [Cube : [-0.6394167   0.18493868  0.2832568 ], Cube : [-0.6394167   0.18493868  0.2832568 ]]}\n",
      "2\n",
      "{0: [Cube : [-0.62985589 -0.75101315  0.10300094], Cube : [-0.62985589 -0.75101315  0.10300094]], 1: [Cube : [ 0.11027034  0.57658652  0.01707803], Cube : [ 0.11027034  0.57658652  0.01707803]]}\n",
      "2\n",
      "{0: [Cube : [-0.33034337  0.71999706  1.35707791], Cube : [-0.33034337  0.71999706  1.35707791]], 1: [Cube : [-0.73390899  0.17480451  0.21875408], Cube : [-0.73390899  0.17480451  0.21875408]]}\n",
      "2\n",
      "{0: [Cube : [ 0.81621003 -0.13119342  1.49470394], Cube : [ 0.81621003 -0.13119342  1.49470394]], 1: [Cube : [-0.28462131  0.78325924  1.48912216], Cube : [-0.28462131  0.78325924  1.48912216]]}\n",
      "2\n",
      "{0: [Cube : [ 0.15531745  0.64278975  0.77018497], Cube : [ 0.15531745  0.64278975  0.77018497]], 1: [Cube : [ 0.43563523  0.64134407  0.23768533], Cube : [ 0.43563523  0.64134407  0.23768533]]}\n",
      "2\n",
      "{0: [Cube : [ 0.63960745  0.43012832  0.41412704], Cube : [ 0.63960745  0.43012832  0.41412704]], 1: [Cube : [ 0.58609472 -0.05352935  0.62414554], Cube : [ 0.58609472 -0.05352935  0.62414554]]}\n",
      "2\n",
      "{0: [Cube : [ 0.24168636  0.39252105  0.28798386], Cube : [ 0.24168636  0.39252105  0.28798386]], 1: [Cube : [ 0.02820534  0.44293384  0.19889464], Cube : [ 0.02820534  0.44293384  0.19889464]]}\n",
      "2\n",
      "{0: [Cube : [-0.49865954  0.18110134  1.19365326], Cube : [-0.49865954  0.18110134  1.19365326]], 1: [Cube : [ 0.026906    0.3876244   0.18279753], Cube : [ 0.026906    0.3876244   0.18279753]]}\n",
      "2\n",
      "{0: [Cube : [-0.79692052  0.45260284  0.33559551], Cube : [-0.79692052  0.45260284  0.33559551]], 1: [Cube : [ 0.17771059  0.51596776  0.50254869], Cube : [ 0.17771059  0.51596776  0.50254869]]}\n",
      "2\n",
      "{0: [Cube : [-0.28030275  0.48414301  0.95671039], Cube : [-0.28030275  0.48414301  0.95671039]], 1: [Cube : [-0.28693784 -0.49527133  0.78411213], Cube : [-0.28693784 -0.49527133  0.78411213]]}\n",
      "2\n",
      "{0: [Cube : [ 0.32109116  0.4350941   0.1947212 ], Cube : [ 0.32109116  0.4350941   0.1947212 ]], 1: [Cube : [-0.14206261 -0.05294665  0.36596016], Cube : [-0.14206261 -0.05294665  0.36596016]]}\n",
      "2\n",
      "{0: [Cube : [ 0.7591971   0.3051957   0.00209214], Cube : [ 0.7591971   0.3051957   0.00209214]], 1: [Cube : [ -5.04113370e-04   7.16025638e-01   7.25222713e-01], Cube : [ -5.04113370e-04   7.16025638e-01   7.25222713e-01]]}\n",
      "2\n",
      "{0: [Cube : [-0.07380572  0.83469808  0.522524  ], Cube : [-0.07380572  0.83469808  0.522524  ]], 1: [Cube : [ 0.67957439  0.74641185  1.04675469], Cube : [ 0.67957439  0.74641185  1.04675469]]}\n",
      "2\n",
      "{0: [Cube : [ 0.61571987 -0.50425999  0.33635671], Cube : [ 0.61571987 -0.50425999  0.33635671]], 1: [Cube : [-0.79549535 -0.28647871  1.397676  ], Cube : [-0.79549535 -0.28647871  1.397676  ]]}\n",
      "2\n",
      "{0: [Cube : [ 0.4867828   0.73188195  0.55448606], Cube : [ 0.4867828   0.73188195  0.55448606]], 1: [Cube : [ 0.39567735 -0.53245829  0.93861959], Cube : [ 0.39567735 -0.53245829  0.93861959]]}\n",
      "2\n",
      "{0: [Cube : [-0.31097684  0.03674724  0.70958524], Cube : [-0.31097684  0.03674724  0.70958524]], 1: [Cube : [-0.09470215 -0.59219557  0.38669785], Cube : [-0.09470215 -0.59219557  0.38669785]]}\n",
      "2\n",
      "{0: [Cube : [-0.57544187  0.76691688  1.14983382], Cube : [-0.57544187  0.76691688  1.14983382]], 1: [Cube : [-0.40253425  0.052639    0.29607098], Cube : [-0.40253425  0.052639    0.29607098]]}\n",
      "2\n",
      "{0: [Cube : [ 0.58636237 -0.07441059  0.82339526], Cube : [ 0.58636237 -0.07441059  0.82339526]], 1: [Cube : [-0.70815127 -0.24900261  0.24997436], Cube : [-0.70815127 -0.24900261  0.24997436]]}\n",
      "2\n",
      "{0: [Cube : [ 0.80797476  0.23521837  1.47759629], Cube : [ 0.80797476  0.23521837  1.47759629]], 1: [Cube : [-0.53359216 -0.09687403  1.44851817], Cube : [-0.53359216 -0.09687403  1.44851817]]}\n",
      "2\n",
      "{0: [Cube : [ 0.34852176 -0.84887454  1.19670268], Cube : [ 0.34852176 -0.84887454  1.19670268]], 1: [Cube : [-0.47511726  0.79322042  0.85415531], Cube : [-0.47511726  0.79322042  0.85415531]]}\n",
      "2\n",
      "{0: [Cube : [ 0.57784254  0.1911015   1.43822853], Cube : [ 0.57784254  0.1911015   1.43822853]], 1: [Cube : [-0.39864651  0.29005535  0.82348607], Cube : [-0.39864651  0.29005535  0.82348607]]}\n",
      "2\n",
      "{0: [Cube : [-0.70081922 -0.42025777  1.35860764], Cube : [-0.70081922 -0.42025777  1.35860764]], 1: [Cube : [ 0.39762739 -0.58261602  1.18298782], Cube : [ 0.39762739 -0.58261602  1.18298782]]}\n",
      "2\n",
      "{0: [Cube : [ 0.76164959  0.31809719  0.46294835], Cube : [ 0.76164959  0.31809719  0.46294835]], 1: [Cube : [ 0.02167303 -0.61720584  0.17587428], Cube : [ 0.02167303 -0.61720584  0.17587428]]}\n",
      "2\n",
      "{0: [Cube : [-0.25313046  0.2020372   0.08056887], Cube : [-0.25313046  0.2020372   0.08056887]], 1: [Cube : [-0.65018408  0.13951019  0.2948937 ], Cube : [-0.65018408  0.13951019  0.2948937 ]]}\n",
      "2\n",
      "{0: [Cube : [-0.1611907  -0.39048716  1.41763946], Cube : [-0.1611907  -0.39048716  1.41763946]], 1: [Cube : [ 0.20428668 -0.41321188  0.06989248], Cube : [ 0.20428668 -0.41321188  0.06989248]]}\n",
      "2\n",
      "{0: [Cube : [-0.61435118 -0.33170012  1.18838265], Cube : [-0.61435118 -0.33170012  1.18838265]], 1: [Cube : [ 0.30122526  0.091813    1.30194684], Cube : [ 0.30122526  0.091813    1.30194684]]}\n",
      "2\n",
      "{0: [Cube : [-0.22009026 -0.54948989  1.17345437], Cube : [-0.22009026 -0.54948989  1.17345437]], 1: [Cube : [ 0.75565406  0.79363826  0.90347271], Cube : [ 0.75565406  0.79363826  0.90347271]]}\n",
      "2\n",
      "{0: [Cube : [ 0.1997418  -0.49949193  0.13848182], Cube : [ 0.1997418  -0.49949193  0.13848182]], 1: [Cube : [ 0.66345761 -0.50980725  1.0760049 ], Cube : [ 0.66345761 -0.50980725  1.0760049 ]]}\n",
      "2\n",
      "{0: [Cube : [-0.50240031  0.30852278  0.33266821], Cube : [-0.50240031  0.30852278  0.33266821]], 1: [Cube : [ 0.34322975  0.04482232  0.45061416], Cube : [ 0.34322975  0.04482232  0.45061416]]}\n",
      "2\n",
      "{0: [Cube : [-0.39134199  0.10812847  1.38633732], Cube : [-0.39134199  0.10812847  1.38633732]], 1: [Cube : [ 0.50716532 -0.36386708  0.31206634], Cube : [ 0.50716532 -0.36386708  0.31206634]]}\n",
      "2\n",
      "{0: [Cube : [ 0.08087544 -0.76388463  0.31940647], Cube : [ 0.08087544 -0.76388463  0.31940647]], 1: [Cube : [-0.68820281 -0.78721285  0.97358016], Cube : [-0.68820281 -0.78721285  0.97358016]]}\n",
      "2\n",
      "{0: [Cube : [-0.13656255  0.75217237  1.44435667], Cube : [-0.13656255  0.75217237  1.44435667]], 1: [Cube : [-0.17657085 -0.78680283  0.2112848 ], Cube : [-0.17657085 -0.78680283  0.2112848 ]]}\n",
      "2\n",
      "{0: [Cube : [ 0.39737674 -0.33849194  1.02090784], Cube : [ 0.39737674 -0.33849194  1.02090784]], 1: [Cube : [ 0.07015377  0.68174741  0.8670884 ], Cube : [ 0.07015377  0.68174741  0.8670884 ]]}\n",
      "2\n",
      "{0: [Cube : [-0.48013303 -0.26487261  0.66028443], Cube : [-0.48013303 -0.26487261  0.66028443]], 1: [Cube : [-0.71919977  0.53716528  0.46866278], Cube : [-0.71919977  0.53716528  0.46866278]]}\n",
      "2\n",
      "{0: [Cube : [ 0.23448976 -0.47561837  0.98373409], Cube : [ 0.23448976 -0.47561837  0.98373409]], 1: [Cube : [ 0.64386412 -0.21755599  0.86860056], Cube : [ 0.64386412 -0.21755599  0.86860056]]}\n",
      "2\n",
      "{0: [Cube : [-0.28357633 -0.35451498  1.15769231], Cube : [-0.28357633 -0.35451498  1.15769231]], 1: [Cube : [-0.31750223 -0.63078243  1.3880414 ], Cube : [-0.31750223 -0.63078243  1.3880414 ]]}\n",
      "2\n",
      "{0: [Cube : [-0.81756254 -0.53249622  1.33606543], Cube : [-0.81756254 -0.53249622  1.33606543]], 1: [Cube : [-0.19635129 -0.57897787  1.18529508], Cube : [-0.19635129 -0.57897787  1.18529508]]}\n",
      "2\n",
      "Current loop index = 0\n"
     ]
    },
    {
     "name": "stdout",
     "output_type": "stream",
     "text": [
      "action_level = 0\n",
      "exploration_index = 0\n",
      "{0: [Cube : [ 0.4646263   0.32597759  1.37317888], Cube : [ 0.4646263   0.32597759  1.37317888]], 1: [Cube : [ 0.22881703  0.06421508  0.63298786], Cube : [ 0.22881703  0.06421508  0.63298786]], 2: [], 3: []}\n",
      "2\n"
     ]
    },
    {
     "ename": "IndexError",
     "evalue": "list index out of range",
     "output_type": "error",
     "traceback": [
      "\u001b[1;31m---------------------------------------------------------------------------\u001b[0m",
      "\u001b[1;31mIndexError\u001b[0m                                Traceback (most recent call last)",
      "\u001b[1;32m<ipython-input-38-b9772b0aca8a>\u001b[0m in \u001b[0;36m<module>\u001b[1;34m()\u001b[0m\n\u001b[0;32m     46\u001b[0m     \u001b[1;32mreturn\u001b[0m \u001b[0mq\u001b[0m\u001b[1;33m\u001b[0m\u001b[0m\n\u001b[0;32m     47\u001b[0m \u001b[1;33m\u001b[0m\u001b[0m\n\u001b[1;32m---> 48\u001b[1;33m \u001b[0maction_ln\u001b[0m\u001b[1;33m.\u001b[0m\u001b[0mlearn\u001b[0m\u001b[1;33m(\u001b[0m\u001b[0maction_policy\u001b[0m\u001b[1;33m(\u001b[0m\u001b[0mc\u001b[0m\u001b[1;33m)\u001b[0m\u001b[1;33m,\u001b[0m \u001b[0mverbose\u001b[0m \u001b[1;33m=\u001b[0m \u001b[1;32mTrue\u001b[0m\u001b[1;33m)\u001b[0m\u001b[1;33m\u001b[0m\u001b[0m\n\u001b[0m",
      "\u001b[1;32mD:\\git\\learn-to-perform\\rl\\action_learner_search.py\u001b[0m in \u001b[0;36mlearn\u001b[1;34m(self, action_policy, verbose)\u001b[0m\n\u001b[0;32m    304\u001b[0m \u001b[1;33m\u001b[0m\u001b[0m\n\u001b[0;32m    305\u001b[0m                     \u001b[1;32mif\u001b[0m \u001b[0maction_level\u001b[0m \u001b[1;33m==\u001b[0m \u001b[1;36m0\u001b[0m\u001b[1;33m:\u001b[0m\u001b[1;33m\u001b[0m\u001b[0m\n\u001b[1;32m--> 306\u001b[1;33m                         \u001b[0mstate\u001b[0m \u001b[1;33m=\u001b[0m \u001b[0mexploration\u001b[0m\u001b[1;33m.\u001b[0m\u001b[0mget_observation_start\u001b[0m\u001b[1;33m(\u001b[0m\u001b[1;33m)\u001b[0m\u001b[1;33m\u001b[0m\u001b[0m\n\u001b[0m\u001b[0;32m    307\u001b[0m                     \u001b[1;32melse\u001b[0m\u001b[1;33m:\u001b[0m\u001b[1;33m\u001b[0m\u001b[0m\n\u001b[0;32m    308\u001b[0m                         \u001b[1;31m# State interpolated by WHOLE mode\u001b[0m\u001b[1;33m\u001b[0m\u001b[1;33m\u001b[0m\u001b[0m\n",
      "\u001b[1;32mD:\\git\\learn-to-perform\\rl\\block_movement_env.py\u001b[0m in \u001b[0;36mget_observation_start\u001b[1;34m(self)\u001b[0m\n\u001b[0;32m    439\u001b[0m \u001b[1;33m\u001b[0m\u001b[0m\n\u001b[0;32m    440\u001b[0m         \u001b[1;31m# Set the first observation\u001b[0m\u001b[1;33m\u001b[0m\u001b[1;33m\u001b[0m\u001b[0m\n\u001b[1;32m--> 441\u001b[1;33m         \u001b[0mobservation\u001b[0m \u001b[1;33m=\u001b[0m \u001b[0mself\u001b[0m\u001b[1;33m.\u001b[0m\u001b[0m_get_observation\u001b[0m\u001b[1;33m(\u001b[0m\u001b[0mlast_frames\u001b[0m\u001b[1;33m)\u001b[0m\u001b[1;33m\u001b[0m\u001b[0m\n\u001b[0m\u001b[0;32m    442\u001b[0m \u001b[1;33m\u001b[0m\u001b[0m\n\u001b[0;32m    443\u001b[0m         \u001b[1;32mreturn\u001b[0m \u001b[0mobservation\u001b[0m\u001b[1;33m\u001b[0m\u001b[0m\n",
      "\u001b[1;32mD:\\git\\learn-to-perform\\rl\\block_movement_env.py\u001b[0m in \u001b[0;36m_get_observation\u001b[1;34m(self, session)\u001b[0m\n\u001b[0;32m    377\u001b[0m         \u001b[0mprint\u001b[0m \u001b[1;33m(\u001b[0m\u001b[0msess_len\u001b[0m\u001b[1;33m)\u001b[0m\u001b[1;33m\u001b[0m\u001b[0m\n\u001b[0;32m    378\u001b[0m \u001b[1;33m\u001b[0m\u001b[0m\n\u001b[1;32m--> 379\u001b[1;33m         \u001b[0mobject_1_name\u001b[0m\u001b[1;33m,\u001b[0m \u001b[0mobject_2_name\u001b[0m \u001b[1;33m=\u001b[0m \u001b[0mfeature_utils\u001b[0m\u001b[1;33m.\u001b[0m\u001b[0mget_most_active_objects_interval\u001b[0m\u001b[1;33m(\u001b[0m\u001b[0mobject_data\u001b[0m\u001b[1;33m,\u001b[0m \u001b[0mobject_data\u001b[0m\u001b[1;33m.\u001b[0m\u001b[0mkeys\u001b[0m\u001b[1;33m(\u001b[0m\u001b[1;33m)\u001b[0m\u001b[1;33m,\u001b[0m \u001b[1;36m0\u001b[0m\u001b[1;33m,\u001b[0m \u001b[0msess_len\u001b[0m\u001b[1;33m)\u001b[0m\u001b[1;33m\u001b[0m\u001b[0m\n\u001b[0m\u001b[0;32m    380\u001b[0m \u001b[1;33m\u001b[0m\u001b[0m\n\u001b[0;32m    381\u001b[0m         \u001b[0mfeatures\u001b[0m \u001b[1;33m=\u001b[0m \u001b[1;33m[\u001b[0m\u001b[1;33m]\u001b[0m\u001b[1;33m\u001b[0m\u001b[0m\n",
      "\u001b[1;32mD:\\git\\learn-to-perform\\feature_utils.py\u001b[0m in \u001b[0;36mget_most_active_objects_interval\u001b[1;34m(object_data, object_names, start, end)\u001b[0m\n\u001b[0;32m    106\u001b[0m \u001b[1;33m\u001b[0m\u001b[0m\n\u001b[0;32m    107\u001b[0m         \u001b[1;31m#  travelling distance of this object for 5 frames\u001b[0m\u001b[1;33m\u001b[0m\u001b[1;33m\u001b[0m\u001b[0m\n\u001b[1;32m--> 108\u001b[1;33m         \u001b[0md\u001b[0m \u001b[1;33m=\u001b[0m \u001b[0msession_utils\u001b[0m\u001b[1;33m.\u001b[0m\u001b[0mcalculate_distance\u001b[0m\u001b[1;33m(\u001b[0m \u001b[0mone_object_data\u001b[0m\u001b[1;33m,\u001b[0m \u001b[1;36m1\u001b[0m\u001b[1;33m,\u001b[0m \u001b[0mstart\u001b[0m\u001b[1;33m,\u001b[0m \u001b[0mend\u001b[0m\u001b[1;33m)\u001b[0m\u001b[1;33m\u001b[0m\u001b[0m\n\u001b[0m\u001b[0;32m    109\u001b[0m \u001b[1;33m\u001b[0m\u001b[0m\n\u001b[0;32m    110\u001b[0m         \u001b[0md_s\u001b[0m\u001b[1;33m.\u001b[0m\u001b[0mappend\u001b[0m\u001b[1;33m(\u001b[0m\u001b[1;33m(\u001b[0m\u001b[0mobject_name\u001b[0m\u001b[1;33m,\u001b[0m \u001b[0md\u001b[0m\u001b[1;33m)\u001b[0m\u001b[1;33m)\u001b[0m\u001b[1;33m\u001b[0m\u001b[0m\n",
      "\u001b[1;32mD:\\git\\learn-to-perform\\session_utils.py\u001b[0m in \u001b[0;36mcalculate_distance\u001b[1;34m(one_object_data, down_sample, start, end)\u001b[0m\n\u001b[0;32m    177\u001b[0m \u001b[1;33m\u001b[0m\u001b[0m\n\u001b[0;32m    178\u001b[0m     \u001b[1;32mfor\u001b[0m \u001b[0mi\u001b[0m \u001b[1;32min\u001b[0m \u001b[0mrange\u001b[0m\u001b[1;33m(\u001b[0m\u001b[0mstart\u001b[0m\u001b[1;33m,\u001b[0m \u001b[0mend\u001b[0m\u001b[1;33m,\u001b[0m \u001b[0mdown_sample\u001b[0m\u001b[1;33m)\u001b[0m\u001b[1;33m:\u001b[0m\u001b[1;33m\u001b[0m\u001b[0m\n\u001b[1;32m--> 179\u001b[1;33m         \u001b[0mcur_loc\u001b[0m \u001b[1;33m=\u001b[0m \u001b[0mone_object_data\u001b[0m\u001b[1;33m[\u001b[0m\u001b[0mi\u001b[0m\u001b[1;33m]\u001b[0m\u001b[1;33m.\u001b[0m\u001b[0mtransform\u001b[0m\u001b[1;33m.\u001b[0m\u001b[0mposition\u001b[0m\u001b[1;33m\u001b[0m\u001b[0m\n\u001b[0m\u001b[0;32m    180\u001b[0m \u001b[1;33m\u001b[0m\u001b[0m\n\u001b[0;32m    181\u001b[0m         \u001b[1;32mif\u001b[0m \u001b[0misinstance\u001b[0m\u001b[1;33m(\u001b[0m\u001b[0mprev_loc\u001b[0m\u001b[1;33m,\u001b[0m \u001b[0mnp\u001b[0m\u001b[1;33m.\u001b[0m\u001b[0mndarray\u001b[0m\u001b[1;33m)\u001b[0m\u001b[1;33m:\u001b[0m\u001b[1;33m\u001b[0m\u001b[0m\n",
      "\u001b[1;31mIndexError\u001b[0m: list index out of range"
     ]
    }
   ],
   "source": [
    "c = config.Config()\n",
    "c.no_of_loops = 1\n",
    "# c.constraint_sigma = 0\n",
    "reload(block_movement_env)\n",
    "# reload(value_estimator)\n",
    "reload(action_learner_search)\n",
    "tf.reset_default_graph()\n",
    "\n",
    "global_step = tf.Variable(0, name=\"global_step\", trainable=False)\n",
    "\n",
    "sess =  tf.Session()\n",
    "\n",
    "policy_est = action_learner_search.PolicyEstimator(c)\n",
    "\n",
    "sess.run(tf.global_variables_initializer())\n",
    "\n",
    "with tf.variable_scope(\"model\") as scope:\n",
    "    print('-------- Load progress model ---------')\n",
    "    progress_estimator = EventProgressEstimator(is_training=False, name = p.name, config = c)  \n",
    "\n",
    "# Print out all variables that would be restored\n",
    "for variable in tf.get_collection(tf.GraphKeys.GLOBAL_VARIABLES, scope='model'):\n",
    "    print (variable.name)\n",
    "\n",
    "saver = tf.train.Saver(tf.get_collection(tf.GraphKeys.GLOBAL_VARIABLES, scope='model'))\n",
    "saver.restore(sess, '../progress.mod')\n",
    "\n",
    "action_ln = action_learner_search.ActionLearner_Search(c, p, progress_estimator, \n",
    "                               policy_est, session = sess)\n",
    "\n",
    "def action_policy(config):\n",
    "    def boundary_constraint(action):\n",
    "        for i in range(3):\n",
    "            if action[0] < config.playground_x[0]:\n",
    "                return False\n",
    "            if action[0] > config.playground_x[0] + config.playground_dim[0]:\n",
    "                return False\n",
    "        \n",
    "        return True\n",
    "    \n",
    "    def q(state, policy_estimator, no_of_actions = 1, verbose = False, \n",
    "       session = None):\n",
    "        return action_learner_search.random_action_constraint(state, policy_estimator,\n",
    "                    no_of_actions, verbose, session, boundary_constraint)\n",
    "    \n",
    "    return q\n",
    "\n",
    "action_ln.learn(action_policy(c), verbose = True)"
   ]
  },
  {
   "cell_type": "code",
   "execution_count": 34,
   "metadata": {},
   "outputs": [
    {
     "name": "stdout",
     "output_type": "stream",
     "text": [
      "{0: [Cube : [ 0.14964207 -0.79181668  0.02251055], Cube : [ 0.14964207 -0.79181668  0.02251055]], 1: [Cube : [-0.62636363 -0.06188094  0.10401447], Cube : [-0.62636363 -0.06188094  0.10401447]]}\n",
      "2\n"
     ]
    }
   ],
   "source": [
    "a = block_movement_env.BlockMovementEnv(c, p.speed, progress_estimator = progress_estimator)"
   ]
  },
  {
   "cell_type": "code",
   "execution_count": 35,
   "metadata": {
    "collapsed": true
   },
   "outputs": [],
   "source": [
    "b = a.clone()"
   ]
  },
  {
   "cell_type": "code",
   "execution_count": 36,
   "metadata": {},
   "outputs": [
    {
     "name": "stdout",
     "output_type": "stream",
     "text": [
      "{0: [Cube : [ 0.14964207 -0.79181668  0.02251055], Cube : [ 0.14964207 -0.79181668  0.02251055]], 1: [Cube : [-0.62636363 -0.06188094  0.10401447], Cube : [-0.62636363 -0.06188094  0.10401447]]}\n",
      "2\n"
     ]
    },
    {
     "data": {
      "text/plain": [
       "array([ 0.14964207, -0.79181668,  0.02251055,  0.14964207, -0.79181668,\n",
       "        0.02251055, -0.62636363, -0.06188094,  0.10401447, -0.62636363,\n",
       "       -0.06188094,  0.10401447])"
      ]
     },
     "execution_count": 36,
     "metadata": {},
     "output_type": "execute_result"
    }
   ],
   "source": [
    "b.get_observation_start()"
   ]
  },
  {
   "cell_type": "code",
   "execution_count": null,
   "metadata": {
    "collapsed": true
   },
   "outputs": [],
   "source": []
  }
 ],
 "metadata": {
  "kernelspec": {
   "display_name": "Python 3",
   "language": "python",
   "name": "python3"
  },
  "language_info": {
   "codemirror_mode": {
    "name": "ipython",
    "version": 3
   },
   "file_extension": ".py",
   "mimetype": "text/x-python",
   "name": "python",
   "nbconvert_exporter": "python",
   "pygments_lexer": "ipython3",
   "version": "3.5.4"
  }
 },
 "nbformat": 4,
 "nbformat_minor": 2
}
