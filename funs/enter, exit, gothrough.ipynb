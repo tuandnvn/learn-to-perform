{
 "cells": [
  {
   "cell_type": "code",
   "execution_count": 322,
   "metadata": {},
   "outputs": [],
   "source": [
    "from random import random\n",
    "from random import randint\n",
    "from random import choice\n",
    "from numpy import array\n",
    "from numpy import zeros\n",
    "import numpy as np\n",
    "from keras.preprocessing.sequence import pad_sequences"
   ]
  },
  {
   "cell_type": "code",
   "execution_count": 294,
   "metadata": {},
   "outputs": [],
   "source": [
    "from keras.models import Sequential\n",
    "from keras.layers import Conv2D\n",
    "from keras.layers import MaxPooling2D\n",
    "from keras.layers import LSTM\n",
    "from keras.layers import Dense\n",
    "from keras.layers import Flatten\n",
    "from keras.layers import TimeDistributed\n",
    "from keras.optimizers import Adam"
   ]
  },
  {
   "cell_type": "code",
   "execution_count": 80,
   "metadata": {},
   "outputs": [],
   "source": [
    "def check_in_frame ( size, pos ):\n",
    "    \"\"\"\n",
    "    Allow space around the shape\n",
    "    \"\"\"\n",
    "    if 0 <= pos[0] < size and  0 <= pos[1] < size:\n",
    "        return True\n",
    "    return False\n",
    "\n",
    "def check_in_frame_with_space ( size, pos ):\n",
    "    \"\"\"\n",
    "    Allow space around the shape\n",
    "    \"\"\"\n",
    "    if 1 <= pos[0] < size - 1 and  1 <= pos[1] < size - 1:\n",
    "        return True\n",
    "    return False\n",
    "\n",
    "def generate_u_shape ( frame, bottom, left, right, direction, position ):\n",
    "    \"\"\"\n",
    "    Impose an U shape structure on the frame, position is where you start it (top-left corner of rectangle)\n",
    "    \n",
    "    This is an U-shape with bottom = 4, left = 4, right = 3, direction = 0\n",
    "    S\n",
    "    o x x o\n",
    "    o x x o\n",
    "    o o o o\n",
    "    \n",
    "    S o o o \n",
    "    o x x \n",
    "    o x x \n",
    "    o o o\n",
    "    \n",
    "    S o o o\n",
    "    o x x o\n",
    "    o x x o\n",
    "    o \n",
    "    \n",
    "    # Let consider this case in a later phase\n",
    "    This is an U-shape with bottom = 4, left = 4, right = 3, direction = 1\n",
    "    \n",
    "            o\n",
    "          o\n",
    "        o x\n",
    "      o x x x\n",
    "        o x x x o\n",
    "          o x o\n",
    "            o\n",
    "    We can start with even direction first ( 0 (North), 2 (East), 4 (South), 6(West) )\n",
    "    The positions marked with x are the positions that are considered inside the U-shape\n",
    "    \n",
    "    This function returns whether imposition successes, and frame would be imposed with the U-shape\n",
    "    \n",
    "    Parameters:\n",
    "    =====================\n",
    "    frame: squared frame\n",
    "    bottom: integer value\n",
    "    left: integer value\n",
    "    right: integer value\n",
    "    direction: \n",
    "    position: tuple of 2\n",
    "    \n",
    "    Returns:\n",
    "    =====================\n",
    "    - success: whether imposition successes or not\n",
    "    - inside_points: list of points inside the shape (x)\n",
    "    \n",
    "    \"\"\"\n",
    "    size = frame.shape[0]\n",
    "    \n",
    "    if direction == 0 or direction == 4:\n",
    "        other_corner = ( position[0] + max(left, right) - 1, position[1] + bottom - 1 )\n",
    "        \n",
    "    if direction == 2 or direction == 6:\n",
    "        other_corner = ( position[0] + bottom - 1, position[1] + max(left, right) - 1 )\n",
    "\n",
    "    if not check_in_frame_with_space ( size, position) or not check_in_frame_with_space ( size, other_corner ):\n",
    "        return False, ( [], [] )\n",
    "    \n",
    "    # Let's create one U-shape that has a direction == 0, than we rotate it\n",
    "    inner_shape = np.zeros((max(left, right), bottom))\n",
    "    # Left side\n",
    "    for i in range (max(left, right)):\n",
    "        inner_shape[i,0] = 1\n",
    "    \n",
    "    # Right side\n",
    "    for i in range (max(left, right) - min(left, right), max(left, right)):\n",
    "        inner_shape[i,bottom - 1] = 1\n",
    "    \n",
    "    # Bottom side\n",
    "    for i in range (bottom):\n",
    "        inner_shape[max(left, right) - 1,i] = 1\n",
    "        \n",
    "    for i in range(max(left, right) - min(left, right), max(left, right) - 1):\n",
    "        for j in range(1, bottom - 1):\n",
    "            inner_shape[i,j] = 2\n",
    "    \n",
    "    rotated_shape = np.rot90 ( inner_shape, -direction // 2 )\n",
    "    \n",
    "    \n",
    "    frame[ position[0] : position[0] + rotated_shape.shape[0], \n",
    "          position[1] : position[1] + rotated_shape.shape[1] ] = rotated_shape\n",
    "    \n",
    "    inside_points = np.where(frame == 2)\n",
    "    \n",
    "    frame[frame == 2] = 0\n",
    "    \n",
    "    return True, inside_points\n"
   ]
  },
  {
   "cell_type": "code",
   "execution_count": 66,
   "metadata": {},
   "outputs": [],
   "source": [
    "def check_in_range (value, bottom, left, right, direction, position ):\n",
    "    \"\"\"\n",
    "    bottom, left, right, direction, position is the parameters of U-shape\n",
    "    \n",
    "    value is a coordinates (x, y)\n",
    "    \"\"\"\n",
    "    if direction == 0 or direction == 4:\n",
    "        if position[0] <= value[0] <= position[0] + max(left, right) and position[1] <= value[1] <= position[1] + bottom:\n",
    "            return True\n",
    "    \n",
    "    if direction == 2 or direction == 6:\n",
    "        if position[0] <= value[0] <= position[0] + bottom and position[1] <= value[1] <= position[1] +  max(left, right):\n",
    "            return True\n",
    "    \n",
    "    return False"
   ]
  },
  {
   "cell_type": "code",
   "execution_count": 55,
   "metadata": {},
   "outputs": [
    {
     "data": {
      "text/plain": [
       "(array([0, 0, 0, 1, 1, 1], dtype=int64),\n",
       " array([0, 1, 2, 0, 1, 2], dtype=int64))"
      ]
     },
     "execution_count": 55,
     "metadata": {},
     "output_type": "execute_result"
    }
   ],
   "source": [
    "a = np.ones((2,3))\n",
    "np.where(a == 1)"
   ]
  },
  {
   "cell_type": "code",
   "execution_count": 58,
   "metadata": {},
   "outputs": [
    {
     "data": {
      "text/plain": [
       "(True, (array([6, 6, 7, 7], dtype=int64), array([5, 6, 5, 6], dtype=int64)))"
      ]
     },
     "execution_count": 58,
     "metadata": {},
     "output_type": "execute_result"
    }
   ],
   "source": [
    "f = zeros ((10, 10))\n",
    "generate_u_shape (f , 4, 4, 3, 4, (5,4) )"
   ]
  },
  {
   "cell_type": "code",
   "execution_count": 59,
   "metadata": {},
   "outputs": [
    {
     "data": {
      "text/plain": [
       "array([[0., 0., 0., 0., 0., 0., 0., 0., 0., 0.],\n",
       "       [0., 0., 0., 0., 0., 0., 0., 0., 0., 0.],\n",
       "       [0., 0., 0., 0., 0., 0., 0., 0., 0., 0.],\n",
       "       [0., 0., 0., 0., 0., 0., 0., 0., 0., 0.],\n",
       "       [0., 0., 0., 0., 0., 0., 0., 0., 0., 0.],\n",
       "       [0., 0., 0., 0., 1., 1., 1., 1., 0., 0.],\n",
       "       [0., 0., 0., 0., 1., 0., 0., 1., 0., 0.],\n",
       "       [0., 0., 0., 0., 1., 0., 0., 1., 0., 0.],\n",
       "       [0., 0., 0., 0., 0., 0., 0., 1., 0., 0.],\n",
       "       [0., 0., 0., 0., 0., 0., 0., 0., 0., 0.]])"
      ]
     },
     "execution_count": 59,
     "metadata": {},
     "output_type": "execute_result"
    }
   ],
   "source": [
    "f"
   ]
  },
  {
   "cell_type": "code",
   "execution_count": 380,
   "metadata": {},
   "outputs": [],
   "source": [
    "def generate_u_shape_frame ( size, bottom_range = list(range(3,5)), \n",
    "                  left_range = list(range(3,5)), right_range = list(range(3,5)), \n",
    "                  direction_range = list(range(0,8,2)) ):\n",
    "    frame = zeros((size,size))\n",
    "    \n",
    "    # You random a value in those range to add into the frame\n",
    "    # You also\n",
    "    bottom = choice(bottom_range)\n",
    "    left = choice(left_range)\n",
    "    right = choice(right_range)\n",
    "    direction = choice(direction_range)\n",
    "    while True:\n",
    "        position_x = randint ( 0, size - 1 )\n",
    "        position_y = randint ( 0, size - 1 )\n",
    "        position = (position_x, position_y)\n",
    "\n",
    "        success, inner_list = generate_u_shape  ( frame, bottom, left, right, direction, position )\n",
    "        \n",
    "        if success : \n",
    "            break\n",
    "    \n",
    "    # Random outer position for moving point\n",
    "    while True:\n",
    "        pos_start_x = randint ( 0, size - 1 )\n",
    "        pos_start_y = randint ( 0, size - 1 )\n",
    "        \n",
    "        pos_start = (pos_start_x, pos_start_y)\n",
    "        \n",
    "        # Just need to be out of the rectangle\n",
    "        if check_in_range ( pos_start, bottom, left, right, direction, position ):\n",
    "            continue\n",
    "            \n",
    "        break\n",
    "    \n",
    "    # Random inner position for moving point\n",
    "    index = randint ( 0, len(inner_list[0]) - 1 )\n",
    "    pos_end = (inner_list[0][index], inner_list[1][index])\n",
    "    \n",
    "    return frame, pos_start, pos_end"
   ]
  },
  {
   "cell_type": "code",
   "execution_count": 381,
   "metadata": {},
   "outputs": [],
   "source": [
    "frame, pos_start, pos_end = generate_u_shape_frame ( 10 )"
   ]
  },
  {
   "cell_type": "code",
   "execution_count": 382,
   "metadata": {},
   "outputs": [
    {
     "data": {
      "text/plain": [
       "array([[0., 0., 0., 0., 0., 0., 0., 0., 0., 0.],\n",
       "       [0., 0., 0., 0., 0., 0., 0., 0., 0., 0.],\n",
       "       [0., 0., 0., 0., 0., 0., 0., 0., 0., 0.],\n",
       "       [0., 0., 0., 0., 0., 0., 0., 0., 0., 0.],\n",
       "       [0., 0., 0., 0., 0., 0., 0., 0., 0., 0.],\n",
       "       [0., 0., 0., 0., 1., 1., 1., 0., 0., 0.],\n",
       "       [0., 0., 0., 0., 0., 0., 1., 0., 0., 0.],\n",
       "       [0., 0., 0., 0., 0., 0., 1., 0., 0., 0.],\n",
       "       [0., 0., 0., 0., 1., 1., 1., 0., 0., 0.],\n",
       "       [0., 0., 0., 0., 0., 0., 0., 0., 0., 0.]])"
      ]
     },
     "execution_count": 382,
     "metadata": {},
     "output_type": "execute_result"
    }
   ],
   "source": [
    "frame"
   ]
  },
  {
   "cell_type": "code",
   "execution_count": 131,
   "metadata": {},
   "outputs": [
    {
     "data": {
      "text/plain": [
       "(7, 9)"
      ]
     },
     "execution_count": 131,
     "metadata": {},
     "output_type": "execute_result"
    }
   ],
   "source": [
    "pos_start"
   ]
  },
  {
   "cell_type": "code",
   "execution_count": 135,
   "metadata": {},
   "outputs": [
    {
     "data": {
      "text/plain": [
       "(4, 4)"
      ]
     },
     "execution_count": 135,
     "metadata": {},
     "output_type": "execute_result"
    }
   ],
   "source": [
    "pos_end"
   ]
  },
  {
   "cell_type": "code",
   "execution_count": 138,
   "metadata": {},
   "outputs": [],
   "source": [
    "def get_neighbors ( size, pos ):\n",
    "    neighbors = []\n",
    "    for i in range(-1, 2):\n",
    "        for j in range(-1, 2):\n",
    "            if (i == 0 or j == 0) and not i == j == 0:\n",
    "                new_pos = (pos[0] + i, pos[1] + j)\n",
    "                if check_in_frame ( size, new_pos ):\n",
    "                    neighbors.append(new_pos)\n",
    "    return neighbors\n",
    "    \n",
    "\n",
    "def generate_path ( frame, pos_start, pos_end ):\n",
    "    size = frame.shape[0]\n",
    "    # Keep track of the previous cell that has been expanded to\n",
    "    parent = {}\n",
    "    \n",
    "    ### There is nothing too difficult here, we run overflow algorithm to cover the space\n",
    "    f = frame.copy()\n",
    "    f[pos_start] = 2\n",
    "    f[pos_end] = 3\n",
    "    \n",
    "    explore_list = [ pos_start ]\n",
    "    \n",
    "    def search ( l ):\n",
    "        while l:\n",
    "            # Get the shortest path to the pos_end\n",
    "            new_explore_list = []\n",
    "\n",
    "            for pos in l:\n",
    "                for n in get_neighbors( size, pos ):\n",
    "                    if f[n] == 3:\n",
    "                        # Found\n",
    "                        parent[n] = pos\n",
    "                        return\n",
    "                    if f[n] == 0:\n",
    "                        # Add into new list\n",
    "                        new_explore_list.append(n)\n",
    "                        parent[n] = pos\n",
    "                        # 4 is marked\n",
    "                        f[n] = 4\n",
    "            l = new_explore_list\n",
    "        \n",
    "    \n",
    "    search ( explore_list )\n",
    "    cur = pos_end\n",
    "    \n",
    "    path = []\n",
    "    while cur in parent:\n",
    "        path.append(cur)\n",
    "        cur = parent[cur]\n",
    "    \n",
    "    path.append(cur)\n",
    "    return path[::-1]"
   ]
  },
  {
   "cell_type": "code",
   "execution_count": 139,
   "metadata": {},
   "outputs": [
    {
     "data": {
      "text/plain": [
       "[(7, 9), (6, 9), (5, 9), (4, 9), (4, 8), (4, 7), (4, 6), (4, 5), (4, 4)]"
      ]
     },
     "execution_count": 139,
     "metadata": {},
     "output_type": "execute_result"
    }
   ],
   "source": [
    "generate_path ( frame, pos_start, pos_end )"
   ]
  },
  {
   "cell_type": "code",
   "execution_count": 349,
   "metadata": {},
   "outputs": [],
   "source": [
    "def build_frames(size, env_generator ):\n",
    "    frames = list()\n",
    "    # create the first frame\n",
    "    frame, pos_start, pos_end = env_generator ( size )\n",
    "    \n",
    "    # If it is enter (enter = 1): start with pos_start, end with pos_end\n",
    "    # If it is exit (exit = 1): start with pos_end, end with pos_start\n",
    "    r = random()\n",
    "    print (r)\n",
    "    enter = 1 if r < 0.5 else 0\n",
    "    \n",
    "    if enter == 0:\n",
    "        pos_start, pos_end = (pos_end, pos_start)\n",
    "        \n",
    "    path = generate_path ( frame, pos_start, pos_end )\n",
    "    \n",
    "    for step in path:\n",
    "        f = frame.copy()\n",
    "        f[step] = 1\n",
    "        frames.append(f)\n",
    "        \n",
    "    return frames, enter"
   ]
  },
  {
   "cell_type": "code",
   "execution_count": 160,
   "metadata": {},
   "outputs": [],
   "source": [
    "from matplotlib import pyplot"
   ]
  },
  {
   "cell_type": "code",
   "execution_count": 383,
   "metadata": {},
   "outputs": [
    {
     "name": "stdout",
     "output_type": "stream",
     "text": [
      "0.43449652360631996\n",
      "Enter\n",
      "15\n"
     ]
    },
    {
     "data": {
      "image/png": "[encoded data removed]",
      "text/plain": [
       "<matplotlib.figure.Figure at 0x1d6e102a320>"
      ]
     },
     "metadata": {},
     "output_type": "display_data"
    }
   ],
   "source": [
    "size = 12\n",
    "frames, enter = build_frames(size, lambda size: generate_u_shape_frame(size, bottom_range = list(range(3,6)), \n",
    "                  left_range = list(range(3,6)), right_range = list(range(3,6)) ))\n",
    "if enter == 1:\n",
    "    print ('Enter')\n",
    "else:\n",
    "    print ('Exit')\n",
    "    \n",
    "print (len(frames))\n",
    "# plot all frames\n",
    "pyplot.figure()\n",
    "for i in range(len(frames)):\n",
    "    # create a gray scale subplot for each frame\n",
    "    pyplot.subplot(1, len(frames), i + 1)\n",
    "    pyplot.imshow(frames[i], cmap='Greys')\n",
    "    # turn of the scale to make it clearer\n",
    "    ax = pyplot.gca()\n",
    "    ax.get_xaxis().set_visible(False)\n",
    "    ax.get_yaxis().set_visible(False)\n",
    "# show the plot\n",
    "pyplot.show()"
   ]
  },
  {
   "cell_type": "code",
   "execution_count": 660,
   "metadata": {},
   "outputs": [],
   "source": [
    "def pad_frames ( frames, length, padding_start = False  ):\n",
    "    if len(frames) > length:\n",
    "        \"\"\"\n",
    "        Randomly drop some frames, just not the first and last ones\n",
    "        \"\"\"\n",
    "        while len(frames) > length:\n",
    "            drop_index = randint(1, len(frames) - 2)\n",
    "            frames.pop(drop_index)\n",
    "            \n",
    "    if len(frames) < length:\n",
    "        if padding_start:\n",
    "            frames = [frames[0]] * (length - len(frames)) + frames\n",
    "        else:\n",
    "            frames = frames + [frames[-1]] * (length - len(frames))\n",
    "    return frames"
   ]
  },
  {
   "cell_type": "code",
   "execution_count": 717,
   "metadata": {},
   "outputs": [],
   "source": [
    "def build_frames_pad(size, length, env_generator, padding_start = False, enter = None ):\n",
    "    \"\"\"\n",
    "    Limit the length of the session, or adding cloned frame if needed\n",
    "    \"\"\"\n",
    "    frames = list()\n",
    "    # create the first frame\n",
    "    frame, pos_start, pos_end = env_generator ( size )\n",
    "    if frame is None:\n",
    "        return None, None\n",
    "    \n",
    "    if enter is None:\n",
    "        \"\"\"\n",
    "        enter hasn't been set, randomize it\n",
    "        \"\"\"\n",
    "        # If it is enter (enter = 1): start with pos_start, end with pos_end\n",
    "        # If it is exit (exit = 1): start with pos_end, end with pos_start\n",
    "        r = random()\n",
    "        enter = 1 if r < 0.5 else 0\n",
    "    \n",
    "    if enter == 0:\n",
    "        pos_start, pos_end = (pos_end, pos_start)\n",
    "        \n",
    "    path = generate_path ( frame, pos_start, pos_end )\n",
    "    \n",
    "    for step in path:\n",
    "        f = frame.copy()\n",
    "        f[step] = 4\n",
    "        frames.append(f)\n",
    "        \n",
    "    real_len = len(frames)\n",
    "    \n",
    "    if padding_start is not None:\n",
    "        frames = pad_frames ( frames, length, padding_start )\n",
    "        \n",
    "    return frames, enter, real_len"
   ]
  },
  {
   "cell_type": "code",
   "execution_count": 656,
   "metadata": {},
   "outputs": [],
   "source": [
    "frames, enter, real_len = build_frames_pad(size, 10, lambda size: generate_u_shape_frame(size, bottom_range = list(range(3,6)), \n",
    "                  left_range = list(range(3,6)), right_range = list(range(3,6)) ))"
   ]
  },
  {
   "cell_type": "code",
   "execution_count": 592,
   "metadata": {},
   "outputs": [
    {
     "name": "stdout",
     "output_type": "stream",
     "text": [
      "10\n"
     ]
    }
   ],
   "source": [
    "print (len(frames))"
   ]
  },
  {
   "cell_type": "code",
   "execution_count": 593,
   "metadata": {},
   "outputs": [],
   "source": [
    "def plot( sample ):\n",
    "    sample = array(sample)\n",
    "    sample = sample.reshape(sample.shape[0], sample.shape[1], sample.shape[2], 1)\n",
    "    pyplot.figure()\n",
    "    for i in range(len(sample)):\n",
    "        # create a gray scale subplot for each frame\n",
    "        pyplot.subplot(1, len(sample), i + 1)\n",
    "        pyplot.imshow(sample[i,:,:,0], cmap='Greys')\n",
    "        # turn of the scale to make it clearer\n",
    "        ax = pyplot.gca()\n",
    "        ax.get_xaxis().set_visible(False)\n",
    "        ax.get_yaxis().set_visible(False)\n",
    "    # show the plot\n",
    "    pyplot.show()"
   ]
  },
  {
   "cell_type": "code",
   "execution_count": 668,
   "metadata": {},
   "outputs": [],
   "source": [
    "# generate multiple sequences of frames and reshape for network input\n",
    "def generate_examples(size, length, n_patterns, env_generator):\n",
    "    X, y = list(), list()\n",
    "    while len(X) < n_patterns:\n",
    "        frames, enter, real_len = build_frames_pad(size, length, env_generator)\n",
    "        if not frames is None:\n",
    "            X.append(frames)\n",
    "            y.append(enter)\n",
    "    \n",
    "    # resize as [samples, timesteps, width, height, channels]\n",
    "    X = array(X).reshape(n_patterns, length, size, size, 1)\n",
    "    y = array(y).reshape(n_patterns, 1)\n",
    "    return X, y"
   ]
  },
  {
   "cell_type": "code",
   "execution_count": 669,
   "metadata": {},
   "outputs": [],
   "source": [
    "X, y = generate_examples(12, 15, 100, shape_generator)"
   ]
  },
  {
   "cell_type": "code",
   "execution_count": 683,
   "metadata": {},
   "outputs": [
    {
     "data": {
      "image/png": "[encoded data removed]",
      "text/plain": [
       "<matplotlib.figure.Figure at 0x1d6ff7d4ba8>"
      ]
     },
     "metadata": {},
     "output_type": "display_data"
    },
    {
     "data": {
      "image/png": "[encoded data removed]",
      "text/plain": [
       "<matplotlib.figure.Figure at 0x1d6ff107400>"
      ]
     },
     "metadata": {},
     "output_type": "display_data"
    },
    {
     "data": {
      "image/png": "[encoded data removed]",
      "text/plain": [
       "<matplotlib.figure.Figure at 0x1d6ff9acda0>"
      ]
     },
     "metadata": {},
     "output_type": "display_data"
    }
   ],
   "source": [
    "t = 4\n",
    "for i in range( len(X[t]) // 5 ):\n",
    "    plot(X[t][5 * i:5 * i + 5])"
   ]
  },
  {
   "cell_type": "code",
   "execution_count": 684,
   "metadata": {},
   "outputs": [
    {
     "data": {
      "text/plain": [
       "array([[0.   ],\n",
       "       [0.125],\n",
       "       [0.25 ],\n",
       "       [0.375],\n",
       "       [0.5  ],\n",
       "       [0.625],\n",
       "       [0.75 ],\n",
       "       [0.875],\n",
       "       [1.   ],\n",
       "       [1.   ],\n",
       "       [1.   ],\n",
       "       [1.   ],\n",
       "       [1.   ],\n",
       "       [1.   ],\n",
       "       [1.   ]])"
      ]
     },
     "execution_count": 684,
     "metadata": {},
     "output_type": "execute_result"
    }
   ],
   "source": [
    "y_progress[t]"
   ]
  },
  {
   "cell_type": "code",
   "execution_count": 287,
   "metadata": {},
   "outputs": [
    {
     "name": "stdout",
     "output_type": "stream",
     "text": [
      "(20000, 15, 12, 12, 1)\n"
     ]
    }
   ],
   "source": [
    "print (X.shape)"
   ]
  },
  {
   "cell_type": "code",
   "execution_count": 673,
   "metadata": {},
   "outputs": [
    {
     "name": "stdout",
     "output_type": "stream",
     "text": [
      "_________________________________________________________________\n",
      "Layer (type)                 Output Shape              Param #   \n",
      "=================================================================\n",
      "time_distributed_94 (TimeDis (None, None, 11, 11, 4)   20        \n",
      "_________________________________________________________________\n",
      "time_distributed_95 (TimeDis (None, None, 5, 5, 4)     0         \n",
      "_________________________________________________________________\n",
      "time_distributed_96 (TimeDis (None, None, 4, 4, 4)     68        \n",
      "_________________________________________________________________\n",
      "time_distributed_97 (TimeDis (None, None, 2, 2, 4)     0         \n",
      "_________________________________________________________________\n",
      "time_distributed_98 (TimeDis (None, None, 16)          0         \n",
      "_________________________________________________________________\n",
      "lstm_20 (LSTM)               (None, 100)               46800     \n",
      "_________________________________________________________________\n",
      "dense_20 (Dense)             (None, 1)                 101       \n",
      "=================================================================\n",
      "Total params: 46,989\n",
      "Trainable params: 46,989\n",
      "Non-trainable params: 0\n",
      "_________________________________________________________________\n",
      "None\n",
      "Epoch 1/1\n",
      "100/100 [==============================] - 5s 47ms/step - loss: 0.6971 - acc: 0.4800\n"
     ]
    },
    {
     "data": {
      "text/plain": [
       "<keras.callbacks.History at 0x1d700f43ac8>"
      ]
     },
     "execution_count": 673,
     "metadata": {},
     "output_type": "execute_result"
    }
   ],
   "source": [
    "# configure problem\n",
    "# define the model\n",
    "class Classifier ( object ):\n",
    "    def __init__ (self):\n",
    "        self.model = Sequential()\n",
    "        self.model.add(TimeDistributed(Conv2D(4, (2,2), activation='relu'),\n",
    "        input_shape=(None,size,size,1)))\n",
    "        self.model.add(TimeDistributed(MaxPooling2D(pool_size=(2, 2))))\n",
    "        self.model.add(TimeDistributed(Conv2D(4, (2,2), activation='relu'),\n",
    "        input_shape=(None,size,size,1)))\n",
    "        self.model.add(TimeDistributed(MaxPooling2D(pool_size=(2, 2))))\n",
    "        self.model.add(TimeDistributed(Flatten()))\n",
    "\n",
    "        self.model.add(LSTM(100))\n",
    "        self.model.add(Dense(1, activation='sigmoid'))\n",
    "\n",
    "        opt = Adam(lr=0.001, beta_1=0.9, beta_2=0.999, epsilon=None, decay=0.01, amsgrad=False)\n",
    "\n",
    "        self.model.compile(loss='binary_crossentropy', optimizer = opt , metrics=['acc'])\n",
    "        print(self.model.summary())\n",
    "\n",
    "c = Classifier ()\n",
    "c.model.fit(X, y, batch_size=50, epochs=1)"
   ]
  },
  {
   "cell_type": "code",
   "execution_count": 598,
   "metadata": {},
   "outputs": [
    {
     "name": "stdout",
     "output_type": "stream",
     "text": [
      "loss: 0.100671, acc: 96.000000\n",
      "Expected: Enter, Predicted: Enter\n"
     ]
    }
   ],
   "source": [
    "shape_generator = lambda size: generate_u_shape_frame(size, bottom_range = list(range(3,6)), \n",
    "                  left_range = list(range(3,6)), right_range = list(range(3,6)) )\n",
    "# evaluate model\n",
    "X_evaluate, y_evaluate = generate_examples(size, 15, 100, shape_generator)\n",
    "loss, acc = model.evaluate(X_evaluate, y_evaluate, verbose=0)\n",
    "print('loss: %f, acc: %f' % (loss, acc*100))\n",
    "# prediction on new data\n",
    "X_test, y_test = generate_examples(size, 15, 1, shape_generator)\n",
    "yhat = model.predict_classes(X_test, verbose=0)\n",
    "expected = \"Enter\" if y_test[0]==1 else \"Exit\"\n",
    "predicted = \"Enter\" if yhat[0]==1 else \"Exit\"\n",
    "print('Expected: %s, Predicted: %s' % (expected, predicted))"
   ]
  },
  {
   "cell_type": "code",
   "execution_count": 323,
   "metadata": {},
   "outputs": [
    {
     "data": {
      "image/png": "[encoded data removed]",
      "text/plain": [
       "<matplotlib.figure.Figure at 0x1d6df76da90>"
      ]
     },
     "metadata": {},
     "output_type": "display_data"
    }
   ],
   "source": [
    "plot(X_evaluate[0])"
   ]
  },
  {
   "cell_type": "code",
   "execution_count": 721,
   "metadata": {},
   "outputs": [],
   "source": [
    "# generate multiple sequences of frames and reshape for network input\n",
    "def generate_example_progress(size, length, n_patterns, env_generator, enter = True ):\n",
    "    \"\"\"\n",
    "    size: size of the problem (size of image)\n",
    "    \"\"\"\n",
    "    X, y = list(), list()\n",
    "    while len(X) < n_patterns:\n",
    "        frames, _, real_len = build_frames_pad(size, length, env_generator, padding_start = None, enter = enter)\n",
    "        if not frames is None:\n",
    "            X.append(frames)\n",
    "            \n",
    "            if real_len < len(frames):\n",
    "                progress = np.concatenate ( [ np.linspace(0, 1, num=real_len) , [1] * ( len(frames) - real_len ) ] )\n",
    "            else:\n",
    "                progress = np.linspace(0, 1, num=len(frames))\n",
    "            y.append(progress)\n",
    "    \n",
    "    # resize as [samples, timesteps, width, height, channels]\n",
    "\n",
    "    X = array(X).reshape(n_patterns, length, size, size, 1)\n",
    "    y = array(y).reshape(n_patterns, length, 1)\n",
    "    return X, y"
   ]
  },
  {
   "cell_type": "code",
   "execution_count": 727,
   "metadata": {},
   "outputs": [],
   "source": [
    "from collections import defaultdict\n",
    "def generate_example_progress_diff_len(size, length, n_patterns, env_generator, enter = True ):\n",
    "    \"\"\"\n",
    "    Same as generate_example_progress but return different List of X,y for different length\n",
    "    \"\"\"\n",
    "    X, y = defaultdict(list), defaultdict(list)\n",
    "    \n",
    "    total = 0\n",
    "    while total < n_patterns:\n",
    "        frames, _, real_len = build_frames_pad(size, length, env_generator, padding_start = None, enter = enter)\n",
    "        if not frames is None:\n",
    "            progress = np.linspace(0, 1, num=len(frames))\n",
    "                \n",
    "            X[len(frames)].append(frames)\n",
    "            y[len(frames)].append(progress)\n",
    "            total += 1\n",
    "    \n",
    "    for key in X:\n",
    "        # resize as [samples, timesteps, width, height, channels]\n",
    "        X[key] = array(X[key]).reshape(len(X[key]), key, size, size, 1)\n",
    "        y[key] = array(y[key]).reshape(len(y[key]), key, 1)\n",
    "    \n",
    "    samples = []\n",
    "    for key in sorted(X.keys()):\n",
    "        samples.append( (X[key], y[key] ) )\n",
    "        \n",
    "    return samples"
   ]
  },
  {
   "cell_type": "code",
   "execution_count": 708,
   "metadata": {},
   "outputs": [],
   "source": [
    "X, y_progress = generate_example_progress(12, 15, 20000, shape_generator)"
   ]
  },
  {
   "cell_type": "code",
   "execution_count": 730,
   "metadata": {},
   "outputs": [],
   "source": [
    "samples = generate_example_progress_diff_len(12, 15, 20000, shape_generator)"
   ]
  },
  {
   "cell_type": "code",
   "execution_count": 735,
   "metadata": {},
   "outputs": [
    {
     "name": "stdout",
     "output_type": "stream",
     "text": [
      "_________________________________________________________________\n",
      "Layer (type)                 Output Shape              Param #   \n",
      "=================================================================\n",
      "time_distributed_185 (TimeDi (None, None, 11, 11, 4)   20        \n",
      "_________________________________________________________________\n",
      "time_distributed_186 (TimeDi (None, None, 5, 5, 4)     0         \n",
      "_________________________________________________________________\n",
      "time_distributed_187 (TimeDi (None, None, 4, 4, 4)     68        \n",
      "_________________________________________________________________\n",
      "time_distributed_188 (TimeDi (None, None, 2, 2, 4)     0         \n",
      "_________________________________________________________________\n",
      "time_distributed_189 (TimeDi (None, None, 16)          0         \n",
      "_________________________________________________________________\n",
      "lstm_38 (LSTM)               (None, None, 200)         173600    \n",
      "_________________________________________________________________\n",
      "dense_38 (Dense)             (None, None, 1)           201       \n",
      "=================================================================\n",
      "Total params: 173,889\n",
      "Trainable params: 173,889\n",
      "Non-trainable params: 0\n",
      "_________________________________________________________________\n",
      "None\n",
      "Epoch 1/2\n",
      "902/902 [==============================] - 6s 7ms/step - loss: 0.0829\n",
      "Epoch 2/2\n",
      "902/902 [==============================] - 0s 527us/step - loss: 0.0391\n",
      "Epoch 1/2\n",
      "1289/1289 [==============================] - 1s 564us/step - loss: 0.0257\n",
      "Epoch 2/2\n",
      "1289/1289 [==============================] - 1s 549us/step - loss: 0.0188\n",
      "Epoch 1/2\n",
      "1572/1572 [==============================] - 1s 597us/step - loss: 0.0148\n",
      "Epoch 2/2\n",
      "1572/1572 [==============================] - 1s 600us/step - loss: 0.0119\n",
      "Epoch 1/2\n",
      "1808/1808 [==============================] - 1s 667us/step - loss: 0.0105\n",
      "Epoch 2/2\n",
      "1808/1808 [==============================] - 1s 670us/step - loss: 0.0088\n",
      "Epoch 1/2\n",
      "1937/1937 [==============================] - 1s 695us/step - loss: 0.0083\n",
      "Epoch 2/2\n",
      "1937/1937 [==============================] - 1s 692us/step - loss: 0.0071\n",
      "Epoch 1/2\n",
      "1993/1993 [==============================] - 2s 764us/step - loss: 0.0070\n",
      "Epoch 2/2\n",
      "1993/1993 [==============================] - 1s 738us/step - loss: 0.0061\n",
      "Epoch 1/2\n",
      "2040/2040 [==============================] - 2s 799us/step - loss: 0.0059\n",
      "Epoch 2/2\n",
      "2040/2040 [==============================] - 2s 790us/step - loss: 0.0051\n",
      "Epoch 1/2\n",
      "1831/1831 [==============================] - 2s 852us/step - loss: 0.0049\n",
      "Epoch 2/2\n",
      "1831/1831 [==============================] - 2s 841us/step - loss: 0.0043\n",
      "Epoch 1/2\n",
      "1619/1619 [==============================] - 1s 892us/step - loss: 0.0043\n",
      "Epoch 2/2\n",
      "1619/1619 [==============================] - 1s 897us/step - loss: 0.0038\n",
      "Epoch 1/2\n",
      "1395/1395 [==============================] - 1s 982us/step - loss: 0.0037\n",
      "Epoch 2/2\n",
      "1395/1395 [==============================] - 1s 944us/step - loss: 0.0033\n",
      "Epoch 1/2\n",
      "1002/1002 [==============================] - 1s 1ms/step - loss: 0.0034\n",
      "Epoch 2/2\n",
      "1002/1002 [==============================] - 1s 1ms/step - loss: 0.0030\n",
      "Epoch 1/2\n",
      "902/902 [==============================] - 0s 527us/step - loss: 0.1210\n",
      "Epoch 2/2\n",
      "902/902 [==============================] - 0s 519us/step - loss: 0.0276\n",
      "Epoch 1/2\n",
      "1289/1289 [==============================] - 1s 572us/step - loss: 0.0072\n",
      "Epoch 2/2\n",
      "1289/1289 [==============================] - 1s 568us/step - loss: 0.0064\n",
      "Epoch 1/2\n",
      "1572/1572 [==============================] - 1s 611us/step - loss: 0.0084\n",
      "Epoch 2/2\n",
      "1572/1572 [==============================] - 1s 595us/step - loss: 0.0051\n",
      "Epoch 1/2\n",
      "1808/1808 [==============================] - 1s 659us/step - loss: 0.0058\n",
      "Epoch 2/2\n",
      "1808/1808 [==============================] - 1s 656us/step - loss: 0.0042\n",
      "Epoch 1/2\n",
      "1937/1937 [==============================] - 1s 692us/step - loss: 0.0048\n",
      "Epoch 2/2\n",
      "1937/1937 [==============================] - 1s 693us/step - loss: 0.0036\n",
      "Epoch 1/2\n",
      "1993/1993 [==============================] - 2s 754us/step - loss: 0.0041\n",
      "Epoch 2/2\n",
      "1993/1993 [==============================] - 1s 741us/step - loss: 0.0033\n",
      "Epoch 1/2\n",
      "2040/2040 [==============================] - 2s 792us/step - loss: 0.0036\n",
      "Epoch 2/2\n",
      "2040/2040 [==============================] - 2s 802us/step - loss: 0.0029\n",
      "Epoch 1/2\n",
      "1831/1831 [==============================] - 2s 841us/step - loss: 0.0032\n",
      "Epoch 2/2\n",
      "1831/1831 [==============================] - 2s 852us/step - loss: 0.0026\n",
      "Epoch 1/2\n",
      "1619/1619 [==============================] - 1s 910us/step - loss: 0.0030\n",
      "Epoch 2/2\n",
      "1619/1619 [==============================] - 1s 902us/step - loss: 0.0025\n",
      "Epoch 1/2\n",
      "1395/1395 [==============================] - 1s 943us/step - loss: 0.0028\n",
      "Epoch 2/2\n",
      "1395/1395 [==============================] - 1s 936us/step - loss: 0.0024\n",
      "Epoch 1/2\n",
      "1002/1002 [==============================] - 1s 1ms/step - loss: 0.0028\n",
      "Epoch 2/2\n",
      "1002/1002 [==============================] - 1s 1ms/step - loss: 0.0024\n",
      "Epoch 1/2\n",
      "902/902 [==============================] - 0s 513us/step - loss: 0.1397\n",
      "Epoch 2/2\n",
      "902/902 [==============================] - 0s 527us/step - loss: 0.0787\n",
      "Epoch 1/2\n",
      "1289/1289 [==============================] - 1s 543us/step - loss: 0.0136\n",
      "Epoch 2/2\n",
      "1289/1289 [==============================] - 1s 543us/step - loss: 0.0062\n",
      "Epoch 1/2\n",
      "1572/1572 [==============================] - 1s 612us/step - loss: 0.0056\n",
      "Epoch 2/2\n",
      "1572/1572 [==============================] - 1s 606us/step - loss: 0.0045\n",
      "Epoch 1/2\n",
      "1808/1808 [==============================] - 1s 656us/step - loss: 0.0069\n",
      "Epoch 2/2\n",
      "1808/1808 [==============================] - 1s 663us/step - loss: 0.0040\n",
      "Epoch 1/2\n",
      "1937/1937 [==============================] - 1s 709us/step - loss: 0.0054\n",
      "Epoch 2/2\n",
      "1937/1937 [==============================] - 1s 699us/step - loss: 0.0034\n",
      "Epoch 1/2\n",
      "1993/1993 [==============================] - 1s 738us/step - loss: 0.0043\n",
      "Epoch 2/2\n",
      "1993/1993 [==============================] - 1s 752us/step - loss: 0.0031\n",
      "Epoch 1/2\n",
      "2040/2040 [==============================] - 2s 799us/step - loss: 0.0037\n",
      "Epoch 2/2\n",
      "2040/2040 [==============================] - 2s 816us/step - loss: 0.0028\n",
      "Epoch 1/2\n",
      "1831/1831 [==============================] - 2s 872us/step - loss: 0.0033\n",
      "Epoch 2/2\n",
      "1831/1831 [==============================] - 2s 856us/step - loss: 0.0025\n",
      "Epoch 1/2\n",
      "1619/1619 [==============================] - 1s 911us/step - loss: 0.0030\n",
      "Epoch 2/2\n",
      "1619/1619 [==============================] - 1s 893us/step - loss: 0.0024\n",
      "Epoch 1/2\n",
      "1395/1395 [==============================] - 1s 940us/step - loss: 0.0029\n",
      "Epoch 2/2\n",
      "1395/1395 [==============================] - 1s 963us/step - loss: 0.0023\n",
      "Epoch 1/2\n",
      "1002/1002 [==============================] - 1s 1ms/step - loss: 0.0029\n",
      "Epoch 2/2\n",
      "1002/1002 [==============================] - 1s 1ms/step - loss: 0.0023\n",
      "Epoch 1/2\n",
      "902/902 [==============================] - 0s 518us/step - loss: 0.1385\n",
      "Epoch 2/2\n",
      "902/902 [==============================] - 0s 505us/step - loss: 0.1017\n",
      "Epoch 1/2\n",
      "1289/1289 [==============================] - 1s 550us/step - loss: 0.0352\n",
      "Epoch 2/2\n",
      "1289/1289 [==============================] - 1s 564us/step - loss: 0.0166\n",
      "Epoch 1/2\n",
      "1572/1572 [==============================] - 1s 612us/step - loss: 0.0038\n",
      "Epoch 2/2\n",
      "1572/1572 [==============================] - 1s 606us/step - loss: 0.0036\n",
      "Epoch 1/2\n",
      "1808/1808 [==============================] - 1s 658us/step - loss: 0.0057\n",
      "Epoch 2/2\n",
      "1808/1808 [==============================] - 1s 657us/step - loss: 0.0041\n",
      "Epoch 1/2\n",
      "1937/1937 [==============================] - 1s 694us/step - loss: 0.0065\n",
      "Epoch 2/2\n",
      "1937/1937 [==============================] - 1s 700us/step - loss: 0.0039\n",
      "Epoch 1/2\n",
      "1993/1993 [==============================] - 1s 738us/step - loss: 0.0054\n",
      "Epoch 2/2\n",
      "1993/1993 [==============================] - 2s 779us/step - loss: 0.0034\n",
      "Epoch 1/2\n",
      "2040/2040 [==============================] - 2s 794us/step - loss: 0.0044\n",
      "Epoch 2/2\n",
      "2040/2040 [==============================] - 2s 800us/step - loss: 0.0030\n",
      "Epoch 1/2\n",
      "1831/1831 [==============================] - 2s 851us/step - loss: 0.0038\n",
      "Epoch 2/2\n",
      "1831/1831 [==============================] - 2s 849us/step - loss: 0.0028\n",
      "Epoch 1/2\n"
     ]
    },
    {
     "name": "stdout",
     "output_type": "stream",
     "text": [
      "1619/1619 [==============================] - 1s 905us/step - loss: 0.0035\n",
      "Epoch 2/2\n",
      "1619/1619 [==============================] - 1s 919us/step - loss: 0.0027\n",
      "Epoch 1/2\n",
      "1395/1395 [==============================] - 1s 947us/step - loss: 0.0033\n",
      "Epoch 2/2\n",
      "1395/1395 [==============================] - 1s 947us/step - loss: 0.0026\n",
      "Epoch 1/2\n",
      "1002/1002 [==============================] - 1s 1ms/step - loss: 0.0033\n",
      "Epoch 2/2\n",
      "1002/1002 [==============================] - 1s 1ms/step - loss: 0.0026\n",
      "Epoch 1/2\n",
      "902/902 [==============================] - 0s 528us/step - loss: 0.1318\n",
      "Epoch 2/2\n",
      "902/902 [==============================] - 1s 559us/step - loss: 0.1076\n",
      "Epoch 1/2\n",
      "1289/1289 [==============================] - 1s 558us/step - loss: 0.0504\n",
      "Epoch 2/2\n",
      "1289/1289 [==============================] - 1s 552us/step - loss: 0.0302\n",
      "Epoch 1/2\n",
      "1572/1572 [==============================] - 1s 617us/step - loss: 0.0072\n",
      "Epoch 2/2\n",
      "1572/1572 [==============================] - 1s 596us/step - loss: 0.0050\n",
      "Epoch 1/2\n",
      "1808/1808 [==============================] - 1s 682us/step - loss: 0.0040\n",
      "Epoch 2/2\n",
      "1808/1808 [==============================] - 1s 714us/step - loss: 0.0036\n",
      "Epoch 1/2\n",
      "1937/1937 [==============================] - 1s 709us/step - loss: 0.0064\n",
      "Epoch 2/2\n",
      "1937/1937 [==============================] - 1s 697us/step - loss: 0.0044\n",
      "Epoch 1/2\n",
      "1993/1993 [==============================] - 2s 769us/step - loss: 0.0066\n",
      "Epoch 2/2\n",
      "1993/1993 [==============================] - 1s 752us/step - loss: 0.0042\n",
      "Epoch 1/2\n",
      "2040/2040 [==============================] - ETA: 0s - loss: 0.005 - 2s 816us/step - loss: 0.0057\n",
      "Epoch 2/2\n",
      "2040/2040 [==============================] - 2s 805us/step - loss: 0.0037\n",
      "Epoch 1/2\n",
      "1831/1831 [==============================] - 2s 841us/step - loss: 0.0048\n",
      "Epoch 2/2\n",
      "1831/1831 [==============================] - 2s 847us/step - loss: 0.0034\n",
      "Epoch 1/2\n",
      "1619/1619 [==============================] - 1s 905us/step - loss: 0.0044\n",
      "Epoch 2/2\n",
      "1619/1619 [==============================] - 1s 900us/step - loss: 0.0033\n",
      "Epoch 1/2\n",
      "1395/1395 [==============================] - 1s 940us/step - loss: 0.0041\n",
      "Epoch 2/2\n",
      "1395/1395 [==============================] - 1s 941us/step - loss: 0.0032\n",
      "Epoch 1/2\n",
      "1002/1002 [==============================] - 1s 1ms/step - loss: 0.0041\n",
      "Epoch 2/2\n",
      "1002/1002 [==============================] - 1s 1ms/step - loss: 0.0033\n"
     ]
    }
   ],
   "source": [
    "class Progress ( object ):\n",
    "    def __init__ (self):\n",
    "        self.model = Sequential()\n",
    "        self.model.add(TimeDistributed(Conv2D(4, (2,2), activation='relu'),\n",
    "        input_shape=(None,size,size,1)))\n",
    "        self.model.add(TimeDistributed(MaxPooling2D(pool_size=(2, 2))))\n",
    "        self.model.add(TimeDistributed(Conv2D(4, (2,2), activation='relu'),\n",
    "        input_shape=(None,size,size,1)))\n",
    "        self.model.add(TimeDistributed(MaxPooling2D(pool_size=(2, 2))))\n",
    "        self.model.add(TimeDistributed(Flatten()))\n",
    "\n",
    "        self.model.add(LSTM(200, return_sequences=True))\n",
    "        self.model.add(Dense(1, activation='sigmoid'))\n",
    "\n",
    "        opt = Adam(lr=0.002, beta_1=0.9, beta_2=0.999, epsilon=None, decay=0.1, amsgrad=False)\n",
    "\n",
    "        self.model.compile(loss='mean_squared_error', optimizer = opt)\n",
    "        print(self.model.summary())\n",
    "\n",
    "c = Progress ()\n",
    "\n",
    "for epoch in range(5):\n",
    "    print ('------------------------')\n",
    "    print (epoch)\n",
    "    for X, y_progress in samples:\n",
    "        if 6 <= X[0].shape[0] <= 16:\n",
    "            print (X[0].shape[0])\n",
    "            h = c.model.fit(X, y_progress, batch_size=50, epochs=2, verbose = 0)"
   ]
  },
  {
   "cell_type": "code",
   "execution_count": 737,
   "metadata": {},
   "outputs": [
    {
     "name": "stdout",
     "output_type": "stream",
     "text": [
      "loss: 0.132176\n",
      "loss: 0.099321\n",
      "loss: 0.078173\n",
      "loss: 0.057311\n",
      "loss: 0.044871\n",
      "loss: 0.030044\n",
      "loss: 0.020823\n",
      "loss: 0.013300\n",
      "loss: 0.006559\n",
      "loss: 0.003472\n",
      "loss: 0.003855\n"
     ]
    }
   ],
   "source": [
    "test_samples = generate_example_progress_diff_len(12, 15, 500, shape_generator)\n",
    "for X_evaluate, y_progress_evaluate in test_samples:\n",
    "    if 6 <= X_evaluate[0].shape[0] <= 16:\n",
    "        loss = c.model.evaluate(X_evaluate, y_progress_evaluate, verbose=2)\n",
    "        print('loss: %f' % (loss))"
   ]
  },
  {
   "cell_type": "code",
   "execution_count": 713,
   "metadata": {},
   "outputs": [],
   "source": [
    "predicted = c.model.predict(X_evaluate)"
   ]
  },
  {
   "cell_type": "code",
   "execution_count": 714,
   "metadata": {},
   "outputs": [
    {
     "data": {
      "text/plain": [
       "array([0.10750287, 0.08233687, 0.19596638, 0.37185663, 0.4541127 ,\n",
       "       0.60962903, 0.66988796, 0.7525692 , 0.822637  , 0.88096464,\n",
       "       0.924978  , 0.95466036, 0.97281206, 0.9832314 , 0.98909855],\n",
       "      dtype=float32)"
      ]
     },
     "execution_count": 714,
     "metadata": {},
     "output_type": "execute_result"
    }
   ],
   "source": [
    "predicted[0].flatten()"
   ]
  },
  {
   "cell_type": "code",
   "execution_count": 715,
   "metadata": {},
   "outputs": [
    {
     "data": {
      "text/plain": [
       "array([0.        , 0.16666667, 0.33333333, 0.5       , 0.66666667,\n",
       "       0.83333333, 1.        , 1.        , 1.        , 1.        ,\n",
       "       1.        , 1.        , 1.        , 1.        , 1.        ])"
      ]
     },
     "execution_count": 715,
     "metadata": {},
     "output_type": "execute_result"
    }
   ],
   "source": [
    "y_progress_evaluate[0].flatten()"
   ]
  },
  {
   "cell_type": "code",
   "execution_count": 691,
   "metadata": {},
   "outputs": [
    {
     "data": {
      "image/png": "[encoded data removed]",
      "text/plain": [
       "<matplotlib.figure.Figure at 0x1d6ff4f4710>"
      ]
     },
     "metadata": {},
     "output_type": "display_data"
    }
   ],
   "source": [
    "plot(X_evaluate[0])"
   ]
  },
  {
   "cell_type": "code",
   "execution_count": null,
   "metadata": {},
   "outputs": [],
   "source": []
  },
  {
   "cell_type": "code",
   "execution_count": 450,
   "metadata": {},
   "outputs": [],
   "source": [
    "def generate_jar_shape ( frame, width, height, bulb, side, side_start, side_len, direction, position ):\n",
    "    \"\"\"\n",
    "    Impose an jar shape structure on the frame, position is where you start it (top-left corner of rectangle).\n",
    "    This is actually a variance of the U-shape.\n",
    "    The main difference is \n",
    "    \n",
    "    All of the followings have direction = 0, S is where position is\n",
    "    \n",
    "    width = 3, height = 5, bulb = 1 (bulb extended by 1 cell), side = 0 (left, 1 for right), \n",
    "    side_start = 1 (from the top), side_len = 3 ( side_start + side_len < height )\n",
    "    \n",
    "      \n",
    "    S o x o\n",
    "    o o x o\n",
    "    o x x o\n",
    "    o o x o\n",
    "      o o o\n",
    "    \n",
    "    side_start = 2\n",
    "    \n",
    "    S o x o\n",
    "      o x o\n",
    "    o o x o\n",
    "    o x x o\n",
    "    o o o o\n",
    "    \n",
    "    bulb = 2, side_start = 2\n",
    "    S   o x o\n",
    "        o x o\n",
    "    o o o x o\n",
    "    o x x x o\n",
    "    o o o o o\n",
    "    \n",
    "    This function returns whether imposition successes, and frame would be imposed with the jar-shape\n",
    "    \n",
    "    Parameters:\n",
    "    =====================\n",
    "    frame: squared frame\n",
    "    width: width of the main rectangular\n",
    "    height: height of the main rectangular\n",
    "    bulb: \n",
    "    side: \n",
    "    side_start: \n",
    "    side_len:\n",
    "    direction: \n",
    "    position: tuple of 2\n",
    "    \n",
    "    Returns:\n",
    "    =====================\n",
    "    - success: whether imposition successes or not\n",
    "    - inside_points: list of points inside the shape (x)\n",
    "    \n",
    "    \"\"\"\n",
    "    size = frame.shape[0]\n",
    "    \n",
    "    if direction == 0 or direction == 4:\n",
    "        other_corner = ( position[0] + height - 1, position[1] + width + bulb - 1 )\n",
    "        \n",
    "    if direction == 2 or direction == 6:\n",
    "        other_corner = ( position[0] + width + bulb - 1, position[1] + height - 1 )\n",
    "\n",
    "    if not check_in_frame_with_space ( size, position) or not check_in_frame_with_space ( size, other_corner ):\n",
    "        return False, ( [], [] )\n",
    "    \n",
    "    if side_start + side_len >= height:\n",
    "        return False, ( [], [] )\n",
    "    \n",
    "    # Let's create one jar-shape that has a direction == 0, and side = 0\n",
    "    inner_shape = np.zeros((height, width + bulb))\n",
    "\n",
    "    # Right side: draw straight line\n",
    "    for i in range (height):\n",
    "        inner_shape[i,-1] = 1\n",
    "    \n",
    "    # Left side bulb: 5 segments\n",
    "    for i in range (0, side_start):\n",
    "        inner_shape[i, bulb] = 1\n",
    "    \n",
    "    for i in range (0, bulb + 1):\n",
    "        inner_shape[side_start, i] = 1\n",
    "        \n",
    "    for i in range (side_start, side_start + side_len):\n",
    "        inner_shape[i, 0] = 1\n",
    "        \n",
    "    for i in range (0, bulb + 1):\n",
    "        inner_shape[side_start + side_len, i] = 1\n",
    "    \n",
    "    for i in range (side_start + side_len, height):\n",
    "        inner_shape[i, bulb] = 1\n",
    "    \n",
    "    # Bottom side\n",
    "    for i in range (bulb, width + bulb):\n",
    "        inner_shape[height - 1, i] = 1\n",
    "    \n",
    "    # Jar inner\n",
    "    for i in range(0, height - 1):\n",
    "        for j in range(bulb + 1, width + bulb - 1):\n",
    "            inner_shape[i,j] = 2\n",
    "    \n",
    "    # Bulb inner\n",
    "    for i in range(side_start + 1, side_start + side_len):\n",
    "        for j in range(1, width):\n",
    "            inner_shape[i,j] = 2\n",
    "    \n",
    "    if side == 1:\n",
    "        # Flip through the Oy axis\n",
    "        inner_shape = inner_shape[:,::-1]\n",
    "        \n",
    "    rotated_shape = np.rot90 ( inner_shape, -direction // 2 )\n",
    "    \n",
    "    frame[ position[0] : position[0] + rotated_shape.shape[0], \n",
    "          position[1] : position[1] + rotated_shape.shape[1] ] = rotated_shape\n",
    "    \n",
    "    inside_points = np.where(frame == 2)\n",
    "    \n",
    "    frame[frame == 2] = 0\n",
    "    \n",
    "    return True, inside_points"
   ]
  },
  {
   "cell_type": "code",
   "execution_count": 410,
   "metadata": {},
   "outputs": [
    {
     "data": {
      "text/plain": [
       "(True,\n",
       " (array([4, 5, 6, 6, 6, 6, 6, 6, 7, 7, 7, 7, 7, 7, 9], dtype=int64),\n",
       "  array([5, 5, 4, 5, 6, 7, 8, 9, 4, 5, 6, 7, 8, 9, 7], dtype=int64)))"
      ]
     },
     "execution_count": 410,
     "metadata": {},
     "output_type": "execute_result"
    }
   ],
   "source": [
    "f = np.zeros((12, 12))\n",
    "generate_jar_shape ( frame, 4, 5, 2, 0, 1, 2, 2, (3,3) )"
   ]
  },
  {
   "cell_type": "code",
   "execution_count": 451,
   "metadata": {},
   "outputs": [],
   "source": [
    "def check_in_range_jar (value, width, height, bulb, direction, position ):\n",
    "    \"\"\"\n",
    "    \n",
    "    value is a coordinates (x, y)\n",
    "    \"\"\"\n",
    "    if direction == 0 or direction == 4:\n",
    "        other_corner = ( position[0] + height - 1, position[1] + width + bulb - 1 )\n",
    "        \n",
    "    if direction == 2 or direction == 6:\n",
    "        other_corner = ( position[0] + width + bulb - 1, position[1] + height - 1 )\n",
    "        \n",
    "    if position[0] <= value[0] <= other_corner[0] and position[1] <= value[1] <= other_corner[1]:\n",
    "        return True\n",
    "    \n",
    "    return False"
   ]
  },
  {
   "cell_type": "code",
   "execution_count": 500,
   "metadata": {},
   "outputs": [],
   "source": [
    "def generate_jar_shape_frame ( size, width_range = list(range(3,6)), \n",
    "                  height_range = list(range(4,7)), bulb_range = list(range(1,3)),\n",
    "                  side_start_range = list(range(0,3)), side_len_range = list(range(2,4)),\n",
    "                  direction_range = list(range(0,8,2)) ):\n",
    "    frame = zeros((size,size))\n",
    "    \n",
    "    # You random a value in those range to add into the frame\n",
    "    # You also\n",
    "    \n",
    "    width = choice(width_range)\n",
    "    height = choice(height_range)\n",
    "    bulb = choice(bulb_range)\n",
    "    side = choice([0,1])\n",
    "    side_start = choice(side_start_range)\n",
    "    side_len = choice(side_len_range)\n",
    "    direction = choice(direction_range)\n",
    "    \n",
    "    for _ in range(20):\n",
    "        position_x = randint ( 0, size - 1 )\n",
    "        position_y = randint ( 0, size - 1 )\n",
    "        position = (position_x, position_y)\n",
    "\n",
    "        success, inner_list = generate_jar_shape  ( frame, width, height, bulb, side, \n",
    "                                                 side_start, side_len, direction, position )\n",
    "        \n",
    "        \n",
    "        if success :\n",
    "            break\n",
    "    else:\n",
    "        return None, None, None\n",
    "    \n",
    "    # Random outer position for moving point\n",
    "    for _ in range(20):\n",
    "        pos_start_x = randint ( 0, size - 1 )\n",
    "        pos_start_y = randint ( 0, size - 1 )\n",
    "        \n",
    "        pos_start = (pos_start_x, pos_start_y)\n",
    "        \n",
    "        # Just need to be out of the rectangle\n",
    "        if not check_in_range_jar ( pos_start, width, height, bulb, direction, position ):\n",
    "            break\n",
    "    else:\n",
    "        return None, None, None\n",
    "    \n",
    "    # Random inner position for moving point\n",
    "    index = randint ( 0, len(inner_list[0]) - 1 )\n",
    "    pos_end = (inner_list[0][index], inner_list[1][index])\n",
    "    \n",
    "#     frame[pos_start] = 3\n",
    "#     frame[pos_end] = 4\n",
    "    \n",
    "    return frame, pos_start, pos_end"
   ]
  },
  {
   "cell_type": "code",
   "execution_count": 607,
   "metadata": {},
   "outputs": [],
   "source": [
    "def generate_jar_misleading_shape_frame ( size, width_range = list(range(3,6)), \n",
    "                  height_range = list(range(4,7)), bulb_range = list(range(1,3)),\n",
    "                  side_start_range = list(range(0,3)), side_len_range = list(range(2,4)),\n",
    "                  direction_range = list(range(0,8,2)), rec_width_range = list(range(1,3)), \n",
    "                  rec_height_range = list(range(1,3))):\n",
    "    frame, pos_start, pos_end = generate_jar_shape_frame( size, width_range, height_range, bulb_range ,\n",
    "                           side_start_range, side_len_range, direction_range )\n",
    "    \n",
    "    if frame is None:\n",
    "        return None, None, None\n",
    "    \n",
    "    width = choice(rec_width_range)\n",
    "    height = choice(rec_height_range)\n",
    "    \n",
    "    for _ in range(20):\n",
    "        position_x = randint ( 0, size - height )\n",
    "        position_y = randint ( 0, size - width )\n",
    "        position = (position_x, position_y)\n",
    "        \n",
    "        opposite = (position_x + height - 1, position_y + width - 1)\n",
    "        \n",
    "        if position <= pos_start <= opposite or position <= pos_end <= opposite:\n",
    "            continue\n",
    "        \n",
    "        for i in range(position_x, position_x + height):\n",
    "            for j in range(position_y, position_y + width):\n",
    "                if frame[i,j] == 1:\n",
    "                    continue\n",
    "        break\n",
    "    else:\n",
    "        return None, None, None\n",
    "    \n",
    "    for i in range(position_x, position_x + height):\n",
    "        for j in range(position_y, position_y + width):\n",
    "            frame[i,j] = 1\n",
    "            \n",
    "    return frame, pos_start, pos_end"
   ]
  },
  {
   "cell_type": "code",
   "execution_count": 624,
   "metadata": {},
   "outputs": [],
   "source": [
    "frame, pos_start, pos_end = generate_jar_misleading_shape_frame ( 12 )"
   ]
  },
  {
   "cell_type": "code",
   "execution_count": 625,
   "metadata": {},
   "outputs": [
    {
     "data": {
      "text/plain": [
       "array([[0., 0., 0., 0., 0., 0., 0., 0., 0., 0., 0., 0.],\n",
       "       [0., 0., 0., 0., 0., 0., 0., 0., 0., 0., 0., 0.],\n",
       "       [0., 1., 1., 0., 0., 0., 1., 0., 0., 1., 0., 0.],\n",
       "       [0., 0., 0., 0., 0., 0., 1., 0., 0., 1., 0., 0.],\n",
       "       [0., 0., 0., 0., 1., 1., 1., 0., 0., 1., 0., 0.],\n",
       "       [0., 0., 0., 0., 1., 0., 0., 0., 0., 1., 0., 0.],\n",
       "       [0., 0., 0., 0., 1., 0., 0., 0., 0., 1., 0., 0.],\n",
       "       [0., 0., 0., 0., 1., 1., 1., 1., 1., 1., 0., 0.],\n",
       "       [0., 0., 0., 0., 0., 0., 0., 0., 0., 0., 0., 0.],\n",
       "       [0., 0., 0., 0., 0., 0., 0., 0., 0., 0., 0., 0.],\n",
       "       [0., 0., 0., 0., 0., 0., 0., 0., 0., 0., 0., 0.],\n",
       "       [0., 0., 0., 0., 0., 0., 0., 0., 0., 0., 0., 0.]])"
      ]
     },
     "execution_count": 625,
     "metadata": {},
     "output_type": "execute_result"
    }
   ],
   "source": [
    "frame"
   ]
  },
  {
   "cell_type": "code",
   "execution_count": 614,
   "metadata": {},
   "outputs": [
    {
     "data": {
      "text/plain": [
       "(10, 7)"
      ]
     },
     "execution_count": 614,
     "metadata": {},
     "output_type": "execute_result"
    }
   ],
   "source": [
    "pos_start"
   ]
  },
  {
   "cell_type": "code",
   "execution_count": 615,
   "metadata": {},
   "outputs": [
    {
     "data": {
      "text/plain": [
       "(5, 4)"
      ]
     },
     "execution_count": 615,
     "metadata": {},
     "output_type": "execute_result"
    }
   ],
   "source": [
    "pos_end"
   ]
  },
  {
   "cell_type": "code",
   "execution_count": 647,
   "metadata": {},
   "outputs": [],
   "source": [
    "frames, enter = build_frames_pad(size, 15, lambda size: generate_jar_misleading_shape_frame(size , rec_width_range = list(range(1,4)), \n",
    "                  rec_height_range = list(range(1,4))))"
   ]
  },
  {
   "cell_type": "code",
   "execution_count": 635,
   "metadata": {},
   "outputs": [
    {
     "name": "stdout",
     "output_type": "stream",
     "text": [
      "(12, 12)\n"
     ]
    }
   ],
   "source": [
    "print (frames[0].shape)"
   ]
  },
  {
   "cell_type": "code",
   "execution_count": 636,
   "metadata": {},
   "outputs": [
    {
     "data": {
      "image/png": "[encoded data removed]",
      "text/plain": [
       "<matplotlib.figure.Figure at 0x1d6e9e37940>"
      ]
     },
     "metadata": {},
     "output_type": "display_data"
    }
   ],
   "source": [
    "plot(frames)"
   ]
  },
  {
   "cell_type": "code",
   "execution_count": 637,
   "metadata": {},
   "outputs": [
    {
     "data": {
      "image/png": "[encoded data removed]",
      "text/plain": [
       "<matplotlib.figure.Figure at 0x1d6fe25f898>"
      ]
     },
     "metadata": {},
     "output_type": "display_data"
    },
    {
     "data": {
      "image/png": "[encoded data removed]",
      "text/plain": [
       "<matplotlib.figure.Figure at 0x1d6faa8c470>"
      ]
     },
     "metadata": {},
     "output_type": "display_data"
    },
    {
     "data": {
      "image/png": "[encoded data removed]",
      "text/plain": [
       "<matplotlib.figure.Figure at 0x1d6fe19cc50>"
      ]
     },
     "metadata": {},
     "output_type": "display_data"
    }
   ],
   "source": [
    "for i in range( len(frames) // 5 ):\n",
    "    plot(frames[5 * i:5 * i + 5])"
   ]
  },
  {
   "cell_type": "code",
   "execution_count": 649,
   "metadata": {},
   "outputs": [],
   "source": [
    "jar_generator = lambda size: generate_jar_misleading_shape_frame(size, rec_width_range = list(range(1,4)), \n",
    "                  rec_height_range = list(range(1,4)))\n",
    "jar_X, jar_y = generate_examples(12, 15, 500, jar_generator)"
   ]
  },
  {
   "cell_type": "code",
   "execution_count": 650,
   "metadata": {},
   "outputs": [
    {
     "name": "stdout",
     "output_type": "stream",
     "text": [
      "loss: 0.260880, acc: 87.000000\n"
     ]
    }
   ],
   "source": [
    "loss, acc = model.evaluate(jar_X, jar_y, verbose=0)\n",
    "print('loss: %f, acc: %f' % (loss, acc*100))"
   ]
  },
  {
   "cell_type": "code",
   "execution_count": 651,
   "metadata": {},
   "outputs": [],
   "source": [
    "wrongs = []\n",
    "for i in range(100):\n",
    "    loss, acc = model.evaluate(jar_X[i:i+1], jar_y[i:i+1], verbose=0)\n",
    "    if acc == 0:\n",
    "        wrongs.append(i)"
   ]
  },
  {
   "cell_type": "code",
   "execution_count": 652,
   "metadata": {},
   "outputs": [
    {
     "name": "stdout",
     "output_type": "stream",
     "text": [
      "=============\n"
     ]
    },
    {
     "data": {
      "image/png": "[encoded data removed]",
      "text/plain": [
       "<matplotlib.figure.Figure at 0x1d6fd7cfc88>"
      ]
     },
     "metadata": {},
     "output_type": "display_data"
    },
    {
     "data": {
      "image/png": "[encoded data removed]",
      "text/plain": [
       "<matplotlib.figure.Figure at 0x1d6fd9b6b70>"
      ]
     },
     "metadata": {},
     "output_type": "display_data"
    },
    {
     "data": {
      "image/png": "[encoded data removed]",
      "text/plain": [
       "<matplotlib.figure.Figure at 0x1d6fd9152e8>"
      ]
     },
     "metadata": {},
     "output_type": "display_data"
    },
    {
     "name": "stdout",
     "output_type": "stream",
     "text": [
      "=============\n"
     ]
    },
    {
     "data": {
      "image/png": "[encoded data removed]",
      "text/plain": [
       "<matplotlib.figure.Figure at 0x1d6fe338b70>"
      ]
     },
     "metadata": {},
     "output_type": "display_data"
    },
    {
     "data": {
      "image/png": "[encoded data removed]",
      "text/plain": [
       "<matplotlib.figure.Figure at 0x1d6fe340048>"
      ]
     },
     "metadata": {},
     "output_type": "display_data"
    },
    {
     "data": {
      "image/png": "[encoded data removed]",
      "text/plain": [
       "<matplotlib.figure.Figure at 0x1d6fe8b7668>"
      ]
     },
     "metadata": {},
     "output_type": "display_data"
    },
    {
     "name": "stdout",
     "output_type": "stream",
     "text": [
      "=============\n"
     ]
    },
    {
     "data": {
      "image/png": "[encoded data removed]",
      "text/plain": [
       "<matplotlib.figure.Figure at 0x1d6fea6c550>"
      ]
     },
     "metadata": {},
     "output_type": "display_data"
    },
    {
     "data": {
      "image/png": "[encoded data removed]",
      "text/plain": [
       "<matplotlib.figure.Figure at 0x1d6feb25e10>"
      ]
     },
     "metadata": {},
     "output_type": "display_data"
    },
    {
     "data": {
      "image/png": "[encoded data removed]",
      "text/plain": [
       "<matplotlib.figure.Figure at 0x1d6feb2c198>"
      ]
     },
     "metadata": {},
     "output_type": "display_data"
    },
    {
     "name": "stdout",
     "output_type": "stream",
     "text": [
      "=============\n"
     ]
    },
    {
     "data": {
      "image/png": "[encoded data removed]",
      "text/plain": [
       "<matplotlib.figure.Figure at 0x1d6febed240>"
      ]
     },
     "metadata": {},
     "output_type": "display_data"
    },
    {
     "data": {
      "image/png": "[encoded data removed]",
      "text/plain": [
       "<matplotlib.figure.Figure at 0x1d6fece4668>"
      ]
     },
     "metadata": {},
     "output_type": "display_data"
    },
    {
     "data": {
      "image/png": "[encoded data removed]",
      "text/plain": [
       "<matplotlib.figure.Figure at 0x1d6fede5160>"
      ]
     },
     "metadata": {},
     "output_type": "display_data"
    },
    {
     "name": "stdout",
     "output_type": "stream",
     "text": [
      "=============\n"
     ]
    },
    {
     "data": {
      "image/png": "[encoded data removed]",
      "text/plain": [
       "<matplotlib.figure.Figure at 0x1d6fee99588>"
      ]
     },
     "metadata": {},
     "output_type": "display_data"
    },
    {
     "data": {
      "image/png": "[encoded data removed]",
      "text/plain": [
       "<matplotlib.figure.Figure at 0x1d6fef9a198>"
      ]
     },
     "metadata": {},
     "output_type": "display_data"
    },
    {
     "data": {
      "image/png": "[encoded data removed]",
      "text/plain": [
       "<matplotlib.figure.Figure at 0x1d6ff0505f8>"
      ]
     },
     "metadata": {},
     "output_type": "display_data"
    },
    {
     "name": "stdout",
     "output_type": "stream",
     "text": [
      "=============\n"
     ]
    },
    {
     "data": {
      "image/png": "[encoded data removed]",
      "text/plain": [
       "<matplotlib.figure.Figure at 0x1d6ff10f748>"
      ]
     },
     "metadata": {},
     "output_type": "display_data"
    },
    {
     "data": {
      "image/png": "[encoded data removed]",
      "text/plain": [
       "<matplotlib.figure.Figure at 0x1d6ff599400>"
      ]
     },
     "metadata": {},
     "output_type": "display_data"
    },
    {
     "data": {
      "image/png": "[encoded data removed]",
      "text/plain": [
       "<matplotlib.figure.Figure at 0x1d6ff7da828>"
      ]
     },
     "metadata": {},
     "output_type": "display_data"
    },
    {
     "name": "stdout",
     "output_type": "stream",
     "text": [
      "=============\n"
     ]
    },
    {
     "data": {
      "image/png": "[encoded data removed]",
      "text/plain": [
       "<matplotlib.figure.Figure at 0x1d6ffae2400>"
      ]
     },
     "metadata": {},
     "output_type": "display_data"
    },
    {
     "data": {
      "image/png": "[encoded data removed]",
      "text/plain": [
       "<matplotlib.figure.Figure at 0x1d6ffdef978>"
      ]
     },
     "metadata": {},
     "output_type": "display_data"
    },
    {
     "data": {
      "image/png": "[encoded data removed]",
      "text/plain": [
       "<matplotlib.figure.Figure at 0x1d6ffea7f98>"
      ]
     },
     "metadata": {},
     "output_type": "display_data"
    },
    {
     "name": "stdout",
     "output_type": "stream",
     "text": [
      "=============\n"
     ]
    },
    {
     "data": {
      "image/png": "[encoded data removed]",
      "text/plain": [
       "<matplotlib.figure.Figure at 0x1d6fff660f0>"
      ]
     },
     "metadata": {},
     "output_type": "display_data"
    },
    {
     "data": {
      "image/png": "[encoded data removed]",
      "text/plain": [
       "<matplotlib.figure.Figure at 0x1d70001de80>"
      ]
     },
     "metadata": {},
     "output_type": "display_data"
    },
    {
     "data": {
      "image/png": "[encoded data removed]",
      "text/plain": [
       "<matplotlib.figure.Figure at 0x1d7000ddcc0>"
      ]
     },
     "metadata": {},
     "output_type": "display_data"
    },
    {
     "name": "stdout",
     "output_type": "stream",
     "text": [
      "=============\n"
     ]
    },
    {
     "data": {
      "image/png": "[encoded data removed]",
      "text/plain": [
       "<matplotlib.figure.Figure at 0x1d70024ffd0>"
      ]
     },
     "metadata": {},
     "output_type": "display_data"
    },
    {
     "data": {
      "image/png": "[encoded data removed]",
      "text/plain": [
       "<matplotlib.figure.Figure at 0x1d700255630>"
      ]
     },
     "metadata": {},
     "output_type": "display_data"
    },
    {
     "data": {
      "image/png": "[encoded data removed]",
      "text/plain": [
       "<matplotlib.figure.Figure at 0x1d700314588>"
      ]
     },
     "metadata": {},
     "output_type": "display_data"
    },
    {
     "name": "stdout",
     "output_type": "stream",
     "text": [
      "=============\n"
     ]
    },
    {
     "data": {
      "image/png": "[encoded data removed]",
      "text/plain": [
       "<matplotlib.figure.Figure at 0x1d7004829e8>"
      ]
     },
     "metadata": {},
     "output_type": "display_data"
    },
    {
     "data": {
      "image/png": "[encoded data removed]",
      "text/plain": [
       "<matplotlib.figure.Figure at 0x1d70048a128>"
      ]
     },
     "metadata": {},
     "output_type": "display_data"
    },
    {
     "data": {
      "image/png": "[encoded data removed]",
      "text/plain": [
       "<matplotlib.figure.Figure at 0x1d7005434e0>"
      ]
     },
     "metadata": {},
     "output_type": "display_data"
    },
    {
     "name": "stdout",
     "output_type": "stream",
     "text": [
      "=============\n"
     ]
    },
    {
     "data": {
      "image/png": "[encoded data removed]",
      "text/plain": [
       "<matplotlib.figure.Figure at 0x1d7008f9400>"
      ]
     },
     "metadata": {},
     "output_type": "display_data"
    },
    {
     "data": {
      "image/png": "[encoded data removed]",
      "text/plain": [
       "<matplotlib.figure.Figure at 0x1d7008f9550>"
      ]
     },
     "metadata": {},
     "output_type": "display_data"
    },
    {
     "data": {
      "image/png": "[encoded data removed]",
      "text/plain": [
       "<matplotlib.figure.Figure at 0x1d7009ba048>"
      ]
     },
     "metadata": {},
     "output_type": "display_data"
    }
   ],
   "source": [
    "for wrong in wrongs:\n",
    "    print (\"=============\")\n",
    "    for i in range( len(jar_X[wrong]) // 5 ):\n",
    "        plot(jar_X[wrong][5 * i:5 * i + 5])"
   ]
  },
  {
   "cell_type": "code",
   "execution_count": 548,
   "metadata": {},
   "outputs": [
    {
     "name": "stdout",
     "output_type": "stream",
     "text": [
      "loss: 3.041852, acc: 0.000000\n"
     ]
    }
   ],
   "source": [
    "loss, acc = model.evaluate(jar_X[10:11], jar_y[10:11], verbose=4)\n",
    "print('loss: %f, acc: %f' % (loss, acc*100))"
   ]
  },
  {
   "cell_type": "code",
   "execution_count": 654,
   "metadata": {},
   "outputs": [
    {
     "data": {
      "text/plain": [
       "12"
      ]
     },
     "execution_count": 654,
     "metadata": {},
     "output_type": "execute_result"
    }
   ],
   "source": [
    "size"
   ]
  },
  {
   "cell_type": "code",
   "execution_count": null,
   "metadata": {},
   "outputs": [],
   "source": []
  }
 ],
 "metadata": {
  "kernelspec": {
   "display_name": "Python 3",
   "language": "python",
   "name": "python3"
  },
  "language_info": {
   "codemirror_mode": {
    "name": "ipython",
    "version": 3
   },
   "file_extension": ".py",
   "mimetype": "text/x-python",
   "name": "python",
   "nbconvert_exporter": "python",
   "pygments_lexer": "ipython3",
   "version": "3.5.4"
  }
 },
 "nbformat": 4,
 "nbformat_minor": 2
}
