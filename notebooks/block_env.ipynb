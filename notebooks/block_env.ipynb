{
 "cells": [
  {
   "cell_type": "code",
   "execution_count": 3,
   "metadata": {
    "collapsed": true
   },
   "outputs": [],
   "source": [
    "import numpy as np\n",
    "import sys\n",
    "import gym\n",
    "from gym import error, spaces\n",
    "from gym import utils\n",
    "from gym.utils import seeding\n",
    "import os\n",
    "\n",
    "module_path = os.path.abspath(os.path.join('..'))\n",
    "if module_path not in sys.path:\n",
    "    sys.path.append(module_path)\n",
    "    \n",
    "from simulator.utils import Cube2D, Transform2D"
   ]
  },
  {
   "cell_type": "code",
   "execution_count": 34,
   "metadata": {
    "collapsed": true
   },
   "outputs": [],
   "source": [
    "class Gaussian(gym.Space):\n",
    "    \"\"\"\n",
    "    A Gaussian space randomizes an action as a datapoint\n",
    "    using a location and a covariance.\n",
    "    \n",
    "    This is actually a multivariate normal distribution (MVN),\n",
    "    but with non-correlated variables \n",
    "    (the covariance matrix is diagonal and positive)\n",
    "    \n",
    "    A sample usage:\n",
    "    self.action_space = Gaussian(location = [-1,2], diagonal_cov = [1,1])\n",
    "    \"\"\"\n",
    "    def __init__(self, location, diagonal_cov, n_objects = 2, shape=None):\n",
    "        \"\"\"\n",
    "        Two kinds of valid inputs\n",
    "        \n",
    "        - location and diagonal_cov are scalar -> Gaussian distribution\n",
    "        - location and diagonal_cov are np array of same size\n",
    "        \"\"\"\n",
    "        self.n_objects = n_objects\n",
    "        \n",
    "        if np.isscalar(location) and np.isscalar(diagonal_cov):\n",
    "            \"\"\"Gaussian distribution\"\"\"\n",
    "            self.location = np.array([location])\n",
    "            self.diagonal_cov = np.array([diagonal_cov])\n",
    "            self.shape = (1,)\n",
    "        elif isinstance(location, list) and isinstance(diagonal_cov, list):\n",
    "            assert len(location) == len(diagonal_cov)\n",
    "            \n",
    "            self.location = np.array(location)\n",
    "            self.diagonal_cov = np.diag(diagonal_cov)\n",
    "            \n",
    "            self.shape = self.location.shape\n",
    "        else:\n",
    "            assert isinstance(location, np.ndarray)\n",
    "            assert isinstance(diagonal_cov, np.ndarray)\n",
    "            assert location.shape == diagonal_cov.shape\n",
    "        \n",
    "            self.shape = location.shape\n",
    "            \n",
    "            self.location = np.flatten(location)\n",
    "            self.diagonal_cov = np.diag(np.flatten(diagonal_cov))\n",
    "            \n",
    "    def sample(self, object_index = None):\n",
    "        \"\"\"\n",
    "        sample an action to take:\n",
    "        \n",
    "        if object_index == None:\n",
    "            sample both object_index and location of final point\n",
    "        else:\n",
    "            sample jus the location of final point\n",
    "        \"\"\"\n",
    "        s = np.random.multivariate_normal(self.location, self.diagonal_cov)\n",
    "        \n",
    "        # Reshape to original \n",
    "        s.shape = self.shape\n",
    "        \n",
    "        if object_index:\n",
    "            return (object_index, s)\n",
    "        else:\n",
    "            object_index = np.random.choice(self.n_objects)\n",
    "            return (object_index, s)\n",
    "            \n",
    "    def __repr__(self):\n",
    "        return \"MVN (location= \" + str(self.location) + \"; variances = \" + str(self.diagonal_cov) +\")\"\n",
    "    \n",
    "    def __eq__(self, other):\n",
    "        return np.allclose(self.location, other.location) and \\\n",
    "                np.allclose(self.diagonal_cov, other.diagonal_cov)"
   ]
  },
  {
   "cell_type": "code",
   "execution_count": 55,
   "metadata": {
    "collapsed": true
   },
   "outputs": [],
   "source": [
    "class Uniform(gym.Space):\n",
    "    \"\"\"\n",
    "    A uniform distributioin in a bounded \n",
    "    N-dimensional cube\n",
    "    \n",
    "    A sample usage:\n",
    "    Create a square (-1,-1), (-1,1), (1,1), (1,-1)\n",
    "    self.state_space = Uniform(p = [-1,-1], dimension = [2,2])\n",
    "    \"\"\"\n",
    "    def __init__(self, p, dimension, randomizer = np.random):\n",
    "        self.p = np.array(p)\n",
    "        self.dimension = np.array(dimension)\n",
    "        self.p_opposite = self.p + self.dimension\n",
    "        self.randomizer = randomizer\n",
    "        \n",
    "    def sample(self):\n",
    "        return self.randomizer.uniform(self.p, self.p_opposite)\n",
    "    \n",
    "    def __repr__(self):\n",
    "        return \"Uniform (p= \" + str(self.p) + \"; dimension = \" + str(self.dimension) +\")\"\n",
    "    \n",
    "    def __eq__(self, other):\n",
    "        return np.allclose(self.p, other.p) and \\\n",
    "                np.allclose(self.dimension, other.dimension)"
   ]
  },
  {
   "cell_type": "code",
   "execution_count": 46,
   "metadata": {
    "collapsed": true
   },
   "outputs": [],
   "source": [
    "def make_lines(shape):\n",
    "    lines = []\n",
    "    for i in range(len(shape)):\n",
    "        j = (i + 1) % len(shape)\n",
    "        lines.append( [ shape[i], shape[j] ] )\n",
    "    \n",
    "    return lines"
   ]
  },
  {
   "cell_type": "code",
   "execution_count": 69,
   "metadata": {
    "collapsed": true
   },
   "outputs": [],
   "source": [
    "from matplotlib import pyplot as plt\n",
    "import pylab as pl\n",
    "from matplotlib import collections as mc"
   ]
  },
  {
   "cell_type": "code",
   "execution_count": 157,
   "metadata": {
    "collapsed": true
   },
   "outputs": [],
   "source": [
    "colors = [ (1, 0, 0, 1), (0,1,0,1), (0,0,1,1), \n",
    "          (0.5, 0.5, 0, 1), (0,0.5, 0.5,1), (0.5, 0, 0.5,1),\n",
    "         (0.7, 0.3, 0, 1), (0,0.7, 0.3,1), (0.7, 0, 0.3,1),\n",
    "         (0.3, 0.7, 0, 1), (0,0.3, 0.7,1), (0.3, 0, 0.7,1)]"
   ]
  },
  {
   "cell_type": "code",
   "execution_count": 107,
   "metadata": {
    "collapsed": true
   },
   "outputs": [],
   "source": [
    "from simulator.simulator2d import Environment"
   ]
  },
  {
   "cell_type": "code",
   "execution_count": 101,
   "metadata": {
    "collapsed": true
   },
   "outputs": [],
   "source": [
    "class BlockMovementEnv(gym.Env):\n",
    "    reward_range = (0, 1)\n",
    "    metadata = {'render.modes': ['human']}\n",
    "    \"\"\"\n",
    "    \"\"\"\n",
    "    def __init__(self, target, playground_x = [-1,-1, 0],\n",
    "                 playground_dim = [2, 2, np.pi/2], name=None, n_objects = 2,\n",
    "                block_size = 0.15, \n",
    "                 progress_threshold = 0.9):\n",
    "        \"\"\"\n",
    "        Parameters:\n",
    "        - name: the name of the event action to be learned\n",
    "        - target: is a function that produces\n",
    "        a value between 0 and 1 (event progress function)\n",
    "        - playground: a rectangle (x, y, rot, width, height, rot_range)\n",
    "        where (x,y) is a corner of the rectangle\n",
    "        - block_size: the default size for a block\n",
    "        - n_objects: number of objects to be randomized\n",
    "        - progress_threshold: condition for an episode to end\n",
    "        \n",
    "        **Note**\n",
    "        target_function:\n",
    "        event progress function will be defined based on the event type \n",
    "        currently learned\n",
    "        \n",
    "        target_function would be an LSTM\n",
    "        \n",
    "        \n",
    "        \"\"\"\n",
    "        # This env is just a wrapper around an environment that \n",
    "        # I have created before\n",
    "        self.e = Environment()\n",
    "        self.target = target\n",
    "        self.n_objects = n_objects\n",
    "        self.playground_x = playground_x\n",
    "        self.playground_dim = playground_dim\n",
    "        self.name = name\n",
    "        self.block_size = block_size\n",
    "        \n",
    "        # Action space is dynamically created\n",
    "        # The action space would be a combination of a \n",
    "        self.action_space = None\n",
    "        # observation space is a subset of multiple object spaces\n",
    "        self.observation_space = None \n",
    "        \n",
    "        self._seed()\n",
    "        \n",
    "        self.object_space = Uniform(p = playground_x, \n",
    "                                         dimension = playground_dim, \n",
    "                                         randomizer = self.np_random)\n",
    "        \n",
    "        \n",
    "        self._reset()\n",
    "        \n",
    "    def _step(self, action):\n",
    "        # action is generated from the action_policy (external to the environment)\n",
    "        object_index, new_location = action\n",
    "        \n",
    "        position = new_location[:2]\n",
    "        rotation = new_location[2]\n",
    "        scale = self.s[object_index].transform.scale\n",
    "        \n",
    "        self.s[object_index] = Cube2D(transform = Transform2D(position, rotation, scale))\n",
    "        self.lastaction = action\n",
    "        \n",
    "        \n",
    "        current_progress = self.target.predict()\n",
    "        \n",
    "        return (self.s)\n",
    "    \n",
    "    def _reset(self):\n",
    "        # states would be a list of location/orientation for block\n",
    "        # sampled from the observation space\n",
    "        for i in range(self.n_objects):\n",
    "            # Retry randomize a few times\n",
    "            retry = 0\n",
    "            \n",
    "            while True:\n",
    "                obj_params = self.object_space.sample()\n",
    "\n",
    "                position = obj_params[:2]\n",
    "                rotation = obj_params[2]\n",
    "                scale = self.block_size / 2\n",
    "\n",
    "                o = Cube2D(transform = Transform2D(position, rotation, scale))\n",
    "\n",
    "                if self.e.add_object(o):\n",
    "                    break\n",
    "                    \n",
    "                if retry > 3:\n",
    "                    break\n",
    "                \n",
    "                retry += 1\n",
    "            \n",
    "        self.lastaction=None\n",
    "        self.s = self.e.objects\n",
    "        return self.s\n",
    "\n",
    "    def _render(self, mode='human', close=False):\n",
    "        if close:\n",
    "            return\n",
    "        \n",
    "        fig, ax = plt.subplots()\n",
    "        ax.set_xticks(np.arange(self.playground_x[0], \n",
    "                                self.playground_x[0] + self.playground_dim[0], 0.1))\n",
    "        ax.set_yticks(np.arange(self.playground_x[1], \n",
    "                                self.playground_x[1] + self.playground_dim[1], 0.1))\n",
    "        ax.set_xlim([self.playground_x[0], \n",
    "                     self.playground_x[0] + self.playground_dim[0]])\n",
    "        ax.set_ylim([self.playgr\n",
    "                     ound_x[1], \n",
    "                     self.playground_x[1] + self.playground_dim[1]])\n",
    "        fig.set_size_inches(20, 12)\n",
    "        \n",
    "        for i in range(self.n_objects):\n",
    "            # Obj is action position and rotation of object\n",
    "            obj = self.s[i]\n",
    "            position = obj[:2]\n",
    "            rotation = obj[2]\n",
    "            scale = self.block_size / 2\n",
    "            \n",
    "            c = Cube2D(transform = Transform2D(position, rotation, scale))\n",
    "            \n",
    "            shape = c.get_markers()\n",
    "            \n",
    "            lines = make_lines(shape)\n",
    "            lc = mc.LineCollection(lines, colors=colors[i], linewidths=2)\n",
    "            ax.add_collection(lc)\n",
    "        \n",
    "        ax.autoscale()\n",
    "        ax.margins(0.1)\n",
    "\n",
    "        plt.show()\n",
    "\n",
    "    def _seed(self, seed=None):\n",
    "        self.np_random, seed = seeding.np_random(seed)\n",
    "        return [seed]"
   ]
  },
  {
   "cell_type": "code",
   "execution_count": 110,
   "metadata": {
    "collapsed": true
   },
   "outputs": [],
   "source": [
    "env = BlockMovementEnv(None)"
   ]
  },
  {
   "cell_type": "code",
   "execution_count": 154,
   "metadata": {},
   "outputs": [
    {
     "data": {
      "image/png": "[encoded data removed]",
      "text/plain": [
       "<matplotlib.figure.Figure at 0x270ef449a58>"
      ]
     },
     "metadata": {},
     "output_type": "display_data"
    }
   ],
   "source": [
    "env.reset()\n",
    "env.render()"
   ]
  },
  {
   "cell_type": "code",
   "execution_count": 120,
   "metadata": {
    "collapsed": true
   },
   "outputs": [],
   "source": [
    "class ProgressConfig(object):\n",
    "    s2s = False\n",
    "\n",
    "class EventProgressEstimator(object):\n",
    "    \"\"\"\n",
    "    Estimate the progress of event using LSTM\n",
    "    \"\"\"\n",
    "    def __init__(self, is_training, name=None, config = ProgressConfig()):\n",
    "        self.num_steps = num_steps = config.num_steps\n",
    "        self.n_input = n_input = config.n_input\n",
    "        self.size = size = config.hidden_size\n",
    "        # This is an option, if self.s2s = True -> Use all progress values\n",
    "        # otherwise just use the last progress value\n",
    "        self.s2s = config.s2s \n",
    "        \n",
    "        with tf.variable_scope(name):\n",
    "            \"Declare all placeholders\"\n",
    "            \"Placeholder for input\"\n",
    "            \n",
    "            \"\"\"\n",
    "            batch_size\n",
    "            num_steps: length of sequence\n",
    "            n_input: size of feature vectors\n",
    "            \"\"\"\n",
    "            self._input_data = tf.placeholder(tf.float32, [None, num_steps, n_input])\n",
    "            \n",
    "            \"\"\"\n",
    "            (batch_size x num_steps) for sequence to sequence\n",
    "            batch_size for \n",
    "            \"\"\"\n",
    "            if self.s2s:\n",
    "                self._targets = tf.placeholder(tf.float32, [None, num_steps])\n",
    "            else:\n",
    "                self._targets = tf.placeholder(tf.float32, [None])\n",
    "            \n",
    "            lstm_cell = BasicLSTMCell(size, forget_bias = 1.0, state_is_tuple=True)\n",
    "            \n",
    "            if is_training and config.keep_prob < 1:\n",
    "                lstm_cell = DropoutWrapper(lstm_cell, output_keep_prob=config.keep_prob)\n",
    "                \n",
    "            multi_lstm_cell = MultiRNNCell([lstm_cell] * config.num_layers, state_is_tuple=True)\n",
    "            \n",
    "            # Initial states of the cells\n",
    "            # cell.state_size = config.num_layers * 2 * size\n",
    "            # Size = ( batch_size x cell.state_size )\n",
    "            \n",
    "            # We don't know the batch_size here, so don't need\n",
    "            # to specify initial_state\n",
    "            # self._initial_state = multi_lstm_cell.zero_state(batch_size, tf.float32)\n",
    "            \n",
    "            inputs = tf.reshape(self._input_data, [-1, n_input]) # (batch_size * num_steps, n_input)\n",
    "            \n",
    "            with tf.variable_scope(\"linear\"):\n",
    "                weight = tf.get_variable(\"weight\", [n_input, size])\n",
    "                bias = tf.get_variable(\"bias\", [size])\n",
    "\n",
    "                # (batch_size * num_steps, size)\n",
    "                inputs = tf.matmul(inputs, weight) + bias\n",
    "                \n",
    "            inputs = tf.reshape(inputs, (-1, num_steps, size)) # (batch_size, num_steps, size)\n",
    "            \n",
    "            # (output, state)\n",
    "            # output is of size:  ( batch_size, num_steps, size ) or (( batch_size, size ))\n",
    "            # state is of size:   ( batch_size, cell.state_size ) (last state only)\n",
    "            with tf.variable_scope(\"lstm\"):\n",
    "                output_and_state = tf.nn.dynamic_rnn(multi_lstm_cell, inputs, dtype=tf.float32)\n",
    "            \n",
    "            output = output_and_state[0]\n",
    "            # we will pass the hidden state to next run of lstm\n",
    "            self._final_state = output_and_state[1]\n",
    "            \n",
    "            with tf.variable_scope(\"output_linear\"):\n",
    "                weight = tf.get_variable(\"weight\", [size, 1])\n",
    "                bias = tf.get_variable(\"bias\", [1])\n",
    "\n",
    "                \n",
    "                if self.s2s:\n",
    "                    # Need to reshape to 2 dimensions\n",
    "                    output = tf.reshape(output, [-1, size])\n",
    "                    output = output @ weight + bias\n",
    "                    # ( batch_size, num_steps )  \n",
    "                    output = tf.reshape(output, [-1, num_steps])\n",
    "                else:\n",
    "                    #( batch_size, 1)\n",
    "                    # @ is the same as matmul\n",
    "                    output = output @ weight + bias\n",
    "                    \n",
    "            # Remove all 1 dimension\n",
    "            # ( batch_size, num_steps ) or (batch_size)\n",
    "            self.output = tf.squeeze(output)\n",
    "            \n",
    "            # Loss = mean squared error of target and predictions\n",
    "            self.loss = tf.losses.mean_squared_error(self._targets, output)\n",
    "            \n",
    "            self.optimizer = tf.train.AdamOptimizer(learning_rate=learning_rate)\n",
    "            \n",
    "            self.train_op = self.optimizer.minimize(\n",
    "                self.loss, global_step=tf.contrib.framework.get_global_step())\n",
    "    \n",
    "    def checkInputs(self, inputs):\n",
    "        assert isinstance(inputs, np.ndarray)\n",
    "        \n",
    "        assert len(inputs.shape) == 3\n",
    "        assert inputs.shape[1] == self.num_steps\n",
    "        assert inputs.shape[2] == self.n_input\n",
    "    \n",
    "    def checkOutputs(self, outputs, batch_size):\n",
    "        assert isinstance(outputs, np.ndarray)\n",
    "        if self.s2s:\n",
    "            assert len(outputs.shape) == 2\n",
    "            assert outputs[0] == batch_size\n",
    "            assert outputs[1] == self.num_steps\n",
    "        else:\n",
    "            assert len(outputs.shape) == 1\n",
    "            assert outputs[0] == batch_size\n",
    "            \n",
    "        \n",
    "    def update(self, inputs, outputs, sess=None):\n",
    "        \"\"\"\n",
    "        inputs: np.array (batch_size, num_steps, n_input)\n",
    "        outputs: np.array (batch_size, num_steps) or (batch_size)\n",
    "        \n",
    "        We need to run train_op to update the parameters\n",
    "        We also need to return its loss\n",
    "        \"\"\"\n",
    "        self.checkInputs(inputs)\n",
    "        \n",
    "        batch_size = inputs.shape[0]\n",
    "        \n",
    "        self.checkOutputs(outputs, batch_size)\n",
    "        \n",
    "        sess = sess or tf.get_default_session()\n",
    "        _, loss = sess.run([self.train_op, self.loss], \n",
    "                           {self._input_data: inputs, self._targets: outputs})\n",
    "        \n",
    "        return loss\n",
    "    \n",
    "    def predict(self, inputs, outputs = None, sess=None):\n",
    "        \"\"\"\n",
    "        inputs: np.array (batch_size, num_steps, n_input)\n",
    "        outputs: np.array (batch_size, num_steps) or (batch_size)\n",
    "        \n",
    "        This function would not run train_op\n",
    "        outputs is only optional if we want to get the loss\n",
    "        \"\"\"\n",
    "        self.checkInputs(inputs)\n",
    "        \n",
    "        if outputs != None:\n",
    "            batch_size = inputs.shape[0]\n",
    "            self.checkOutputs(outputs, batch_size)\n",
    "        \n",
    "        sess = sess or tf.get_default_session()\n",
    "        \n",
    "        if outputs != None:\n",
    "            predicted, loss = sess.run([self.output, self.loss],\n",
    "                    {self._input_data: inputs, self._targets: outputs})\n",
    "            return (predicted, loss)\n",
    "        else:\n",
    "            predicted = sess.run(self.output,\n",
    "                    {self._input_data: inputs})\n",
    "            return predicted"
   ]
  },
  {
   "cell_type": "code",
   "execution_count": 151,
   "metadata": {},
   "outputs": [],
   "source": [
    "from utils import DATA_DIR, FIRST_EXPERIMENT_CLASSES,\\\n",
    "    SESSION_NAME, SESSION_OBJECTS, SESSION_EVENTS, GLYPH_BOX, NORMAL, \\\n",
    "    START, END, LABEL\n",
    "from read_utils import load_one_param_file\n",
    "from feature_util import project_to2d, qsr_feature_extractor"
   ]
  },
  {
   "cell_type": "code",
   "execution_count": 152,
   "metadata": {},
   "outputs": [
    {
     "ename": "ImportError",
     "evalue": "cannot import name 'interpolate_multi_object_data'",
     "output_type": "error",
     "traceback": [
      "\u001b[1;31m---------------------------------------------------------------------------\u001b[0m",
      "\u001b[1;31mImportError\u001b[0m                               Traceback (most recent call last)",
      "\u001b[1;32m<ipython-input-152-6dfc7ad586c2>\u001b[0m in \u001b[0;36m<module>\u001b[1;34m()\u001b[0m\n\u001b[1;32m----> 1\u001b[1;33m \u001b[1;32mfrom\u001b[0m \u001b[0mfeature_util\u001b[0m \u001b[1;32mimport\u001b[0m \u001b[0minterpolate_multi_object_data\u001b[0m\u001b[1;33m\u001b[0m\u001b[0m\n\u001b[0m",
      "\u001b[1;31mImportError\u001b[0m: cannot import name 'interpolate_multi_object_data'"
     ]
    }
   ],
   "source": [
    "from feature_util import interpolate_multi_object_data"
   ]
  },
  {
   "cell_type": "code",
   "execution_count": 124,
   "metadata": {},
   "outputs": [
    {
     "name": "stdout",
     "output_type": "stream",
     "text": [
      "'NoneType' object has no attribute 'findall'\n",
      "'NoneType' object has no attribute 'findall'\n"
     ]
    }
   ],
   "source": [
    "session_1 = load_one_param_file(os.path.join( DATA_DIR, 'SlideAround', 'Session1', 'files.param'))\n",
    "session_2 = load_one_param_file(os.path.join( DATA_DIR, 'SlideAround', 'Session2', 'files.param'))"
   ]
  },
  {
   "cell_type": "code",
   "execution_count": 144,
   "metadata": {},
   "outputs": [
    {
     "name": "stdout",
     "output_type": "stream",
     "text": [
      "============ table\n",
      "============ Stella Artois\n"
     ]
    },
    {
     "name": "stderr",
     "output_type": "stream",
     "text": [
      "D:\\git\\learn-to-perform\\feature_util.py:34: RuntimeWarning: invalid value encountered in float_scalars\n",
      "  return 0.5*np.abs(np.dot(x,np.roll(y,1))-np.dot(y,np.roll(x,1)))\n",
      "D:\\git\\learn-to-perform\\feature\\project_table.py:112: RuntimeWarning: invalid value encountered in true_divide\n",
      "  \n",
      "C:\\Anaconda3\\envs\\tensorflow-cpu\\lib\\site-packages\\numpy\\linalg\\linalg.py:1804: RuntimeWarning: invalid value encountered in det\n",
      "  r = _umath_linalg.det(a, signature=signature)\n"
     ]
    },
    {
     "name": "stdout",
     "output_type": "stream",
     "text": [
      "============ Shell\n"
     ]
    },
    {
     "ename": "KeyError",
     "evalue": "50",
     "output_type": "error",
     "traceback": [
      "\u001b[1;31m---------------------------------------------------------------------------\u001b[0m",
      "\u001b[1;31mKeyError\u001b[0m                                  Traceback (most recent call last)",
      "\u001b[1;32m<ipython-input-144-1bd4630bcec7>\u001b[0m in \u001b[0;36m<module>\u001b[1;34m()\u001b[0m\n\u001b[1;32m----> 1\u001b[1;33m \u001b[0mfeatures_1\u001b[0m \u001b[1;33m=\u001b[0m \u001b[0mqsr_feature_extractor\u001b[0m\u001b[1;33m(\u001b[0m\u001b[0mqsrlib\u001b[0m\u001b[1;33m,\u001b[0m \u001b[0mproject_to2d\u001b[0m\u001b[1;33m(\u001b[0m\u001b[0msession_1\u001b[0m\u001b[1;33m)\u001b[0m\u001b[1;33m,\u001b[0m \u001b[1;34m'Stella Artois'\u001b[0m\u001b[1;33m,\u001b[0m \u001b[1;34m'Shell'\u001b[0m\u001b[1;33m,\u001b[0m \u001b[1;36m2881\u001b[0m\u001b[1;33m)\u001b[0m\u001b[1;33m\u001b[0m\u001b[0m\n\u001b[0m\u001b[0;32m      2\u001b[0m \u001b[0mfeatures_2\u001b[0m \u001b[1;33m=\u001b[0m \u001b[0mqsr_feature_extractor\u001b[0m\u001b[1;33m(\u001b[0m\u001b[0mqsrlib\u001b[0m\u001b[1;33m,\u001b[0m \u001b[0mproject_to2d\u001b[0m\u001b[1;33m(\u001b[0m\u001b[0msession_2\u001b[0m\u001b[1;33m)\u001b[0m\u001b[1;33m,\u001b[0m \u001b[1;34m'Stella Artois'\u001b[0m\u001b[1;33m,\u001b[0m \u001b[1;34m'Shell'\u001b[0m\u001b[1;33m,\u001b[0m \u001b[1;36m2881\u001b[0m\u001b[1;33m)\u001b[0m\u001b[1;33m\u001b[0m\u001b[0m\n",
      "\u001b[1;32mD:\\git\\learn-to-perform\\feature_util.py\u001b[0m in \u001b[0;36mqsr_feature_extractor\u001b[1;34m(qsrlib, object_data, object_1_name, object_2_name, session_len)\u001b[0m\n\u001b[0;32m    175\u001b[0m \u001b[1;33m\u001b[0m\u001b[0m\n\u001b[0;32m    176\u001b[0m     o1 = [Object_State(name=\"o1\", timestamp=i, x=object_1[i].transform.position[0][0], y=object_1[i].transform.position[0][1]) \n\u001b[1;32m--> 177\u001b[1;33m             for i in range(session_len)]\n\u001b[0m\u001b[0;32m    178\u001b[0m     o2 = [Object_State(name=\"o2\", timestamp=i, x=object_2[i].transform.position[0][0], y=object_2[i].transform.position[0][1]) \n\u001b[0;32m    179\u001b[0m             for i in range(session_len)]\n",
      "\u001b[1;32mD:\\git\\learn-to-perform\\feature_util.py\u001b[0m in \u001b[0;36m<listcomp>\u001b[1;34m(.0)\u001b[0m\n\u001b[0;32m    175\u001b[0m \u001b[1;33m\u001b[0m\u001b[0m\n\u001b[0;32m    176\u001b[0m     o1 = [Object_State(name=\"o1\", timestamp=i, x=object_1[i].transform.position[0][0], y=object_1[i].transform.position[0][1]) \n\u001b[1;32m--> 177\u001b[1;33m             for i in range(session_len)]\n\u001b[0m\u001b[0;32m    178\u001b[0m     o2 = [Object_State(name=\"o2\", timestamp=i, x=object_2[i].transform.position[0][0], y=object_2[i].transform.position[0][1]) \n\u001b[0;32m    179\u001b[0m             for i in range(session_len)]\n",
      "\u001b[1;31mKeyError\u001b[0m: 50"
     ]
    }
   ],
   "source": [
    "features_1 = qsr_feature_extractor(qsrlib, project_to2d(session_1), 'Stella Artois', 'Shell', 2881)\n",
    "features_2 = qsr_feature_extractor(qsrlib, project_to2d(session_2), 'Stella Artois', 'Shell', 2881)"
   ]
  },
  {
   "cell_type": "code",
   "execution_count": 155,
   "metadata": {
    "collapsed": true
   },
   "outputs": [],
   "source": [
    "env2 = BlockMovementEnv(None, n_objects = 10)\n"
   ]
  },
  {
   "cell_type": "code",
   "execution_count": 161,
   "metadata": {},
   "outputs": [
    {
     "data": {
      "image/png": "[encoded data removed]",
      "text/plain": [
       "<matplotlib.figure.Figure at 0x270ef98c2e8>"
      ]
     },
     "metadata": {},
     "output_type": "display_data"
    }
   ],
   "source": [
    "env2.reset()\n",
    "env2.render()"
   ]
  },
  {
   "cell_type": "code",
   "execution_count": null,
   "metadata": {
    "collapsed": true
   },
   "outputs": [],
   "source": []
  }
 ],
 "metadata": {
  "kernelspec": {
   "display_name": "Python 3",
   "language": "python",
   "name": "python3"
  },
  "language_info": {
   "codemirror_mode": {
    "name": "ipython",
    "version": 3
   },
   "file_extension": ".py",
   "mimetype": "text/x-python",
   "name": "python",
   "nbconvert_exporter": "python",
   "pygments_lexer": "ipython3",
   "version": "3.5.4"
  }
 },
 "nbformat": 4,
 "nbformat_minor": 2
}
