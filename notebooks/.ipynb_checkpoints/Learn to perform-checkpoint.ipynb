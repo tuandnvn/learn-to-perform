{
 "cells": [
  {
   "cell_type": "code",
   "execution_count": 1,
   "metadata": {
    "collapsed": true
   },
   "outputs": [],
   "source": [
    "import numpy as np"
   ]
  },
  {
   "cell_type": "code",
   "execution_count": 2,
   "metadata": {},
   "outputs": [
    {
     "data": {
      "text/plain": [
       "array([], shape=(2, 0), dtype=float32)"
      ]
     },
     "execution_count": 2,
     "metadata": {},
     "output_type": "execute_result"
    }
   ],
   "source": [
    "np.zeros((2, 0), dtype = np.float32)"
   ]
  },
  {
   "cell_type": "code",
   "execution_count": 3,
   "metadata": {
    "collapsed": true
   },
   "outputs": [],
   "source": [
    "t = np.zeros((2, 0), dtype = np.float32)"
   ]
  },
  {
   "cell_type": "code",
   "execution_count": 4,
   "metadata": {
    "collapsed": true
   },
   "outputs": [],
   "source": [
    "t = np.array([[1,1], [1,-1], [-1, 1], [-1,-1]], dtype = np.float32)"
   ]
  },
  {
   "cell_type": "code",
   "execution_count": 5,
   "metadata": {},
   "outputs": [
    {
     "data": {
      "text/plain": [
       "8"
      ]
     },
     "execution_count": 5,
     "metadata": {},
     "output_type": "execute_result"
    }
   ],
   "source": [
    "t.size"
   ]
  },
  {
   "cell_type": "code",
   "execution_count": 6,
   "metadata": {},
   "outputs": [
    {
     "data": {
      "text/plain": [
       "(4, 2)"
      ]
     },
     "execution_count": 6,
     "metadata": {},
     "output_type": "execute_result"
    }
   ],
   "source": [
    "t.shape"
   ]
  },
  {
   "cell_type": "code",
   "execution_count": 8,
   "metadata": {},
   "outputs": [
    {
     "data": {
      "text/plain": [
       "array([[ 1.,  1., -1., -1.],\n",
       "       [ 1., -1.,  1., -1.]], dtype=float32)"
      ]
     },
     "execution_count": 8,
     "metadata": {},
     "output_type": "execute_result"
    }
   ],
   "source": [
    "t.transpose()"
   ]
  },
  {
   "cell_type": "code",
   "execution_count": 9,
   "metadata": {},
   "outputs": [
    {
     "data": {
      "text/plain": [
       "3.141592653589793"
      ]
     },
     "execution_count": 9,
     "metadata": {},
     "output_type": "execute_result"
    }
   ],
   "source": [
    "np.pi"
   ]
  },
  {
   "cell_type": "code",
   "execution_count": 11,
   "metadata": {
    "collapsed": true
   },
   "outputs": [],
   "source": [
    "angle = np.pi / 4\n",
    "\n",
    "rotate = np.array([[ np.cos(angle), -np.sin(angle) ], [np.sin(angle), np.cos(angle)]])"
   ]
  },
  {
   "cell_type": "code",
   "execution_count": 12,
   "metadata": {
    "collapsed": true
   },
   "outputs": [],
   "source": [
    "t = np.array([[1,1], [1,-1], [-1, 1], [-1,-1]], dtype = np.float32).transpose()\n"
   ]
  },
  {
   "cell_type": "code",
   "execution_count": 13,
   "metadata": {},
   "outputs": [
    {
     "ename": "ValueError",
     "evalue": "operands could not be broadcast together with shapes (2,4) (2,2) ",
     "output_type": "error",
     "traceback": [
      "\u001b[1;31m---------------------------------------------------------------------------\u001b[0m",
      "\u001b[1;31mValueError\u001b[0m                                Traceback (most recent call last)",
      "\u001b[1;32m<ipython-input-13-458d0c26144f>\u001b[0m in \u001b[0;36m<module>\u001b[1;34m()\u001b[0m\n\u001b[1;32m----> 1\u001b[1;33m \u001b[0mnp\u001b[0m\u001b[1;33m.\u001b[0m\u001b[0mmultiply\u001b[0m\u001b[1;33m(\u001b[0m\u001b[0mt\u001b[0m\u001b[1;33m,\u001b[0m \u001b[0mrotate\u001b[0m\u001b[1;33m)\u001b[0m\u001b[1;33m\u001b[0m\u001b[0m\n\u001b[0m",
      "\u001b[1;31mValueError\u001b[0m: operands could not be broadcast together with shapes (2,4) (2,2) "
     ]
    }
   ],
   "source": [
    "np.multiply(t, rotate)"
   ]
  },
  {
   "cell_type": "code",
   "execution_count": 14,
   "metadata": {},
   "outputs": [
    {
     "data": {
      "text/plain": [
       "array([[ 0.        ,  1.41421356, -1.41421356,  0.        ],\n",
       "       [ 1.41421356,  0.        ,  0.        , -1.41421356]])"
      ]
     },
     "execution_count": 14,
     "metadata": {},
     "output_type": "execute_result"
    }
   ],
   "source": [
    "np.dot(rotate, t)"
   ]
  },
  {
   "cell_type": "code",
   "execution_count": 15,
   "metadata": {
    "collapsed": true
   },
   "outputs": [],
   "source": [
    "class A(object):\n",
    "    t = 5\n",
    "    \n",
    "    def get_t(self):\n",
    "        return t\n",
    "    \n",
    "class B(A):\n",
    "    t = 6"
   ]
  },
  {
   "cell_type": "code",
   "execution_count": 16,
   "metadata": {},
   "outputs": [
    {
     "data": {
      "text/plain": [
       "6"
      ]
     },
     "execution_count": 16,
     "metadata": {},
     "output_type": "execute_result"
    }
   ],
   "source": [
    "a = B()\n",
    "a.t"
   ]
  },
  {
   "cell_type": "code",
   "execution_count": 22,
   "metadata": {},
   "outputs": [
    {
     "data": {
      "text/plain": [
       "array([[ 0.        ,  1.41421356],\n",
       "       [ 1.41421356,  0.        ],\n",
       "       [-1.41421356,  0.        ],\n",
       "       [ 0.        , -1.41421356]])"
      ]
     },
     "execution_count": 22,
     "metadata": {},
     "output_type": "execute_result"
    }
   ],
   "source": [
    "np.dot(t.transpose(), rotate.transpose())"
   ]
  },
  {
   "cell_type": "code",
   "execution_count": 18,
   "metadata": {},
   "outputs": [
    {
     "data": {
      "text/plain": [
       "array([[ 0.70710678, -0.70710678],\n",
       "       [ 0.70710678,  0.70710678]])"
      ]
     },
     "execution_count": 18,
     "metadata": {},
     "output_type": "execute_result"
    }
   ],
   "source": [
    "rotate\n"
   ]
  },
  {
   "cell_type": "code",
   "execution_count": 20,
   "metadata": {},
   "outputs": [
    {
     "data": {
      "text/plain": [
       "array([[ 0.70710678,  0.70710678],\n",
       "       [-0.70710678,  0.70710678]])"
      ]
     },
     "execution_count": 20,
     "metadata": {},
     "output_type": "execute_result"
    }
   ],
   "source": [
    "rotate.transpose()"
   ]
  },
  {
   "cell_type": "code",
   "execution_count": 21,
   "metadata": {},
   "outputs": [
    {
     "data": {
      "text/plain": [
       "array([[ 0.70710678,  0.70710678],\n",
       "       [-0.70710678,  0.70710678]])"
      ]
     },
     "execution_count": 21,
     "metadata": {},
     "output_type": "execute_result"
    }
   ],
   "source": [
    "np.array([[ np.cos(-angle), -np.sin(-angle) ], [np.sin(-angle), np.cos(-angle)]])"
   ]
  },
  {
   "cell_type": "code",
   "execution_count": 23,
   "metadata": {},
   "outputs": [
    {
     "data": {
      "text/plain": [
       "array([[ 1.,  1., -1., -1.],\n",
       "       [ 1., -1.,  1., -1.]], dtype=float32)"
      ]
     },
     "execution_count": 23,
     "metadata": {},
     "output_type": "execute_result"
    }
   ],
   "source": [
    "t\n"
   ]
  },
  {
   "cell_type": "code",
   "execution_count": 24,
   "metadata": {
    "collapsed": true
   },
   "outputs": [],
   "source": [
    "l = np.array([[ np.cos(-angle), -np.sin(-angle) ], [np.sin(-angle), np.cos(-angle)]])"
   ]
  },
  {
   "cell_type": "code",
   "execution_count": 25,
   "metadata": {
    "collapsed": true
   },
   "outputs": [],
   "source": [
    "[[a,b],[c,d]] = l"
   ]
  },
  {
   "cell_type": "code",
   "execution_count": 26,
   "metadata": {},
   "outputs": [
    {
     "data": {
      "text/plain": [
       "0.70710678118654757"
      ]
     },
     "execution_count": 26,
     "metadata": {},
     "output_type": "execute_result"
    }
   ],
   "source": [
    "a"
   ]
  },
  {
   "cell_type": "code",
   "execution_count": 27,
   "metadata": {},
   "outputs": [
    {
     "data": {
      "text/plain": [
       "array([[ 0.70710678,  0.70710678],\n",
       "       [-0.70710678,  0.70710678]])"
      ]
     },
     "execution_count": 27,
     "metadata": {},
     "output_type": "execute_result"
    }
   ],
   "source": [
    "l"
   ]
  },
  {
   "cell_type": "code",
   "execution_count": 35,
   "metadata": {},
   "outputs": [
    {
     "name": "stdout",
     "output_type": "stream",
     "text": [
      "False\n",
      "True\n"
     ]
    },
    {
     "name": "stderr",
     "output_type": "stream",
     "text": [
      "C:\\Anaconda3\\lib\\site-packages\\ipykernel_launcher.py:2: RuntimeWarning: invalid value encountered in true_divide\n",
      "  \n"
     ]
    }
   ],
   "source": [
    "with np.errstate(divide='ignore'):\n",
    "    print (np.divide(0,0) == np.divide(0,0))\n",
    "    print (np.divide(1,0) == np.divide(2,0))"
   ]
  },
  {
   "cell_type": "code",
   "execution_count": 36,
   "metadata": {},
   "outputs": [
    {
     "data": {
      "text/plain": [
       "True"
      ]
     },
     "execution_count": 36,
     "metadata": {},
     "output_type": "execute_result"
    }
   ],
   "source": [
    "0 < 2 < 3"
   ]
  },
  {
   "cell_type": "code",
   "execution_count": 37,
   "metadata": {
    "collapsed": true
   },
   "outputs": [],
   "source": [
    "a, b = 2, 3"
   ]
  },
  {
   "cell_type": "code",
   "execution_count": 38,
   "metadata": {},
   "outputs": [
    {
     "data": {
      "text/plain": [
       "2"
      ]
     },
     "execution_count": 38,
     "metadata": {},
     "output_type": "execute_result"
    }
   ],
   "source": [
    "a\n"
   ]
  },
  {
   "cell_type": "code",
   "execution_count": 45,
   "metadata": {},
   "outputs": [
    {
     "name": "stdout",
     "output_type": "stream",
     "text": [
      "0.785398163397\n",
      "1.57079632679\n",
      "2.35619449019\n"
     ]
    }
   ],
   "source": [
    "from numpy.linalg import norm\n",
    "l1 = [0.0, 1.0]\n",
    "l2 = [1.0, 0.0]\n",
    "l3 = [-1.0, 1.0]\n",
    "\n",
    "print (np.arccos(np.clip( np.dot(l1, l3)/norm(l1)/norm(l3), -1, 1)))\n",
    "print (np.arccos(np.clip( np.dot(l1, l2)/norm(l1)/norm(l2), -1, 1)))\n",
    "print (np.arccos(np.clip( np.dot(l2, l3)/norm(l2)/norm(l3), -1, 1)))"
   ]
  },
  {
   "cell_type": "code",
   "execution_count": 43,
   "metadata": {},
   "outputs": [
    {
     "data": {
      "text/plain": [
       "-0.70710678118654746"
      ]
     },
     "execution_count": 43,
     "metadata": {},
     "output_type": "execute_result"
    }
   ],
   "source": [
    "np.clip( np.dot(l1, l3)/norm(l1)/norm(l3), -1, 1)"
   ]
  },
  {
   "cell_type": "code",
   "execution_count": 44,
   "metadata": {},
   "outputs": [
    {
     "data": {
      "text/plain": [
       "-0.70710678118654746"
      ]
     },
     "execution_count": 44,
     "metadata": {},
     "output_type": "execute_result"
    }
   ],
   "source": [
    "np.clip( np.dot(l2, l3)/norm(l2)/norm(l3), -1, 1)"
   ]
  },
  {
   "cell_type": "code",
   "execution_count": 47,
   "metadata": {},
   "outputs": [
    {
     "data": {
      "text/plain": [
       "True"
      ]
     },
     "execution_count": 47,
     "metadata": {},
     "output_type": "execute_result"
    }
   ],
   "source": [
    "all(np.equal([1,1], [1,1]))"
   ]
  },
  {
   "cell_type": "code",
   "execution_count": 48,
   "metadata": {
    "collapsed": true
   },
   "outputs": [],
   "source": [
    "import math"
   ]
  },
  {
   "cell_type": "code",
   "execution_count": 49,
   "metadata": {},
   "outputs": [
    {
     "data": {
      "text/plain": [
       "False"
      ]
     },
     "execution_count": 49,
     "metadata": {},
     "output_type": "execute_result"
    }
   ],
   "source": [
    "math.isclose(2,3)"
   ]
  },
  {
   "cell_type": "code",
   "execution_count": 50,
   "metadata": {},
   "outputs": [
    {
     "data": {
      "text/plain": [
       "array([[ 1.,  1., -1., -1.],\n",
       "       [ 1., -1.,  1., -1.]], dtype=float32)"
      ]
     },
     "execution_count": 50,
     "metadata": {},
     "output_type": "execute_result"
    }
   ],
   "source": [
    "t"
   ]
  },
  {
   "cell_type": "code",
   "execution_count": 51,
   "metadata": {
    "collapsed": true
   },
   "outputs": [],
   "source": [
    "t = t.transpose()"
   ]
  },
  {
   "cell_type": "code",
   "execution_count": 52,
   "metadata": {},
   "outputs": [
    {
     "data": {
      "text/plain": [
       "array([[ 1.,  1.],\n",
       "       [ 1., -1.],\n",
       "       [-1.,  1.],\n",
       "       [-1., -1.]], dtype=float32)"
      ]
     },
     "execution_count": 52,
     "metadata": {},
     "output_type": "execute_result"
    }
   ],
   "source": [
    "t"
   ]
  },
  {
   "cell_type": "code",
   "execution_count": 53,
   "metadata": {},
   "outputs": [
    {
     "data": {
      "text/plain": [
       "(4, 2)"
      ]
     },
     "execution_count": 53,
     "metadata": {},
     "output_type": "execute_result"
    }
   ],
   "source": [
    "t.shape"
   ]
  },
  {
   "cell_type": "code",
   "execution_count": 54,
   "metadata": {},
   "outputs": [
    {
     "data": {
      "text/plain": [
       "-1.0"
      ]
     },
     "execution_count": 54,
     "metadata": {},
     "output_type": "execute_result"
    }
   ],
   "source": [
    "np.min(t[:,0])"
   ]
  },
  {
   "cell_type": "code",
   "execution_count": 55,
   "metadata": {},
   "outputs": [
    {
     "data": {
      "text/plain": [
       "2"
      ]
     },
     "execution_count": 55,
     "metadata": {},
     "output_type": "execute_result"
    }
   ],
   "source": [
    "np.argmin(t[:,0])"
   ]
  },
  {
   "cell_type": "code",
   "execution_count": 59,
   "metadata": {},
   "outputs": [
    {
     "data": {
      "text/plain": [
       "array([[-1.,  1.],\n",
       "       [-1., -1.]], dtype=float32)"
      ]
     },
     "execution_count": 59,
     "metadata": {},
     "output_type": "execute_result"
    }
   ],
   "source": [
    "t[t[:,0] == np.min(t[:,0])]"
   ]
  },
  {
   "cell_type": "code",
   "execution_count": 60,
   "metadata": {},
   "outputs": [
    {
     "data": {
      "text/plain": [
       "array([ 1.,  1., -1., -1.], dtype=float32)"
      ]
     },
     "execution_count": 60,
     "metadata": {},
     "output_type": "execute_result"
    }
   ],
   "source": [
    "t[:,0]"
   ]
  },
  {
   "cell_type": "code",
   "execution_count": 61,
   "metadata": {},
   "outputs": [
    {
     "data": {
      "text/plain": [
       "array([False, False,  True,  True], dtype=bool)"
      ]
     },
     "execution_count": 61,
     "metadata": {},
     "output_type": "execute_result"
    }
   ],
   "source": [
    "t[:,0] == np.min(t[:,0])"
   ]
  },
  {
   "cell_type": "code",
   "execution_count": 62,
   "metadata": {},
   "outputs": [
    {
     "data": {
      "text/plain": [
       "array([[-1.,  1.],\n",
       "       [-1., -1.]], dtype=float32)"
      ]
     },
     "execution_count": 62,
     "metadata": {},
     "output_type": "execute_result"
    }
   ],
   "source": [
    "t[[False, False,  True,  True]]"
   ]
  },
  {
   "cell_type": "code",
   "execution_count": 63,
   "metadata": {},
   "outputs": [
    {
     "data": {
      "text/plain": [
       "-1.0"
      ]
     },
     "execution_count": 63,
     "metadata": {},
     "output_type": "execute_result"
    }
   ],
   "source": [
    "q = t[t[:,0] == np.min(t[:,0])]\n",
    "np.min(q[:,1])"
   ]
  },
  {
   "cell_type": "code",
   "execution_count": 64,
   "metadata": {},
   "outputs": [
    {
     "ename": "TypeError",
     "evalue": "'cmp' is an invalid keyword argument for this function",
     "output_type": "error",
     "traceback": [
      "\u001b[1;31m---------------------------------------------------------------------------\u001b[0m",
      "\u001b[1;31mTypeError\u001b[0m                                 Traceback (most recent call last)",
      "\u001b[1;32m<ipython-input-64-40118bbe1573>\u001b[0m in \u001b[0;36m<module>\u001b[1;34m()\u001b[0m\n\u001b[0;32m      2\u001b[0m     \u001b[1;32mreturn\u001b[0m \u001b[0mx\u001b[0m \u001b[1;33m-\u001b[0m \u001b[0my\u001b[0m\u001b[1;33m\u001b[0m\u001b[0m\n\u001b[0;32m      3\u001b[0m \u001b[1;33m\u001b[0m\u001b[0m\n\u001b[1;32m----> 4\u001b[1;33m \u001b[0msorted\u001b[0m\u001b[1;33m(\u001b[0m\u001b[1;33m[\u001b[0m\u001b[1;36m5\u001b[0m\u001b[1;33m,\u001b[0m \u001b[1;36m2\u001b[0m\u001b[1;33m,\u001b[0m \u001b[1;36m4\u001b[0m\u001b[1;33m,\u001b[0m \u001b[1;36m1\u001b[0m\u001b[1;33m,\u001b[0m \u001b[1;36m3\u001b[0m\u001b[1;33m]\u001b[0m\u001b[1;33m,\u001b[0m \u001b[0mcmp\u001b[0m\u001b[1;33m=\u001b[0m\u001b[0mnumeric_compare\u001b[0m\u001b[1;33m)\u001b[0m\u001b[1;33m\u001b[0m\u001b[0m\n\u001b[0m",
      "\u001b[1;31mTypeError\u001b[0m: 'cmp' is an invalid keyword argument for this function"
     ]
    }
   ],
   "source": [
    "def numeric_compare(x, y):\n",
    "    return x - y\n",
    "\n",
    "sorted([5, 2, 4, 1, 3], cmp=numeric_compare) "
   ]
  },
  {
   "cell_type": "code",
   "execution_count": 65,
   "metadata": {
    "collapsed": true
   },
   "outputs": [],
   "source": [
    "points = t\n",
    "min_y = np.min(points[:,1])\n",
    "q = points[points[:,1] == min_y]\n",
    "\n",
    "min_x = np.min(q[:,0])"
   ]
  },
  {
   "cell_type": "code",
   "execution_count": 66,
   "metadata": {},
   "outputs": [
    {
     "data": {
      "text/plain": [
       "-1.0"
      ]
     },
     "execution_count": 66,
     "metadata": {},
     "output_type": "execute_result"
    }
   ],
   "source": [
    "min_x"
   ]
  },
  {
   "cell_type": "code",
   "execution_count": 67,
   "metadata": {},
   "outputs": [
    {
     "data": {
      "text/plain": [
       "-1.0"
      ]
     },
     "execution_count": 67,
     "metadata": {},
     "output_type": "execute_result"
    }
   ],
   "source": [
    "min_y"
   ]
  },
  {
   "cell_type": "code",
   "execution_count": 71,
   "metadata": {},
   "outputs": [
    {
     "data": {
      "text/plain": [
       "-0.099667994624955819"
      ]
     },
     "execution_count": 71,
     "metadata": {},
     "output_type": "execute_result"
    }
   ],
   "source": [
    "np.tanh(-0.1)"
   ]
  },
  {
   "cell_type": "code",
   "execution_count": 76,
   "metadata": {},
   "outputs": [
    {
     "data": {
      "text/plain": [
       "3.1415926535897931"
      ]
     },
     "execution_count": 76,
     "metadata": {},
     "output_type": "execute_result"
    }
   ],
   "source": [
    "np.arctan2(0,-1)"
   ]
  },
  {
   "cell_type": "code",
   "execution_count": 77,
   "metadata": {},
   "outputs": [
    {
     "data": {
      "text/plain": [
       "[array([-1., -1.], dtype=float32),\n",
       " array([ 1., -1.], dtype=float32),\n",
       " array([ 1.,  1.], dtype=float32),\n",
       " array([-1.,  1.], dtype=float32)]"
      ]
     },
     "execution_count": 77,
     "metadata": {},
     "output_type": "execute_result"
    }
   ],
   "source": [
    "def rank(point):\n",
    "    vector = point - [min_x, min_y]\n",
    "    return (np.arctan2(vector[1], vector[0]) , norm(vector))\n",
    "\n",
    "sorted(points, key = lambda point : rank(point) )"
   ]
  },
  {
   "cell_type": "code",
   "execution_count": 78,
   "metadata": {},
   "outputs": [
    {
     "data": {
      "text/plain": [
       "array([[ 1.,  1.],\n",
       "       [ 1., -1.],\n",
       "       [-1.,  1.],\n",
       "       [-1., -1.]], dtype=float32)"
      ]
     },
     "execution_count": 78,
     "metadata": {},
     "output_type": "execute_result"
    }
   ],
   "source": [
    "points"
   ]
  },
  {
   "cell_type": "code",
   "execution_count": 80,
   "metadata": {},
   "outputs": [
    {
     "data": {
      "text/plain": [
       "array([[ 1.,  1.],\n",
       "       [ 1., -1.],\n",
       "       [-1.,  1.],\n",
       "       [-1., -1.],\n",
       "       [ 1.,  1.],\n",
       "       [ 1., -1.],\n",
       "       [-1.,  1.],\n",
       "       [-1., -1.]], dtype=float32)"
      ]
     },
     "execution_count": 80,
     "metadata": {},
     "output_type": "execute_result"
    }
   ],
   "source": [
    "np.concatenate([points, points])"
   ]
  },
  {
   "cell_type": "code",
   "execution_count": 87,
   "metadata": {},
   "outputs": [
    {
     "name": "stdout",
     "output_type": "stream",
     "text": [
      "[array([-1., -1.]), array([ 1., -1.]), array([ 2.,  0.]), array([ 2.,  2.]), array([ 0.,  2.]), array([-1.,  1.])]\n"
     ]
    }
   ],
   "source": [
    "def get_convex_hull( points ):\n",
    "    if len(points) < 1:\n",
    "        return\n",
    "    # Get the point that has smallest y, if there are multiple, get the one that has lowest x\n",
    "    # This point must lies on the convex hull\n",
    "    min_y = np.min(points[:,1])\n",
    "    # all points that has x == min_x\n",
    "    q = points[points[:,1] == min_y]\n",
    "\n",
    "    min_x = np.min(q[:,0])\n",
    "    # start_point = [min_x, min_y]\n",
    "    # order the remaining points by ranking slope of vector made by start_point and other points\n",
    "\n",
    "    # return a tuple \n",
    "    # ( angle with (0,0)->(1,0) , distance from min_x, min_y) \n",
    "    def rank(point):\n",
    "        vector = point - [min_x, min_y]\n",
    "\n",
    "        return (np.arctan2(vector[1], vector[0]) , norm(vector))\n",
    "\n",
    "\n",
    "    sorted_points = sorted(points, key = lambda point : rank(point) )\n",
    "    boundary = []\n",
    "    boundary.append(sorted_points[0])\n",
    "\n",
    "    for i in range(1, len(sorted_points)):\n",
    "        # Check if sorted_points[i] is included in the ray to the next sorted_points\n",
    "        if i < len(sorted_points) - 1:\n",
    "            vector_i = sorted_points[i] - [min_x, min_y]\n",
    "            vector_i_1 = sorted_points[i+1] - [min_x, min_y]\n",
    "            if np.arctan2(vector_i[1], vector_i[0]) == np.arctan2(vector_i_1[1], vector_i_1[0]):\n",
    "                continue\n",
    "        boundary.append(sorted_points[i])\n",
    "        \n",
    "    print (boundary)\n",
    "\n",
    "get_convex_hull(q)"
   ]
  },
  {
   "cell_type": "code",
   "execution_count": 82,
   "metadata": {
    "collapsed": true
   },
   "outputs": [],
   "source": [
    "q = np.concatenate([points, points + [1,1]])"
   ]
  },
  {
   "cell_type": "code",
   "execution_count": 83,
   "metadata": {},
   "outputs": [
    {
     "data": {
      "text/plain": [
       "array([[ 1.,  1.],\n",
       "       [ 1., -1.],\n",
       "       [-1.,  1.],\n",
       "       [-1., -1.],\n",
       "       [ 2.,  2.],\n",
       "       [ 2.,  0.],\n",
       "       [ 0.,  2.],\n",
       "       [ 0.,  0.]])"
      ]
     },
     "execution_count": 83,
     "metadata": {},
     "output_type": "execute_result"
    }
   ],
   "source": [
    "q"
   ]
  },
  {
   "cell_type": "code",
   "execution_count": 84,
   "metadata": {},
   "outputs": [
    {
     "name": "stdout",
     "output_type": "stream",
     "text": [
      "[array([-1., -1.]), array([ 1., -1.]), array([ 2.,  0.]), array([ 0.,  0.]), array([ 1.,  1.]), array([ 2.,  2.]), array([ 0.,  2.]), array([-1.,  1.])]\n"
     ]
    }
   ],
   "source": [
    "get_convex_hull(q)"
   ]
  },
  {
   "cell_type": "code",
   "execution_count": 88,
   "metadata": {
    "collapsed": true
   },
   "outputs": [],
   "source": [
    "from scipy.spatial import ConvexHull"
   ]
  },
  {
   "cell_type": "code",
   "execution_count": 93,
   "metadata": {
    "collapsed": true
   },
   "outputs": [],
   "source": [
    "l = ConvexHull(q)"
   ]
  },
  {
   "cell_type": "code",
   "execution_count": 94,
   "metadata": {},
   "outputs": [
    {
     "name": "stdout",
     "output_type": "stream",
     "text": [
      "<scipy.spatial.qhull.ConvexHull object at 0x0000019704F03A20>\n"
     ]
    }
   ],
   "source": [
    "print(l)"
   ]
  },
  {
   "cell_type": "code",
   "execution_count": 95,
   "metadata": {},
   "outputs": [
    {
     "data": {
      "text/plain": [
       "array([2, 3, 1, 5, 4, 6], dtype=int32)"
      ]
     },
     "execution_count": 95,
     "metadata": {},
     "output_type": "execute_result"
    }
   ],
   "source": [
    "l.vertices"
   ]
  },
  {
   "cell_type": "code",
   "execution_count": 96,
   "metadata": {},
   "outputs": [
    {
     "data": {
      "text/plain": [
       "array([[-1.,  1.],\n",
       "       [-1., -1.],\n",
       "       [ 1., -1.],\n",
       "       [ 2.,  0.],\n",
       "       [ 2.,  2.],\n",
       "       [ 0.,  2.]])"
      ]
     },
     "execution_count": 96,
     "metadata": {},
     "output_type": "execute_result"
    }
   ],
   "source": [
    "q[l.vertices]"
   ]
  },
  {
   "cell_type": "code",
   "execution_count": 97,
   "metadata": {},
   "outputs": [
    {
     "ename": "NameError",
     "evalue": "name 'array' is not defined",
     "output_type": "error",
     "traceback": [
      "\u001b[1;31m---------------------------------------------------------------------------\u001b[0m",
      "\u001b[1;31mNameError\u001b[0m                                 Traceback (most recent call last)",
      "\u001b[1;32m<ipython-input-97-f92f3508e7a8>\u001b[0m in \u001b[0;36m<module>\u001b[1;34m()\u001b[0m\n\u001b[1;32m----> 1\u001b[1;33m captures = [array([[ 0.8,  0.1],\n\u001b[0m\u001b[0;32m      2\u001b[0m        \u001b[1;33m[\u001b[0m \u001b[1;36m1.\u001b[0m \u001b[1;33m,\u001b[0m  \u001b[1;36m0.1\u001b[0m\u001b[1;33m]\u001b[0m\u001b[1;33m,\u001b[0m\u001b[1;33m\u001b[0m\u001b[0m\n\u001b[0;32m      3\u001b[0m        \u001b[1;33m[\u001b[0m \u001b[1;36m0.8\u001b[0m\u001b[1;33m,\u001b[0m \u001b[1;33m-\u001b[0m\u001b[1;36m0.1\u001b[0m\u001b[1;33m]\u001b[0m\u001b[1;33m,\u001b[0m\u001b[1;33m\u001b[0m\u001b[0m\n\u001b[0;32m      4\u001b[0m        \u001b[1;33m[\u001b[0m \u001b[1;36m1.\u001b[0m \u001b[1;33m,\u001b[0m \u001b[1;33m-\u001b[0m\u001b[1;36m0.1\u001b[0m\u001b[1;33m]\u001b[0m\u001b[1;33m]\u001b[0m\u001b[1;33m)\u001b[0m\u001b[1;33m,\u001b[0m \u001b[0marray\u001b[0m\u001b[1;33m(\u001b[0m\u001b[1;33m[\u001b[0m\u001b[1;33m[\u001b[0m \u001b[1;36m0.22030327\u001b[0m\u001b[1;33m,\u001b[0m  \u001b[1;36m0.78953772\u001b[0m\u001b[1;33m]\u001b[0m\u001b[1;33m,\u001b[0m\u001b[1;33m\u001b[0m\u001b[0m\n\u001b[0;32m      5\u001b[0m        \u001b[1;33m[\u001b[0m \u001b[1;36m0.27189236\u001b[0m\u001b[1;33m,\u001b[0m  \u001b[1;36m0.59630583\u001b[0m\u001b[1;33m]\u001b[0m\u001b[1;33m,\u001b[0m\u001b[1;33m\u001b[0m\u001b[0m\n",
      "\u001b[1;31mNameError\u001b[0m: name 'array' is not defined"
     ]
    }
   ],
   "source": [
    "captures = [array([[ 0.8,  0.1],\n",
    "       [ 1. ,  0.1],\n",
    "       [ 0.8, -0.1],\n",
    "       [ 1. , -0.1]]), array([[ 0.22030327,  0.78953772],\n",
    "       [ 0.27189236,  0.59630583],\n",
    "       [ 0.02707137,  0.73794864],\n",
    "       [ 0.07866046,  0.54471674]]), array([[ 0.33581327,  0.67079058],\n",
    "       [ 0.43549984,  0.49740492],\n",
    "       [ 0.16242761,  0.57110401],\n",
    "       [ 0.26211418,  0.39771835]]), array([[ 0.44882926,  0.54280253],\n",
    "       [ 0.58986643,  0.40099803],\n",
    "       [ 0.30702476,  0.40176537],\n",
    "       [ 0.44806192,  0.25996086]]), array([[ 0.56181928,  0.40524298],\n",
    "       [ 0.7346615 ,  0.3046171 ],\n",
    "       [ 0.46119341,  0.23240076],\n",
    "       [ 0.63403563,  0.13177488]]), array([[ 0.67725314,  0.25842912],\n",
    "       [ 0.87020228,  0.20579234],\n",
    "       [ 0.62461636,  0.06547998],\n",
    "       [ 0.8175655 ,  0.0128432 ]]), array([[ 0.79743524,  0.10330451],\n",
    "       [ 0.9974323 ,  0.10221933],\n",
    "       [ 0.79635007, -0.09669255],\n",
    "       [ 0.99634712, -0.09777772]]), array([[-0.63160253,  0.05862483],\n",
    "       [-0.8251115 ,  0.00808495],\n",
    "       [-0.68214241,  0.2521338 ],\n",
    "       [-0.87565138,  0.20159392]]), array([[-0.46781092,  0.22539231],\n",
    "       [-0.64173492,  0.12664798],\n",
    "       [-0.56655526,  0.39931631],\n",
    "       [-0.74047926,  0.30057197]]), array([[-0.31324655,  0.39470391],\n",
    "       [-0.45581422,  0.25443824],\n",
    "       [-0.45351223,  0.53727158],\n",
    "       [-0.5960799 ,  0.39700591]]), array([[-0.16825341,  0.56409342],\n",
    "       [-0.26981562,  0.39179972],\n",
    "       [-0.3405471 ,  0.66565563],\n",
    "       [-0.44210932,  0.49336194]]), array([[-0.03252769,  0.73108933],\n",
    "       [-0.08621061,  0.53842863],\n",
    "       [-0.22518838,  0.78477226],\n",
    "       [-0.27887131,  0.59211156]]), array([[ 0.09486164,  0.89338216],\n",
    "       [ 0.09269132,  0.69339394],\n",
    "       [-0.10512659,  0.89555249],\n",
    "       [-0.10729691,  0.69556426]])]"
   ]
  },
  {
   "cell_type": "code",
   "execution_count": 125,
   "metadata": {
    "collapsed": true
   },
   "outputs": [],
   "source": [
    "captures = [np.array([[ 0.8,  0.1],\n",
    "       [ 1. ,  0.1],\n",
    "       [ 1. , -0.1],\n",
    "       [ 0.8, -0.1]]), np.array([[ 0.22030327,  0.78953772],\n",
    "       [ 0.27189236,  0.59630583],\n",
    "       [ 0.07866046,  0.54471674],\n",
    "       [ 0.02707137,  0.73794864]]), np.array([[ 0.33581327,  0.67079058],\n",
    "       [ 0.43549984,  0.49740492],\n",
    "       [ 0.26211418,  0.39771835],\n",
    "       [ 0.16242761,  0.57110401]]), np.array([[ 0.44882926,  0.54280253],\n",
    "       [ 0.58986643,  0.40099803],\n",
    "       [ 0.44806192,  0.25996086],\n",
    "       [ 0.30702476,  0.40176537]]), np.array([[ 0.56181928,  0.40524298],\n",
    "       [ 0.7346615 ,  0.3046171 ],\n",
    "       [ 0.63403563,  0.13177488],\n",
    "       [ 0.46119341,  0.23240076]]), np.array([[ 0.67725314,  0.25842912],\n",
    "       [ 0.87020228,  0.20579234],\n",
    "       [ 0.8175655 ,  0.0128432 ],\n",
    "       [ 0.62461636,  0.06547998]]), np.array([[ 0.79743524,  0.10330451],\n",
    "       [ 0.9974323 ,  0.10221933],\n",
    "       [ 0.99634712, -0.09777772],\n",
    "       [ 0.79635007, -0.09669255]]), np.array([[-0.63160253,  0.05862483],\n",
    "       [-0.8251115 ,  0.00808495],\n",
    "       [-0.87565138,  0.20159392],\n",
    "       [-0.68214241,  0.2521338 ]]), np.array([[-0.46781092,  0.22539231],\n",
    "       [-0.64173492,  0.12664798],\n",
    "       [-0.74047926,  0.30057197],\n",
    "       [-0.56655526,  0.39931631]]), np.array([[-0.31324655,  0.39470391],\n",
    "       [-0.45581422,  0.25443824],\n",
    "       [-0.5960799 ,  0.39700591],\n",
    "       [-0.45351223,  0.53727158]]), np.array([[-0.16825341,  0.56409342],\n",
    "       [-0.26981562,  0.39179972],\n",
    "       [-0.44210932,  0.49336194],\n",
    "       [-0.3405471 ,  0.66565563]]), np.array([[-0.03252769,  0.73108933],\n",
    "       [-0.08621061,  0.53842863],\n",
    "       [-0.27887131,  0.59211156],\n",
    "       [-0.22518838,  0.78477226]]), np.array([[ 0.09486164,  0.89338216],\n",
    "       [ 0.09269132,  0.69339394],\n",
    "       [-0.10729691,  0.69556426],\n",
    "       [-0.10512659,  0.89555249]])]"
   ]
  },
  {
   "cell_type": "code",
   "execution_count": 99,
   "metadata": {
    "collapsed": true
   },
   "outputs": [],
   "source": [
    "%matplotlib inline"
   ]
  },
  {
   "cell_type": "code",
   "execution_count": 136,
   "metadata": {},
   "outputs": [
    {
     "data": {
      "image/png": "[encoded data removed]",
      "text/plain": [
       "<matplotlib.figure.Figure at 0x1970604d160>"
      ]
     },
     "metadata": {},
     "output_type": "display_data"
    }
   ],
   "source": [
    "from matplotlib import pyplot as plt\n",
    "import pylab as pl\n",
    "from matplotlib import collections as mc\n",
    "\n",
    "def make_lines(shape):\n",
    "    lines = []\n",
    "    for i in range(len(shape)):\n",
    "        j = (i + 1) % len(shape)\n",
    "        lines.append( [ shape[i], shape[j] ] )\n",
    "    \n",
    "    return lines\n",
    "    \n",
    "c = np.array([(1, 0, 0, 1)])\n",
    "\n",
    "\n",
    "fig, ax = plt.subplots()\n",
    "ax.set_xticks(np.arange(-1, 1, 0.1))\n",
    "ax.set_yticks(np.arange(-1, 1, 0.1))\n",
    "ax.set_xlim([-1, 1])\n",
    "ax.set_ylim([-1, 1])\n",
    "fig.set_size_inches(10, 6)\n",
    "\n",
    "for shape in captures:\n",
    "    lines = make_lines(shape)\n",
    "    lc = mc.LineCollection(lines, colors=c, linewidths=2)\n",
    "    ax.add_collection(lc)\n",
    "\n",
    "\n",
    "ax.autoscale()\n",
    "ax.margins(0.1)\n",
    "\n",
    "plt.show()"
   ]
  },
  {
   "cell_type": "code",
   "execution_count": 105,
   "metadata": {},
   "outputs": [
    {
     "data": {
      "text/plain": [
       "4"
      ]
     },
     "execution_count": 105,
     "metadata": {},
     "output_type": "execute_result"
    }
   ],
   "source": [
    "len(np.array([[ 0.8,  0.1],\n",
    "       [ 1. ,  0.1],\n",
    "       [ 0.8, -0.1],\n",
    "       [ 1. , -0.1]]))"
   ]
  },
  {
   "cell_type": "code",
   "execution_count": 4,
   "metadata": {},
   "outputs": [
    {
     "name": "stdout",
     "output_type": "stream",
     "text": [
      "('Solution: ', array([ -8.56135131,  -3.39189957,  58.89236505, -66.59200701]))\n",
      "('Old Error: ', 3.4559172013856068)\n",
      "('New Error: ', 0.045356428665292978)\n",
      "('Solution: ', array([ -1761.27293056,   -697.76415164,  12115.72368886, -13699.72291514]))\n",
      "('Old Error: ', 23.726413739934468)\n",
      "('New Error: ', 0.045356428611555512)\n"
     ]
    }
   ],
   "source": [
    "import numpy as np\n",
    "\n",
    "# coordinates (XYZ) of C1, C2, C4 and C5\n",
    "XYZ = np.array([\n",
    "        [0.274791784, -1.001679346, -1.851320839, 0.365840754],\n",
    "        [-1.155674199, -1.215133985, 0.053119249, 1.162878076],\n",
    "        [1.216239624, 0.764265677, 0.956099579, 1.198231236]])\n",
    "\n",
    "# Inital guess of the plane\n",
    "p0 = [1, 1, 1, 0]\n",
    "\n",
    "def f_min(X,p):\n",
    "    plane_xyz = p[0:3]\n",
    "    distance = (plane_xyz*X.T).sum(axis=1) + p[3]\n",
    "    return distance / np.linalg.norm(plane_xyz)\n",
    "\n",
    "def residuals(params, signal, X):\n",
    "    return f_min(X, params)\n",
    "\n",
    "from scipy.optimize import leastsq\n",
    "sol = leastsq(residuals, p0, args=(None, XYZ))[0]\n",
    "\n",
    "print ((\"Solution: \", sol))\n",
    "print ((\"Old Error: \", (f_min(XYZ, p0)**2).sum()))\n",
    "print ((\"New Error: \", (f_min(XYZ, sol)**2).sum()))\n",
    "\n",
    "p0 = [-1, 2, 5, 8]\n",
    "sol = leastsq(residuals, p0, args=(None, XYZ))[0]\n",
    "\n",
    "print ((\"Solution: \", sol))\n",
    "print ((\"Old Error: \", (f_min(XYZ, p0)**2).sum()))\n",
    "print ((\"New Error: \", (f_min(XYZ, sol)**2).sum()))"
   ]
  },
  {
   "cell_type": "code",
   "execution_count": null,
   "metadata": {
    "collapsed": true
   },
   "outputs": [],
   "source": []
  }
 ],
 "metadata": {
  "kernelspec": {
   "display_name": "Python 3",
   "language": "python",
   "name": "python3"
  },
  "language_info": {
   "codemirror_mode": {
    "name": "ipython",
    "version": 3
   },
   "file_extension": ".py",
   "mimetype": "text/x-python",
   "name": "python",
   "nbconvert_exporter": "python",
   "pygments_lexer": "ipython3",
   "version": "3.6.2"
  }
 },
 "nbformat": 4,
 "nbformat_minor": 2
}
