{
 "cells": [
  {
   "cell_type": "code",
   "execution_count": 9,
   "metadata": {},
   "outputs": [
    {
     "name": "stdout",
     "output_type": "stream",
     "text": [
      "========================================================\n",
      "Load for action type = SlideToward\n",
      "-------- Load progress model ---------\n",
      "self.inputs.shape = (?, 20, 200)  after linear layer\n",
      "output.shape = (30, 200) after LSTM\n",
      "self.output.shape = (30,) after linear\n",
      "self._targets.shape = (?,) \n",
      "========================================================\n",
      "Load for action type = SlideAway\n",
      "-------- Load progress model ---------\n",
      "self.inputs.shape = (?, 20, 200)  after linear layer\n",
      "output.shape = (30, 200) after LSTM\n",
      "self.output.shape = (30,) after linear\n",
      "self._targets.shape = (?,) \n",
      "========================================================\n",
      "Load for action type = SlideNext\n",
      "-------- Load progress model ---------\n",
      "self.inputs.shape = (?, 20, 200)  after linear layer\n",
      "output.shape = (30, 200) after LSTM\n",
      "self.output.shape = (30,) after linear\n",
      "self._targets.shape = (?,) \n",
      "========================================================\n",
      "Load for action type = SlidePast\n",
      "-------- Load progress model ---------\n",
      "self.inputs.shape = (?, 20, 200)  after linear layer\n",
      "output.shape = (30, 200) after LSTM\n",
      "self.output.shape = (30,) after linear\n",
      "self._targets.shape = (?,) \n",
      "========================================================\n",
      "Load for action type = SlideAround\n",
      "-------- Load progress model ---------\n",
      "self.inputs.shape = (?, 20, 200)  after linear layer\n",
      "output.shape = (30, 200) after LSTM\n",
      "self.output.shape = (30,) after linear\n",
      "self._targets.shape = (?,) \n",
      "model/SlideToward/linear/weight:0\n",
      "model/SlideToward/linear/bias:0\n",
      "model/SlideToward/lstm/rnn/multi_rnn_cell/cell_0/basic_lstm_cell/kernel:0\n",
      "model/SlideToward/lstm/rnn/multi_rnn_cell/cell_0/basic_lstm_cell/bias:0\n",
      "model/SlideToward/output_linear/weight:0\n",
      "model/SlideToward/output_linear/bias:0\n",
      "model/SlideAway/linear/weight:0\n",
      "model/SlideAway/linear/bias:0\n",
      "model/SlideAway/lstm/rnn/multi_rnn_cell/cell_0/basic_lstm_cell/kernel:0\n",
      "model/SlideAway/lstm/rnn/multi_rnn_cell/cell_0/basic_lstm_cell/bias:0\n",
      "model/SlideAway/output_linear/weight:0\n",
      "model/SlideAway/output_linear/bias:0\n",
      "model/SlideNext/linear/weight:0\n",
      "model/SlideNext/linear/bias:0\n",
      "model/SlideNext/lstm/rnn/multi_rnn_cell/cell_0/basic_lstm_cell/kernel:0\n",
      "model/SlideNext/lstm/rnn/multi_rnn_cell/cell_0/basic_lstm_cell/bias:0\n",
      "model/SlideNext/output_linear/weight:0\n",
      "model/SlideNext/output_linear/bias:0\n",
      "model/SlidePast/linear/weight:0\n",
      "model/SlidePast/linear/bias:0\n",
      "model/SlidePast/lstm/rnn/multi_rnn_cell/cell_0/basic_lstm_cell/kernel:0\n",
      "model/SlidePast/lstm/rnn/multi_rnn_cell/cell_0/basic_lstm_cell/bias:0\n",
      "model/SlidePast/output_linear/weight:0\n",
      "model/SlidePast/output_linear/bias:0\n",
      "model/SlideAround/linear/weight:0\n",
      "model/SlideAround/linear/bias:0\n",
      "model/SlideAround/lstm/rnn/multi_rnn_cell/cell_0/basic_lstm_cell/kernel:0\n",
      "model/SlideAround/lstm/rnn/multi_rnn_cell/cell_0/basic_lstm_cell/bias:0\n",
      "model/SlideAround/output_linear/weight:0\n",
      "model/SlideAround/output_linear/bias:0\n",
      "INFO:tensorflow:Restoring parameters from ../progress_SlideToward.mod\n",
      "INFO:tensorflow:Restoring parameters from ../progress_SlideAway.mod\n",
      "INFO:tensorflow:Restoring parameters from ../progress_SlideNext.mod\n",
      "INFO:tensorflow:Restoring parameters from ../progress_SlidePast.mod\n",
      "INFO:tensorflow:Restoring parameters from ../progress_SlideAround.mod\n"
     ]
    }
   ],
   "source": [
    "import tensorflow as tf\n",
    "import os\n",
    "import sys\n",
    "import collections\n",
    "\n",
    "module_path = os.path.abspath(os.path.join('..'))\n",
    "if module_path not in sys.path:\n",
    "    sys.path.append(module_path)\n",
    "a = os.path.join(module_path, \"strands_qsr_lib\\qsr_lib\\src3\")\n",
    "\n",
    "sys.path.append(a)\n",
    "from rl import action_learner, action_learner_search, value_estimator\n",
    "import progress_learner\n",
    "import config\n",
    "import project\n",
    "# Need to add this import to load class\n",
    "from project import Project\n",
    "from importlib import reload\n",
    "from rl import block_movement_env\n",
    "import matplotlib\n",
    "from matplotlib import pyplot as plt\n",
    "%matplotlib inline\n",
    "import plotting\n",
    "\n",
    "reload(config)\n",
    "c = config.Config()\n",
    "c.no_of_loops = 1\n",
    "# c.constraint_sigma = 0\n",
    "reload(block_movement_env)\n",
    "# reload(value_estimator)\n",
    "reload(action_learner_search)\n",
    "reload(progress_learner)\n",
    "tf.reset_default_graph()\n",
    "\n",
    "global_step = tf.Variable(0, name=\"global_step\", trainable=False)\n",
    "\n",
    "sess =  tf.Session()\n",
    "\n",
    "with tf.variable_scope(\"search\") as scope:\n",
    "    policy_estimator = action_learner_search.PolicyEstimator(c)\n",
    "\n",
    "sess.run(tf.global_variables_initializer())\n",
    "\n",
    "projects = {}\n",
    "progress_estimators = {}\n",
    "\n",
    "action_types = [\"SlideToward\", \"SlideAway\", \"SlideNext\", \"SlidePast\", \"SlideAround\"]\n",
    "\n",
    "for project_name in action_types:\n",
    "    print ('========================================================')\n",
    "    print ('Load for action type = ' + project_name)\n",
    "    p_name = project_name.lower() + \"_project.proj\"\n",
    "\n",
    "    projects[project_name] = project.Project.load('../' + p_name)\n",
    "\n",
    "    with tf.variable_scope(\"model\") as scope:\n",
    "        print('-------- Load progress model ---------')\n",
    "        progress_estimators[project_name] = progress_learner.EventProgressEstimator(is_training=False, name = projects[project_name].name, config = c)  \n",
    "\n",
    "# Print out all variables that would be restored\n",
    "for variable in tf.get_collection(tf.GraphKeys.GLOBAL_VARIABLES, scope='model'):\n",
    "    print (variable.name)\n",
    "\n",
    "for project_name in action_types:\n",
    "    saver = tf.train.Saver(tf.get_collection(tf.GraphKeys.GLOBAL_VARIABLES, scope='model/' + project_name))\n",
    "\n",
    "    saver.restore(sess, '../progress_' + project_name + '.mod')"
   ]
  },
  {
   "cell_type": "code",
   "execution_count": 13,
   "metadata": {},
   "outputs": [],
   "source": [
    "c.progress_threshold=0.92\n",
    "reload(action_learner_search)\n",
    "action_lns = {}\n",
    "for project_name in action_types:\n",
    "    action_lns[project_name] = action_learner_search.ActionLearner_Search(c, projects[project_name], progress_estimators[project_name], session = sess)"
   ]
  },
  {
   "cell_type": "code",
   "execution_count": 14,
   "metadata": {},
   "outputs": [
    {
     "name": "stdout",
     "output_type": "stream",
     "text": [
      "============\n",
      "..\\experiments\\human_evaluation_2d\\SlideToward\\\n",
      "action_level = 0\n",
      "exploration_index = 0\n",
      "[(0, 0.7472112774848938), (0, 0.72180038690567017), (0, 0.72102051973342896), (0, 0.70660078525543213), (0, 0.69358277320861816), (0, 0.67942118644714355), (0, 0.6533164381980896), (0, 0.65310209989547729), (0, 0.63980388641357422)]\n",
      "action_level = 1\n",
      "exploration_index = 0\n",
      "exploration_index = 1\n",
      "exploration_index = 2\n",
      "exploration_index = 3\n",
      "exploration_index = 4\n",
      "exploration_index = 5\n",
      "exploration_index = 6\n",
      "exploration_index = 7\n",
      "exploration_index = 8\n",
      "[(7, 0.89304351806640625), (2, 0.84092086553573608), (0, 0.82869511842727661), (4, 0.82673436403274536), (4, 0.82634449005126953), (2, 0.80009299516677856), (2, 0.79548048973083496), (0, 0.79483675956726074), (4, 0.77348977327346802)]\n",
      "action_level = 2\n",
      "exploration_index = 0\n",
      "exploration_index = 1\n",
      "exploration_index = 2\n",
      "exploration_index = 3\n",
      "exploration_index = 4\n",
      "exploration_index = 5\n",
      "exploration_index = 6\n",
      "exploration_index = 7\n",
      "exploration_index = 8\n",
      "[(2, 0.92760968208312988), (2, 0.90653061866760254), (2, 0.89487087726593018), (0, 0.89304351806640625), (0, 0.89304351806640625), (0, 0.89304351806640625), (0, 0.89304351806640625), (0, 0.89304351806640625), (0, 0.89304351806640625)]\n",
      "action_level = 0\n",
      "exploration_index = 0\n",
      "[(0, 0.90721410512924194), (0, 0.79747384786605835), (0, 0.79044449329376221), (0, 0.76751995086669922), (0, 0.75948703289031982), (0, 0.75938296318054199), (0, 0.75140798091888428), (0, 0.72025412321090698), (0, 0.71485346555709839)]\n",
      "action_level = 1\n",
      "exploration_index = 0\n",
      "exploration_index = 1\n",
      "exploration_index = 2\n",
      "exploration_index = 3\n",
      "exploration_index = 4\n",
      "exploration_index = 5\n",
      "exploration_index = 6\n",
      "exploration_index = 7\n",
      "exploration_index = 8\n",
      "[(0, 0.90721410512924194), (0, 0.90721410512924194), (0, 0.90721410512924194), (0, 0.90721410512924194), (0, 0.90721410512924194), (0, 0.90721410512924194), (0, 0.90721410512924194), (0, 0.90721410512924194), (0, 0.90721410512924194)]\n",
      "action_level = 2\n",
      "exploration_index = 0\n",
      "exploration_index = 1\n",
      "exploration_index = 2\n",
      "exploration_index = 3\n",
      "exploration_index = 4\n",
      "exploration_index = 5\n",
      "exploration_index = 6\n",
      "exploration_index = 7\n",
      "exploration_index = 8\n",
      "[(0, 0.90721410512924194), (0, 0.90721410512924194), (0, 0.90721410512924194), (0, 0.90721410512924194), (0, 0.90721410512924194), (0, 0.90721410512924194), (0, 0.90721410512924194), (0, 0.90721410512924194), (0, 0.90721410512924194)]\n",
      "============\n",
      "..\\experiments\\human_evaluation_2d\\SlideAway\\\n",
      "action_level = 0\n",
      "exploration_index = 0\n"
     ]
    },
    {
     "ename": "KeyboardInterrupt",
     "evalue": "",
     "output_type": "error",
     "traceback": [
      "\u001b[1;31m---------------------------------------------------------------------------\u001b[0m",
      "\u001b[1;31mKeyboardInterrupt\u001b[0m                         Traceback (most recent call last)",
      "\u001b[1;32m<ipython-input-14-517c952f5059>\u001b[0m in \u001b[0;36m<module>\u001b[1;34m()\u001b[0m\n\u001b[0;32m      5\u001b[0m     \u001b[1;32mfor\u001b[0m \u001b[0mn\u001b[0m \u001b[1;32min\u001b[0m \u001b[0mrange\u001b[0m\u001b[1;33m(\u001b[0m\u001b[1;36m2\u001b[0m\u001b[1;33m)\u001b[0m\u001b[1;33m:\u001b[0m\u001b[1;33m\u001b[0m\u001b[0m\n\u001b[0;32m      6\u001b[0m         \u001b[0maction_ln\u001b[0m\u001b[1;33m.\u001b[0m\u001b[0menv\u001b[0m\u001b[1;33m.\u001b[0m\u001b[0mreset\u001b[0m\u001b[1;33m(\u001b[0m\u001b[1;33m)\u001b[0m\u001b[1;33m\u001b[0m\u001b[0m\n\u001b[1;32m----> 7\u001b[1;33m         \u001b[0mexplorations\u001b[0m \u001b[1;33m=\u001b[0m \u001b[0maction_ln\u001b[0m\u001b[1;33m.\u001b[0m\u001b[0mlearn_one_setup\u001b[0m\u001b[1;33m(\u001b[0m\u001b[0mverbose\u001b[0m \u001b[1;33m=\u001b[0m \u001b[1;32mTrue\u001b[0m\u001b[1;33m)\u001b[0m\u001b[1;33m\u001b[0m\u001b[0m\n\u001b[0m\u001b[0;32m      8\u001b[0m         \u001b[0mexplorations\u001b[0m\u001b[1;33m[\u001b[0m\u001b[1;36m0\u001b[0m\u001b[1;33m]\u001b[0m\u001b[1;33m.\u001b[0m\u001b[0msave\u001b[0m\u001b[1;33m(\u001b[0m\u001b[0mprefix\u001b[0m \u001b[1;33m+\u001b[0m \u001b[0mstr\u001b[0m\u001b[1;33m(\u001b[0m\u001b[0mn\u001b[0m\u001b[1;33m)\u001b[0m \u001b[1;33m+\u001b[0m \u001b[1;34m\".dat\"\u001b[0m\u001b[1;33m)\u001b[0m\u001b[1;33m\u001b[0m\u001b[0m\n\u001b[0;32m      9\u001b[0m         \u001b[0mexplorations\u001b[0m\u001b[1;33m[\u001b[0m\u001b[1;36m0\u001b[0m\u001b[1;33m]\u001b[0m\u001b[1;33m.\u001b[0m\u001b[0msave_visualization_to_file\u001b[0m\u001b[1;33m(\u001b[0m\u001b[0mprefix\u001b[0m \u001b[1;33m+\u001b[0m \u001b[0mstr\u001b[0m\u001b[1;33m(\u001b[0m\u001b[0mn\u001b[0m\u001b[1;33m)\u001b[0m \u001b[1;33m+\u001b[0m \u001b[1;34m\".mp4\"\u001b[0m\u001b[1;33m)\u001b[0m\u001b[1;33m\u001b[0m\u001b[0m\n",
      "\u001b[1;32mD:\\git\\learn-to-perform\\rl\\action_learner_search.py\u001b[0m in \u001b[0;36mlearn_one_setup\u001b[1;34m(self, select_object, verbose)\u001b[0m\n\u001b[0;32m    329\u001b[0m \u001b[1;33m\u001b[0m\u001b[0m\n\u001b[0;32m    330\u001b[0m                 \u001b[1;32mfor\u001b[0m \u001b[0maction_index\u001b[0m\u001b[1;33m,\u001b[0m \u001b[0maction\u001b[0m \u001b[1;32min\u001b[0m \u001b[0menumerate\u001b[0m\u001b[1;33m(\u001b[0m\u001b[0mactions\u001b[0m\u001b[1;33m)\u001b[0m\u001b[1;33m:\u001b[0m\u001b[1;33m\u001b[0m\u001b[0m\n\u001b[1;32m--> 331\u001b[1;33m                     \u001b[0m_\u001b[0m\u001b[1;33m,\u001b[0m \u001b[0mreward\u001b[0m\u001b[1;33m,\u001b[0m \u001b[0mdone\u001b[0m\u001b[1;33m,\u001b[0m \u001b[0m_\u001b[0m \u001b[1;33m=\u001b[0m \u001b[0mexploration\u001b[0m\u001b[1;33m.\u001b[0m\u001b[0mstep\u001b[0m\u001b[1;33m(\u001b[0m\u001b[1;33m(\u001b[0m\u001b[0mselect_object\u001b[0m\u001b[1;33m,\u001b[0m\u001b[0maction\u001b[0m\u001b[1;33m,\u001b[0m \u001b[0maction_means\u001b[0m\u001b[1;33m,\u001b[0m \u001b[0maction_stds\u001b[0m\u001b[1;33m)\u001b[0m\u001b[1;33m)\u001b[0m\u001b[1;33m\u001b[0m\u001b[0m\n\u001b[0m\u001b[0;32m    332\u001b[0m                     \u001b[1;31m#print ((action, reward))\u001b[0m\u001b[1;33m\u001b[0m\u001b[1;33m\u001b[0m\u001b[0m\n\u001b[0;32m    333\u001b[0m                     \u001b[0mexploration\u001b[0m\u001b[1;33m.\u001b[0m\u001b[0mback\u001b[0m\u001b[1;33m(\u001b[0m\u001b[1;33m)\u001b[0m\u001b[1;33m\u001b[0m\u001b[0m\n",
      "\u001b[1;32mC:\\Anaconda3\\envs\\tensorflow-cpu\\lib\\site-packages\\gym\\core.py\u001b[0m in \u001b[0;36mstep\u001b[1;34m(self, action)\u001b[0m\n\u001b[0;32m     94\u001b[0m             \u001b[0minfo\u001b[0m \u001b[1;33m(\u001b[0m\u001b[0mdict\u001b[0m\u001b[1;33m)\u001b[0m\u001b[1;33m:\u001b[0m \u001b[0mcontains\u001b[0m \u001b[0mauxiliary\u001b[0m \u001b[0mdiagnostic\u001b[0m \u001b[0minformation\u001b[0m \u001b[1;33m(\u001b[0m\u001b[0mhelpful\u001b[0m \u001b[1;32mfor\u001b[0m \u001b[0mdebugging\u001b[0m\u001b[1;33m,\u001b[0m \u001b[1;32mand\u001b[0m \u001b[0msometimes\u001b[0m \u001b[0mlearning\u001b[0m\u001b[1;33m)\u001b[0m\u001b[1;33m\u001b[0m\u001b[0m\n\u001b[0;32m     95\u001b[0m         \"\"\"\n\u001b[1;32m---> 96\u001b[1;33m         \u001b[1;32mreturn\u001b[0m \u001b[0mself\u001b[0m\u001b[1;33m.\u001b[0m\u001b[0m_step\u001b[0m\u001b[1;33m(\u001b[0m\u001b[0maction\u001b[0m\u001b[1;33m)\u001b[0m\u001b[1;33m\u001b[0m\u001b[0m\n\u001b[0m\u001b[0;32m     97\u001b[0m \u001b[1;33m\u001b[0m\u001b[0m\n\u001b[0;32m     98\u001b[0m     \u001b[1;32mdef\u001b[0m \u001b[0mreset\u001b[0m\u001b[1;33m(\u001b[0m\u001b[0mself\u001b[0m\u001b[1;33m)\u001b[0m\u001b[1;33m:\u001b[0m\u001b[1;33m\u001b[0m\u001b[0m\n",
      "\u001b[1;32mD:\\git\\learn-to-perform\\rl\\block_movement_env.py\u001b[0m in \u001b[0;36m_step\u001b[1;34m(self, action)\u001b[0m\n\u001b[0;32m    149\u001b[0m             \u001b[0mlast_progress\u001b[0m \u001b[1;33m=\u001b[0m \u001b[1;36m0\u001b[0m\u001b[1;33m\u001b[0m\u001b[0m\n\u001b[0;32m    150\u001b[0m \u001b[1;33m\u001b[0m\u001b[0m\n\u001b[1;32m--> 151\u001b[1;33m         \u001b[1;32mif\u001b[0m \u001b[0mself\u001b[0m\u001b[1;33m.\u001b[0m\u001b[0me\u001b[0m\u001b[1;33m.\u001b[0m\u001b[0mact\u001b[0m\u001b[1;33m(\u001b[0m\u001b[0mobject_index\u001b[0m\u001b[1;33m,\u001b[0m \u001b[0mCommand\u001b[0m\u001b[1;33m(\u001b[0m\u001b[0mposition\u001b[0m\u001b[1;33m,\u001b[0m \u001b[0mrotation\u001b[0m\u001b[1;33m)\u001b[0m\u001b[1;33m)\u001b[0m\u001b[1;33m:\u001b[0m\u001b[1;33m\u001b[0m\u001b[0m\n\u001b[0m\u001b[0;32m    152\u001b[0m             \u001b[1;31m# print ('Action accepted')\u001b[0m\u001b[1;33m\u001b[0m\u001b[1;33m\u001b[0m\u001b[0m\n\u001b[0;32m    153\u001b[0m             \u001b[0mcur_transform\u001b[0m \u001b[1;33m=\u001b[0m \u001b[0mself\u001b[0m\u001b[1;33m.\u001b[0m\u001b[0me\u001b[0m\u001b[1;33m.\u001b[0m\u001b[0mobjects\u001b[0m\u001b[1;33m[\u001b[0m\u001b[0mobject_index\u001b[0m\u001b[1;33m]\u001b[0m\u001b[1;33m.\u001b[0m\u001b[0mtransform\u001b[0m\u001b[1;33m\u001b[0m\u001b[0m\n",
      "\u001b[1;32mD:\\git\\learn-to-perform\\simulator\\simulator2d.py\u001b[0m in \u001b[0;36mact\u001b[1;34m(self, obj_index, command, check_condition)\u001b[0m\n\u001b[0;32m    414\u001b[0m                 \u001b[1;32mif\u001b[0m \u001b[0mcheck_condition\u001b[0m\u001b[1;33m:\u001b[0m\u001b[1;33m\u001b[0m\u001b[0m\n\u001b[0;32m    415\u001b[0m                         \u001b[1;32mif\u001b[0m \u001b[1;33m(\u001b[0m\u001b[0mself\u001b[0m\u001b[1;33m.\u001b[0m\u001b[0mboundary\u001b[0m \u001b[1;33m==\u001b[0m \u001b[1;32mNone\u001b[0m \u001b[1;32mor\u001b[0m \u001b[0mEnvironment\u001b[0m\u001b[1;33m.\u001b[0m\u001b[0mis_bounded\u001b[0m\u001b[1;33m(\u001b[0m\u001b[0mpath\u001b[0m\u001b[1;33m,\u001b[0m \u001b[0mself\u001b[0m\u001b[1;33m.\u001b[0m\u001b[0mboundary\u001b[0m\u001b[1;33m)\u001b[0m\u001b[1;33m)\u001b[0m \u001b[1;32mand\u001b[0m\u001b[0;31m\\\u001b[0m\u001b[1;33m\u001b[0m\u001b[0m\n\u001b[1;32m--> 416\u001b[1;33m                                 \u001b[0mself\u001b[0m\u001b[1;33m.\u001b[0m\u001b[0mis_overlap_consistency\u001b[0m\u001b[1;33m(\u001b[0m\u001b[0mpath\u001b[0m\u001b[1;33m,\u001b[0m \u001b[0mexclude_indices\u001b[0m \u001b[1;33m=\u001b[0m \u001b[1;33m[\u001b[0m\u001b[0mobj_index\u001b[0m\u001b[1;33m]\u001b[0m\u001b[1;33m)\u001b[0m \u001b[1;32mand\u001b[0m\u001b[0;31m\\\u001b[0m\u001b[1;33m\u001b[0m\u001b[0m\n\u001b[0m\u001b[0;32m    417\u001b[0m                                 \u001b[0mself\u001b[0m\u001b[1;33m.\u001b[0m\u001b[0mis_overlap_consistency\u001b[0m\u001b[1;33m(\u001b[0m\u001b[0mnew_obj\u001b[0m\u001b[1;33m,\u001b[0m \u001b[0mexclude_indices\u001b[0m \u001b[1;33m=\u001b[0m \u001b[1;33m[\u001b[0m\u001b[0mobj_index\u001b[0m\u001b[1;33m]\u001b[0m\u001b[1;33m)\u001b[0m\u001b[1;33m:\u001b[0m\u001b[1;33m\u001b[0m\u001b[0m\n\u001b[0;32m    418\u001b[0m                                 \u001b[1;31m# command satisfy\u001b[0m\u001b[1;33m\u001b[0m\u001b[1;33m\u001b[0m\u001b[0m\n",
      "\u001b[1;32mD:\\git\\learn-to-perform\\simulator\\simulator2d.py\u001b[0m in \u001b[0;36mis_overlap_consistency\u001b[1;34m(self, o, exclude_indices)\u001b[0m\n\u001b[0;32m    294\u001b[0m                         \u001b[1;32mif\u001b[0m \u001b[1;32mnot\u001b[0m \u001b[0mi\u001b[0m \u001b[1;32min\u001b[0m \u001b[0mexclude_indices\u001b[0m\u001b[1;33m:\u001b[0m\u001b[1;33m\u001b[0m\u001b[0m\n\u001b[0;32m    295\u001b[0m                                 \u001b[0mother\u001b[0m \u001b[1;33m=\u001b[0m \u001b[0mself\u001b[0m\u001b[1;33m.\u001b[0m\u001b[0mobjects\u001b[0m\u001b[1;33m[\u001b[0m\u001b[0mi\u001b[0m\u001b[1;33m]\u001b[0m\u001b[1;33m\u001b[0m\u001b[0m\n\u001b[1;32m--> 296\u001b[1;33m                                 \u001b[1;32mif\u001b[0m \u001b[0mEnvironment\u001b[0m\u001b[1;33m.\u001b[0m\u001b[0mis_overlap\u001b[0m\u001b[1;33m(\u001b[0m\u001b[0mo\u001b[0m\u001b[1;33m,\u001b[0m \u001b[0mother\u001b[0m\u001b[1;33m)\u001b[0m\u001b[1;33m:\u001b[0m\u001b[1;33m\u001b[0m\u001b[0m\n\u001b[0m\u001b[0;32m    297\u001b[0m                                         \u001b[1;32mreturn\u001b[0m \u001b[1;32mFalse\u001b[0m\u001b[1;33m\u001b[0m\u001b[0m\n\u001b[0;32m    298\u001b[0m \u001b[1;33m\u001b[0m\u001b[0m\n",
      "\u001b[1;32mD:\\git\\learn-to-perform\\simulator\\simulator2d.py\u001b[0m in \u001b[0;36mis_overlap\u001b[1;34m(o1, o2)\u001b[0m\n\u001b[0;32m    262\u001b[0m                                 \u001b[1;32mfor\u001b[0m \u001b[0mk\u001b[0m \u001b[1;32min\u001b[0m \u001b[0mrange\u001b[0m\u001b[1;33m(\u001b[0m\u001b[0mm2\u001b[0m\u001b[1;33m.\u001b[0m\u001b[0mshape\u001b[0m\u001b[1;33m[\u001b[0m\u001b[1;36m0\u001b[0m\u001b[1;33m]\u001b[0m\u001b[1;33m)\u001b[0m\u001b[1;33m:\u001b[0m\u001b[1;33m\u001b[0m\u001b[0m\n\u001b[0;32m    263\u001b[0m                                         \u001b[1;32mfor\u001b[0m \u001b[0ml\u001b[0m \u001b[1;32min\u001b[0m \u001b[0mrange\u001b[0m\u001b[1;33m(\u001b[0m\u001b[0mk\u001b[0m\u001b[1;33m+\u001b[0m\u001b[1;36m1\u001b[0m\u001b[1;33m,\u001b[0m \u001b[0mm2\u001b[0m\u001b[1;33m.\u001b[0m\u001b[0mshape\u001b[0m\u001b[1;33m[\u001b[0m\u001b[1;36m0\u001b[0m\u001b[1;33m]\u001b[0m\u001b[1;33m)\u001b[0m\u001b[1;33m:\u001b[0m\u001b[1;33m\u001b[0m\u001b[0m\n\u001b[1;32m--> 264\u001b[1;33m                                                 \u001b[0mr\u001b[0m \u001b[1;33m=\u001b[0m \u001b[0mEnvironment\u001b[0m\u001b[1;33m.\u001b[0m\u001b[0mcheck_intersect\u001b[0m\u001b[1;33m(\u001b[0m\u001b[0mm1\u001b[0m\u001b[1;33m[\u001b[0m\u001b[0mi\u001b[0m\u001b[1;33m]\u001b[0m\u001b[1;33m,\u001b[0m \u001b[0mm1\u001b[0m\u001b[1;33m[\u001b[0m\u001b[0mj\u001b[0m\u001b[1;33m]\u001b[0m\u001b[1;33m,\u001b[0m \u001b[0mm2\u001b[0m\u001b[1;33m[\u001b[0m\u001b[0mk\u001b[0m\u001b[1;33m]\u001b[0m\u001b[1;33m,\u001b[0m \u001b[0mm2\u001b[0m\u001b[1;33m[\u001b[0m\u001b[0ml\u001b[0m\u001b[1;33m]\u001b[0m\u001b[1;33m)\u001b[0m\u001b[1;33m\u001b[0m\u001b[0m\n\u001b[0m\u001b[0;32m    265\u001b[0m                                                 \u001b[1;31m# print ('%s %s %s %s %d' % (m1[i], m1[j], m2[k], m2[l], r))\u001b[0m\u001b[1;33m\u001b[0m\u001b[1;33m\u001b[0m\u001b[0m\n\u001b[0;32m    266\u001b[0m \u001b[1;33m\u001b[0m\u001b[0m\n",
      "\u001b[1;32mD:\\git\\learn-to-perform\\simulator\\simulator2d.py\u001b[0m in \u001b[0;36mcheck_intersect\u001b[1;34m(p1, p2, q1, q2)\u001b[0m\n\u001b[0;32m     78\u001b[0m                 \u001b[1;31m# print ('---CHECK---')\u001b[0m\u001b[1;33m\u001b[0m\u001b[1;33m\u001b[0m\u001b[0m\n\u001b[0;32m     79\u001b[0m                 \u001b[1;33m[\u001b[0m\u001b[0mp1x\u001b[0m\u001b[1;33m,\u001b[0m \u001b[0mp1y\u001b[0m\u001b[1;33m]\u001b[0m \u001b[1;33m=\u001b[0m \u001b[0mnp\u001b[0m\u001b[1;33m.\u001b[0m\u001b[0mcast\u001b[0m\u001b[1;33m[\u001b[0m\u001b[1;34m'f'\u001b[0m\u001b[1;33m]\u001b[0m\u001b[1;33m(\u001b[0m\u001b[0mp1\u001b[0m\u001b[1;33m)\u001b[0m\u001b[1;33m\u001b[0m\u001b[0m\n\u001b[1;32m---> 80\u001b[1;33m                 \u001b[1;33m[\u001b[0m\u001b[0mp2x\u001b[0m\u001b[1;33m,\u001b[0m \u001b[0mp2y\u001b[0m\u001b[1;33m]\u001b[0m \u001b[1;33m=\u001b[0m \u001b[0mnp\u001b[0m\u001b[1;33m.\u001b[0m\u001b[0mcast\u001b[0m\u001b[1;33m[\u001b[0m\u001b[1;34m'f'\u001b[0m\u001b[1;33m]\u001b[0m\u001b[1;33m(\u001b[0m\u001b[0mp2\u001b[0m\u001b[1;33m)\u001b[0m\u001b[1;33m\u001b[0m\u001b[0m\n\u001b[0m\u001b[0;32m     81\u001b[0m                 \u001b[1;33m[\u001b[0m\u001b[0mq1x\u001b[0m\u001b[1;33m,\u001b[0m \u001b[0mq1y\u001b[0m\u001b[1;33m]\u001b[0m \u001b[1;33m=\u001b[0m \u001b[0mnp\u001b[0m\u001b[1;33m.\u001b[0m\u001b[0mcast\u001b[0m\u001b[1;33m[\u001b[0m\u001b[1;34m'f'\u001b[0m\u001b[1;33m]\u001b[0m\u001b[1;33m(\u001b[0m\u001b[0mq1\u001b[0m\u001b[1;33m)\u001b[0m\u001b[1;33m\u001b[0m\u001b[0m\n\u001b[0;32m     82\u001b[0m                 \u001b[1;33m[\u001b[0m\u001b[0mq2x\u001b[0m\u001b[1;33m,\u001b[0m \u001b[0mq2y\u001b[0m\u001b[1;33m]\u001b[0m \u001b[1;33m=\u001b[0m \u001b[0mnp\u001b[0m\u001b[1;33m.\u001b[0m\u001b[0mcast\u001b[0m\u001b[1;33m[\u001b[0m\u001b[1;34m'f'\u001b[0m\u001b[1;33m]\u001b[0m\u001b[1;33m(\u001b[0m\u001b[0mq2\u001b[0m\u001b[1;33m)\u001b[0m\u001b[1;33m\u001b[0m\u001b[0m\n",
      "\u001b[1;32mC:\\Anaconda3\\envs\\tensorflow-cpu\\lib\\site-packages\\numpy\\core\\numerictypes.py\u001b[0m in \u001b[0;36m<lambda>\u001b[1;34m(x, k)\u001b[0m\n\u001b[0;32m    858\u001b[0m \u001b[0mScalarType\u001b[0m \u001b[1;33m=\u001b[0m \u001b[0mtuple\u001b[0m\u001b[1;33m(\u001b[0m\u001b[0mScalarType\u001b[0m\u001b[1;33m)\u001b[0m\u001b[1;33m\u001b[0m\u001b[0m\n\u001b[0;32m    859\u001b[0m \u001b[1;32mfor\u001b[0m \u001b[0mkey\u001b[0m \u001b[1;32min\u001b[0m \u001b[0m_sctype2char_dict\u001b[0m\u001b[1;33m.\u001b[0m\u001b[0mkeys\u001b[0m\u001b[1;33m(\u001b[0m\u001b[1;33m)\u001b[0m\u001b[1;33m:\u001b[0m\u001b[1;33m\u001b[0m\u001b[0m\n\u001b[1;32m--> 860\u001b[1;33m     \u001b[0mcast\u001b[0m\u001b[1;33m[\u001b[0m\u001b[0mkey\u001b[0m\u001b[1;33m]\u001b[0m \u001b[1;33m=\u001b[0m \u001b[1;32mlambda\u001b[0m \u001b[0mx\u001b[0m\u001b[1;33m,\u001b[0m \u001b[0mk\u001b[0m\u001b[1;33m=\u001b[0m\u001b[0mkey\u001b[0m\u001b[1;33m:\u001b[0m \u001b[0marray\u001b[0m\u001b[1;33m(\u001b[0m\u001b[0mx\u001b[0m\u001b[1;33m,\u001b[0m \u001b[0mcopy\u001b[0m\u001b[1;33m=\u001b[0m\u001b[1;32mFalse\u001b[0m\u001b[1;33m)\u001b[0m\u001b[1;33m.\u001b[0m\u001b[0mastype\u001b[0m\u001b[1;33m(\u001b[0m\u001b[0mk\u001b[0m\u001b[1;33m)\u001b[0m\u001b[1;33m\u001b[0m\u001b[0m\n\u001b[0m\u001b[0;32m    861\u001b[0m \u001b[1;33m\u001b[0m\u001b[0m\n\u001b[0;32m    862\u001b[0m \u001b[1;31m# Create the typestring lookup dictionary\u001b[0m\u001b[1;33m\u001b[0m\u001b[1;33m\u001b[0m\u001b[0m\n",
      "\u001b[1;31mKeyboardInterrupt\u001b[0m: "
     ]
    },
    {
     "data": {
      "image/png": "[encoded data removed]",
      "text/plain": [
       "<matplotlib.figure.Figure at 0x25d5c066898>"
      ]
     },
     "metadata": {},
     "output_type": "display_data"
    },
    {
     "data": {
      "image/png": "[encoded data removed]",
      "text/plain": [
       "<matplotlib.figure.Figure at 0x25d5c9018d0>"
      ]
     },
     "metadata": {},
     "output_type": "display_data"
    }
   ],
   "source": [
    "for project_name in action_types:\n",
    "    prefix = \"..\\\\experiments\\\\human_evaluation_2d\\\\\" + project_name + \"\\\\\"\n",
    "    print (\"============\")\n",
    "    print (prefix)\n",
    "    al = action_lns[project_name]\n",
    "    for n in range(2):\n",
    "        al.env.reset()\n",
    "        explorations = al.learn_one_setup(verbose = True)\n",
    "        explorations[0].save(prefix + str(n) + \".dat\")\n",
    "        explorations[0].save_visualization_to_file(prefix + str(n) + \".mp4\")"
   ]
  },
  {
   "cell_type": "code",
   "execution_count": 15,
   "metadata": {
    "collapsed": true
   },
   "outputs": [],
   "source": [
    "feedback = \"..\\\\experiments\\\\human_evaluation_2d\\\\slidearound.txt\""
   ]
  },
  {
   "cell_type": "code",
   "execution_count": 28,
   "metadata": {},
   "outputs": [
    {
     "name": "stdout",
     "output_type": "stream",
     "text": [
      "19\n",
      "[0, 2, 3, 4, 6, 8, 9, 11, 12, 16, 17, 20, 21, 23, 24, 25, 27, 28, 29]\n"
     ]
    }
   ],
   "source": [
    "with open(feedback, 'r') as fh:\n",
    "    wrong_demonstration_indices = []\n",
    "    for line in fh:\n",
    "        values = [int(v) for v in line.split()]\n",
    "        index = values[0]\n",
    "        average_score = np.mean(values[1:])\n",
    "        if average_score <= 2.5:\n",
    "            wrong_demonstration_indices.append(index)\n",
    "\n",
    "print (len(wrong_demonstration_indices))\n",
    "print (wrong_demonstration_indices)"
   ]
  },
  {
   "cell_type": "code",
   "execution_count": 29,
   "metadata": {
    "collapsed": true
   },
   "outputs": [],
   "source": [
    "p = progress_estimators[\"SlideAround\"]"
   ]
  },
  {
   "cell_type": "code",
   "execution_count": 34,
   "metadata": {},
   "outputs": [],
   "source": [
    "reload(block_movement_env)\n",
    "import pickle"
   ]
  },
  {
   "cell_type": "code",
   "execution_count": 32,
   "metadata": {
    "collapsed": true
   },
   "outputs": [],
   "source": [
    "prefix = os.path.join( \"..\", \"experiments\", \"human_evaluation_2d\" , \"SlideAround\")"
   ]
  },
  {
   "cell_type": "code",
   "execution_count": 46,
   "metadata": {},
   "outputs": [
    {
     "name": "stdout",
     "output_type": "stream",
     "text": [
      "{'start_config': [Cube : [-0.01572524 -0.10102905  0.30911663], Cube : [ 0.19961559  0.49010506  1.44659077]], 'action_storage': [[0, [-0.01572524 -0.10102905  0.30911663] - 0.075, [-0.46145262  0.33233556  0.14982787] - 0.075, array([-0.43916625,  0.31066733,  0.15779231, -0.46145262,  0.33233556,\n",
      "        0.14982787,  0.19961559,  0.49010506,  1.44659077,  0.19961559,\n",
      "        0.49010506,  1.44659077]), 0.66035455, True, array([ 0.,  0.,  0.], dtype=float32), array([ 2. ,  2. ,  0.5], dtype=float32)], [0, [-0.46145262  0.33233556  0.14982787] - 0.075, [ 0.83144515  0.24279438  0.17549452] - 0.075, array([ 0.73579087,  0.24941903,  0.17359559,  0.83144515,  0.24279438,\n",
      "        0.17549452,  0.19961559,  0.49010506,  1.44659077,  0.19961559,\n",
      "        0.49010506,  1.44659077]), 0.89616138, True, array([ 0.,  0.,  0.], dtype=float32), array([ 2. ,  2. ,  0.5], dtype=float32)], [0, [ 0.83144515  0.24279438  0.17549452] - 0.075, [ 0.83144515  0.24279438  0.17549452] - 0.075, array([ 0.73579087,  0.24941903,  0.17359559,  0.83144515,  0.24279438,\n",
      "        0.17549452,  0.19961559,  0.49010506,  1.44659077,  0.19961559,\n",
      "        0.49010506,  1.44659077]), 0.89616137742996216, False, array([ 0.,  0.,  0.], dtype=float32), array([ 2. ,  2. ,  0.5], dtype=float32)]]}\n"
     ]
    },
    {
     "ename": "UnpicklingError",
     "evalue": "the STRING opcode argument must be quoted",
     "output_type": "error",
     "traceback": [
      "\u001b[1;31m---------------------------------------------------------------------------\u001b[0m",
      "\u001b[1;31mUnpicklingError\u001b[0m                           Traceback (most recent call last)",
      "\u001b[1;32m<ipython-input-46-c43080d2f21c>\u001b[0m in \u001b[0;36m<module>\u001b[1;34m()\u001b[0m\n\u001b[0;32m      2\u001b[0m     \u001b[0mstored_config_file\u001b[0m \u001b[1;33m=\u001b[0m \u001b[0mos\u001b[0m\u001b[1;33m.\u001b[0m\u001b[0mpath\u001b[0m\u001b[1;33m.\u001b[0m\u001b[0mjoin\u001b[0m\u001b[1;33m(\u001b[0m\u001b[0mprefix\u001b[0m\u001b[1;33m,\u001b[0m \u001b[0mstr\u001b[0m\u001b[1;33m(\u001b[0m\u001b[0mindex\u001b[0m\u001b[1;33m)\u001b[0m \u001b[1;33m+\u001b[0m \u001b[1;34m\".dat\"\u001b[0m\u001b[1;33m)\u001b[0m\u001b[1;33m\u001b[0m\u001b[0m\n\u001b[0;32m      3\u001b[0m     \u001b[1;32mwith\u001b[0m \u001b[0mopen\u001b[0m\u001b[1;33m(\u001b[0m\u001b[0mstored_config_file\u001b[0m\u001b[1;33m,\u001b[0m \u001b[1;34m'rb'\u001b[0m\u001b[1;33m)\u001b[0m \u001b[1;32mas\u001b[0m \u001b[0mfh\u001b[0m\u001b[1;33m:\u001b[0m\u001b[1;33m\u001b[0m\u001b[0m\n\u001b[1;32m----> 4\u001b[1;33m         \u001b[0mstored_config\u001b[0m \u001b[1;33m=\u001b[0m \u001b[0mpickle\u001b[0m\u001b[1;33m.\u001b[0m\u001b[0mload\u001b[0m\u001b[1;33m(\u001b[0m\u001b[0mfh\u001b[0m\u001b[1;33m,\u001b[0m \u001b[0mencoding\u001b[0m\u001b[1;33m=\u001b[0m\u001b[1;34m'latin-1'\u001b[0m\u001b[1;33m)\u001b[0m\u001b[1;33m\u001b[0m\u001b[0m\n\u001b[0m\u001b[0;32m      5\u001b[0m         \u001b[0mprint\u001b[0m \u001b[1;33m(\u001b[0m\u001b[0mstored_config\u001b[0m\u001b[1;33m)\u001b[0m\u001b[1;33m\u001b[0m\u001b[0m\n",
      "\u001b[1;31mUnpicklingError\u001b[0m: the STRING opcode argument must be quoted"
     ]
    }
   ],
   "source": [
    "for index in wrong_demonstration_indices:\n",
    "    stored_config_file = os.path.join(prefix, str(index) + \".dat\")\n",
    "    with open(stored_config_file, 'rb') as fh:\n",
    "        # need this encoding \n",
    "        stored_config = pickle.load(fh, encoding='latin-1')\n",
    "        print (stored_config)"
   ]
  },
  {
   "cell_type": "code",
   "execution_count": null,
   "metadata": {
    "collapsed": true
   },
   "outputs": [],
   "source": []
  }
 ],
 "metadata": {
  "kernelspec": {
   "display_name": "Python 3",
   "language": "python",
   "name": "python3"
  },
  "language_info": {
   "codemirror_mode": {
    "name": "ipython",
    "version": 3
   },
   "file_extension": ".py",
   "mimetype": "text/x-python",
   "name": "python",
   "nbconvert_exporter": "python",
   "pygments_lexer": "ipython3",
   "version": "3.5.4"
  }
 },
 "nbformat": 4,
 "nbformat_minor": 2
}
