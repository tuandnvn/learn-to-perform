{
 "cells": [
  {
   "cell_type": "markdown",
   "metadata": {},
   "source": [
    "This notebook demonstrates the working principle of our framework.\n",
    "\n",
    "We would do the following things:\n",
    "\n",
    "- Loading a progress learner model that has been trained on real human demonstrations.\n",
    "\n",
    "- Using the learned model, demonstrate a simple demonstration on 2-D visualizer. This demo will demonstrate the result using a simple searching (*exploration only mode*) to find a good demonstration, and finish when the progress threshold attains a certain value.\n",
    "\n",
    "First we load several needed libraries:"
   ]
  },
  {
   "cell_type": "code",
   "execution_count": 4,
   "metadata": {},
   "outputs": [],
   "source": [
    "import os\n",
    "import sys\n",
    "import collections\n",
    "\n",
    "# Import third party libraries\n",
    "import tensorflow as tf\n",
    "import matplotlib\n",
    "from matplotlib import pyplot as plt\n",
    "%matplotlib inline\n",
    "\n",
    "\n",
    "# Import local libraries\n",
    "module_path = os.path.abspath(os.path.join('..'))\n",
    "if module_path not in sys.path:\n",
    "    sys.path.append(module_path)\n",
    "a = os.path.join(module_path, \"strands_qsr_lib\\qsr_lib\\src3\")\n",
    "\n",
    "sys.path.append(a)\n",
    "\n",
    "import plotting\n",
    "from rl import action_learner, action_learner_search, value_estimator, discrete_action_learner_search as dal\n",
    "import progress_learner\n",
    "import config\n",
    "import project\n",
    "# Need to add this import to load class\n",
    "from project import Project\n",
    "from rl import block_movement_env"
   ]
  },
  {
   "cell_type": "markdown",
   "metadata": {},
   "source": [
    "A project used to store data for training, and other meta-data for each action (name *../slidearound_project.proj*\n",
    "\n",
    "The model that has been learned for action **Slide Around** is stored at .\n",
    "\n",
    "In the following code, we create a default setup of config. Some important variables in config file is:\n",
    "\n",
    "- **progress_threshold**: Because we have learned a progress function for \n",
    "\n",
    "- **keep_branching**: \n",
    "\n",
    "- **branching**: "
   ]
  },
  {
   "cell_type": "code",
   "execution_count": null,
   "metadata": {},
   "outputs": [],
   "source": [
    "p = project.Project.load(\"../slidearound_project.proj\")\n",
    "\n",
    "c = config.Config()\n",
    "tf.reset_default_graph()\n",
    "\n",
    "global_step = tf.Variable(0, name=\"global_step\", trainable=False)\n",
    "\n",
    "sess =  tf.Session()\n",
    "\n",
    "with tf.variable_scope(\"search\") as scope:\n",
    "    policy_estimator = action_learner_search.PolicyEstimator(c)\n",
    "\n",
    "sess.run(tf.global_variables_initializer())\n",
    "\n",
    "with tf.variable_scope(\"model\") as scope:\n",
    "    print('-------- Load progress model ---------')\n",
    "    progress_estimator = progress_learner.EventProgressEstimator(is_training=False, name = p.name, config = c)  \n",
    "\n",
    "# Print out all variables that would be restored\n",
    "for variable in tf.get_collection(tf.GraphKeys.GLOBAL_VARIABLES, scope='model'):\n",
    "    print (variable.name)\n",
    "\n",
    "saver = tf.train.Saver(tf.get_collection(tf.GraphKeys.GLOBAL_VARIABLES, scope='model'))\n",
    "saver.restore(sess, '../progress_SlideAround.mod')"
   ]
  }
 ],
 "metadata": {
  "kernelspec": {
   "display_name": "Python 3",
   "language": "python",
   "name": "python3"
  },
  "language_info": {
   "codemirror_mode": {
    "name": "ipython",
    "version": 3
   },
   "file_extension": ".py",
   "mimetype": "text/x-python",
   "name": "python",
   "nbconvert_exporter": "python",
   "pygments_lexer": "ipython3",
   "version": "3.5.4"
  }
 },
 "nbformat": 4,
 "nbformat_minor": 2
}
