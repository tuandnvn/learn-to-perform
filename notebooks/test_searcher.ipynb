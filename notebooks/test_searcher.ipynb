{
 "cells": [
  {
   "cell_type": "code",
   "execution_count": 39,
   "metadata": {},
   "outputs": [
    {
     "name": "stdout",
     "output_type": "stream",
     "text": [
      "D:\\git\\learn-to-perform\\strands_qsr_lib\\qsr_lib\\src3\n"
     ]
    }
   ],
   "source": [
    "import os\n",
    "import sys\n",
    "import numpy as np\n",
    "import pickle\n",
    "\n",
    "module_path = os.path.abspath(os.path.join('..'))\n",
    "if module_path not in sys.path:\n",
    "    sys.path.append(module_path)\n",
    "a = os.path.join(module_path, 'strands_qsr_lib', 'qsr_lib', 'src3')\n",
    "print (a)\n",
    "sys.path.append(a)\n",
    "\n",
    "import project\n",
    "# Need to add this import to load class\n",
    "from project import Project\n",
    "import config\n",
    "import progress_learner\n",
    "from rl import block_movement_env\n",
    "import matplotlib.pyplot as plt\n",
    "%matplotlib inline\n",
    "import math\n",
    "from importlib import reload\n"
   ]
  },
  {
   "cell_type": "markdown",
   "metadata": {},
   "source": [
    "#### Loading projects from files"
   ]
  },
  {
   "cell_type": "code",
   "execution_count": 41,
   "metadata": {},
   "outputs": [
    {
     "name": "stdout",
     "output_type": "stream",
     "text": [
      "========================================================\n",
      "Load for action type = SlideToward\n",
      "-------- Load progress model ---------\n",
      "self.inputs.shape = (?, 20, 200)  after linear layer\n",
      "output.shape = (30, 200) after LSTM\n",
      "self.output.shape = (30,) after linear\n",
      "self._targets.shape = (?,) \n",
      "========================================================\n",
      "Load for action type = SlideAway\n",
      "-------- Load progress model ---------\n",
      "self.inputs.shape = (?, 20, 200)  after linear layer\n",
      "output.shape = (30, 200) after LSTM\n",
      "self.output.shape = (30,) after linear\n",
      "self._targets.shape = (?,) \n",
      "========================================================\n",
      "Load for action type = SlideNext\n",
      "-------- Load progress model ---------\n",
      "self.inputs.shape = (?, 20, 200)  after linear layer\n",
      "output.shape = (30, 200) after LSTM\n",
      "self.output.shape = (30,) after linear\n",
      "self._targets.shape = (?,) \n",
      "========================================================\n",
      "Load for action type = SlidePast\n",
      "-------- Load progress model ---------\n",
      "self.inputs.shape = (?, 20, 200)  after linear layer\n",
      "output.shape = (30, 200) after LSTM\n",
      "self.output.shape = (30,) after linear\n",
      "self._targets.shape = (?,) \n",
      "========================================================\n",
      "Load for action type = SlideAround\n",
      "-------- Load progress model ---------\n",
      "self.inputs.shape = (?, 20, 200)  after linear layer\n",
      "output.shape = (30, 200) after LSTM\n",
      "self.output.shape = (30,) after linear\n",
      "self._targets.shape = (?,) \n",
      "INFO:tensorflow:Restoring parameters from ..\\learned_models\\progress_SlideToward.mod\n",
      "INFO:tensorflow:Restoring parameters from ..\\learned_models\\progress_SlideAway.mod\n",
      "INFO:tensorflow:Restoring parameters from ..\\learned_models\\progress_SlideNext.mod\n",
      "INFO:tensorflow:Restoring parameters from ..\\learned_models\\progress_SlidePast.mod\n",
      "INFO:tensorflow:Restoring parameters from ..\\learned_models\\progress_SlideAround.mod\n"
     ]
    }
   ],
   "source": [
    "import tensorflow as tf\n",
    "\n",
    "### MAIN CODE\n",
    "tf.reset_default_graph()\n",
    "sess =  tf.Session()\n",
    "\n",
    "projects = {}\n",
    "progress_estimators = {}\n",
    "configs = {}\n",
    "\n",
    "action_types = [\"SlideToward\", \"SlideAway\", \"SlideNext\", \"SlidePast\", \"SlideAround\"]\n",
    "\n",
    "for project_name in action_types:\n",
    "    configs[project_name] = config.Config()\n",
    "    if project_name == 'SlideNext':\n",
    "        configs[project_name].n_input = 8\n",
    "        \n",
    "    print ('========================================================')\n",
    "    print ('Load for action type = ' + project_name)\n",
    "    p_name = project_name.lower() + \"_project.proj\"\n",
    "\n",
    "    projects[project_name] = project.Project.load(os.path.join('..', 'learned_models', p_name))\n",
    "    \n",
    "    with tf.variable_scope(\"model\") as scope:\n",
    "        print('-------- Load progress model ---------')\n",
    "        progress_estimators[project_name] = progress_learner.EventProgressEstimator(is_training=True, \n",
    "                                                                                    is_dropout = False, \n",
    "                                                                                    name = projects[project_name].name, \n",
    "                                                                                    config = configs[project_name])  \n",
    "        \n",
    "for project_name in action_types:\n",
    "    saver = tf.train.Saver(tf.get_collection(tf.GraphKeys.GLOBAL_VARIABLES, scope='model/' + project_name))\n",
    "\n",
    "    saver.restore(sess, os.path.join('..', 'learned_models', 'progress_' + project_name + '.mod'))"
   ]
  },
  {
   "cell_type": "markdown",
   "metadata": {},
   "source": [
    "## Generate some common environments"
   ]
  },
  {
   "cell_type": "code",
   "execution_count": 6,
   "metadata": {},
   "outputs": [],
   "source": [
    "stored_envs = []\n",
    "\n",
    "for i in range(50):\n",
    "    # Just generate some environment to store \n",
    "    e = block_movement_env.BlockMovementEnv(config.Config(), 1, session = sess)\n",
    "    \n",
    "    stored_envs.append(e.start_config)"
   ]
  },
  {
   "cell_type": "code",
   "execution_count": 45,
   "metadata": {},
   "outputs": [
    {
     "data": {
      "text/plain": [
       "<module 'rl.discrete_action_learner_search' from 'D:\\\\git\\\\learn-to-perform\\\\rl\\\\discrete_action_learner_search.py'>"
      ]
     },
     "execution_count": 45,
     "metadata": {},
     "output_type": "execute_result"
    }
   ],
   "source": [
    "from rl import action_learner_search as als\n",
    "from rl import discrete_action_learner_search as dals\n",
    "reload(als)\n",
    "reload(dals)"
   ]
  },
  {
   "cell_type": "markdown",
   "metadata": {},
   "source": [
    "#### Test for Slide Closer To\n",
    "\n",
    "Using automatic_evaluator.test_slide_close with threshold = 3.5 * c.block_size"
   ]
  },
  {
   "cell_type": "code",
   "execution_count": 48,
   "metadata": {},
   "outputs": [
    {
     "name": "stdout",
     "output_type": "stream",
     "text": [
      "action_level = 0\n",
      "==========best action==========  [-0.14162408  0.14229495  0.89475802]\n",
      "==========progress==========  0.7567769885063171\n",
      "action_level = 1\n",
      "1 0.7567769885063171\n",
      "1\n",
      "action_level = 0\n",
      "exploration_index = 0\n",
      "=== Best explorations ===\n",
      "[(0, 0.534389078617096), (0, 0.534389078617096), (0, 0.0030136797577142715), (0, 0.0010385439964011312), (0, 0.0006731206085532904), (0, 0.0006643292144872248), (0, 0.0006643292144872248), (0, 0.0005800483049824834), (0, 0.0005663224146701396)]\n",
      "action_level = 1\n",
      "exploration_index = 0\n",
      "exploration_index = 1\n",
      "exploration_index = 2\n",
      "exploration_index = 3\n",
      "exploration_index = 4\n",
      "=== found_completed_act ===\n",
      "=== found_completed_act ===\n",
      "exploration_index = 5\n",
      "exploration_index = 6\n",
      "exploration_index = 7\n",
      "exploration_index = 8\n",
      "=== Best explorations ===\n",
      "[(4, 0.85063630877994), (4, 0.85063630877994), (4, 0.7107705527450889), (7, 0.7077656743349507), (7, 0.707420623046346), (7, 0.707420623046346), (7, 0.6508162376703694), (7, 0.55239025328774), (0, 0.534389078617096)]\n",
      "2 0.8506363\n",
      "0\n"
     ]
    }
   ],
   "source": [
    "project_name = 'SlideToward'\n",
    "\n",
    "for i in range(50):\n",
    "    # Just generate some environment to store \n",
    "    e = block_movement_env.BlockMovementEnv(config.Config(), speed = projects[project_name].speed, \n",
    "                                            progress_estimator = progress_estimators[project_name],\n",
    "                                            session = sess)\n",
    "    \n",
    "    ## GREEDY\n",
    "    # ==================\n",
    "    e.reset_env_to_state(stored_envs[i], [])\n",
    "    searcher = als.ActionLearner_Search(configs[project_name], projects[project_name], \n",
    "                                        progress_estimators[project_name], session = sess, env = e)\n",
    "    action_level, progress, exploration = searcher.greedy(verbose = True)\n",
    "    \n",
    "    print (action_level, progress)\n",
    "    print (automatic_evaluator.test_slide_close(exploration, threshold = 3.5 * configs[project_name].block_size))\n",
    "    \n",
    "    # ==================\n",
    "    e.reset_env_to_state(stored_envs[i], [])\n",
    "    searcher = dals.Discrete_ActionLearner_Search(configs[project_name], projects[project_name], \n",
    "                                        progress_estimators[project_name], session = sess, env = e)\n",
    "    action_level, progress, exploration = searcher.greedy(verbose = True)\n",
    "    \n",
    "    print (action_level, progress)\n",
    "    print (automatic_evaluator.test_slide_close(exploration, threshold = 3.5 * configs[project_name].block_size))\n",
    "    \n",
    "    ## BACK UP SEARCH\n",
    "    # ==================\n",
    "    e.reset_env_to_state(stored_envs[i], [])\n",
    "    searcher = als.ActionLearner_Search(configs[project_name], projects[project_name], \n",
    "                                        progress_estimators[project_name], session = sess, env = e)\n",
    "    action_level, progress, exploration = searcher.greedy(verbose = True)\n",
    "    \n",
    "    print (action_level, progress)\n",
    "    print (automatic_evaluator.test_slide_close(exploration, threshold = 3.5 * configs[project_name].block_size))\n",
    "    \n",
    "    # ==================\n",
    "    e.reset_env_to_state(stored_envs[i], [])\n",
    "    searcher = dals.Discrete_ActionLearner_Search(configs[project_name], projects[project_name], \n",
    "                                        progress_estimators[project_name], session = sess, env = e)\n",
    "    action_level, progress, exploration = searcher.greedy(verbose = True)\n",
    "    \n",
    "    print (action_level, progress)\n",
    "    print (automatic_evaluator.test_slide_close(exploration, threshold = 3.5 * configs[project_name].block_size))"
   ]
  },
  {
   "cell_type": "code",
   "execution_count": 32,
   "metadata": {},
   "outputs": [],
   "source": [
    "import automatic_evaluator"
   ]
  },
  {
   "cell_type": "code",
   "execution_count": 49,
   "metadata": {},
   "outputs": [
    {
     "data": {
      "image/png": "[encoded data removed]",
      "text/plain": [
       "<matplotlib.figure.Figure at 0x29d225a8128>"
      ]
     },
     "metadata": {},
     "output_type": "display_data"
    },
    {
     "name": "stdout",
     "output_type": "stream",
     "text": [
      "(None, None)\n",
      "[0.35105909 0.84034252 1.35700539]\n",
      "[[ 0.   0.  -1.   0.  -1.   0.  -0.5]\n",
      " [ 0.  -1.  -1.   0.  -1.   0.  -0.5]\n",
      " [ 0.   0.  -1.   0.  -1.   0.  -0.5]\n",
      " [-1.   0.  -1.   0.  -1.   0.  -0.5]\n",
      " [ 0.   0.  -1.   0.  -1.   0.  -0.5]\n",
      " [ 0.   0.  -1.   0.  -1.   0.  -0.5]\n",
      " [ 0.   0.  -1.   0.  -1.   0.  -0.5]\n",
      " [ 0.   0.   1.   0.  -1.   0.  -0.5]\n",
      " [ 0.   0.   1.   0.  -1.   0.  -0.5]\n",
      " [ 0.   0.   1.   0.  -1.   0.  -0.5]\n",
      " [-1.   0.   1.   0.  -1.   0.   0. ]\n",
      " [ 0.   1.   1.   0.  -1.   0.   0. ]\n",
      " [ 0.   0.   1.   0.  -1.   0.   0. ]\n",
      " [ 0.   0.   1.   0.  -1.   0.   0. ]\n",
      " [ 0.   1.   1.   0.  -1.   0.   0. ]\n",
      " [ 0.   0.   1.   0.  -1.   0.   0. ]\n",
      " [ 0.   1.   1.   0.  -1.   0.   0. ]\n",
      " [ 0.   0.   1.   0.  -1.   0.   0. ]\n",
      " [ 0.   1.   1.   0.  -1.   0.   0. ]\n",
      " [ 0.   0.   1.   0.  -1.   0.   0. ]]\n",
      "Progress = 0.00; reward = 0.00\n"
     ]
    },
    {
     "data": {
      "image/png": "[encoded data removed]",
      "text/plain": [
       "<matplotlib.figure.Figure at 0x29ce991cbe0>"
      ]
     },
     "metadata": {},
     "output_type": "display_data"
    },
    {
     "name": "stdout",
     "output_type": "stream",
     "text": [
      "(None, None)\n",
      "[-0.15350457  0.21311409  1.35700539]\n",
      "[[ 0.  -1.  -1.   0.  -1.   0.  -0.5]\n",
      " [-1.   0.  -1.   0.  -1.   0.  -0.5]\n",
      " [ 0.   0.  -1.   0.  -1.   0.  -0.5]\n",
      " [ 0.   0.  -1.   0.  -1.   0.  -0.5]\n",
      " [ 0.   0.   1.   0.  -1.   0.  -0.5]\n",
      " [-1.   1.   1.   0.  -1.   0.   0. ]\n",
      " [ 0.   0.   1.   0.  -1.   0.   0. ]\n",
      " [ 0.   1.   1.   0.  -1.   0.   0. ]\n",
      " [ 0.   1.   1.   0.  -1.   0.   0. ]\n",
      " [ 0.   1.   1.   0.  -1.   0.   0. ]\n",
      " [ 0.   0.  -1.   0.  -1.   0.   0. ]\n",
      " [ 0.  -1.  -1.   0.   0.   0.   0. ]\n",
      " [ 0.  -1.  -1.   0.   0.   0.   0. ]\n",
      " [ 0.  -1.  -1.   0.   1.   0.   0. ]\n",
      " [ 0.  -1.  -1.   0.   1.   0.   0. ]\n",
      " [ 0.  -1.  -1.   0.   1.   0.   0. ]\n",
      " [ 1.   0.  -1.   0.   1.   0.   0. ]\n",
      " [ 0.   0.  -1.   0.   1.   0.   0. ]\n",
      " [ 0.   0.  -1.   0.   1.   0.   0. ]\n",
      " [ 1.   0.   1.   0.   1.   0.   0. ]]\n",
      "Progress = 0.85; reward = 0.85\n"
     ]
    },
    {
     "data": {
      "image/png": "[encoded data removed]",
      "text/plain": [
       "<matplotlib.figure.Figure at 0x29ce993e9b0>"
      ]
     },
     "metadata": {},
     "output_type": "display_data"
    }
   ],
   "source": [
    "exploration.replay(verbose = True)"
   ]
  },
  {
   "cell_type": "code",
   "execution_count": null,
   "metadata": {},
   "outputs": [],
   "source": []
  }
 ],
 "metadata": {
  "kernelspec": {
   "display_name": "Python 3",
   "language": "python",
   "name": "python3"
  },
  "language_info": {
   "codemirror_mode": {
    "name": "ipython",
    "version": 3
   },
   "file_extension": ".py",
   "mimetype": "text/x-python",
   "name": "python",
   "nbconvert_exporter": "python",
   "pygments_lexer": "ipython3",
   "version": "3.5.4"
  }
 },
 "nbformat": 4,
 "nbformat_minor": 2
}
