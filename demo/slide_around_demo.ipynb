{
 "cells": [
  {
   "cell_type": "markdown",
   "metadata": {},
   "source": [
    "This notebook demonstrates the working principle of our framework.\n",
    "\n",
    "We would do the following things:\n",
    "\n",
    "- Loading a progress learner model that has been trained on real human demonstrations.\n",
    "\n",
    "- Using the learned model, demonstrate a simple demonstration on 2-D visualizer. This demo will demonstrate the result using a simple searching (*exploration only mode*) to find a good demonstration, and finish when the progress threshold attains a certain value.\n",
    "\n",
    "First we load several needed libraries:"
   ]
  },
  {
   "cell_type": "code",
   "execution_count": 39,
   "metadata": {},
   "outputs": [],
   "source": [
    "import os\n",
    "import sys\n",
    "import collections\n",
    "\n",
    "# Import third party libraries\n",
    "import tensorflow as tf\n",
    "import matplotlib\n",
    "from matplotlib import pyplot as plt\n",
    "%matplotlib inline\n",
    "\n",
    "\n",
    "# Import local libraries\n",
    "module_path = os.path.abspath(os.path.join('..'))\n",
    "if module_path not in sys.path:\n",
    "    sys.path.append(module_path)\n",
    "a = os.path.join(module_path, \"strands_qsr_lib\\qsr_lib\\src3\")\n",
    "\n",
    "sys.path.append(a)\n",
    "\n",
    "import plotting\n",
    "from rl import action_learner, action_learner_search, value_estimator, discrete_action_learner_search as dal\n",
    "import progress_learner\n",
    "import config\n",
    "import project\n",
    "# Need to add this import to load class\n",
    "from project import Project\n",
    "from rl import block_movement_env\n",
    "import utils\n",
    "from importlib import reload"
   ]
  },
  {
   "cell_type": "markdown",
   "metadata": {},
   "source": [
    "A project used to store data for training, and other meta-data for each action (e.g. name) *../slidearound_project.proj*\n",
    "\n",
    "The model that has been learned for action **Slide Around** is stored at *../progress_SlideAround.mod*.\n",
    "\n",
    "In the following code, we create a default setup of config. Some important variables in config file is:\n",
    "\n",
    "- **progress_threshold**: This is a threshold of our progress function that when searching for completion of action, we can stop searching (stop condition). \n",
    "\n",
    "- **keep_branching**: Number of explorations kept in each exploration time step\n",
    "\n",
    "- **branching**: Number of states would be explored from the current exploration"
   ]
  },
  {
   "cell_type": "code",
   "execution_count": 42,
   "metadata": {},
   "outputs": [],
   "source": [
    "p = project.Project.load(os.path.join('..', utils.MODEL_PATH, 'slidearound_project.proj'))\n",
    "c = config.Config()\n",
    "c.progress_threshold=0.92\n",
    "c.keep_branching = 24\n",
    "c.branching = 24"
   ]
  },
  {
   "cell_type": "markdown",
   "metadata": {},
   "source": [
    "The following code load tensorflow model that has been trained for *Slide Around*, and prints out the parameters in the model. "
   ]
  },
  {
   "cell_type": "code",
   "execution_count": 41,
   "metadata": {},
   "outputs": [
    {
     "name": "stdout",
     "output_type": "stream",
     "text": [
      "-------- Load progress model ---------\n",
      "self.inputs.shape = (?, 20, 200)  after linear layer\n",
      "output.shape = (30, 200) after LSTM\n",
      "self.output.shape = (30,) after linear\n",
      "self._targets.shape = (?,) \n",
      "model/SlideAround/linear/weight:0\n",
      "model/SlideAround/linear/bias:0\n",
      "model/SlideAround/lstm/rnn/multi_rnn_cell/cell_0/basic_lstm_cell/kernel:0\n",
      "model/SlideAround/lstm/rnn/multi_rnn_cell/cell_0/basic_lstm_cell/bias:0\n",
      "model/SlideAround/output_linear/weight:0\n",
      "model/SlideAround/output_linear/bias:0\n",
      "INFO:tensorflow:Restoring parameters from ..\\learned_models\\progress_SlideAround.mod\n"
     ]
    }
   ],
   "source": [
    "tf.reset_default_graph()\n",
    "\n",
    "global_step = tf.Variable(0, name=\"global_step\", trainable=False)\n",
    "\n",
    "sess =  tf.Session()\n",
    "\n",
    "with tf.variable_scope(\"search\") as scope:\n",
    "    policy_estimator = action_learner_search.PolicyEstimator(c)\n",
    "\n",
    "sess.run(tf.global_variables_initializer())\n",
    "\n",
    "with tf.variable_scope(\"model\") as scope:\n",
    "    print('-------- Load progress model ---------')\n",
    "    progress_estimator = progress_learner.EventProgressEstimator(is_training=False, name = p.name, config = c)  \n",
    "\n",
    "# Print out all variables that would be restored\n",
    "for variable in tf.get_collection(tf.GraphKeys.GLOBAL_VARIABLES, scope='model'):\n",
    "    print (variable.name)\n",
    "\n",
    "saver = tf.train.Saver(tf.get_collection(tf.GraphKeys.GLOBAL_VARIABLES, scope='model'))\n",
    "saver.restore(sess, os.path.join('..', utils.MODEL_PATH, 'progress_SlideAround.mod'))"
   ]
  },
  {
   "cell_type": "code",
   "execution_count": 30,
   "metadata": {},
   "outputs": [],
   "source": [
    "action_ln = dal.Discrete_ActionLearner_Search(c, p, progress_estimator, session = sess)"
   ]
  },
  {
   "cell_type": "markdown",
   "metadata": {},
   "source": [
    "The *exploration* is as followings:\n",
    "\n",
    "1. Start with a randomized setup\n",
    "\n",
    "2. This setup corresponds to 1 exploration with no history.\n",
    "\n",
    "3. For each exploration, choose one of 24 or *branching* positions to move to.\n",
    "\n",
    "4. Keep 24 or *keep_branching* best explorations (history) we have seen so far.\n",
    "\n",
    "5. Back to 3\n",
    "\n",
    "6. STOP if the best progress value doesn't increase after one step OR when the best exploration excess threshold"
   ]
  },
  {
   "cell_type": "code",
   "execution_count": 31,
   "metadata": {},
   "outputs": [
    {
     "name": "stdout",
     "output_type": "stream",
     "text": [
      "==================================\n",
      "action_level = 0\n",
      "exploration_index = 0\n",
      "=== Best explorations ===\n",
      "[(0, 0.738186240196228), (0, 0.7063241600990295), (0, 0.49129870533943176), (0, 0.42514657974243164), (0, 0.3670833706855774), (0, 0.3157680928707123), (0, 0.27931368350982666), (0, 0.23455612361431122), (0, 0.18849259614944458), (0, 0.18043340742588043), (0, 0.025169363245368004), (0, 0.016109971329569817), (0, 0.013015319593250751), (0, 0.01083966065198183), (0, 0.007172177545726299), (0, 0.0), (0, 0.0), (0, 0.0), (0, 0.0), (0, 0.0), (0, 0.0), (0, 0.0), (0, 0.0), (0, 0.0)]\n",
      "==================================\n",
      "action_level = 1\n",
      "exploration_index = 0\n",
      "exploration_index = 1\n",
      "exploration_index = 2\n",
      "exploration_index = 3\n",
      "exploration_index = 4\n",
      "exploration_index = 5\n",
      "exploration_index = 6\n",
      "exploration_index = 7\n",
      "exploration_index = 8\n",
      "exploration_index = 9\n",
      "exploration_index = 10\n",
      "exploration_index = 11\n",
      "exploration_index = 12\n",
      "exploration_index = 13\n",
      "exploration_index = 14\n",
      "exploration_index = 15\n",
      "exploration_index = 16\n",
      "exploration_index = 17\n",
      "exploration_index = 18\n",
      "exploration_index = 19\n",
      "exploration_index = 20\n",
      "exploration_index = 21\n",
      "exploration_index = 22\n",
      "exploration_index = 23\n",
      "=== Best explorations ===\n",
      "[(0, 0.8649250864982605), (2, 0.8570123910903931), (12, 0.7942132847383618), (6, 0.7884056568145752), (12, 0.7801883714273572), (7, 0.773238942027092), (11, 0.7671843450516462), (0, 0.738186240196228), (0, 0.738186240196228), (0, 0.738186240196228), (0, 0.738186240196228), (0, 0.738186240196228), (0, 0.738186240196228), (0, 0.738186240196228), (0, 0.738186240196228), (0, 0.738186240196228), (0, 0.738186240196228), (0, 0.738186240196228), (0, 0.738186240196228), (0, 0.738186240196228), (15, 0.738186240196228), (16, 0.738186240196228), (17, 0.738186240196228), (18, 0.738186240196228)]\n",
      "==================================\n",
      "action_level = 2\n",
      "exploration_index = 0\n",
      "exploration_index = 1\n",
      "exploration_index = 2\n",
      "exploration_index = 3\n",
      "exploration_index = 4\n",
      "exploration_index = 5\n",
      "exploration_index = 6\n",
      "exploration_index = 7\n",
      "exploration_index = 8\n",
      "exploration_index = 9\n",
      "exploration_index = 10\n",
      "exploration_index = 11\n",
      "exploration_index = 12\n",
      "exploration_index = 13\n",
      "exploration_index = 14\n",
      "exploration_index = 15\n",
      "exploration_index = 16\n",
      "exploration_index = 17\n",
      "exploration_index = 18\n",
      "exploration_index = 19\n",
      "exploration_index = 20\n",
      "exploration_index = 21\n",
      "exploration_index = 22\n",
      "exploration_index = 23\n",
      "=== Best explorations ===\n",
      "[(0, 0.8649250864982605), (0, 0.8649250864982605), (0, 0.8649250864982605), (0, 0.8649250864982605), (0, 0.8649250864982605), (0, 0.8649250864982605), (0, 0.8649250864982605), (0, 0.8649250864982605), (0, 0.8649250864982605), (0, 0.8649250864982605), (0, 0.8649250864982605), (0, 0.8649250864982605), (7, 0.8649250864982605), (8, 0.8649250864982605), (9, 0.8649250864982605), (10, 0.8649250864982605), (11, 0.8649250864982605), (12, 0.8649250864982605), (13, 0.8649250864982605), (14, 0.8649250864982605), (15, 0.8649250864982605), (16, 0.8649250864982605), (17, 0.8649250864982605), (18, 0.8649250864982605)]\n",
      "--- No more progress ---\n",
      "Best progress value = 0.865\n"
     ]
    }
   ],
   "source": [
    "explorations = action_ln.learn_one_setup(verbose = True)"
   ]
  },
  {
   "cell_type": "markdown",
   "metadata": {},
   "source": [
    "We can see that the best progress value doesn't exceed our threshold of 0.92. The resulted demonstration is sometimes very bad."
   ]
  },
  {
   "cell_type": "code",
   "execution_count": 32,
   "metadata": {
    "scrolled": false
   },
   "outputs": [
    {
     "data": {
      "image/png": "[encoded data removed]",
      "text/plain": [
       "<matplotlib.figure.Figure at 0x17d8b726160>"
      ]
     },
     "metadata": {},
     "output_type": "display_data"
    },
    {
     "data": {
      "image/png": "[encoded data removed]",
      "text/plain": [
       "<matplotlib.figure.Figure at 0x17d9693d6d8>"
      ]
     },
     "metadata": {},
     "output_type": "display_data"
    },
    {
     "data": {
      "image/png": "[encoded data removed]",
      "text/plain": [
       "<matplotlib.figure.Figure at 0x17d691f6da0>"
      ]
     },
     "metadata": {},
     "output_type": "display_data"
    }
   ],
   "source": [
    "explorations[0].replay(verbose = False)"
   ]
  },
  {
   "cell_type": "markdown",
   "metadata": {},
   "source": [
    "More demonstrations of this method could be found at **experiments\\human_evaluation_2d\\SlideAroundDiscrete**"
   ]
  },
  {
   "cell_type": "code",
   "execution_count": null,
   "metadata": {},
   "outputs": [],
   "source": []
  }
 ],
 "metadata": {
  "kernelspec": {
   "display_name": "Python 3",
   "language": "python",
   "name": "python3"
  },
  "language_info": {
   "codemirror_mode": {
    "name": "ipython",
    "version": 3
   },
   "file_extension": ".py",
   "mimetype": "text/x-python",
   "name": "python",
   "nbconvert_exporter": "python",
   "pygments_lexer": "ipython3",
   "version": "3.5.4"
  }
 },
 "nbformat": 4,
 "nbformat_minor": 2
}
