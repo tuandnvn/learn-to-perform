{
 "cells": [
  {
   "cell_type": "code",
   "execution_count": 119,
   "metadata": {},
   "outputs": [
    {
     "name": "stderr",
     "output_type": "stream",
     "text": [
      "Using TensorFlow backend.\n"
     ]
    }
   ],
   "source": [
    "from random import random\n",
    "from random import randint\n",
    "from random import choice\n",
    "from numpy import array\n",
    "from numpy import zeros\n",
    "import numpy as np\n",
    "from keras.preprocessing.sequence import pad_sequences"
   ]
  },
  {
   "cell_type": "code",
   "execution_count": 80,
   "metadata": {},
   "outputs": [],
   "source": [
    "def check_in_frame ( size, pos ):\n",
    "    \"\"\"\n",
    "    Allow space around the shape\n",
    "    \"\"\"\n",
    "    if 0 <= pos[0] < size and  0 <= pos[1] < size:\n",
    "        return True\n",
    "    return False\n",
    "\n",
    "def check_in_frame_with_space ( size, pos ):\n",
    "    \"\"\"\n",
    "    Allow space around the shape\n",
    "    \"\"\"\n",
    "    if 1 <= pos[0] < size - 1 and  1 <= pos[1] < size - 1:\n",
    "        return True\n",
    "    return False\n",
    "\n",
    "def generate_u_shape ( frame, bottom, left, right, direction, position ):\n",
    "    \"\"\"\n",
    "    Impose an U shape structure on the frame, position is where you start it (top-left corner of rectangle)\n",
    "    \n",
    "    This is an U-shape with bottom = 4, left = 4, right = 3, direction = 0\n",
    "    S\n",
    "    o x x o\n",
    "    o x x o\n",
    "    o o o o\n",
    "    \n",
    "    S o o o \n",
    "    o x x \n",
    "    o x x \n",
    "    o o o\n",
    "    \n",
    "    S o o o\n",
    "    o x x o\n",
    "    o x x o\n",
    "    o \n",
    "    \n",
    "    # Let consider this case in a later phase\n",
    "    This is an U-shape with bottom = 4, left = 4, right = 3, direction = 1\n",
    "    \n",
    "            o\n",
    "          o\n",
    "        o x\n",
    "      o x x x\n",
    "        o x x x o\n",
    "          o x o\n",
    "            o\n",
    "    We can start with even direction first ( 0 (North), 2 (East), 4 (South), 6(West) )\n",
    "    The positions marked with x are the positions that are considered inside the U-shape\n",
    "    \n",
    "    This function returns whether imposition successes, and frame would be imposed with the U-shape\n",
    "    \n",
    "    Parameters:\n",
    "    =====================\n",
    "    frame: squared frame\n",
    "    bottom: integer value\n",
    "    left: integer value\n",
    "    right: integer value\n",
    "    direction: \n",
    "    position: tuple of 2\n",
    "    \n",
    "    Returns:\n",
    "    =====================\n",
    "    - success: whether imposition successes or not\n",
    "    - inside_points: list of points inside the shape (x)\n",
    "    \n",
    "    \"\"\"\n",
    "    size = frame.shape[0]\n",
    "    \n",
    "    if direction == 0 or direction == 4:\n",
    "        other_corner = ( position[0] + max(left, right) - 1, position[1] + bottom - 1 )\n",
    "        \n",
    "    if direction == 2 or direction == 6:\n",
    "        other_corner = ( position[0] + bottom - 1, position[1] + max(left, right) - 1 )\n",
    "\n",
    "    if not check_in_frame_with_space ( size, position) or not check_in_frame_with_space ( size, other_corner ):\n",
    "        return False, ( [], [] )\n",
    "    \n",
    "    # Let's create one U-shape that has a direction == 0, than we rotate it\n",
    "    inner_shape = np.zeros((max(left, right), bottom))\n",
    "    # Left side\n",
    "    for i in range (max(left, right)):\n",
    "        inner_shape[i,0] = 1\n",
    "    \n",
    "    # Right side\n",
    "    for i in range (max(left, right) - min(left, right), max(left, right)):\n",
    "        inner_shape[i,bottom - 1] = 1\n",
    "    \n",
    "    # Bottom side\n",
    "    for i in range (bottom):\n",
    "        inner_shape[max(left, right) - 1,i] = 1\n",
    "        \n",
    "    for i in range(max(left, right) - min(left, right), max(left, right) - 1):\n",
    "        for j in range(1, bottom - 1):\n",
    "            inner_shape[i,j] = 2\n",
    "    \n",
    "    rotated_shape = np.rot90 ( inner_shape, -direction // 2 )\n",
    "    \n",
    "    \n",
    "    frame[ position[0] : position[0] + rotated_shape.shape[0], \n",
    "          position[1] : position[1] + rotated_shape.shape[1] ] = rotated_shape\n",
    "    \n",
    "    inside_points = np.where(frame == 2)\n",
    "    \n",
    "    frame[frame == 2] = 0\n",
    "    \n",
    "    return True, inside_points\n"
   ]
  },
  {
   "cell_type": "code",
   "execution_count": 66,
   "metadata": {},
   "outputs": [],
   "source": [
    "def check_in_range (value, bottom, left, right, direction, position ):\n",
    "    \"\"\"\n",
    "    bottom, left, right, direction, position is the parameters of U-shape\n",
    "    \n",
    "    value is a coordinates (x, y)\n",
    "    \"\"\"\n",
    "    if direction == 0 or direction == 4:\n",
    "        if position[0] <= value[0] <= position[0] + max(left, right) and position[1] <= value[1] <= position[1] + bottom:\n",
    "            return True\n",
    "    \n",
    "    if direction == 2 or direction == 6:\n",
    "        if position[0] <= value[0] <= position[0] + bottom and position[1] <= value[1] <= position[1] +  max(left, right):\n",
    "            return True\n",
    "    \n",
    "    return False"
   ]
  },
  {
   "cell_type": "code",
   "execution_count": 55,
   "metadata": {},
   "outputs": [
    {
     "data": {
      "text/plain": [
       "(array([0, 0, 0, 1, 1, 1], dtype=int64),\n",
       " array([0, 1, 2, 0, 1, 2], dtype=int64))"
      ]
     },
     "execution_count": 55,
     "metadata": {},
     "output_type": "execute_result"
    }
   ],
   "source": [
    "a = np.ones((2,3))\n",
    "np.where(a == 1)"
   ]
  },
  {
   "cell_type": "code",
   "execution_count": 58,
   "metadata": {},
   "outputs": [
    {
     "data": {
      "text/plain": [
       "(True, (array([6, 6, 7, 7], dtype=int64), array([5, 6, 5, 6], dtype=int64)))"
      ]
     },
     "execution_count": 58,
     "metadata": {},
     "output_type": "execute_result"
    }
   ],
   "source": [
    "f = zeros ((10, 10))\n",
    "generate_u_shape (f , 4, 4, 3, 4, (5,4) )"
   ]
  },
  {
   "cell_type": "code",
   "execution_count": 59,
   "metadata": {},
   "outputs": [
    {
     "data": {
      "text/plain": [
       "array([[0., 0., 0., 0., 0., 0., 0., 0., 0., 0.],\n",
       "       [0., 0., 0., 0., 0., 0., 0., 0., 0., 0.],\n",
       "       [0., 0., 0., 0., 0., 0., 0., 0., 0., 0.],\n",
       "       [0., 0., 0., 0., 0., 0., 0., 0., 0., 0.],\n",
       "       [0., 0., 0., 0., 0., 0., 0., 0., 0., 0.],\n",
       "       [0., 0., 0., 0., 1., 1., 1., 1., 0., 0.],\n",
       "       [0., 0., 0., 0., 1., 0., 0., 1., 0., 0.],\n",
       "       [0., 0., 0., 0., 1., 0., 0., 1., 0., 0.],\n",
       "       [0., 0., 0., 0., 0., 0., 0., 1., 0., 0.],\n",
       "       [0., 0., 0., 0., 0., 0., 0., 0., 0., 0.]])"
      ]
     },
     "execution_count": 59,
     "metadata": {},
     "output_type": "execute_result"
    }
   ],
   "source": [
    "f"
   ]
  },
  {
   "cell_type": "code",
   "execution_count": 128,
   "metadata": {},
   "outputs": [],
   "source": [
    "def generate_env ( size, bottom_range = list(range(3,5)), \n",
    "                  left_range = list(range(3,5)), right_range = list(range(3,5)), \n",
    "                  direction_range = list(range(0,8,2)) ):\n",
    "    frame = zeros((size,size))\n",
    "    \n",
    "    # You random a value in those range to add into the frame\n",
    "    # You also\n",
    "    bottom = choice(bottom_range)\n",
    "    left = choice(left_range)\n",
    "    right = choice(right_range)\n",
    "    direction = choice(direction_range)\n",
    "    while True:\n",
    "        position_x = randint ( 0, size - 1 )\n",
    "        position_y = randint ( 0, size - 1 )\n",
    "        position = (position_x, position_y)\n",
    "\n",
    "        success, inner_list = generate_u_shape  ( frame, bottom, left, right, direction, position )\n",
    "        \n",
    "        if success : \n",
    "            break\n",
    "    \n",
    "    # Random outer position for moving point\n",
    "    while True:\n",
    "        pos_start_x = randint ( 0, size - 1 )\n",
    "        pos_start_y = randint ( 0, size - 1 )\n",
    "        \n",
    "        pos_start = (pos_start_x, pos_start_y)\n",
    "        \n",
    "        # Just need to be out of the rectangle\n",
    "        if check_in_range ( pos_start, bottom, left, right, direction, position ):\n",
    "            continue\n",
    "            \n",
    "        break\n",
    "    \n",
    "    # Random inner position for moving point\n",
    "    index = randint ( 0, len(inner_list[0]) - 1 )\n",
    "    pos_end = (inner_list[0][index], inner_list[1][index])\n",
    "    \n",
    "    return frame, pos_start, pos_end"
   ]
  },
  {
   "cell_type": "code",
   "execution_count": 129,
   "metadata": {},
   "outputs": [],
   "source": [
    "frame, pos_start, pos_end = generate_env ( 10 )"
   ]
  },
  {
   "cell_type": "code",
   "execution_count": 130,
   "metadata": {},
   "outputs": [
    {
     "data": {
      "text/plain": [
       "array([[0., 0., 0., 0., 0., 0., 0., 0., 0., 0.],\n",
       "       [0., 0., 0., 0., 0., 0., 0., 0., 0., 0.],\n",
       "       [0., 0., 0., 0., 0., 0., 0., 0., 0., 0.],\n",
       "       [0., 0., 1., 1., 1., 1., 0., 0., 0., 0.],\n",
       "       [0., 0., 1., 0., 0., 0., 0., 0., 0., 0.],\n",
       "       [0., 0., 1., 0., 0., 0., 0., 0., 0., 0.],\n",
       "       [0., 0., 1., 1., 1., 0., 0., 0., 0., 0.],\n",
       "       [0., 0., 0., 0., 0., 0., 0., 0., 0., 0.],\n",
       "       [0., 0., 0., 0., 0., 0., 0., 0., 0., 0.],\n",
       "       [0., 0., 0., 0., 0., 0., 0., 0., 0., 0.]])"
      ]
     },
     "execution_count": 130,
     "metadata": {},
     "output_type": "execute_result"
    }
   ],
   "source": [
    "frame"
   ]
  },
  {
   "cell_type": "code",
   "execution_count": 131,
   "metadata": {},
   "outputs": [
    {
     "data": {
      "text/plain": [
       "(7, 9)"
      ]
     },
     "execution_count": 131,
     "metadata": {},
     "output_type": "execute_result"
    }
   ],
   "source": [
    "pos_start"
   ]
  },
  {
   "cell_type": "code",
   "execution_count": 135,
   "metadata": {},
   "outputs": [
    {
     "data": {
      "text/plain": [
       "(4, 4)"
      ]
     },
     "execution_count": 135,
     "metadata": {},
     "output_type": "execute_result"
    }
   ],
   "source": [
    "pos_end"
   ]
  },
  {
   "cell_type": "code",
   "execution_count": 138,
   "metadata": {},
   "outputs": [],
   "source": [
    "def get_neighbors ( size, pos ):\n",
    "    neighbors = []\n",
    "    for i in range(-1, 2):\n",
    "        for j in range(-1, 2):\n",
    "            if (i == 0 or j == 0) and not i == j == 0:\n",
    "                new_pos = (pos[0] + i, pos[1] + j)\n",
    "                if check_in_frame ( size, new_pos ):\n",
    "                    neighbors.append(new_pos)\n",
    "    return neighbors\n",
    "    \n",
    "\n",
    "def generate_path ( frame, pos_start, pos_end ):\n",
    "    size = frame.shape[0]\n",
    "    # Keep track of the previous cell that has been expanded to\n",
    "    parent = {}\n",
    "    \n",
    "    ### There is nothing too difficult here, we run overflow algorithm to cover the space\n",
    "    f = frame.copy()\n",
    "    f[pos_start] = 2\n",
    "    f[pos_end] = 3\n",
    "    \n",
    "    explore_list = [ pos_start ]\n",
    "    \n",
    "    def search ( l ):\n",
    "        while l:\n",
    "            # Get the shortest path to the pos_end\n",
    "            new_explore_list = []\n",
    "\n",
    "            for pos in l:\n",
    "                for n in get_neighbors( size, pos ):\n",
    "                    if f[n] == 3:\n",
    "                        # Found\n",
    "                        parent[n] = pos\n",
    "                        return\n",
    "                    if f[n] == 0:\n",
    "                        # Add into new list\n",
    "                        new_explore_list.append(n)\n",
    "                        parent[n] = pos\n",
    "                        # 4 is marked\n",
    "                        f[n] = 4\n",
    "            l = new_explore_list\n",
    "        \n",
    "    \n",
    "    search ( explore_list )\n",
    "    cur = pos_end\n",
    "    \n",
    "    path = []\n",
    "    while cur in parent:\n",
    "        path.append(cur)\n",
    "        cur = parent[cur]\n",
    "    \n",
    "    path.append(cur)\n",
    "    return path[::-1]"
   ]
  },
  {
   "cell_type": "code",
   "execution_count": 139,
   "metadata": {},
   "outputs": [
    {
     "data": {
      "text/plain": [
       "[(7, 9), (6, 9), (5, 9), (4, 9), (4, 8), (4, 7), (4, 6), (4, 5), (4, 4)]"
      ]
     },
     "execution_count": 139,
     "metadata": {},
     "output_type": "execute_result"
    }
   ],
   "source": [
    "generate_path ( frame, pos_start, pos_end )"
   ]
  },
  {
   "cell_type": "code",
   "execution_count": 159,
   "metadata": {},
   "outputs": [],
   "source": [
    "def build_frames(size, bottom_range = list(range(3,5)), \n",
    "                  left_range = list(range(3,5)), right_range = list(range(3,5)), \n",
    "                  direction_range = list(range(0,8,2)) ):\n",
    "    frames = list()\n",
    "    # create the first frame\n",
    "    frame, pos_start, pos_end = generate_env ( size, bottom_range, left_range, right_range, direction_range )\n",
    "    \n",
    "    # If it is enter (enter = 1): start with pos_start, end with pos_end\n",
    "    # If it is exit (exit = 1): start with pos_end, end with pos_start\n",
    "    r = random()\n",
    "    print (r)\n",
    "    enter = 1 if r < 0.5 else 0\n",
    "    \n",
    "    if enter == 0:\n",
    "        pos_start, pos_end = (pos_end, pos_start)\n",
    "        \n",
    "    path = generate_path ( frame, pos_start, pos_end )\n",
    "    \n",
    "    for step in path:\n",
    "        f = frame.copy()\n",
    "        f[step] = 1\n",
    "        frames.append(f)\n",
    "        \n",
    "    return frames, enter"
   ]
  },
  {
   "cell_type": "code",
   "execution_count": 160,
   "metadata": {},
   "outputs": [],
   "source": [
    "from matplotlib import pyplot"
   ]
  },
  {
   "cell_type": "code",
   "execution_count": 185,
   "metadata": {},
   "outputs": [
    {
     "name": "stdout",
     "output_type": "stream",
     "text": [
      "0.5763384825340722\n",
      "Exit\n",
      "11\n"
     ]
    },
    {
     "data": {
      "image/png": "[encoded data removed]",
      "text/plain": [
       "<matplotlib.figure.Figure at 0x1d66dad5e80>"
      ]
     },
     "metadata": {},
     "output_type": "display_data"
    }
   ],
   "source": [
    "size = 8\n",
    "frames, enter = build_frames(size)\n",
    "if enter == 1:\n",
    "    print ('Enter')\n",
    "else:\n",
    "    print ('Exit')\n",
    "    \n",
    "print (len(frames))\n",
    "# plot all frames\n",
    "pyplot.figure()\n",
    "for i in range(len(frames)):\n",
    "    # create a gray scale subplot for each frame\n",
    "    pyplot.subplot(1, len(frames), i + 1)\n",
    "    pyplot.imshow(frames[i], cmap='Greys')\n",
    "    # turn of the scale to make it clearer\n",
    "    ax = pyplot.gca()\n",
    "    ax.get_xaxis().set_visible(False)\n",
    "    ax.get_yaxis().set_visible(False)\n",
    "# show the plot\n",
    "pyplot.show()"
   ]
  },
  {
   "cell_type": "code",
   "execution_count": 219,
   "metadata": {},
   "outputs": [],
   "source": [
    "def build_frames_pad(size, length, start = False, bottom_range = list(range(3,5)), \n",
    "                  left_range = list(range(3,5)), right_range = list(range(3,5)), \n",
    "                  direction_range = list(range(0,8,2)) ):\n",
    "    \"\"\"\n",
    "    Limit the length of the session, or adding cloned frame if needed\n",
    "    \"\"\"\n",
    "    frames = list()\n",
    "    # create the first frame\n",
    "    frame, pos_start, pos_end = generate_env ( size )\n",
    "    \n",
    "    # If it is enter (enter = 1): start with pos_start, end with pos_end\n",
    "    # If it is exit (exit = 1): start with pos_end, end with pos_start\n",
    "    r = random()\n",
    "    enter = 1 if r < 0.5 else 0\n",
    "    \n",
    "    if enter == 0:\n",
    "        pos_start, pos_end = (pos_end, pos_start)\n",
    "        \n",
    "    path = generate_path ( frame, pos_start, pos_end )\n",
    "    \n",
    "    for step in path:\n",
    "        f = frame.copy()\n",
    "        f[step] = 1\n",
    "        frames.append(f)\n",
    "        \n",
    "    if len(frames) > length:\n",
    "        \"\"\"\n",
    "        Randomly drop some frames, just not the first and last ones\n",
    "        \"\"\"\n",
    "        while len(frames) > length:\n",
    "            drop_index = randint(1, len(frames) - 2)\n",
    "            frames.pop(drop_index)\n",
    "    \n",
    "    if len(frames) < length:\n",
    "        if start:\n",
    "            frames = [frames[0]] * (length - len(frames)) + frames\n",
    "        else:\n",
    "            frames = frames + [frames[-1]] * (length - len(frames))\n",
    "        \n",
    "        \n",
    "    return frames, enter"
   ]
  },
  {
   "cell_type": "code",
   "execution_count": 220,
   "metadata": {},
   "outputs": [],
   "source": [
    "frames, enter = build_frames_pad(size, 10)"
   ]
  },
  {
   "cell_type": "code",
   "execution_count": 221,
   "metadata": {},
   "outputs": [
    {
     "name": "stdout",
     "output_type": "stream",
     "text": [
      "10\n"
     ]
    }
   ],
   "source": [
    "print (len(frames))"
   ]
  },
  {
   "cell_type": "code",
   "execution_count": 241,
   "metadata": {},
   "outputs": [],
   "source": [
    "def plot( sample ):\n",
    "    pyplot.figure()\n",
    "    for i in range(len(sample)):\n",
    "        # create a gray scale subplot for each frame\n",
    "        pyplot.subplot(1, len(sample), i + 1)\n",
    "        pyplot.imshow(sample[i,:,:,0], cmap='Greys')\n",
    "        # turn of the scale to make it clearer\n",
    "        ax = pyplot.gca()\n",
    "        ax.get_xaxis().set_visible(False)\n",
    "        ax.get_yaxis().set_visible(False)\n",
    "    # show the plot\n",
    "    pyplot.show()"
   ]
  },
  {
   "cell_type": "code",
   "execution_count": 234,
   "metadata": {},
   "outputs": [],
   "source": [
    "# generate multiple sequences of frames and reshape for network input\n",
    "def generate_examples(size, length, n_patterns):\n",
    "    X, y = list(), list()\n",
    "    for _ in range(n_patterns):\n",
    "        frames, enter = build_frames_pad(size, length)\n",
    "        X.append(frames)\n",
    "        y.append(enter)\n",
    "    \n",
    "    # resize as [samples, timesteps, width, height, channels]\n",
    "    X = array(X).reshape(n_patterns, length, size, size, 1)\n",
    "    y = array(y).reshape(n_patterns, 1)\n",
    "    return X, y"
   ]
  },
  {
   "cell_type": "code",
   "execution_count": 249,
   "metadata": {},
   "outputs": [],
   "source": [
    "X, y = generate_examples(size, 12, 20000)"
   ]
  },
  {
   "cell_type": "code",
   "execution_count": 235,
   "metadata": {},
   "outputs": [
    {
     "data": {
      "text/plain": [
       "(12, 8, 8, 1)"
      ]
     },
     "execution_count": 235,
     "metadata": {},
     "output_type": "execute_result"
    }
   ],
   "source": [
    "X[2].shape"
   ]
  },
  {
   "cell_type": "code",
   "execution_count": 256,
   "metadata": {},
   "outputs": [
    {
     "ename": "IndexError",
     "evalue": "index 3 is out of bounds for axis 0 with size 1",
     "output_type": "error",
     "traceback": [
      "\u001b[1;31m---------------------------------------------------------------------------\u001b[0m",
      "\u001b[1;31mIndexError\u001b[0m                                Traceback (most recent call last)",
      "\u001b[1;32m<ipython-input-256-dd6a96eed759>\u001b[0m in \u001b[0;36m<module>\u001b[1;34m()\u001b[0m\n\u001b[1;32m----> 1\u001b[1;33m \u001b[0mplot\u001b[0m\u001b[1;33m(\u001b[0m\u001b[0mX\u001b[0m\u001b[1;33m[\u001b[0m\u001b[1;36m3\u001b[0m\u001b[1;33m]\u001b[0m\u001b[1;33m)\u001b[0m\u001b[1;33m\u001b[0m\u001b[0m\n\u001b[0m",
      "\u001b[1;31mIndexError\u001b[0m: index 3 is out of bounds for axis 0 with size 1"
     ]
    }
   ],
   "source": [
    "plot(X[3])"
   ]
  },
  {
   "cell_type": "code",
   "execution_count": 246,
   "metadata": {},
   "outputs": [],
   "source": [
    "from keras.models import Sequential\n",
    "from keras.layers import Conv2D\n",
    "from keras.layers import MaxPooling2D\n",
    "from keras.layers import LSTM\n",
    "from keras.layers import Dense\n",
    "from keras.layers import Flatten\n",
    "from keras.layers import TimeDistributed"
   ]
  },
  {
   "cell_type": "code",
   "execution_count": 250,
   "metadata": {},
   "outputs": [
    {
     "name": "stdout",
     "output_type": "stream",
     "text": [
      "_________________________________________________________________\n",
      "Layer (type)                 Output Shape              Param #   \n",
      "=================================================================\n",
      "time_distributed_11 (TimeDis (None, None, 7, 7, 4)     20        \n",
      "_________________________________________________________________\n",
      "time_distributed_12 (TimeDis (None, None, 3, 3, 4)     0         \n",
      "_________________________________________________________________\n",
      "time_distributed_13 (TimeDis (None, None, 2, 2, 4)     68        \n",
      "_________________________________________________________________\n",
      "time_distributed_14 (TimeDis (None, None, 1, 1, 4)     0         \n",
      "_________________________________________________________________\n",
      "time_distributed_15 (TimeDis (None, None, 4)           0         \n",
      "_________________________________________________________________\n",
      "lstm_3 (LSTM)                (None, 50)                11000     \n",
      "_________________________________________________________________\n",
      "dense_3 (Dense)              (None, 1)                 51        \n",
      "=================================================================\n",
      "Total params: 11,139\n",
      "Trainable params: 11,139\n",
      "Non-trainable params: 0\n",
      "_________________________________________________________________\n",
      "None\n",
      "Epoch 1/1\n",
      "20000/20000 [==============================] - 26s 1ms/step - loss: 0.3679 - acc: 0.8007\n"
     ]
    },
    {
     "data": {
      "text/plain": [
       "<keras.callbacks.History at 0x1d6b1969588>"
      ]
     },
     "execution_count": 250,
     "metadata": {},
     "output_type": "execute_result"
    }
   ],
   "source": [
    "# configure problem\n",
    "# define the model\n",
    "model = Sequential()\n",
    "model.add(TimeDistributed(Conv2D(4, (2,2), activation='relu'),\n",
    "input_shape=(None,size,size,1)))\n",
    "model.add(TimeDistributed(MaxPooling2D(pool_size=(2, 2))))\n",
    "model.add(TimeDistributed(Conv2D(4, (2,2), activation='relu'),\n",
    "input_shape=(None,size,size,1)))\n",
    "model.add(TimeDistributed(MaxPooling2D(pool_size=(2, 2))))\n",
    "model.add(TimeDistributed(Flatten()))\n",
    "\n",
    "model.add(LSTM(50))\n",
    "model.add(Dense(1, activation='sigmoid'))\n",
    "model.compile(loss='binary_crossentropy', optimizer='adam', metrics=['acc'])\n",
    "print(model.summary())\n",
    "model.fit(X, y, batch_size=32, epochs=1)"
   ]
  },
  {
   "cell_type": "code",
   "execution_count": 254,
   "metadata": {},
   "outputs": [
    {
     "name": "stdout",
     "output_type": "stream",
     "text": [
      "loss: 0.095250, acc: 96.000000\n",
      "Expected: Enter, Predicted: Exit\n"
     ]
    }
   ],
   "source": [
    "# evaluate model\n",
    "X, y = generate_examples(size, 12, 100)\n",
    "loss, acc = model.evaluate(X, y, verbose=0)\n",
    "print('loss: %f, acc: %f' % (loss, acc*100))\n",
    "# prediction on new data\n",
    "X, y = generate_examples(size, 12, 1)\n",
    "yhat = model.predict_classes(X, verbose=0)\n",
    "expected = \"Enter\" if y[0]==1 else \"Exit\"\n",
    "predicted = \"Enter\" if yhat[0]==1 else \"Exit\"\n",
    "print('Expected: %s, Predicted: %s' % (expected, predicted))"
   ]
  },
  {
   "cell_type": "code",
   "execution_count": null,
   "metadata": {},
   "outputs": [],
   "source": []
  }
 ],
 "metadata": {
  "kernelspec": {
   "display_name": "Python 3",
   "language": "python",
   "name": "python3"
  },
  "language_info": {
   "codemirror_mode": {
    "name": "ipython",
    "version": 3
   },
   "file_extension": ".py",
   "mimetype": "text/x-python",
   "name": "python",
   "nbconvert_exporter": "python",
   "pygments_lexer": "ipython3",
   "version": "3.5.4"
  }
 },
 "nbformat": 4,
 "nbformat_minor": 2
}
