{
 "cells": [
  {
   "cell_type": "markdown",
   "metadata": {},
   "source": [
    "In this project, we will generate a few kinds of object structures:\n",
    "\n",
    "- Triangle: Right triangle that has shorter edges parallel to axis\n",
    "\n",
    "   ``\n",
    "O\n",
    "OOO\n",
    "OOOOO\n",
    "   ``\n",
    "- Rectangle: Small rectangle\n",
    "\n",
    "- L shape\n",
    "\n",
    "   ``\n",
    "O\n",
    "O\n",
    "OOOOO\n",
    "   ``"
   ]
  },
  {
   "cell_type": "code",
   "execution_count": 9,
   "metadata": {},
   "outputs": [],
   "source": [
    "from random import random\n",
    "from random import randint\n",
    "from random import choice\n",
    "from numpy import array\n",
    "from numpy import zeros\n",
    "import numpy as np"
   ]
  },
  {
   "cell_type": "code",
   "execution_count": 61,
   "metadata": {
    "collapsed": true
   },
   "outputs": [],
   "source": [
    "%matplotlib inline\n",
    "import matplotlib as mpl\n",
    "from matplotlib import pyplot"
   ]
  },
  {
   "cell_type": "code",
   "execution_count": 1,
   "metadata": {
    "collapsed": true
   },
   "outputs": [],
   "source": [
    "def check_in_frame ( size, pos ):\n",
    "    \"\"\"\n",
    "    Allow space around the shape\n",
    "    \"\"\"\n",
    "    if 0 <= pos[0] < size and  0 <= pos[1] < size:\n",
    "        return True\n",
    "    return False\n",
    "\n",
    "def check_in_frame_with_space ( size, pos ):\n",
    "    \"\"\"\n",
    "    Allow space around the shape\n",
    "    \"\"\"\n",
    "    if 1 <= pos[0] < size - 1 and  1 <= pos[1] < size - 1:\n",
    "        return True\n",
    "    return False"
   ]
  },
  {
   "cell_type": "code",
   "execution_count": 14,
   "metadata": {
    "collapsed": true
   },
   "outputs": [],
   "source": [
    "def generate_rectangle(frame , width, height, position, color):\n",
    "    \"\"\"\n",
    "    Parameters:\n",
    "    =====================\n",
    "    frame: squared frame\n",
    "    width: width of rectangle\n",
    "    height: height of rectangle\n",
    "    position: tuple of 2\n",
    "    color: (color the cells with this value)\n",
    "    \n",
    "    Returns:\n",
    "    =====================\n",
    "    - success: whether imposition successes or not\n",
    "    \"\"\"\n",
    "    size = frame.shape[0]\n",
    "    other_corner = ( position[0] + height - 1, position[1] + width - 1 )\n",
    "    \n",
    "    if not check_in_frame_with_space ( size, position ) or not check_in_frame_with_space ( size, other_corner ):\n",
    "        return False\n",
    "    \n",
    "    frame[ position[0] : position[0] + height, \n",
    "          position[1] : position[1] + width] = np.ones((height, width)) * color\n",
    "    \n",
    "    return True"
   ]
  },
  {
   "cell_type": "markdown",
   "metadata": {},
   "source": [
    "#### Test"
   ]
  },
  {
   "cell_type": "code",
   "execution_count": 42,
   "metadata": {},
   "outputs": [
    {
     "name": "stdout",
     "output_type": "stream",
     "text": [
      "[[ 0.  0.  0.  0.  0.  0.  0.  0.  0.  0.]\n",
      " [ 0.  0.  0.  0.  0.  0.  0.  0.  0.  0.]\n",
      " [ 0.  0.  2.  2.  2.  2.  0.  0.  0.  0.]\n",
      " [ 0.  0.  2.  2.  2.  2.  0.  0.  0.  0.]\n",
      " [ 0.  0.  0.  0.  0.  0.  0.  0.  0.  0.]\n",
      " [ 0.  0.  0.  0.  0.  0.  0.  0.  0.  0.]\n",
      " [ 0.  0.  0.  0.  0.  0.  0.  0.  0.  0.]\n",
      " [ 0.  0.  0.  0.  0.  0.  0.  0.  0.  0.]\n",
      " [ 0.  0.  0.  0.  0.  0.  0.  0.  0.  0.]\n",
      " [ 0.  0.  0.  0.  0.  0.  0.  0.  0.  0.]]\n"
     ]
    }
   ],
   "source": [
    "f = zeros ((10, 10))\n",
    "\n",
    "generate_rectangle(f, 4, 2, (2,2), 2)\n",
    "\n",
    "print (f)"
   ]
  },
  {
   "cell_type": "code",
   "execution_count": 15,
   "metadata": {
    "collapsed": true
   },
   "outputs": [],
   "source": [
    "def generate_triangle(frame, side, direction, position, color):\n",
    "    \"\"\"\n",
    "    Impose an triangle shape structure on the frame, position is where you start it (top-left corner of rectangle)\n",
    "    \n",
    "    This is a triangle with side = 4, direction = 0\n",
    "    \n",
    "    S\n",
    "    o o \n",
    "    o o o\n",
    "    o o o o\n",
    "    \n",
    "    direction = 1\n",
    "    \n",
    "    S o o o\n",
    "    o o o \n",
    "    o o\n",
    "    o \n",
    "    \n",
    "    direction = 2\n",
    "    \n",
    "    S o o o\n",
    "      o o o \n",
    "        o o\n",
    "          o \n",
    "    \n",
    "    direction = 3\n",
    "    \n",
    "    S     o\n",
    "        o o \n",
    "      o o o\n",
    "    o o o o\n",
    "    \n",
    "    Parameters:\n",
    "    =====================\n",
    "    frame: squared frame\n",
    "    side: length of the shorter side of triangle\n",
    "    direction: \n",
    "    position: tuple of 2\n",
    "    color: (color the cells with this value)\n",
    "    \n",
    "    Returns:\n",
    "    =====================\n",
    "    - success: whether imposition successes or not\n",
    "    \n",
    "    \"\"\"\n",
    "    size = frame.shape[0]\n",
    "    other_corner = ( position[0] + side - 1, position[1] + side - 1 )\n",
    "    \n",
    "    if not check_in_frame_with_space ( size, position) or not check_in_frame_with_space ( size, other_corner ):\n",
    "        return False\n",
    "    \n",
    "    inner_shape = np.tril(np.ones((side, side)) * color)\n",
    "    \n",
    "    # Generate for direction == 0, and rotate it to the correct direction\n",
    "    rotated_shape = np.rot90 ( inner_shape, -direction )\n",
    "    \n",
    "    \n",
    "    frame[ position[0] : position[0] + rotated_shape.shape[0], \n",
    "          position[1] : position[1] + rotated_shape.shape[1] ] = rotated_shape\n",
    "    \n",
    "    return True"
   ]
  },
  {
   "cell_type": "markdown",
   "metadata": {},
   "source": [
    "#### Test"
   ]
  },
  {
   "cell_type": "code",
   "execution_count": 43,
   "metadata": {},
   "outputs": [
    {
     "name": "stdout",
     "output_type": "stream",
     "text": [
      "[[ 0.  0.  0.  0.  0.  0.  0.  0.  0.  0.]\n",
      " [ 0.  0.  0.  0.  0.  0.  0.  0.  0.  0.]\n",
      " [ 0.  0.  0.  0.  0.  1.  0.  0.  0.  0.]\n",
      " [ 0.  0.  0.  0.  1.  1.  0.  0.  0.  0.]\n",
      " [ 0.  0.  0.  1.  1.  1.  0.  0.  0.  0.]\n",
      " [ 0.  0.  1.  1.  1.  1.  0.  0.  0.  0.]\n",
      " [ 0.  0.  0.  0.  0.  0.  0.  0.  0.  0.]\n",
      " [ 0.  0.  0.  0.  0.  0.  0.  0.  0.  0.]\n",
      " [ 0.  0.  0.  0.  0.  0.  0.  0.  0.  0.]\n",
      " [ 0.  0.  0.  0.  0.  0.  0.  0.  0.  0.]]\n"
     ]
    }
   ],
   "source": [
    "f = zeros ((10, 10))\n",
    "\n",
    "generate_triangle(f, 4, 3, (2,2), 1)\n",
    "\n",
    "print (f)"
   ]
  },
  {
   "cell_type": "code",
   "execution_count": 44,
   "metadata": {
    "collapsed": true
   },
   "outputs": [],
   "source": [
    "def generate_l_shape(frame, width, height, direction, position, color):\n",
    "    \"\"\"\n",
    "    Impose an triangle shape structure on the frame, position is where you start it (top-left corner of rectangle)\n",
    "    \n",
    "    This is a triangle with width = 4, height = 3, direction = 0\n",
    "    \n",
    "    S\n",
    "    o \n",
    "    o o o o\n",
    "    \n",
    "    direction = 1\n",
    "    \n",
    "    S o o o\n",
    "    o \n",
    "    o\n",
    "    \n",
    "    direction = 2\n",
    "    \n",
    "    S o o o\n",
    "          o \n",
    "          o\n",
    "    \n",
    "    direction = 3\n",
    "    \n",
    "    S     o\n",
    "          o \n",
    "    o o o o\n",
    "    \n",
    "    Parameters:\n",
    "    =====================\n",
    "    frame: squared frame\n",
    "    width: width of rectangle\n",
    "    height: height of rectangle\n",
    "    direction: \n",
    "    position: tuple of 2\n",
    "    color: (color the cells with this value)\n",
    "    \n",
    "    Returns:\n",
    "    =====================\n",
    "    - success: whether imposition successes or not\n",
    "    \n",
    "    \"\"\"\n",
    "    size = frame.shape[0]\n",
    "    other_corner = ( position[0] + height - 1, position[1] + width - 1 )\n",
    "    \n",
    "    if not check_in_frame_with_space ( size, position) or not check_in_frame_with_space ( size, other_corner ):\n",
    "        return False\n",
    "    \n",
    "    if direction == 0 or direction == 3:\n",
    "        frame[ position[0] + height - 1,  position[1] : position[1] + width ] = color\n",
    "    \n",
    "    if direction == 1 or direction == 2:\n",
    "        frame[ position[0]             ,  position[1] : position[1] + width ] = color\n",
    "        \n",
    "    if direction == 0 or direction == 1:\n",
    "        frame[ position[0]: position[0] + height,  position[1] ] = color\n",
    "        \n",
    "    if direction == 2 or direction == 3:\n",
    "        frame[ position[0]: position[0] + height,  position[1] + width - 1 ] = color\n",
    "    \n",
    "    return True"
   ]
  },
  {
   "cell_type": "markdown",
   "metadata": {},
   "source": [
    "#### Test"
   ]
  },
  {
   "cell_type": "code",
   "execution_count": 92,
   "metadata": {},
   "outputs": [
    {
     "name": "stdout",
     "output_type": "stream",
     "text": [
      "[[ 0.   0.   0.   0.   0.   0.   0.   0.   0.   0. ]\n",
      " [ 0.   0.   0.   0.   0.   0.   0.   0.   0.   0. ]\n",
      " [ 0.   0.   0.1  0.   0.   0.   0.   0.   0.   0. ]\n",
      " [ 0.   0.   0.1  0.   0.   0.   0.   0.   0.   0. ]\n",
      " [ 0.   0.   0.1  0.1  0.1  0.1  0.   0.   0.   0. ]\n",
      " [ 0.   0.   0.   0.   0.   0.   0.   0.   0.   0. ]\n",
      " [ 0.   0.   0.   0.   0.   0.   0.   0.   0.   0. ]\n",
      " [ 0.   0.   0.   0.   0.   0.   0.   0.   0.   0. ]\n",
      " [ 0.   0.   0.   0.   0.   0.   0.   0.   0.   0. ]\n",
      " [ 0.   0.   0.   0.   0.   0.   0.   0.   0.   0. ]]\n"
     ]
    }
   ],
   "source": [
    "f = zeros ((10, 10))\n",
    "\n",
    "generate_l_shape(f, 4, 3, 0, (2,2), 0.1)\n",
    "\n",
    "print (f)"
   ]
  },
  {
   "cell_type": "code",
   "execution_count": 96,
   "metadata": {},
   "outputs": [
    {
     "name": "stdout",
     "output_type": "stream",
     "text": [
      "[[ 0.   0.   0.   0.   0.   0.   0.   0.   0.   0. ]\n",
      " [ 0.   0.   0.   0.   0.   0.   0.   0.   0.   0. ]\n",
      " [ 0.   0.   0.1  0.   0.   0.   0.   0.   0.   0. ]\n",
      " [ 0.   0.   0.1  0.   0.   0.   0.   0.   0.   0. ]\n",
      " [ 0.   0.   0.1  0.1  0.5  0.1  0.   0.   0.   0. ]\n",
      " [ 0.   0.   0.   0.   0.5  0.   0.   0.   0.   0. ]\n",
      " [ 0.   0.   0.   0.   0.5  0.5  0.5  0.5  0.   0. ]\n",
      " [ 0.   0.   0.   0.   0.   0.   0.   0.   0.   0. ]\n",
      " [ 0.   0.   0.   0.   0.   0.   0.   0.   0.   0. ]\n",
      " [ 0.   0.   0.   0.   0.   0.   0.   0.   0.   0. ]]\n"
     ]
    }
   ],
   "source": [
    "generate_l_shape(f, 4, 3, 0, (4,4), 0.5)\n",
    "\n",
    "print (f)"
   ]
  },
  {
   "cell_type": "markdown",
   "metadata": {},
   "source": [
    "### Create a color codes"
   ]
  },
  {
   "cell_type": "code",
   "execution_count": 97,
   "metadata": {
    "collapsed": true
   },
   "outputs": [],
   "source": [
    "codes = ['white', 'green', 'blue', 'yellow', 'purple', 'red']\n",
    "cm = mpl.colors.ListedColormap(codes)"
   ]
  },
  {
   "cell_type": "code",
   "execution_count": 98,
   "metadata": {
    "collapsed": true
   },
   "outputs": [],
   "source": [
    "# Plot function with colors\n",
    "def plot( frame , l = None):\n",
    "    # create a gray scale subplot for each frame\n",
    "    pyplot.imshow(frame, cmap=cm )\n",
    "    # turn of the scale to make it clearer\n",
    "    ax = pyplot.gca()\n",
    "    ax.get_xaxis().set_visible(False)\n",
    "    ax.get_yaxis().set_visible(False)\n",
    "    \n",
    "    # show the plot\n",
    "    pyplot.show()"
   ]
  },
  {
   "cell_type": "code",
   "execution_count": 99,
   "metadata": {},
   "outputs": [
    {
     "data": {
      "image/png": "[encoded data removed]",
      "text/plain": [
       "<matplotlib.figure.Figure at 0x257f1b34828>"
      ]
     },
     "metadata": {},
     "output_type": "display_data"
    }
   ],
   "source": [
    "plot(f)"
   ]
  },
  {
   "cell_type": "markdown",
   "metadata": {},
   "source": [
    "Notice that pixel values in the image would be mapped to range (0, 1) before mapping to the real color values"
   ]
  },
  {
   "cell_type": "code",
   "execution_count": null,
   "metadata": {
    "collapsed": true
   },
   "outputs": [],
   "source": [
    "def generate ( frame,  ):\n",
    "    pass"
   ]
  }
 ],
 "metadata": {
  "kernelspec": {
   "display_name": "Python 3",
   "language": "python",
   "name": "python3"
  },
  "language_info": {
   "codemirror_mode": {
    "name": "ipython",
    "version": 3
   },
   "file_extension": ".py",
   "mimetype": "text/x-python",
   "name": "python",
   "nbconvert_exporter": "python",
   "pygments_lexer": "ipython3",
   "version": "3.6.2"
  }
 },
 "nbformat": 4,
 "nbformat_minor": 2
}
