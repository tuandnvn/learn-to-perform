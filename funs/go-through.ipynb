{
 "cells": [
  {
   "cell_type": "code",
   "execution_count": 13,
   "metadata": {},
   "outputs": [],
   "source": [
    "from random import random\n",
    "from random import randint\n",
    "from numpy import array\n",
    "from numpy import zeros\n",
    "import numpy as np"
   ]
  },
  {
   "cell_type": "code",
   "execution_count": 56,
   "metadata": {},
   "outputs": [],
   "source": [
    "def check_in_frame ( size, pos ):\n",
    "    if 0 <= pos[0] < size and  0 <= pos[1] < size:\n",
    "        return True\n",
    "    return False\n",
    "\n",
    "def generate_u_shape ( frame, bottom, left, right, direction, position ):\n",
    "    \"\"\"\n",
    "    Impose an U shape structure on the frame, position is where you start it (top-left corner of rectangle)\n",
    "    \n",
    "    This is an U-shape with bottom = 4, left = 4, right = 3, direction = 0\n",
    "    S\n",
    "    o x x o\n",
    "    o x x o\n",
    "    o o o o\n",
    "    \n",
    "    S o o o \n",
    "    o x x \n",
    "    o x x \n",
    "    o o o\n",
    "    \n",
    "    S o o o\n",
    "    o x x o\n",
    "    o x x o\n",
    "    o \n",
    "    \n",
    "    # Let consider this case in a later phase\n",
    "    This is an U-shape with bottom = 4, left = 4, right = 3, direction = 1\n",
    "    \n",
    "            o\n",
    "          o\n",
    "        o x\n",
    "      o x x x\n",
    "        o x x x o\n",
    "          o x o\n",
    "            o\n",
    "    We can start with even direction first ( 0 (North), 2 (East), 4 (South), 6(West) )\n",
    "    The positions marked with x are the positions that are considered inside the U-shape\n",
    "    \n",
    "    This function returns whether imposition successes, and frame would be imposed with the U-shape\n",
    "    \n",
    "    Parameters:\n",
    "    =====================\n",
    "    frame: squared frame\n",
    "    bottom: integer value\n",
    "    left: integer value\n",
    "    right: integer value\n",
    "    direction: \n",
    "    position: tuple of 2\n",
    "    \n",
    "    Returns:\n",
    "    =====================\n",
    "    - success: whether imposition successes or not\n",
    "    - inside_points: list of points inside the shape (x)\n",
    "    \n",
    "    \"\"\"\n",
    "    size = frame.shape[0]\n",
    "    \n",
    "    other_corner = ( position[0] + max(left, right) - 1, position[1] + bottom - 1 )\n",
    "\n",
    "    if not check_in_frame ( size, position) or not check_in_frame ( size, other_corner ):\n",
    "        return False, ( [], [] )\n",
    "    \n",
    "    # Let's create one U-shape that has a direction == 0, than we rotate it\n",
    "    inner_shape = np.zeros((max(left, right), bottom))\n",
    "    # Left side\n",
    "    for i in range (max(left, right)):\n",
    "        inner_shape[i,0] = 1\n",
    "    \n",
    "    # Right side\n",
    "    for i in range (max(left, right) - min(left, right), max(left, right)):\n",
    "        inner_shape[i,bottom - 1] = 1\n",
    "    \n",
    "    # Bottom side\n",
    "    for i in range (bottom):\n",
    "        inner_shape[max(left, right) - 1,i] = 1\n",
    "        \n",
    "    for i in range(max(left, right) - min(left, right), max(left, right) - 1):\n",
    "        for j in range(1, bottom - 1):\n",
    "            inner_shape[i,j] = 2\n",
    "    \n",
    "    print (inner_shape)\n",
    "    rotated_shape = np.rot90 ( inner_shape, -direction // 2 )\n",
    "    \n",
    "    print (rotated_shape)\n",
    "    \n",
    "    frame[ position[0] : position[0] + rotated_shape.shape[0], \n",
    "          position[1] : position[1] + rotated_shape.shape[1] ] = rotated_shape\n",
    "    \n",
    "    inside_points = np.where(frame == 2)\n",
    "    \n",
    "    return True, inside_points\n"
   ]
  },
  {
   "cell_type": "code",
   "execution_count": 57,
   "metadata": {},
   "outputs": [
    {
     "data": {
      "text/plain": [
       "(array([0, 0, 0, 1, 1, 1], dtype=int64),\n",
       " array([0, 1, 2, 0, 1, 2], dtype=int64))"
      ]
     },
     "execution_count": 57,
     "metadata": {},
     "output_type": "execute_result"
    }
   ],
   "source": [
    "a = np.ones((2,3))\n",
    "np.where(a == 1)"
   ]
  },
  {
   "cell_type": "code",
   "execution_count": 64,
   "metadata": {},
   "outputs": [
    {
     "name": "stdout",
     "output_type": "stream",
     "text": [
      "[[1. 0. 0. 0.]\n",
      " [1. 2. 2. 1.]\n",
      " [1. 2. 2. 1.]\n",
      " [1. 1. 1. 1.]]\n",
      "[[1. 1. 1. 1.]\n",
      " [1. 2. 2. 1.]\n",
      " [1. 2. 2. 1.]\n",
      " [0. 0. 0. 1.]]\n"
     ]
    },
    {
     "data": {
      "text/plain": [
       "(True, (array([7, 7, 8, 8], dtype=int64), array([6, 7, 6, 7], dtype=int64)))"
      ]
     },
     "execution_count": 64,
     "metadata": {},
     "output_type": "execute_result"
    }
   ],
   "source": [
    "f = zeros ((10, 10))\n",
    "generate_u_shape (f , 4, 4, 3, 4, (6,5) )"
   ]
  },
  {
   "cell_type": "code",
   "execution_count": 65,
   "metadata": {},
   "outputs": [
    {
     "data": {
      "text/plain": [
       "array([[0., 0., 0., 0., 0., 0., 0., 0., 0., 0.],\n",
       "       [0., 0., 0., 0., 0., 0., 0., 0., 0., 0.],\n",
       "       [0., 0., 0., 0., 0., 0., 0., 0., 0., 0.],\n",
       "       [0., 0., 0., 0., 0., 0., 0., 0., 0., 0.],\n",
       "       [0., 0., 0., 0., 0., 0., 0., 0., 0., 0.],\n",
       "       [0., 0., 0., 0., 0., 0., 0., 0., 0., 0.],\n",
       "       [0., 0., 0., 0., 0., 1., 1., 1., 1., 0.],\n",
       "       [0., 0., 0., 0., 0., 1., 2., 2., 1., 0.],\n",
       "       [0., 0., 0., 0., 0., 1., 2., 2., 1., 0.],\n",
       "       [0., 0., 0., 0., 0., 0., 0., 0., 1., 0.]])"
      ]
     },
     "execution_count": 65,
     "metadata": {},
     "output_type": "execute_result"
    }
   ],
   "source": [
    "f"
   ]
  },
  {
   "cell_type": "code",
   "execution_count": null,
   "metadata": {},
   "outputs": [],
   "source": [
    "def generate_env ( size, bottom_range = [range(3,4)], left_range = [range(3,4)], right_range = [range(3,4)] ):\n",
    "    frame = zeros((size,size))\n",
    "    \n",
    "    \n",
    "    \n",
    "    "
   ]
  }
 ],
 "metadata": {
  "kernelspec": {
   "display_name": "Python 3",
   "language": "python",
   "name": "python3"
  },
  "language_info": {
   "codemirror_mode": {
    "name": "ipython",
    "version": 3
   },
   "file_extension": ".py",
   "mimetype": "text/x-python",
   "name": "python",
   "nbconvert_exporter": "python",
   "pygments_lexer": "ipython3",
   "version": "3.5.4"
  }
 },
 "nbformat": 4,
 "nbformat_minor": 2
}
