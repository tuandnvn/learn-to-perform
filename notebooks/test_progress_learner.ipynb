{
 "cells": [
  {
   "cell_type": "code",
   "execution_count": 163,
   "metadata": {},
   "outputs": [],
   "source": [
    "import tensorflow as tf\n",
    "import numpy as np\n",
    "import sys\n",
    "import os\n",
    "\n",
    "module_path = os.path.abspath(os.path.join('..'))\n",
    "if module_path not in sys.path:\n",
    "    sys.path.append(module_path)\n",
    "a = os.path.join(module_path, \"strands_qsr_lib\\qsr_lib\\src3\")\n",
    "\n",
    "sys.path.append(a)\n",
    "\n",
    "import progress_learner\n",
    "import project\n",
    "from importlib import reload\n",
    "import config\n",
    "\n",
    "np.random.seed(1234)"
   ]
  },
  {
   "cell_type": "code",
   "execution_count": 164,
   "metadata": {},
   "outputs": [],
   "source": [
    "project_name = \"SlideAround\"\n",
    "\n",
    "p_name = project_name.lower() + \"_project.proj\"\n",
    "\n",
    "p = project.Project.load(os.path.join('..' , 'learned_models', p_name))"
   ]
  },
  {
   "cell_type": "code",
   "execution_count": 47,
   "metadata": {},
   "outputs": [],
   "source": [
    "inputs = [[ 0.,-1.,-1.,0.,0.,0.,-0.5],\n",
    " [ 0.,-1.,  -1.,   0.,   0.,   0.,  -0.5],\n",
    " [ 0.,0.,  -1.,   0.,   0.,   0.,  -0.5],\n",
    " [ 0.,-1.,  -1.,   0.,   0.,   0.,  -0.5],\n",
    " [ 0.,0.,  -1.,   0.,   0.,   0.,  -0.5],\n",
    " [ 0.,-1.,  -1.,   0.,   0.,   0.,   1. ],\n",
    " [ 0.,-1.,  -1.,   0.,   0.,   0.,   1. ],\n",
    " [ 0.,0.,  -1.,   0.,   0.,   0.,   1. ],\n",
    " [ 0.,-1.,  -1.,   0.,   0.,   0.,   1. ],\n",
    " [ 0.,0.,  -1.,   0.,   0.,   0.,   1. ],\n",
    " [ 0.,-1.,  -1.,   0.,   0.,   0.,   1. ],\n",
    " [ 0.,-1.,  -1.,   0.,   0.,   0.,   1. ],\n",
    " [ 0.,0.,  -1.,   0.,   0.,   0.,   0.5],\n",
    " [ 0.,-1.,  -1.,   0.,   0.,   0.,   0.5],\n",
    " [ 0.,0.,  -1.,   0.,   0.,   0.,   0.5],\n",
    " [ 0.,-1.,  -1.,   0.,   0.,   0.,   0.5],\n",
    " [ 0.,0.,  -1.,   0.,   0.,   0.,   0.5],\n",
    " [ 0.,-1.,  -1.,   0.,   0.,   0.,   0.5],\n",
    " [-1.,-1.,  -1.,   0.,   0.,   0.,   0. ],\n",
    " [ 0.,0.,  -1.,   0.,   0.,   0.,   0. ]]"
   ]
  },
  {
   "cell_type": "code",
   "execution_count": 210,
   "metadata": {},
   "outputs": [],
   "source": [
    "reload(config)\n",
    "reload(progress_learner)\n",
    "tf.reset_default_graph()\n",
    "\n",
    "c = config.Config()\n",
    "c.num_episodes = 10\n",
    "c.keep_prob_bool = False\n",
    "\n",
    "global_step = tf.Variable(0, name=\"global_step\", trainable=False)\n",
    "\n",
    "sess =  tf.Session()\n",
    "\n",
    "# sess.run(tf.global_variables_initializer())"
   ]
  },
  {
   "cell_type": "code",
   "execution_count": 211,
   "metadata": {},
   "outputs": [
    {
     "name": "stdout",
     "output_type": "stream",
     "text": [
      "-------- Load progress model ---------\n",
      "self.inputs.shape = (?, 20, 200)  after linear layer\n",
      "output.shape = (30, 200) after LSTM\n",
      "self.output.shape = (30,) after linear\n",
      "self._targets.shape = (?,) \n",
      "global_step:0\n",
      "model/SlideAround/state/Variable:0\n",
      "model/SlideAround/state/Variable_1:0\n",
      "model/SlideAround/state/Variable_2:0\n",
      "model/SlideAround/state/Variable_3:0\n",
      "model/SlideAround/linear/weight:0\n",
      "model/SlideAround/linear/bias:0\n",
      "model/SlideAround/lstm/rnn/multi_rnn_cell/cell_0/basic_lstm_cell/kernel:0\n",
      "model/SlideAround/lstm/rnn/multi_rnn_cell/cell_0/basic_lstm_cell/bias:0\n",
      "model/SlideAround/output_linear/weight:0\n",
      "model/SlideAround/output_linear/bias:0\n",
      "INFO:tensorflow:Restoring parameters from ..\\learned_models\\progress_SlideAround.mod.1\n"
     ]
    }
   ],
   "source": [
    "with tf.variable_scope(\"model\") as scope:\n",
    "    print('-------- Load progress model ---------')\n",
    "    pe = progress_learner.EventProgressEstimator(is_training=False,\n",
    "                                                is_dropout = False,\n",
    "                                                 name = project_name, \n",
    "                                                 config = c)  \n",
    "\n",
    "# Print out all variables that would be restored\n",
    "for variable in tf.get_collection(tf.GraphKeys.GLOBAL_VARIABLES, scope=''):\n",
    "    print (variable.name)\n",
    "\n",
    "all_variables = tf.get_collection(tf.GraphKeys.GLOBAL_VARIABLES, scope='model/' + project_name)\n",
    "state_variables = tf.get_collection(tf.GraphKeys.GLOBAL_VARIABLES, scope='model/' + project_name + '/state')\n",
    "\n",
    "all_but_state_variables = [v for v in all_variables if not v in state_variables]\n",
    "\n",
    "saver = tf.train.Saver(all_but_state_variables)\n",
    "\n",
    "saver.restore(sess, os.path.join('..' , 'learned_models', 'progress_' + project_name + '.mod.1'))"
   ]
  },
  {
   "cell_type": "code",
   "execution_count": 218,
   "metadata": {},
   "outputs": [
    {
     "name": "stdout",
     "output_type": "stream",
     "text": [
      "LSTMStateTuple(c=<tf.Variable 'model/SlideAround/state/Variable:0' shape=(30, 200) dtype=float32_ref>, h=<tf.Variable 'model/SlideAround/state/Variable_1:0' shape=(30, 200) dtype=float32_ref>)\n",
      "LSTMStateTuple(c=<tf.Variable 'model/SlideAround/state/Variable_2:0' shape=(30, 200) dtype=float32_ref>, h=<tf.Variable 'model/SlideAround/state/Variable_3:0' shape=(30, 200) dtype=float32_ref>)\n"
     ]
    }
   ],
   "source": [
    "pe.reset_state( sess = sess )"
   ]
  },
  {
   "cell_type": "code",
   "execution_count": 219,
   "metadata": {},
   "outputs": [
    {
     "name": "stdout",
     "output_type": "stream",
     "text": [
      "current_progress 0.005496383\n"
     ]
    }
   ],
   "source": [
    "o_inputs = np.repeat(np.expand_dims(inputs, axis = 0), 30, axis = 0)\n",
    "\n",
    "current_progress = pe.predict(o_inputs, sess = sess)\n",
    "print ('current_progress', current_progress[0])"
   ]
  },
  {
   "cell_type": "code",
   "execution_count": null,
   "metadata": {},
   "outputs": [],
   "source": []
  }
 ],
 "metadata": {
  "kernelspec": {
   "display_name": "Python 3",
   "language": "python",
   "name": "python3"
  },
  "language_info": {
   "codemirror_mode": {
    "name": "ipython",
    "version": 3
   },
   "file_extension": ".py",
   "mimetype": "text/x-python",
   "name": "python",
   "nbconvert_exporter": "python",
   "pygments_lexer": "ipython3",
   "version": "3.5.4"
  }
 },
 "nbformat": 4,
 "nbformat_minor": 2
}
