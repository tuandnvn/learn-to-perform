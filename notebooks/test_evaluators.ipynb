{
 "cells": [
  {
   "cell_type": "code",
   "execution_count": 1,
   "metadata": {
    "collapsed": true
   },
   "outputs": [],
   "source": [
    "import os\n",
    "import sys\n",
    "import numpy as np\n",
    "import pickle\n",
    "from scipy.stats.stats import pearsonr\n",
    "\n",
    "\n",
    "module_path = os.path.abspath(os.path.join('..'))\n",
    "if module_path not in sys.path:\n",
    "    sys.path.append(module_path)\n",
    "a = os.path.join(module_path, \"strands_qsr_lib\\qsr_lib\\src3\")\n",
    "sys.path.append(a)\n",
    "\n",
    "import project\n",
    "# Need to add this import to load class\n",
    "from project import Project\n",
    "import config\n",
    "import progress_learner\n",
    "from rl import block_movement_env"
   ]
  },
  {
   "cell_type": "code",
   "execution_count": 2,
   "metadata": {},
   "outputs": [
    {
     "data": {
      "text/plain": [
       "<module 'rl.block_movement_env' from 'D:\\\\git\\\\learn-to-perform\\\\rl\\\\block_movement_env.py'>"
      ]
     },
     "execution_count": 2,
     "metadata": {},
     "output_type": "execute_result"
    }
   ],
   "source": [
    "from importlib import reload\n",
    "reload(block_movement_env)"
   ]
  },
  {
   "cell_type": "code",
   "execution_count": 3,
   "metadata": {
    "collapsed": true
   },
   "outputs": [],
   "source": [
    "prefix = os.path.join( \"..\", \"experiments\", \"human_evaluation_2d\" )"
   ]
  },
  {
   "cell_type": "code",
   "execution_count": 25,
   "metadata": {
    "collapsed": true
   },
   "outputs": [],
   "source": [
    "feedback_files = {\"SlideToward\" : 'slideclose.txt', \n",
    "                  \"SlideAway\": 'slideaway.txt', \n",
    "                  \"SlideNext\": 'slidenext.txt', \n",
    "                  \"SlidePast\": 'slidepast.txt', \n",
    "                  \"SlideAround\": 'slidearound2.txt'}"
   ]
  },
  {
   "cell_type": "code",
   "execution_count": 26,
   "metadata": {
    "collapsed": true
   },
   "outputs": [],
   "source": [
    "def load_feedback_file( f ):\n",
    "    \"\"\"\n",
    "    File format:\n",
    "    \n",
    "    0\t6\t8\t2\n",
    "    1\t8\t9\t1\n",
    "    2\t8\t7\t1\n",
    "    index\tscore_1\tscore2\tdisparity\n",
    "    \"\"\"\n",
    "    scores = {}\n",
    "    with open(f, 'r') as fh:\n",
    "        for line in fh:\n",
    "            values = [int(v) for v in line.split()]\n",
    "            index = values[0]\n",
    "            average_score = np.mean(values[1:3])\n",
    "            \n",
    "            scores[index] = average_score\n",
    "    return scores"
   ]
  },
  {
   "cell_type": "code",
   "execution_count": 44,
   "metadata": {},
   "outputs": [],
   "source": [
    "c = config.Config()"
   ]
  },
  {
   "cell_type": "markdown",
   "metadata": {},
   "source": [
    "#### Loading projects from files"
   ]
  },
  {
   "cell_type": "code",
   "execution_count": 4,
   "metadata": {
    "collapsed": true
   },
   "outputs": [],
   "source": [
    "import tensorflow as tf\n",
    "\n",
    "sess =  tf.Session()"
   ]
  },
  {
   "cell_type": "code",
   "execution_count": 5,
   "metadata": {},
   "outputs": [
    {
     "name": "stdout",
     "output_type": "stream",
     "text": [
      "========================================================\n",
      "Load for action type = SlideToward\n",
      "-------- Load progress model ---------\n",
      "self.inputs.shape = (?, 20, 200)  after linear layer\n",
      "output.shape = (30, 200) after LSTM\n",
      "self.output.shape = (30,) after linear\n",
      "self._targets.shape = (?,) \n",
      "========================================================\n",
      "Load for action type = SlideAway\n",
      "-------- Load progress model ---------\n",
      "self.inputs.shape = (?, 20, 200)  after linear layer\n",
      "output.shape = (30, 200) after LSTM\n",
      "self.output.shape = (30,) after linear\n",
      "self._targets.shape = (?,) \n",
      "========================================================\n",
      "Load for action type = SlideNext\n",
      "-------- Load progress model ---------\n",
      "self.inputs.shape = (?, 20, 200)  after linear layer\n",
      "output.shape = (30, 200) after LSTM\n",
      "self.output.shape = (30,) after linear\n",
      "self._targets.shape = (?,) \n",
      "========================================================\n",
      "Load for action type = SlidePast\n",
      "-------- Load progress model ---------\n",
      "self.inputs.shape = (?, 20, 200)  after linear layer\n",
      "output.shape = (30, 200) after LSTM\n",
      "self.output.shape = (30,) after linear\n",
      "self._targets.shape = (?,) \n",
      "========================================================\n",
      "Load for action type = SlideAround\n",
      "-------- Load progress model ---------\n",
      "self.inputs.shape = (?, 20, 200)  after linear layer\n",
      "output.shape = (30, 200) after LSTM\n",
      "self.output.shape = (30,) after linear\n",
      "self._targets.shape = (?,) \n"
     ]
    }
   ],
   "source": [
    "projects = {}\n",
    "progress_estimators = {}\n",
    "configs = {}\n",
    "\n",
    "action_types = [\"SlideToward\", \"SlideAway\", \"SlideNext\", \"SlidePast\", \"SlideAround\"]\n",
    "\n",
    "for project_name in action_types:\n",
    "    configs[project_name] = config.Config()\n",
    "    if project_name == 'SlideNext':\n",
    "        configs[project_name].n_input = 8\n",
    "        \n",
    "    print ('========================================================')\n",
    "    print ('Load for action type = ' + project_name)\n",
    "    p_name = project_name.lower() + \"_project.proj\"\n",
    "\n",
    "    projects[project_name] = project.Project.load(os.path.join('..', 'learned_models', p_name))\n",
    "    \n",
    "    with tf.variable_scope(\"model\") as scope:\n",
    "        print('-------- Load progress model ---------')\n",
    "        progress_estimators[project_name] = progress_learner.EventProgressEstimator(is_training=True, name = projects[project_name].name, config = configs[project_name])  "
   ]
  },
  {
   "cell_type": "code",
   "execution_count": 6,
   "metadata": {},
   "outputs": [
    {
     "name": "stdout",
     "output_type": "stream",
     "text": [
      "INFO:tensorflow:Restoring parameters from ..\\learned_models\\progress_SlideToward.mod\n",
      "INFO:tensorflow:Restoring parameters from ..\\learned_models\\progress_SlideAway.mod\n",
      "INFO:tensorflow:Restoring parameters from ..\\learned_models\\progress_SlideNext.mod\n",
      "INFO:tensorflow:Restoring parameters from ..\\learned_models\\progress_SlidePast.mod\n",
      "INFO:tensorflow:Restoring parameters from ..\\learned_models\\progress_SlideAround.mod\n"
     ]
    }
   ],
   "source": [
    "for project_name in action_types:\n",
    "    saver = tf.train.Saver(tf.get_collection(tf.GraphKeys.GLOBAL_VARIABLES, scope='model/' + project_name))\n",
    "\n",
    "    saver.restore(sess, os.path.join('..', 'learned_models', 'progress_' + project_name + '.mod'))"
   ]
  },
  {
   "cell_type": "code",
   "execution_count": 108,
   "metadata": {},
   "outputs": [],
   "source": [
    "## Function to load demonstrations\n",
    "def load_data_from_folder ( folder, c, p, pe, sess ):\n",
    "    \"\"\"\n",
    "    c: Config\n",
    "    p: Project\n",
    "    pe: Progress_estimator\n",
    "    sess: Tensorflow session\n",
    "    \"\"\"\n",
    "    demonstrations = {}\n",
    "    for index in range(30):\n",
    "        stored_config_file = os.path.join(folder, str(index) + \".dat\")\n",
    "        try:\n",
    "            with open(stored_config_file, 'rb') as fh:\n",
    "                # need this encoding \n",
    "                stored_config = pickle.load(fh, encoding='latin-1')\n",
    "\n",
    "                e = block_movement_env.BlockMovementEnv(c, p.speed, p.name, \n",
    "                        progress_estimator = pe, session = sess)\n",
    "                e.reset_env_to_state(stored_config['start_config'], stored_config['action_storage'])\n",
    "\n",
    "                demonstrations[index] = e\n",
    "        except IOError:\n",
    "            pass\n",
    "    return demonstrations"
   ]
  },
  {
   "cell_type": "code",
   "execution_count": 125,
   "metadata": {},
   "outputs": [
    {
     "data": {
      "text/plain": [
       "<module 'automatic_evaluator' from 'D:\\\\git\\\\learn-to-perform\\\\automatic_evaluator.py'>"
      ]
     },
     "execution_count": 125,
     "metadata": {},
     "output_type": "execute_result"
    }
   ],
   "source": [
    "import automatic_evaluator\n",
    "reload(automatic_evaluator)"
   ]
  },
  {
   "cell_type": "code",
   "execution_count": 40,
   "metadata": {},
   "outputs": [],
   "source": [
    "def get_corref ( automatic_scores , graded_scores ):\n",
    "    x = []\n",
    "    y = []\n",
    "    for k in automatic_scores:\n",
    "        if k in graded_scores:\n",
    "            x.append(automatic_scores[k])\n",
    "            y.append(graded_scores[k])\n",
    "    return np.corrcoef(x, y)[0,1]"
   ]
  },
  {
   "cell_type": "code",
   "execution_count": 113,
   "metadata": {
    "collapsed": true
   },
   "outputs": [],
   "source": [
    "def dos2unix (original, destination):\n",
    "    with open(original, 'rb') as infile:\n",
    "        content = infile.read()\n",
    "    with open(destination, 'wb') as output:\n",
    "        for line in content.splitlines():\n",
    "            output.write(line + str.encode('\\n'))"
   ]
  },
  {
   "cell_type": "markdown",
   "metadata": {},
   "source": [
    "#### Test for Slide Closer To\n",
    "\n",
    "Using the method **test_slide_close**, we have one hyperparameter to set:\n",
    "threshold. By default, it is 2 * block_size"
   ]
  },
  {
   "cell_type": "code",
   "execution_count": 29,
   "metadata": {},
   "outputs": [],
   "source": [
    "close_demos = load_data_from_folder(os.path.join(prefix, 'SlideClose'), configs['SlideToward'], \n",
    "                                    projects['SlideToward'], progress_estimators['SlideToward'], sess)"
   ]
  },
  {
   "cell_type": "code",
   "execution_count": 30,
   "metadata": {},
   "outputs": [],
   "source": [
    "close_automatic_scores = dict((index, automatic_evaluator.test_slide_close(demo)) for index, demo in close_demos.items())\n"
   ]
  },
  {
   "cell_type": "code",
   "execution_count": 32,
   "metadata": {},
   "outputs": [],
   "source": [
    "close_graded_scores = load_feedback_file ( os.path.join (prefix, feedback_files['SlideToward'] ) )"
   ]
  },
  {
   "cell_type": "code",
   "execution_count": 41,
   "metadata": {},
   "outputs": [
    {
     "data": {
      "text/plain": [
       "0.29390650586323525"
      ]
     },
     "execution_count": 41,
     "metadata": {},
     "output_type": "execute_result"
    }
   ],
   "source": [
    "get_corref(close_automatic_scores, close_graded_scores)"
   ]
  },
  {
   "cell_type": "markdown",
   "metadata": {},
   "source": [
    "Grid search for the value of threshold"
   ]
  },
  {
   "cell_type": "code",
   "execution_count": 55,
   "metadata": {},
   "outputs": [
    {
     "name": "stdout",
     "output_type": "stream",
     "text": [
      "1.5 & 1.75 & 2.0 & 2.25 & 2.5 & 2.75 & 3.0 & 3.25 & 3.5 & 3.75 & 4.0 & 4.25 & 4.5\n",
      "-0.09 & 0.17 & 0.29 & 0.11 & 0.18 & 0.22 & 0.22 & 0.34 & 0.40 & 0.39 & 0.39 & 0.39 & 0.34\n"
     ]
    }
   ],
   "source": [
    "print (' & '.join(str(val) for val in np.linspace(1.5, 4.5, num=13)))\n",
    "corefs = []\n",
    "for threshold in np.linspace(1.5, 4.5, num=13):\n",
    "    score  = dict((index, automatic_evaluator.test_slide_close(demo, threshold = threshold * c.block_size)) for index, demo in close_demos.items())\n",
    "    coref = get_corref(score, close_graded_scores)\n",
    "    corefs.append(coref)\n",
    "    \n",
    "print (' & '.join('%.2f' % val for val in corefs))"
   ]
  },
  {
   "cell_type": "markdown",
   "metadata": {},
   "source": [
    "#### Test for Slide Past\n",
    "\n",
    "Using the method **test_slide_past**, we have one hyperparameter to set:\n",
    "angle_threshold. We will run grid search for the value of angle_threshold / np.pi "
   ]
  },
  {
   "cell_type": "code",
   "execution_count": 56,
   "metadata": {},
   "outputs": [
    {
     "ename": "ValueError",
     "evalue": "shapes (1,2) and (1,2) not aligned: 2 (dim 1) != 1 (dim 0)",
     "output_type": "error",
     "traceback": [
      "\u001b[1;31m---------------------------------------------------------------------------\u001b[0m",
      "\u001b[1;31mValueError\u001b[0m                                Traceback (most recent call last)",
      "\u001b[1;32m<ipython-input-56-43f3af13e7ef>\u001b[0m in \u001b[0;36m<module>\u001b[1;34m()\u001b[0m\n\u001b[0;32m      2\u001b[0m                                     projects['SlidePast'], progress_estimators['SlidePast'], sess)\n\u001b[0;32m      3\u001b[0m \u001b[1;33m\u001b[0m\u001b[0m\n\u001b[1;32m----> 4\u001b[1;33m \u001b[0mpast_automatic_scores\u001b[0m \u001b[1;33m=\u001b[0m \u001b[0mdict\u001b[0m\u001b[1;33m(\u001b[0m\u001b[1;33m(\u001b[0m\u001b[0mindex\u001b[0m\u001b[1;33m,\u001b[0m \u001b[0mautomatic_evaluator\u001b[0m\u001b[1;33m.\u001b[0m\u001b[0mtest_slide_past\u001b[0m\u001b[1;33m(\u001b[0m\u001b[0mdemo\u001b[0m\u001b[1;33m)\u001b[0m\u001b[1;33m)\u001b[0m \u001b[1;32mfor\u001b[0m \u001b[0mindex\u001b[0m\u001b[1;33m,\u001b[0m \u001b[0mdemo\u001b[0m \u001b[1;32min\u001b[0m \u001b[0mpast_demos\u001b[0m\u001b[1;33m.\u001b[0m\u001b[0mitems\u001b[0m\u001b[1;33m(\u001b[0m\u001b[1;33m)\u001b[0m\u001b[1;33m)\u001b[0m\u001b[1;33m\u001b[0m\u001b[0m\n\u001b[0m\u001b[0;32m      5\u001b[0m \u001b[1;33m\u001b[0m\u001b[0m\n\u001b[0;32m      6\u001b[0m \u001b[0mpast_graded_scores\u001b[0m \u001b[1;33m=\u001b[0m \u001b[0mload_feedback_file\u001b[0m \u001b[1;33m(\u001b[0m \u001b[0mos\u001b[0m\u001b[1;33m.\u001b[0m\u001b[0mpath\u001b[0m\u001b[1;33m.\u001b[0m\u001b[0mjoin\u001b[0m \u001b[1;33m(\u001b[0m\u001b[0mprefix\u001b[0m\u001b[1;33m,\u001b[0m \u001b[0mfeedback_files\u001b[0m\u001b[1;33m[\u001b[0m\u001b[1;34m'SlidePast'\u001b[0m\u001b[1;33m]\u001b[0m \u001b[1;33m)\u001b[0m \u001b[1;33m)\u001b[0m\u001b[1;33m\u001b[0m\u001b[0m\n",
      "\u001b[1;32m<ipython-input-56-43f3af13e7ef>\u001b[0m in \u001b[0;36m<genexpr>\u001b[1;34m(.0)\u001b[0m\n\u001b[0;32m      2\u001b[0m                                     projects['SlidePast'], progress_estimators['SlidePast'], sess)\n\u001b[0;32m      3\u001b[0m \u001b[1;33m\u001b[0m\u001b[0m\n\u001b[1;32m----> 4\u001b[1;33m \u001b[0mpast_automatic_scores\u001b[0m \u001b[1;33m=\u001b[0m \u001b[0mdict\u001b[0m\u001b[1;33m(\u001b[0m\u001b[1;33m(\u001b[0m\u001b[0mindex\u001b[0m\u001b[1;33m,\u001b[0m \u001b[0mautomatic_evaluator\u001b[0m\u001b[1;33m.\u001b[0m\u001b[0mtest_slide_past\u001b[0m\u001b[1;33m(\u001b[0m\u001b[0mdemo\u001b[0m\u001b[1;33m)\u001b[0m\u001b[1;33m)\u001b[0m \u001b[1;32mfor\u001b[0m \u001b[0mindex\u001b[0m\u001b[1;33m,\u001b[0m \u001b[0mdemo\u001b[0m \u001b[1;32min\u001b[0m \u001b[0mpast_demos\u001b[0m\u001b[1;33m.\u001b[0m\u001b[0mitems\u001b[0m\u001b[1;33m(\u001b[0m\u001b[1;33m)\u001b[0m\u001b[1;33m)\u001b[0m\u001b[1;33m\u001b[0m\u001b[0m\n\u001b[0m\u001b[0;32m      5\u001b[0m \u001b[1;33m\u001b[0m\u001b[0m\n\u001b[0;32m      6\u001b[0m \u001b[0mpast_graded_scores\u001b[0m \u001b[1;33m=\u001b[0m \u001b[0mload_feedback_file\u001b[0m \u001b[1;33m(\u001b[0m \u001b[0mos\u001b[0m\u001b[1;33m.\u001b[0m\u001b[0mpath\u001b[0m\u001b[1;33m.\u001b[0m\u001b[0mjoin\u001b[0m \u001b[1;33m(\u001b[0m\u001b[0mprefix\u001b[0m\u001b[1;33m,\u001b[0m \u001b[0mfeedback_files\u001b[0m\u001b[1;33m[\u001b[0m\u001b[1;34m'SlidePast'\u001b[0m\u001b[1;33m]\u001b[0m \u001b[1;33m)\u001b[0m \u001b[1;33m)\u001b[0m\u001b[1;33m\u001b[0m\u001b[0m\n",
      "\u001b[1;32mD:\\git\\learn-to-perform\\automatic_evaluator.py\u001b[0m in \u001b[0;36mtest_slide_past\u001b[1;34m(env, angle_threshold)\u001b[0m\n\u001b[0;32m    197\u001b[0m         \u001b[0menv\u001b[0m\u001b[1;33m:\u001b[0m \u001b[0mBlockMovementEnv\u001b[0m\u001b[1;33m\u001b[0m\u001b[0m\n\u001b[0;32m    198\u001b[0m \t\"\"\"\n\u001b[1;32m--> 199\u001b[1;33m         \u001b[0mt\u001b[0m \u001b[1;33m=\u001b[0m \u001b[0mtest_slide_around\u001b[0m \u001b[1;33m(\u001b[0m \u001b[0menv\u001b[0m \u001b[1;33m)\u001b[0m\u001b[1;33m\u001b[0m\u001b[0m\n\u001b[0m\u001b[0;32m    200\u001b[0m         \u001b[1;32mif\u001b[0m \u001b[0mt\u001b[0m \u001b[1;33m!=\u001b[0m \u001b[1;36m0\u001b[0m\u001b[1;33m:\u001b[0m\u001b[1;33m\u001b[0m\u001b[0m\n\u001b[0;32m    201\u001b[0m                 \u001b[1;32mreturn\u001b[0m \u001b[1;36m0\u001b[0m\u001b[1;33m\u001b[0m\u001b[0m\n",
      "\u001b[1;32mD:\\git\\learn-to-perform\\automatic_evaluator.py\u001b[0m in \u001b[0;36mtest_slide_around\u001b[1;34m(env, alpha_1, alpha_2)\u001b[0m\n\u001b[0;32m     80\u001b[0m                 \u001b[0mv2\u001b[0m \u001b[1;33m=\u001b[0m \u001b[0mnext_transform\u001b[0m\u001b[1;33m.\u001b[0m\u001b[0mposition\u001b[0m \u001b[1;33m-\u001b[0m \u001b[0mstatic_object\u001b[0m\u001b[1;33m.\u001b[0m\u001b[0mposition\u001b[0m\u001b[1;33m\u001b[0m\u001b[0m\n\u001b[0;32m     81\u001b[0m \u001b[1;33m\u001b[0m\u001b[0m\n\u001b[1;32m---> 82\u001b[1;33m                 \u001b[0mangle\u001b[0m \u001b[1;33m=\u001b[0m \u001b[0mp_angle_between\u001b[0m\u001b[1;33m(\u001b[0m\u001b[0mv1\u001b[0m\u001b[1;33m,\u001b[0m \u001b[0mv2\u001b[0m\u001b[1;33m)\u001b[0m\u001b[1;33m\u001b[0m\u001b[0m\n\u001b[0m\u001b[0;32m     83\u001b[0m                 \u001b[0maccumulated_angle\u001b[0m \u001b[1;33m+=\u001b[0m \u001b[0mangle\u001b[0m\u001b[1;33m\u001b[0m\u001b[0m\n\u001b[0;32m     84\u001b[0m \u001b[1;33m\u001b[0m\u001b[0m\n",
      "\u001b[1;32mD:\\git\\learn-to-perform\\automatic_evaluator.py\u001b[0m in \u001b[0;36mp_angle_between\u001b[1;34m(v1, v2)\u001b[0m\n\u001b[0;32m     43\u001b[0m     \u001b[0mv1_u\u001b[0m \u001b[1;33m=\u001b[0m \u001b[0munit_vector\u001b[0m\u001b[1;33m(\u001b[0m\u001b[0mv1\u001b[0m\u001b[1;33m)\u001b[0m\u001b[1;33m\u001b[0m\u001b[0m\n\u001b[0;32m     44\u001b[0m     \u001b[0mv2_u\u001b[0m \u001b[1;33m=\u001b[0m \u001b[0munit_vector\u001b[0m\u001b[1;33m(\u001b[0m\u001b[0mv2\u001b[0m\u001b[1;33m)\u001b[0m\u001b[1;33m\u001b[0m\u001b[0m\n\u001b[1;32m---> 45\u001b[1;33m     \u001b[1;32mreturn\u001b[0m \u001b[0mnp\u001b[0m\u001b[1;33m.\u001b[0m\u001b[0mcopysign\u001b[0m\u001b[1;33m(\u001b[0m\u001b[0mnp\u001b[0m\u001b[1;33m.\u001b[0m\u001b[0marccos\u001b[0m\u001b[1;33m(\u001b[0m\u001b[0mnp\u001b[0m\u001b[1;33m.\u001b[0m\u001b[0mclip\u001b[0m\u001b[1;33m(\u001b[0m\u001b[0mnp\u001b[0m\u001b[1;33m.\u001b[0m\u001b[0mdot\u001b[0m\u001b[1;33m(\u001b[0m\u001b[0mv1_u\u001b[0m\u001b[1;33m,\u001b[0m \u001b[0mv2_u\u001b[0m\u001b[1;33m)\u001b[0m\u001b[1;33m,\u001b[0m \u001b[1;33m-\u001b[0m\u001b[1;36m1.0\u001b[0m\u001b[1;33m,\u001b[0m \u001b[1;36m1.0\u001b[0m\u001b[1;33m)\u001b[0m\u001b[1;33m)\u001b[0m\u001b[1;33m,\u001b[0m \u001b[0mdeterminant\u001b[0m\u001b[1;33m(\u001b[0m\u001b[0mv1_u\u001b[0m\u001b[1;33m,\u001b[0m \u001b[0mv2_u\u001b[0m\u001b[1;33m)\u001b[0m \u001b[1;33m)\u001b[0m\u001b[1;33m\u001b[0m\u001b[0m\n\u001b[0m\u001b[0;32m     46\u001b[0m \u001b[1;33m\u001b[0m\u001b[0m\n\u001b[0;32m     47\u001b[0m \u001b[1;32mdef\u001b[0m \u001b[0mtest_slide_around\u001b[0m \u001b[1;33m(\u001b[0m \u001b[0menv\u001b[0m\u001b[1;33m,\u001b[0m \u001b[0malpha_1\u001b[0m \u001b[1;33m=\u001b[0m \u001b[0mnp\u001b[0m\u001b[1;33m.\u001b[0m\u001b[0mpi\u001b[0m \u001b[1;33m/\u001b[0m \u001b[1;36m2\u001b[0m\u001b[1;33m,\u001b[0m \u001b[0malpha_2\u001b[0m \u001b[1;33m=\u001b[0m \u001b[1;36m3\u001b[0m \u001b[1;33m*\u001b[0m \u001b[0mnp\u001b[0m\u001b[1;33m.\u001b[0m\u001b[0mpi\u001b[0m \u001b[1;33m/\u001b[0m \u001b[1;36m4\u001b[0m \u001b[1;33m)\u001b[0m\u001b[1;33m:\u001b[0m\u001b[1;33m\u001b[0m\u001b[0m\n",
      "\u001b[1;31mValueError\u001b[0m: shapes (1,2) and (1,2) not aligned: 2 (dim 1) != 1 (dim 0)"
     ]
    }
   ],
   "source": [
    "past_demos = load_data_from_folder(os.path.join(prefix, 'SlidePast'), configs['SlidePast'], \n",
    "                                    projects['SlidePast'], progress_estimators['SlidePast'], sess)\n",
    "\n",
    "past_automatic_scores = dict((index, automatic_evaluator.test_slide_past(demo)) for index, demo in past_demos.items())\n",
    "\n",
    "past_graded_scores = load_feedback_file ( os.path.join (prefix, feedback_files['SlidePast'] ) )"
   ]
  },
  {
   "cell_type": "markdown",
   "metadata": {},
   "source": [
    "#### Test for Slide Away\n",
    "\n",
    "Using the method **test_slide_away**, we have one hyperparameter to set:\n",
    "ratio_threshold. We will run grid search for the value of ratio_threshold"
   ]
  },
  {
   "cell_type": "code",
   "execution_count": 61,
   "metadata": {},
   "outputs": [],
   "source": [
    "away_demos = load_data_from_folder(os.path.join(prefix, 'SlideAway'), configs['SlideAway'], \n",
    "                                    projects['SlideAway'], progress_estimators['SlideAway'], sess)"
   ]
  },
  {
   "cell_type": "code",
   "execution_count": 60,
   "metadata": {
    "collapsed": true
   },
   "outputs": [],
   "source": [
    "away_automatic_scores = dict((index, automatic_evaluator.test_slide_away(demo)) for index, demo in away_demos.items())\n",
    "\n",
    "away_graded_scores = load_feedback_file ( os.path.join (prefix, feedback_files['SlideAway'] ) )"
   ]
  },
  {
   "cell_type": "code",
   "execution_count": 62,
   "metadata": {},
   "outputs": [
    {
     "data": {
      "text/plain": [
       "0.01411487319713608"
      ]
     },
     "execution_count": 62,
     "metadata": {},
     "output_type": "execute_result"
    }
   ],
   "source": [
    "get_corref(away_automatic_scores, away_graded_scores)"
   ]
  },
  {
   "cell_type": "code",
   "execution_count": 80,
   "metadata": {},
   "outputs": [
    {
     "name": "stdout",
     "output_type": "stream",
     "text": [
      "1.1 & 1.2 & 1.3 & 1.4 & 1.5 & 1.6 & 1.7 & 1.8 & 1.9 & 2.0 & 2.1 & 2.2 & 2.3 & 2.4 & 2.5 & 2.6 & 2.7 & 2.8\n"
     ]
    }
   ],
   "source": [
    "print (' & '.join(str(val) for val in np.linspace(1.1, 2.8, num=18)))\n"
   ]
  },
  {
   "cell_type": "code",
   "execution_count": 79,
   "metadata": {},
   "outputs": [
    {
     "name": "stdout",
     "output_type": "stream",
     "text": [
      "-0.14 & -0.04 & 0.11 & 0.04 & 0.01 & 0.01 & 0.15 & 0.24 & 0.27 & 0.11 & 0.03 & 0.18 & 0.44 & 0.41 & 0.31 & 0.28 & 0.28 & 0.26\n"
     ]
    }
   ],
   "source": [
    "corefs = []\n",
    "for threshold in np.linspace(1.1, 2.8, num=18):\n",
    "    score = dict((index, automatic_evaluator.test_slide_away(demo, \n",
    "      ratio_threshold = threshold)) for index, demo in away_demos.items())\n",
    "    coref = get_corref(score, away_graded_scores)\n",
    "    corefs.append(coref)\n",
    "    \n",
    "print (' & '.join('%.2f' % val for val in corefs))"
   ]
  },
  {
   "cell_type": "code",
   "execution_count": 81,
   "metadata": {
    "collapsed": true
   },
   "outputs": [],
   "source": [
    "score = dict((index, automatic_evaluator.test_slide_away(demo, \n",
    "      ratio_threshold = 2.4)) for index, demo in away_demos.items())"
   ]
  },
  {
   "cell_type": "markdown",
   "metadata": {},
   "source": [
    "#### Test for Slide Around\n",
    "\n",
    "Using the method test_slide_around, we have two hyperparameters to set: *alpha_1, alpha_2*. These values are basically two arcs angles, with alpha_1 < alpha_2. "
   ]
  },
  {
   "cell_type": "code",
   "execution_count": 116,
   "metadata": {},
   "outputs": [],
   "source": [
    "# for index in range(30):\n",
    "#     f = os.path.join(prefix, 'SlideAroundDiscrete', str(index) + \".dat\")\n",
    "    \n",
    "#     dos2unix(f, f)"
   ]
  },
  {
   "cell_type": "code",
   "execution_count": 117,
   "metadata": {},
   "outputs": [],
   "source": [
    "around_demos = load_data_from_folder(os.path.join(prefix, 'SlideAroundDiscrete'), configs['SlideAround'], \n",
    "                                    projects['SlideAround'], progress_estimators['SlideAround'], sess)"
   ]
  },
  {
   "cell_type": "code",
   "execution_count": 126,
   "metadata": {},
   "outputs": [],
   "source": [
    "around_automatic_scores = dict((index, automatic_evaluator.test_slide_around(demo)) for index, demo in around_demos.items())\n",
    "\n",
    "around_graded_scores = load_feedback_file ( os.path.join (prefix, feedback_files['SlideAround'] ) )"
   ]
  },
  {
   "cell_type": "code",
   "execution_count": 124,
   "metadata": {},
   "outputs": [
    {
     "data": {
      "text/plain": [
       "0.2670244276377049"
      ]
     },
     "execution_count": 124,
     "metadata": {},
     "output_type": "execute_result"
    }
   ],
   "source": [
    "get_corref(around_automatic_scores, around_graded_scores)"
   ]
  },
  {
   "cell_type": "code",
   "execution_count": 96,
   "metadata": {},
   "outputs": [
    {
     "data": {
      "text/plain": [
       "{0: 0,\n",
       " 1: 1,\n",
       " 2: 0,\n",
       " 3: 0,\n",
       " 4: 0,\n",
       " 5: 0,\n",
       " 6: 0,\n",
       " 7: 0,\n",
       " 8: 0,\n",
       " 9: 0,\n",
       " 10: 1,\n",
       " 11: 0,\n",
       " 12: 0,\n",
       " 13: 1,\n",
       " 14: 0.5,\n",
       " 15: 0,\n",
       " 16: 0.5,\n",
       " 17: 0,\n",
       " 18: 1,\n",
       " 19: 1,\n",
       " 20: 1,\n",
       " 21: 0,\n",
       " 22: 0.5,\n",
       " 23: 0,\n",
       " 24: 0,\n",
       " 25: 0.5,\n",
       " 26: 1,\n",
       " 27: 0.5,\n",
       " 28: 0,\n",
       " 29: 0}"
      ]
     },
     "execution_count": 96,
     "metadata": {},
     "output_type": "execute_result"
    }
   ],
   "source": [
    "around_automatic_scores"
   ]
  },
  {
   "cell_type": "code",
   "execution_count": 97,
   "metadata": {},
   "outputs": [
    {
     "data": {
      "text/plain": [
       "{0: 10.0,\n",
       " 1: 6.5,\n",
       " 2: 8.0,\n",
       " 3: 5.5,\n",
       " 4: 5.5,\n",
       " 5: 9.0,\n",
       " 6: 6.5,\n",
       " 7: 5.0,\n",
       " 8: 6.5,\n",
       " 9: 6.0,\n",
       " 10: 6.5,\n",
       " 11: 7.0,\n",
       " 12: 9.0,\n",
       " 13: 4.5,\n",
       " 14: 8.5,\n",
       " 15: 10.0,\n",
       " 16: 6.5,\n",
       " 17: 4.5,\n",
       " 18: 5.5,\n",
       " 19: 5.0,\n",
       " 20: 2.0,\n",
       " 21: 6.5,\n",
       " 22: 5.5,\n",
       " 23: 1.5,\n",
       " 24: 5.0,\n",
       " 25: 5.5,\n",
       " 26: 4.5,\n",
       " 27: 4.0,\n",
       " 28: 4.0,\n",
       " 29: 4.5}"
      ]
     },
     "execution_count": 97,
     "metadata": {},
     "output_type": "execute_result"
    }
   ],
   "source": [
    "around_graded_scores"
   ]
  },
  {
   "cell_type": "code",
   "execution_count": null,
   "metadata": {
    "collapsed": true
   },
   "outputs": [],
   "source": []
  }
 ],
 "metadata": {
  "kernelspec": {
   "display_name": "Python 3",
   "language": "python",
   "name": "python3"
  },
  "language_info": {
   "codemirror_mode": {
    "name": "ipython",
    "version": 3
   },
   "file_extension": ".py",
   "mimetype": "text/x-python",
   "name": "python",
   "nbconvert_exporter": "python",
   "pygments_lexer": "ipython3",
   "version": "3.5.4"
  }
 },
 "nbformat": 4,
 "nbformat_minor": 2
}
