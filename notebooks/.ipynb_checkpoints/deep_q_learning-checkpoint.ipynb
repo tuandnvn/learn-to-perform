{
 "cells": [
  {
   "cell_type": "code",
   "execution_count": 4,
   "metadata": {},
   "outputs": [],
   "source": [
    "%matplotlib inline"
   ]
  },
  {
   "cell_type": "code",
   "execution_count": 5,
   "metadata": {},
   "outputs": [],
   "source": [
    "import gym\n",
    "\n",
    "# Wrappers are used to transform an environment in a modular way\n",
    "# It is just to add extensional functionalities\n",
    "# Monitor: That could help to record a video on an episode!\n",
    "# That is really nice!!!!\n",
    "from gym.wrappers import Monitor"
   ]
  },
  {
   "cell_type": "code",
   "execution_count": 14,
   "metadata": {},
   "outputs": [],
   "source": [
    "import itertools\n",
    "import numpy as np\n",
    "import os\n",
    "import random \n",
    "import sys\n",
    "import tensorflow as tf\n",
    "\n",
    "import plotting\n",
    "from collections import deque, namedtuple\n",
    "from matplotlib import pyplot as plt"
   ]
  },
  {
   "cell_type": "code",
   "execution_count": 8,
   "metadata": {},
   "outputs": [],
   "source": [
    "env = gym.envs.make(\"Breakout-v0\")"
   ]
  },
  {
   "cell_type": "code",
   "execution_count": 10,
   "metadata": {},
   "outputs": [],
   "source": [
    "# Atari Actions: 0 (noop), 1 (fire), 2 (left) and 3 (right) are valid actions\n",
    "VALID_ACTIONS = [0, 1, 2, 3]"
   ]
  },
  {
   "cell_type": "code",
   "execution_count": 15,
   "metadata": {},
   "outputs": [
    {
     "name": "stdout",
     "output_type": "stream",
     "text": [
      "Action space size: 4\n",
      "['NOOP', 'FIRE', 'RIGHT', 'LEFT']\n",
      "Observation space shape: (210, 160, 3)\n"
     ]
    },
    {
     "data": {
      "image/png": "[encoded data removed]",
      "text/plain": [
       "<matplotlib.figure.Figure at 0x11666ee48>"
      ]
     },
     "metadata": {},
     "output_type": "display_data"
    },
    {
     "data": {
      "image/png": "[encoded data removed]",
      "text/plain": [
       "<matplotlib.figure.Figure at 0x11667cb38>"
      ]
     },
     "metadata": {},
     "output_type": "display_data"
    }
   ],
   "source": [
    "# print (env)\n",
    "# <TimeLimit<AtariEnv<Breakout-v0>>>\n",
    "# TimeLimit is env wrapper that provides ...\n",
    "# max_episode_seconds, max_episode_steps\n",
    "print(\"Action space size: {}\".format(env.action_space.n))\n",
    "print(env.env.get_action_meanings())\n",
    "\n",
    "observation = env.reset()\n",
    "print(\"Observation space shape: {}\".format(observation.shape))\n",
    "\n",
    "plt.figure()\n",
    "plt.imshow(env.render(mode='rgb_array'))\n",
    "\n",
    "[env.step(2) for x in range(1)]\n",
    "plt.figure()\n",
    "plt.imshow(env.render(mode='rgb_array'))\n",
    "\n",
    "env.render(close=True)"
   ]
  },
  {
   "cell_type": "code",
   "execution_count": 16,
   "metadata": {},
   "outputs": [],
   "source": [
    "class StateProcessor():\n",
    "    \"\"\"\n",
    "    Processes a raw Atari images. Resizes it and converts it to grayscale.\n",
    "    \n",
    "    It is a very interesting consideration to represent the whole system \n",
    "    as an image. It is understandable that the part corresponding to the \n",
    "    blocks should be represented like this, but \n",
    "    \"\"\"\n",
    "    def __init__(self):\n",
    "        with tf.variable_scope(\"state_processor\"):\n",
    "            self.input_state = tf.placeholder(shape=[210, 160, 3], dtype=tf.uint8)\n",
    "            self.output = tf.image.rgb_to_grayscale(self.input_state)\n",
    "            # The upper part is not relevant (there is some score)\n",
    "            self.output = tf.image.crop_to_bounding_box(self.output, 34, 0, 160, 160)\n",
    "            \n",
    "            # Why resize from 160 to 84\n",
    "            self.output = tf.image.resize_images(\n",
    "                self.output, [84,84], \n",
    "                method = tf.image.ResizeMethod.NEAREST_NEIGHBOR)\n",
    "            \n",
    "            self.output = tf.squeeze(self.output)\n",
    "            \n",
    "    def process(self, sess, state):\n",
    "        \"\"\"\n",
    "        Args:\n",
    "            sess: a Tensorflow session object\n",
    "            state: A[210, 160, 3] Atari RGB state\n",
    "            \n",
    "        Returns:\n",
    "            A processed [84, 84, 1] state representing grayscale values\n",
    "        \"\"\"\n",
    "        return sess.run(self.output, {self.input_state: state})"
   ]
  },
  {
   "cell_type": "code",
   "execution_count": 17,
   "metadata": {},
   "outputs": [],
   "source": [
    "class Estimator():\n",
    "    \"\"\"\n",
    "    Q-Value Estimator neural network\n",
    "    \n",
    "    This network is used for both the Q-network and the Target Network\n",
    "    \"\"\"\n",
    "    def __init__(self, scope=\"estimator\", summaries_dir = None):\n",
    "        self.scope = scope\n",
    "        \n",
    "        # Write Tensorboard summaries to disk\n",
    "        self.summary_writer = None\n",
    "        with tf.variable_scope(scope):\n",
    "            self._build_model()\n",
    "            \n",
    "            if summaries_dir:\n",
    "                summary_dir = os.path.join(summaries_dir, \"summaries_{}\".format(scope))\n",
    "                if not os.path.exists(summary_dir):\n",
    "                    os.makedirs(summary_dir)\n",
    "                self.summary_writer = tf.summary.FileWriter(summary_dir)\n",
    "                \n",
    "    def _build_model(self):\n",
    "        \"\"\"\n",
    "        Builds the Tensorflow graph.\n",
    "        \n",
    "        Network calculate Q(s,a) - action value of (state, action)\n",
    "        \"\"\"\n",
    "        # Placeholders for our input\n",
    "        # Our input are 4 RGB frames of shape 160, 160 each\n",
    "        # Why 4?\n",
    "        self.X_pl = tf.placeholder(shape=[None, 84, 84, 4], dtype=tf.uint8, name=\"X\")\n",
    "        # target result of the network\n",
    "        self.y_pl = tf.placeholder(shape=[None],dtype=tf.uint8, name=\"y\")\n",
    "        \n",
    "        self.actions_pl = tf.placeholder(shape=[None], dtype=tf.int32, name=\"actions\")\n",
    "        \n",
    "        X = tf.to_float(self.X_pl) / 255.0\n",
    "        \n",
    "        batch_size = tf.shape(self.X_pl)[0]\n",
    "        \n",
    "        # This is a pretty big network\n",
    "        \n",
    "        # 64 filters of kernel size 8, stride of 4\n",
    "        # Size reduce to (84 - 8)/4 + 1 = (20, 20, 64)\n",
    "        conv1 = tf.contrib.layers.conv2d(X, 32, 8, 4, activation_fn = tf.nn.relu)\n",
    "        \n",
    "        # Size reduce to (20 - 4)/2 + 1 = (9, 9, 64)\n",
    "        conv2 = tf.contrib.layers.conv2d(X, 64, 4, 2, activation_fn = tf.nn.relu)\n",
    "        \n",
    "        # Size reduce to (9 - 3)/1 + 1 = (7, 7, 64)\n",
    "        conv3 = tf.contrib.layers.conv2d(X, 64, 3, 1, activation_fn = tf.nn.relu)\n",
    "        \n",
    "        # 7 * 7 * 64\n",
    "        flattened = tf.contrib.layers.flatten(conv3)\n",
    "        \n",
    "        fc1 = tf.contrib.layers.fully_connected(flattened, 512)\n",
    "        \n",
    "        self.predictions = tf.contrib.layers.fully_connected(fc1, len(VALID_ACTIONS))\n",
    "        \n",
    "        # Get the predictions for the chosen actions only\n",
    "        # Normally I would use the gather_2d function\n",
    "        gather_indices = tf.range(batch_size) * tf.shape(self.predictions)[1] + self.actions_pl\n",
    "        self.action_predictions = tf.gather(tf.reshape(self.predictions, [-1]), gather_indices)\n",
    "        \n",
    "        # Calcualte the loss\n",
    "        self.losses = tf.squared_difference(self.y_pl, self.action_predictions)\n",
    "        self.loss = tf.reduce_mean(self.losses)\n",
    "        \n",
    "        self.optimizer = tf.train.RMSPropOptimizer()"
   ]
  },
  {
   "cell_type": "code",
   "execution_count": null,
   "metadata": {},
   "outputs": [],
   "source": []
  }
 ],
 "metadata": {
  "kernelspec": {
   "display_name": "Python 3",
   "language": "python",
   "name": "python3"
  },
  "language_info": {
   "codemirror_mode": {
    "name": "ipython",
    "version": 3
   },
   "file_extension": ".py",
   "mimetype": "text/x-python",
   "name": "python",
   "nbconvert_exporter": "python",
   "pygments_lexer": "ipython3",
   "version": "3.6.3"
  }
 },
 "nbformat": 4,
 "nbformat_minor": 2
}
