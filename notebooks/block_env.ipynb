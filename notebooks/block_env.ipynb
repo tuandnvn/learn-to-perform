{
 "cells": [
  {
   "cell_type": "code",
   "execution_count": 3,
   "metadata": {},
   "outputs": [],
   "source": [
    "import numpy as np\n",
    "import sys\n",
    "import gym\n",
    "from gym import error, spaces\n",
    "from gym import utils\n",
    "from gym.utils import seeding\n",
    "import os\n",
    "\n",
    "module_path = os.path.abspath(os.path.join('..'))\n",
    "if module_path not in sys.path:\n",
    "    sys.path.append(module_path)\n",
    "    \n",
    "from simulator.utils import Cube2D, Transform2D"
   ]
  },
  {
   "cell_type": "code",
   "execution_count": 34,
   "metadata": {},
   "outputs": [],
   "source": [
    "class Gaussian(gym.Space):\n",
    "    \"\"\"\n",
    "    A Gaussian space randomizes an action as a datapoint\n",
    "    using a location and a covariance.\n",
    "    \n",
    "    This is actually a multivariate normal distribution (MVN),\n",
    "    but with non-correlated variables \n",
    "    (the covariance matrix is diagonal and positive)\n",
    "    \n",
    "    A sample usage:\n",
    "    self.action_space = Gaussian(location = [-1,2], diagonal_cov = [1,1])\n",
    "    \"\"\"\n",
    "    def __init__(self, location, diagonal_cov, n_objects = 2, shape=None):\n",
    "        \"\"\"\n",
    "        Two kinds of valid inputs\n",
    "        \n",
    "        - location and diagonal_cov are scalar -> Gaussian distribution\n",
    "        - location and diagonal_cov are np array of same size\n",
    "        \"\"\"\n",
    "        self.n_objects = n_objects\n",
    "        \n",
    "        if np.isscalar(location) and np.isscalar(diagonal_cov):\n",
    "            \"\"\"Gaussian distribution\"\"\"\n",
    "            self.location = np.array([location])\n",
    "            self.diagonal_cov = np.array([diagonal_cov])\n",
    "            self.shape = (1,)\n",
    "        elif isinstance(location, list) and isinstance(diagonal_cov, list):\n",
    "            assert len(location) == len(diagonal_cov)\n",
    "            \n",
    "            self.location = np.array(location)\n",
    "            self.diagonal_cov = np.diag(diagonal_cov)\n",
    "            \n",
    "            self.shape = self.location.shape\n",
    "        else:\n",
    "            assert isinstance(location, np.ndarray)\n",
    "            assert isinstance(diagonal_cov, np.ndarray)\n",
    "            assert location.shape == diagonal_cov.shape\n",
    "        \n",
    "            self.shape = location.shape\n",
    "            \n",
    "            self.location = np.flatten(location)\n",
    "            self.diagonal_cov = np.diag(np.flatten(diagonal_cov))\n",
    "            \n",
    "    def sample(self, object_index = None):\n",
    "        \"\"\"\n",
    "        sample an action to take:\n",
    "        \n",
    "        if object_index == None:\n",
    "            sample both object_index and location of final point\n",
    "        else:\n",
    "            sample jus the location of final point\n",
    "        \"\"\"\n",
    "        s = np.random.multivariate_normal(self.location, self.diagonal_cov)\n",
    "        \n",
    "        # Reshape to original \n",
    "        s.shape = self.shape\n",
    "        \n",
    "        if object_index:\n",
    "            return (object_index, s)\n",
    "        else:\n",
    "            object_index = np.random.choice(self.n_objects)\n",
    "            return (object_index, s)\n",
    "            \n",
    "    def __repr__(self):\n",
    "        return \"MVN (location= \" + str(self.location) + \"; variances = \" + str(self.diagonal_cov) +\")\"\n",
    "    \n",
    "    def __eq__(self, other):\n",
    "        return np.allclose(self.location, other.location) and \\\n",
    "                np.allclose(self.diagonal_cov, other.diagonal_cov)"
   ]
  },
  {
   "cell_type": "code",
   "execution_count": 55,
   "metadata": {
    "collapsed": true
   },
   "outputs": [],
   "source": [
    "class Uniform(gym.Space):\n",
    "    \"\"\"\n",
    "    A uniform distributioin in a bounded \n",
    "    N-dimensional cube\n",
    "    \n",
    "    A sample usage:\n",
    "    Create a square (-1,-1), (-1,1), (1,1), (1,-1)\n",
    "    self.state_space = Uniform(p = [-1,-1], dimension = [2,2])\n",
    "    \"\"\"\n",
    "    def __init__(self, p, dimension, randomizer = np.random):\n",
    "        self.p = np.array(p)\n",
    "        self.dimension = np.array(dimension)\n",
    "        self.p_opposite = self.p + self.dimension\n",
    "        self.randomizer = randomizer\n",
    "        \n",
    "    def sample(self):\n",
    "        return self.randomizer.uniform(self.p, self.p_opposite)\n",
    "    \n",
    "    def __repr__(self):\n",
    "        return \"Uniform (p= \" + str(self.p) + \"; dimension = \" + str(self.dimension) +\")\"\n",
    "    \n",
    "    def __eq__(self, other):\n",
    "        return np.allclose(self.p, other.p) and \\\n",
    "                np.allclose(self.dimension, other.dimension)"
   ]
  },
  {
   "cell_type": "code",
   "execution_count": 46,
   "metadata": {
    "collapsed": true
   },
   "outputs": [],
   "source": [
    "def make_lines(shape):\n",
    "    lines = []\n",
    "    for i in range(len(shape)):\n",
    "        j = (i + 1) % len(shape)\n",
    "        lines.append( [ shape[i], shape[j] ] )\n",
    "    \n",
    "    return lines"
   ]
  },
  {
   "cell_type": "code",
   "execution_count": 69,
   "metadata": {
    "collapsed": true
   },
   "outputs": [],
   "source": [
    "from matplotlib import pyplot as plt\n",
    "import pylab as pl\n",
    "from matplotlib import collections as mc"
   ]
  },
  {
   "cell_type": "code",
   "execution_count": 71,
   "metadata": {
    "collapsed": true
   },
   "outputs": [],
   "source": [
    "colors = [ (1, 0, 0, 1), (0,1,0,1), (0,0,1,1) ]"
   ]
  },
  {
   "cell_type": "code",
   "execution_count": 101,
   "metadata": {},
   "outputs": [],
   "source": [
    "class BlockMovementEnv(gym.Env):\n",
    "    reward_range = (0, 1)\n",
    "    metadata = {'render.modes': ['human']}\n",
    "    \"\"\"\n",
    "    \"\"\"\n",
    "    def __init__(self, target, playground_x = [-1,-1, 0],\n",
    "                 playground_dim = [2, 2, np.pi/2], name=None, n_objects = 2,\n",
    "                block_size = 0.15):\n",
    "        \"\"\"\n",
    "        Parameters:\n",
    "        - name: the name of the event action to be learned\n",
    "        - target: is a function that produces\n",
    "        a value between 0 and 1 (event progress function)\n",
    "        - playground: a rectangle (x, y, rot, width, height, rot_range)\n",
    "        where (x,y) is a corner of the rectangle\n",
    "        \n",
    "        - n_objects: number of objects to be randomized\n",
    "        \n",
    "        **Note**\n",
    "        target_function:\n",
    "        event progress function will be defined based on the event type \n",
    "        currently learned\n",
    "        \n",
    "        target_function would be an LSTM\n",
    "        \n",
    "        \n",
    "        \"\"\"\n",
    "        self.n_objects = n_objects\n",
    "        self.playground_x = playground_x\n",
    "        self.playground_dim = playground_dim\n",
    "        self.name = name\n",
    "        self.block_size = block_size\n",
    "        \n",
    "        # Action space is dynamically created\n",
    "        # The action space would be a combination of a \n",
    "        self.action_space = None\n",
    "        # observation space is a subset of multiple object spaces\n",
    "        self.observation_space = None \n",
    "        \n",
    "        self._seed()\n",
    "        \n",
    "        self.object_space = Uniform(p = playground_x, \n",
    "                                         dimension = playground_dim, \n",
    "                                         randomizer = self.np_random)\n",
    "        \n",
    "        \n",
    "        self._reset()\n",
    "        \n",
    "    def _step(self, action):\n",
    "        # action is generated from the action_policy (external to the environment)\n",
    "        object_index, position = action\n",
    "        \n",
    "        self.s[object_index] = self.s[object_index] + position\n",
    "        \n",
    "    \n",
    "    def _reset(self):\n",
    "        self.s = []\n",
    "        # states would be a list of location/orientation for block\n",
    "        # sampled from the observation space\n",
    "        for i in range(self.n_objects):\n",
    "            state = self.object_space.sample()\n",
    "            self.s.append(state)\n",
    "        \n",
    "        self.lastaction=None\n",
    "        return self.s\n",
    "\n",
    "    def _render(self, mode='human', close=False):\n",
    "        if close:\n",
    "            return\n",
    "        \n",
    "        fig, ax = plt.subplots()\n",
    "        ax.set_xticks(np.arange(self.playground_x[0], \n",
    "                                self.playground_x[0] + self.playground_dim[0], 0.1))\n",
    "        ax.set_yticks(np.arange(self.playground_x[1], \n",
    "                                self.playground_x[1] + self.playground_dim[1], 0.1))\n",
    "        ax.set_xlim([self.playground_x[0], \n",
    "                     self.playground_x[0] + self.playground_dim[0]])\n",
    "        ax.set_ylim([self.playground_x[1], \n",
    "                     self.playground_x[1] + self.playground_dim[1]])\n",
    "        fig.set_size_inches(20, 12)\n",
    "        \n",
    "        for i in range(self.n_objects):\n",
    "            # Obj is action position and rotation of object\n",
    "            obj = self.s[i]\n",
    "            position = obj[:2]\n",
    "            rotation = obj[2]\n",
    "            scale = self.block_size / 2\n",
    "            \n",
    "            c = Cube2D(transform = Transform2D(position, rotation, scale))\n",
    "            \n",
    "            shape = c.get_markers()\n",
    "            \n",
    "            lines = make_lines(shape)\n",
    "            lc = mc.LineCollection(lines, colors=colors[i], linewidths=2)\n",
    "            ax.add_collection(lc)\n",
    "        \n",
    "        ax.autoscale()\n",
    "        ax.margins(0.1)\n",
    "\n",
    "        plt.show()\n",
    "\n",
    "    def _seed(self, seed=None):\n",
    "        self.np_random, seed = seeding.np_random(seed)\n",
    "        return [seed]"
   ]
  },
  {
   "cell_type": "code",
   "execution_count": 102,
   "metadata": {},
   "outputs": [],
   "source": [
    "env = BlockMovementEnv(None)"
   ]
  },
  {
   "cell_type": "code",
   "execution_count": 103,
   "metadata": {},
   "outputs": [
    {
     "data": {
      "image/png": "[encoded data removed]",
      "text/plain": [
       "<matplotlib.figure.Figure at 0x270ef0ba1d0>"
      ]
     },
     "metadata": {},
     "output_type": "display_data"
    }
   ],
   "source": [
    "env.render()"
   ]
  },
  {
   "cell_type": "code",
   "execution_count": null,
   "metadata": {
    "collapsed": true
   },
   "outputs": [],
   "source": []
  }
 ],
 "metadata": {
  "kernelspec": {
   "display_name": "Python 3",
   "language": "python",
   "name": "python3"
  },
  "language_info": {
   "codemirror_mode": {
    "name": "ipython",
    "version": 3
   },
   "file_extension": ".py",
   "mimetype": "text/x-python",
   "name": "python",
   "nbconvert_exporter": "python",
   "pygments_lexer": "ipython3",
   "version": "3.5.4"
  }
 },
 "nbformat": 4,
 "nbformat_minor": 2
}
