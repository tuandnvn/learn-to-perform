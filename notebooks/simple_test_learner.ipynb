{
 "cells": [
  {
   "cell_type": "code",
   "execution_count": null,
   "metadata": {},
   "outputs": [
    {
     "name": "stdout",
     "output_type": "stream",
     "text": [
      "-------- Load progress model ---------\n",
      "self.inputs.shape = (?, 20, 200)  after linear layer\n",
      "output.shape = (30, 200) after LSTM\n",
      "self.output.shape = (30,) after linear\n",
      "self._targets.shape = (?,) \n",
      "model/SlideAround/linear/weight:0\n",
      "model/SlideAround/linear/bias:0\n",
      "model/SlideAround/lstm/rnn/multi_rnn_cell/cell_0/basic_lstm_cell/kernel:0\n",
      "model/SlideAround/lstm/rnn/multi_rnn_cell/cell_0/basic_lstm_cell/bias:0\n",
      "model/SlideAround/output_linear/weight:0\n",
      "model/SlideAround/output_linear/bias:0\n",
      "INFO:tensorflow:Restoring parameters from ../progress_SlideAround.mod\n"
     ]
    }
   ],
   "source": [
    "import tensorflow as tf\n",
    "import os\n",
    "import sys\n",
    "import collections\n",
    "\n",
    "module_path = os.path.abspath(os.path.join('..'))\n",
    "if module_path not in sys.path:\n",
    "    sys.path.append(module_path)\n",
    "a = os.path.join(module_path, \"strands_qsr_lib\\qsr_lib\\src3\")\n",
    "\n",
    "sys.path.append(a)\n",
    "from rl import action_learner, action_learner_search, value_estimator\n",
    "import progress_learner\n",
    "import config\n",
    "import project\n",
    "# Need to add this import to load class\n",
    "from project import Project\n",
    "from importlib import reload\n",
    "from rl import block_movement_env\n",
    "import matplotlib\n",
    "from matplotlib import pyplot as plt\n",
    "%matplotlib inline\n",
    "import plotting\n",
    "\n",
    "p = project.Project.load(\"../slidearound_project.proj\")\n",
    "\n",
    "c = config.Config()\n",
    "tf.reset_default_graph()\n",
    "\n",
    "global_step = tf.Variable(0, name=\"global_step\", trainable=False)\n",
    "\n",
    "sess =  tf.Session()\n",
    "\n",
    "with tf.variable_scope(\"search\") as scope:\n",
    "    policy_estimator = action_learner_search.PolicyEstimator(c)\n",
    "\n",
    "sess.run(tf.global_variables_initializer())\n",
    "\n",
    "with tf.variable_scope(\"model\") as scope:\n",
    "    print('-------- Load progress model ---------')\n",
    "    progress_estimator = progress_learner.EventProgressEstimator(is_training=False, name = p.name, config = c)  \n",
    "\n",
    "# Print out all variables that would be restored\n",
    "for variable in tf.get_collection(tf.GraphKeys.GLOBAL_VARIABLES, scope='model'):\n",
    "    print (variable.name)\n",
    "\n",
    "saver = tf.train.Saver(tf.get_collection(tf.GraphKeys.GLOBAL_VARIABLES, scope='model'))\n",
    "saver.restore(sess, '../progress_SlideAround.mod')"
   ]
  },
  {
   "cell_type": "code",
   "execution_count": null,
   "metadata": {},
   "outputs": [
    {
     "name": "stdout",
     "output_type": "stream",
     "text": [
      "action_level = 0\n",
      "exploration_index = 0\n",
      "[(0, 0.80531525611877441), (0, 0.78489834070205688), (0, 0.76284807920455933), (0, 0.75852584838867188), (0, 0.74978554248809814), (0, 0.74466896057128906), (0, 0.72581875324249268), (0, 0.69677233695983887), (0, 0.68087965250015259)]\n",
      "action_level = 1\n",
      "exploration_index = 0\n",
      "exploration_index = 1\n",
      "exploration_index = 2\n",
      "exploration_index = 3\n",
      "exploration_index = 4\n",
      "exploration_index = 5\n",
      "exploration_index = 6\n",
      "exploration_index = 7\n",
      "exploration_index = 8\n",
      "[(3, 0.90980225801467896), (0, 0.90687853097915649), (1, 0.90645045042037964), (7, 0.9009854793548584), (1, 0.8848954439163208), (4, 0.88090038299560547), (6, 0.87794137001037598), (5, 0.87665504217147827), (6, 0.87233680486679077)]\n",
      "action_level = 2\n",
      "exploration_index = 0\n",
      "exploration_index = 1\n"
     ]
    }
   ],
   "source": [
    "c.progress_threshold=0.93\n",
    "reload(action_learner_search)\n",
    "action_ln = action_learner_search.ActionLearner_Search(c, p, progress_estimator, session = sess)\n",
    "explorations = action_ln.learn_one_setup(verbose = True)"
   ]
  },
  {
   "cell_type": "code",
   "execution_count": null,
   "metadata": {
    "collapsed": true
   },
   "outputs": [],
   "source": []
  }
 ],
 "metadata": {
  "kernelspec": {
   "display_name": "Python 3",
   "language": "python",
   "name": "python3"
  },
  "language_info": {
   "codemirror_mode": {
    "name": "ipython",
    "version": 3
   },
   "file_extension": ".py",
   "mimetype": "text/x-python",
   "name": "python",
   "nbconvert_exporter": "python",
   "pygments_lexer": "ipython3",
   "version": "3.5.4"
  }
 },
 "nbformat": 4,
 "nbformat_minor": 2
}
