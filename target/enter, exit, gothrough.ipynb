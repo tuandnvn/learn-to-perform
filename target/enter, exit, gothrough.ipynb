{
 "cells": [
  {
   "cell_type": "code",
   "execution_count": 322,
   "metadata": {
    "collapsed": true
   },
   "outputs": [],
   "source": [
    "from random import random\n",
    "from random import randint\n",
    "from random import choice\n",
    "from numpy import array\n",
    "from numpy import zeros\n",
    "import numpy as np\n",
    "from keras.preprocessing.sequence import pad_sequences"
   ]
  },
  {
   "cell_type": "code",
   "execution_count": 990,
   "metadata": {
    "collapsed": true
   },
   "outputs": [],
   "source": [
    "from keras.models import Sequential\n",
    "from keras.layers import Conv2D\n",
    "from keras.layers import MaxPooling2D\n",
    "from keras.layers import LSTM\n",
    "from keras.layers import Dense\n",
    "from keras.layers import Flatten\n",
    "from keras.layers import TimeDistributed\n",
    "from keras.optimizers import Adam\n",
    "from keras.optimizers import RMSprop"
   ]
  },
  {
   "cell_type": "code",
   "execution_count": 1131,
   "metadata": {
    "collapsed": true
   },
   "outputs": [],
   "source": [
    "def check_in_frame ( size, pos ):\n",
    "    \"\"\"\n",
    "    Allow space around the shape\n",
    "    \"\"\"\n",
    "    if 0 <= pos[0] < size and  0 <= pos[1] < size:\n",
    "        return True\n",
    "    return False\n",
    "\n",
    "def check_in_frame_with_space ( size, pos ):\n",
    "    \"\"\"\n",
    "    Allow space around the shape\n",
    "    \"\"\"\n",
    "    if 1 <= pos[0] < size - 1 and  1 <= pos[1] < size - 1:\n",
    "        return True\n",
    "    return False\n",
    "\n",
    "class Shape ( object ):\n",
    "    \"\"\"\n",
    "    Shape is actually just a frame of size x size\n",
    "    have some imprinted grey shape\n",
    "    and a  list of inner points\n",
    "    \"\"\"\n",
    "    \n",
    "    def __init__ ( self, frame, inside_points ):\n",
    "        self.frame = frame\n",
    "        self.inside_points = inside_points\n",
    "        \n",
    "    \n",
    "def generate_u_shape ( frame, bottom, left, right, direction, position ):\n",
    "    \"\"\"\n",
    "    Impose an U shape structure on the frame, position is where you start it (top-left corner of rectangle)\n",
    "    \n",
    "    This is an U-shape with bottom = 4, left = 4, right = 3, direction = 0\n",
    "    S\n",
    "    o x x o\n",
    "    o x x o\n",
    "    o o o o\n",
    "    \n",
    "    direction = 2\n",
    "    \n",
    "    S o o o \n",
    "    o x x \n",
    "    o x x \n",
    "    o o o\n",
    "    \n",
    "    direction = 2\n",
    "    \n",
    "    S o o o\n",
    "    o x x o\n",
    "    o x x o\n",
    "    o \n",
    "    \n",
    "    # Let consider this case in a later phase\n",
    "    This is an U-shape with bottom = 4, left = 4, right = 3, direction = 1\n",
    "    \n",
    "            o\n",
    "          o\n",
    "        o x\n",
    "      o x x x\n",
    "        o x x x o\n",
    "          o x o\n",
    "            o\n",
    "    We can start with even direction first ( 0 (North), 2 (East), 4 (South), 6(West) )\n",
    "    The positions marked with x are the positions that are considered inside the U-shape\n",
    "    \n",
    "    This function returns whether imposition successes, and frame would be imposed with the U-shape\n",
    "    \n",
    "    Parameters:\n",
    "    =====================\n",
    "    frame: squared frame\n",
    "    bottom: integer value\n",
    "    left: integer value\n",
    "    right: integer value\n",
    "    direction: \n",
    "    position: tuple of 2\n",
    "    \n",
    "    Returns:\n",
    "    =====================\n",
    "    - success: whether imposition successes or not\n",
    "    - shape: contains the frame and inside points\n",
    "    \n",
    "    \"\"\"\n",
    "    size = frame.shape[0]\n",
    "    \n",
    "    if direction == 0 or direction == 4:\n",
    "        other_corner = ( position[0] + max(left, right) - 1, position[1] + bottom - 1 )\n",
    "        \n",
    "    if direction == 2 or direction == 6:\n",
    "        other_corner = ( position[0] + bottom - 1, position[1] + max(left, right) - 1 )\n",
    "\n",
    "    if not check_in_frame_with_space ( size, position) or not check_in_frame_with_space ( size, other_corner ):\n",
    "#         s = Shape ( frame, ( [], [] ) )\n",
    "        return False, ( [], [] )\n",
    "    \n",
    "    # Let's create one U-shape that has a direction == 0, than we rotate it\n",
    "    inner_shape = np.zeros((max(left, right), bottom))\n",
    "    # Left side\n",
    "    for i in range (max(left, right)):\n",
    "        inner_shape[i,0] = 1\n",
    "    \n",
    "    # Right side\n",
    "    for i in range (max(left, right) - min(left, right), max(left, right)):\n",
    "        inner_shape[i,bottom - 1] = 1\n",
    "    \n",
    "    # Bottom side\n",
    "    for i in range (bottom):\n",
    "        inner_shape[max(left, right) - 1,i] = 1\n",
    "        \n",
    "    for i in range(max(left, right) - min(left, right), max(left, right) - 1):\n",
    "        for j in range(1, bottom - 1):\n",
    "            inner_shape[i,j] = 2\n",
    "    \n",
    "    rotated_shape = np.rot90 ( inner_shape, -direction // 2 )\n",
    "    \n",
    "    \n",
    "    frame[ position[0] : position[0] + rotated_shape.shape[0], \n",
    "          position[1] : position[1] + rotated_shape.shape[1] ] = rotated_shape\n",
    "    \n",
    "    inside_points = np.where(frame == 2)\n",
    "    \n",
    "    frame[frame == 2] = 0\n",
    "    \n",
    "#     s = Shape ( frame, inside_points )\n",
    "    \n",
    "    return True, inside_points\n"
   ]
  },
  {
   "cell_type": "code",
   "execution_count": 66,
   "metadata": {
    "collapsed": true
   },
   "outputs": [],
   "source": [
    "def check_in_range (value, bottom, left, right, direction, position ):\n",
    "    \"\"\"\n",
    "    bottom, left, right, direction, position is the parameters of U-shape\n",
    "    \n",
    "    value is a coordinates (x, y)\n",
    "    \"\"\"\n",
    "    if direction == 0 or direction == 4:\n",
    "        if position[0] <= value[0] <= position[0] + max(left, right) and position[1] <= value[1] <= position[1] + bottom:\n",
    "            return True\n",
    "    \n",
    "    if direction == 2 or direction == 6:\n",
    "        if position[0] <= value[0] <= position[0] + bottom and position[1] <= value[1] <= position[1] +  max(left, right):\n",
    "            return True\n",
    "    \n",
    "    return False"
   ]
  },
  {
   "cell_type": "code",
   "execution_count": 55,
   "metadata": {
    "collapsed": false
   },
   "outputs": [
    {
     "data": {
      "text/plain": [
       "(array([0, 0, 0, 1, 1, 1], dtype=int64),\n",
       " array([0, 1, 2, 0, 1, 2], dtype=int64))"
      ]
     },
     "execution_count": 55,
     "metadata": {},
     "output_type": "execute_result"
    }
   ],
   "source": [
    "a = np.ones((2,3))\n",
    "np.where(a == 1)"
   ]
  },
  {
   "cell_type": "code",
   "execution_count": 58,
   "metadata": {
    "collapsed": false
   },
   "outputs": [
    {
     "data": {
      "text/plain": [
       "(True, (array([6, 6, 7, 7], dtype=int64), array([5, 6, 5, 6], dtype=int64)))"
      ]
     },
     "execution_count": 58,
     "metadata": {},
     "output_type": "execute_result"
    }
   ],
   "source": [
    "f = zeros ((10, 10))\n",
    "generate_u_shape (f , 4, 4, 3, 4, (5,4) )"
   ]
  },
  {
   "cell_type": "code",
   "execution_count": 59,
   "metadata": {
    "collapsed": false
   },
   "outputs": [
    {
     "data": {
      "text/plain": [
       "array([[0., 0., 0., 0., 0., 0., 0., 0., 0., 0.],\n",
       "       [0., 0., 0., 0., 0., 0., 0., 0., 0., 0.],\n",
       "       [0., 0., 0., 0., 0., 0., 0., 0., 0., 0.],\n",
       "       [0., 0., 0., 0., 0., 0., 0., 0., 0., 0.],\n",
       "       [0., 0., 0., 0., 0., 0., 0., 0., 0., 0.],\n",
       "       [0., 0., 0., 0., 1., 1., 1., 1., 0., 0.],\n",
       "       [0., 0., 0., 0., 1., 0., 0., 1., 0., 0.],\n",
       "       [0., 0., 0., 0., 1., 0., 0., 1., 0., 0.],\n",
       "       [0., 0., 0., 0., 0., 0., 0., 1., 0., 0.],\n",
       "       [0., 0., 0., 0., 0., 0., 0., 0., 0., 0.]])"
      ]
     },
     "execution_count": 59,
     "metadata": {},
     "output_type": "execute_result"
    }
   ],
   "source": [
    "f"
   ]
  },
  {
   "cell_type": "code",
   "execution_count": 861,
   "metadata": {
    "collapsed": true
   },
   "outputs": [],
   "source": [
    "def generate_u_shape_frame ( size, bottom_range = list(range(3,5)), \n",
    "                  left_range = list(range(3,5)), right_range = list(range(3,5)), \n",
    "                  direction_range = list(range(0,8,2)) ):\n",
    "    frame = zeros((size, size))\n",
    "    \n",
    "    # You random a value in those range to add into the frame\n",
    "    # You also\n",
    "    bottom = choice(bottom_range)\n",
    "    left = choice(left_range)\n",
    "    right = choice(right_range)\n",
    "    direction = choice(direction_range)\n",
    "    while True:\n",
    "        position_x = randint ( 0, size - 1 )\n",
    "        position_y = randint ( 0, size - 1 )\n",
    "        position = (position_x, position_y)\n",
    "\n",
    "        success, inner_list = generate_u_shape  ( frame, bottom, left, right, direction, position )\n",
    "        \n",
    "        if success : \n",
    "            break\n",
    "    \n",
    "    # Random outer position for moving point\n",
    "    while True:\n",
    "        pos_start_x = randint ( 0, size - 1 )\n",
    "        pos_start_y = randint ( 0, size - 1 )\n",
    "        \n",
    "        pos_start = (pos_start_x, pos_start_y)\n",
    "        \n",
    "        # Just need to be out of the rectangle\n",
    "        if check_in_range ( pos_start, bottom, left, right, direction, position ):\n",
    "            continue\n",
    "            \n",
    "        break\n",
    "    \n",
    "    # Random inner position for moving point\n",
    "    index = randint ( 0, len(inner_list[0]) - 1 )\n",
    "    pos_end = (inner_list[0][index], inner_list[1][index])\n",
    "    \n",
    "    return frame, pos_start, pos_end"
   ]
  },
  {
   "cell_type": "code",
   "execution_count": 381,
   "metadata": {
    "collapsed": true
   },
   "outputs": [],
   "source": [
    "frame, pos_start, pos_end = generate_u_shape_frame ( 10 )"
   ]
  },
  {
   "cell_type": "code",
   "execution_count": 382,
   "metadata": {
    "collapsed": false
   },
   "outputs": [
    {
     "data": {
      "text/plain": [
       "array([[0., 0., 0., 0., 0., 0., 0., 0., 0., 0.],\n",
       "       [0., 0., 0., 0., 0., 0., 0., 0., 0., 0.],\n",
       "       [0., 0., 0., 0., 0., 0., 0., 0., 0., 0.],\n",
       "       [0., 0., 0., 0., 0., 0., 0., 0., 0., 0.],\n",
       "       [0., 0., 0., 0., 0., 0., 0., 0., 0., 0.],\n",
       "       [0., 0., 0., 0., 1., 1., 1., 0., 0., 0.],\n",
       "       [0., 0., 0., 0., 0., 0., 1., 0., 0., 0.],\n",
       "       [0., 0., 0., 0., 0., 0., 1., 0., 0., 0.],\n",
       "       [0., 0., 0., 0., 1., 1., 1., 0., 0., 0.],\n",
       "       [0., 0., 0., 0., 0., 0., 0., 0., 0., 0.]])"
      ]
     },
     "execution_count": 382,
     "metadata": {},
     "output_type": "execute_result"
    }
   ],
   "source": [
    "frame"
   ]
  },
  {
   "cell_type": "code",
   "execution_count": 131,
   "metadata": {
    "collapsed": false
   },
   "outputs": [
    {
     "data": {
      "text/plain": [
       "(7, 9)"
      ]
     },
     "execution_count": 131,
     "metadata": {},
     "output_type": "execute_result"
    }
   ],
   "source": [
    "pos_start"
   ]
  },
  {
   "cell_type": "code",
   "execution_count": 135,
   "metadata": {
    "collapsed": false
   },
   "outputs": [
    {
     "data": {
      "text/plain": [
       "(4, 4)"
      ]
     },
     "execution_count": 135,
     "metadata": {},
     "output_type": "execute_result"
    }
   ],
   "source": [
    "pos_end"
   ]
  },
  {
   "cell_type": "code",
   "execution_count": 138,
   "metadata": {
    "collapsed": true
   },
   "outputs": [],
   "source": [
    "def get_neighbors ( size, pos ):\n",
    "    neighbors = []\n",
    "    for i in range(-1, 2):\n",
    "        for j in range(-1, 2):\n",
    "            if (i == 0 or j == 0) and not i == j == 0:\n",
    "                new_pos = (pos[0] + i, pos[1] + j)\n",
    "                if check_in_frame ( size, new_pos ):\n",
    "                    neighbors.append(new_pos)\n",
    "    return neighbors\n",
    "    \n",
    "\n",
    "def generate_path ( frame, pos_start, pos_end ):\n",
    "    size = frame.shape[0]\n",
    "    # Keep track of the previous cell that has been expanded to\n",
    "    parent = {}\n",
    "    \n",
    "    ### There is nothing too difficult here, we run overflow algorithm to cover the space\n",
    "    f = frame.copy()\n",
    "    f[pos_start] = 2\n",
    "    f[pos_end] = 3\n",
    "    \n",
    "    explore_list = [ pos_start ]\n",
    "    \n",
    "    def search ( l ):\n",
    "        while l:\n",
    "            # Get the shortest path to the pos_end\n",
    "            new_explore_list = []\n",
    "\n",
    "            for pos in l:\n",
    "                for n in get_neighbors( size, pos ):\n",
    "                    if f[n] == 3:\n",
    "                        # Found\n",
    "                        parent[n] = pos\n",
    "                        return\n",
    "                    if f[n] == 0:\n",
    "                        # Add into new list\n",
    "                        new_explore_list.append(n)\n",
    "                        parent[n] = pos\n",
    "                        # 4 is marked\n",
    "                        f[n] = 4\n",
    "            l = new_explore_list\n",
    "        \n",
    "    \n",
    "    search ( explore_list )\n",
    "    cur = pos_end\n",
    "    \n",
    "    path = []\n",
    "    while cur in parent:\n",
    "        path.append(cur)\n",
    "        cur = parent[cur]\n",
    "    \n",
    "    path.append(cur)\n",
    "    return path[::-1]"
   ]
  },
  {
   "cell_type": "code",
   "execution_count": 139,
   "metadata": {
    "collapsed": false
   },
   "outputs": [
    {
     "data": {
      "text/plain": [
       "[(7, 9), (6, 9), (5, 9), (4, 9), (4, 8), (4, 7), (4, 6), (4, 5), (4, 4)]"
      ]
     },
     "execution_count": 139,
     "metadata": {},
     "output_type": "execute_result"
    }
   ],
   "source": [
    "generate_path ( frame, pos_start, pos_end )"
   ]
  },
  {
   "cell_type": "code",
   "execution_count": 349,
   "metadata": {
    "collapsed": true
   },
   "outputs": [],
   "source": [
    "def build_frames(size, env_generator ):\n",
    "    frames = list()\n",
    "    # create the first frame\n",
    "    frame, pos_start, pos_end = env_generator ( size )\n",
    "    \n",
    "    # If it is enter (enter = 1): start with pos_start, end with pos_end\n",
    "    # If it is exit (exit = 1): start with pos_end, end with pos_start\n",
    "    r = random()\n",
    "    print (r)\n",
    "    enter = 1 if r < 0.5 else 0\n",
    "    \n",
    "    if enter == 0:\n",
    "        pos_start, pos_end = (pos_end, pos_start)\n",
    "        \n",
    "    path = generate_path ( frame, pos_start, pos_end )\n",
    "    \n",
    "    for step in path:\n",
    "        f = frame.copy()\n",
    "        f[step] = 1\n",
    "        frames.append(f)\n",
    "        \n",
    "    return frames, enter"
   ]
  },
  {
   "cell_type": "code",
   "execution_count": 160,
   "metadata": {
    "collapsed": true
   },
   "outputs": [],
   "source": [
    "from matplotlib import pyplot"
   ]
  },
  {
   "cell_type": "code",
   "execution_count": 383,
   "metadata": {
    "collapsed": false
   },
   "outputs": [
    {
     "name": "stdout",
     "output_type": "stream",
     "text": [
      "0.43449652360631996\n",
      "Enter\n",
      "15\n"
     ]
    },
    {
     "data": {
      "image/png": "[encoded data removed]",
      "text/plain": [
       "<matplotlib.figure.Figure at 0x1d6e102a320>"
      ]
     },
     "metadata": {},
     "output_type": "display_data"
    }
   ],
   "source": [
    "size = 12\n",
    "frames, enter = build_frames(size, lambda size: generate_u_shape_frame(size, bottom_range = list(range(3,6)), \n",
    "                  left_range = list(range(3,6)), right_range = list(range(3,6)) ))\n",
    "if enter == 1:\n",
    "    print ('Enter')\n",
    "else:\n",
    "    print ('Exit')\n",
    "    \n",
    "print (len(frames))\n",
    "# plot all frames\n",
    "pyplot.figure()\n",
    "for i in range(len(frames)):\n",
    "    # create a gray scale subplot for each frame\n",
    "    pyplot.subplot(1, len(frames), i + 1)\n",
    "    pyplot.imshow(frames[i], cmap='Greys')\n",
    "    # turn of the scale to make it clearer\n",
    "    ax = pyplot.gca()\n",
    "    ax.get_xaxis().set_visible(False)\n",
    "    ax.get_yaxis().set_visible(False)\n",
    "# show the plot\n",
    "pyplot.show()"
   ]
  },
  {
   "cell_type": "code",
   "execution_count": 660,
   "metadata": {
    "collapsed": true
   },
   "outputs": [],
   "source": [
    "def pad_frames ( frames, length, padding_start = False  ):\n",
    "    if len(frames) > length:\n",
    "        \"\"\"\n",
    "        Randomly drop some frames, just not the first and last ones\n",
    "        \"\"\"\n",
    "        while len(frames) > length:\n",
    "            drop_index = randint(1, len(frames) - 2)\n",
    "            frames.pop(drop_index)\n",
    "            \n",
    "    if len(frames) < length:\n",
    "        if padding_start:\n",
    "            frames = [frames[0]] * (length - len(frames)) + frames\n",
    "        else:\n",
    "            frames = frames + [frames[-1]] * (length - len(frames))\n",
    "    return frames"
   ]
  },
  {
   "cell_type": "code",
   "execution_count": 766,
   "metadata": {
    "collapsed": true
   },
   "outputs": [],
   "source": [
    "def build_frames_pad(size, length, env_generator, padding_start = False, enter = None ):\n",
    "    \"\"\"\n",
    "    Limit the length of the session, or adding cloned frame if needed\n",
    "    \"\"\"\n",
    "    frames = list()\n",
    "    # create the first frame\n",
    "    frame, pos_start, pos_end = env_generator ( size )\n",
    "    if frame is None:\n",
    "        return None, None, None\n",
    "    \n",
    "    if enter is None:\n",
    "        \"\"\"\n",
    "        enter hasn't been set, randomize it\n",
    "        \"\"\"\n",
    "        # If it is enter (enter = 1): start with pos_start, end with pos_end\n",
    "        # If it is exit (exit = 1): start with pos_end, end with pos_start\n",
    "        r = random()\n",
    "        enter = 1 if r < 0.5 else 0\n",
    "    \n",
    "    if enter == 0:\n",
    "        pos_start, pos_end = (pos_end, pos_start)\n",
    "        \n",
    "    path = generate_path ( frame, pos_start, pos_end )\n",
    "    \n",
    "    for step in path:\n",
    "        f = frame.copy()\n",
    "        f[step] = 4\n",
    "        frames.append(f)\n",
    "        \n",
    "    real_len = len(frames)\n",
    "    \n",
    "    if padding_start is not None:\n",
    "        frames = pad_frames ( frames, length, padding_start )\n",
    "        \n",
    "    return frames, enter, real_len"
   ]
  },
  {
   "cell_type": "code",
   "execution_count": 656,
   "metadata": {
    "collapsed": true
   },
   "outputs": [],
   "source": [
    "frames, enter, real_len = build_frames_pad(size, 10, lambda size: generate_u_shape_frame(size, bottom_range = list(range(3,6)), \n",
    "                  left_range = list(range(3,6)), right_range = list(range(3,6)) ))"
   ]
  },
  {
   "cell_type": "code",
   "execution_count": 592,
   "metadata": {
    "collapsed": false
   },
   "outputs": [
    {
     "name": "stdout",
     "output_type": "stream",
     "text": [
      "10\n"
     ]
    }
   ],
   "source": [
    "print (len(frames))"
   ]
  },
  {
   "cell_type": "code",
   "execution_count": 787,
   "metadata": {
    "collapsed": true
   },
   "outputs": [],
   "source": [
    "def plot( sample , l = None):\n",
    "    if l is None:\n",
    "        l = len (sample)\n",
    "    sample = array(sample)\n",
    "    sample = sample.reshape(sample.shape[0], sample.shape[1], sample.shape[2], 1)\n",
    "    pyplot.figure()\n",
    "    for i in range(len(sample)):\n",
    "        # create a gray scale subplot for each frame\n",
    "        pyplot.subplot(1, l, i + 1)\n",
    "        pyplot.imshow(sample[i,:,:,0], cmap='Greys')\n",
    "        # turn of the scale to make it clearer\n",
    "        ax = pyplot.gca()\n",
    "        ax.get_xaxis().set_visible(False)\n",
    "        ax.get_yaxis().set_visible(False)\n",
    "    # show the plot\n",
    "    pyplot.show()"
   ]
  },
  {
   "cell_type": "code",
   "execution_count": 668,
   "metadata": {
    "collapsed": true
   },
   "outputs": [],
   "source": [
    "# generate multiple sequences of frames and reshape for network input\n",
    "def generate_examples(size, length, n_patterns, env_generator):\n",
    "    X, y = list(), list()\n",
    "    while len(X) < n_patterns:\n",
    "        frames, enter, real_len = build_frames_pad(size, length, env_generator)\n",
    "        if not frames is None:\n",
    "            X.append(frames)\n",
    "            y.append(enter)\n",
    "    \n",
    "    # resize as [samples, timesteps, width, height, channels]\n",
    "    X = array(X).reshape(n_patterns, length, size, size, 1)\n",
    "    y = array(y).reshape(n_patterns, 1)\n",
    "    return X, y"
   ]
  },
  {
   "cell_type": "code",
   "execution_count": 669,
   "metadata": {
    "collapsed": true
   },
   "outputs": [],
   "source": [
    "X, y = generate_examples(12, 15, 100, shape_generator)"
   ]
  },
  {
   "cell_type": "code",
   "execution_count": 791,
   "metadata": {
    "collapsed": true
   },
   "outputs": [],
   "source": [
    "def plot_big(sample):\n",
    "    for i in range( len(sample) // 5 + 1):\n",
    "        plot(sample[5 * i:min(len(sample), 5 * i + 5)], l = 5)"
   ]
  },
  {
   "cell_type": "code",
   "execution_count": 684,
   "metadata": {
    "collapsed": false
   },
   "outputs": [
    {
     "data": {
      "text/plain": [
       "array([[0.   ],\n",
       "       [0.125],\n",
       "       [0.25 ],\n",
       "       [0.375],\n",
       "       [0.5  ],\n",
       "       [0.625],\n",
       "       [0.75 ],\n",
       "       [0.875],\n",
       "       [1.   ],\n",
       "       [1.   ],\n",
       "       [1.   ],\n",
       "       [1.   ],\n",
       "       [1.   ],\n",
       "       [1.   ],\n",
       "       [1.   ]])"
      ]
     },
     "execution_count": 684,
     "metadata": {},
     "output_type": "execute_result"
    }
   ],
   "source": [
    "y_progress[t]"
   ]
  },
  {
   "cell_type": "code",
   "execution_count": 287,
   "metadata": {
    "collapsed": false
   },
   "outputs": [
    {
     "name": "stdout",
     "output_type": "stream",
     "text": [
      "(20000, 15, 12, 12, 1)\n"
     ]
    }
   ],
   "source": [
    "print (X.shape)"
   ]
  },
  {
   "cell_type": "code",
   "execution_count": 991,
   "metadata": {
    "collapsed": false
   },
   "outputs": [
    {
     "name": "stdout",
     "output_type": "stream",
     "text": [
      "_________________________________________________________________\n",
      "Layer (type)                 Output Shape              Param #   \n",
      "=================================================================\n",
      "time_distributed_230 (TimeDi (None, None, 11, 11, 4)   20        \n",
      "_________________________________________________________________\n",
      "time_distributed_231 (TimeDi (None, None, 5, 5, 4)     0         \n",
      "_________________________________________________________________\n",
      "time_distributed_232 (TimeDi (None, None, 4, 4, 4)     68        \n",
      "_________________________________________________________________\n",
      "time_distributed_233 (TimeDi (None, None, 2, 2, 4)     0         \n",
      "_________________________________________________________________\n",
      "time_distributed_234 (TimeDi (None, None, 16)          0         \n",
      "_________________________________________________________________\n",
      "lstm_50 (LSTM)               (None, 100)               46800     \n",
      "_________________________________________________________________\n",
      "dense_47 (Dense)             (None, 1)                 101       \n",
      "=================================================================\n",
      "Total params: 46,989\n",
      "Trainable params: 46,989\n",
      "Non-trainable params: 0\n",
      "_________________________________________________________________\n",
      "None\n"
     ]
    },
    {
     "ename": "ValueError",
     "evalue": "Input arrays should have the same number of samples as target arrays. Found 3 input samples and 100 target samples.",
     "output_type": "error",
     "traceback": [
      "\u001b[1;31m---------------------------------------------------------------------------\u001b[0m",
      "\u001b[1;31mValueError\u001b[0m                                Traceback (most recent call last)",
      "\u001b[1;32m<ipython-input-991-0c667228c23d>\u001b[0m in \u001b[0;36m<module>\u001b[1;34m()\u001b[0m\n\u001b[0;32m     21\u001b[0m \u001b[1;33m\u001b[0m\u001b[0m\n\u001b[0;32m     22\u001b[0m \u001b[0mc\u001b[0m \u001b[1;33m=\u001b[0m \u001b[0mClassifier\u001b[0m \u001b[1;33m(\u001b[0m\u001b[1;33m)\u001b[0m\u001b[1;33m\u001b[0m\u001b[0m\n\u001b[1;32m---> 23\u001b[1;33m \u001b[0mc\u001b[0m\u001b[1;33m.\u001b[0m\u001b[0mmodel\u001b[0m\u001b[1;33m.\u001b[0m\u001b[0mfit\u001b[0m\u001b[1;33m(\u001b[0m\u001b[0mX\u001b[0m\u001b[1;33m,\u001b[0m \u001b[0my\u001b[0m\u001b[1;33m,\u001b[0m \u001b[0mbatch_size\u001b[0m\u001b[1;33m=\u001b[0m\u001b[1;36m50\u001b[0m\u001b[1;33m,\u001b[0m \u001b[0mepochs\u001b[0m\u001b[1;33m=\u001b[0m\u001b[1;36m1\u001b[0m\u001b[1;33m)\u001b[0m\u001b[1;33m\u001b[0m\u001b[0m\n\u001b[0m",
      "\u001b[1;32mC:\\Anaconda3\\envs\\tensorflow\\lib\\site-packages\\keras\\models.py\u001b[0m in \u001b[0;36mfit\u001b[1;34m(self, x, y, batch_size, epochs, verbose, callbacks, validation_split, validation_data, shuffle, class_weight, sample_weight, initial_epoch, steps_per_epoch, validation_steps, **kwargs)\u001b[0m\n\u001b[0;32m    963\u001b[0m                               \u001b[0minitial_epoch\u001b[0m\u001b[1;33m=\u001b[0m\u001b[0minitial_epoch\u001b[0m\u001b[1;33m,\u001b[0m\u001b[1;33m\u001b[0m\u001b[0m\n\u001b[0;32m    964\u001b[0m                               \u001b[0msteps_per_epoch\u001b[0m\u001b[1;33m=\u001b[0m\u001b[0msteps_per_epoch\u001b[0m\u001b[1;33m,\u001b[0m\u001b[1;33m\u001b[0m\u001b[0m\n\u001b[1;32m--> 965\u001b[1;33m                               validation_steps=validation_steps)\n\u001b[0m\u001b[0;32m    966\u001b[0m \u001b[1;33m\u001b[0m\u001b[0m\n\u001b[0;32m    967\u001b[0m     def evaluate(self, x=None, y=None,\n",
      "\u001b[1;32mC:\\Anaconda3\\envs\\tensorflow\\lib\\site-packages\\keras\\engine\\training.py\u001b[0m in \u001b[0;36mfit\u001b[1;34m(self, x, y, batch_size, epochs, verbose, callbacks, validation_split, validation_data, shuffle, class_weight, sample_weight, initial_epoch, steps_per_epoch, validation_steps, **kwargs)\u001b[0m\n\u001b[0;32m   1591\u001b[0m             \u001b[0mclass_weight\u001b[0m\u001b[1;33m=\u001b[0m\u001b[0mclass_weight\u001b[0m\u001b[1;33m,\u001b[0m\u001b[1;33m\u001b[0m\u001b[0m\n\u001b[0;32m   1592\u001b[0m             \u001b[0mcheck_batch_axis\u001b[0m\u001b[1;33m=\u001b[0m\u001b[1;32mFalse\u001b[0m\u001b[1;33m,\u001b[0m\u001b[1;33m\u001b[0m\u001b[0m\n\u001b[1;32m-> 1593\u001b[1;33m             batch_size=batch_size)\n\u001b[0m\u001b[0;32m   1594\u001b[0m         \u001b[1;31m# Prepare validation data.\u001b[0m\u001b[1;33m\u001b[0m\u001b[1;33m\u001b[0m\u001b[0m\n\u001b[0;32m   1595\u001b[0m         \u001b[0mdo_validation\u001b[0m \u001b[1;33m=\u001b[0m \u001b[1;32mFalse\u001b[0m\u001b[1;33m\u001b[0m\u001b[0m\n",
      "\u001b[1;32mC:\\Anaconda3\\envs\\tensorflow\\lib\\site-packages\\keras\\engine\\training.py\u001b[0m in \u001b[0;36m_standardize_user_data\u001b[1;34m(self, x, y, sample_weight, class_weight, check_batch_axis, batch_size)\u001b[0m\n\u001b[0;32m   1436\u001b[0m                           \u001b[1;32mfor\u001b[0m \u001b[1;33m(\u001b[0m\u001b[0mref\u001b[0m\u001b[1;33m,\u001b[0m \u001b[0msw\u001b[0m\u001b[1;33m,\u001b[0m \u001b[0mcw\u001b[0m\u001b[1;33m,\u001b[0m \u001b[0mmode\u001b[0m\u001b[1;33m)\u001b[0m\u001b[1;33m\u001b[0m\u001b[0m\n\u001b[0;32m   1437\u001b[0m                           in zip(y, sample_weights, class_weights, self._feed_sample_weight_modes)]\n\u001b[1;32m-> 1438\u001b[1;33m         \u001b[0m_check_array_lengths\u001b[0m\u001b[1;33m(\u001b[0m\u001b[0mx\u001b[0m\u001b[1;33m,\u001b[0m \u001b[0my\u001b[0m\u001b[1;33m,\u001b[0m \u001b[0msample_weights\u001b[0m\u001b[1;33m)\u001b[0m\u001b[1;33m\u001b[0m\u001b[0m\n\u001b[0m\u001b[0;32m   1439\u001b[0m         _check_loss_and_target_compatibility(y,\n\u001b[0;32m   1440\u001b[0m                                              \u001b[0mself\u001b[0m\u001b[1;33m.\u001b[0m\u001b[0m_feed_loss_fns\u001b[0m\u001b[1;33m,\u001b[0m\u001b[1;33m\u001b[0m\u001b[0m\n",
      "\u001b[1;32mC:\\Anaconda3\\envs\\tensorflow\\lib\\site-packages\\keras\\engine\\training.py\u001b[0m in \u001b[0;36m_check_array_lengths\u001b[1;34m(inputs, targets, weights)\u001b[0m\n\u001b[0;32m    215\u001b[0m                          \u001b[1;34m'the same number of samples as target arrays. '\u001b[0m\u001b[1;33m\u001b[0m\u001b[0m\n\u001b[0;32m    216\u001b[0m                          \u001b[1;34m'Found '\u001b[0m \u001b[1;33m+\u001b[0m \u001b[0mstr\u001b[0m\u001b[1;33m(\u001b[0m\u001b[0mlist\u001b[0m\u001b[1;33m(\u001b[0m\u001b[0mset_x\u001b[0m\u001b[1;33m)\u001b[0m\u001b[1;33m[\u001b[0m\u001b[1;36m0\u001b[0m\u001b[1;33m]\u001b[0m\u001b[1;33m)\u001b[0m \u001b[1;33m+\u001b[0m \u001b[1;34m' input samples '\u001b[0m\u001b[1;33m\u001b[0m\u001b[0m\n\u001b[1;32m--> 217\u001b[1;33m                          'and ' + str(list(set_y)[0]) + ' target samples.')\n\u001b[0m\u001b[0;32m    218\u001b[0m     \u001b[1;32mif\u001b[0m \u001b[0mlen\u001b[0m\u001b[1;33m(\u001b[0m\u001b[0mset_w\u001b[0m\u001b[1;33m)\u001b[0m \u001b[1;33m>\u001b[0m \u001b[1;36m1\u001b[0m\u001b[1;33m:\u001b[0m\u001b[1;33m\u001b[0m\u001b[0m\n\u001b[0;32m    219\u001b[0m         raise ValueError('All sample_weight arrays should have '\n",
      "\u001b[1;31mValueError\u001b[0m: Input arrays should have the same number of samples as target arrays. Found 3 input samples and 100 target samples."
     ]
    }
   ],
   "source": [
    "# configure problem\n",
    "# define the model\n",
    "class Classifier ( object ):\n",
    "    def __init__ (self):\n",
    "        self.model = Sequential()\n",
    "        self.model.add(TimeDistributed(Conv2D(4, (2,2), activation='relu'),\n",
    "        input_shape=(None,size,size,1)))\n",
    "        self.model.add(TimeDistributed(MaxPooling2D(pool_size=(2, 2))))\n",
    "        self.model.add(TimeDistributed(Conv2D(4, (2,2), activation='relu'),\n",
    "        input_shape=(None,size,size,1)))\n",
    "        self.model.add(TimeDistributed(MaxPooling2D(pool_size=(2, 2))))\n",
    "        self.model.add(TimeDistributed(Flatten()))\n",
    "\n",
    "        self.model.add(LSTM(100))\n",
    "        self.model.add(Dense(1, activation='sigmoid'))\n",
    "\n",
    "        opt = Adam(lr=0.001, beta_1=0.9, beta_2=0.999, epsilon=None, decay=0.01, amsgrad=False)\n",
    "        \n",
    "        self.model.compile(loss='binary_crossentropy', optimizer = opt , metrics=['acc'])\n",
    "        print(self.model.summary())\n",
    "\n",
    "c = Classifier ()\n",
    "c.model.fit(X, y, batch_size=50, epochs=1)"
   ]
  },
  {
   "cell_type": "code",
   "execution_count": 598,
   "metadata": {
    "collapsed": false
   },
   "outputs": [
    {
     "name": "stdout",
     "output_type": "stream",
     "text": [
      "loss: 0.100671, acc: 96.000000\n",
      "Expected: Enter, Predicted: Enter\n"
     ]
    }
   ],
   "source": [
    "shape_generator = lambda size: generate_u_shape_frame(size, bottom_range = list(range(3,6)), \n",
    "                  left_range = list(range(3,6)), right_range = list(range(3,6)) )\n",
    "# evaluate model\n",
    "X_evaluate, y_evaluate = generate_examples(size, 15, 100, shape_generator)\n",
    "loss, acc = model.evaluate(X_evaluate, y_evaluate, verbose=0)\n",
    "print('loss: %f, acc: %f' % (loss, acc*100))\n",
    "# prediction on new data\n",
    "X_test, y_test = generate_examples(size, 15, 1, shape_generator)\n",
    "yhat = model.predict_classes(X_test, verbose=0)\n",
    "expected = \"Enter\" if y_test[0]==1 else \"Exit\"\n",
    "predicted = \"Enter\" if yhat[0]==1 else \"Exit\"\n",
    "print('Expected: %s, Predicted: %s' % (expected, predicted))"
   ]
  },
  {
   "cell_type": "code",
   "execution_count": 323,
   "metadata": {
    "collapsed": false
   },
   "outputs": [
    {
     "data": {
      "image/png": "[encoded data removed]",
      "text/plain": [
       "<matplotlib.figure.Figure at 0x1d6df76da90>"
      ]
     },
     "metadata": {},
     "output_type": "display_data"
    }
   ],
   "source": [
    "plot(X_evaluate[0])"
   ]
  },
  {
   "cell_type": "code",
   "execution_count": 721,
   "metadata": {
    "collapsed": true
   },
   "outputs": [],
   "source": [
    "# generate multiple sequences of frames and reshape for network input\n",
    "def generate_example_progress(size, length, n_patterns, env_generator, enter = True ):\n",
    "    \"\"\"\n",
    "    size: size of the problem (size of image)\n",
    "    \"\"\"\n",
    "    X, y = list(), list()\n",
    "    while len(X) < n_patterns:\n",
    "        frames, _, real_len = build_frames_pad(size, length, env_generator, padding_start = None, enter = enter)\n",
    "        if not frames is None:\n",
    "            X.append(frames)\n",
    "            \n",
    "            if real_len < len(frames):\n",
    "                progress = np.concatenate ( [ np.linspace(0, 1, num=real_len) , [1] * ( len(frames) - real_len ) ] )\n",
    "            else:\n",
    "                progress = np.linspace(0, 1, num=len(frames))\n",
    "            y.append(progress)\n",
    "    \n",
    "    # resize as [samples, timesteps, width, height, channels]\n",
    "\n",
    "    X = array(X).reshape(n_patterns, length, size, size, 1)\n",
    "    y = array(y).reshape(n_patterns, length, 1)\n",
    "    return X, y"
   ]
  },
  {
   "cell_type": "code",
   "execution_count": 727,
   "metadata": {
    "collapsed": true
   },
   "outputs": [],
   "source": [
    "from collections import defaultdict\n",
    "def generate_example_progress_diff_len(size, length, n_patterns, env_generator, enter = True ):\n",
    "    \"\"\"\n",
    "    Same as generate_example_progress but return different List of X,y for different length\n",
    "    \"\"\"\n",
    "    X, y = defaultdict(list), defaultdict(list)\n",
    "    \n",
    "    total = 0\n",
    "    while total < n_patterns:\n",
    "        frames, _, real_len = build_frames_pad(size, length, env_generator, padding_start = None, enter = enter)\n",
    "        if not frames is None:\n",
    "            progress = np.linspace(0, 1, num=len(frames))\n",
    "                \n",
    "            X[len(frames)].append(frames)\n",
    "            y[len(frames)].append(progress)\n",
    "            total += 1\n",
    "    \n",
    "    for key in X:\n",
    "        # resize as [samples, timesteps, width, height, channels]\n",
    "        X[key] = array(X[key]).reshape(len(X[key]), key, size, size, 1)\n",
    "        y[key] = array(y[key]).reshape(len(y[key]), key, 1)\n",
    "    \n",
    "    samples = []\n",
    "    for key in sorted(X.keys()):\n",
    "        samples.append( (X[key], y[key] ) )\n",
    "        \n",
    "    return samples"
   ]
  },
  {
   "cell_type": "code",
   "execution_count": 708,
   "metadata": {
    "collapsed": true
   },
   "outputs": [],
   "source": [
    "X, y_progress = generate_example_progress(12, 15, 20000, shape_generator)"
   ]
  },
  {
   "cell_type": "code",
   "execution_count": 1158,
   "metadata": {
    "collapsed": true
   },
   "outputs": [],
   "source": [
    "samples = generate_example_progress_diff_len(12, 15, 50000, shape_generator)"
   ]
  },
  {
   "cell_type": "code",
   "execution_count": 879,
   "metadata": {
    "collapsed": true
   },
   "outputs": [],
   "source": [
    "import math\n",
    "def generate_negative_sample ( sample_X, sample_Y ):\n",
    "    \"\"\"\n",
    "    For data (frames) of a sample, generate a negative sample, which is a \"divergence\"\n",
    "    of the original positive sample.\n",
    "    Let's do the simplest form, which just walk backward after we have run for half the distance\n",
    "    \n",
    "    Parameters:\n",
    "    - sample_X ( len, size, size, 1 )\n",
    "    - sample_Y ( len, 1)    \n",
    "    \"\"\"\n",
    "    # Should equal sample_Y.shape[0] as well\n",
    "    l = sample_X.shape[0]\n",
    "    \n",
    "    ceil = int( math.ceil ( l / 2 ))\n",
    "    floor = int( math.floor ( l / 2 ))\n",
    "    \n",
    "    # I need to diverge from the current direction\n",
    "    # The simplest thing is to walk backward\n",
    "    \n",
    "    new_sample_X = np.concatenate( [ sample_X[:ceil, :, :, :], sample_X[floor: 0 : -1, :, :, :] ] )\n",
    "    new_sample_Y = np.concatenate( [ sample_Y[:ceil, :], sample_Y[floor: 0 : -1, :] ] )\n",
    "    \n",
    "    return (new_sample_X, new_sample_Y)"
   ]
  },
  {
   "cell_type": "code",
   "execution_count": 867,
   "metadata": {
    "collapsed": false
   },
   "outputs": [
    {
     "name": "stdout",
     "output_type": "stream",
     "text": [
      "[7, 6, 5]\n"
     ]
    }
   ],
   "source": [
    "a = [ 2,3,4,5,6,7]\n",
    "print (a[-1:2:-1])"
   ]
  },
  {
   "cell_type": "code",
   "execution_count": 1178,
   "metadata": {
    "collapsed": false
   },
   "outputs": [
    {
     "name": "stdout",
     "output_type": "stream",
     "text": [
      "_________________________________________________________________\n",
      "Layer (type)                 Output Shape              Param #   \n",
      "=================================================================\n",
      "time_distributed_255 (TimeDi (None, None, 11, 11, 4)   20        \n",
      "_________________________________________________________________\n",
      "time_distributed_256 (TimeDi (None, None, 5, 5, 4)     0         \n",
      "_________________________________________________________________\n",
      "time_distributed_257 (TimeDi (None, None, 4, 4, 4)     68        \n",
      "_________________________________________________________________\n",
      "time_distributed_258 (TimeDi (None, None, 2, 2, 4)     0         \n",
      "_________________________________________________________________\n",
      "time_distributed_259 (TimeDi (None, None, 16)          0         \n",
      "_________________________________________________________________\n",
      "lstm_55 (LSTM)               (None, None, 100)         46800     \n",
      "_________________________________________________________________\n",
      "dense_52 (Dense)             (None, None, 1)           101       \n",
      "=================================================================\n",
      "Total params: 46,989\n",
      "Trainable params: 46,989\n",
      "Non-trainable params: 0\n",
      "_________________________________________________________________\n",
      "None\n"
     ]
    }
   ],
   "source": [
    "class Progress ( object ):\n",
    "    def __init__ (self):\n",
    "        self.model = Sequential()\n",
    "        self.model.add(TimeDistributed(Conv2D(4, (2,2), activation='relu'),\n",
    "        input_shape=(None,size,size,1)))\n",
    "        self.model.add(TimeDistributed(MaxPooling2D(pool_size=(2, 2))))\n",
    "        self.model.add(TimeDistributed(Conv2D(4, (2,2), activation='relu'),\n",
    "        input_shape=(None,size,size,1)))\n",
    "        self.model.add(TimeDistributed(MaxPooling2D(pool_size=(2, 2))))\n",
    "        self.model.add(TimeDistributed(Flatten()))\n",
    "        \n",
    "        self.model.add(LSTM(100, return_sequences=True))\n",
    "#         self.model.add(LSTM(200, return_sequences=True))\n",
    "        self.model.add(Dense(1, activation='sigmoid'))\n",
    "\n",
    "#         opt = Adam(lr=0.001, beta_1=0.9, beta_2=0.999, epsilon=None, decay=0.1, amsgrad=False)\n",
    "\n",
    "        # RMSProp with lr == 0.001 and LSTM = 50 nodes seems pretty good\n",
    "        opt = RMSprop(lr=0.001)\n",
    "        self.model.compile(loss='mean_squared_error', optimizer = opt)\n",
    "        print(self.model.summary())\n",
    "\n",
    "c = Progress ()"
   ]
  },
  {
   "cell_type": "code",
   "execution_count": 1159,
   "metadata": {
    "collapsed": false
   },
   "outputs": [
    {
     "name": "stdout",
     "output_type": "stream",
     "text": [
      "6\n",
      "7\n",
      "8\n",
      "9\n",
      "10\n",
      "11\n",
      "12\n",
      "13\n",
      "14\n",
      "15\n",
      "16\n"
     ]
    }
   ],
   "source": [
    "\"\"\"\n",
    "========================================= ADD NEGATIVE SAMPLES ===========================================\n",
    "\n",
    "\"\"\"\n",
    "for index in range(len(samples)):\n",
    "    X, y_progress = samples[index]\n",
    "    l = X[0].shape[0]\n",
    "    if 6 <= l <= 16:\n",
    "        print (l)\n",
    "        new_X_s = []\n",
    "        new_Y_s = []\n",
    "        for i in range(len(X)):\n",
    "            new_X, new_Y = generate_negative_sample ( X[i], y_progress[i] )\n",
    "            new_X_s.append( new_X )\n",
    "            new_Y_s.append( new_Y )\n",
    "            \n",
    "        new_X_s = array(new_X_s).reshape(len(new_X_s), l, size, size, 1)\n",
    "        new_Y_s = array(new_Y_s).reshape(len(new_Y_s), l, 1)\n",
    "        \n",
    "        samples[index] = ( np.concatenate([X, new_X_s]), np.concatenate([y_progress, new_Y_s]) )\n",
    "    "
   ]
  },
  {
   "cell_type": "code",
   "execution_count": 1184,
   "metadata": {
    "collapsed": false
   },
   "outputs": [
    {
     "name": "stdout",
     "output_type": "stream",
     "text": [
      "------------------------\n",
      "0\n",
      "6\n",
      "Epoch 1/3\n",
      "4606/4606 [==============================] - 2s 492us/step - loss: 0.0204\n",
      "Epoch 2/3\n",
      "4606/4606 [==============================] - 2s 496us/step - loss: 0.0014\n",
      "Epoch 3/3\n",
      "4606/4606 [==============================] - 2s 502us/step - loss: 9.2543e-04\n",
      "7\n",
      "Epoch 1/3\n",
      "6478/6478 [==============================] - 4s 545us/step - loss: 9.1221e-04\n",
      "Epoch 2/3\n",
      "6478/6478 [==============================] - 4s 549us/step - loss: 6.8408e-04\n",
      "Epoch 3/3\n",
      "6478/6478 [==============================] - 4s 555us/step - loss: 6.0077e-04\n",
      "8\n",
      "Epoch 1/2\n",
      "7882/7882 [==============================] - 5s 593us/step - loss: 5.8266e-04\n",
      "Epoch 2/2\n",
      "7882/7882 [==============================] - 5s 602us/step - loss: 4.5721e-04\n",
      "9\n",
      "Epoch 1/2\n",
      "9166/9166 [==============================] - 6s 650us/step - loss: 4.5038e-04\n",
      "Epoch 2/2\n",
      "9166/9166 [==============================] - 6s 652us/step - loss: 3.7140e-04\n",
      "------------------------\n",
      "1\n",
      "6\n",
      "Epoch 1/3\n",
      "4606/4606 [==============================] - 2s 494us/step - loss: 0.0027\n",
      "Epoch 2/3\n",
      "4606/4606 [==============================] - 2s 496us/step - loss: 5.3444e-04\n",
      "Epoch 3/3\n",
      "4606/4606 [==============================] - 2s 502us/step - loss: 4.6826e-04\n",
      "7\n",
      "Epoch 1/3\n",
      "6478/6478 [==============================] - 4s 555us/step - loss: 6.3907e-04\n",
      "Epoch 2/3\n",
      "6478/6478 [==============================] - 4s 561us/step - loss: 4.4999e-04\n",
      "Epoch 3/3\n",
      "6478/6478 [==============================] - 4s 549us/step - loss: 4.0974e-04\n",
      "8\n",
      "Epoch 1/2\n",
      "7882/7882 [==============================] - 5s 597us/step - loss: 4.4699e-04\n",
      "Epoch 2/2\n",
      "7882/7882 [==============================] - 5s 599us/step - loss: 3.3855e-04\n",
      "9\n",
      "Epoch 1/2\n",
      "9166/9166 [==============================] - 6s 645us/step - loss: 3.8103e-04\n",
      "Epoch 2/2\n",
      "9166/9166 [==============================] - 6s 693us/step - loss: 3.2363e-04\n"
     ]
    }
   ],
   "source": [
    "\"\"\"\n",
    "============================================== TRAINING ==================================================\n",
    "\n",
    "\"\"\"\n",
    "            \n",
    "for epoch in range(2):\n",
    "    print ('------------------------')\n",
    "    print (epoch)\n",
    "    for X, y_progress in samples:\n",
    "        if 6 <= X[0].shape[0] < 8:\n",
    "            print (X[0].shape[0])\n",
    "            h = c.model.fit(X, y_progress, batch_size=50, epochs=3)\n",
    "        if 8 <= X[0].shape[0] < 10:\n",
    "            print (X[0].shape[0])\n",
    "            h = c.model.fit(X, y_progress, batch_size=50, epochs=2)\n",
    "#         if 10 <= X[0].shape[0] <= 16:\n",
    "#             print (X[0].shape[0])\n",
    "#             h = c.model.fit(X, y_progress, batch_size=50, epochs=1)"
   ]
  },
  {
   "cell_type": "code",
   "execution_count": 1181,
   "metadata": {
    "collapsed": false
   },
   "outputs": [
    {
     "name": "stdout",
     "output_type": "stream",
     "text": [
      "<tf.Variable 'RMSprop_5/lr:0' shape=() dtype=float32_ref>\n"
     ]
    }
   ],
   "source": [
    "print (c.model.optimizer.lr)"
   ]
  },
  {
   "cell_type": "code",
   "execution_count": 1185,
   "metadata": {
    "collapsed": false
   },
   "outputs": [
    {
     "name": "stdout",
     "output_type": "stream",
     "text": [
      "Shape = 3\n",
      "Shape = 4\n",
      "Shape = 5\n",
      "Shape = 6\n",
      "sample: 21, loss: 0.057170\n",
      "Shape = 7\n",
      "sample: 39, loss: 0.024834\n",
      "Shape = 8\n",
      "sample: 30, loss: 0.006574\n",
      "Shape = 9\n",
      "sample: 58, loss: 0.000569\n",
      "Shape = 10\n",
      "sample: 45, loss: 0.004455\n",
      "Shape = 11\n",
      "sample: 53, loss: 0.013467\n",
      "Shape = 12\n",
      "sample: 40, loss: 0.021774\n",
      "Shape = 13\n",
      "sample: 44, loss: 0.039103\n",
      "Shape = 14\n",
      "sample: 38, loss: 0.059659\n",
      "Shape = 15\n",
      "sample: 38, loss: 0.106547\n",
      "Shape = 16\n",
      "sample: 32, loss: 0.124411\n",
      "Shape = 17\n",
      "Shape = 18\n",
      "Shape = 19\n",
      "Shape = 20\n",
      "Shape = 21\n",
      "Shape = 24\n",
      "Total loss: 0.036991\n"
     ]
    }
   ],
   "source": [
    "test_samples = generate_example_progress_diff_len(12, 15, 500, shape_generator)\n",
    "total_sample = 0\n",
    "total_loss = 0\n",
    "for X_evaluate, y_progress_evaluate in test_samples:\n",
    "    print ('Shape = %d' % X_evaluate[0].shape[0])\n",
    "    if 6 <= X_evaluate[0].shape[0] <= 16:\n",
    "        total_sample += len(X_evaluate)\n",
    "        loss = c.model.evaluate(X_evaluate, y_progress_evaluate, verbose=2)\n",
    "        total_loss += loss * len(X_evaluate)\n",
    "        print('sample: %d, loss: %f' % (len(X_evaluate), loss))\n",
    "print('Total loss: %f' % (total_loss / total_sample))"
   ]
  },
  {
   "cell_type": "code",
   "execution_count": 1169,
   "metadata": {
    "collapsed": false
   },
   "outputs": [
    {
     "name": "stdout",
     "output_type": "stream",
     "text": [
      "[0.00634135 0.06809177 0.13865402 0.20430864 0.26404908 0.32448518]\n",
      "[0.  0.2 0.4 0.6 0.8 1. ]\n"
     ]
    }
   ],
   "source": [
    "predicted = c.model.predict(test_samples[3][0][:1])\n",
    "print (predicted.flatten())\n",
    "print (test_samples[3][1][:1].flatten())"
   ]
  },
  {
   "cell_type": "code",
   "execution_count": 764,
   "metadata": {
    "collapsed": false
   },
   "outputs": [
    {
     "data": {
      "text/plain": [
       "array([0. , 0.2, 0.4, 0.6, 0.8, 1. ])"
      ]
     },
     "execution_count": 764,
     "metadata": {},
     "output_type": "execute_result"
    }
   ],
   "source": [
    "test_samples[2][1][:1].flatten()"
   ]
  },
  {
   "cell_type": "code",
   "execution_count": 691,
   "metadata": {
    "collapsed": false
   },
   "outputs": [
    {
     "data": {
      "image/png": "[encoded data removed]",
      "text/plain": [
       "<matplotlib.figure.Figure at 0x1d6ff4f4710>"
      ]
     },
     "metadata": {},
     "output_type": "display_data"
    }
   ],
   "source": [
    "plot(X_evaluate[0])"
   ]
  },
  {
   "cell_type": "code",
   "execution_count": null,
   "metadata": {
    "collapsed": true
   },
   "outputs": [],
   "source": []
  },
  {
   "cell_type": "code",
   "execution_count": 450,
   "metadata": {
    "collapsed": true
   },
   "outputs": [],
   "source": [
    "def generate_jar_shape ( frame, width, height, bulb, side, side_start, side_len, direction, position ):\n",
    "    \"\"\"\n",
    "    Impose an jar shape structure on the frame, position is where you start it (top-left corner of rectangle).\n",
    "    This is actually a variance of the U-shape.\n",
    "    The main difference is \n",
    "    \n",
    "    All of the followings have direction = 0, S is where position is\n",
    "    \n",
    "    width = 3, height = 5, bulb = 1 (bulb extended by 1 cell), side = 0 (left, 1 for right), \n",
    "    side_start = 1 (from the top), side_len = 3 ( side_start + side_len < height )\n",
    "    \n",
    "      \n",
    "    S o x o\n",
    "    o o x o\n",
    "    o x x o\n",
    "    o o x o\n",
    "      o o o\n",
    "    \n",
    "    side_start = 2\n",
    "    \n",
    "    S o x o\n",
    "      o x o\n",
    "    o o x o\n",
    "    o x x o\n",
    "    o o o o\n",
    "    \n",
    "    bulb = 2, side_start = 2\n",
    "    S   o x o\n",
    "        o x o\n",
    "    o o o x o\n",
    "    o x x x o\n",
    "    o o o o o\n",
    "    \n",
    "    This function returns whether imposition successes, and frame would be imposed with the jar-shape\n",
    "    \n",
    "    Parameters:\n",
    "    =====================\n",
    "    frame: squared frame\n",
    "    width: width of the main rectangular\n",
    "    height: height of the main rectangular\n",
    "    bulb: \n",
    "    side: \n",
    "    side_start: \n",
    "    side_len:\n",
    "    direction: \n",
    "    position: tuple of 2\n",
    "    \n",
    "    Returns:\n",
    "    =====================\n",
    "    - success: whether imposition successes or not\n",
    "    - inside_points: list of points inside the shape (x)\n",
    "    \n",
    "    \"\"\"\n",
    "    size = frame.shape[0]\n",
    "    \n",
    "    if direction == 0 or direction == 4:\n",
    "        other_corner = ( position[0] + height - 1, position[1] + width + bulb - 1 )\n",
    "        \n",
    "    if direction == 2 or direction == 6:\n",
    "        other_corner = ( position[0] + width + bulb - 1, position[1] + height - 1 )\n",
    "\n",
    "    if not check_in_frame_with_space ( size, position) or not check_in_frame_with_space ( size, other_corner ):\n",
    "        return False, ( [], [] )\n",
    "    \n",
    "    if side_start + side_len >= height:\n",
    "        return False, ( [], [] )\n",
    "    \n",
    "    # Let's create one jar-shape that has a direction == 0, and side = 0\n",
    "    inner_shape = np.zeros((height, width + bulb))\n",
    "\n",
    "    # Right side: draw straight line\n",
    "    for i in range (height):\n",
    "        inner_shape[i,-1] = 1\n",
    "    \n",
    "    # Left side bulb: 5 segments\n",
    "    for i in range (0, side_start):\n",
    "        inner_shape[i, bulb] = 1\n",
    "    \n",
    "    for i in range (0, bulb + 1):\n",
    "        inner_shape[side_start, i] = 1\n",
    "        \n",
    "    for i in range (side_start, side_start + side_len):\n",
    "        inner_shape[i, 0] = 1\n",
    "        \n",
    "    for i in range (0, bulb + 1):\n",
    "        inner_shape[side_start + side_len, i] = 1\n",
    "    \n",
    "    for i in range (side_start + side_len, height):\n",
    "        inner_shape[i, bulb] = 1\n",
    "    \n",
    "    # Bottom side\n",
    "    for i in range (bulb, width + bulb):\n",
    "        inner_shape[height - 1, i] = 1\n",
    "    \n",
    "    # Jar inner\n",
    "    for i in range(0, height - 1):\n",
    "        for j in range(bulb + 1, width + bulb - 1):\n",
    "            inner_shape[i,j] = 2\n",
    "    \n",
    "    # Bulb inner\n",
    "    for i in range(side_start + 1, side_start + side_len):\n",
    "        for j in range(1, width):\n",
    "            inner_shape[i,j] = 2\n",
    "    \n",
    "    if side == 1:\n",
    "        # Flip through the Oy axis\n",
    "        inner_shape = inner_shape[:,::-1]\n",
    "        \n",
    "    rotated_shape = np.rot90 ( inner_shape, -direction // 2 )\n",
    "    \n",
    "    frame[ position[0] : position[0] + rotated_shape.shape[0], \n",
    "          position[1] : position[1] + rotated_shape.shape[1] ] = rotated_shape\n",
    "    \n",
    "    inside_points = np.where(frame == 2)\n",
    "    \n",
    "    frame[frame == 2] = 0\n",
    "    \n",
    "    return True, inside_points"
   ]
  },
  {
   "cell_type": "code",
   "execution_count": 410,
   "metadata": {
    "collapsed": false
   },
   "outputs": [
    {
     "data": {
      "text/plain": [
       "(True,\n",
       " (array([4, 5, 6, 6, 6, 6, 6, 6, 7, 7, 7, 7, 7, 7, 9], dtype=int64),\n",
       "  array([5, 5, 4, 5, 6, 7, 8, 9, 4, 5, 6, 7, 8, 9, 7], dtype=int64)))"
      ]
     },
     "execution_count": 410,
     "metadata": {},
     "output_type": "execute_result"
    }
   ],
   "source": [
    "f = np.zeros((12, 12))\n",
    "generate_jar_shape ( frame, 4, 5, 2, 0, 1, 2, 2, (3,3) )"
   ]
  },
  {
   "cell_type": "code",
   "execution_count": 451,
   "metadata": {
    "collapsed": true
   },
   "outputs": [],
   "source": [
    "def check_in_range_jar (value, width, height, bulb, direction, position ):\n",
    "    \"\"\"\n",
    "    \n",
    "    value is a coordinates (x, y)\n",
    "    \"\"\"\n",
    "    if direction == 0 or direction == 4:\n",
    "        other_corner = ( position[0] + height - 1, position[1] + width + bulb - 1 )\n",
    "        \n",
    "    if direction == 2 or direction == 6:\n",
    "        other_corner = ( position[0] + width + bulb - 1, position[1] + height - 1 )\n",
    "        \n",
    "    if position[0] <= value[0] <= other_corner[0] and position[1] <= value[1] <= other_corner[1]:\n",
    "        return True\n",
    "    \n",
    "    return False"
   ]
  },
  {
   "cell_type": "code",
   "execution_count": 500,
   "metadata": {
    "collapsed": true
   },
   "outputs": [],
   "source": [
    "def generate_jar_shape_frame ( size, width_range = list(range(3,6)), \n",
    "                  height_range = list(range(4,7)), bulb_range = list(range(1,3)),\n",
    "                  side_start_range = list(range(0,3)), side_len_range = list(range(2,4)),\n",
    "                  direction_range = list(range(0,8,2)) ):\n",
    "    frame = zeros((size,size))\n",
    "    \n",
    "    # You random a value in those range to add into the frame\n",
    "    # You also\n",
    "    \n",
    "    width = choice(width_range)\n",
    "    height = choice(height_range)\n",
    "    bulb = choice(bulb_range)\n",
    "    side = choice([0,1])\n",
    "    side_start = choice(side_start_range)\n",
    "    side_len = choice(side_len_range)\n",
    "    direction = choice(direction_range)\n",
    "    \n",
    "    for _ in range(20):\n",
    "        position_x = randint ( 0, size - 1 )\n",
    "        position_y = randint ( 0, size - 1 )\n",
    "        position = (position_x, position_y)\n",
    "\n",
    "        success, inner_list = generate_jar_shape  ( frame, width, height, bulb, side, \n",
    "                                                 side_start, side_len, direction, position )\n",
    "        \n",
    "        \n",
    "        if success :\n",
    "            break\n",
    "    else:\n",
    "        return None, None, None\n",
    "    \n",
    "    # Random outer position for moving point\n",
    "    for _ in range(20):\n",
    "        pos_start_x = randint ( 0, size - 1 )\n",
    "        pos_start_y = randint ( 0, size - 1 )\n",
    "        \n",
    "        pos_start = (pos_start_x, pos_start_y)\n",
    "        \n",
    "        # Just need to be out of the rectangle\n",
    "        if not check_in_range_jar ( pos_start, width, height, bulb, direction, position ):\n",
    "            break\n",
    "    else:\n",
    "        return None, None, None\n",
    "    \n",
    "    # Random inner position for moving point\n",
    "    index = randint ( 0, len(inner_list[0]) - 1 )\n",
    "    pos_end = (inner_list[0][index], inner_list[1][index])\n",
    "    \n",
    "#     frame[pos_start] = 3\n",
    "#     frame[pos_end] = 4\n",
    "    \n",
    "    return frame, pos_start, pos_end"
   ]
  },
  {
   "cell_type": "code",
   "execution_count": 607,
   "metadata": {
    "collapsed": true
   },
   "outputs": [],
   "source": [
    "def generate_jar_misleading_shape_frame ( size, width_range = list(range(3,6)), \n",
    "                  height_range = list(range(4,7)), bulb_range = list(range(1,3)),\n",
    "                  side_start_range = list(range(0,3)), side_len_range = list(range(2,4)),\n",
    "                  direction_range = list(range(0,8,2)), rec_width_range = list(range(1,3)), \n",
    "                  rec_height_range = list(range(1,3))):\n",
    "    frame, pos_start, pos_end = generate_jar_shape_frame( size, width_range, height_range, bulb_range ,\n",
    "                           side_start_range, side_len_range, direction_range )\n",
    "    \n",
    "    if frame is None:\n",
    "        return None, None, None\n",
    "    \n",
    "    width = choice(rec_width_range)\n",
    "    height = choice(rec_height_range)\n",
    "    \n",
    "    for _ in range(20):\n",
    "        position_x = randint ( 0, size - height )\n",
    "        position_y = randint ( 0, size - width )\n",
    "        position = (position_x, position_y)\n",
    "        \n",
    "        opposite = (position_x + height - 1, position_y + width - 1)\n",
    "        \n",
    "        if position <= pos_start <= opposite or position <= pos_end <= opposite:\n",
    "            continue\n",
    "        \n",
    "        for i in range(position_x, position_x + height):\n",
    "            for j in range(position_y, position_y + width):\n",
    "                if frame[i,j] == 1:\n",
    "                    continue\n",
    "        break\n",
    "    else:\n",
    "        return None, None, None\n",
    "    \n",
    "    for i in range(position_x, position_x + height):\n",
    "        for j in range(position_y, position_y + width):\n",
    "            frame[i,j] = 1\n",
    "            \n",
    "    return frame, pos_start, pos_end"
   ]
  },
  {
   "cell_type": "code",
   "execution_count": 624,
   "metadata": {
    "collapsed": true
   },
   "outputs": [],
   "source": [
    "frame, pos_start, pos_end = generate_jar_misleading_shape_frame ( 12 )"
   ]
  },
  {
   "cell_type": "code",
   "execution_count": 625,
   "metadata": {
    "collapsed": false
   },
   "outputs": [
    {
     "data": {
      "text/plain": [
       "array([[0., 0., 0., 0., 0., 0., 0., 0., 0., 0., 0., 0.],\n",
       "       [0., 0., 0., 0., 0., 0., 0., 0., 0., 0., 0., 0.],\n",
       "       [0., 1., 1., 0., 0., 0., 1., 0., 0., 1., 0., 0.],\n",
       "       [0., 0., 0., 0., 0., 0., 1., 0., 0., 1., 0., 0.],\n",
       "       [0., 0., 0., 0., 1., 1., 1., 0., 0., 1., 0., 0.],\n",
       "       [0., 0., 0., 0., 1., 0., 0., 0., 0., 1., 0., 0.],\n",
       "       [0., 0., 0., 0., 1., 0., 0., 0., 0., 1., 0., 0.],\n",
       "       [0., 0., 0., 0., 1., 1., 1., 1., 1., 1., 0., 0.],\n",
       "       [0., 0., 0., 0., 0., 0., 0., 0., 0., 0., 0., 0.],\n",
       "       [0., 0., 0., 0., 0., 0., 0., 0., 0., 0., 0., 0.],\n",
       "       [0., 0., 0., 0., 0., 0., 0., 0., 0., 0., 0., 0.],\n",
       "       [0., 0., 0., 0., 0., 0., 0., 0., 0., 0., 0., 0.]])"
      ]
     },
     "execution_count": 625,
     "metadata": {},
     "output_type": "execute_result"
    }
   ],
   "source": [
    "frame"
   ]
  },
  {
   "cell_type": "code",
   "execution_count": 614,
   "metadata": {
    "collapsed": false
   },
   "outputs": [
    {
     "data": {
      "text/plain": [
       "(10, 7)"
      ]
     },
     "execution_count": 614,
     "metadata": {},
     "output_type": "execute_result"
    }
   ],
   "source": [
    "pos_start"
   ]
  },
  {
   "cell_type": "code",
   "execution_count": 615,
   "metadata": {
    "collapsed": false
   },
   "outputs": [
    {
     "data": {
      "text/plain": [
       "(5, 4)"
      ]
     },
     "execution_count": 615,
     "metadata": {},
     "output_type": "execute_result"
    }
   ],
   "source": [
    "pos_end"
   ]
  },
  {
   "cell_type": "code",
   "execution_count": 647,
   "metadata": {
    "collapsed": true
   },
   "outputs": [],
   "source": [
    "frames, enter = build_frames_pad(size, 15, lambda size: generate_jar_misleading_shape_frame(size , rec_width_range = list(range(1,4)), \n",
    "                  rec_height_range = list(range(1,4))))"
   ]
  },
  {
   "cell_type": "code",
   "execution_count": 635,
   "metadata": {
    "collapsed": false
   },
   "outputs": [
    {
     "name": "stdout",
     "output_type": "stream",
     "text": [
      "(12, 12)\n"
     ]
    }
   ],
   "source": [
    "print (frames[0].shape)"
   ]
  },
  {
   "cell_type": "code",
   "execution_count": 636,
   "metadata": {
    "collapsed": false
   },
   "outputs": [
    {
     "data": {
      "image/png": "[encoded data removed]",
      "text/plain": [
       "<matplotlib.figure.Figure at 0x1d6e9e37940>"
      ]
     },
     "metadata": {},
     "output_type": "display_data"
    }
   ],
   "source": [
    "plot(frames)"
   ]
  },
  {
   "cell_type": "code",
   "execution_count": 637,
   "metadata": {
    "collapsed": false
   },
   "outputs": [
    {
     "data": {
      "image/png": "[encoded data removed]",
      "text/plain": [
       "<matplotlib.figure.Figure at 0x1d6fe25f898>"
      ]
     },
     "metadata": {},
     "output_type": "display_data"
    },
    {
     "data": {
      "image/png": "[encoded data removed]",
      "text/plain": [
       "<matplotlib.figure.Figure at 0x1d6faa8c470>"
      ]
     },
     "metadata": {},
     "output_type": "display_data"
    },
    {
     "data": {
      "image/png": "[encoded data removed]",
      "text/plain": [
       "<matplotlib.figure.Figure at 0x1d6fe19cc50>"
      ]
     },
     "metadata": {},
     "output_type": "display_data"
    }
   ],
   "source": [
    "for i in range( len(frames) // 5 ):\n",
    "    plot(frames[5 * i:5 * i + 5])"
   ]
  },
  {
   "cell_type": "code",
   "execution_count": 649,
   "metadata": {
    "collapsed": true
   },
   "outputs": [],
   "source": [
    "jar_generator = lambda size: generate_jar_misleading_shape_frame(size, rec_width_range = list(range(1,4)), \n",
    "                  rec_height_range = list(range(1,4)))\n",
    "jar_X, jar_y = generate_examples(12, 15, 500, jar_generator)"
   ]
  },
  {
   "cell_type": "code",
   "execution_count": 650,
   "metadata": {
    "collapsed": false
   },
   "outputs": [
    {
     "name": "stdout",
     "output_type": "stream",
     "text": [
      "loss: 0.260880, acc: 87.000000\n"
     ]
    }
   ],
   "source": [
    "loss, acc = model.evaluate(jar_X, jar_y, verbose=0)\n",
    "print('loss: %f, acc: %f' % (loss, acc*100))"
   ]
  },
  {
   "cell_type": "code",
   "execution_count": 651,
   "metadata": {
    "collapsed": true
   },
   "outputs": [],
   "source": [
    "wrongs = []\n",
    "for i in range(100):\n",
    "    loss, acc = model.evaluate(jar_X[i:i+1], jar_y[i:i+1], verbose=0)\n",
    "    if acc == 0:\n",
    "        wrongs.append(i)"
   ]
  },
  {
   "cell_type": "code",
   "execution_count": 652,
   "metadata": {
    "collapsed": false
   },
   "outputs": [
    {
     "name": "stdout",
     "output_type": "stream",
     "text": [
      "=============\n"
     ]
    },
    {
     "data": {
      "image/png": "[encoded data removed]",
      "text/plain": [
       "<matplotlib.figure.Figure at 0x1d6fd7cfc88>"
      ]
     },
     "metadata": {},
     "output_type": "display_data"
    },
    {
     "data": {
      "image/png": "[encoded data removed]",
      "text/plain": [
       "<matplotlib.figure.Figure at 0x1d6fd9b6b70>"
      ]
     },
     "metadata": {},
     "output_type": "display_data"
    },
    {
     "data": {
      "image/png": "[encoded data removed]",
      "text/plain": [
       "<matplotlib.figure.Figure at 0x1d6fd9152e8>"
      ]
     },
     "metadata": {},
     "output_type": "display_data"
    },
    {
     "name": "stdout",
     "output_type": "stream",
     "text": [
      "=============\n"
     ]
    },
    {
     "data": {
      "image/png": "[encoded data removed]",
      "text/plain": [
       "<matplotlib.figure.Figure at 0x1d6fe338b70>"
      ]
     },
     "metadata": {},
     "output_type": "display_data"
    },
    {
     "data": {
      "image/png": "[encoded data removed]",
      "text/plain": [
       "<matplotlib.figure.Figure at 0x1d6fe340048>"
      ]
     },
     "metadata": {},
     "output_type": "display_data"
    },
    {
     "data": {
      "image/png": "[encoded data removed]",
      "text/plain": [
       "<matplotlib.figure.Figure at 0x1d6fe8b7668>"
      ]
     },
     "metadata": {},
     "output_type": "display_data"
    },
    {
     "name": "stdout",
     "output_type": "stream",
     "text": [
      "=============\n"
     ]
    },
    {
     "data": {
      "image/png": "[encoded data removed]",
      "text/plain": [
       "<matplotlib.figure.Figure at 0x1d6fea6c550>"
      ]
     },
     "metadata": {},
     "output_type": "display_data"
    },
    {
     "data": {
      "image/png": "[encoded data removed]",
      "text/plain": [
       "<matplotlib.figure.Figure at 0x1d6feb25e10>"
      ]
     },
     "metadata": {},
     "output_type": "display_data"
    },
    {
     "data": {
      "image/png": "[encoded data removed]",
      "text/plain": [
       "<matplotlib.figure.Figure at 0x1d6feb2c198>"
      ]
     },
     "metadata": {},
     "output_type": "display_data"
    },
    {
     "name": "stdout",
     "output_type": "stream",
     "text": [
      "=============\n"
     ]
    },
    {
     "data": {
      "image/png": "[encoded data removed]",
      "text/plain": [
       "<matplotlib.figure.Figure at 0x1d6febed240>"
      ]
     },
     "metadata": {},
     "output_type": "display_data"
    },
    {
     "data": {
      "image/png": "[encoded data removed]",
      "text/plain": [
       "<matplotlib.figure.Figure at 0x1d6fece4668>"
      ]
     },
     "metadata": {},
     "output_type": "display_data"
    },
    {
     "data": {
      "image/png": "[encoded data removed]",
      "text/plain": [
       "<matplotlib.figure.Figure at 0x1d6fede5160>"
      ]
     },
     "metadata": {},
     "output_type": "display_data"
    },
    {
     "name": "stdout",
     "output_type": "stream",
     "text": [
      "=============\n"
     ]
    },
    {
     "data": {
      "image/png": "[encoded data removed]",
      "text/plain": [
       "<matplotlib.figure.Figure at 0x1d6fee99588>"
      ]
     },
     "metadata": {},
     "output_type": "display_data"
    },
    {
     "data": {
      "image/png": "[encoded data removed]",
      "text/plain": [
       "<matplotlib.figure.Figure at 0x1d6fef9a198>"
      ]
     },
     "metadata": {},
     "output_type": "display_data"
    },
    {
     "data": {
      "image/png": "[encoded data removed]",
      "text/plain": [
       "<matplotlib.figure.Figure at 0x1d6ff0505f8>"
      ]
     },
     "metadata": {},
     "output_type": "display_data"
    },
    {
     "name": "stdout",
     "output_type": "stream",
     "text": [
      "=============\n"
     ]
    },
    {
     "data": {
      "image/png": "[encoded data removed]",
      "text/plain": [
       "<matplotlib.figure.Figure at 0x1d6ff10f748>"
      ]
     },
     "metadata": {},
     "output_type": "display_data"
    },
    {
     "data": {
      "image/png": "[encoded data removed]",
      "text/plain": [
       "<matplotlib.figure.Figure at 0x1d6ff599400>"
      ]
     },
     "metadata": {},
     "output_type": "display_data"
    },
    {
     "data": {
      "image/png": "[encoded data removed]",
      "text/plain": [
       "<matplotlib.figure.Figure at 0x1d6ff7da828>"
      ]
     },
     "metadata": {},
     "output_type": "display_data"
    },
    {
     "name": "stdout",
     "output_type": "stream",
     "text": [
      "=============\n"
     ]
    },
    {
     "data": {
      "image/png": "[encoded data removed]",
      "text/plain": [
       "<matplotlib.figure.Figure at 0x1d6ffae2400>"
      ]
     },
     "metadata": {},
     "output_type": "display_data"
    },
    {
     "data": {
      "image/png": "[encoded data removed]",
      "text/plain": [
       "<matplotlib.figure.Figure at 0x1d6ffdef978>"
      ]
     },
     "metadata": {},
     "output_type": "display_data"
    },
    {
     "data": {
      "image/png": "[encoded data removed]",
      "text/plain": [
       "<matplotlib.figure.Figure at 0x1d6ffea7f98>"
      ]
     },
     "metadata": {},
     "output_type": "display_data"
    },
    {
     "name": "stdout",
     "output_type": "stream",
     "text": [
      "=============\n"
     ]
    },
    {
     "data": {
      "image/png": "[encoded data removed]",
      "text/plain": [
       "<matplotlib.figure.Figure at 0x1d6fff660f0>"
      ]
     },
     "metadata": {},
     "output_type": "display_data"
    },
    {
     "data": {
      "image/png": "[encoded data removed]",
      "text/plain": [
       "<matplotlib.figure.Figure at 0x1d70001de80>"
      ]
     },
     "metadata": {},
     "output_type": "display_data"
    },
    {
     "data": {
      "image/png": "[encoded data removed]",
      "text/plain": [
       "<matplotlib.figure.Figure at 0x1d7000ddcc0>"
      ]
     },
     "metadata": {},
     "output_type": "display_data"
    },
    {
     "name": "stdout",
     "output_type": "stream",
     "text": [
      "=============\n"
     ]
    },
    {
     "data": {
      "image/png": "[encoded data removed]",
      "text/plain": [
       "<matplotlib.figure.Figure at 0x1d70024ffd0>"
      ]
     },
     "metadata": {},
     "output_type": "display_data"
    },
    {
     "data": {
      "image/png": "[encoded data removed]",
      "text/plain": [
       "<matplotlib.figure.Figure at 0x1d700255630>"
      ]
     },
     "metadata": {},
     "output_type": "display_data"
    },
    {
     "data": {
      "image/png": "[encoded data removed]",
      "text/plain": [
       "<matplotlib.figure.Figure at 0x1d700314588>"
      ]
     },
     "metadata": {},
     "output_type": "display_data"
    },
    {
     "name": "stdout",
     "output_type": "stream",
     "text": [
      "=============\n"
     ]
    },
    {
     "data": {
      "image/png": "[encoded data removed]",
      "text/plain": [
       "<matplotlib.figure.Figure at 0x1d7004829e8>"
      ]
     },
     "metadata": {},
     "output_type": "display_data"
    },
    {
     "data": {
      "image/png": "[encoded data removed]",
      "text/plain": [
       "<matplotlib.figure.Figure at 0x1d70048a128>"
      ]
     },
     "metadata": {},
     "output_type": "display_data"
    },
    {
     "data": {
      "image/png": "[encoded data removed]",
      "text/plain": [
       "<matplotlib.figure.Figure at 0x1d7005434e0>"
      ]
     },
     "metadata": {},
     "output_type": "display_data"
    },
    {
     "name": "stdout",
     "output_type": "stream",
     "text": [
      "=============\n"
     ]
    },
    {
     "data": {
      "image/png": "[encoded data removed]",
      "text/plain": [
       "<matplotlib.figure.Figure at 0x1d7008f9400>"
      ]
     },
     "metadata": {},
     "output_type": "display_data"
    },
    {
     "data": {
      "image/png": "[encoded data removed]",
      "text/plain": [
       "<matplotlib.figure.Figure at 0x1d7008f9550>"
      ]
     },
     "metadata": {},
     "output_type": "display_data"
    },
    {
     "data": {
      "image/png": "[encoded data removed]",
      "text/plain": [
       "<matplotlib.figure.Figure at 0x1d7009ba048>"
      ]
     },
     "metadata": {},
     "output_type": "display_data"
    }
   ],
   "source": [
    "for wrong in wrongs:\n",
    "    print (\"=============\")\n",
    "    for i in range( len(jar_X[wrong]) // 5 ):\n",
    "        plot(jar_X[wrong][5 * i:5 * i + 5])"
   ]
  },
  {
   "cell_type": "code",
   "execution_count": 548,
   "metadata": {
    "collapsed": false
   },
   "outputs": [
    {
     "name": "stdout",
     "output_type": "stream",
     "text": [
      "loss: 3.041852, acc: 0.000000\n"
     ]
    }
   ],
   "source": [
    "loss, acc = model.evaluate(jar_X[10:11], jar_y[10:11], verbose=4)\n",
    "print('loss: %f, acc: %f' % (loss, acc*100))"
   ]
  },
  {
   "cell_type": "code",
   "execution_count": 1098,
   "metadata": {
    "collapsed": true
   },
   "outputs": [],
   "source": [
    "simple_jar_generator = lambda size: generate_jar_shape_frame(size)"
   ]
  },
  {
   "cell_type": "code",
   "execution_count": 1132,
   "metadata": {
    "collapsed": false
   },
   "outputs": [
    {
     "name": "stdout",
     "output_type": "stream",
     "text": [
      "sample: 31, loss: 0.172518\n",
      "sample: 38, loss: 0.140085\n",
      "sample: 40, loss: 0.114100\n",
      "sample: 56, loss: 0.093141\n",
      "sample: 61, loss: 0.073495\n",
      "sample: 45, loss: 0.059425\n",
      "sample: 46, loss: 0.048681\n",
      "sample: 40, loss: 0.035528\n",
      "sample: 43, loss: 0.021862\n",
      "sample: 24, loss: 0.008950\n",
      "sample: 25, loss: 0.002225\n",
      "Total loss: 0.072337\n"
     ]
    }
   ],
   "source": [
    "test_samples_2 = generate_example_progress_diff_len(12, 15, 500, lambda size: generate_u_shape_frame(size))\n",
    "total_sample = 0\n",
    "total_loss = 0\n",
    "for X_evaluate, y_progress_evaluate in test_samples_2:\n",
    "    if 6 <= X_evaluate[0].shape[0] <= 16:\n",
    "        total_sample += len(X_evaluate)\n",
    "        loss = c.model.evaluate(X_evaluate, y_progress_evaluate, verbose=2)\n",
    "        total_loss += loss * len(X_evaluate)\n",
    "        print('sample: %d, loss: %f' % (len(X_evaluate), loss))\n",
    "print('Total loss: %f' % (total_loss / total_sample))"
   ]
  },
  {
   "cell_type": "code",
   "execution_count": 1133,
   "metadata": {
    "collapsed": false
   },
   "outputs": [
    {
     "name": "stdout",
     "output_type": "stream",
     "text": [
      "[[[0.01709841]\n",
      "  [0.06818907]\n",
      "  [0.12003747]\n",
      "  [0.17765461]\n",
      "  [0.25005165]\n",
      "  [0.33359215]\n",
      "  [0.39520705]\n",
      "  [0.45017815]\n",
      "  [0.49049366]\n",
      "  [0.56224614]\n",
      "  [0.55609435]\n",
      "  [0.6757586 ]\n",
      "  [0.7892823 ]]]\n",
      "[[[0.        ]\n",
      "  [0.08333333]\n",
      "  [0.16666667]\n",
      "  [0.25      ]\n",
      "  [0.33333333]\n",
      "  [0.41666667]\n",
      "  [0.5       ]\n",
      "  [0.58333333]\n",
      "  [0.66666667]\n",
      "  [0.75      ]\n",
      "  [0.83333333]\n",
      "  [0.91666667]\n",
      "  [1.        ]]]\n"
     ]
    }
   ],
   "source": [
    "predicted = c.model.predict(test_samples_2[10][0][:1])\n",
    "print (predicted)\n",
    "print (test_samples_2[10][1][:1])"
   ]
  },
  {
   "cell_type": "code",
   "execution_count": 1134,
   "metadata": {
    "collapsed": false
   },
   "outputs": [
    {
     "data": {
      "image/png": "[encoded data removed]",
      "text/plain": [
       "<matplotlib.figure.Figure at 0x1d765a89940>"
      ]
     },
     "metadata": {},
     "output_type": "display_data"
    },
    {
     "data": {
      "image/png": "[encoded data removed]",
      "text/plain": [
       "<matplotlib.figure.Figure at 0x1d739e432e8>"
      ]
     },
     "metadata": {},
     "output_type": "display_data"
    },
    {
     "data": {
      "image/png": "[encoded data removed]",
      "text/plain": [
       "<matplotlib.figure.Figure at 0x1d72e7ce3c8>"
      ]
     },
     "metadata": {},
     "output_type": "display_data"
    }
   ],
   "source": [
    "plot_big(test_samples_2[10][0][0])"
   ]
  },
  {
   "cell_type": "code",
   "execution_count": 880,
   "metadata": {
    "collapsed": true
   },
   "outputs": [],
   "source": [
    "new_X, new_Y = generate_negative_sample ( test_samples[10][0][0], test_samples[10][1][0] )"
   ]
  },
  {
   "cell_type": "code",
   "execution_count": 881,
   "metadata": {
    "collapsed": false
   },
   "outputs": [
    {
     "data": {
      "image/png": "[encoded data removed]",
      "text/plain": [
       "<matplotlib.figure.Figure at 0x1d70804f630>"
      ]
     },
     "metadata": {},
     "output_type": "display_data"
    },
    {
     "data": {
      "image/png": "[encoded data removed]",
      "text/plain": [
       "<matplotlib.figure.Figure at 0x1d70804fa58>"
      ]
     },
     "metadata": {},
     "output_type": "display_data"
    },
    {
     "data": {
      "image/png": "[encoded data removed]",
      "text/plain": [
       "<matplotlib.figure.Figure at 0x1d7080fe978>"
      ]
     },
     "metadata": {},
     "output_type": "display_data"
    }
   ],
   "source": [
    "plot_big(new_X)"
   ]
  },
  {
   "cell_type": "code",
   "execution_count": 882,
   "metadata": {
    "collapsed": false
   },
   "outputs": [
    {
     "data": {
      "text/plain": [
       "array([[0. ],\n",
       "       [0.1],\n",
       "       [0.2],\n",
       "       [0.3],\n",
       "       [0.4],\n",
       "       [0.5],\n",
       "       [0.5],\n",
       "       [0.4],\n",
       "       [0.3],\n",
       "       [0.2],\n",
       "       [0.1]])"
      ]
     },
     "execution_count": 882,
     "metadata": {},
     "output_type": "execute_result"
    }
   ],
   "source": [
    "new_Y"
   ]
  },
  {
   "cell_type": "code",
   "execution_count": 794,
   "metadata": {
    "collapsed": false
   },
   "outputs": [
    {
     "data": {
      "text/plain": [
       "11"
      ]
     },
     "execution_count": 794,
     "metadata": {},
     "output_type": "execute_result"
    }
   ],
   "source": [
    "len(test_samples[10][0][0])"
   ]
  },
  {
   "cell_type": "code",
   "execution_count": 962,
   "metadata": {
    "collapsed": true
   },
   "outputs": [],
   "source": [
    "def get_next_pos ( pos, movement ) :\n",
    "    if movement == 0:\n",
    "        # North\n",
    "        return (pos[0] - 1, pos[1])\n",
    "    \n",
    "    if movement == 1:\n",
    "        # East\n",
    "        return (pos[0], pos[1] + 1)\n",
    "    \n",
    "    if movement == 2:\n",
    "        # South\n",
    "        return (pos[0] + 1, pos[1])\n",
    "    \n",
    "    if movement == 3:\n",
    "        # West\n",
    "        return (pos[0], pos[1] - 1)\n",
    "\n",
    "def get_sequence ( frames, pos, movement ):\n",
    "    last_frame = frames[-1]\n",
    "    \n",
    "    next_pos = get_next_pos ( pos , movement)\n",
    "    \n",
    "    new_frame = last_frame.copy()\n",
    "    new_frame[pos] = 0\n",
    "    new_frame[next_pos] = 4\n",
    "    \n",
    "    new_frames = list(frames)\n",
    "    new_frames.append(new_frame)\n",
    "    \n",
    "    return new_frames, next_pos\n",
    "    \n",
    "def get_sequence_from_beginning ( start_frame, start_pos, movements ):\n",
    "    \"\"\"\n",
    "    From a sample (with imprinted moving agent at start_pos)\n",
    "    and movement of the agent.\n",
    "    \n",
    "    Return:\n",
    "    frames: the frame sequences\n",
    "    pos: last position of moving agent\n",
    "    \"\"\"\n",
    "    pos = start_pos\n",
    "    frames = [start_frame]\n",
    "    \n",
    "    for movement in movements:\n",
    "        frames, pos = get_sequence (frames, pos, movement)\n",
    "    \n",
    "    return frames, pos\n",
    "\n",
    "def search_enter ( sample , start_pos, size, no_peep = True ):\n",
    "    \"\"\"\n",
    "    sample is a sequence of frames from start to end\n",
    "    \n",
    "    We gonna run a searching algorith again for the starting frame based on the \n",
    "    current learning model.\n",
    "    \"\"\"\n",
    "    \n",
    "    # Keep maximumly 100 last explored sequences\n",
    "    max_explore = 200\n",
    "    \n",
    "    start_frame = sample[0]\n",
    "    \n",
    "    # At the start, we have only one element to explore, which is an empty list (the start position)\n",
    "    # The progress is by default 0\n",
    "    explorations = [ ([], 0) ]\n",
    "    \n",
    "    # We will update this value after each searching step\n",
    "    # We will stop if max_p doesn't increase anymore\n",
    "    max_p = 0\n",
    "    \n",
    "    no_progress_counter = 0\n",
    "    \n",
    "    # At each time, we add the movement of the element into the exploration\n",
    "    # North = 0, East = 1, South = 2, West = 3\n",
    "    for i in range(30):\n",
    "#         print (explorations)\n",
    "        # This is to replace explorations\n",
    "        new_explorations = []\n",
    "        \n",
    "        # This is to run LSTM algorithm on\n",
    "        new_explorations_frames = []\n",
    "        for e, _ in explorations:\n",
    "            frames, pos = get_sequence_from_beginning ( start_frame , start_pos, e )\n",
    "            \n",
    "            for movement in range(4):\n",
    "                next_pos = get_next_pos ( pos, movement )\n",
    "                if check_in_frame( size , next_pos ) and (frames[-1][next_pos] == 0 or not no_peep)\\\n",
    "                   and (len(e) == 0 or (movement - e[-1]) % 4 != 2):\n",
    "                    new_frames, _ = get_sequence ( frames, pos, movement )\n",
    "                    \n",
    "                    new_e = list (e)\n",
    "                    new_e.append(movement)\n",
    "                    \n",
    "                    new_explorations.append ( new_e )\n",
    "                    new_explorations_frames.append(new_frames)\n",
    "        \n",
    "        X = array(new_explorations_frames).reshape(len(new_explorations_frames), i + 2, size, size, 1)\n",
    "        \n",
    "        # ( #Pattern, i + 2, 1)\n",
    "        predicted = c.model.predict( X )\n",
    "        \n",
    "        predicted_last_step = predicted[:, -1, 0]\n",
    "#         print (predicted_last_step)\n",
    "        \n",
    "        explorations = [ (new_e, new_p) for new_e, new_p in zip (new_explorations, predicted_last_step) ]\n",
    "        \n",
    "        explorations = sorted(explorations, key = lambda k : k[1], reverse = True)\n",
    "        \n",
    "        explorations = explorations [ : max_explore ]\n",
    "        \n",
    "        if max_p < explorations[0][1]:\n",
    "            max_p = explorations[0][1]\n",
    "            no_progress_counter = 0\n",
    "        else:\n",
    "            no_progress_counter += 1\n",
    "            # No more progress\n",
    "            print ('No more progres')\n",
    "            \n",
    "            if (no_progress_counter >= 3):\n",
    "                \"\"\" One more try\"\"\"\n",
    "                break\n",
    "    \n",
    "    best_frames, last_pos = get_sequence_from_beginning (  start_frame , start_pos, explorations[0][0] ) \n",
    "    best_p = explorations[0][1]\n",
    "    return (best_frames, best_p)"
   ]
  },
  {
   "cell_type": "code",
   "execution_count": 1003,
   "metadata": {
    "collapsed": true
   },
   "outputs": [],
   "source": [
    "def get_start_pos( sample ):\n",
    "    return get_pos ( sample, 0 )\n",
    "\n",
    "def get_pos( sample, index ):\n",
    "    \"\"\"\n",
    "    Get position of the moving point of the frame from sample\n",
    "    \"\"\"\n",
    "    frame = sample[index]\n",
    "    \n",
    "    start_pos = np.where (frame == 4 )\n",
    "    return (start_pos[0][0], start_pos[1][0])"
   ]
  },
  {
   "cell_type": "code",
   "execution_count": 815,
   "metadata": {
    "collapsed": true
   },
   "outputs": [],
   "source": [
    "size = 12"
   ]
  },
  {
   "cell_type": "code",
   "execution_count": 1189,
   "metadata": {
    "collapsed": true
   },
   "outputs": [],
   "source": [
    "sample_index = 0\n",
    "sample = test_samples_2[10][0][sample_index][:,:,:,0]"
   ]
  },
  {
   "cell_type": "code",
   "execution_count": 1190,
   "metadata": {
    "collapsed": true
   },
   "outputs": [],
   "source": [
    "start_pos = get_start_pos (sample)"
   ]
  },
  {
   "cell_type": "code",
   "execution_count": 1191,
   "metadata": {
    "collapsed": false
   },
   "outputs": [
    {
     "name": "stdout",
     "output_type": "stream",
     "text": [
      "No more progres\n",
      "No more progres\n",
      "No more progres\n"
     ]
    }
   ],
   "source": [
    "best_frames, best_p = search_enter ( sample , start_pos, size, no_peep = True )"
   ]
  },
  {
   "cell_type": "code",
   "execution_count": 1192,
   "metadata": {
    "collapsed": false
   },
   "outputs": [
    {
     "data": {
      "image/png": "[encoded data removed]",
      "text/plain": [
       "<matplotlib.figure.Figure at 0x1d70954e208>"
      ]
     },
     "metadata": {},
     "output_type": "display_data"
    },
    {
     "data": {
      "image/png": "[encoded data removed]",
      "text/plain": [
       "<matplotlib.figure.Figure at 0x1d709609550>"
      ]
     },
     "metadata": {},
     "output_type": "display_data"
    },
    {
     "data": {
      "image/png": "[encoded data removed]",
      "text/plain": [
       "<matplotlib.figure.Figure at 0x1d7095df128>"
      ]
     },
     "metadata": {},
     "output_type": "display_data"
    }
   ],
   "source": [
    "plot_big (best_frames)"
   ]
  },
  {
   "cell_type": "code",
   "execution_count": 1188,
   "metadata": {
    "collapsed": false
   },
   "outputs": [
    {
     "data": {
      "text/plain": [
       "0.99726033"
      ]
     },
     "execution_count": 1188,
     "metadata": {},
     "output_type": "execute_result"
    }
   ],
   "source": [
    "best_p"
   ]
  },
  {
   "cell_type": "code",
   "execution_count": 943,
   "metadata": {
    "collapsed": true
   },
   "outputs": [],
   "source": [
    "t = best_frames[0].copy()"
   ]
  },
  {
   "cell_type": "code",
   "execution_count": 951,
   "metadata": {
    "collapsed": true
   },
   "outputs": [],
   "source": [
    "t[t == 4] = 0"
   ]
  },
  {
   "cell_type": "code",
   "execution_count": 948,
   "metadata": {
    "collapsed": false
   },
   "outputs": [
    {
     "data": {
      "text/plain": [
       "(1, 4)"
      ]
     },
     "execution_count": 948,
     "metadata": {},
     "output_type": "execute_result"
    }
   ],
   "source": [
    "get_start_pos(best_frames)"
   ]
  },
  {
   "cell_type": "code",
   "execution_count": 950,
   "metadata": {
    "collapsed": true
   },
   "outputs": [],
   "source": [
    "path = generate_path ( frame, (1, 4), (8, 8) )"
   ]
  },
  {
   "cell_type": "code",
   "execution_count": 954,
   "metadata": {
    "collapsed": true
   },
   "outputs": [],
   "source": [
    "frames = []\n",
    "for step in path:\n",
    "    f = t.copy()\n",
    "    f[step] = 4\n",
    "    frames.append(f)"
   ]
  },
  {
   "cell_type": "code",
   "execution_count": 955,
   "metadata": {
    "collapsed": false
   },
   "outputs": [
    {
     "data": {
      "image/png": "[encoded data removed]",
      "text/plain": [
       "<matplotlib.figure.Figure at 0x1d70b61be10>"
      ]
     },
     "metadata": {},
     "output_type": "display_data"
    },
    {
     "data": {
      "image/png": "[encoded data removed]",
      "text/plain": [
       "<matplotlib.figure.Figure at 0x1d70b937438>"
      ]
     },
     "metadata": {},
     "output_type": "display_data"
    },
    {
     "data": {
      "image/png": "[encoded data removed]",
      "text/plain": [
       "<matplotlib.figure.Figure at 0x1d7067e2cc0>"
      ]
     },
     "metadata": {},
     "output_type": "display_data"
    }
   ],
   "source": [
    "plot_big(frames)"
   ]
  },
  {
   "cell_type": "code",
   "execution_count": 956,
   "metadata": {
    "collapsed": true
   },
   "outputs": [],
   "source": [
    "q = array(frames).reshape ( (1, 14, 12, 12, 1))"
   ]
  },
  {
   "cell_type": "code",
   "execution_count": 994,
   "metadata": {
    "collapsed": false
   },
   "outputs": [
    {
     "data": {
      "text/plain": [
       "array([0.0073579 , 0.06765842, 0.13134168, 0.19341901, 0.2748018 ,\n",
       "       0.33656138, 0.39495054, 0.47948766, 0.53318924, 0.578541  ,\n",
       "       0.6410687 , 0.73307055, 0.8522859 , 0.92469484], dtype=float32)"
      ]
     },
     "execution_count": 994,
     "metadata": {},
     "output_type": "execute_result"
    }
   ],
   "source": [
    "c.model.predict(q).flatten()"
   ]
  },
  {
   "cell_type": "code",
   "execution_count": null,
   "metadata": {
    "collapsed": true
   },
   "outputs": [],
   "source": []
  }
 ],
 "metadata": {
  "kernelspec": {
   "display_name": "Python 3",
   "language": "python",
   "name": "python3"
  },
  "language_info": {
   "codemirror_mode": {
    "name": "ipython",
    "version": 3
   },
   "file_extension": ".py",
   "mimetype": "text/x-python",
   "name": "python",
   "nbconvert_exporter": "python",
   "pygments_lexer": "ipython3",
   "version": "3.6.0"
  }
 },
 "nbformat": 4,
 "nbformat_minor": 2
}
