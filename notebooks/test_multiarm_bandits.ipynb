{
 "cells": [
  {
   "cell_type": "code",
   "execution_count": 1,
   "metadata": {
    "collapsed": true
   },
   "outputs": [],
   "source": [
    "import numpy as np"
   ]
  },
  {
   "cell_type": "code",
   "execution_count": 38,
   "metadata": {
    "collapsed": true
   },
   "outputs": [],
   "source": [
    "%matplotlib inline\n",
    "\n",
    "from matplotlib import pyplot as plt\n"
   ]
  },
  {
   "cell_type": "code",
   "execution_count": 3,
   "metadata": {
    "collapsed": true
   },
   "outputs": [],
   "source": [
    "means = np.random.normal(loc= 0, scale = 1, size = (2000, 10))"
   ]
  },
  {
   "cell_type": "code",
   "execution_count": 4,
   "metadata": {},
   "outputs": [
    {
     "data": {
      "text/plain": [
       "array([-0.39783371, -1.12593155, -1.98856583, -1.20557544,  0.03525123,\n",
       "        0.32511122,  2.72542677,  1.18867912, -0.81343881,  2.6791546 ])"
      ]
     },
     "execution_count": 4,
     "metadata": {},
     "output_type": "execute_result"
    }
   ],
   "source": [
    "means[0]"
   ]
  },
  {
   "cell_type": "code",
   "execution_count": 103,
   "metadata": {
    "collapsed": true
   },
   "outputs": [],
   "source": [
    "'''\n",
    "This is a POLICY\n",
    "q_n = average of returns so far for each action\n",
    "c_n = count of each action so far\n",
    "\n",
    "return an action that is epsilon-greedy\n",
    "'''\n",
    "def epsilon_greedy_action( q_n, c_n, epsilon ):\n",
    "    e_value = np.random.uniform( low = 0, high = 1 )\n",
    "    \n",
    "    if e_value < 1 - epsilon:\n",
    "        '''Greedy'''\n",
    "        argmaxs = np.argwhere(q_n == np.amax(q_n)).flatten()\n",
    "        if len(argmaxs) == 1:\n",
    "            return argmaxs[0]\n",
    "        else:\n",
    "            return argmaxs[np.random.randint(low = 0, high = len(argmaxs))]\n",
    "    else:\n",
    "        '''Exploratory'''\n",
    "        return np.random.randint(low = 0, high = 10)"
   ]
  },
  {
   "cell_type": "code",
   "execution_count": 104,
   "metadata": {
    "collapsed": true
   },
   "outputs": [],
   "source": [
    "'''\n",
    "Get a reward from doing the action on the predefined config\n",
    "'''\n",
    "def get_reward ( config, action ):\n",
    "    mean, variance = config[action]\n",
    "    \n",
    "    return np.random.normal(loc= mean, scale = variance)\n",
    "\n",
    "'''\n",
    "For a set of parameters for 10-arm bandit problem, run through a number of iteration and draw statistic\n",
    "\n",
    "config = np.array of size (2,10), first row for mean, second row for variance\n",
    "policy = a function that take in (q_n, c_n) and return an action\n",
    "iterations = number of iterations\n",
    "\n",
    "Return:\n",
    "actions: all actions that have been selected\n",
    "rewards: all rewards that have been received\n",
    "c_ns: number of actions correspond to max action\n",
    "'''\n",
    "def run_for_one_config( config, policy, iterations = 1000):\n",
    "    q_n = np.zeros(10)\n",
    "    c_n = np.zeros(10, dtype=np.int32)\n",
    "    \n",
    "    actions = []\n",
    "    rewards = []\n",
    "    c_ns = []\n",
    "    \n",
    "    max_action = np.argmax(config[:,0])\n",
    "    \n",
    "    for i in range(iterations):\n",
    "        action = policy (q_n, c_n)\n",
    "        reward = get_reward ( config, action )\n",
    "        \n",
    "        # Update q_n, c_n\n",
    "        c_n[action] += 1\n",
    "        q_n[action] += ( reward - q_n[action] ) / c_n[action]\n",
    "        c_ns.append(c_n[max_action])\n",
    "        \n",
    "        actions.append(action)\n",
    "        rewards.append(reward)\n",
    "        \n",
    "    return np.array(actions), np.array(rewards), np.array(c_ns)\n",
    "\n",
    "'''\n",
    "Params:\n",
    "actions: all actions that have been selected\n",
    "rewards: all rewards that have been received\n",
    "\n",
    "Return:\n",
    "ave_rewards: average rewards that have been received so far\n",
    "\n",
    "'''\n",
    "def turn_to_statistics( rewards, iterations = 1000):\n",
    "    ave_rewards = []\n",
    "    last_average_reward = 0 # (it is actually ave_rewards[i-1])\n",
    "    \n",
    "    for i in range(iterations):\n",
    "        last_average_reward = last_average_reward + ( rewards[i] - last_average_reward )/(i + 1) \n",
    "        ave_rewards.append(last_average_reward)\n",
    "        \n",
    "    return np.array(ave_rewards)"
   ]
  },
  {
   "cell_type": "code",
   "execution_count": 105,
   "metadata": {},
   "outputs": [
    {
     "name": "stdout",
     "output_type": "stream",
     "text": [
      "[[-0.39783371  1.        ]\n",
      " [-1.12593155  1.        ]\n",
      " [-1.98856583  1.        ]\n",
      " [-1.20557544  1.        ]\n",
      " [ 0.03525123  1.        ]\n",
      " [ 0.32511122  1.        ]\n",
      " [ 2.72542677  1.        ]\n",
      " [ 1.18867912  1.        ]\n",
      " [-0.81343881  1.        ]\n",
      " [ 2.6791546   1.        ]]\n"
     ]
    }
   ],
   "source": [
    "config = np.stack([means[0], np.ones(10)]).T\n",
    "print(config)"
   ]
  },
  {
   "cell_type": "code",
   "execution_count": 106,
   "metadata": {
    "collapsed": true
   },
   "outputs": [],
   "source": [
    "actions, rewards, cns = run_for_one_config( config, lambda q_n, c_n : epsilon_greedy_action( q_n, c_n, 0.1))\n",
    "actions2, rewards2, cns2 = run_for_one_config( config, lambda q_n, c_n : epsilon_greedy_action( q_n, c_n, 0.01))\n",
    "actions3, rewards3, cns3 = run_for_one_config( config, lambda q_n, c_n : epsilon_greedy_action( q_n, c_n, 0))"
   ]
  },
  {
   "cell_type": "code",
   "execution_count": 107,
   "metadata": {
    "collapsed": true
   },
   "outputs": [],
   "source": [
    "avg_rewards = turn_to_statistics(rewards)\n",
    "avg_rewards2 = turn_to_statistics(rewards2)\n",
    "avg_rewards3 = turn_to_statistics(rewards3)"
   ]
  },
  {
   "cell_type": "code",
   "execution_count": 108,
   "metadata": {},
   "outputs": [
    {
     "data": {
      "text/plain": [
       "[<matplotlib.lines.Line2D at 0x1babee1ada0>]"
      ]
     },
     "execution_count": 108,
     "metadata": {},
     "output_type": "execute_result"
    },
    {
     "data": {
      "image/png": "[encoded data removed]",
      "text/plain": [
       "<matplotlib.figure.Figure at 0x1babed91fd0>"
      ]
     },
     "metadata": {},
     "output_type": "display_data"
    }
   ],
   "source": [
    "plt.plot(np.arange(1000),avg_rewards, color ='r')\n",
    "plt.plot(np.arange(1000),avg_rewards2, color = 'g')\n",
    "plt.plot(np.arange(1000),avg_rewards3, color = 'b')\n"
   ]
  },
  {
   "cell_type": "code",
   "execution_count": 110,
   "metadata": {},
   "outputs": [
    {
     "data": {
      "text/plain": [
       "[<matplotlib.lines.Line2D at 0x1babef5b940>]"
      ]
     },
     "execution_count": 110,
     "metadata": {},
     "output_type": "execute_result"
    },
    {
     "data": {
      "image/png": "[encoded data removed]",
      "text/plain": [
       "<matplotlib.figure.Figure at 0x1babee6feb8>"
      ]
     },
     "metadata": {},
     "output_type": "display_data"
    }
   ],
   "source": [
    "plt.plot(np.arange(1000),cns/np.arange(1,1001), color ='r')\n",
    "plt.plot(np.arange(1000),cns2/np.arange(1,1001), color = 'g')\n",
    "plt.plot(np.arange(1000),cns3/np.arange(1,1001), color = 'b')"
   ]
  },
  {
   "cell_type": "code",
   "execution_count": 114,
   "metadata": {},
   "outputs": [
    {
     "name": "stdout",
     "output_type": "stream",
     "text": [
      "0\n"
     ]
    }
   ],
   "source": [
    "# Average for multiple configuration\n",
    "avg_cns = np.zeros((3,1000))\n",
    "avg_avg_rewards = np.zeros((3,1000))\n",
    "\n",
    "epsilons = [0.1, 0.01, 0]\n",
    "for i in range(100):\n",
    "    if i % 100 == 0:\n",
    "        print (i)\n",
    "    config = np.stack([means[i], np.ones(10)]).T\n",
    "    \n",
    "    for j in range(len(epsilons)):\n",
    "        actions, rewards, cns = run_for_one_config( config, lambda q_n, c_n : epsilon_greedy_action( q_n, c_n, epsilons[j]))\n",
    "        avg_rewards = turn_to_statistics(rewards)\n",
    "        \n",
    "        avg_cns[j] += (cns - avg_cns[j]) * 1.0 / (i+1)\n",
    "        avg_avg_rewards[j] += (avg_rewards - avg_avg_rewards[j]) * 1.0 / (i+1)"
   ]
  },
  {
   "cell_type": "code",
   "execution_count": 115,
   "metadata": {},
   "outputs": [
    {
     "data": {
      "text/plain": [
       "[<matplotlib.lines.Line2D at 0x1bac00faf98>]"
      ]
     },
     "execution_count": 115,
     "metadata": {},
     "output_type": "execute_result"
    },
    {
     "data": {
      "image/png": "[encoded data removed]",
      "text/plain": [
       "<matplotlib.figure.Figure at 0x1bac007a160>"
      ]
     },
     "metadata": {},
     "output_type": "display_data"
    }
   ],
   "source": [
    "plt.plot(np.arange(1000),avg_avg_rewards[0], color ='r')\n",
    "plt.plot(np.arange(1000),avg_avg_rewards[1], color = 'g')\n",
    "plt.plot(np.arange(1000),avg_avg_rewards[2], color = 'b')\n"
   ]
  },
  {
   "cell_type": "code",
   "execution_count": 116,
   "metadata": {},
   "outputs": [
    {
     "data": {
      "text/plain": [
       "[<matplotlib.lines.Line2D at 0x1babee44ef0>]"
      ]
     },
     "execution_count": 116,
     "metadata": {},
     "output_type": "execute_result"
    },
    {
     "data": {
      "image/png": "[encoded data removed]",
      "text/plain": [
       "<matplotlib.figure.Figure at 0x1babef6d518>"
      ]
     },
     "metadata": {},
     "output_type": "display_data"
    }
   ],
   "source": [
    "plt.plot(np.arange(1000),avg_cns[0]/np.arange(1,1001), color ='r')\n",
    "plt.plot(np.arange(1000),avg_cns[1]/np.arange(1,1001), color = 'g')\n",
    "plt.plot(np.arange(1000),avg_cns[2]/np.arange(1,1001), color = 'b')"
   ]
  },
  {
   "cell_type": "code",
   "execution_count": 92,
   "metadata": {},
   "outputs": [
    {
     "data": {
      "text/plain": [
       "array([[-0.39783371, -1.12593155, -1.98856583, -1.20557544,  0.03525123,\n",
       "         0.32511122,  2.72542677,  1.18867912, -0.81343881,  2.6791546 ],\n",
       "       [ 1.80778576, -1.66796189,  0.39943735,  0.0744907 ,  0.02816629,\n",
       "         2.46286334,  0.66194674,  0.86717812, -0.13513382, -0.13935182],\n",
       "       [ 0.43480839, -1.21007101,  0.57837772, -0.10221819, -0.39313696,\n",
       "         1.39522989,  0.92052636, -0.41080767, -0.41763138,  0.5765782 ]])"
      ]
     },
     "execution_count": 92,
     "metadata": {},
     "output_type": "execute_result"
    }
   ],
   "source": [
    "means[:3]"
   ]
  },
  {
   "cell_type": "code",
   "execution_count": 99,
   "metadata": {
    "collapsed": true
   },
   "outputs": [],
   "source": [
    "argmaxs = np.argwhere([1,1,2] == np.amax([1,1,2]))"
   ]
  },
  {
   "cell_type": "code",
   "execution_count": 100,
   "metadata": {},
   "outputs": [
    {
     "data": {
      "text/plain": [
       "array([[2]], dtype=int64)"
      ]
     },
     "execution_count": 100,
     "metadata": {},
     "output_type": "execute_result"
    }
   ],
   "source": [
    "argmaxs"
   ]
  },
  {
   "cell_type": "code",
   "execution_count": 102,
   "metadata": {},
   "outputs": [
    {
     "data": {
      "text/plain": [
       "array([0, 3, 5], dtype=int64)"
      ]
     },
     "execution_count": 102,
     "metadata": {},
     "output_type": "execute_result"
    }
   ],
   "source": [
    "l = [7, 6, 5, 7, 6, 7, 6, 6, 6, 4, 5, 6]\n",
    "np.argwhere(l == np.max(l)).flatten()"
   ]
  },
  {
   "cell_type": "code",
   "execution_count": 159,
   "metadata": {
    "collapsed": true
   },
   "outputs": [],
   "source": [
    "'''\n",
    "Upper confidence bound action\n",
    "\n",
    "q_n: average of returns so far for each action\n",
    "c_n: count of each action so far\n",
    "c: control degree of exploration\n",
    "\n",
    "return an action that is not yet explored much relatively\n",
    "'''\n",
    "def ucb_action( q_n, c_n, c ):\n",
    "    modified_qn = np.copy(q_n)\n",
    "    \n",
    "    # actions that hasn't been done\n",
    "    not_explored_actions = np.argwhere(c_n == 0).flatten()\n",
    "    \n",
    "    if (len(not_explored_actions) != 0) :\n",
    "        # Pick from one of these action\n",
    "        return not_explored_actions[np.random.randint(low = 0, high = len(not_explored_actions))]\n",
    "    \n",
    "    total_step = np.sum(c_n)\n",
    "    modified_qn += np.sqrt(np.log(total_step)/c_n)\n",
    "    \n",
    "    argmaxs = np.argwhere(modified_qn == np.amax(modified_qn)).flatten()\n",
    "    if len(argmaxs) == 1:\n",
    "        return argmaxs[0]\n",
    "    else:\n",
    "        return argmaxs[np.random.randint(low = 0, high = len(argmaxs))]"
   ]
  },
  {
   "cell_type": "code",
   "execution_count": 147,
   "metadata": {},
   "outputs": [
    {
     "name": "stdout",
     "output_type": "stream",
     "text": [
      "[ 2.39495883  2.98638485  3.98638485  2.89495883  1.89495883]\n"
     ]
    },
    {
     "data": {
      "text/plain": [
       "2"
      ]
     },
     "execution_count": 147,
     "metadata": {},
     "output_type": "execute_result"
    }
   ],
   "source": [
    "ucb_action ( np.array([1.0,2, 3.0, 1.5, 0.5]), np.array([1,2,2,1,1]), 2)"
   ]
  },
  {
   "cell_type": "code",
   "execution_count": 168,
   "metadata": {},
   "outputs": [
    {
     "name": "stdout",
     "output_type": "stream",
     "text": [
      "0\n"
     ]
    }
   ],
   "source": [
    "# ucb\n",
    "avg_cns_2 = np.zeros((2,1000))\n",
    "avg_avg_rewards_2 = np.zeros((2,1000))\n",
    "\n",
    "cs = [1,2]\n",
    "for i in range(100):\n",
    "    if i % 100 == 0:\n",
    "        print (i)\n",
    "    config = np.stack([means[i], np.ones(10)]).T\n",
    "    \n",
    "    for j in range(len(cs)):\n",
    "        actions, rewards, cns = run_for_one_config( config, lambda q_n, c_n : ucb_action( q_n, c_n, cs[j]))\n",
    "        avg_rewards = turn_to_statistics(rewards)\n",
    "\n",
    "        avg_cns_2[j] += (cns - avg_cns_2[j]) * 1.0 / (i+1)\n",
    "        avg_avg_rewards_2[j] += (avg_rewards - avg_avg_rewards_2[j]) * 1.0 / (i+1)"
   ]
  },
  {
   "cell_type": "code",
   "execution_count": 169,
   "metadata": {},
   "outputs": [
    {
     "data": {
      "text/plain": [
       "[<matplotlib.lines.Line2D at 0x1bac03f9320>]"
      ]
     },
     "execution_count": 169,
     "metadata": {},
     "output_type": "execute_result"
    },
    {
     "data": {
      "image/png": "[encoded data removed]",
      "text/plain": [
       "<matplotlib.figure.Figure at 0x1bac03a0470>"
      ]
     },
     "metadata": {},
     "output_type": "display_data"
    }
   ],
   "source": [
    "plt.plot(np.arange(1000),avg_avg_rewards_2[0], color ='r')\n",
    "plt.plot(np.arange(1000),avg_avg_rewards_2[1], color = 'g')\n",
    "plt.plot(np.arange(1000),avg_avg_rewards[0], color = 'b')"
   ]
  },
  {
   "cell_type": "markdown",
   "metadata": {},
   "source": [
    "Exploration is needed because the estimates of the action values are uncertain. The greedy actions are those that look best at present, but some of the other actions may actually be better. \"-greedy action selection forces the non-greedy actions to be tried, but indiscriminately, with no preference for those that are nearly greedy or particularly uncertain. It would be better to select among the non-greedy actions according to their potential for actually being optimal, taking into account both how close their estimates are to being maximal and the uncertainties in those estimates."
   ]
  },
  {
   "cell_type": "code",
   "execution_count": 170,
   "metadata": {},
   "outputs": [
    {
     "data": {
      "text/plain": [
       "[<matplotlib.lines.Line2D at 0x1bac0433f28>]"
      ]
     },
     "execution_count": 170,
     "metadata": {},
     "output_type": "execute_result"
    },
    {
     "data": {
      "image/png": "[encoded data removed]",
      "text/plain": [
       "<matplotlib.figure.Figure at 0x1bac04337f0>"
      ]
     },
     "metadata": {},
     "output_type": "display_data"
    }
   ],
   "source": [
    "plt.plot(np.arange(50),avg_avg_rewards_2[0][:50], color ='r')\n",
    "plt.plot(np.arange(50),avg_avg_rewards_2[1][:50], color = 'g')"
   ]
  },
  {
   "cell_type": "markdown",
   "metadata": {},
   "source": [
    "Gradient Bandit Algorithms\n",
    "\n",
    "Instead of using straightly the reward values to choose the action, using a preference value H(action) that can be calculated by reward values. Selected actions is determined according to a soft-max distribution (i.e., Gibbs or Boltzmann distribution). This is a very natural approach.\n",
    "\n",
    "Values of Preference value H will be updated with stochastic gradient ascent.\n"
   ]
  },
  {
   "cell_type": "code",
   "execution_count": 176,
   "metadata": {
    "collapsed": true
   },
   "outputs": [],
   "source": [
    "'''\n",
    "This is a POLICY\n",
    "h_n = preference for each action\n",
    "c_n = count of each action so far\n",
    "\n",
    "return:\n",
    "p_x: softmax distribution\n",
    "an action based on softmax-distribution\n",
    "'''\n",
    "def softmax_policy (h_n, c_n):\n",
    "    # Softmax distribution\n",
    "    p_n = np.exp(h_n - np.max(h_n))\n",
    "    p_n /= np.sum(p_n)\n",
    "    \n",
    "    argmaxs = np.argwhere(p_n == np.amax(p_n)).flatten()\n",
    "    if len(argmaxs) == 1:\n",
    "        return p_n, argmaxs[0]\n",
    "    else:\n",
    "        return p_n, argmaxs[np.random.randint(low = 0, high = len(argmaxs))]\n",
    "\n",
    "'''\n",
    "gradient bandit algorithm\n",
    "For a set of parameters for 10-arm bandit problem, run through a number of iteration and draw statistic\n",
    "\n",
    "config = np.array of size (2,10), first row for mean, second row for variance\n",
    "policy = a function that take in (q_n, c_n) and return an action\n",
    "iterations = number of iterations\n",
    "\n",
    "Return:\n",
    "actions: all actions that have been selected\n",
    "rewards: all rewards that have been received\n",
    "c_ns: number of actions correspond to max action\n",
    "'''\n",
    "def gradient_bandit_for_one_config( config, policy, alpha = 0.1, iterations = 1000):\n",
    "    # Preference for each action\n",
    "    # Need to be updated by gradient algorithm\n",
    "    h_n = np.zeros(10)\n",
    "    c_n = np.zeros(10, dtype=np.int32)\n",
    "    \n",
    "    actions = []\n",
    "    rewards = []\n",
    "    c_ns = []\n",
    "    \n",
    "    avg_reward = 0\n",
    "    \n",
    "    max_action = np.argmax(config[:,0])\n",
    "    \n",
    "    for i in range(iterations):\n",
    "        prob, action = policy (h_n, c_n)\n",
    "        reward = get_reward ( config, action )\n",
    "        \n",
    "        # Update h_n, c_n\n",
    "        # Need to update avg_reward before update q_n\n",
    "        avg_reward += ( reward - avg_reward )/(i + 1)\n",
    "        h_n -= alpha * (reward - avg_reward) * prob\n",
    "        h_n[action] += alpha * (reward - avg_reward)\n",
    "        \n",
    "        c_n[action] += 1\n",
    "        \n",
    "        # Append this iteration\n",
    "        c_ns.append(c_n[max_action])\n",
    "        actions.append(action)\n",
    "        rewards.append(reward)\n",
    "        \n",
    "    return np.array(actions), np.array(rewards), np.array(c_ns)"
   ]
  },
  {
   "cell_type": "code",
   "execution_count": 177,
   "metadata": {},
   "outputs": [
    {
     "name": "stdout",
     "output_type": "stream",
     "text": [
      "0\n"
     ]
    }
   ],
   "source": [
    "# gradient bandit algorithm\n",
    "avg_cns_grad = np.zeros((2,1000))\n",
    "avg_avg_rewards_grad = np.zeros((2,1000))\n",
    "\n",
    "alphas = [0.1,0.4]\n",
    "for i in range(100):\n",
    "    if i % 100 == 0:\n",
    "        print (i)\n",
    "    config = np.stack([means[i], np.ones(10)]).T\n",
    "    \n",
    "    for j in range(len(alphas)):\n",
    "        actions, rewards, cns = gradient_bandit_for_one_config( config, lambda h_n, c_n : softmax_policy(h_n, c_n), alpha= alphas[j])\n",
    "        avg_rewards = turn_to_statistics(rewards)\n",
    "\n",
    "        avg_cns_grad[j] += (cns - avg_cns_grad[j]) * 1.0 / (i+1)\n",
    "        avg_avg_rewards_grad[j] += (avg_rewards - avg_avg_rewards_grad[j]) * 1.0 / (i+1)"
   ]
  },
  {
   "cell_type": "code",
   "execution_count": 178,
   "metadata": {},
   "outputs": [
    {
     "data": {
      "text/plain": [
       "[<matplotlib.lines.Line2D at 0x1bac0524048>]"
      ]
     },
     "execution_count": 178,
     "metadata": {},
     "output_type": "execute_result"
    },
    {
     "data": {
      "image/png": "[encoded data removed]",
      "text/plain": [
       "<matplotlib.figure.Figure at 0x1bac050c5c0>"
      ]
     },
     "metadata": {},
     "output_type": "display_data"
    }
   ],
   "source": [
    "plt.plot(np.arange(1000),avg_avg_rewards_grad[0], color ='r')\n",
    "plt.plot(np.arange(1000),avg_avg_rewards_grad[1], color = 'g')"
   ]
  },
  {
   "cell_type": "code",
   "execution_count": 179,
   "metadata": {},
   "outputs": [
    {
     "data": {
      "text/plain": [
       "[<matplotlib.lines.Line2D at 0x1bac051e8d0>]"
      ]
     },
     "execution_count": 179,
     "metadata": {},
     "output_type": "execute_result"
    },
    {
     "data": {
      "image/png": "[encoded data removed]",
      "text/plain": [
       "<matplotlib.figure.Figure at 0x1bac04d49b0>"
      ]
     },
     "metadata": {},
     "output_type": "display_data"
    }
   ],
   "source": [
    "plt.plot(np.arange(1000),avg_cns_grad[0]/np.arange(1,1001), color ='r')\n",
    "plt.plot(np.arange(1000),avg_cns_grad[1]/np.arange(1,1001), color = 'g')"
   ]
  },
  {
   "cell_type": "code",
   "execution_count": null,
   "metadata": {
    "collapsed": true
   },
   "outputs": [],
   "source": []
  }
 ],
 "metadata": {
  "kernelspec": {
   "display_name": "Python 3",
   "language": "python",
   "name": "python3"
  },
  "language_info": {
   "codemirror_mode": {
    "name": "ipython",
    "version": 3
   },
   "file_extension": ".py",
   "mimetype": "text/x-python",
   "name": "python",
   "nbconvert_exporter": "python",
   "pygments_lexer": "ipython3",
   "version": "3.6.2"
  }
 },
 "nbformat": 4,
 "nbformat_minor": 2
}
