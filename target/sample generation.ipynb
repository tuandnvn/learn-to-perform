{
 "cells": [
  {
   "cell_type": "markdown",
   "metadata": {},
   "source": [
    "In this project, we will generate a few kinds of object structures:\n",
    "\n",
    "- Triangle: Right triangle that has shorter edges parallel to axis\n",
    "\n",
    "   ``\n",
    "O\n",
    "OOO\n",
    "OOOOO\n",
    "   ``\n",
    "- Rectangle: Small rectangle\n",
    "\n",
    "- L shape\n",
    "\n",
    "   ``\n",
    "O\n",
    "O\n",
    "OOOOO\n",
    "   ``"
   ]
  },
  {
   "cell_type": "code",
   "execution_count": 1,
   "metadata": {
    "collapsed": true
   },
   "outputs": [],
   "source": [
    "from random import random\n",
    "from random import randint\n",
    "from random import choice\n",
    "from numpy import array\n",
    "from numpy import zeros\n",
    "import numpy as np"
   ]
  },
  {
   "cell_type": "code",
   "execution_count": 2,
   "metadata": {
    "collapsed": true
   },
   "outputs": [],
   "source": [
    "%matplotlib inline\n",
    "import matplotlib as mpl\n",
    "from matplotlib import pyplot"
   ]
  },
  {
   "cell_type": "code",
   "execution_count": 3,
   "metadata": {
    "collapsed": true
   },
   "outputs": [],
   "source": [
    "def check_in_frame ( size, pos ):\n",
    "    \"\"\"\n",
    "    Allow space around the shape\n",
    "    \"\"\"\n",
    "    if 0 <= pos[0] < size and  0 <= pos[1] < size:\n",
    "        return True\n",
    "    return False\n",
    "\n",
    "def check_in_frame_with_space ( size, pos ):\n",
    "    \"\"\"\n",
    "    Allow space around the shape\n",
    "    \"\"\"\n",
    "    if 1 <= pos[0] < size - 1 and  1 <= pos[1] < size - 1:\n",
    "        return True\n",
    "    return False"
   ]
  },
  {
   "cell_type": "code",
   "execution_count": 4,
   "metadata": {
    "collapsed": true
   },
   "outputs": [],
   "source": [
    "def generate_rectangle(frame , width, height, position, color):\n",
    "    \"\"\"\n",
    "    Parameters:\n",
    "    =====================\n",
    "    frame: squared frame\n",
    "    width: width of rectangle\n",
    "    height: height of rectangle\n",
    "    position: tuple of 2\n",
    "    color: (color the cells with this value)\n",
    "    \n",
    "    Returns:\n",
    "    =====================\n",
    "    - success: whether imposition successes or not\n",
    "    \"\"\"\n",
    "    size = frame.shape[0]\n",
    "    other_corner = ( position[0] + height - 1, position[1] + width - 1 )\n",
    "    \n",
    "    if not check_in_frame ( size, position ) or not check_in_frame ( size, other_corner ):\n",
    "        return False\n",
    "    \n",
    "    frame[ position[0] : position[0] + height, \n",
    "          position[1] : position[1] + width] = np.ones((height, width)) * color\n",
    "    \n",
    "    return True"
   ]
  },
  {
   "cell_type": "markdown",
   "metadata": {},
   "source": [
    "#### Test"
   ]
  },
  {
   "cell_type": "code",
   "execution_count": 5,
   "metadata": {
    "collapsed": false
   },
   "outputs": [
    {
     "name": "stdout",
     "output_type": "stream",
     "text": [
      "[[ 0.  0.  0.  0.  0.  0.  0.  0.  0.  0.]\n",
      " [ 0.  0.  0.  0.  0.  0.  0.  0.  0.  0.]\n",
      " [ 0.  0.  2.  2.  2.  2.  0.  0.  0.  0.]\n",
      " [ 0.  0.  2.  2.  2.  2.  0.  0.  0.  0.]\n",
      " [ 0.  0.  0.  0.  0.  0.  0.  0.  0.  0.]\n",
      " [ 0.  0.  0.  0.  0.  0.  0.  0.  0.  0.]\n",
      " [ 0.  0.  0.  0.  0.  0.  0.  0.  0.  0.]\n",
      " [ 0.  0.  0.  0.  0.  0.  0.  0.  0.  0.]\n",
      " [ 0.  0.  0.  0.  0.  0.  0.  0.  0.  0.]\n",
      " [ 0.  0.  0.  0.  0.  0.  0.  0.  0.  0.]]\n"
     ]
    }
   ],
   "source": [
    "f = zeros ((10, 10))\n",
    "\n",
    "generate_rectangle(f, 4, 2, (2,2), 2)\n",
    "\n",
    "print (f)"
   ]
  },
  {
   "cell_type": "code",
   "execution_count": 6,
   "metadata": {
    "collapsed": true
   },
   "outputs": [],
   "source": [
    "def generate_triangle(frame, side, direction, position, color):\n",
    "    \"\"\"\n",
    "    Impose an triangle shape structure on the frame, position is where you start it (top-left corner of rectangle)\n",
    "    \n",
    "    This is a triangle with side = 4, direction = 0\n",
    "    \n",
    "    S\n",
    "    o o \n",
    "    o o o\n",
    "    o o o o\n",
    "    \n",
    "    direction = 1\n",
    "    \n",
    "    S o o o\n",
    "    o o o \n",
    "    o o\n",
    "    o \n",
    "    \n",
    "    direction = 2\n",
    "    \n",
    "    S o o o\n",
    "      o o o \n",
    "        o o\n",
    "          o \n",
    "    \n",
    "    direction = 3\n",
    "    \n",
    "    S     o\n",
    "        o o \n",
    "      o o o\n",
    "    o o o o\n",
    "    \n",
    "    Parameters:\n",
    "    =====================\n",
    "    frame: squared frame\n",
    "    side: length of the shorter side of triangle\n",
    "    direction: \n",
    "    position: tuple of 2\n",
    "    color: (color the cells with this value)\n",
    "    \n",
    "    Returns:\n",
    "    =====================\n",
    "    - success: whether imposition successes or not\n",
    "    \n",
    "    \"\"\"\n",
    "    size = frame.shape[0]\n",
    "    other_corner = ( position[0] + side - 1, position[1] + side - 1 )\n",
    "    \n",
    "    if not check_in_frame ( size, position) or not check_in_frame ( size, other_corner ):\n",
    "        return False\n",
    "    \n",
    "    inner_shape = np.tril(np.ones((side, side)) * color)\n",
    "    \n",
    "    # Generate for direction == 0, and rotate it to the correct direction\n",
    "    rotated_shape = np.rot90 ( inner_shape, -direction )\n",
    "    \n",
    "    \n",
    "    frame[ position[0] : position[0] + rotated_shape.shape[0], \n",
    "          position[1] : position[1] + rotated_shape.shape[1] ] = rotated_shape\n",
    "    \n",
    "    return True"
   ]
  },
  {
   "cell_type": "markdown",
   "metadata": {},
   "source": [
    "#### Test"
   ]
  },
  {
   "cell_type": "code",
   "execution_count": 7,
   "metadata": {
    "collapsed": false
   },
   "outputs": [
    {
     "name": "stdout",
     "output_type": "stream",
     "text": [
      "[[ 0.  0.  0.  0.  0.  0.  0.  0.  0.  0.]\n",
      " [ 0.  0.  0.  0.  0.  0.  0.  0.  0.  0.]\n",
      " [ 0.  0.  0.  0.  0.  1.  0.  0.  0.  0.]\n",
      " [ 0.  0.  0.  0.  1.  1.  0.  0.  0.  0.]\n",
      " [ 0.  0.  0.  1.  1.  1.  0.  0.  0.  0.]\n",
      " [ 0.  0.  1.  1.  1.  1.  0.  0.  0.  0.]\n",
      " [ 0.  0.  0.  0.  0.  0.  0.  0.  0.  0.]\n",
      " [ 0.  0.  0.  0.  0.  0.  0.  0.  0.  0.]\n",
      " [ 0.  0.  0.  0.  0.  0.  0.  0.  0.  0.]\n",
      " [ 0.  0.  0.  0.  0.  0.  0.  0.  0.  0.]]\n"
     ]
    }
   ],
   "source": [
    "f = zeros ((10, 10))\n",
    "\n",
    "generate_triangle(f, 4, 3, (2,2), 1)\n",
    "\n",
    "print (f)"
   ]
  },
  {
   "cell_type": "code",
   "execution_count": 8,
   "metadata": {
    "collapsed": true
   },
   "outputs": [],
   "source": [
    "def generate_l_shape(frame, width, height, direction, position, color):\n",
    "    \"\"\"\n",
    "    Impose an triangle shape structure on the frame, position is where you start it (top-left corner of rectangle)\n",
    "    \n",
    "    This is a triangle with width = 4, height = 3, direction = 0\n",
    "    \n",
    "    S\n",
    "    o \n",
    "    o o o o\n",
    "    \n",
    "    direction = 1\n",
    "    \n",
    "    S o o o\n",
    "    o \n",
    "    o\n",
    "    \n",
    "    direction = 2\n",
    "    \n",
    "    S o o o\n",
    "          o \n",
    "          o\n",
    "    \n",
    "    direction = 3\n",
    "    \n",
    "    S     o\n",
    "          o \n",
    "    o o o o\n",
    "    \n",
    "    Parameters:\n",
    "    =====================\n",
    "    frame: squared frame\n",
    "    width: width of rectangle\n",
    "    height: height of rectangle\n",
    "    direction: \n",
    "    position: tuple of 2\n",
    "    color: (color the cells with this value)\n",
    "    \n",
    "    Returns:\n",
    "    =====================\n",
    "    - success: whether imposition successes or not\n",
    "    \n",
    "    \"\"\"\n",
    "    size = frame.shape[0]\n",
    "    other_corner = ( position[0] + height - 1, position[1] + width - 1 )\n",
    "    \n",
    "    if not check_in_frame ( size, position) or not check_in_frame ( size, other_corner ):\n",
    "        return False\n",
    "    \n",
    "    if direction == 0 or direction == 3:\n",
    "        frame[ position[0] + height - 1,  position[1] : position[1] + width ] = color\n",
    "    \n",
    "    if direction == 1 or direction == 2:\n",
    "        frame[ position[0]             ,  position[1] : position[1] + width ] = color\n",
    "        \n",
    "    if direction == 0 or direction == 1:\n",
    "        frame[ position[0]: position[0] + height,  position[1] ] = color\n",
    "        \n",
    "    if direction == 2 or direction == 3:\n",
    "        frame[ position[0]: position[0] + height,  position[1] + width - 1 ] = color\n",
    "    \n",
    "    return True"
   ]
  },
  {
   "cell_type": "markdown",
   "metadata": {},
   "source": [
    "#### Test"
   ]
  },
  {
   "cell_type": "code",
   "execution_count": 9,
   "metadata": {
    "collapsed": false
   },
   "outputs": [
    {
     "name": "stdout",
     "output_type": "stream",
     "text": [
      "[[ 0.  0.  0.  0.  0.  0.  0.  0.  0.  0.]\n",
      " [ 0.  0.  0.  0.  0.  0.  0.  0.  0.  0.]\n",
      " [ 0.  0.  1.  0.  0.  0.  0.  0.  0.  0.]\n",
      " [ 0.  0.  1.  1.  1.  0.  0.  0.  0.  0.]\n",
      " [ 0.  0.  0.  0.  0.  0.  0.  0.  0.  0.]\n",
      " [ 0.  0.  0.  0.  0.  0.  0.  0.  0.  0.]\n",
      " [ 0.  0.  0.  0.  0.  0.  0.  0.  0.  0.]\n",
      " [ 0.  0.  0.  0.  0.  0.  0.  0.  0.  0.]\n",
      " [ 0.  0.  0.  0.  0.  0.  0.  0.  0.  0.]\n",
      " [ 0.  0.  0.  0.  0.  0.  0.  0.  0.  0.]]\n"
     ]
    }
   ],
   "source": [
    "f = zeros ((10, 10))\n",
    "\n",
    "generate_l_shape(f, 3, 2, 0, (2,2), 1)\n",
    "\n",
    "print (f)"
   ]
  },
  {
   "cell_type": "code",
   "execution_count": 10,
   "metadata": {
    "collapsed": false
   },
   "outputs": [
    {
     "name": "stdout",
     "output_type": "stream",
     "text": [
      "[[ 0.  0.  0.  0.  0.  0.  0.  0.  0.  0.]\n",
      " [ 0.  0.  0.  0.  0.  0.  0.  0.  0.  0.]\n",
      " [ 0.  0.  1.  0.  0.  0.  0.  0.  0.  0.]\n",
      " [ 0.  0.  1.  1.  1.  0.  0.  0.  0.  0.]\n",
      " [ 0.  0.  0.  0.  5.  0.  0.  0.  0.  0.]\n",
      " [ 0.  0.  0.  0.  5.  5.  5.  0.  0.  0.]\n",
      " [ 0.  0.  0.  0.  0.  0.  0.  0.  0.  0.]\n",
      " [ 0.  0.  0.  0.  0.  0.  0.  0.  0.  0.]\n",
      " [ 0.  0.  0.  0.  0.  0.  0.  0.  0.  0.]\n",
      " [ 0.  0.  0.  0.  0.  0.  0.  0.  0.  0.]]\n"
     ]
    }
   ],
   "source": [
    "generate_l_shape(f, 3, 2, 0, (4,4), 5)\n",
    "\n",
    "print (f)"
   ]
  },
  {
   "cell_type": "code",
   "execution_count": 11,
   "metadata": {
    "collapsed": false
   },
   "outputs": [
    {
     "name": "stdout",
     "output_type": "stream",
     "text": [
      "[[ 0.  0.  0.  0.  0.  3.  0.  0.  0.  0.]\n",
      " [ 0.  0.  0.  0.  0.  3.  3.  3.  0.  0.]\n",
      " [ 0.  0.  1.  0.  0.  0.  0.  0.  0.  0.]\n",
      " [ 0.  0.  1.  1.  1.  0.  0.  0.  0.  0.]\n",
      " [ 0.  0.  0.  0.  5.  0.  0.  0.  0.  0.]\n",
      " [ 0.  0.  0.  0.  5.  5.  5.  0.  0.  0.]\n",
      " [ 0.  0.  0.  0.  0.  0.  0.  0.  0.  0.]\n",
      " [ 0.  0.  0.  0.  0.  0.  0.  0.  0.  0.]\n",
      " [ 0.  0.  0.  0.  0.  0.  0.  0.  0.  0.]\n",
      " [ 0.  0.  0.  0.  0.  0.  0.  0.  0.  0.]]\n"
     ]
    }
   ],
   "source": [
    "generate_l_shape(f, 3, 2, 0, (0,5), 3)\n",
    "\n",
    "print (f)"
   ]
  },
  {
   "cell_type": "markdown",
   "metadata": {},
   "source": [
    "### Create a color codes"
   ]
  },
  {
   "cell_type": "code",
   "execution_count": 12,
   "metadata": {
    "collapsed": true
   },
   "outputs": [],
   "source": [
    "codes = ['white', 'green', 'blue', 'yellow', 'purple', 'red']\n",
    "cm = mpl.colors.ListedColormap(codes)"
   ]
  },
  {
   "cell_type": "code",
   "execution_count": 13,
   "metadata": {
    "collapsed": true
   },
   "outputs": [],
   "source": [
    "# Plot function with colors\n",
    "def plot( frame , l = None):\n",
    "    # This method might code pixel's value % len(codes) == 0 to be white\n",
    "    color_frame = frame\n",
    "    color_frame[np.where ( (color_frame % len(codes) == 0) & (color_frame != 0 ) )] = len(codes) - 1\n",
    "    color_frame = color_frame % len(codes)\n",
    "    \n",
    "    # create a gray scale subplot for each frame\n",
    "    pyplot.imshow(color_frame, cmap=cm )\n",
    "    # turn of the scale to make it clearer\n",
    "    ax = pyplot.gca()\n",
    "    ax.get_xaxis().set_visible(False)\n",
    "    ax.get_yaxis().set_visible(False)\n",
    "    \n",
    "    # show the plot\n",
    "    pyplot.show()"
   ]
  },
  {
   "cell_type": "code",
   "execution_count": 14,
   "metadata": {
    "collapsed": false
   },
   "outputs": [
    {
     "data": {
      "image/png": "[encoded data removed]",
      "text/plain": [
       "<matplotlib.figure.Figure at 0x109c67160>"
      ]
     },
     "metadata": {},
     "output_type": "display_data"
    }
   ],
   "source": [
    "plot(f)"
   ]
  },
  {
   "cell_type": "markdown",
   "metadata": {},
   "source": [
    "Notice that pixel values in the image would be mapped to range (0, 1) before mapping to the real color values"
   ]
  },
  {
   "cell_type": "code",
   "execution_count": 15,
   "metadata": {
    "collapsed": false
   },
   "outputs": [],
   "source": [
    "import generate_rectangle\n",
    "from importlib import reload"
   ]
  },
  {
   "cell_type": "code",
   "execution_count": 132,
   "metadata": {
    "collapsed": false
   },
   "outputs": [
    {
     "data": {
      "text/plain": [
       "<module 'generate_rectangle' from '/Users/tuando/git/learn-to-perform/target/generate_rectangle.py'>"
      ]
     },
     "execution_count": 132,
     "metadata": {},
     "output_type": "execute_result"
    }
   ],
   "source": [
    "reload(generate_rectangle)"
   ]
  },
  {
   "cell_type": "code",
   "execution_count": 103,
   "metadata": {
    "collapsed": false
   },
   "outputs": [],
   "source": [
    "f = generate_rectangle.generate_frame ( 15, 3, 3, 2, (2, 3) )"
   ]
  },
  {
   "cell_type": "markdown",
   "metadata": {},
   "source": [
    "#### Testing print colors of shapes looks pretty"
   ]
  },
  {
   "cell_type": "code",
   "execution_count": 104,
   "metadata": {
    "collapsed": false
   },
   "outputs": [
    {
     "data": {
      "image/png": "[encoded data removed]",
      "text/plain": [
       "<matplotlib.figure.Figure at 0x10dcb83c8>"
      ]
     },
     "metadata": {},
     "output_type": "display_data"
    }
   ],
   "source": [
    "plot(f)"
   ]
  },
  {
   "cell_type": "code",
   "execution_count": 105,
   "metadata": {
    "collapsed": false
   },
   "outputs": [],
   "source": [
    "src, target = generate_rectangle.generate_src_target ( f )"
   ]
  },
  {
   "cell_type": "code",
   "execution_count": 106,
   "metadata": {
    "collapsed": false
   },
   "outputs": [
    {
     "data": {
      "image/png": "[encoded data removed]",
      "text/plain": [
       "<matplotlib.figure.Figure at 0x10d5cb080>"
      ]
     },
     "metadata": {},
     "output_type": "display_data"
    }
   ],
   "source": [
    "switch (f, src, target, 1)\n",
    "plot(f)"
   ]
  },
  {
   "cell_type": "code",
   "execution_count": 107,
   "metadata": {
    "collapsed": false
   },
   "outputs": [],
   "source": [
    "path_dict = dict( (key, 1) for key in generate_rectangle.generate_path(f, src, target) )"
   ]
  },
  {
   "cell_type": "code",
   "execution_count": 108,
   "metadata": {
    "collapsed": false
   },
   "outputs": [
    {
     "name": "stdout",
     "output_type": "stream",
     "text": [
      "(0, 0)\n",
      "(4, 12)\n",
      "[(1, 0), (1, 1), (1, 2), (1, 3), (1, 4), (2, 4), (3, 4), (4, 4), (4, 5), (4, 6), (4, 7), (4, 8), (4, 9), (4, 10), (4, 11)]\n"
     ]
    }
   ],
   "source": [
    "print (src)\n",
    "print (target)\n",
    "print (generate_rectangle.generate_path(f, src, target))"
   ]
  },
  {
   "cell_type": "code",
   "execution_count": 109,
   "metadata": {
    "collapsed": false
   },
   "outputs": [
    {
     "data": {
      "image/png": "[encoded data removed]",
      "text/plain": [
       "<matplotlib.figure.Figure at 0x10d4bd208>"
      ]
     },
     "metadata": {},
     "output_type": "display_data"
    }
   ],
   "source": [
    "path = generate_rectangle.generate_path(f, src, target)\n",
    "for p in path:\n",
    "    f[p] = 4\n",
    "plot(f)"
   ]
  },
  {
   "cell_type": "code",
   "execution_count": 110,
   "metadata": {
    "collapsed": false
   },
   "outputs": [
    {
     "data": {
      "image/png": "[encoded data removed]",
      "text/plain": [
       "<matplotlib.figure.Figure at 0x10d5af668>"
      ]
     },
     "metadata": {},
     "output_type": "display_data"
    }
   ],
   "source": [
    "for p in path:\n",
    "    f[p] = 0\n",
    "plot(f)"
   ]
  },
  {
   "cell_type": "code",
   "execution_count": 88,
   "metadata": {
    "collapsed": true
   },
   "outputs": [],
   "source": [
    "def switch ( f, src, target, value ):\n",
    "    f[src] = value\n",
    "    f[target] = value"
   ]
  },
  {
   "cell_type": "markdown",
   "metadata": {},
   "source": [
    "#### Block the path, so that the shortest path has to go through another way\n",
    "\n",
    "One of the problem with our generation is that when we choose the shortest path, the path might be not complex enough for high level of description/instruction"
   ]
  },
  {
   "cell_type": "code",
   "execution_count": 115,
   "metadata": {
    "collapsed": false
   },
   "outputs": [],
   "source": [
    "def get_walls( f, path_dict ):\n",
    "    \"\"\"\n",
    "    Return all paths between two shapes that block the running of this path\n",
    "    \n",
    "    Parameters:\n",
    "    ==========\n",
    "    path_dict: dict from point of the path to 1\n",
    "    \n",
    "    Returns:\n",
    "    ==========\n",
    "    \"\"\"\n",
    "    walls = []\n",
    "    for i in range(1, 9):\n",
    "        for j in range(i + 1, 9):\n",
    "            wall = generate_rectangle.shortest_path (f, i, j)\n",
    "            if not wall is None:\n",
    "                for p in wall:\n",
    "                    if p in path_dict:\n",
    "                        walls.append(wall)\n",
    "                        break\n",
    "    return walls"
   ]
  },
  {
   "cell_type": "code",
   "execution_count": 112,
   "metadata": {
    "collapsed": true
   },
   "outputs": [],
   "source": [
    "switch (f, src, target, 0)\n",
    "walls = get_walls (path_dict)"
   ]
  },
  {
   "cell_type": "markdown",
   "metadata": {},
   "source": [
    "#### We print out a path blocking our path\n",
    "\n",
    "Here we can see that the path between the green and the blue shape blocks the path between our source and target"
   ]
  },
  {
   "cell_type": "code",
   "execution_count": 113,
   "metadata": {
    "collapsed": false
   },
   "outputs": [
    {
     "data": {
      "image/png": "[encoded data removed]",
      "text/plain": [
       "<matplotlib.figure.Figure at 0x10d386f60>"
      ]
     },
     "metadata": {},
     "output_type": "display_data"
    }
   ],
   "source": [
    "for p in walls[0]:\n",
    "    f[p] = 4\n",
    "switch (f, src, target, 1)\n",
    "plot(f)"
   ]
  },
  {
   "cell_type": "code",
   "execution_count": 114,
   "metadata": {
    "collapsed": false
   },
   "outputs": [
    {
     "data": {
      "image/png": "[encoded data removed]",
      "text/plain": [
       "<matplotlib.figure.Figure at 0x10d63ca20>"
      ]
     },
     "metadata": {},
     "output_type": "display_data"
    }
   ],
   "source": [
    "for p in walls[0]:\n",
    "    f[p] = 0\n",
    "plot(f)"
   ]
  },
  {
   "cell_type": "markdown",
   "metadata": {},
   "source": [
    "### We regenerate f to save the previous part"
   ]
  },
  {
   "cell_type": "code",
   "execution_count": 141,
   "metadata": {
    "collapsed": true
   },
   "outputs": [],
   "source": [
    "f = generate_rectangle.generate_frame ( 15, 3, 3, 2, (2, 3) )\n",
    "src, target = generate_rectangle.generate_src_target ( f )\n",
    "switch (f, src, target, 1)\n",
    "path = generate_rectangle.generate_path(f, src, target)\n",
    "path_dict = dict( (key, 1) for key in path )"
   ]
  },
  {
   "cell_type": "code",
   "execution_count": 145,
   "metadata": {
    "collapsed": true
   },
   "outputs": [],
   "source": [
    "saved_f = f.copy()"
   ]
  },
  {
   "cell_type": "code",
   "execution_count": 160,
   "metadata": {
    "collapsed": true
   },
   "outputs": [],
   "source": [
    "f = saved_f.copy()"
   ]
  },
  {
   "cell_type": "code",
   "execution_count": 161,
   "metadata": {
    "collapsed": false
   },
   "outputs": [
    {
     "data": {
      "image/png": "[encoded data removed]",
      "text/plain": [
       "<matplotlib.figure.Figure at 0x10d9ac0f0>"
      ]
     },
     "metadata": {},
     "output_type": "display_data"
    }
   ],
   "source": [
    "plot (f)"
   ]
  },
  {
   "cell_type": "code",
   "execution_count": 162,
   "metadata": {
    "collapsed": false
   },
   "outputs": [
    {
     "data": {
      "image/png": "[encoded data removed]",
      "text/plain": [
       "<matplotlib.figure.Figure at 0x10d06a588>"
      ]
     },
     "metadata": {},
     "output_type": "display_data"
    }
   ],
   "source": [
    "for p in path:\n",
    "    f[p] = 4\n",
    "# switch (f, src, target, 0)\n",
    "plot(f)\n",
    "for p in path:\n",
    "    f[p] = 0"
   ]
  },
  {
   "cell_type": "code",
   "execution_count": 163,
   "metadata": {
    "collapsed": true
   },
   "outputs": [],
   "source": [
    "def generate_path_after_block ( frame, source, target ):\n",
    "    f = frame.copy()\n",
    "    \n",
    "    path = generate_rectangle.generate_path(f, src, target)\n",
    "    if path is None:\n",
    "        return None\n",
    "    \n",
    "    path_dict = dict( (key, 1) for key in generate_rectangle.generate_path(f, src, target) )\n",
    "    \n",
    "    walls = get_walls( f, path_dict )\n",
    "    \n",
    "    if len(walls) == 0:\n",
    "        return path\n",
    "    \n",
    "    # Select the shortest walls\n",
    "    walls = sorted(walls, key = lambda wall : len(wall))\n",
    "    \n",
    "    for p in walls[0]:\n",
    "        f[p] = 4\n",
    "    \n",
    "    # regenerate path\n",
    "    path = generate_rectangle.generate_path(f, src, target)\n",
    "    \n",
    "    return path\n"
   ]
  },
  {
   "cell_type": "code",
   "execution_count": 164,
   "metadata": {
    "collapsed": false
   },
   "outputs": [],
   "source": [
    "new_path = generate_path_after_block (f, src, target)"
   ]
  },
  {
   "cell_type": "code",
   "execution_count": 165,
   "metadata": {
    "collapsed": false
   },
   "outputs": [
    {
     "data": {
      "image/png": "[encoded data removed]",
      "text/plain": [
       "<matplotlib.figure.Figure at 0x10dbd7128>"
      ]
     },
     "metadata": {},
     "output_type": "display_data"
    }
   ],
   "source": [
    "for p in new_path:\n",
    "    f[p] = 4\n",
    "plot(f)\n",
    "for p in path:\n",
    "    f[p] = 0"
   ]
  },
  {
   "cell_type": "code",
   "execution_count": null,
   "metadata": {
    "collapsed": true
   },
   "outputs": [],
   "source": []
  }
 ],
 "metadata": {
  "kernelspec": {
   "display_name": "Python 3",
   "language": "python",
   "name": "python3"
  },
  "language_info": {
   "codemirror_mode": {
    "name": "ipython",
    "version": 3
   },
   "file_extension": ".py",
   "mimetype": "text/x-python",
   "name": "python",
   "nbconvert_exporter": "python",
   "pygments_lexer": "ipython3",
   "version": "3.6.0"
  }
 },
 "nbformat": 4,
 "nbformat_minor": 2
}
