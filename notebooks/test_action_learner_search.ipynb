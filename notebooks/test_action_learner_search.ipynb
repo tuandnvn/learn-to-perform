{
 "cells": [
  {
   "cell_type": "code",
   "execution_count": 2,
   "metadata": {},
   "outputs": [],
   "source": [
    "import tensorflow as tf\n",
    "import os\n",
    "import sys\n",
    "import collections\n",
    "\n",
    "module_path = os.path.abspath(os.path.join('..'))\n",
    "if module_path not in sys.path:\n",
    "    sys.path.append(module_path)\n",
    "a = os.path.join(module_path, \"strands_qsr_lib\\qsr_lib\\src3\")\n",
    "\n",
    "sys.path.append(a)\n",
    "from rl import action_learner, action_learner_search, value_estimator\n",
    "import progress_learner\n",
    "import config\n",
    "import project\n",
    "# Need to add this import to load class\n",
    "from project import Project\n",
    "from importlib import reload\n",
    "from rl import block_movement_env\n",
    "import matplotlib\n",
    "from matplotlib import pyplot as plt\n",
    "%matplotlib inline\n",
    "import plotting"
   ]
  },
  {
   "cell_type": "code",
   "execution_count": 3,
   "metadata": {},
   "outputs": [],
   "source": [
    "p = project.Project.load(os.path.join('..' , 'learned_models', 'slidearound' + \"_project.proj\"))"
   ]
  },
  {
   "cell_type": "code",
   "execution_count": 15,
   "metadata": {},
   "outputs": [
    {
     "name": "stdout",
     "output_type": "stream",
     "text": [
      "-------- Load progress model ---------\n",
      "self.inputs.shape = (?, 20, 200)  after linear layer\n",
      "output.shape = (30, 200) after LSTM\n",
      "self.output.shape = (30,) after linear\n",
      "self._targets.shape = (?,) \n",
      "model/SlideAround/linear/weight:0\n",
      "model/SlideAround/linear/bias:0\n",
      "model/SlideAround/lstm/rnn/multi_rnn_cell/cell_0/basic_lstm_cell/kernel:0\n",
      "model/SlideAround/lstm/rnn/multi_rnn_cell/cell_0/basic_lstm_cell/bias:0\n",
      "model/SlideAround/output_linear/weight:0\n",
      "model/SlideAround/output_linear/bias:0\n",
      "INFO:tensorflow:Restoring parameters from ..\\learned_models\\progress_SlideAround.mod.1\n"
     ]
    }
   ],
   "source": [
    "reload(config)\n",
    "c = config.Config()\n",
    "c.no_of_loops = 1\n",
    "# c.constraint_sigma = 0\n",
    "reload(block_movement_env)\n",
    "reload(value_estimator)\n",
    "reload(action_learner_search)\n",
    "reload(progress_learner)\n",
    "tf.reset_default_graph()\n",
    "\n",
    "global_step = tf.Variable(0, name=\"global_step\", trainable=False)\n",
    "\n",
    "sess =  tf.Session()\n",
    "\n",
    "with tf.variable_scope(\"search\") as scope:\n",
    "    policy_estimator = value_estimator.PolicyEstimator(c)\n",
    "\n",
    "sess.run(tf.global_variables_initializer())\n",
    "\n",
    "with tf.variable_scope(\"model\") as scope:\n",
    "    print('-------- Load progress model ---------')\n",
    "    progress_estimator = progress_learner.EventProgressEstimator(is_training=False, name = p.name, config = c, is_dropout = False)  \n",
    "\n",
    "# Print out all variables that would be restored\n",
    "for variable in tf.get_collection(tf.GraphKeys.GLOBAL_VARIABLES, scope='model'):\n",
    "    print (variable.name)\n",
    "\n",
    "saver = tf.train.Saver(tf.get_collection(tf.GraphKeys.GLOBAL_VARIABLES, scope='model'))\n",
    "saver.restore(sess, os.path.join('..' , 'learned_models', 'progress_' + 'SlideAround' + '.mod.1'))"
   ]
  },
  {
   "cell_type": "code",
   "execution_count": 40,
   "metadata": {},
   "outputs": [
    {
     "name": "stdout",
     "output_type": "stream",
     "text": [
      "action_level = 0\n",
      "exploration_index = 0\n",
      "=== Best explorations ===\n",
      "[(0, 0.8192676305770874), (0, 0.7764692902565002), (0, 0.7719799280166626), (0, 0.7718008756637573), (0, 0.7497783303260803), (0, 0.7130630612373352), (0, 0.7100185751914978), (0, 0.7062987089157104), (0, 0.6852624416351318)]\n",
      "action_level = 1\n",
      "exploration_index = 0\n",
      "exploration_index = 1\n",
      "exploration_index = 2\n",
      "exploration_index = 3\n",
      "exploration_index = 4\n",
      "exploration_index = 5\n",
      "exploration_index = 6\n",
      "exploration_index = 7\n",
      "exploration_index = 8\n",
      "=== Best explorations ===\n",
      "[(2, 0.8230776190757751), (0, 0.8192676305770874), (0, 0.8192676305770874), (0, 0.8192676305770874), (0, 0.8192676305770874), (0, 0.8192676305770874), (0, 0.8192676305770874), (0, 0.8192676305770874), (0, 0.8192676305770874)]\n",
      "action_level = 2\n",
      "exploration_index = 0\n",
      "exploration_index = 1\n",
      "exploration_index = 2\n",
      "exploration_index = 3\n",
      "exploration_index = 4\n",
      "exploration_index = 5\n",
      "exploration_index = 6\n",
      "exploration_index = 7\n",
      "exploration_index = 8\n",
      "=== Best explorations ===\n",
      "[(0, 0.8230776190757751), (0, 0.8230776190757751), (0, 0.8230776190757751), (0, 0.8230776190757751), (0, 0.8230776190757751), (1, 0.8192676305770874), (1, 0.8192676305770874), (1, 0.8192676305770874), (1, 0.8192676305770874)]\n",
      "--- No more progress ---\n",
      "Best progress value = 0.823\n"
     ]
    }
   ],
   "source": [
    "c.progress_threshold=0.90\n",
    "#reload(action_learner_search)\n",
    "action_ln = action_learner_search.ActionLearner_Search(c, p, progress_estimator, session = sess)\n",
    "explorations = action_ln.learn_one_setup(verbose = True)"
   ]
  },
  {
   "cell_type": "code",
   "execution_count": 46,
   "metadata": {
    "scrolled": false
   },
   "outputs": [
    {
     "data": {
      "image/png": "[encoded data removed]",
      "text/plain": [
       "<matplotlib.figure.Figure at 0x2150ed64518>"
      ]
     },
     "metadata": {},
     "output_type": "display_data"
    },
    {
     "data": {
      "image/png": "[encoded data removed]",
      "text/plain": [
       "<matplotlib.figure.Figure at 0x2156e819898>"
      ]
     },
     "metadata": {},
     "output_type": "display_data"
    },
    {
     "data": {
      "image/png": "[encoded data removed]",
      "text/plain": [
       "<matplotlib.figure.Figure at 0x2150ed92c88>"
      ]
     },
     "metadata": {},
     "output_type": "display_data"
    }
   ],
   "source": [
    "explorations[0].replay(verbose = False)"
   ]
  },
  {
   "cell_type": "code",
   "execution_count": 77,
   "metadata": {},
   "outputs": [
    {
     "data": {
      "text/plain": [
       "[[0,\n",
       "  [ 0.09620159  0.53687454  0.54786098] - 0.075,\n",
       "  [ 0.2468325   0.24736097  0.18016125] - 0.075,\n",
       "  array([ 0.23930095,  0.26183665,  0.19854624,  0.2468325 ,  0.24736097,\n",
       "          0.18016125, -0.02529948,  0.32366525,  0.65520882, -0.02529948,\n",
       "          0.32366525,  0.65520882]),\n",
       "  0.54755002,\n",
       "  True,\n",
       "  array([ 0.,  0.,  0.], dtype=float32),\n",
       "  array([ 2. ,  2. ,  0.5], dtype=float32)],\n",
       " [0,\n",
       "  [ 0.2468325   0.24736097  0.18016125] - 0.075,\n",
       "  [-0.16479168  0.00778572  0.72506144] - 0.075,\n",
       "  array([-0.1301075 ,  0.02797275,  0.67914719, -0.16479168,  0.00778572,\n",
       "          0.72506144, -0.02529948,  0.32366525,  0.65520882, -0.02529948,\n",
       "          0.32366525,  0.65520882]),\n",
       "  0.77140433,\n",
       "  True,\n",
       "  array([ 0.,  0.,  0.], dtype=float32),\n",
       "  array([ 2. ,  2. ,  0.5], dtype=float32)],\n",
       " [0,\n",
       "  [-0.16479168  0.00778572  0.72506144] - 0.075,\n",
       "  [-0.36508342  0.63935325  0.1298281 ] - 0.075,\n",
       "  array([-0.34293732,  0.56952132,  0.1956426 , -0.36508342,  0.63935325,\n",
       "          0.1298281 , -0.02529948,  0.32366525,  0.65520882, -0.02529948,\n",
       "          0.32366525,  0.65520882]),\n",
       "  0.88704342,\n",
       "  True,\n",
       "  array([ 0.,  0.,  0.], dtype=float32),\n",
       "  array([ 2. ,  2. ,  0.5], dtype=float32)]]"
      ]
     },
     "execution_count": 77,
     "metadata": {},
     "output_type": "execute_result"
    }
   ],
   "source": [
    "explorations[0].action_storage"
   ]
  },
  {
   "cell_type": "code",
   "execution_count": 78,
   "metadata": {},
   "outputs": [
    {
     "data": {
      "text/plain": [
       "[Cube : [ 0.09620159  0.53687454  0.54786098],\n",
       " Cube : [-0.02529948  0.32366525  0.65520882]]"
      ]
     },
     "execution_count": 78,
     "metadata": {},
     "output_type": "execute_result"
    }
   ],
   "source": [
    "explorations[0].start_config"
   ]
  },
  {
   "cell_type": "code",
   "execution_count": 64,
   "metadata": {},
   "outputs": [
    {
     "name": "stdout",
     "output_type": "stream",
     "text": [
      "action_level = 0\n",
      "exploration_index = 0\n",
      "=== Best explorations ===\n",
      "[(0, 0.5127173066139221), (0, 0.5021935105323792), (0, 0.3837542235851288), (0, 0.2894745469093323), (0, 0.19812117516994476), (0, 0.11089949309825897), (0, 0.11089949309825897), (0, 0.07962137460708618), (0, 0.058997925370931625)]\n",
      "action_level = 1\n",
      "exploration_index = 0\n",
      "exploration_index = 1\n",
      "exploration_index = 2\n",
      "exploration_index = 3\n",
      "exploration_index = 4\n",
      "exploration_index = 5\n",
      "exploration_index = 6\n",
      "exploration_index = 7\n",
      "exploration_index = 8\n",
      "=== Best explorations ===\n",
      "[(2, 0.7248337268829346), (2, 0.7248337268829346), (3, 0.6945853233337402), (2, 0.668342649936676), (3, 0.6333587169647217), (3, 0.6333587169647217), (0, 0.6312257647514343), (3, 0.6177037358283997), (3, 0.6177037358283997)]\n",
      "action_level = 2\n",
      "exploration_index = 0\n",
      "=== found_completed_act ===\n",
      "exploration_index = 1\n",
      "=== found_completed_act ===\n",
      "exploration_index = 2\n",
      "exploration_index = 3\n",
      "exploration_index = 4\n",
      "exploration_index = 5\n",
      "exploration_index = 6\n",
      "exploration_index = 7\n",
      "exploration_index = 8\n",
      "=== Best explorations ===\n",
      "[(0, 0.9080376625061035), (1, 0.9080376625061035), (0, 0.8840547204017639), (1, 0.8840547204017639), (6, 0.7724782824516296), (7, 0.75785231590271), (7, 0.75785231590271), (8, 0.75785231590271), (8, 0.75785231590271)]\n"
     ]
    }
   ],
   "source": [
    "from rl import discrete_action_learner_search\n",
    "reload(action_learner_search)\n",
    "reload(discrete_action_learner_search)\n",
    "action_ln_2 = discrete_action_learner_search.Discrete_ActionLearner_Search(c, p, progress_estimator, session = sess)\n",
    "explorations = action_ln_2.learn_one_setup(verbose = True)"
   ]
  },
  {
   "cell_type": "code",
   "execution_count": 65,
   "metadata": {
    "scrolled": false
   },
   "outputs": [
    {
     "data": {
      "image/png": "[encoded data removed]",
      "text/plain": [
       "<matplotlib.figure.Figure at 0x2156f8f5470>"
      ]
     },
     "metadata": {},
     "output_type": "display_data"
    },
    {
     "name": "stdout",
     "output_type": "stream",
     "text": [
      "(None, None)\n",
      "[-0.74387091  0.36294309  0.91717576]\n",
      "[[ 0.  -1.  -1.   0.   0.   0.  -0.5]\n",
      " [ 0.  -1.  -1.   0.   0.   0.  -0.5]\n",
      " [ 0.  -1.  -1.   0.   0.   0.  -0.5]\n",
      " [ 0.  -1.  -1.   0.   0.   0.  -0.5]\n",
      " [-1.   0.  -1.   0.   0.   0.  -0.5]\n",
      " [ 0.  -1.  -1.   0.   0.   0.  -0.5]\n",
      " [ 0.  -1.  -1.   0.   0.   0.  -0.5]\n",
      " [ 0.  -1.  -1.   0.   0.   0.  -0.5]\n",
      " [ 0.   0.  -1.   0.  -1.   0.  -0.5]\n",
      " [ 0.  -1.  -1.   0.  -1.   0.  -0.5]\n",
      " [ 0.   0.  -1.   0.  -1.   0.  -0.5]\n",
      " [ 0.  -1.  -1.   0.  -1.   0.  -0.5]\n",
      " [ 0.   0.  -1.   0.  -1.   0.  -0.5]\n",
      " [-1.  -1.  -1.   0.  -1.   0.  -0.5]\n",
      " [ 0.   0.  -1.   0.  -1.   0.   0. ]\n",
      " [ 0.   1.   1.   0.  -1.   0.   0. ]\n",
      " [ 0.   0.   1.   0.  -1.   0.   0. ]\n",
      " [-1.   0.   1.   0.  -1.   0.   0. ]\n",
      " [ 0.   1.   1.   0.  -1.   0.   0. ]\n",
      " [ 0.   0.   1.   0.  -1.   0.   0. ]]\n",
      "Progress = 0.38; reward = 0.38\n"
     ]
    },
    {
     "data": {
      "image/png": "[encoded data removed]",
      "text/plain": [
       "<matplotlib.figure.Figure at 0x2150e9360f0>"
      ]
     },
     "metadata": {},
     "output_type": "display_data"
    },
    {
     "name": "stdout",
     "output_type": "stream",
     "text": [
      "(None, None)\n",
      "[-0.30606432  0.93454207  0.91717576]\n",
      "[[ 0.   0.   0.   0.   0.   0.  -0.5]\n",
      " [ 0.  -2.  -1.   0.   0.   0.  -0.5]\n",
      " [ 0.  -1.  -1.   0.   0.   0.  -0.5]\n",
      " [-1.  -1.  -1.   0.   0.   0.  -0.5]\n",
      " [ 0.  -1.  -1.   0.   0.   0.  -0.5]\n",
      " [ 0.  -1.  -1.   0.   0.   0.  -0.5]\n",
      " [ 0.  -2.  -1.   0.  -1.   0.  -0.5]\n",
      " [ 0.   0.  -1.   0.  -1.   0.  -0.5]\n",
      " [ 0.  -1.  -1.   0.  -1.   0.  -0.5]\n",
      " [-1.   0.  -1.   0.  -1.   0.  -0.5]\n",
      " [ 0.  -1.  -1.   0.  -1.   0.   0. ]\n",
      " [ 0.   1.   1.   0.  -1.   0.   0. ]\n",
      " [-1.   0.   1.   0.  -1.   0.   0. ]\n",
      " [ 0.   0.  -1.   0.  -1.   0.   0. ]\n",
      " [ 0.   0.  -1.   0.  -1.   0.   0. ]\n",
      " [-1.  -1.  -1.   0.  -1.   0.   0. ]\n",
      " [ 0.   0.  -1.   0.  -1.   0.   0. ]\n",
      " [ 0.   1.   1.   0.  -1.   0.   0. ]\n",
      " [-1.   0.   1.   0.  -1.   0.   0. ]\n",
      " [ 0.   1.   1.   0.  -1.   0.   0. ]]\n",
      "Progress = 0.72; reward = 0.34\n"
     ]
    },
    {
     "data": {
      "image/png": "[encoded data removed]",
      "text/plain": [
       "<matplotlib.figure.Figure at 0x2156ed00198>"
      ]
     },
     "metadata": {},
     "output_type": "display_data"
    },
    {
     "name": "stdout",
     "output_type": "stream",
     "text": [
      "(None, None)\n",
      "[0.77023744 0.56363167 0.91717576]\n",
      "[[ 0.  -2.  -1.   0.   0.   0.  -0.5]\n",
      " [-1.  -2.  -1.   0.   0.   0.  -0.5]\n",
      " [ 0.  -2.  -1.   0.   0.   0.  -0.5]\n",
      " [ 0.  -2.  -1.   0.   0.   0.  -0.5]\n",
      " [ 0.  -1.  -1.   0.  -1.   0.  -0.5]\n",
      " [-1.  -1.  -1.   0.  -1.   0.  -0.5]\n",
      " [ 0.   1.  -1.   0.  -1.   0.   0. ]\n",
      " [-1.   1.   1.   0.  -1.   0.   0. ]\n",
      " [ 0.   0.  -1.   0.  -1.   0.   0. ]\n",
      " [ 0.  -1.  -1.   0.  -1.   0.   0. ]\n",
      " [-1.  -1.  -1.   0.  -1.   0.   0. ]\n",
      " [ 0.   1.   1.   0.  -1.   0.   0. ]\n",
      " [-1.   1.   1.   0.  -1.   0.   0. ]\n",
      " [ 0.   0.   1.   0.  -1.   0.   0. ]\n",
      " [ 0.   0.  -1.   0.  -1.   0.   0. ]\n",
      " [-1.   0.  -1.   0.  -1.   0.   0. ]\n",
      " [ 0.   1.   1.   0.  -1.   0.   0. ]\n",
      " [ 0.   1.   1.   0.  -1.   0.   0. ]\n",
      " [-1.   1.   1.   0.  -1.   0.   0. ]\n",
      " [ 0.   2.   1.   0.  -1.   0.   0. ]]\n",
      "Progress = 0.91; reward = 0.18\n"
     ]
    },
    {
     "data": {
      "image/png": "[encoded data removed]",
      "text/plain": [
       "<matplotlib.figure.Figure at 0x2150ed8be80>"
      ]
     },
     "metadata": {},
     "output_type": "display_data"
    }
   ],
   "source": [
    "explorations[0].replay(verbose = True)"
   ]
  },
  {
   "cell_type": "code",
   "execution_count": null,
   "metadata": {},
   "outputs": [],
   "source": []
  }
 ],
 "metadata": {
  "kernelspec": {
   "display_name": "Python 3",
   "language": "python",
   "name": "python3"
  },
  "language_info": {
   "codemirror_mode": {
    "name": "ipython",
    "version": 3
   },
   "file_extension": ".py",
   "mimetype": "text/x-python",
   "name": "python",
   "nbconvert_exporter": "python",
   "pygments_lexer": "ipython3",
   "version": "3.5.4"
  }
 },
 "nbformat": 4,
 "nbformat_minor": 2
}
