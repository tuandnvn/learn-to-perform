{
 "cells": [
  {
   "cell_type": "code",
   "execution_count": 11,
   "metadata": {},
   "outputs": [],
   "source": [
    "import json\n",
    "from collections import defaultdict"
   ]
  },
  {
   "cell_type": "code",
   "execution_count": 13,
   "metadata": {},
   "outputs": [
    {
     "name": "stdout",
     "output_type": "stream",
     "text": [
      "Load data from trainset.json\n",
      "Load data from devset.json\n",
      "Load data from testset.json\n"
     ]
    }
   ],
   "source": [
    "TRAIN, DEV, TEST = 'TRAIN', 'DEV', 'TEST'\n",
    "files = { TRAIN: 'trainset.json', DEV: 'devset.json', TEST : 'testset.json'}\n",
    "\n",
    "sets = defaultdict(list)\n",
    "\n",
    "for t in [TRAIN, DEV, TEST]:\n",
    "    print ('Load data from ' + files[t])\n",
    "    with open(files[t], 'r') as fh:\n",
    "        for line in fh.readlines():\n",
    "            sets[t].append( json.loads(line) )"
   ]
  },
  {
   "cell_type": "code",
   "execution_count": 15,
   "metadata": {},
   "outputs": [
    {
     "data": {
      "text/plain": [
       "dict_keys(['shape_params', 'states', 'decoration', 'side_length', 'notes', 'images', 'filename'])"
      ]
     },
     "execution_count": 15,
     "metadata": {},
     "output_type": "execute_result"
    }
   ],
   "source": [
    "sets[DEV][0].keys()"
   ]
  },
  {
   "cell_type": "code",
   "execution_count": 24,
   "metadata": {},
   "outputs": [
    {
     "name": "stdout",
     "output_type": "stream",
     "text": [
      "Number of samples in TRAIN is 70\n",
      "Number of samples in DEV is 10\n",
      "Number of samples in TEST is 20\n"
     ]
    }
   ],
   "source": [
    "for t in [TRAIN, DEV, TEST]:\n",
    "    print ('Number of samples in ' + t + ' is ' + str(len(sets[t])))"
   ]
  },
  {
   "cell_type": "code",
   "execution_count": 19,
   "metadata": {},
   "outputs": [
    {
     "data": {
      "text/plain": [
       "[[-0.899784, 0.1, -0.194339],\n",
       " [-0.001716, 0.1, -0.986708],\n",
       " [-0.062437, 0.1, -0.419449],\n",
       " [-0.656949, 0.1, -0.788469],\n",
       " [0.214662, 0.1, 0.92672],\n",
       " [0.79096, 0.1, 0.911159],\n",
       " [-0.723438, 0.1, 0.247144],\n",
       " [0.635309, 0.1, -0.274163],\n",
       " [-0.361093, 0.1, -0.656966],\n",
       " [-0.515554, 0.1, 0.91973],\n",
       " [-0.390042, 0.1, 0.427794],\n",
       " [0.628212, 0.1, 0.245258],\n",
       " [-0.584956, 0.1, -0.031866],\n",
       " [0.585868, 0.1, 0.0162],\n",
       " [-0.6895, 0.1, 0.788071],\n",
       " [0.295405, 0.1, 0.090149],\n",
       " [0.700055, 0.1, 0.67225],\n",
       " [-0.044488, 0.1, -0.65464],\n",
       " [-0.065071, 0.1, 0.699818],\n",
       " [-0.058202, 0.1, 0.078393]]"
      ]
     },
     "execution_count": 19,
     "metadata": {},
     "output_type": "execute_result"
    }
   ],
   "source": [
    "sets[DEV][0]['states'][0]"
   ]
  },
  {
   "cell_type": "code",
   "execution_count": 20,
   "metadata": {},
   "outputs": [
    {
     "data": {
      "text/plain": [
       "[[-0.899784, 0.1, -0.194339],\n",
       " [-0.001716, 0.1, -0.986708],\n",
       " [-0.062437, 0.1, -0.419449],\n",
       " [-0.656949, 0.1, -0.788469],\n",
       " [0.214662, 0.1, 0.92672],\n",
       " [-0.166667, 0.1, 0.333333],\n",
       " [-0.723438, 0.1, 0.247144],\n",
       " [0.635309, 0.1, -0.274163],\n",
       " [-0.361093, 0.1, -0.656966],\n",
       " [-0.515554, 0.1, 0.91973],\n",
       " [-0.390042, 0.1, 0.427794],\n",
       " [0.628212, 0.1, 0.245258],\n",
       " [-0.584956, 0.1, -0.031866],\n",
       " [0.585868, 0.1, 0.0162],\n",
       " [-0.6895, 0.1, 0.788071],\n",
       " [0.295405, 0.1, 0.090149],\n",
       " [0.700055, 0.1, 0.67225],\n",
       " [-0.044488, 0.1, -0.65464],\n",
       " [-0.065071, 0.1, 0.699818],\n",
       " [-0.058202, 0.1, 0.078393]]"
      ]
     },
     "execution_count": 20,
     "metadata": {},
     "output_type": "execute_result"
    }
   ],
   "source": [
    "sets[DEV][0]['states'][1]"
   ]
  },
  {
   "cell_type": "code",
   "execution_count": 22,
   "metadata": {},
   "outputs": [
    {
     "data": {
      "text/plain": [
       "['Pick up block 6 and place it so it is on a diagonal between blocks 11 and 20',\n",
       " 'slide block 6 left and down so that it is to the right of block 11 and above block 20',\n",
       " 'move block 6 so that its bottom right corner is above block 20 and its top left corner is to the right of block 11',\n",
       " 'The 6 block moved to behind the 20 from behind the 17 block.',\n",
       " 'The 6th blocked was behind the 17 block, but moved next to the 11th block.',\n",
       " 'The 6th block was behind the 17th block, but was moved on top of the 20th block.',\n",
       " \"the number six cube should be taken from the upper right corner and placed between the 11 and 20 cubes.  The top of 6 should be level with the middle of the 11's right side, and level with the middle of the 20's top side.\",\n",
       " 'the number six should be placed so that the top left corner is even with the middle of the 11, and the lower right corner is even with the middle of the 20',\n",
       " 'the 6 is placed to the right of the 11 and above the 20 so that it is right in the middle']"
      ]
     },
     "execution_count": 22,
     "metadata": {},
     "output_type": "execute_result"
    }
   ],
   "source": [
    "sets[DEV][0]['notes'][0]['notes']"
   ]
  },
  {
   "cell_type": "code",
   "execution_count": null,
   "metadata": {},
   "outputs": [],
   "source": []
  }
 ],
 "metadata": {
  "kernelspec": {
   "display_name": "Python 3",
   "language": "python",
   "name": "python3"
  },
  "language_info": {
   "codemirror_mode": {
    "name": "ipython",
    "version": 3
   },
   "file_extension": ".py",
   "mimetype": "text/x-python",
   "name": "python",
   "nbconvert_exporter": "python",
   "pygments_lexer": "ipython3",
   "version": "3.5.4"
  }
 },
 "nbformat": 4,
 "nbformat_minor": 2
}
