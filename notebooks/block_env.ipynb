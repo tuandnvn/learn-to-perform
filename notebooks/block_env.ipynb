{
 "cells": [
  {
   "cell_type": "code",
   "execution_count": 3,
   "metadata": {},
   "outputs": [],
   "source": [
    "import numpy as np\n",
    "import sys\n",
    "import gym\n",
    "from gym import error, spaces\n",
    "from gym import utils\n",
    "from gym.utils import seeding\n",
    "import os\n",
    "\n",
    "module_path = os.path.abspath(os.path.join('..'))\n",
    "if module_path not in sys.path:\n",
    "    sys.path.append(module_path)\n",
    "    \n",
    "from simulator.utils import Cube2D, Transform2D"
   ]
  },
  {
   "cell_type": "code",
   "execution_count": 4,
   "metadata": {
    "collapsed": true
   },
   "outputs": [],
   "source": [
    "class BlockMovementEnv(gym.Env):\n",
    "    reward_range = (0, 1)\n",
    "    \"\"\"\n",
    "    \"\"\"\n",
    "    def __init__(self, target, playground = [-1,-1,2,2], name=None):\n",
    "        \"\"\"\n",
    "        Parameters:\n",
    "        name: the name of the event action to be learned\n",
    "        target: is a function that produces\n",
    "        a value between 0 and 1 (event progress function)\n",
    "        playground: a rectangle that (x, y, width, height)\n",
    "        where (x,y) is a corner of the rectangle\n",
    "        \n",
    "        \n",
    "        **Note**\n",
    "        target_function:\n",
    "        event progress function will be defined based on the event type \n",
    "        currently learned\n",
    "        \n",
    "        target_function would be an LSTM\n",
    "        \n",
    "        \n",
    "        \"\"\"\n",
    "        pass\n",
    "    "
   ]
  },
  {
   "cell_type": "code",
   "execution_count": null,
   "metadata": {
    "collapsed": true
   },
   "outputs": [],
   "source": [
    "class Gaussian(gym.Space):\n",
    "    \"\"\"\n",
    "    A Gaussian space randomizes an action as a datapoint\n",
    "    using a location and a covariance.\n",
    "    \n",
    "    This is actually a multivariate normal distribution (MVN),\n",
    "    but with non-correlated variables \n",
    "    (the covariance matrix is diagonal and positive)\n",
    "    \n",
    "    A sample usage:\n",
    "    self.action_space = Gaussian(location = [-1,2], diagonal_cov = [1,1])\n",
    "    \"\"\"\n",
    "    def __init__(self, location, diagonal_cov, shape=None):\n",
    "        \"\"\"\n",
    "        Two kinds of valid inputs\n",
    "        \n",
    "        - location and diagonal_cov are scalar -> Gaussian distribution\n",
    "        - location and diagonal_cov are np array of same size\n",
    "        \"\"\"\n",
    "        if np.isscalar(location) and np.isscalar(diagonal_cov):\n",
    "            \"\"\"Gaussian distribution\"\"\"\n",
    "            self.location = np.array([location])\n",
    "            self.diagonal_cov = np.array([diagonal_cov])\n",
    "            \n",
    "        else:\n",
    "            assert isinstance(location, np.ndarray)\n",
    "            assert isinstance(diagonal_cov, np.ndarray)\n",
    "            assert location.shape == diagonal_cov.shape\n",
    "        \n",
    "            self.location = location\n",
    "            self.diagonal_cov = diagonal_cov\n",
    "            \n",
    "    def sample(self):\n",
    "        pass\n",
    "    \n",
    "    def __repr__(self):\n",
    "        return \"MVN (location= \" + str(self.location) + \"; variances = \" + str(self.diagonal_cov) +\")\"\n",
    "    \n",
    "    def __eq__(self, other):\n",
    "        return np.allclose(self.location, other.location) and/\n",
    "                np.allclose(self.high, other.high)"
   ]
  },
  {
   "cell_type": "code",
   "execution_count": 7,
   "metadata": {},
   "outputs": [
    {
     "ename": "AttributeError",
     "evalue": "module 'numpy' has no attribute 'isarray'",
     "output_type": "error",
     "traceback": [
      "\u001b[1;31m---------------------------------------------------------------------------\u001b[0m",
      "\u001b[1;31mAttributeError\u001b[0m                            Traceback (most recent call last)",
      "\u001b[1;32m<ipython-input-7-644e24316f5e>\u001b[0m in \u001b[0;36m<module>\u001b[1;34m()\u001b[0m\n\u001b[1;32m----> 1\u001b[1;33m \u001b[0mnp\u001b[0m\u001b[1;33m.\u001b[0m\u001b[0misarray\u001b[0m\u001b[1;33m(\u001b[0m\u001b[0mnp\u001b[0m\u001b[1;33m.\u001b[0m\u001b[0marray\u001b[0m\u001b[1;33m(\u001b[0m\u001b[1;36m2\u001b[0m\u001b[1;33m)\u001b[0m\u001b[1;33m)\u001b[0m\u001b[1;33m\u001b[0m\u001b[0m\n\u001b[0m",
      "\u001b[1;31mAttributeError\u001b[0m: module 'numpy' has no attribute 'isarray'"
     ]
    }
   ],
   "source": [
    "np.isarray(np.array(2))"
   ]
  },
  {
   "cell_type": "code",
   "execution_count": null,
   "metadata": {
    "collapsed": true
   },
   "outputs": [],
   "source": []
  }
 ],
 "metadata": {
  "kernelspec": {
   "display_name": "Python 3",
   "language": "python",
   "name": "python3"
  },
  "language_info": {
   "codemirror_mode": {
    "name": "ipython",
    "version": 3
   },
   "file_extension": ".py",
   "mimetype": "text/x-python",
   "name": "python",
   "nbconvert_exporter": "python",
   "pygments_lexer": "ipython3",
   "version": "3.5.4"
  }
 },
 "nbformat": 4,
 "nbformat_minor": 2
}
