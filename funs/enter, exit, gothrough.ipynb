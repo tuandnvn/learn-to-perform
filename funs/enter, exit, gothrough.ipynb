{
 "cells": [
  {
   "cell_type": "code",
   "execution_count": 322,
   "metadata": {},
   "outputs": [],
   "source": [
    "from random import random\n",
    "from random import randint\n",
    "from random import choice\n",
    "from numpy import array\n",
    "from numpy import zeros\n",
    "import numpy as np\n",
    "from keras.preprocessing.sequence import pad_sequences"
   ]
  },
  {
   "cell_type": "code",
   "execution_count": 294,
   "metadata": {},
   "outputs": [],
   "source": [
    "from keras.models import Sequential\n",
    "from keras.layers import Conv2D\n",
    "from keras.layers import MaxPooling2D\n",
    "from keras.layers import LSTM\n",
    "from keras.layers import Dense\n",
    "from keras.layers import Flatten\n",
    "from keras.layers import TimeDistributed\n",
    "from keras.optimizers import Adam"
   ]
  },
  {
   "cell_type": "code",
   "execution_count": 80,
   "metadata": {},
   "outputs": [],
   "source": [
    "def check_in_frame ( size, pos ):\n",
    "    \"\"\"\n",
    "    Allow space around the shape\n",
    "    \"\"\"\n",
    "    if 0 <= pos[0] < size and  0 <= pos[1] < size:\n",
    "        return True\n",
    "    return False\n",
    "\n",
    "def check_in_frame_with_space ( size, pos ):\n",
    "    \"\"\"\n",
    "    Allow space around the shape\n",
    "    \"\"\"\n",
    "    if 1 <= pos[0] < size - 1 and  1 <= pos[1] < size - 1:\n",
    "        return True\n",
    "    return False\n",
    "\n",
    "def generate_u_shape ( frame, bottom, left, right, direction, position ):\n",
    "    \"\"\"\n",
    "    Impose an U shape structure on the frame, position is where you start it (top-left corner of rectangle)\n",
    "    \n",
    "    This is an U-shape with bottom = 4, left = 4, right = 3, direction = 0\n",
    "    S\n",
    "    o x x o\n",
    "    o x x o\n",
    "    o o o o\n",
    "    \n",
    "    S o o o \n",
    "    o x x \n",
    "    o x x \n",
    "    o o o\n",
    "    \n",
    "    S o o o\n",
    "    o x x o\n",
    "    o x x o\n",
    "    o \n",
    "    \n",
    "    # Let consider this case in a later phase\n",
    "    This is an U-shape with bottom = 4, left = 4, right = 3, direction = 1\n",
    "    \n",
    "            o\n",
    "          o\n",
    "        o x\n",
    "      o x x x\n",
    "        o x x x o\n",
    "          o x o\n",
    "            o\n",
    "    We can start with even direction first ( 0 (North), 2 (East), 4 (South), 6(West) )\n",
    "    The positions marked with x are the positions that are considered inside the U-shape\n",
    "    \n",
    "    This function returns whether imposition successes, and frame would be imposed with the U-shape\n",
    "    \n",
    "    Parameters:\n",
    "    =====================\n",
    "    frame: squared frame\n",
    "    bottom: integer value\n",
    "    left: integer value\n",
    "    right: integer value\n",
    "    direction: \n",
    "    position: tuple of 2\n",
    "    \n",
    "    Returns:\n",
    "    =====================\n",
    "    - success: whether imposition successes or not\n",
    "    - inside_points: list of points inside the shape (x)\n",
    "    \n",
    "    \"\"\"\n",
    "    size = frame.shape[0]\n",
    "    \n",
    "    if direction == 0 or direction == 4:\n",
    "        other_corner = ( position[0] + max(left, right) - 1, position[1] + bottom - 1 )\n",
    "        \n",
    "    if direction == 2 or direction == 6:\n",
    "        other_corner = ( position[0] + bottom - 1, position[1] + max(left, right) - 1 )\n",
    "\n",
    "    if not check_in_frame_with_space ( size, position) or not check_in_frame_with_space ( size, other_corner ):\n",
    "        return False, ( [], [] )\n",
    "    \n",
    "    # Let's create one U-shape that has a direction == 0, than we rotate it\n",
    "    inner_shape = np.zeros((max(left, right), bottom))\n",
    "    # Left side\n",
    "    for i in range (max(left, right)):\n",
    "        inner_shape[i,0] = 1\n",
    "    \n",
    "    # Right side\n",
    "    for i in range (max(left, right) - min(left, right), max(left, right)):\n",
    "        inner_shape[i,bottom - 1] = 1\n",
    "    \n",
    "    # Bottom side\n",
    "    for i in range (bottom):\n",
    "        inner_shape[max(left, right) - 1,i] = 1\n",
    "        \n",
    "    for i in range(max(left, right) - min(left, right), max(left, right) - 1):\n",
    "        for j in range(1, bottom - 1):\n",
    "            inner_shape[i,j] = 2\n",
    "    \n",
    "    rotated_shape = np.rot90 ( inner_shape, -direction // 2 )\n",
    "    \n",
    "    \n",
    "    frame[ position[0] : position[0] + rotated_shape.shape[0], \n",
    "          position[1] : position[1] + rotated_shape.shape[1] ] = rotated_shape\n",
    "    \n",
    "    inside_points = np.where(frame == 2)\n",
    "    \n",
    "    frame[frame == 2] = 0\n",
    "    \n",
    "    return True, inside_points\n"
   ]
  },
  {
   "cell_type": "code",
   "execution_count": 66,
   "metadata": {},
   "outputs": [],
   "source": [
    "def check_in_range (value, bottom, left, right, direction, position ):\n",
    "    \"\"\"\n",
    "    bottom, left, right, direction, position is the parameters of U-shape\n",
    "    \n",
    "    value is a coordinates (x, y)\n",
    "    \"\"\"\n",
    "    if direction == 0 or direction == 4:\n",
    "        if position[0] <= value[0] <= position[0] + max(left, right) and position[1] <= value[1] <= position[1] + bottom:\n",
    "            return True\n",
    "    \n",
    "    if direction == 2 or direction == 6:\n",
    "        if position[0] <= value[0] <= position[0] + bottom and position[1] <= value[1] <= position[1] +  max(left, right):\n",
    "            return True\n",
    "    \n",
    "    return False"
   ]
  },
  {
   "cell_type": "code",
   "execution_count": 55,
   "metadata": {},
   "outputs": [
    {
     "data": {
      "text/plain": [
       "(array([0, 0, 0, 1, 1, 1], dtype=int64),\n",
       " array([0, 1, 2, 0, 1, 2], dtype=int64))"
      ]
     },
     "execution_count": 55,
     "metadata": {},
     "output_type": "execute_result"
    }
   ],
   "source": [
    "a = np.ones((2,3))\n",
    "np.where(a == 1)"
   ]
  },
  {
   "cell_type": "code",
   "execution_count": 58,
   "metadata": {},
   "outputs": [
    {
     "data": {
      "text/plain": [
       "(True, (array([6, 6, 7, 7], dtype=int64), array([5, 6, 5, 6], dtype=int64)))"
      ]
     },
     "execution_count": 58,
     "metadata": {},
     "output_type": "execute_result"
    }
   ],
   "source": [
    "f = zeros ((10, 10))\n",
    "generate_u_shape (f , 4, 4, 3, 4, (5,4) )"
   ]
  },
  {
   "cell_type": "code",
   "execution_count": 59,
   "metadata": {},
   "outputs": [
    {
     "data": {
      "text/plain": [
       "array([[0., 0., 0., 0., 0., 0., 0., 0., 0., 0.],\n",
       "       [0., 0., 0., 0., 0., 0., 0., 0., 0., 0.],\n",
       "       [0., 0., 0., 0., 0., 0., 0., 0., 0., 0.],\n",
       "       [0., 0., 0., 0., 0., 0., 0., 0., 0., 0.],\n",
       "       [0., 0., 0., 0., 0., 0., 0., 0., 0., 0.],\n",
       "       [0., 0., 0., 0., 1., 1., 1., 1., 0., 0.],\n",
       "       [0., 0., 0., 0., 1., 0., 0., 1., 0., 0.],\n",
       "       [0., 0., 0., 0., 1., 0., 0., 1., 0., 0.],\n",
       "       [0., 0., 0., 0., 0., 0., 0., 1., 0., 0.],\n",
       "       [0., 0., 0., 0., 0., 0., 0., 0., 0., 0.]])"
      ]
     },
     "execution_count": 59,
     "metadata": {},
     "output_type": "execute_result"
    }
   ],
   "source": [
    "f"
   ]
  },
  {
   "cell_type": "code",
   "execution_count": 380,
   "metadata": {},
   "outputs": [],
   "source": [
    "def generate_u_shape_frame ( size, bottom_range = list(range(3,5)), \n",
    "                  left_range = list(range(3,5)), right_range = list(range(3,5)), \n",
    "                  direction_range = list(range(0,8,2)) ):\n",
    "    frame = zeros((size,size))\n",
    "    \n",
    "    # You random a value in those range to add into the frame\n",
    "    # You also\n",
    "    bottom = choice(bottom_range)\n",
    "    left = choice(left_range)\n",
    "    right = choice(right_range)\n",
    "    direction = choice(direction_range)\n",
    "    while True:\n",
    "        position_x = randint ( 0, size - 1 )\n",
    "        position_y = randint ( 0, size - 1 )\n",
    "        position = (position_x, position_y)\n",
    "\n",
    "        success, inner_list = generate_u_shape  ( frame, bottom, left, right, direction, position )\n",
    "        \n",
    "        if success : \n",
    "            break\n",
    "    \n",
    "    # Random outer position for moving point\n",
    "    while True:\n",
    "        pos_start_x = randint ( 0, size - 1 )\n",
    "        pos_start_y = randint ( 0, size - 1 )\n",
    "        \n",
    "        pos_start = (pos_start_x, pos_start_y)\n",
    "        \n",
    "        # Just need to be out of the rectangle\n",
    "        if check_in_range ( pos_start, bottom, left, right, direction, position ):\n",
    "            continue\n",
    "            \n",
    "        break\n",
    "    \n",
    "    # Random inner position for moving point\n",
    "    index = randint ( 0, len(inner_list[0]) - 1 )\n",
    "    pos_end = (inner_list[0][index], inner_list[1][index])\n",
    "    \n",
    "    return frame, pos_start, pos_end"
   ]
  },
  {
   "cell_type": "code",
   "execution_count": 381,
   "metadata": {},
   "outputs": [],
   "source": [
    "frame, pos_start, pos_end = generate_u_shape_frame ( 10 )"
   ]
  },
  {
   "cell_type": "code",
   "execution_count": 382,
   "metadata": {},
   "outputs": [
    {
     "data": {
      "text/plain": [
       "array([[0., 0., 0., 0., 0., 0., 0., 0., 0., 0.],\n",
       "       [0., 0., 0., 0., 0., 0., 0., 0., 0., 0.],\n",
       "       [0., 0., 0., 0., 0., 0., 0., 0., 0., 0.],\n",
       "       [0., 0., 0., 0., 0., 0., 0., 0., 0., 0.],\n",
       "       [0., 0., 0., 0., 0., 0., 0., 0., 0., 0.],\n",
       "       [0., 0., 0., 0., 1., 1., 1., 0., 0., 0.],\n",
       "       [0., 0., 0., 0., 0., 0., 1., 0., 0., 0.],\n",
       "       [0., 0., 0., 0., 0., 0., 1., 0., 0., 0.],\n",
       "       [0., 0., 0., 0., 1., 1., 1., 0., 0., 0.],\n",
       "       [0., 0., 0., 0., 0., 0., 0., 0., 0., 0.]])"
      ]
     },
     "execution_count": 382,
     "metadata": {},
     "output_type": "execute_result"
    }
   ],
   "source": [
    "frame"
   ]
  },
  {
   "cell_type": "code",
   "execution_count": 131,
   "metadata": {},
   "outputs": [
    {
     "data": {
      "text/plain": [
       "(7, 9)"
      ]
     },
     "execution_count": 131,
     "metadata": {},
     "output_type": "execute_result"
    }
   ],
   "source": [
    "pos_start"
   ]
  },
  {
   "cell_type": "code",
   "execution_count": 135,
   "metadata": {},
   "outputs": [
    {
     "data": {
      "text/plain": [
       "(4, 4)"
      ]
     },
     "execution_count": 135,
     "metadata": {},
     "output_type": "execute_result"
    }
   ],
   "source": [
    "pos_end"
   ]
  },
  {
   "cell_type": "code",
   "execution_count": 138,
   "metadata": {},
   "outputs": [],
   "source": [
    "def get_neighbors ( size, pos ):\n",
    "    neighbors = []\n",
    "    for i in range(-1, 2):\n",
    "        for j in range(-1, 2):\n",
    "            if (i == 0 or j == 0) and not i == j == 0:\n",
    "                new_pos = (pos[0] + i, pos[1] + j)\n",
    "                if check_in_frame ( size, new_pos ):\n",
    "                    neighbors.append(new_pos)\n",
    "    return neighbors\n",
    "    \n",
    "\n",
    "def generate_path ( frame, pos_start, pos_end ):\n",
    "    size = frame.shape[0]\n",
    "    # Keep track of the previous cell that has been expanded to\n",
    "    parent = {}\n",
    "    \n",
    "    ### There is nothing too difficult here, we run overflow algorithm to cover the space\n",
    "    f = frame.copy()\n",
    "    f[pos_start] = 2\n",
    "    f[pos_end] = 3\n",
    "    \n",
    "    explore_list = [ pos_start ]\n",
    "    \n",
    "    def search ( l ):\n",
    "        while l:\n",
    "            # Get the shortest path to the pos_end\n",
    "            new_explore_list = []\n",
    "\n",
    "            for pos in l:\n",
    "                for n in get_neighbors( size, pos ):\n",
    "                    if f[n] == 3:\n",
    "                        # Found\n",
    "                        parent[n] = pos\n",
    "                        return\n",
    "                    if f[n] == 0:\n",
    "                        # Add into new list\n",
    "                        new_explore_list.append(n)\n",
    "                        parent[n] = pos\n",
    "                        # 4 is marked\n",
    "                        f[n] = 4\n",
    "            l = new_explore_list\n",
    "        \n",
    "    \n",
    "    search ( explore_list )\n",
    "    cur = pos_end\n",
    "    \n",
    "    path = []\n",
    "    while cur in parent:\n",
    "        path.append(cur)\n",
    "        cur = parent[cur]\n",
    "    \n",
    "    path.append(cur)\n",
    "    return path[::-1]"
   ]
  },
  {
   "cell_type": "code",
   "execution_count": 139,
   "metadata": {},
   "outputs": [
    {
     "data": {
      "text/plain": [
       "[(7, 9), (6, 9), (5, 9), (4, 9), (4, 8), (4, 7), (4, 6), (4, 5), (4, 4)]"
      ]
     },
     "execution_count": 139,
     "metadata": {},
     "output_type": "execute_result"
    }
   ],
   "source": [
    "generate_path ( frame, pos_start, pos_end )"
   ]
  },
  {
   "cell_type": "code",
   "execution_count": 349,
   "metadata": {},
   "outputs": [],
   "source": [
    "def build_frames(size, env_generator ):\n",
    "    frames = list()\n",
    "    # create the first frame\n",
    "    frame, pos_start, pos_end = env_generator ( size )\n",
    "    \n",
    "    # If it is enter (enter = 1): start with pos_start, end with pos_end\n",
    "    # If it is exit (exit = 1): start with pos_end, end with pos_start\n",
    "    r = random()\n",
    "    print (r)\n",
    "    enter = 1 if r < 0.5 else 0\n",
    "    \n",
    "    if enter == 0:\n",
    "        pos_start, pos_end = (pos_end, pos_start)\n",
    "        \n",
    "    path = generate_path ( frame, pos_start, pos_end )\n",
    "    \n",
    "    for step in path:\n",
    "        f = frame.copy()\n",
    "        f[step] = 1\n",
    "        frames.append(f)\n",
    "        \n",
    "    return frames, enter"
   ]
  },
  {
   "cell_type": "code",
   "execution_count": 160,
   "metadata": {},
   "outputs": [],
   "source": [
    "from matplotlib import pyplot"
   ]
  },
  {
   "cell_type": "code",
   "execution_count": 383,
   "metadata": {},
   "outputs": [
    {
     "name": "stdout",
     "output_type": "stream",
     "text": [
      "0.43449652360631996\n",
      "Enter\n",
      "15\n"
     ]
    },
    {
     "data": {
      "image/png": "[encoded data removed]",
      "text/plain": [
       "<matplotlib.figure.Figure at 0x1d6e102a320>"
      ]
     },
     "metadata": {},
     "output_type": "display_data"
    }
   ],
   "source": [
    "size = 12\n",
    "frames, enter = build_frames(size, lambda size: generate_u_shape_frame(size, bottom_range = list(range(3,6)), \n",
    "                  left_range = list(range(3,6)), right_range = list(range(3,6)) ))\n",
    "if enter == 1:\n",
    "    print ('Enter')\n",
    "else:\n",
    "    print ('Exit')\n",
    "    \n",
    "print (len(frames))\n",
    "# plot all frames\n",
    "pyplot.figure()\n",
    "for i in range(len(frames)):\n",
    "    # create a gray scale subplot for each frame\n",
    "    pyplot.subplot(1, len(frames), i + 1)\n",
    "    pyplot.imshow(frames[i], cmap='Greys')\n",
    "    # turn of the scale to make it clearer\n",
    "    ax = pyplot.gca()\n",
    "    ax.get_xaxis().set_visible(False)\n",
    "    ax.get_yaxis().set_visible(False)\n",
    "# show the plot\n",
    "pyplot.show()"
   ]
  },
  {
   "cell_type": "code",
   "execution_count": 660,
   "metadata": {},
   "outputs": [],
   "source": [
    "def pad_frames ( frames, length, padding_start = False  ):\n",
    "    if len(frames) > length:\n",
    "        \"\"\"\n",
    "        Randomly drop some frames, just not the first and last ones\n",
    "        \"\"\"\n",
    "        while len(frames) > length:\n",
    "            drop_index = randint(1, len(frames) - 2)\n",
    "            frames.pop(drop_index)\n",
    "            \n",
    "    if len(frames) < length:\n",
    "        if padding_start:\n",
    "            frames = [frames[0]] * (length - len(frames)) + frames\n",
    "        else:\n",
    "            frames = frames + [frames[-1]] * (length - len(frames))\n",
    "    return frames"
   ]
  },
  {
   "cell_type": "code",
   "execution_count": 766,
   "metadata": {},
   "outputs": [],
   "source": [
    "def build_frames_pad(size, length, env_generator, padding_start = False, enter = None ):\n",
    "    \"\"\"\n",
    "    Limit the length of the session, or adding cloned frame if needed\n",
    "    \"\"\"\n",
    "    frames = list()\n",
    "    # create the first frame\n",
    "    frame, pos_start, pos_end = env_generator ( size )\n",
    "    if frame is None:\n",
    "        return None, None, None\n",
    "    \n",
    "    if enter is None:\n",
    "        \"\"\"\n",
    "        enter hasn't been set, randomize it\n",
    "        \"\"\"\n",
    "        # If it is enter (enter = 1): start with pos_start, end with pos_end\n",
    "        # If it is exit (exit = 1): start with pos_end, end with pos_start\n",
    "        r = random()\n",
    "        enter = 1 if r < 0.5 else 0\n",
    "    \n",
    "    if enter == 0:\n",
    "        pos_start, pos_end = (pos_end, pos_start)\n",
    "        \n",
    "    path = generate_path ( frame, pos_start, pos_end )\n",
    "    \n",
    "    for step in path:\n",
    "        f = frame.copy()\n",
    "        f[step] = 4\n",
    "        frames.append(f)\n",
    "        \n",
    "    real_len = len(frames)\n",
    "    \n",
    "    if padding_start is not None:\n",
    "        frames = pad_frames ( frames, length, padding_start )\n",
    "        \n",
    "    return frames, enter, real_len"
   ]
  },
  {
   "cell_type": "code",
   "execution_count": 656,
   "metadata": {},
   "outputs": [],
   "source": [
    "frames, enter, real_len = build_frames_pad(size, 10, lambda size: generate_u_shape_frame(size, bottom_range = list(range(3,6)), \n",
    "                  left_range = list(range(3,6)), right_range = list(range(3,6)) ))"
   ]
  },
  {
   "cell_type": "code",
   "execution_count": 592,
   "metadata": {},
   "outputs": [
    {
     "name": "stdout",
     "output_type": "stream",
     "text": [
      "10\n"
     ]
    }
   ],
   "source": [
    "print (len(frames))"
   ]
  },
  {
   "cell_type": "code",
   "execution_count": 787,
   "metadata": {},
   "outputs": [],
   "source": [
    "def plot( sample , l = None):\n",
    "    if l is None:\n",
    "        l = len (sample)\n",
    "    sample = array(sample)\n",
    "    sample = sample.reshape(sample.shape[0], sample.shape[1], sample.shape[2], 1)\n",
    "    pyplot.figure()\n",
    "    for i in range(len(sample)):\n",
    "        # create a gray scale subplot for each frame\n",
    "        pyplot.subplot(1, l, i + 1)\n",
    "        pyplot.imshow(sample[i,:,:,0], cmap='Greys')\n",
    "        # turn of the scale to make it clearer\n",
    "        ax = pyplot.gca()\n",
    "        ax.get_xaxis().set_visible(False)\n",
    "        ax.get_yaxis().set_visible(False)\n",
    "    # show the plot\n",
    "    pyplot.show()"
   ]
  },
  {
   "cell_type": "code",
   "execution_count": 668,
   "metadata": {},
   "outputs": [],
   "source": [
    "# generate multiple sequences of frames and reshape for network input\n",
    "def generate_examples(size, length, n_patterns, env_generator):\n",
    "    X, y = list(), list()\n",
    "    while len(X) < n_patterns:\n",
    "        frames, enter, real_len = build_frames_pad(size, length, env_generator)\n",
    "        if not frames is None:\n",
    "            X.append(frames)\n",
    "            y.append(enter)\n",
    "    \n",
    "    # resize as [samples, timesteps, width, height, channels]\n",
    "    X = array(X).reshape(n_patterns, length, size, size, 1)\n",
    "    y = array(y).reshape(n_patterns, 1)\n",
    "    return X, y"
   ]
  },
  {
   "cell_type": "code",
   "execution_count": 669,
   "metadata": {},
   "outputs": [],
   "source": [
    "X, y = generate_examples(12, 15, 100, shape_generator)"
   ]
  },
  {
   "cell_type": "code",
   "execution_count": 791,
   "metadata": {},
   "outputs": [],
   "source": [
    "def plot_big(sample):\n",
    "    for i in range( len(sample) // 5 + 1):\n",
    "        plot(sample[5 * i:min(len(sample), 5 * i + 5)], l = 5)"
   ]
  },
  {
   "cell_type": "code",
   "execution_count": 684,
   "metadata": {},
   "outputs": [
    {
     "data": {
      "text/plain": [
       "array([[0.   ],\n",
       "       [0.125],\n",
       "       [0.25 ],\n",
       "       [0.375],\n",
       "       [0.5  ],\n",
       "       [0.625],\n",
       "       [0.75 ],\n",
       "       [0.875],\n",
       "       [1.   ],\n",
       "       [1.   ],\n",
       "       [1.   ],\n",
       "       [1.   ],\n",
       "       [1.   ],\n",
       "       [1.   ],\n",
       "       [1.   ]])"
      ]
     },
     "execution_count": 684,
     "metadata": {},
     "output_type": "execute_result"
    }
   ],
   "source": [
    "y_progress[t]"
   ]
  },
  {
   "cell_type": "code",
   "execution_count": 287,
   "metadata": {},
   "outputs": [
    {
     "name": "stdout",
     "output_type": "stream",
     "text": [
      "(20000, 15, 12, 12, 1)\n"
     ]
    }
   ],
   "source": [
    "print (X.shape)"
   ]
  },
  {
   "cell_type": "code",
   "execution_count": 673,
   "metadata": {},
   "outputs": [
    {
     "name": "stdout",
     "output_type": "stream",
     "text": [
      "_________________________________________________________________\n",
      "Layer (type)                 Output Shape              Param #   \n",
      "=================================================================\n",
      "time_distributed_94 (TimeDis (None, None, 11, 11, 4)   20        \n",
      "_________________________________________________________________\n",
      "time_distributed_95 (TimeDis (None, None, 5, 5, 4)     0         \n",
      "_________________________________________________________________\n",
      "time_distributed_96 (TimeDis (None, None, 4, 4, 4)     68        \n",
      "_________________________________________________________________\n",
      "time_distributed_97 (TimeDis (None, None, 2, 2, 4)     0         \n",
      "_________________________________________________________________\n",
      "time_distributed_98 (TimeDis (None, None, 16)          0         \n",
      "_________________________________________________________________\n",
      "lstm_20 (LSTM)               (None, 100)               46800     \n",
      "_________________________________________________________________\n",
      "dense_20 (Dense)             (None, 1)                 101       \n",
      "=================================================================\n",
      "Total params: 46,989\n",
      "Trainable params: 46,989\n",
      "Non-trainable params: 0\n",
      "_________________________________________________________________\n",
      "None\n",
      "Epoch 1/1\n",
      "100/100 [==============================] - 5s 47ms/step - loss: 0.6971 - acc: 0.4800\n"
     ]
    },
    {
     "data": {
      "text/plain": [
       "<keras.callbacks.History at 0x1d700f43ac8>"
      ]
     },
     "execution_count": 673,
     "metadata": {},
     "output_type": "execute_result"
    }
   ],
   "source": [
    "# configure problem\n",
    "# define the model\n",
    "class Classifier ( object ):\n",
    "    def __init__ (self):\n",
    "        self.model = Sequential()\n",
    "        self.model.add(TimeDistributed(Conv2D(4, (2,2), activation='relu'),\n",
    "        input_shape=(None,size,size,1)))\n",
    "        self.model.add(TimeDistributed(MaxPooling2D(pool_size=(2, 2))))\n",
    "        self.model.add(TimeDistributed(Conv2D(4, (2,2), activation='relu'),\n",
    "        input_shape=(None,size,size,1)))\n",
    "        self.model.add(TimeDistributed(MaxPooling2D(pool_size=(2, 2))))\n",
    "        self.model.add(TimeDistributed(Flatten()))\n",
    "\n",
    "        self.model.add(LSTM(100))\n",
    "        self.model.add(Dense(1, activation='sigmoid'))\n",
    "\n",
    "        opt = Adam(lr=0.001, beta_1=0.9, beta_2=0.999, epsilon=None, decay=0.01, amsgrad=False)\n",
    "\n",
    "        self.model.compile(loss='binary_crossentropy', optimizer = opt , metrics=['acc'])\n",
    "        print(self.model.summary())\n",
    "\n",
    "c = Classifier ()\n",
    "c.model.fit(X, y, batch_size=50, epochs=1)"
   ]
  },
  {
   "cell_type": "code",
   "execution_count": 598,
   "metadata": {},
   "outputs": [
    {
     "name": "stdout",
     "output_type": "stream",
     "text": [
      "loss: 0.100671, acc: 96.000000\n",
      "Expected: Enter, Predicted: Enter\n"
     ]
    }
   ],
   "source": [
    "shape_generator = lambda size: generate_u_shape_frame(size, bottom_range = list(range(3,6)), \n",
    "                  left_range = list(range(3,6)), right_range = list(range(3,6)) )\n",
    "# evaluate model\n",
    "X_evaluate, y_evaluate = generate_examples(size, 15, 100, shape_generator)\n",
    "loss, acc = model.evaluate(X_evaluate, y_evaluate, verbose=0)\n",
    "print('loss: %f, acc: %f' % (loss, acc*100))\n",
    "# prediction on new data\n",
    "X_test, y_test = generate_examples(size, 15, 1, shape_generator)\n",
    "yhat = model.predict_classes(X_test, verbose=0)\n",
    "expected = \"Enter\" if y_test[0]==1 else \"Exit\"\n",
    "predicted = \"Enter\" if yhat[0]==1 else \"Exit\"\n",
    "print('Expected: %s, Predicted: %s' % (expected, predicted))"
   ]
  },
  {
   "cell_type": "code",
   "execution_count": 323,
   "metadata": {},
   "outputs": [
    {
     "data": {
      "image/png": "[encoded data removed]",
      "text/plain": [
       "<matplotlib.figure.Figure at 0x1d6df76da90>"
      ]
     },
     "metadata": {},
     "output_type": "display_data"
    }
   ],
   "source": [
    "plot(X_evaluate[0])"
   ]
  },
  {
   "cell_type": "code",
   "execution_count": 721,
   "metadata": {},
   "outputs": [],
   "source": [
    "# generate multiple sequences of frames and reshape for network input\n",
    "def generate_example_progress(size, length, n_patterns, env_generator, enter = True ):\n",
    "    \"\"\"\n",
    "    size: size of the problem (size of image)\n",
    "    \"\"\"\n",
    "    X, y = list(), list()\n",
    "    while len(X) < n_patterns:\n",
    "        frames, _, real_len = build_frames_pad(size, length, env_generator, padding_start = None, enter = enter)\n",
    "        if not frames is None:\n",
    "            X.append(frames)\n",
    "            \n",
    "            if real_len < len(frames):\n",
    "                progress = np.concatenate ( [ np.linspace(0, 1, num=real_len) , [1] * ( len(frames) - real_len ) ] )\n",
    "            else:\n",
    "                progress = np.linspace(0, 1, num=len(frames))\n",
    "            y.append(progress)\n",
    "    \n",
    "    # resize as [samples, timesteps, width, height, channels]\n",
    "\n",
    "    X = array(X).reshape(n_patterns, length, size, size, 1)\n",
    "    y = array(y).reshape(n_patterns, length, 1)\n",
    "    return X, y"
   ]
  },
  {
   "cell_type": "code",
   "execution_count": 727,
   "metadata": {},
   "outputs": [],
   "source": [
    "from collections import defaultdict\n",
    "def generate_example_progress_diff_len(size, length, n_patterns, env_generator, enter = True ):\n",
    "    \"\"\"\n",
    "    Same as generate_example_progress but return different List of X,y for different length\n",
    "    \"\"\"\n",
    "    X, y = defaultdict(list), defaultdict(list)\n",
    "    \n",
    "    total = 0\n",
    "    while total < n_patterns:\n",
    "        frames, _, real_len = build_frames_pad(size, length, env_generator, padding_start = None, enter = enter)\n",
    "        if not frames is None:\n",
    "            progress = np.linspace(0, 1, num=len(frames))\n",
    "                \n",
    "            X[len(frames)].append(frames)\n",
    "            y[len(frames)].append(progress)\n",
    "            total += 1\n",
    "    \n",
    "    for key in X:\n",
    "        # resize as [samples, timesteps, width, height, channels]\n",
    "        X[key] = array(X[key]).reshape(len(X[key]), key, size, size, 1)\n",
    "        y[key] = array(y[key]).reshape(len(y[key]), key, 1)\n",
    "    \n",
    "    samples = []\n",
    "    for key in sorted(X.keys()):\n",
    "        samples.append( (X[key], y[key] ) )\n",
    "        \n",
    "    return samples"
   ]
  },
  {
   "cell_type": "code",
   "execution_count": 708,
   "metadata": {},
   "outputs": [],
   "source": [
    "X, y_progress = generate_example_progress(12, 15, 20000, shape_generator)"
   ]
  },
  {
   "cell_type": "code",
   "execution_count": 730,
   "metadata": {},
   "outputs": [],
   "source": [
    "samples = generate_example_progress_diff_len(12, 15, 20000, shape_generator)"
   ]
  },
  {
   "cell_type": "code",
   "execution_count": 735,
   "metadata": {},
   "outputs": [
    {
     "name": "stdout",
     "output_type": "stream",
     "text": [
      "_________________________________________________________________\n",
      "Layer (type)                 Output Shape              Param #   \n",
      "=================================================================\n",
      "time_distributed_185 (TimeDi (None, None, 11, 11, 4)   20        \n",
      "_________________________________________________________________\n",
      "time_distributed_186 (TimeDi (None, None, 5, 5, 4)     0         \n",
      "_________________________________________________________________\n",
      "time_distributed_187 (TimeDi (None, None, 4, 4, 4)     68        \n",
      "_________________________________________________________________\n",
      "time_distributed_188 (TimeDi (None, None, 2, 2, 4)     0         \n",
      "_________________________________________________________________\n",
      "time_distributed_189 (TimeDi (None, None, 16)          0         \n",
      "_________________________________________________________________\n",
      "lstm_38 (LSTM)               (None, None, 200)         173600    \n",
      "_________________________________________________________________\n",
      "dense_38 (Dense)             (None, None, 1)           201       \n",
      "=================================================================\n",
      "Total params: 173,889\n",
      "Trainable params: 173,889\n",
      "Non-trainable params: 0\n",
      "_________________________________________________________________\n",
      "None\n",
      "Epoch 1/2\n",
      "902/902 [==============================] - 6s 7ms/step - loss: 0.0829\n",
      "Epoch 2/2\n",
      "902/902 [==============================] - 0s 527us/step - loss: 0.0391\n",
      "Epoch 1/2\n",
      "1289/1289 [==============================] - 1s 564us/step - loss: 0.0257\n",
      "Epoch 2/2\n",
      "1289/1289 [==============================] - 1s 549us/step - loss: 0.0188\n",
      "Epoch 1/2\n",
      "1572/1572 [==============================] - 1s 597us/step - loss: 0.0148\n",
      "Epoch 2/2\n",
      "1572/1572 [==============================] - 1s 600us/step - loss: 0.0119\n",
      "Epoch 1/2\n",
      "1808/1808 [==============================] - 1s 667us/step - loss: 0.0105\n",
      "Epoch 2/2\n",
      "1808/1808 [==============================] - 1s 670us/step - loss: 0.0088\n",
      "Epoch 1/2\n",
      "1937/1937 [==============================] - 1s 695us/step - loss: 0.0083\n",
      "Epoch 2/2\n",
      "1937/1937 [==============================] - 1s 692us/step - loss: 0.0071\n",
      "Epoch 1/2\n",
      "1993/1993 [==============================] - 2s 764us/step - loss: 0.0070\n",
      "Epoch 2/2\n",
      "1993/1993 [==============================] - 1s 738us/step - loss: 0.0061\n",
      "Epoch 1/2\n",
      "2040/2040 [==============================] - 2s 799us/step - loss: 0.0059\n",
      "Epoch 2/2\n",
      "2040/2040 [==============================] - 2s 790us/step - loss: 0.0051\n",
      "Epoch 1/2\n",
      "1831/1831 [==============================] - 2s 852us/step - loss: 0.0049\n",
      "Epoch 2/2\n",
      "1831/1831 [==============================] - 2s 841us/step - loss: 0.0043\n",
      "Epoch 1/2\n",
      "1619/1619 [==============================] - 1s 892us/step - loss: 0.0043\n",
      "Epoch 2/2\n",
      "1619/1619 [==============================] - 1s 897us/step - loss: 0.0038\n",
      "Epoch 1/2\n",
      "1395/1395 [==============================] - 1s 982us/step - loss: 0.0037\n",
      "Epoch 2/2\n",
      "1395/1395 [==============================] - 1s 944us/step - loss: 0.0033\n",
      "Epoch 1/2\n",
      "1002/1002 [==============================] - 1s 1ms/step - loss: 0.0034\n",
      "Epoch 2/2\n",
      "1002/1002 [==============================] - 1s 1ms/step - loss: 0.0030\n",
      "Epoch 1/2\n",
      "902/902 [==============================] - 0s 527us/step - loss: 0.1210\n",
      "Epoch 2/2\n",
      "902/902 [==============================] - 0s 519us/step - loss: 0.0276\n",
      "Epoch 1/2\n",
      "1289/1289 [==============================] - 1s 572us/step - loss: 0.0072\n",
      "Epoch 2/2\n",
      "1289/1289 [==============================] - 1s 568us/step - loss: 0.0064\n",
      "Epoch 1/2\n",
      "1572/1572 [==============================] - 1s 611us/step - loss: 0.0084\n",
      "Epoch 2/2\n",
      "1572/1572 [==============================] - 1s 595us/step - loss: 0.0051\n",
      "Epoch 1/2\n",
      "1808/1808 [==============================] - 1s 659us/step - loss: 0.0058\n",
      "Epoch 2/2\n",
      "1808/1808 [==============================] - 1s 656us/step - loss: 0.0042\n",
      "Epoch 1/2\n",
      "1937/1937 [==============================] - 1s 692us/step - loss: 0.0048\n",
      "Epoch 2/2\n",
      "1937/1937 [==============================] - 1s 693us/step - loss: 0.0036\n",
      "Epoch 1/2\n",
      "1993/1993 [==============================] - 2s 754us/step - loss: 0.0041\n",
      "Epoch 2/2\n",
      "1993/1993 [==============================] - 1s 741us/step - loss: 0.0033\n",
      "Epoch 1/2\n",
      "2040/2040 [==============================] - 2s 792us/step - loss: 0.0036\n",
      "Epoch 2/2\n",
      "2040/2040 [==============================] - 2s 802us/step - loss: 0.0029\n",
      "Epoch 1/2\n",
      "1831/1831 [==============================] - 2s 841us/step - loss: 0.0032\n",
      "Epoch 2/2\n",
      "1831/1831 [==============================] - 2s 852us/step - loss: 0.0026\n",
      "Epoch 1/2\n",
      "1619/1619 [==============================] - 1s 910us/step - loss: 0.0030\n",
      "Epoch 2/2\n",
      "1619/1619 [==============================] - 1s 902us/step - loss: 0.0025\n",
      "Epoch 1/2\n",
      "1395/1395 [==============================] - 1s 943us/step - loss: 0.0028\n",
      "Epoch 2/2\n",
      "1395/1395 [==============================] - 1s 936us/step - loss: 0.0024\n",
      "Epoch 1/2\n",
      "1002/1002 [==============================] - 1s 1ms/step - loss: 0.0028\n",
      "Epoch 2/2\n",
      "1002/1002 [==============================] - 1s 1ms/step - loss: 0.0024\n",
      "Epoch 1/2\n",
      "902/902 [==============================] - 0s 513us/step - loss: 0.1397\n",
      "Epoch 2/2\n",
      "902/902 [==============================] - 0s 527us/step - loss: 0.0787\n",
      "Epoch 1/2\n",
      "1289/1289 [==============================] - 1s 543us/step - loss: 0.0136\n",
      "Epoch 2/2\n",
      "1289/1289 [==============================] - 1s 543us/step - loss: 0.0062\n",
      "Epoch 1/2\n",
      "1572/1572 [==============================] - 1s 612us/step - loss: 0.0056\n",
      "Epoch 2/2\n",
      "1572/1572 [==============================] - 1s 606us/step - loss: 0.0045\n",
      "Epoch 1/2\n",
      "1808/1808 [==============================] - 1s 656us/step - loss: 0.0069\n",
      "Epoch 2/2\n",
      "1808/1808 [==============================] - 1s 663us/step - loss: 0.0040\n",
      "Epoch 1/2\n",
      "1937/1937 [==============================] - 1s 709us/step - loss: 0.0054\n",
      "Epoch 2/2\n",
      "1937/1937 [==============================] - 1s 699us/step - loss: 0.0034\n",
      "Epoch 1/2\n",
      "1993/1993 [==============================] - 1s 738us/step - loss: 0.0043\n",
      "Epoch 2/2\n",
      "1993/1993 [==============================] - 1s 752us/step - loss: 0.0031\n",
      "Epoch 1/2\n",
      "2040/2040 [==============================] - 2s 799us/step - loss: 0.0037\n",
      "Epoch 2/2\n",
      "2040/2040 [==============================] - 2s 816us/step - loss: 0.0028\n",
      "Epoch 1/2\n",
      "1831/1831 [==============================] - 2s 872us/step - loss: 0.0033\n",
      "Epoch 2/2\n",
      "1831/1831 [==============================] - 2s 856us/step - loss: 0.0025\n",
      "Epoch 1/2\n",
      "1619/1619 [==============================] - 1s 911us/step - loss: 0.0030\n",
      "Epoch 2/2\n",
      "1619/1619 [==============================] - 1s 893us/step - loss: 0.0024\n",
      "Epoch 1/2\n",
      "1395/1395 [==============================] - 1s 940us/step - loss: 0.0029\n",
      "Epoch 2/2\n",
      "1395/1395 [==============================] - 1s 963us/step - loss: 0.0023\n",
      "Epoch 1/2\n",
      "1002/1002 [==============================] - 1s 1ms/step - loss: 0.0029\n",
      "Epoch 2/2\n",
      "1002/1002 [==============================] - 1s 1ms/step - loss: 0.0023\n",
      "Epoch 1/2\n",
      "902/902 [==============================] - 0s 518us/step - loss: 0.1385\n",
      "Epoch 2/2\n",
      "902/902 [==============================] - 0s 505us/step - loss: 0.1017\n",
      "Epoch 1/2\n",
      "1289/1289 [==============================] - 1s 550us/step - loss: 0.0352\n",
      "Epoch 2/2\n",
      "1289/1289 [==============================] - 1s 564us/step - loss: 0.0166\n",
      "Epoch 1/2\n",
      "1572/1572 [==============================] - 1s 612us/step - loss: 0.0038\n",
      "Epoch 2/2\n",
      "1572/1572 [==============================] - 1s 606us/step - loss: 0.0036\n",
      "Epoch 1/2\n",
      "1808/1808 [==============================] - 1s 658us/step - loss: 0.0057\n",
      "Epoch 2/2\n",
      "1808/1808 [==============================] - 1s 657us/step - loss: 0.0041\n",
      "Epoch 1/2\n",
      "1937/1937 [==============================] - 1s 694us/step - loss: 0.0065\n",
      "Epoch 2/2\n",
      "1937/1937 [==============================] - 1s 700us/step - loss: 0.0039\n",
      "Epoch 1/2\n",
      "1993/1993 [==============================] - 1s 738us/step - loss: 0.0054\n",
      "Epoch 2/2\n",
      "1993/1993 [==============================] - 2s 779us/step - loss: 0.0034\n",
      "Epoch 1/2\n",
      "2040/2040 [==============================] - 2s 794us/step - loss: 0.0044\n",
      "Epoch 2/2\n",
      "2040/2040 [==============================] - 2s 800us/step - loss: 0.0030\n",
      "Epoch 1/2\n",
      "1831/1831 [==============================] - 2s 851us/step - loss: 0.0038\n",
      "Epoch 2/2\n",
      "1831/1831 [==============================] - 2s 849us/step - loss: 0.0028\n",
      "Epoch 1/2\n"
     ]
    },
    {
     "name": "stdout",
     "output_type": "stream",
     "text": [
      "1619/1619 [==============================] - 1s 905us/step - loss: 0.0035\n",
      "Epoch 2/2\n",
      "1619/1619 [==============================] - 1s 919us/step - loss: 0.0027\n",
      "Epoch 1/2\n",
      "1395/1395 [==============================] - 1s 947us/step - loss: 0.0033\n",
      "Epoch 2/2\n",
      "1395/1395 [==============================] - 1s 947us/step - loss: 0.0026\n",
      "Epoch 1/2\n",
      "1002/1002 [==============================] - 1s 1ms/step - loss: 0.0033\n",
      "Epoch 2/2\n",
      "1002/1002 [==============================] - 1s 1ms/step - loss: 0.0026\n",
      "Epoch 1/2\n",
      "902/902 [==============================] - 0s 528us/step - loss: 0.1318\n",
      "Epoch 2/2\n",
      "902/902 [==============================] - 1s 559us/step - loss: 0.1076\n",
      "Epoch 1/2\n",
      "1289/1289 [==============================] - 1s 558us/step - loss: 0.0504\n",
      "Epoch 2/2\n",
      "1289/1289 [==============================] - 1s 552us/step - loss: 0.0302\n",
      "Epoch 1/2\n",
      "1572/1572 [==============================] - 1s 617us/step - loss: 0.0072\n",
      "Epoch 2/2\n",
      "1572/1572 [==============================] - 1s 596us/step - loss: 0.0050\n",
      "Epoch 1/2\n",
      "1808/1808 [==============================] - 1s 682us/step - loss: 0.0040\n",
      "Epoch 2/2\n",
      "1808/1808 [==============================] - 1s 714us/step - loss: 0.0036\n",
      "Epoch 1/2\n",
      "1937/1937 [==============================] - 1s 709us/step - loss: 0.0064\n",
      "Epoch 2/2\n",
      "1937/1937 [==============================] - 1s 697us/step - loss: 0.0044\n",
      "Epoch 1/2\n",
      "1993/1993 [==============================] - 2s 769us/step - loss: 0.0066\n",
      "Epoch 2/2\n",
      "1993/1993 [==============================] - 1s 752us/step - loss: 0.0042\n",
      "Epoch 1/2\n",
      "2040/2040 [==============================] - ETA: 0s - loss: 0.005 - 2s 816us/step - loss: 0.0057\n",
      "Epoch 2/2\n",
      "2040/2040 [==============================] - 2s 805us/step - loss: 0.0037\n",
      "Epoch 1/2\n",
      "1831/1831 [==============================] - 2s 841us/step - loss: 0.0048\n",
      "Epoch 2/2\n",
      "1831/1831 [==============================] - 2s 847us/step - loss: 0.0034\n",
      "Epoch 1/2\n",
      "1619/1619 [==============================] - 1s 905us/step - loss: 0.0044\n",
      "Epoch 2/2\n",
      "1619/1619 [==============================] - 1s 900us/step - loss: 0.0033\n",
      "Epoch 1/2\n",
      "1395/1395 [==============================] - 1s 940us/step - loss: 0.0041\n",
      "Epoch 2/2\n",
      "1395/1395 [==============================] - 1s 941us/step - loss: 0.0032\n",
      "Epoch 1/2\n",
      "1002/1002 [==============================] - 1s 1ms/step - loss: 0.0041\n",
      "Epoch 2/2\n",
      "1002/1002 [==============================] - 1s 1ms/step - loss: 0.0033\n"
     ]
    }
   ],
   "source": [
    "class Progress ( object ):\n",
    "    def __init__ (self):\n",
    "        self.model = Sequential()\n",
    "        self.model.add(TimeDistributed(Conv2D(4, (2,2), activation='relu'),\n",
    "        input_shape=(None,size,size,1)))\n",
    "        self.model.add(TimeDistributed(MaxPooling2D(pool_size=(2, 2))))\n",
    "        self.model.add(TimeDistributed(Conv2D(4, (2,2), activation='relu'),\n",
    "        input_shape=(None,size,size,1)))\n",
    "        self.model.add(TimeDistributed(MaxPooling2D(pool_size=(2, 2))))\n",
    "        self.model.add(TimeDistributed(Flatten()))\n",
    "\n",
    "        self.model.add(LSTM(200, return_sequences=True))\n",
    "        self.model.add(Dense(1, activation='sigmoid'))\n",
    "\n",
    "        opt = Adam(lr=0.002, beta_1=0.9, beta_2=0.999, epsilon=None, decay=0.1, amsgrad=False)\n",
    "\n",
    "        self.model.compile(loss='mean_squared_error', optimizer = opt)\n",
    "        print(self.model.summary())\n",
    "\n",
    "c = Progress ()\n",
    "\n",
    "for epoch in range(5):\n",
    "    print ('------------------------')\n",
    "    print (epoch)\n",
    "    for X, y_progress in samples:\n",
    "        if 6 <= X[0].shape[0] <= 16:\n",
    "            print (X[0].shape[0])\n",
    "            h = c.model.fit(X, y_progress, batch_size=50, epochs=2, verbose = 0)"
   ]
  },
  {
   "cell_type": "code",
   "execution_count": 739,
   "metadata": {},
   "outputs": [
    {
     "name": "stdout",
     "output_type": "stream",
     "text": [
      "sample: 25, loss: 0.126198\n",
      "sample: 34, loss: 0.098255\n",
      "sample: 32, loss: 0.077369\n",
      "sample: 47, loss: 0.059802\n",
      "sample: 60, loss: 0.043750\n",
      "sample: 45, loss: 0.031652\n",
      "sample: 40, loss: 0.020614\n",
      "sample: 49, loss: 0.011772\n",
      "sample: 50, loss: 0.006724\n",
      "sample: 27, loss: 0.003918\n",
      "sample: 23, loss: 0.003220\n",
      "Total loss: 0.041085\n"
     ]
    }
   ],
   "source": [
    "test_samples = generate_example_progress_diff_len(12, 15, 500, shape_generator)\n",
    "total_sample = 0\n",
    "total_loss = 0\n",
    "for X_evaluate, y_progress_evaluate in test_samples:\n",
    "    if 6 <= X_evaluate[0].shape[0] <= 16:\n",
    "        total_sample += len(X_evaluate)\n",
    "        loss = c.model.evaluate(X_evaluate, y_progress_evaluate, verbose=2)\n",
    "        total_loss += loss * len(X_evaluate)\n",
    "        print('sample: %d, loss: %f' % (len(X_evaluate), loss))\n",
    "print('Total loss: %f' % (total_loss / total_sample))"
   ]
  },
  {
   "cell_type": "code",
   "execution_count": 760,
   "metadata": {},
   "outputs": [],
   "source": [
    "predicted = c.model.predict(test_samples[2][0][:1])\n",
    "print (predicted.flatten())\n",
    "print (test_samples[2][1][:1].flatten())"
   ]
  },
  {
   "cell_type": "code",
   "execution_count": 764,
   "metadata": {},
   "outputs": [
    {
     "data": {
      "text/plain": [
       "array([0. , 0.2, 0.4, 0.6, 0.8, 1. ])"
      ]
     },
     "execution_count": 764,
     "metadata": {},
     "output_type": "execute_result"
    }
   ],
   "source": [
    "test_samples[2][1][:1].flatten()"
   ]
  },
  {
   "cell_type": "code",
   "execution_count": 691,
   "metadata": {},
   "outputs": [
    {
     "data": {
      "image/png": "[encoded data removed]",
      "text/plain": [
       "<matplotlib.figure.Figure at 0x1d6ff4f4710>"
      ]
     },
     "metadata": {},
     "output_type": "display_data"
    }
   ],
   "source": [
    "plot(X_evaluate[0])"
   ]
  },
  {
   "cell_type": "code",
   "execution_count": null,
   "metadata": {},
   "outputs": [],
   "source": []
  },
  {
   "cell_type": "code",
   "execution_count": 450,
   "metadata": {},
   "outputs": [],
   "source": [
    "def generate_jar_shape ( frame, width, height, bulb, side, side_start, side_len, direction, position ):\n",
    "    \"\"\"\n",
    "    Impose an jar shape structure on the frame, position is where you start it (top-left corner of rectangle).\n",
    "    This is actually a variance of the U-shape.\n",
    "    The main difference is \n",
    "    \n",
    "    All of the followings have direction = 0, S is where position is\n",
    "    \n",
    "    width = 3, height = 5, bulb = 1 (bulb extended by 1 cell), side = 0 (left, 1 for right), \n",
    "    side_start = 1 (from the top), side_len = 3 ( side_start + side_len < height )\n",
    "    \n",
    "      \n",
    "    S o x o\n",
    "    o o x o\n",
    "    o x x o\n",
    "    o o x o\n",
    "      o o o\n",
    "    \n",
    "    side_start = 2\n",
    "    \n",
    "    S o x o\n",
    "      o x o\n",
    "    o o x o\n",
    "    o x x o\n",
    "    o o o o\n",
    "    \n",
    "    bulb = 2, side_start = 2\n",
    "    S   o x o\n",
    "        o x o\n",
    "    o o o x o\n",
    "    o x x x o\n",
    "    o o o o o\n",
    "    \n",
    "    This function returns whether imposition successes, and frame would be imposed with the jar-shape\n",
    "    \n",
    "    Parameters:\n",
    "    =====================\n",
    "    frame: squared frame\n",
    "    width: width of the main rectangular\n",
    "    height: height of the main rectangular\n",
    "    bulb: \n",
    "    side: \n",
    "    side_start: \n",
    "    side_len:\n",
    "    direction: \n",
    "    position: tuple of 2\n",
    "    \n",
    "    Returns:\n",
    "    =====================\n",
    "    - success: whether imposition successes or not\n",
    "    - inside_points: list of points inside the shape (x)\n",
    "    \n",
    "    \"\"\"\n",
    "    size = frame.shape[0]\n",
    "    \n",
    "    if direction == 0 or direction == 4:\n",
    "        other_corner = ( position[0] + height - 1, position[1] + width + bulb - 1 )\n",
    "        \n",
    "    if direction == 2 or direction == 6:\n",
    "        other_corner = ( position[0] + width + bulb - 1, position[1] + height - 1 )\n",
    "\n",
    "    if not check_in_frame_with_space ( size, position) or not check_in_frame_with_space ( size, other_corner ):\n",
    "        return False, ( [], [] )\n",
    "    \n",
    "    if side_start + side_len >= height:\n",
    "        return False, ( [], [] )\n",
    "    \n",
    "    # Let's create one jar-shape that has a direction == 0, and side = 0\n",
    "    inner_shape = np.zeros((height, width + bulb))\n",
    "\n",
    "    # Right side: draw straight line\n",
    "    for i in range (height):\n",
    "        inner_shape[i,-1] = 1\n",
    "    \n",
    "    # Left side bulb: 5 segments\n",
    "    for i in range (0, side_start):\n",
    "        inner_shape[i, bulb] = 1\n",
    "    \n",
    "    for i in range (0, bulb + 1):\n",
    "        inner_shape[side_start, i] = 1\n",
    "        \n",
    "    for i in range (side_start, side_start + side_len):\n",
    "        inner_shape[i, 0] = 1\n",
    "        \n",
    "    for i in range (0, bulb + 1):\n",
    "        inner_shape[side_start + side_len, i] = 1\n",
    "    \n",
    "    for i in range (side_start + side_len, height):\n",
    "        inner_shape[i, bulb] = 1\n",
    "    \n",
    "    # Bottom side\n",
    "    for i in range (bulb, width + bulb):\n",
    "        inner_shape[height - 1, i] = 1\n",
    "    \n",
    "    # Jar inner\n",
    "    for i in range(0, height - 1):\n",
    "        for j in range(bulb + 1, width + bulb - 1):\n",
    "            inner_shape[i,j] = 2\n",
    "    \n",
    "    # Bulb inner\n",
    "    for i in range(side_start + 1, side_start + side_len):\n",
    "        for j in range(1, width):\n",
    "            inner_shape[i,j] = 2\n",
    "    \n",
    "    if side == 1:\n",
    "        # Flip through the Oy axis\n",
    "        inner_shape = inner_shape[:,::-1]\n",
    "        \n",
    "    rotated_shape = np.rot90 ( inner_shape, -direction // 2 )\n",
    "    \n",
    "    frame[ position[0] : position[0] + rotated_shape.shape[0], \n",
    "          position[1] : position[1] + rotated_shape.shape[1] ] = rotated_shape\n",
    "    \n",
    "    inside_points = np.where(frame == 2)\n",
    "    \n",
    "    frame[frame == 2] = 0\n",
    "    \n",
    "    return True, inside_points"
   ]
  },
  {
   "cell_type": "code",
   "execution_count": 410,
   "metadata": {},
   "outputs": [
    {
     "data": {
      "text/plain": [
       "(True,\n",
       " (array([4, 5, 6, 6, 6, 6, 6, 6, 7, 7, 7, 7, 7, 7, 9], dtype=int64),\n",
       "  array([5, 5, 4, 5, 6, 7, 8, 9, 4, 5, 6, 7, 8, 9, 7], dtype=int64)))"
      ]
     },
     "execution_count": 410,
     "metadata": {},
     "output_type": "execute_result"
    }
   ],
   "source": [
    "f = np.zeros((12, 12))\n",
    "generate_jar_shape ( frame, 4, 5, 2, 0, 1, 2, 2, (3,3) )"
   ]
  },
  {
   "cell_type": "code",
   "execution_count": 451,
   "metadata": {},
   "outputs": [],
   "source": [
    "def check_in_range_jar (value, width, height, bulb, direction, position ):\n",
    "    \"\"\"\n",
    "    \n",
    "    value is a coordinates (x, y)\n",
    "    \"\"\"\n",
    "    if direction == 0 or direction == 4:\n",
    "        other_corner = ( position[0] + height - 1, position[1] + width + bulb - 1 )\n",
    "        \n",
    "    if direction == 2 or direction == 6:\n",
    "        other_corner = ( position[0] + width + bulb - 1, position[1] + height - 1 )\n",
    "        \n",
    "    if position[0] <= value[0] <= other_corner[0] and position[1] <= value[1] <= other_corner[1]:\n",
    "        return True\n",
    "    \n",
    "    return False"
   ]
  },
  {
   "cell_type": "code",
   "execution_count": 500,
   "metadata": {},
   "outputs": [],
   "source": [
    "def generate_jar_shape_frame ( size, width_range = list(range(3,6)), \n",
    "                  height_range = list(range(4,7)), bulb_range = list(range(1,3)),\n",
    "                  side_start_range = list(range(0,3)), side_len_range = list(range(2,4)),\n",
    "                  direction_range = list(range(0,8,2)) ):\n",
    "    frame = zeros((size,size))\n",
    "    \n",
    "    # You random a value in those range to add into the frame\n",
    "    # You also\n",
    "    \n",
    "    width = choice(width_range)\n",
    "    height = choice(height_range)\n",
    "    bulb = choice(bulb_range)\n",
    "    side = choice([0,1])\n",
    "    side_start = choice(side_start_range)\n",
    "    side_len = choice(side_len_range)\n",
    "    direction = choice(direction_range)\n",
    "    \n",
    "    for _ in range(20):\n",
    "        position_x = randint ( 0, size - 1 )\n",
    "        position_y = randint ( 0, size - 1 )\n",
    "        position = (position_x, position_y)\n",
    "\n",
    "        success, inner_list = generate_jar_shape  ( frame, width, height, bulb, side, \n",
    "                                                 side_start, side_len, direction, position )\n",
    "        \n",
    "        \n",
    "        if success :\n",
    "            break\n",
    "    else:\n",
    "        return None, None, None\n",
    "    \n",
    "    # Random outer position for moving point\n",
    "    for _ in range(20):\n",
    "        pos_start_x = randint ( 0, size - 1 )\n",
    "        pos_start_y = randint ( 0, size - 1 )\n",
    "        \n",
    "        pos_start = (pos_start_x, pos_start_y)\n",
    "        \n",
    "        # Just need to be out of the rectangle\n",
    "        if not check_in_range_jar ( pos_start, width, height, bulb, direction, position ):\n",
    "            break\n",
    "    else:\n",
    "        return None, None, None\n",
    "    \n",
    "    # Random inner position for moving point\n",
    "    index = randint ( 0, len(inner_list[0]) - 1 )\n",
    "    pos_end = (inner_list[0][index], inner_list[1][index])\n",
    "    \n",
    "#     frame[pos_start] = 3\n",
    "#     frame[pos_end] = 4\n",
    "    \n",
    "    return frame, pos_start, pos_end"
   ]
  },
  {
   "cell_type": "code",
   "execution_count": 607,
   "metadata": {},
   "outputs": [],
   "source": [
    "def generate_jar_misleading_shape_frame ( size, width_range = list(range(3,6)), \n",
    "                  height_range = list(range(4,7)), bulb_range = list(range(1,3)),\n",
    "                  side_start_range = list(range(0,3)), side_len_range = list(range(2,4)),\n",
    "                  direction_range = list(range(0,8,2)), rec_width_range = list(range(1,3)), \n",
    "                  rec_height_range = list(range(1,3))):\n",
    "    frame, pos_start, pos_end = generate_jar_shape_frame( size, width_range, height_range, bulb_range ,\n",
    "                           side_start_range, side_len_range, direction_range )\n",
    "    \n",
    "    if frame is None:\n",
    "        return None, None, None\n",
    "    \n",
    "    width = choice(rec_width_range)\n",
    "    height = choice(rec_height_range)\n",
    "    \n",
    "    for _ in range(20):\n",
    "        position_x = randint ( 0, size - height )\n",
    "        position_y = randint ( 0, size - width )\n",
    "        position = (position_x, position_y)\n",
    "        \n",
    "        opposite = (position_x + height - 1, position_y + width - 1)\n",
    "        \n",
    "        if position <= pos_start <= opposite or position <= pos_end <= opposite:\n",
    "            continue\n",
    "        \n",
    "        for i in range(position_x, position_x + height):\n",
    "            for j in range(position_y, position_y + width):\n",
    "                if frame[i,j] == 1:\n",
    "                    continue\n",
    "        break\n",
    "    else:\n",
    "        return None, None, None\n",
    "    \n",
    "    for i in range(position_x, position_x + height):\n",
    "        for j in range(position_y, position_y + width):\n",
    "            frame[i,j] = 1\n",
    "            \n",
    "    return frame, pos_start, pos_end"
   ]
  },
  {
   "cell_type": "code",
   "execution_count": 624,
   "metadata": {},
   "outputs": [],
   "source": [
    "frame, pos_start, pos_end = generate_jar_misleading_shape_frame ( 12 )"
   ]
  },
  {
   "cell_type": "code",
   "execution_count": 625,
   "metadata": {},
   "outputs": [
    {
     "data": {
      "text/plain": [
       "array([[0., 0., 0., 0., 0., 0., 0., 0., 0., 0., 0., 0.],\n",
       "       [0., 0., 0., 0., 0., 0., 0., 0., 0., 0., 0., 0.],\n",
       "       [0., 1., 1., 0., 0., 0., 1., 0., 0., 1., 0., 0.],\n",
       "       [0., 0., 0., 0., 0., 0., 1., 0., 0., 1., 0., 0.],\n",
       "       [0., 0., 0., 0., 1., 1., 1., 0., 0., 1., 0., 0.],\n",
       "       [0., 0., 0., 0., 1., 0., 0., 0., 0., 1., 0., 0.],\n",
       "       [0., 0., 0., 0., 1., 0., 0., 0., 0., 1., 0., 0.],\n",
       "       [0., 0., 0., 0., 1., 1., 1., 1., 1., 1., 0., 0.],\n",
       "       [0., 0., 0., 0., 0., 0., 0., 0., 0., 0., 0., 0.],\n",
       "       [0., 0., 0., 0., 0., 0., 0., 0., 0., 0., 0., 0.],\n",
       "       [0., 0., 0., 0., 0., 0., 0., 0., 0., 0., 0., 0.],\n",
       "       [0., 0., 0., 0., 0., 0., 0., 0., 0., 0., 0., 0.]])"
      ]
     },
     "execution_count": 625,
     "metadata": {},
     "output_type": "execute_result"
    }
   ],
   "source": [
    "frame"
   ]
  },
  {
   "cell_type": "code",
   "execution_count": 614,
   "metadata": {},
   "outputs": [
    {
     "data": {
      "text/plain": [
       "(10, 7)"
      ]
     },
     "execution_count": 614,
     "metadata": {},
     "output_type": "execute_result"
    }
   ],
   "source": [
    "pos_start"
   ]
  },
  {
   "cell_type": "code",
   "execution_count": 615,
   "metadata": {},
   "outputs": [
    {
     "data": {
      "text/plain": [
       "(5, 4)"
      ]
     },
     "execution_count": 615,
     "metadata": {},
     "output_type": "execute_result"
    }
   ],
   "source": [
    "pos_end"
   ]
  },
  {
   "cell_type": "code",
   "execution_count": 647,
   "metadata": {},
   "outputs": [],
   "source": [
    "frames, enter = build_frames_pad(size, 15, lambda size: generate_jar_misleading_shape_frame(size , rec_width_range = list(range(1,4)), \n",
    "                  rec_height_range = list(range(1,4))))"
   ]
  },
  {
   "cell_type": "code",
   "execution_count": 635,
   "metadata": {},
   "outputs": [
    {
     "name": "stdout",
     "output_type": "stream",
     "text": [
      "(12, 12)\n"
     ]
    }
   ],
   "source": [
    "print (frames[0].shape)"
   ]
  },
  {
   "cell_type": "code",
   "execution_count": 636,
   "metadata": {},
   "outputs": [
    {
     "data": {
      "image/png": "[encoded data removed]",
      "text/plain": [
       "<matplotlib.figure.Figure at 0x1d6e9e37940>"
      ]
     },
     "metadata": {},
     "output_type": "display_data"
    }
   ],
   "source": [
    "plot(frames)"
   ]
  },
  {
   "cell_type": "code",
   "execution_count": 637,
   "metadata": {},
   "outputs": [
    {
     "data": {
      "image/png": "[encoded data removed]",
      "text/plain": [
       "<matplotlib.figure.Figure at 0x1d6fe25f898>"
      ]
     },
     "metadata": {},
     "output_type": "display_data"
    },
    {
     "data": {
      "image/png": "[encoded data removed]",
      "text/plain": [
       "<matplotlib.figure.Figure at 0x1d6faa8c470>"
      ]
     },
     "metadata": {},
     "output_type": "display_data"
    },
    {
     "data": {
      "image/png": "[encoded data removed]",
      "text/plain": [
       "<matplotlib.figure.Figure at 0x1d6fe19cc50>"
      ]
     },
     "metadata": {},
     "output_type": "display_data"
    }
   ],
   "source": [
    "for i in range( len(frames) // 5 ):\n",
    "    plot(frames[5 * i:5 * i + 5])"
   ]
  },
  {
   "cell_type": "code",
   "execution_count": 649,
   "metadata": {},
   "outputs": [],
   "source": [
    "jar_generator = lambda size: generate_jar_misleading_shape_frame(size, rec_width_range = list(range(1,4)), \n",
    "                  rec_height_range = list(range(1,4)))\n",
    "jar_X, jar_y = generate_examples(12, 15, 500, jar_generator)"
   ]
  },
  {
   "cell_type": "code",
   "execution_count": 650,
   "metadata": {},
   "outputs": [
    {
     "name": "stdout",
     "output_type": "stream",
     "text": [
      "loss: 0.260880, acc: 87.000000\n"
     ]
    }
   ],
   "source": [
    "loss, acc = model.evaluate(jar_X, jar_y, verbose=0)\n",
    "print('loss: %f, acc: %f' % (loss, acc*100))"
   ]
  },
  {
   "cell_type": "code",
   "execution_count": 651,
   "metadata": {},
   "outputs": [],
   "source": [
    "wrongs = []\n",
    "for i in range(100):\n",
    "    loss, acc = model.evaluate(jar_X[i:i+1], jar_y[i:i+1], verbose=0)\n",
    "    if acc == 0:\n",
    "        wrongs.append(i)"
   ]
  },
  {
   "cell_type": "code",
   "execution_count": 652,
   "metadata": {},
   "outputs": [
    {
     "name": "stdout",
     "output_type": "stream",
     "text": [
      "=============\n"
     ]
    },
    {
     "data": {
      "image/png": "[encoded data removed]",
      "text/plain": [
       "<matplotlib.figure.Figure at 0x1d6fd7cfc88>"
      ]
     },
     "metadata": {},
     "output_type": "display_data"
    },
    {
     "data": {
      "image/png": "[encoded data removed]",
      "text/plain": [
       "<matplotlib.figure.Figure at 0x1d6fd9b6b70>"
      ]
     },
     "metadata": {},
     "output_type": "display_data"
    },
    {
     "data": {
      "image/png": "[encoded data removed]",
      "text/plain": [
       "<matplotlib.figure.Figure at 0x1d6fd9152e8>"
      ]
     },
     "metadata": {},
     "output_type": "display_data"
    },
    {
     "name": "stdout",
     "output_type": "stream",
     "text": [
      "=============\n"
     ]
    },
    {
     "data": {
      "image/png": "[encoded data removed]",
      "text/plain": [
       "<matplotlib.figure.Figure at 0x1d6fe338b70>"
      ]
     },
     "metadata": {},
     "output_type": "display_data"
    },
    {
     "data": {
      "image/png": "[encoded data removed]",
      "text/plain": [
       "<matplotlib.figure.Figure at 0x1d6fe340048>"
      ]
     },
     "metadata": {},
     "output_type": "display_data"
    },
    {
     "data": {
      "image/png": "[encoded data removed]",
      "text/plain": [
       "<matplotlib.figure.Figure at 0x1d6fe8b7668>"
      ]
     },
     "metadata": {},
     "output_type": "display_data"
    },
    {
     "name": "stdout",
     "output_type": "stream",
     "text": [
      "=============\n"
     ]
    },
    {
     "data": {
      "image/png": "[encoded data removed]",
      "text/plain": [
       "<matplotlib.figure.Figure at 0x1d6fea6c550>"
      ]
     },
     "metadata": {},
     "output_type": "display_data"
    },
    {
     "data": {
      "image/png": "[encoded data removed]",
      "text/plain": [
       "<matplotlib.figure.Figure at 0x1d6feb25e10>"
      ]
     },
     "metadata": {},
     "output_type": "display_data"
    },
    {
     "data": {
      "image/png": "[encoded data removed]",
      "text/plain": [
       "<matplotlib.figure.Figure at 0x1d6feb2c198>"
      ]
     },
     "metadata": {},
     "output_type": "display_data"
    },
    {
     "name": "stdout",
     "output_type": "stream",
     "text": [
      "=============\n"
     ]
    },
    {
     "data": {
      "image/png": "[encoded data removed]",
      "text/plain": [
       "<matplotlib.figure.Figure at 0x1d6febed240>"
      ]
     },
     "metadata": {},
     "output_type": "display_data"
    },
    {
     "data": {
      "image/png": "[encoded data removed]",
      "text/plain": [
       "<matplotlib.figure.Figure at 0x1d6fece4668>"
      ]
     },
     "metadata": {},
     "output_type": "display_data"
    },
    {
     "data": {
      "image/png": "[encoded data removed]",
      "text/plain": [
       "<matplotlib.figure.Figure at 0x1d6fede5160>"
      ]
     },
     "metadata": {},
     "output_type": "display_data"
    },
    {
     "name": "stdout",
     "output_type": "stream",
     "text": [
      "=============\n"
     ]
    },
    {
     "data": {
      "image/png": "[encoded data removed]",
      "text/plain": [
       "<matplotlib.figure.Figure at 0x1d6fee99588>"
      ]
     },
     "metadata": {},
     "output_type": "display_data"
    },
    {
     "data": {
      "image/png": "[encoded data removed]",
      "text/plain": [
       "<matplotlib.figure.Figure at 0x1d6fef9a198>"
      ]
     },
     "metadata": {},
     "output_type": "display_data"
    },
    {
     "data": {
      "image/png": "[encoded data removed]",
      "text/plain": [
       "<matplotlib.figure.Figure at 0x1d6ff0505f8>"
      ]
     },
     "metadata": {},
     "output_type": "display_data"
    },
    {
     "name": "stdout",
     "output_type": "stream",
     "text": [
      "=============\n"
     ]
    },
    {
     "data": {
      "image/png": "[encoded data removed]",
      "text/plain": [
       "<matplotlib.figure.Figure at 0x1d6ff10f748>"
      ]
     },
     "metadata": {},
     "output_type": "display_data"
    },
    {
     "data": {
      "image/png": "[encoded data removed]",
      "text/plain": [
       "<matplotlib.figure.Figure at 0x1d6ff599400>"
      ]
     },
     "metadata": {},
     "output_type": "display_data"
    },
    {
     "data": {
      "image/png": "[encoded data removed]",
      "text/plain": [
       "<matplotlib.figure.Figure at 0x1d6ff7da828>"
      ]
     },
     "metadata": {},
     "output_type": "display_data"
    },
    {
     "name": "stdout",
     "output_type": "stream",
     "text": [
      "=============\n"
     ]
    },
    {
     "data": {
      "image/png": "[encoded data removed]",
      "text/plain": [
       "<matplotlib.figure.Figure at 0x1d6ffae2400>"
      ]
     },
     "metadata": {},
     "output_type": "display_data"
    },
    {
     "data": {
      "image/png": "[encoded data removed]",
      "text/plain": [
       "<matplotlib.figure.Figure at 0x1d6ffdef978>"
      ]
     },
     "metadata": {},
     "output_type": "display_data"
    },
    {
     "data": {
      "image/png": "[encoded data removed]",
      "text/plain": [
       "<matplotlib.figure.Figure at 0x1d6ffea7f98>"
      ]
     },
     "metadata": {},
     "output_type": "display_data"
    },
    {
     "name": "stdout",
     "output_type": "stream",
     "text": [
      "=============\n"
     ]
    },
    {
     "data": {
      "image/png": "[encoded data removed]",
      "text/plain": [
       "<matplotlib.figure.Figure at 0x1d6fff660f0>"
      ]
     },
     "metadata": {},
     "output_type": "display_data"
    },
    {
     "data": {
      "image/png": "[encoded data removed]",
      "text/plain": [
       "<matplotlib.figure.Figure at 0x1d70001de80>"
      ]
     },
     "metadata": {},
     "output_type": "display_data"
    },
    {
     "data": {
      "image/png": "[encoded data removed]",
      "text/plain": [
       "<matplotlib.figure.Figure at 0x1d7000ddcc0>"
      ]
     },
     "metadata": {},
     "output_type": "display_data"
    },
    {
     "name": "stdout",
     "output_type": "stream",
     "text": [
      "=============\n"
     ]
    },
    {
     "data": {
      "image/png": "[encoded data removed]",
      "text/plain": [
       "<matplotlib.figure.Figure at 0x1d70024ffd0>"
      ]
     },
     "metadata": {},
     "output_type": "display_data"
    },
    {
     "data": {
      "image/png": "[encoded data removed]",
      "text/plain": [
       "<matplotlib.figure.Figure at 0x1d700255630>"
      ]
     },
     "metadata": {},
     "output_type": "display_data"
    },
    {
     "data": {
      "image/png": "[encoded data removed]",
      "text/plain": [
       "<matplotlib.figure.Figure at 0x1d700314588>"
      ]
     },
     "metadata": {},
     "output_type": "display_data"
    },
    {
     "name": "stdout",
     "output_type": "stream",
     "text": [
      "=============\n"
     ]
    },
    {
     "data": {
      "image/png": "[encoded data removed]",
      "text/plain": [
       "<matplotlib.figure.Figure at 0x1d7004829e8>"
      ]
     },
     "metadata": {},
     "output_type": "display_data"
    },
    {
     "data": {
      "image/png": "[encoded data removed]",
      "text/plain": [
       "<matplotlib.figure.Figure at 0x1d70048a128>"
      ]
     },
     "metadata": {},
     "output_type": "display_data"
    },
    {
     "data": {
      "image/png": "[encoded data removed]",
      "text/plain": [
       "<matplotlib.figure.Figure at 0x1d7005434e0>"
      ]
     },
     "metadata": {},
     "output_type": "display_data"
    },
    {
     "name": "stdout",
     "output_type": "stream",
     "text": [
      "=============\n"
     ]
    },
    {
     "data": {
      "image/png": "[encoded data removed]",
      "text/plain": [
       "<matplotlib.figure.Figure at 0x1d7008f9400>"
      ]
     },
     "metadata": {},
     "output_type": "display_data"
    },
    {
     "data": {
      "image/png": "[encoded data removed]",
      "text/plain": [
       "<matplotlib.figure.Figure at 0x1d7008f9550>"
      ]
     },
     "metadata": {},
     "output_type": "display_data"
    },
    {
     "data": {
      "image/png": "[encoded data removed]",
      "text/plain": [
       "<matplotlib.figure.Figure at 0x1d7009ba048>"
      ]
     },
     "metadata": {},
     "output_type": "display_data"
    }
   ],
   "source": [
    "for wrong in wrongs:\n",
    "    print (\"=============\")\n",
    "    for i in range( len(jar_X[wrong]) // 5 ):\n",
    "        plot(jar_X[wrong][5 * i:5 * i + 5])"
   ]
  },
  {
   "cell_type": "code",
   "execution_count": 548,
   "metadata": {},
   "outputs": [
    {
     "name": "stdout",
     "output_type": "stream",
     "text": [
      "loss: 3.041852, acc: 0.000000\n"
     ]
    }
   ],
   "source": [
    "loss, acc = model.evaluate(jar_X[10:11], jar_y[10:11], verbose=4)\n",
    "print('loss: %f, acc: %f' % (loss, acc*100))"
   ]
  },
  {
   "cell_type": "code",
   "execution_count": 654,
   "metadata": {},
   "outputs": [
    {
     "data": {
      "text/plain": [
       "12"
      ]
     },
     "execution_count": 654,
     "metadata": {},
     "output_type": "execute_result"
    }
   ],
   "source": [
    "size"
   ]
  },
  {
   "cell_type": "code",
   "execution_count": 767,
   "metadata": {},
   "outputs": [
    {
     "name": "stdout",
     "output_type": "stream",
     "text": [
      "sample: 11, loss: 0.136928\n",
      "sample: 24, loss: 0.106302\n",
      "sample: 35, loss: 0.080084\n",
      "sample: 33, loss: 0.062490\n",
      "sample: 43, loss: 0.044665\n",
      "sample: 41, loss: 0.033233\n",
      "sample: 35, loss: 0.022586\n",
      "sample: 38, loss: 0.014025\n",
      "sample: 32, loss: 0.008417\n",
      "sample: 43, loss: 0.003969\n",
      "sample: 33, loss: 0.002636\n",
      "Total loss: 0.038196\n"
     ]
    }
   ],
   "source": [
    "test_samples = generate_example_progress_diff_len(12, 15, 500, jar_generator)\n",
    "total_sample = 0\n",
    "total_loss = 0\n",
    "for X_evaluate, y_progress_evaluate in test_samples:\n",
    "    if 6 <= X_evaluate[0].shape[0] <= 16:\n",
    "        total_sample += len(X_evaluate)\n",
    "        loss = c.model.evaluate(X_evaluate, y_progress_evaluate, verbose=2)\n",
    "        total_loss += loss * len(X_evaluate)\n",
    "        print('sample: %d, loss: %f' % (len(X_evaluate), loss))\n",
    "print('Total loss: %f' % (total_loss / total_sample))"
   ]
  },
  {
   "cell_type": "code",
   "execution_count": 795,
   "metadata": {},
   "outputs": [
    {
     "name": "stdout",
     "output_type": "stream",
     "text": [
      "[[[0.04189997]\n",
      "  [0.09863011]\n",
      "  [0.14731099]\n",
      "  [0.2397655 ]\n",
      "  [0.2943454 ]\n",
      "  [0.3817432 ]\n",
      "  [0.42524624]\n",
      "  [0.49339905]\n",
      "  [0.53080785]\n",
      "  [0.5825133 ]\n",
      "  [0.6293406 ]]]\n",
      "[[[0. ]\n",
      "  [0.1]\n",
      "  [0.2]\n",
      "  [0.3]\n",
      "  [0.4]\n",
      "  [0.5]\n",
      "  [0.6]\n",
      "  [0.7]\n",
      "  [0.8]\n",
      "  [0.9]\n",
      "  [1. ]]]\n"
     ]
    }
   ],
   "source": [
    "predicted = c.model.predict(test_samples[10][0][:1])\n",
    "print (predicted)\n",
    "print (test_samples[10][1][:1])"
   ]
  },
  {
   "cell_type": "code",
   "execution_count": 792,
   "metadata": {},
   "outputs": [
    {
     "data": {
      "image/png": "[encoded data removed]",
      "text/plain": [
       "<matplotlib.figure.Figure at 0x1d707323cf8>"
      ]
     },
     "metadata": {},
     "output_type": "display_data"
    },
    {
     "data": {
      "image/png": "[encoded data removed]",
      "text/plain": [
       "<matplotlib.figure.Figure at 0x1d7073c5240>"
      ]
     },
     "metadata": {},
     "output_type": "display_data"
    },
    {
     "data": {
      "image/png": "[encoded data removed]",
      "text/plain": [
       "<matplotlib.figure.Figure at 0x1d7073d2630>"
      ]
     },
     "metadata": {},
     "output_type": "display_data"
    }
   ],
   "source": [
    "plot_big(test_samples[10][0][0])"
   ]
  },
  {
   "cell_type": "code",
   "execution_count": 794,
   "metadata": {},
   "outputs": [
    {
     "data": {
      "text/plain": [
       "11"
      ]
     },
     "execution_count": 794,
     "metadata": {},
     "output_type": "execute_result"
    }
   ],
   "source": [
    "len(test_samples[10][0][0])"
   ]
  },
  {
   "cell_type": "code",
   "execution_count": 846,
   "metadata": {},
   "outputs": [],
   "source": [
    "def get_next_pos ( pos, movement ) :\n",
    "    if movement == 0:\n",
    "        # North\n",
    "        return (pos[0] - 1, pos[1])\n",
    "    \n",
    "    if movement == 1:\n",
    "        # East\n",
    "        return (pos[0], pos[1] + 1)\n",
    "    \n",
    "    if movement == 2:\n",
    "        # South\n",
    "        return (pos[0] + 1, pos[1])\n",
    "    \n",
    "    if movement == 3:\n",
    "        # West\n",
    "        return (pos[0], pos[1] - 1)\n",
    "\n",
    "def get_sequence ( frames, pos, movement ):\n",
    "    last_frame = frames[-1]\n",
    "    \n",
    "    next_pos = get_next_pos ( pos , movement)\n",
    "    \n",
    "    new_frame = last_frame.copy()\n",
    "    new_frame[pos] = 0\n",
    "    new_frame[next_pos] = 4\n",
    "    \n",
    "    new_frames = list(frames)\n",
    "    new_frames.append(new_frame)\n",
    "    \n",
    "    return new_frames, next_pos\n",
    "    \n",
    "def get_sequence_from_beginning ( start_frame, start_pos, movements ):\n",
    "    \"\"\"\n",
    "    From a sample (with imprinted moving agent at start_pos)\n",
    "    and movement of the agent.\n",
    "    \n",
    "    Return:\n",
    "    frames: the frame sequences\n",
    "    pos: last position of moving agent\n",
    "    \"\"\"\n",
    "    pos = start_pos\n",
    "    frames = [start_frame]\n",
    "    \n",
    "    for movement in movements:\n",
    "        frames, pos = get_sequence (frames, pos, movement)\n",
    "    \n",
    "    return frames, pos\n",
    "\n",
    "def search_enter ( sample , start_pos, size ):\n",
    "    \"\"\"\n",
    "    sample is a sequence of frames from start to end\n",
    "    \n",
    "    We gonna run a searching algorith again for the starting frame based on the \n",
    "    current learning model.\n",
    "    \"\"\"\n",
    "    \n",
    "    # Keep maximumly 100 last explored sequences\n",
    "    max_explore = 50\n",
    "    \n",
    "    start_frame = sample[0]\n",
    "    \n",
    "    # At the start, we have only one element to explore, which is an empty list (the start position)\n",
    "    # The progress is by default 0\n",
    "    explorations = [ ([], 0) ]\n",
    "    \n",
    "    # We will update this value after each searching step\n",
    "    # We will stop if max_p doesn't increase anymore\n",
    "    max_p = 0\n",
    "    \n",
    "    # At each time, we add the movement of the element into the exploration\n",
    "    # North = 0, East = 1, South = 2, West = 3\n",
    "    for i in range(5):\n",
    "        print (explorations)\n",
    "        # This is to replace explorations\n",
    "        new_explorations = []\n",
    "        \n",
    "        # This is to run LSTM algorithm on\n",
    "        new_explorations_frames = []\n",
    "        for e, _ in explorations:\n",
    "            frames, pos = get_sequence_from_beginning ( start_frame , start_pos, e )\n",
    "            \n",
    "            for movement in range(4):\n",
    "                next_pos = get_next_pos ( pos, movement )\n",
    "                if check_in_frame( size , next_pos ):\n",
    "                    new_frames, _ = get_sequence ( frames, pos, movement )\n",
    "                    \n",
    "                    new_e = list (e)\n",
    "                    new_e.append(movement)\n",
    "                    \n",
    "                    new_explorations.append ( new_e )\n",
    "                    new_explorations_frames.append(new_frames)\n",
    "        \n",
    "        X = array(new_explorations_frames).reshape(len(new_explorations_frames), i + 2, size, size, 1)\n",
    "        \n",
    "        # ( #Pattern, i + 2, 1)\n",
    "        predicted = c.model.predict( X )\n",
    "        \n",
    "        predicted_last_step = predicted[:, -1, 0]\n",
    "        print (predicted_last_step)\n",
    "        \n",
    "        explorations = [ (new_e, new_p) for new_e, new_p in zip (new_explorations, predicted_last_step) ]\n",
    "        \n",
    "        explorations = sorted(explorations, key = lambda k : k[1], reverse = True)\n",
    "        \n",
    "        explorations = explorations [ : max_explore ]\n",
    "        \n",
    "        if max_p < explorations[0][1]:\n",
    "            max_p = explorations[0][1]\n",
    "        else:\n",
    "            # No more progress\n",
    "            break\n",
    "    \n",
    "    best_frames, last_pos = get_sequence_from_beginning (  start_frame , start_pos, explorations[0][0] ) \n",
    "    best_p = explorations[0][1]\n",
    "    return (best_frames, best_p)"
   ]
  },
  {
   "cell_type": "code",
   "execution_count": 813,
   "metadata": {},
   "outputs": [],
   "source": [
    "sample = test_samples[10][0][0][:,:,:,0]"
   ]
  },
  {
   "cell_type": "code",
   "execution_count": 815,
   "metadata": {},
   "outputs": [],
   "source": [
    "size = 12"
   ]
  },
  {
   "cell_type": "code",
   "execution_count": 819,
   "metadata": {},
   "outputs": [],
   "source": [
    "start_pos = get_start_pos (sample)"
   ]
  },
  {
   "cell_type": "code",
   "execution_count": 818,
   "metadata": {},
   "outputs": [],
   "source": [
    "def get_start_pos( sample ):\n",
    "    first_frame = sample[0]\n",
    "    \n",
    "    start_pos = np.where (first_frame == 4 )\n",
    "    return (start_pos[0][0], start_pos[1][0])"
   ]
  },
  {
   "cell_type": "code",
   "execution_count": 820,
   "metadata": {},
   "outputs": [
    {
     "data": {
      "text/plain": [
       "(1, 4)"
      ]
     },
     "execution_count": 820,
     "metadata": {},
     "output_type": "execute_result"
    }
   ],
   "source": [
    "start_pos"
   ]
  },
  {
   "cell_type": "code",
   "execution_count": 847,
   "metadata": {},
   "outputs": [
    {
     "name": "stdout",
     "output_type": "stream",
     "text": [
      "[([], 0)]\n",
      "[0.12961313 0.10066088 0.08368064 0.09863011]\n",
      "[([0], 0.12961313), ([1], 0.100660875), ([3], 0.09863011), ([2], 0.08368064)]\n",
      "[0.19044293 0.14403458 0.18862012 0.19898587 0.16829841 0.14946972\n",
      " 0.15361553 0.1969302  0.15354481 0.14731099 0.16737182 0.15848702\n",
      " 0.15430972 0.13889971 0.15274145]\n",
      "[([1, 0], 0.19898587), ([3, 0], 0.1969302), ([0, 1], 0.19044293), ([0, 3], 0.18862012), ([1, 1], 0.16829841), ([3, 3], 0.16737182), ([2, 0], 0.15848702), ([2, 1], 0.15430972), ([1, 3], 0.15361553), ([3, 1], 0.15354481), ([2, 3], 0.15274145), ([1, 2], 0.14946972), ([3, 2], 0.14731099), ([0, 2], 0.14403458), ([2, 2], 0.13889971)]\n",
      "[0.28440782 0.2440164  0.28250027 0.28075978 0.24401931 0.27919886\n",
      " 0.28385228 0.24302548 0.28191268 0.28105456 0.24369611 0.27951598\n",
      " 0.28988776 0.2511271  0.24542072 0.25093356 0.2861019  0.2528004\n",
      " 0.24522558 0.2528004  0.29012436 0.25393704 0.23452622 0.25678858\n",
      " 0.2558394  0.2509156  0.24851601 0.23657863 0.29152775 0.25504708\n",
      " 0.23563537 0.25791427 0.2910129  0.2547042  0.23524128 0.25722128\n",
      " 0.25885543 0.23726499 0.23971495 0.25185597 0.2569991  0.25209916\n",
      " 0.2495867  0.23773956 0.25920165 0.23788574 0.2397655  0.25194815\n",
      " 0.2913722  0.25458258 0.23481391 0.25712273 0.24344935 0.2551157\n",
      " 0.21836244 0.24642122]\n",
      "[([1, 3, 0], 0.29152775), ([0, 2, 0], 0.2913722), ([3, 1, 0], 0.2910129), ([2, 0, 0], 0.29012436), ([1, 1, 0], 0.28988776), ([3, 3, 0], 0.2861019), ([1, 0, 1], 0.28440782), ([0, 1, 1], 0.28385228), ([1, 0, 3], 0.28250027), ([0, 1, 3], 0.28191268), ([0, 3, 1], 0.28105456), ([3, 0, 1], 0.28075978), ([0, 3, 3], 0.27951598), ([3, 0, 3], 0.27919886), ([3, 2, 0], 0.25920165), ([2, 3, 0], 0.25885543), ([1, 3, 3], 0.25791427), ([3, 1, 3], 0.25722128), ([0, 2, 3], 0.25712273), ([1, 2, 0], 0.2569991), ([2, 0, 3], 0.25678858), ([2, 1, 0], 0.2558394), ([2, 2, 1], 0.2551157), ([1, 3, 1], 0.25504708), ([3, 1, 1], 0.2547042), ([0, 2, 1], 0.25458258), ([2, 0, 1], 0.25393704), ([3, 3, 1], 0.2528004), ([3, 3, 3], 0.2528004), ([1, 2, 1], 0.25209916), ([3, 2, 3], 0.25194815), ([2, 3, 3], 0.25185597), ([1, 1, 1], 0.2511271), ([1, 1, 3], 0.25093356), ([2, 1, 1], 0.2509156), ([1, 2, 2], 0.2495867), ([2, 1, 2], 0.24851601), ([2, 2, 3], 0.24642122), ([1, 1, 2], 0.24542072), ([3, 3, 2], 0.24522558), ([3, 0, 2], 0.24401931), ([1, 0, 2], 0.2440164), ([0, 3, 2], 0.24369611), ([2, 2, 0], 0.24344935), ([0, 1, 2], 0.24302548), ([3, 2, 2], 0.2397655), ([2, 3, 2], 0.23971495), ([3, 2, 1], 0.23788574), ([1, 2, 3], 0.23773956), ([2, 3, 1], 0.23726499)]\n",
      "[0.3561614  0.30706716 0.35473436 0.35257885 0.30285436 0.35108143\n",
      " 0.35599944 0.30700564 0.35449076 0.35730842 0.3086018  0.35585472\n",
      " 0.35924932 0.32596177 0.35721317 0.35335565 0.32461703 0.35432425\n",
      " 0.36116874 0.32739437 0.3590979  0.3574112  0.32310104 0.355301\n",
      " 0.3596494  0.30960685 0.35816836 0.35585892 0.30514583 0.35430503\n",
      " 0.3551512  0.30449843 0.3535481  0.3585072  0.30863708 0.35689595\n",
      " 0.3522396  0.32249373 0.35323414 0.35552138 0.32636788 0.3564999\n",
      " 0.35571468 0.3112162  0.30978164 0.32919317 0.35718334 0.31291482\n",
      " 0.3119947  0.33109516 0.3580867  0.3131878  0.3125524  0.3318304\n",
      " 0.35784373 0.31310034 0.31212717 0.3314648  0.35448456 0.3090492\n",
      " 0.30785915 0.3275919  0.36111495 0.3318523  0.3092833  0.31445536\n",
      " 0.35917702 0.3146632  0.31420344 0.33322996 0.36236516 0.33337647\n",
      " 0.31089464 0.31606814 0.31224215 0.3095957  0.3001482  0.30249822\n",
      " 0.36068752 0.33148485 0.30899894 0.31400225 0.3607919  0.3317612\n",
      " 0.3093925  0.3142019  0.35720342 0.3275645  0.30494693 0.3099139\n",
      " 0.36193195 0.33300337 0.31060278 0.3156114  0.35809845 0.31326404\n",
      " 0.31185213 0.33140936 0.35900465 0.33140936 0.31185213 0.33140936\n",
      " 0.3320857  0.31655812 0.30685356 0.30976298 0.332247   0.31311375\n",
      " 0.31819206 0.31311375 0.3342555  0.31543663 0.32050768 0.31543663\n",
      " 0.36410663 0.3565368  0.31710345 0.33291095 0.36215666 0.33277872\n",
      " 0.31020218 0.31527075 0.33348483 0.31808993 0.30846697 0.31124702\n",
      " 0.31240073 0.30960575 0.2998411  0.3025501  0.31399    0.31132755\n",
      " 0.30168986 0.30451098 0.31822896 0.30439594 0.2975533  0.32322368\n",
      " 0.3330165  0.3174319  0.3076566  0.31069687 0.33453307 0.31526926\n",
      " 0.32037222 0.31526926 0.3601745  0.3148284  0.31334728 0.33317313\n",
      " 0.36401728 0.33428037 0.31152692 0.3165639  0.35687682 0.3107991\n",
      " 0.309072   0.32932362 0.3164735  0.3117723  0.3025829  0.31707475\n",
      " 0.3603252  0.33012488 0.3072375  0.3122351  0.31553787 0.3018324\n",
      " 0.2943454  0.32058114 0.31778482 0.3040125  0.29689184 0.3228201\n",
      " 0.31515345 0.31073058 0.3005829  0.3148765  0.31697586 0.31190673\n",
      " 0.3026317  0.31778264 0.316555   0.31193554 0.3023906  0.31678995]\n",
      "[([1, 1, 1, 0], 0.36410663), ([1, 0, 2, 0], 0.36401728), ([2, 1, 0, 0], 0.36236516), ([1, 1, 3, 0], 0.36215666), ([2, 0, 1, 0], 0.36193195), ([1, 0, 1, 1], 0.36116874), ([1, 2, 0, 0], 0.36111495), ([3, 1, 1, 0], 0.3607919), ([1, 3, 1, 0], 0.36068752), ([0, 1, 2, 0], 0.3603252), ([3, 0, 2, 0], 0.3601745), ([1, 0, 3, 1], 0.3596494), ([1, 1, 0, 1], 0.35924932), ([2, 0, 3, 0], 0.35917702), ([1, 0, 1, 3], 0.3590979), ([3, 3, 3, 0], 0.35900465), ([3, 0, 1, 1], 0.3585072), ([1, 0, 3, 3], 0.35816836), ([3, 3, 1, 0], 0.35809845), ([1, 3, 3, 0], 0.3580867), ([3, 1, 3, 0], 0.35784373), ([0, 1, 1, 1], 0.3574112), ([2, 0, 0, 1], 0.35730842), ([1, 1, 0, 3], 0.35721317), ([0, 2, 1, 0], 0.35720342), ([2, 3, 0, 0], 0.35718334), ([3, 0, 1, 3], 0.35689595), ([0, 3, 2, 0], 0.35687682), ([1, 1, 1, 1], 0.3565368), ([3, 0, 3, 3], 0.3564999), ([1, 3, 0, 1], 0.3561614), ([3, 1, 0, 1], 0.35599944), ([0, 1, 3, 1], 0.35585892), ([2, 0, 0, 3], 0.35585472), ([3, 2, 0, 0], 0.35571468), ([3, 0, 3, 1], 0.35552138), ([0, 1, 1, 3], 0.355301), ([0, 3, 1, 1], 0.3551512), ([1, 3, 0, 3], 0.35473436), ([3, 1, 0, 3], 0.35449076), ([0, 2, 3, 0], 0.35448456), ([3, 3, 0, 3], 0.35432425), ([0, 1, 3, 3], 0.35430503), ([0, 3, 1, 3], 0.3535481), ([3, 3, 0, 1], 0.35335565), ([0, 3, 3, 3], 0.35323414), ([0, 2, 0, 1], 0.35257885), ([0, 3, 3, 1], 0.3522396), ([0, 2, 0, 3], 0.35108143), ([3, 3, 2, 0], 0.33453307)]\n",
      "[0.4314082  0.38559327 0.4225871  0.42192635 0.3826763  0.42026109\n",
      " 0.42426044 0.3859001  0.4226504  0.42283946 0.38403925 0.42120257\n",
      " 0.42355856 0.38522384 0.42194495 0.4341943  0.38713604 0.42517877\n",
      " 0.4237939  0.3852318  0.42217267 0.42293468 0.38458225 0.42131078\n",
      " 0.42310113 0.3845646  0.42147624 0.41942596 0.37992218 0.41774142\n",
      " 0.41672924 0.3859273  0.4156418  0.42571402 0.386083   0.42402676\n",
      " 0.4349456  0.38852862 0.42603746 0.4192545  0.38987377 0.41830736\n",
      " 0.42568126 0.38602412 0.42399272 0.41594982 0.38670823 0.41659918\n",
      " 0.42482284 0.38544473 0.42313784 0.42289475 0.39201447 0.42197695\n",
      " 0.41731876 0.38707986 0.41625008 0.418936   0.38941854 0.41801792\n",
      " 0.4184685  0.388731   0.41747653 0.4315736  0.38410383 0.42248863\n",
      " 0.4271522  0.38847175 0.42551863 0.42654034 0.38735127 0.42488125\n",
      " 0.42099464 0.38222542 0.41935202 0.41778037 0.38827348 0.4167755\n",
      " 0.42191926 0.39076144 0.4208823  0.41489863 0.38374436 0.4138284\n",
      " 0.43274483 0.43274483 0.41530722 0.38754642 0.41964072 0.3894147\n",
      " 0.4203042  0.4266995  0.3878085  0.42505413 0.426357   0.38765702\n",
      " 0.42471272 0.4230431  0.3831465  0.42133537 0.42431498 0.39463672\n",
      " 0.42342037 0.41695586 0.38709676 0.4159075  0.421032   0.38978803\n",
      " 0.419937   0.42299864 0.38307515 0.42128956 0.42277488 0.382936\n",
      " 0.4210684  0.42388868 0.39405313 0.4230222  0.42350036 0.3934473\n",
      " 0.4225587  0.4167489  0.38669935 0.4157768  0.42012453 0.3904714\n",
      " 0.42077875 0.42020142 0.38871968 0.41922644 0.4198939  0.38835528\n",
      " 0.41887522 0.42149606 0.39084056 0.4204184  0.41767833 0.38705325\n",
      " 0.4183475  0.42443508 0.38530168 0.42277107 0.4190561  0.38743207\n",
      " 0.41797876 0.42160225 0.39121026 0.42068118 0.41785774 0.3906368\n",
      " 0.38499096 0.3906368 ]\n"
     ]
    }
   ],
   "source": [
    "best_frames, best_p = search_enter ( sample , start_pos, size )"
   ]
  },
  {
   "cell_type": "code",
   "execution_count": 849,
   "metadata": {},
   "outputs": [
    {
     "data": {
      "image/png": "[encoded data removed]",
      "text/plain": [
       "<matplotlib.figure.Figure at 0x1d7074f2400>"
      ]
     },
     "metadata": {},
     "output_type": "display_data"
    },
    {
     "data": {
      "image/png": "[encoded data removed]",
      "text/plain": [
       "<matplotlib.figure.Figure at 0x1d70756c080>"
      ]
     },
     "metadata": {},
     "output_type": "display_data"
    }
   ],
   "source": [
    "plot_big (best_frames)"
   ]
  },
  {
   "cell_type": "code",
   "execution_count": null,
   "metadata": {},
   "outputs": [],
   "source": []
  }
 ],
 "metadata": {
  "kernelspec": {
   "display_name": "Python 3",
   "language": "python",
   "name": "python3"
  },
  "language_info": {
   "codemirror_mode": {
    "name": "ipython",
    "version": 3
   },
   "file_extension": ".py",
   "mimetype": "text/x-python",
   "name": "python",
   "nbconvert_exporter": "python",
   "pygments_lexer": "ipython3",
   "version": "3.5.4"
  }
 },
 "nbformat": 4,
 "nbformat_minor": 2
}
