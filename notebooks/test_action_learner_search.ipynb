{
 "cells": [
  {
   "cell_type": "code",
   "execution_count": 4,
   "metadata": {},
   "outputs": [],
   "source": [
    "import tensorflow as tf\n",
    "import os\n",
    "import sys\n",
    "import collections\n",
    "\n",
    "module_path = os.path.abspath(os.path.join('..'))\n",
    "if module_path not in sys.path:\n",
    "    sys.path.append(module_path)\n",
    "a = os.path.join(module_path, \"strands_qsr_lib\\qsr_lib\\src3\")\n",
    "\n",
    "sys.path.append(a)\n",
    "from rl import action_learner, action_learner_search, value_estimator\n",
    "from progress_learner import EventProgressEstimator\n",
    "import config\n",
    "import project\n",
    "# Need to add this import to load class\n",
    "from project import Project\n",
    "from importlib import reload\n",
    "p = project.Project.load(\"../slidearound_hopstep_1_multiscale.proj\")\n",
    "from rl import block_movement_env\n",
    "import matplotlib\n",
    "from matplotlib import pyplot as plt\n",
    "%matplotlib inline\n",
    "import plotting"
   ]
  },
  {
   "cell_type": "code",
   "execution_count": null,
   "metadata": {},
   "outputs": [
    {
     "name": "stdout",
     "output_type": "stream",
     "text": [
      "-------- Load progress model ---------\n",
      "self.inputs.shape = (?, 20, 200)  after linear layer\n",
      "output.shape = (10, 200) after LSTM\n",
      "self.output.shape = (10,) after linear\n",
      "self._targets.shape = (?,) \n",
      "model/SlideAround/linear/weight:0\n",
      "model/SlideAround/linear/bias:0\n",
      "model/SlideAround/lstm/rnn/multi_rnn_cell/cell_0/basic_lstm_cell/kernel:0\n",
      "model/SlideAround/lstm/rnn/multi_rnn_cell/cell_0/basic_lstm_cell/bias:0\n",
      "model/SlideAround/output_linear/weight:0\n",
      "model/SlideAround/output_linear/bias:0\n",
      "INFO:tensorflow:Restoring parameters from ../progress.mod\n",
      "Current loop index = 0\n",
      "train_env_index = 0\n",
      "action_level = 0\n",
      "exploration_index = 0\n",
      "[(0, 0.79546636343002319), (0, 0.7780463695526123), (0, 0.77106732130050659), (0, 0.76120859384536743), (0, 0.75989919900894165), (0, 0.7398185133934021), (0, 0.71952712535858154), (0, 0.69389927387237549), (0, 0.6935199499130249), (0, 0.65461671352386475), (0, 0.65165799856185913), (0, 0.63952893018722534), (0, 0.63630795478820801), (0, 0.63614338636398315), (0, 0.62879431247711182), (0, 0.62843030691146851), (0, 0.62336558103561401), (0, 0.62192052602767944), (0, 0.61860007047653198), (0, 0.60330265760421753)]\n",
      "action_level = 1\n",
      "exploration_index = 0\n",
      "exploration_index = 1\n",
      "exploration_index = 2\n",
      "exploration_index = 3\n",
      "exploration_index = 4\n",
      "exploration_index = 5\n",
      "exploration_index = 6\n",
      "exploration_index = 7\n",
      "exploration_index = 8\n",
      "exploration_index = 9\n",
      "exploration_index = 10\n",
      "exploration_index = 11\n",
      "exploration_index = 12\n",
      "exploration_index = 13\n",
      "exploration_index = 14\n",
      "exploration_index = 15\n",
      "exploration_index = 16\n",
      "exploration_index = 17\n",
      "exploration_index = 18\n",
      "exploration_index = 19\n",
      "[(6, 0.82772350311279297), (3, 0.81625813245773315), (13, 0.80847805738449097), (16, 0.80180323123931885), (9, 0.79928302764892578), (0, 0.79546636343002319), (0, 0.79546636343002319), (0, 0.79546636343002319), (0, 0.79546636343002319), (0, 0.79546636343002319), (0, 0.79546636343002319), (0, 0.79546636343002319), (0, 0.79546636343002319), (0, 0.79546636343002319), (0, 0.79546636343002319), (7, 0.78456425666809082), (17, 0.78394192457199097), (16, 0.78282558917999268), (16, 0.78022938966751099), (1, 0.7780463695526123)]\n",
      "action_level = 2\n",
      "exploration_index = 0\n",
      "exploration_index = 1\n",
      "exploration_index = 2\n",
      "exploration_index = 3\n",
      "exploration_index = 4\n",
      "exploration_index = 5\n",
      "exploration_index = 6\n",
      "exploration_index = 7\n",
      "exploration_index = 8\n",
      "exploration_index = 9\n",
      "exploration_index = 10\n",
      "exploration_index = 11\n",
      "exploration_index = 12\n",
      "exploration_index = 13\n",
      "exploration_index = 14\n",
      "exploration_index = 15\n",
      "exploration_index = 16\n",
      "exploration_index = 17\n",
      "exploration_index = 18\n",
      "exploration_index = 19\n",
      "[(14, 0.85266554355621338), (4, 0.84936624765396118), (11, 0.8319242000579834), (8, 0.82876276969909668), (0, 0.82772350311279297), (0, 0.82772350311279297), (0, 0.82772350311279297), (0, 0.82772350311279297), (0, 0.82772350311279297), (0, 0.82772350311279297), (0, 0.82772350311279297), (0, 0.82772350311279297), (0, 0.82772350311279297), (0, 0.82772350311279297), (6, 0.81644570827484131), (1, 0.81625813245773315), (1, 0.81625813245773315), (1, 0.81625813245773315), (1, 0.81625813245773315), (1, 0.81625813245773315)]\n",
      "action_level = 3\n",
      "exploration_index = 0\n",
      "exploration_index = 1\n",
      "exploration_index = 2\n",
      "exploration_index = 3\n",
      "exploration_index = 4\n",
      "exploration_index = 5\n",
      "exploration_index = 6\n",
      "exploration_index = 7\n",
      "exploration_index = 8\n",
      "exploration_index = 9\n",
      "exploration_index = 10\n",
      "exploration_index = 11\n",
      "exploration_index = 12\n"
     ]
    }
   ],
   "source": [
    "c = config.Config()\n",
    "c.no_of_loops = 1\n",
    "# c.constraint_sigma = 0\n",
    "reload(block_movement_env)\n",
    "# reload(value_estimator)\n",
    "reload(action_learner_search)\n",
    "tf.reset_default_graph()\n",
    "\n",
    "global_step = tf.Variable(0, name=\"global_step\", trainable=False)\n",
    "\n",
    "sess =  tf.Session()\n",
    "\n",
    "policy_est = action_learner_search.PolicyEstimator(c)\n",
    "\n",
    "sess.run(tf.global_variables_initializer())\n",
    "\n",
    "with tf.variable_scope(\"model\") as scope:\n",
    "    print('-------- Load progress model ---------')\n",
    "    progress_estimator = EventProgressEstimator(is_training=False, name = p.name, config = c)  \n",
    "\n",
    "# Print out all variables that would be restored\n",
    "for variable in tf.get_collection(tf.GraphKeys.GLOBAL_VARIABLES, scope='model'):\n",
    "    print (variable.name)\n",
    "\n",
    "saver = tf.train.Saver(tf.get_collection(tf.GraphKeys.GLOBAL_VARIABLES, scope='model'))\n",
    "saver.restore(sess, '../progress.mod')\n",
    "\n",
    "action_ln = action_learner_search.ActionLearner_Search(c, p, progress_estimator, \n",
    "                               policy_est, session = sess)\n",
    "\n",
    "def action_policy(config):\n",
    "    def boundary_constraint(action):\n",
    "        for i in range(3):\n",
    "            if action[i] < config.playground_x[i]:\n",
    "                return False\n",
    "            if action[i] > config.playground_x[i] + config.playground_dim[i]:\n",
    "                return False\n",
    "        \n",
    "        return True\n",
    "    \n",
    "    def q(state, policy_estimator, no_of_actions = 1, verbose = False, \n",
    "       session = None):\n",
    "        return action_learner_search.random_action_constraint(state, policy_estimator,\n",
    "                    no_of_actions, verbose, session, boundary_constraint)\n",
    "    \n",
    "    return q\n",
    "\n",
    "action_ln.learn(action_policy(c), verbose = True)"
   ]
  },
  {
   "cell_type": "code",
   "execution_count": 34,
   "metadata": {},
   "outputs": [
    {
     "name": "stdout",
     "output_type": "stream",
     "text": [
      "{0: [Cube : [ 0.14964207 -0.79181668  0.02251055], Cube : [ 0.14964207 -0.79181668  0.02251055]], 1: [Cube : [-0.62636363 -0.06188094  0.10401447], Cube : [-0.62636363 -0.06188094  0.10401447]]}\n",
      "2\n"
     ]
    }
   ],
   "source": [
    "a = block_movement_env.BlockMovementEnv(c, p.speed, progress_estimator = progress_estimator)"
   ]
  },
  {
   "cell_type": "code",
   "execution_count": 35,
   "metadata": {
    "collapsed": true
   },
   "outputs": [],
   "source": [
    "b = a.clone()"
   ]
  },
  {
   "cell_type": "code",
   "execution_count": 36,
   "metadata": {},
   "outputs": [
    {
     "name": "stdout",
     "output_type": "stream",
     "text": [
      "{0: [Cube : [ 0.14964207 -0.79181668  0.02251055], Cube : [ 0.14964207 -0.79181668  0.02251055]], 1: [Cube : [-0.62636363 -0.06188094  0.10401447], Cube : [-0.62636363 -0.06188094  0.10401447]]}\n",
      "2\n"
     ]
    },
    {
     "data": {
      "text/plain": [
       "array([ 0.14964207, -0.79181668,  0.02251055,  0.14964207, -0.79181668,\n",
       "        0.02251055, -0.62636363, -0.06188094,  0.10401447, -0.62636363,\n",
       "       -0.06188094,  0.10401447])"
      ]
     },
     "execution_count": 36,
     "metadata": {},
     "output_type": "execute_result"
    }
   ],
   "source": [
    "b.get_observation_start()"
   ]
  },
  {
   "cell_type": "code",
   "execution_count": 42,
   "metadata": {},
   "outputs": [
    {
     "name": "stdout",
     "output_type": "stream",
     "text": [
      "{0: [Cube : [ 0.20962488 -0.54576644  1.22388626], Cube : [ 0.20962488 -0.54576644  1.22388626]], 1: [Cube : [-0.06922078  0.01397516  0.04754105], Cube : [-0.06922078  0.01397516  0.04754105]]}\n",
      "2\n"
     ]
    },
    {
     "data": {
      "text/plain": [
       "array([ 0.20962488, -0.54576644,  1.22388626,  0.20962488, -0.54576644,\n",
       "        1.22388626, -0.06922078,  0.01397516,  0.04754105, -0.06922078,\n",
       "        0.01397516,  0.04754105])"
      ]
     },
     "execution_count": 42,
     "metadata": {},
     "output_type": "execute_result"
    }
   ],
   "source": [
    "a.reset()"
   ]
  },
  {
   "cell_type": "code",
   "execution_count": 43,
   "metadata": {
    "collapsed": true
   },
   "outputs": [],
   "source": [
    "b = a.clone()"
   ]
  },
  {
   "cell_type": "code",
   "execution_count": 44,
   "metadata": {},
   "outputs": [
    {
     "name": "stdout",
     "output_type": "stream",
     "text": [
      "{0: [Cube : [ 0.14964207 -0.79181668  0.02251055], Cube : [ 0.14964207 -0.79181668  0.02251055]], 1: [Cube : [-0.62636363 -0.06188094  0.10401447], Cube : [-0.62636363 -0.06188094  0.10401447]], 2: [], 3: []}\n",
      "2\n"
     ]
    },
    {
     "ename": "IndexError",
     "evalue": "list index out of range",
     "output_type": "error",
     "traceback": [
      "\u001b[1;31m---------------------------------------------------------------------------\u001b[0m",
      "\u001b[1;31mIndexError\u001b[0m                                Traceback (most recent call last)",
      "\u001b[1;32m<ipython-input-44-847b955b58a7>\u001b[0m in \u001b[0;36m<module>\u001b[1;34m()\u001b[0m\n\u001b[1;32m----> 1\u001b[1;33m \u001b[0mb\u001b[0m\u001b[1;33m.\u001b[0m\u001b[0mget_observation_start\u001b[0m\u001b[1;33m(\u001b[0m\u001b[1;33m)\u001b[0m\u001b[1;33m\u001b[0m\u001b[0m\n\u001b[0m",
      "\u001b[1;32mD:\\git\\learn-to-perform\\rl\\block_movement_env.py\u001b[0m in \u001b[0;36mget_observation_start\u001b[1;34m(self)\u001b[0m\n\u001b[0;32m    439\u001b[0m \u001b[1;33m\u001b[0m\u001b[0m\n\u001b[0;32m    440\u001b[0m         \u001b[1;31m# Set the first observation\u001b[0m\u001b[1;33m\u001b[0m\u001b[1;33m\u001b[0m\u001b[0m\n\u001b[1;32m--> 441\u001b[1;33m         \u001b[0mobservation\u001b[0m \u001b[1;33m=\u001b[0m \u001b[0mself\u001b[0m\u001b[1;33m.\u001b[0m\u001b[0m_get_observation\u001b[0m\u001b[1;33m(\u001b[0m\u001b[0mlast_frames\u001b[0m\u001b[1;33m)\u001b[0m\u001b[1;33m\u001b[0m\u001b[0m\n\u001b[0m\u001b[0;32m    442\u001b[0m \u001b[1;33m\u001b[0m\u001b[0m\n\u001b[0;32m    443\u001b[0m         \u001b[1;32mreturn\u001b[0m \u001b[0mobservation\u001b[0m\u001b[1;33m\u001b[0m\u001b[0m\n",
      "\u001b[1;32mD:\\git\\learn-to-perform\\rl\\block_movement_env.py\u001b[0m in \u001b[0;36m_get_observation\u001b[1;34m(self, session)\u001b[0m\n\u001b[0;32m    377\u001b[0m         \u001b[0mprint\u001b[0m \u001b[1;33m(\u001b[0m\u001b[0msess_len\u001b[0m\u001b[1;33m)\u001b[0m\u001b[1;33m\u001b[0m\u001b[0m\n\u001b[0;32m    378\u001b[0m \u001b[1;33m\u001b[0m\u001b[0m\n\u001b[1;32m--> 379\u001b[1;33m         \u001b[0mobject_1_name\u001b[0m\u001b[1;33m,\u001b[0m \u001b[0mobject_2_name\u001b[0m \u001b[1;33m=\u001b[0m \u001b[0mfeature_utils\u001b[0m\u001b[1;33m.\u001b[0m\u001b[0mget_most_active_objects_interval\u001b[0m\u001b[1;33m(\u001b[0m\u001b[0mobject_data\u001b[0m\u001b[1;33m,\u001b[0m \u001b[0mobject_data\u001b[0m\u001b[1;33m.\u001b[0m\u001b[0mkeys\u001b[0m\u001b[1;33m(\u001b[0m\u001b[1;33m)\u001b[0m\u001b[1;33m,\u001b[0m \u001b[1;36m0\u001b[0m\u001b[1;33m,\u001b[0m \u001b[0msess_len\u001b[0m\u001b[1;33m)\u001b[0m\u001b[1;33m\u001b[0m\u001b[0m\n\u001b[0m\u001b[0;32m    380\u001b[0m \u001b[1;33m\u001b[0m\u001b[0m\n\u001b[0;32m    381\u001b[0m         \u001b[0mfeatures\u001b[0m \u001b[1;33m=\u001b[0m \u001b[1;33m[\u001b[0m\u001b[1;33m]\u001b[0m\u001b[1;33m\u001b[0m\u001b[0m\n",
      "\u001b[1;32mD:\\git\\learn-to-perform\\feature_utils.py\u001b[0m in \u001b[0;36mget_most_active_objects_interval\u001b[1;34m(object_data, object_names, start, end)\u001b[0m\n\u001b[0;32m    106\u001b[0m \u001b[1;33m\u001b[0m\u001b[0m\n\u001b[0;32m    107\u001b[0m         \u001b[1;31m#  travelling distance of this object for 5 frames\u001b[0m\u001b[1;33m\u001b[0m\u001b[1;33m\u001b[0m\u001b[0m\n\u001b[1;32m--> 108\u001b[1;33m         \u001b[0md\u001b[0m \u001b[1;33m=\u001b[0m \u001b[0msession_utils\u001b[0m\u001b[1;33m.\u001b[0m\u001b[0mcalculate_distance\u001b[0m\u001b[1;33m(\u001b[0m \u001b[0mone_object_data\u001b[0m\u001b[1;33m,\u001b[0m \u001b[1;36m1\u001b[0m\u001b[1;33m,\u001b[0m \u001b[0mstart\u001b[0m\u001b[1;33m,\u001b[0m \u001b[0mend\u001b[0m\u001b[1;33m)\u001b[0m\u001b[1;33m\u001b[0m\u001b[0m\n\u001b[0m\u001b[0;32m    109\u001b[0m \u001b[1;33m\u001b[0m\u001b[0m\n\u001b[0;32m    110\u001b[0m         \u001b[0md_s\u001b[0m\u001b[1;33m.\u001b[0m\u001b[0mappend\u001b[0m\u001b[1;33m(\u001b[0m\u001b[1;33m(\u001b[0m\u001b[0mobject_name\u001b[0m\u001b[1;33m,\u001b[0m \u001b[0md\u001b[0m\u001b[1;33m)\u001b[0m\u001b[1;33m)\u001b[0m\u001b[1;33m\u001b[0m\u001b[0m\n",
      "\u001b[1;32mD:\\git\\learn-to-perform\\session_utils.py\u001b[0m in \u001b[0;36mcalculate_distance\u001b[1;34m(one_object_data, down_sample, start, end)\u001b[0m\n\u001b[0;32m    177\u001b[0m \u001b[1;33m\u001b[0m\u001b[0m\n\u001b[0;32m    178\u001b[0m     \u001b[1;32mfor\u001b[0m \u001b[0mi\u001b[0m \u001b[1;32min\u001b[0m \u001b[0mrange\u001b[0m\u001b[1;33m(\u001b[0m\u001b[0mstart\u001b[0m\u001b[1;33m,\u001b[0m \u001b[0mend\u001b[0m\u001b[1;33m,\u001b[0m \u001b[0mdown_sample\u001b[0m\u001b[1;33m)\u001b[0m\u001b[1;33m:\u001b[0m\u001b[1;33m\u001b[0m\u001b[0m\n\u001b[1;32m--> 179\u001b[1;33m         \u001b[0mcur_loc\u001b[0m \u001b[1;33m=\u001b[0m \u001b[0mone_object_data\u001b[0m\u001b[1;33m[\u001b[0m\u001b[0mi\u001b[0m\u001b[1;33m]\u001b[0m\u001b[1;33m.\u001b[0m\u001b[0mtransform\u001b[0m\u001b[1;33m.\u001b[0m\u001b[0mposition\u001b[0m\u001b[1;33m\u001b[0m\u001b[0m\n\u001b[0m\u001b[0;32m    180\u001b[0m \u001b[1;33m\u001b[0m\u001b[0m\n\u001b[0;32m    181\u001b[0m         \u001b[1;32mif\u001b[0m \u001b[0misinstance\u001b[0m\u001b[1;33m(\u001b[0m\u001b[0mprev_loc\u001b[0m\u001b[1;33m,\u001b[0m \u001b[0mnp\u001b[0m\u001b[1;33m.\u001b[0m\u001b[0mndarray\u001b[0m\u001b[1;33m)\u001b[0m\u001b[1;33m:\u001b[0m\u001b[1;33m\u001b[0m\u001b[0m\n",
      "\u001b[1;31mIndexError\u001b[0m: list index out of range"
     ]
    }
   ],
   "source": [
    "b.get_observation_start()"
   ]
  },
  {
   "cell_type": "code",
   "execution_count": null,
   "metadata": {
    "collapsed": true
   },
   "outputs": [],
   "source": []
  }
 ],
 "metadata": {
  "kernelspec": {
   "display_name": "Python 3",
   "language": "python",
   "name": "python3"
  },
  "language_info": {
   "codemirror_mode": {
    "name": "ipython",
    "version": 3
   },
   "file_extension": ".py",
   "mimetype": "text/x-python",
   "name": "python",
   "nbconvert_exporter": "python",
   "pygments_lexer": "ipython3",
   "version": "3.5.4"
  }
 },
 "nbformat": 4,
 "nbformat_minor": 2
}
