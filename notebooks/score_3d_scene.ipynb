{
 "cells": [
  {
   "cell_type": "markdown",
   "metadata": {},
   "source": [
    "### Calculate evaluation scores collected from annotators\n"
   ]
  },
  {
   "cell_type": "code",
   "execution_count": 16,
   "metadata": {},
   "outputs": [],
   "source": [
    "import os\n",
    "import glob\n",
    "import numpy as np\n",
    "import itertools\n",
    "import json\n",
    "from collections import defaultdict\n",
    "import matplotlib.pyplot as plt\n",
    "%matplotlib inline"
   ]
  },
  {
   "cell_type": "code",
   "execution_count": 2,
   "metadata": {},
   "outputs": [],
   "source": [
    "def plot_confusion_matrix(cm, x_classes, y_classes,\n",
    "                          normalize=False,\n",
    "                          title='Confusion matrix',\n",
    "                          x_label = 'Given label',\n",
    "                          y_label = 'True label',\n",
    "                          cmap=plt.cm.Blues,\n",
    "                          colorbar = 'vertical'):\n",
    "    \"\"\"\n",
    "    This function prints and plots the confusion matrix.\n",
    "    Normalization can be applied by setting `normalize=True`.\n",
    "    \"\"\"\n",
    "    if normalize:\n",
    "        cm = cm.astype('float') / cm.sum(axis=1)[:, np.newaxis]\n",
    "        print(\"Normalized confusion matrix\")\n",
    "    else:\n",
    "        print('Confusion matrix, without normalization')\n",
    "\n",
    "    print(cm)\n",
    "\n",
    "    plt.imshow(cm, interpolation='nearest', cmap=cmap)\n",
    "    plt.title(title)\n",
    "    plt.colorbar(orientation = colorbar)\n",
    "\n",
    "    plt.xticks(np.arange(len(x_classes)), x_classes, rotation=45)\n",
    "    plt.yticks(np.arange(len(y_classes)), y_classes)\n",
    "\n",
    "    fmt = '.2f'\n",
    "    thresh = (cm.max() - cm.min()) / 2.\n",
    "    for i, j in itertools.product(range(cm.shape[0]), range(cm.shape[1])):\n",
    "        plt.text(j, i, format(cm[i, j], fmt),\n",
    "                 horizontalalignment=\"center\",\n",
    "                 color=\"white\" if cm[i, j] > thresh  + cm.min() else \"black\")\n",
    "\n",
    "    plt.tight_layout()\n",
    "    \n",
    "    plt.xlabel(x_label)\n",
    "    plt.ylabel(y_label)"
   ]
  },
  {
   "cell_type": "code",
   "execution_count": 3,
   "metadata": {},
   "outputs": [],
   "source": [
    "def fleiss_kappa(ratings, n):\n",
    "    '''\n",
    "    Computes the Fleiss' kappa measure for assessing the reliability of \n",
    "    agreement between a fixed number n of raters when assigning categorical\n",
    "    ratings to a number of items.\n",
    "    \n",
    "    Args:\n",
    "        ratings: a list of (item, category)-ratings\n",
    "        n: number of raters\n",
    "    Returns:\n",
    "        the Fleiss' kappa score\n",
    "    \n",
    "    See also:\n",
    "        http://en.wikipedia.org/wiki/Fleiss'_kappa\n",
    "    '''\n",
    "    items = set()\n",
    "    categories = set()\n",
    "    n_ij = {}\n",
    "    \n",
    "    for i, c in ratings:\n",
    "        items.add(i)\n",
    "        categories.add(c)\n",
    "        n_ij[(i,c)] = n_ij.get((i,c), 0) + 1\n",
    "    \n",
    "    N = len(items)\n",
    "    \n",
    "    p_j = {}\n",
    "    for c in categories:\n",
    "        p_j[c] = sum(n_ij.get((i,c), 0) for i in items) / (1.0*n*N)\n",
    "    \n",
    "    P_i = np.zeros(N, dtype = np.float32)\n",
    "    for i in items:\n",
    "        P_i[i] = (sum(n_ij.get((i,c), 0)**2 for c in categories)-n) / (n*(n-1.0))\n",
    "    \n",
    "    P_bar = np.sum(P_i) / N\n",
    "    P_e_bar = sum(p_j[c]**2 for c in categories)\n",
    "    \n",
    "    kappa = (P_bar - P_e_bar) / (1 - P_e_bar)\n",
    "    \n",
    "    return P_i, kappa"
   ]
  },
  {
   "cell_type": "markdown",
   "metadata": {},
   "source": [
    "#### Hard-code permutation\n",
    "\n",
    "permutation is permutation from index in all_demos.json "
   ]
  },
  {
   "cell_type": "code",
   "execution_count": 8,
   "metadata": {},
   "outputs": [],
   "source": [
    "permutation = [121,  82,  91,  46,  21,   2,  94,  13,  78,  74,  64,  93,  76,\n",
    "        49,  66, 113, 126, 132,   3, 100,  68,  20, 115,  99, 124, 102,\n",
    "        83,  34, 109,  10,  25,  58,  96,  90, 144,  26,  32,  22,  24,\n",
    "       131,  88,  97,  38,  31,  87, 134,  54,  17, 122,  40,  50,  61,\n",
    "        42,  36, 123,  51,  56,  44,   4,   5,  15, 125, 106,  95, 143,\n",
    "       147,  79, 139, 130,  60, 112, 116, 133,  35, 137,   8,  80,  84,\n",
    "       105, 118,  62,  39,  85,  63, 117,  72,  14,  92,  71,  43, 140,\n",
    "        67,  12,  69,  11, 110, 108, 145,  57, 114, 138, 127, 128,  65,\n",
    "        52, 141,  81,  86,  53, 136,  75,  55,  47, 129, 120,  41,   0,\n",
    "        73,   9, 104,  89,  28,   1,  16, 148,  29,  77, 149,  18, 111,\n",
    "        59,  37, 101,  33, 119,  19,  23,  45, 107,   6,  30,  70, 142,\n",
    "         7,  27, 135, 146,  98, 103,  48]"
   ]
  },
  {
   "cell_type": "code",
   "execution_count": 9,
   "metadata": {},
   "outputs": [],
   "source": [
    "def oracle ( loop_index ):\n",
    "    '''\n",
    "    Return the correct label for a loop_index, which is a permutated from the true_index\n",
    "    '''\n",
    "    true_index = permutation[loop_index]\n",
    "    \n",
    "    t = true_index // 30\n",
    "    \n",
    "    return t"
   ]
  },
  {
   "cell_type": "markdown",
   "metadata": {},
   "source": [
    "#### Reading annotators' judgment "
   ]
  },
  {
   "cell_type": "code",
   "execution_count": 10,
   "metadata": {},
   "outputs": [],
   "source": [
    "answer_code = ['Away', 'Closer', 'Past', 'Around', 'Next', 'None']\n",
    "answer_map = dict((v, k) for k, v in enumerate(answer_code) )\n",
    "\n",
    "# bitmap [evaluated_label][true_label] = total number of items of 'true_label' and evaluated as 'evaluated_label'\n",
    "bitmap = np.zeros((6,5))\n",
    "\n",
    "# ratings just a list of (item_index, evaluated_label)\n",
    "ratings = []\n",
    "raters = 0\n",
    "\n",
    "path = os.path.join('..', '3D scenes', 'answers', 'answers_*.txt')\n",
    "\n",
    "for file_name in glob.glob(path):\n",
    "    with open(file_name, 'r') as fh:\n",
    "        data = json.load(fh)\n",
    "        raters += 1\n",
    "        #print (data)\n",
    "        \n",
    "        for loop_index in range(150):\n",
    "            true_y = oracle(loop_index) # from 0 to 4\n",
    "            answer_y = answer_map[data[str(loop_index)]] # from 0 to 5\n",
    "            \n",
    "            bitmap[answer_y, true_y] += 1\n",
    "            \n",
    "            ratings.append( (loop_index, answer_y) )"
   ]
  },
  {
   "cell_type": "code",
   "execution_count": 11,
   "metadata": {},
   "outputs": [
    {
     "name": "stdout",
     "output_type": "stream",
     "text": [
      "Normalized confusion matrix\n",
      "[[0.56666667 0.         0.23333333 0.         0.         0.2       ]\n",
      " [0.00666667 0.74666667 0.         0.00666667 0.21333333 0.02666667]\n",
      " [0.08       0.00666667 0.64666667 0.12       0.00666667 0.14      ]\n",
      " [0.         0.         0.08666667 0.73333333 0.00666667 0.17333333]\n",
      " [0.         0.41333333 0.06666667 0.02666667 0.35333333 0.14      ]]\n"
     ]
    },
    {
     "data": {
      "image/png": "[encoded data removed]",
      "text/plain": [
       "<matplotlib.figure.Figure at 0x1935f3eb240>"
      ]
     },
     "metadata": {},
     "output_type": "display_data"
    }
   ],
   "source": [
    "plot_confusion_matrix ( bitmap.T,\n",
    "                       ['Away', 'Closer', 'Past', 'Around', 'Next', 'None'], \n",
    "                       ['Away', 'Closer', 'Past', 'Around', 'Next'], normalize = True)"
   ]
  },
  {
   "cell_type": "code",
   "execution_count": 12,
   "metadata": {},
   "outputs": [],
   "source": [
    "P_i, kappa = fleiss_kappa(ratings, raters)"
   ]
  },
  {
   "cell_type": "code",
   "execution_count": 13,
   "metadata": {},
   "outputs": [
    {
     "name": "stdout",
     "output_type": "stream",
     "text": [
      "0.5087378848426359\n"
     ]
    }
   ],
   "source": [
    "print (kappa)"
   ]
  },
  {
   "cell_type": "markdown",
   "metadata": {},
   "source": [
    "#### Some auxillary charts"
   ]
  },
  {
   "cell_type": "markdown",
   "metadata": {},
   "source": [
    "##### Annotator (dis)agreement  for each test"
   ]
  },
  {
   "cell_type": "code",
   "execution_count": 15,
   "metadata": {},
   "outputs": [
    {
     "data": {
      "text/plain": [
       "<matplotlib.image.AxesImage at 0x1935f54d160>"
      ]
     },
     "execution_count": 15,
     "metadata": {},
     "output_type": "execute_result"
    },
    {
     "data": {
      "image/png": "[encoded data removed]",
      "text/plain": [
       "<matplotlib.figure.Figure at 0x1935f3fbc18>"
      ]
     },
     "metadata": {},
     "output_type": "display_data"
    }
   ],
   "source": [
    "t = 1 - P_i\n",
    "t.shape = (5,30)\n",
    "\n",
    "plt.imshow(t, cmap='hot_r', interpolation='nearest')"
   ]
  },
  {
   "cell_type": "markdown",
   "metadata": {},
   "source": [
    "##### Annotator (dis)agreement  for each action type"
   ]
  },
  {
   "cell_type": "code",
   "execution_count": 18,
   "metadata": {},
   "outputs": [
    {
     "name": "stdout",
     "output_type": "stream",
     "text": [
      "Away: 0.48333338\n",
      "Closer: 0.72333336\n",
      "Past: 0.65333337\n",
      "Around: 0.6766666\n",
      "Next: 0.44333333\n",
      "Confusion matrix, without normalization\n",
      "[[0.48333338 0.72333336 0.65333337 0.6766666  0.44333333]]\n"
     ]
    },
    {
     "data": {
      "image/png": "[encoded data removed]",
      "text/plain": [
       "<matplotlib.figure.Figure at 0x1935f55d518>"
      ]
     },
     "metadata": {},
     "output_type": "display_data"
    }
   ],
   "source": [
    "P_each_action = defaultdict (list)\n",
    "\n",
    "for loop_index in range(150):\n",
    "    P_each_action[oracle(loop_index)].append(P_i[loop_index])\n",
    "    \n",
    "for i in range(5):\n",
    "    print (answer_code[i] + ': ' + str(np.average(P_each_action[i])))\n",
    "    \n",
    "q = np.array([np.average(P_each_action[i]) for i in range(5)])\n",
    "q.shape = ( 1, 5 )\n",
    "\n",
    "plot_confusion_matrix ( q,\n",
    "       ['Away', 'Closer', 'Past', 'Around', 'Next'], \n",
    "       [''], normalize = False,\n",
    "      x_label = '', y_label = '',\n",
    "      colorbar = 'horizontal',\n",
    "      title='Evaluation agreement')"
   ]
  },
  {
   "cell_type": "code",
   "execution_count": null,
   "metadata": {},
   "outputs": [],
   "source": []
  }
 ],
 "metadata": {
  "kernelspec": {
   "display_name": "Python 3",
   "language": "python",
   "name": "python3"
  },
  "language_info": {
   "codemirror_mode": {
    "name": "ipython",
    "version": 3
   },
   "file_extension": ".py",
   "mimetype": "text/x-python",
   "name": "python",
   "nbconvert_exporter": "python",
   "pygments_lexer": "ipython3",
   "version": "3.5.4"
  }
 },
 "nbformat": 4,
 "nbformat_minor": 2
}
