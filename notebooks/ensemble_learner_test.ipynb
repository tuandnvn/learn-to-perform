{
 "cells": [
  {
   "cell_type": "code",
   "execution_count": 37,
   "metadata": {},
   "outputs": [
    {
     "name": "stdout",
     "output_type": "stream",
     "text": [
      "========================================================\n",
      "Load for action type = SlideToward\n",
      "-------- Load progress model ---------\n",
      "self.inputs.shape = (?, 20, 200)  after linear layer\n",
      "output.shape = (30, 200) after LSTM\n",
      "self.output.shape = (30,) after linear\n",
      "self._targets.shape = (?,) \n",
      "========================================================\n",
      "Load for action type = SlideAway\n",
      "-------- Load progress model ---------\n",
      "self.inputs.shape = (?, 20, 200)  after linear layer\n",
      "output.shape = (30, 200) after LSTM\n",
      "self.output.shape = (30,) after linear\n",
      "self._targets.shape = (?,) \n",
      "model/SlideToward/linear/weight:0\n",
      "model/SlideToward/linear/bias:0\n",
      "model/SlideToward/lstm/rnn/multi_rnn_cell/cell_0/basic_lstm_cell/kernel:0\n",
      "model/SlideToward/lstm/rnn/multi_rnn_cell/cell_0/basic_lstm_cell/bias:0\n",
      "model/SlideToward/output_linear/weight:0\n",
      "model/SlideToward/output_linear/bias:0\n",
      "model/SlideAway/linear/weight:0\n",
      "model/SlideAway/linear/bias:0\n",
      "model/SlideAway/lstm/rnn/multi_rnn_cell/cell_0/basic_lstm_cell/kernel:0\n",
      "model/SlideAway/lstm/rnn/multi_rnn_cell/cell_0/basic_lstm_cell/bias:0\n",
      "model/SlideAway/output_linear/weight:0\n",
      "model/SlideAway/output_linear/bias:0\n",
      "INFO:tensorflow:Restoring parameters from ../progress_SlideToward.mod\n",
      "INFO:tensorflow:Restoring parameters from ../progress_SlideAway.mod\n",
      "action_level = 0\n",
      "exploration_index = 0\n",
      "=== found_completed_act ===\n",
      "[(0, 0.8815883994102478), (0, 0.81988263130187988), (0, 0.76200443506240845), (0, 0.7477041482925415), (0, 0.7364845871925354), (0, 0.73456168174743652), (0, 0.72976541519165039), (0, 0.72377842664718628), (0, 0.72253888845443726), (0, 0.71634083986282349), (0, 0.70265710353851318), (0, 0.7024616003036499), (0, 0.67237907648086548), (0, 0.66195940971374512), (0, 0.65945833921432495), (0, 0.65333163738250732), (0, 0.64691060781478882), (0, 0.63397759199142456), (0, 0.63031095266342163), (0, 0.6248939037322998)]\n"
     ]
    }
   ],
   "source": [
    "import os\n",
    "import sys\n",
    "import collections\n",
    "\n",
    "module_path = os.path.abspath(os.path.join('..'))\n",
    "if module_path not in sys.path:\n",
    "    sys.path.append(module_path)\n",
    "\n",
    "from importlib import reload\n",
    "import ensemble_learner_loader\n",
    "reload(ensemble_learner_loader)\n",
    "\n",
    "ensemble_learner = ensemble_learner_loader.create_ensemble_learner()\n",
    "\n",
    "# (0,0.7,0.5), Extends (0.9, 0, 0.7)\n",
    "table = [(0,0.7,0.5), (0.9, 0, 0.7)]\n",
    "block1 = [-0.4, 0.8, 0.2]\n",
    "block2 = [0.1, 0.8, 0.6]\n",
    "ensemble_learner.receive_state( (table, block1, block2) )\n",
    "\n",
    "# Slide block1 Past block2\n",
    "exploration, command = ensemble_learner.produce_action( \"SlideToward\" , 0 )"
   ]
  },
  {
   "cell_type": "code",
   "execution_count": 38,
   "metadata": {},
   "outputs": [
    {
     "data": {
      "image/png": "[encoded data removed]",
      "text/plain": [
       "<matplotlib.figure.Figure at 0x2566f507cc0>"
      ]
     },
     "metadata": {},
     "output_type": "display_data"
    },
    {
     "name": "stdout",
     "output_type": "stream",
     "text": [
      "(array([ 0.,  0.,  0.], dtype=float32), array([ 2. ,  2. ,  0.5], dtype=float32))\n",
      "[-0.11671223  0.47702479 -0.62355373]\n",
      "[[ 0.   0.   0.   0.   0.   0.  -0.5]\n",
      " [ 0.   0.  -1.   0.   0.   0.  -0.5]\n",
      " [ 0.  -1.  -1.   0.   0.   0.  -0.5]\n",
      " [ 0.   0.  -1.   0.   0.   0.  -0.5]\n",
      " [ 0.   0.  -1.   0.   0.   0.  -0.5]\n",
      " [ 0.  -1.  -1.   0.   0.   0.  -0.5]\n",
      " [ 0.   0.  -1.   0.   0.   0.  -0.5]\n",
      " [ 0.   0.  -1.   0.   0.   0.  -0.5]\n",
      " [ 0.   0.  -1.   0.   0.   0.  -0.5]\n",
      " [ 0.  -1.  -1.   0.   0.   0.  -0.5]\n",
      " [ 0.   0.  -1.   0.   0.   0.  -0.5]\n",
      " [ 0.   0.  -1.   0.   0.   0.  -0.5]\n",
      " [ 0.   0.  -1.   0.   0.   0.  -1. ]\n",
      " [ 0.  -1.  -1.   0.   0.   0.  -1. ]\n",
      " [ 0.   0.  -1.   0.   0.   0.  -1. ]\n",
      " [ 0.   0.  -1.   0.   0.   0.  -1. ]\n",
      " [ 0.   0.  -1.   0.   0.   0.  -1. ]\n",
      " [ 0.  -1.  -1.   0.   0.   0.  -1. ]\n",
      " [ 0.   0.  -1.   0.   0.   0.  -1. ]\n",
      " [ 0.   0.  -1.   0.   0.   0.  -1. ]]\n",
      "Progress = 0.88; reward = 0.88\n"
     ]
    },
    {
     "data": {
      "image/png": "[encoded data removed]",
      "text/plain": [
       "<matplotlib.figure.Figure at 0x2567301eef0>"
      ]
     },
     "metadata": {},
     "output_type": "display_data"
    }
   ],
   "source": [
    "exploration.replay(verbose=True)"
   ]
  },
  {
   "cell_type": "code",
   "execution_count": 39,
   "metadata": {},
   "outputs": [
    {
     "name": "stdout",
     "output_type": "stream",
     "text": [
      "action_level = 0\n",
      "exploration_index = 0\n",
      "=== found_completed_act ===\n",
      "[(0, 0.86973762512207031), (0, 0.80683624744415283), (0, 0.74443578720092773), (0, 0.74122428894042969), (0, 0.7378661036491394), (0, 0.69190376996994019), (0, 0.68896442651748657), (0, 0.68357545137405396), (0, 0.68127328157424927), (0, 0.65396279096603394), (0, 0.65356647968292236), (0, 0.6267504096031189), (0, 0.62562072277069092), (0, 0.62286829948425293), (0, 0.62152212858200073), (0, 0.61741173267364502), (0, 0.61718583106994629), (0, 0.61658179759979248), (0, 0.61343175172805786), (0, 0.61246389150619507)]\n"
     ]
    }
   ],
   "source": [
    "exploration, command = ensemble_learner.produce_action( \"SlideAway\" , 0 )"
   ]
  },
  {
   "cell_type": "code",
   "execution_count": 40,
   "metadata": {},
   "outputs": [
    {
     "data": {
      "image/png": "[encoded data removed]",
      "text/plain": [
       "<matplotlib.figure.Figure at 0x25672f750b8>"
      ]
     },
     "metadata": {},
     "output_type": "display_data"
    },
    {
     "name": "stdout",
     "output_type": "stream",
     "text": [
      "(array([ 0.,  0.,  0.], dtype=float32), array([ 2. ,  2. ,  0.5], dtype=float32))\n",
      "[-0.56317453  0.17887076 -0.49868079]\n",
      "[[ 0.   0.   0.   0.   0.   0.  -0.5]\n",
      " [ 0.   0.   1.   0.  -1.   0.  -0.5]\n",
      " [ 0.   0.   1.   0.  -1.   0.  -0.5]\n",
      " [ 0.   0.   1.   0.  -1.   0.  -0.5]\n",
      " [ 0.   1.   1.   0.  -1.   0.  -0.5]\n",
      " [ 0.   0.   1.   0.  -1.   0.  -0.5]\n",
      " [ 0.   0.   1.   0.  -1.   0.  -0.5]\n",
      " [ 0.   0.   1.   0.  -1.   0.  -0.5]\n",
      " [ 0.   0.   1.   0.  -1.   0.  -0.5]\n",
      " [ 0.   0.   1.   0.  -1.   0.  -0.5]\n",
      " [ 0.   0.   1.   0.  -1.   0.  -0.5]\n",
      " [ 0.   0.   1.   0.  -1.   0.  -0.5]\n",
      " [ 0.   0.   1.   0.  -1.   0.  -0.5]\n",
      " [ 0.   0.   1.   0.  -1.   0.  -0.5]\n",
      " [ 0.   0.   1.   0.  -1.   0.  -0.5]\n",
      " [ 0.   1.   1.   0.  -1.   0.  -1. ]\n",
      " [ 0.   0.   1.   0.  -1.   0.  -1. ]\n",
      " [ 0.   0.   1.   0.  -1.   0.  -1. ]\n",
      " [ 0.   0.   1.   0.  -1.   0.  -1. ]\n",
      " [ 0.   0.   1.   0.  -1.   0.  -1. ]]\n",
      "Progress = 0.87; reward = 0.87\n"
     ]
    },
    {
     "data": {
      "image/png": "[encoded data removed]",
      "text/plain": [
       "<matplotlib.figure.Figure at 0x256730287f0>"
      ]
     },
     "metadata": {},
     "output_type": "display_data"
    }
   ],
   "source": [
    "exploration.replay(verbose=True)"
   ]
  },
  {
   "cell_type": "code",
   "execution_count": 41,
   "metadata": {},
   "outputs": [
    {
     "name": "stdout",
     "output_type": "stream",
     "text": [
      "slide(block1,<-0.56; 0.80; 0.18>)\n"
     ]
    }
   ],
   "source": [
    "print (command)"
   ]
  },
  {
   "cell_type": "code",
   "execution_count": 44,
   "metadata": {},
   "outputs": [
    {
     "data": {
      "text/plain": [
       "{'block1': [-0.4, 0.8, 0.2],\n",
       " 'block2': [0.1, 0.8, 0.6],\n",
       " 'table': [0, 0.7, 0.5, 0.9, 0, 0.7]}"
      ]
     },
     "execution_count": 44,
     "metadata": {},
     "output_type": "execute_result"
    }
   ],
   "source": [
    "# Accepted json format\n",
    "{\"table\": [0,0.7,0.5,0.9, 0, 0.7],\n",
    "\"block1\" : [-0.4, 0.8, 0.2],\n",
    "\"block2\" : [0.1, 0.8, 0.6],\n",
    "\"action\" : \"\"}"
   ]
  },
  {
   "cell_type": "code",
   "execution_count": 45,
   "metadata": {
    "collapsed": true
   },
   "outputs": [],
   "source": [
    "nx, ny = (3, 2)"
   ]
  },
  {
   "cell_type": "code",
   "execution_count": 48,
   "metadata": {},
   "outputs": [],
   "source": [
    "x = np.linspace(0, 1, nx)\n",
    "y = np.linspace(0, 1, ny)\n",
    "xv, yv = np.meshgrid(x, y)"
   ]
  },
  {
   "cell_type": "code",
   "execution_count": 47,
   "metadata": {
    "collapsed": true
   },
   "outputs": [],
   "source": [
    "import numpy as np"
   ]
  },
  {
   "cell_type": "code",
   "execution_count": 49,
   "metadata": {},
   "outputs": [
    {
     "data": {
      "text/plain": [
       "array([[ 0. ,  0.5,  1. ],\n",
       "       [ 0. ,  0.5,  1. ]])"
      ]
     },
     "execution_count": 49,
     "metadata": {},
     "output_type": "execute_result"
    }
   ],
   "source": [
    "xv"
   ]
  },
  {
   "cell_type": "code",
   "execution_count": 53,
   "metadata": {},
   "outputs": [
    {
     "name": "stdout",
     "output_type": "stream",
     "text": [
      "(0.0, 0.0)\n",
      "(0.5, 0.0)\n",
      "(1.0, 0.0)\n",
      "(0.0, 1.0)\n",
      "(0.5, 1.0)\n",
      "(1.0, 1.0)\n"
     ]
    }
   ],
   "source": [
    "for a,b in zip(*(x.flat for x in np.meshgrid(x, y))):\n",
    "    print ((a,b))"
   ]
  },
  {
   "cell_type": "code",
   "execution_count": 55,
   "metadata": {},
   "outputs": [
    {
     "data": {
      "text/plain": [
       "array([[ 0. ,  0. ],\n",
       "       [ 0.5,  0. ],\n",
       "       [ 1. ,  0. ],\n",
       "       [ 0. ,  1. ],\n",
       "       [ 0.5,  1. ],\n",
       "       [ 1. ,  1. ]])"
      ]
     },
     "execution_count": 55,
     "metadata": {},
     "output_type": "execute_result"
    }
   ],
   "source": [
    "np.array(list(zip(*(x.flat for x in np.meshgrid(x, y)))))"
   ]
  },
  {
   "cell_type": "code",
   "execution_count": 56,
   "metadata": {},
   "outputs": [
    {
     "data": {
      "text/plain": [
       "array([[-0.40707433,  0.17791187],\n",
       "       [-0.19398361,  0.6066501 ],\n",
       "       [ 0.22171338,  0.58462613],\n",
       "       [-0.4316283 , -0.08164711],\n",
       "       [-0.54580901,  0.52804157],\n",
       "       [-0.32665027, -0.27156649]])"
      ]
     },
     "execution_count": 56,
     "metadata": {},
     "output_type": "execute_result"
    }
   ],
   "source": [
    "np.random.multivariate_normal(np.zeros(2), np.diag([0.2,0.2]), size = 6)"
   ]
  },
  {
   "cell_type": "code",
   "execution_count": 57,
   "metadata": {
    "collapsed": true
   },
   "outputs": [],
   "source": [
    "t = np.array(list(zip(*(x.flat for x in np.meshgrid(x, y))))) + np.random.multivariate_normal(np.zeros(2), np.diag([0.2,0.2]), size = 6)"
   ]
  },
  {
   "cell_type": "code",
   "execution_count": 58,
   "metadata": {},
   "outputs": [
    {
     "data": {
      "text/plain": [
       "array([[-0.48841036,  0.84904985],\n",
       "       [-0.03981949, -0.0067529 ],\n",
       "       [ 1.38324295,  1.03827592],\n",
       "       [-0.59759445,  1.8813308 ],\n",
       "       [ 0.71341674,  1.04764103],\n",
       "       [ 0.00456564,  1.28341982]])"
      ]
     },
     "execution_count": 58,
     "metadata": {},
     "output_type": "execute_result"
    }
   ],
   "source": [
    "t"
   ]
  },
  {
   "cell_type": "code",
   "execution_count": 62,
   "metadata": {},
   "outputs": [
    {
     "data": {
      "text/plain": [
       "[array([-0.48841036,  0.84904985]),\n",
       " array([-0.03981949, -0.0067529 ]),\n",
       " array([ 1.38324295,  1.03827592]),\n",
       " array([-0.59759445,  1.8813308 ]),\n",
       " array([ 0.71341674,  1.04764103]),\n",
       " array([ 0.00456564,  1.28341982])]"
      ]
     },
     "execution_count": 62,
     "metadata": {},
     "output_type": "execute_result"
    }
   ],
   "source": [
    "list(t)"
   ]
  },
  {
   "cell_type": "code",
   "execution_count": null,
   "metadata": {
    "collapsed": true
   },
   "outputs": [],
   "source": []
  }
 ],
 "metadata": {
  "kernelspec": {
   "display_name": "Python 3",
   "language": "python",
   "name": "python3"
  },
  "language_info": {
   "codemirror_mode": {
    "name": "ipython",
    "version": 3
   },
   "file_extension": ".py",
   "mimetype": "text/x-python",
   "name": "python",
   "nbconvert_exporter": "python",
   "pygments_lexer": "ipython3",
   "version": "3.5.4"
  }
 },
 "nbformat": 4,
 "nbformat_minor": 2
}
