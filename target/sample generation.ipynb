{
 "cells": [
  {
   "cell_type": "markdown",
   "metadata": {},
   "source": [
    "In this project, we will generate a few kinds of object structures:\n",
    "\n",
    "- Triangle: Right triangle that has shorter edges parallel to axis\n",
    "\n",
    "   ``\n",
    "O\n",
    "OOO\n",
    "OOOOO\n",
    "   ``\n",
    "- Rectangle: Small rectangle\n",
    "\n",
    "- L shape\n",
    "\n",
    "   ``\n",
    "O\n",
    "O\n",
    "OOOOO\n",
    "   ``"
   ]
  },
  {
   "cell_type": "code",
   "execution_count": 5,
   "metadata": {
    "collapsed": true
   },
   "outputs": [],
   "source": [
    "from random import random\n",
    "from random import randint\n",
    "from random import choice\n",
    "from numpy import array\n",
    "from numpy import zeros\n",
    "import numpy as np"
   ]
  },
  {
   "cell_type": "code",
   "execution_count": 6,
   "metadata": {
    "collapsed": true
   },
   "outputs": [],
   "source": [
    "%matplotlib inline\n",
    "import matplotlib as mpl\n",
    "from matplotlib import pyplot"
   ]
  },
  {
   "cell_type": "code",
   "execution_count": 7,
   "metadata": {
    "collapsed": true
   },
   "outputs": [],
   "source": [
    "def check_in_frame ( size, pos ):\n",
    "    \"\"\"\n",
    "    Allow space around the shape\n",
    "    \"\"\"\n",
    "    if 0 <= pos[0] < size and  0 <= pos[1] < size:\n",
    "        return True\n",
    "    return False\n",
    "\n",
    "def check_in_frame_with_space ( size, pos ):\n",
    "    \"\"\"\n",
    "    Allow space around the shape\n",
    "    \"\"\"\n",
    "    if 1 <= pos[0] < size - 1 and  1 <= pos[1] < size - 1:\n",
    "        return True\n",
    "    return False"
   ]
  },
  {
   "cell_type": "code",
   "execution_count": 51,
   "metadata": {
    "collapsed": true
   },
   "outputs": [],
   "source": [
    "def generate_rectangle(frame , width, height, position, color):\n",
    "    \"\"\"\n",
    "    Parameters:\n",
    "    =====================\n",
    "    frame: squared frame\n",
    "    width: width of rectangle\n",
    "    height: height of rectangle\n",
    "    position: tuple of 2\n",
    "    color: (color the cells with this value)\n",
    "    \n",
    "    Returns:\n",
    "    =====================\n",
    "    - success: whether imposition successes or not\n",
    "    \"\"\"\n",
    "    size = frame.shape[0]\n",
    "    other_corner = ( position[0] + height - 1, position[1] + width - 1 )\n",
    "    \n",
    "    if not check_in_frame ( size, position ) or not check_in_frame ( size, other_corner ):\n",
    "        return False\n",
    "    \n",
    "    frame[ position[0] : position[0] + height, \n",
    "          position[1] : position[1] + width] = np.ones((height, width)) * color\n",
    "    \n",
    "    return True"
   ]
  },
  {
   "cell_type": "markdown",
   "metadata": {},
   "source": [
    "#### Test"
   ]
  },
  {
   "cell_type": "code",
   "execution_count": 9,
   "metadata": {
    "collapsed": false
   },
   "outputs": [
    {
     "name": "stdout",
     "output_type": "stream",
     "text": [
      "[[ 0.  0.  0.  0.  0.  0.  0.  0.  0.  0.]\n",
      " [ 0.  0.  0.  0.  0.  0.  0.  0.  0.  0.]\n",
      " [ 0.  0.  2.  2.  2.  2.  0.  0.  0.  0.]\n",
      " [ 0.  0.  2.  2.  2.  2.  0.  0.  0.  0.]\n",
      " [ 0.  0.  0.  0.  0.  0.  0.  0.  0.  0.]\n",
      " [ 0.  0.  0.  0.  0.  0.  0.  0.  0.  0.]\n",
      " [ 0.  0.  0.  0.  0.  0.  0.  0.  0.  0.]\n",
      " [ 0.  0.  0.  0.  0.  0.  0.  0.  0.  0.]\n",
      " [ 0.  0.  0.  0.  0.  0.  0.  0.  0.  0.]\n",
      " [ 0.  0.  0.  0.  0.  0.  0.  0.  0.  0.]]\n"
     ]
    }
   ],
   "source": [
    "f = zeros ((10, 10))\n",
    "\n",
    "generate_rectangle(f, 4, 2, (2,2), 2)\n",
    "\n",
    "print (f)"
   ]
  },
  {
   "cell_type": "code",
   "execution_count": 49,
   "metadata": {
    "collapsed": true
   },
   "outputs": [],
   "source": [
    "def generate_triangle(frame, side, direction, position, color):\n",
    "    \"\"\"\n",
    "    Impose an triangle shape structure on the frame, position is where you start it (top-left corner of rectangle)\n",
    "    \n",
    "    This is a triangle with side = 4, direction = 0\n",
    "    \n",
    "    S\n",
    "    o o \n",
    "    o o o\n",
    "    o o o o\n",
    "    \n",
    "    direction = 1\n",
    "    \n",
    "    S o o o\n",
    "    o o o \n",
    "    o o\n",
    "    o \n",
    "    \n",
    "    direction = 2\n",
    "    \n",
    "    S o o o\n",
    "      o o o \n",
    "        o o\n",
    "          o \n",
    "    \n",
    "    direction = 3\n",
    "    \n",
    "    S     o\n",
    "        o o \n",
    "      o o o\n",
    "    o o o o\n",
    "    \n",
    "    Parameters:\n",
    "    =====================\n",
    "    frame: squared frame\n",
    "    side: length of the shorter side of triangle\n",
    "    direction: \n",
    "    position: tuple of 2\n",
    "    color: (color the cells with this value)\n",
    "    \n",
    "    Returns:\n",
    "    =====================\n",
    "    - success: whether imposition successes or not\n",
    "    \n",
    "    \"\"\"\n",
    "    size = frame.shape[0]\n",
    "    other_corner = ( position[0] + side - 1, position[1] + side - 1 )\n",
    "    \n",
    "    if not check_in_frame ( size, position) or not check_in_frame ( size, other_corner ):\n",
    "        return False\n",
    "    \n",
    "    inner_shape = np.tril(np.ones((side, side)) * color)\n",
    "    \n",
    "    # Generate for direction == 0, and rotate it to the correct direction\n",
    "    rotated_shape = np.rot90 ( inner_shape, -direction )\n",
    "    \n",
    "    \n",
    "    frame[ position[0] : position[0] + rotated_shape.shape[0], \n",
    "          position[1] : position[1] + rotated_shape.shape[1] ] = rotated_shape\n",
    "    \n",
    "    return True"
   ]
  },
  {
   "cell_type": "markdown",
   "metadata": {},
   "source": [
    "#### Test"
   ]
  },
  {
   "cell_type": "code",
   "execution_count": 11,
   "metadata": {
    "collapsed": false
   },
   "outputs": [
    {
     "name": "stdout",
     "output_type": "stream",
     "text": [
      "[[ 0.  0.  0.  0.  0.  0.  0.  0.  0.  0.]\n",
      " [ 0.  0.  0.  0.  0.  0.  0.  0.  0.  0.]\n",
      " [ 0.  0.  0.  0.  0.  1.  0.  0.  0.  0.]\n",
      " [ 0.  0.  0.  0.  1.  1.  0.  0.  0.  0.]\n",
      " [ 0.  0.  0.  1.  1.  1.  0.  0.  0.  0.]\n",
      " [ 0.  0.  1.  1.  1.  1.  0.  0.  0.  0.]\n",
      " [ 0.  0.  0.  0.  0.  0.  0.  0.  0.  0.]\n",
      " [ 0.  0.  0.  0.  0.  0.  0.  0.  0.  0.]\n",
      " [ 0.  0.  0.  0.  0.  0.  0.  0.  0.  0.]\n",
      " [ 0.  0.  0.  0.  0.  0.  0.  0.  0.  0.]]\n"
     ]
    }
   ],
   "source": [
    "f = zeros ((10, 10))\n",
    "\n",
    "generate_triangle(f, 4, 3, (2,2), 1)\n",
    "\n",
    "print (f)"
   ]
  },
  {
   "cell_type": "code",
   "execution_count": 50,
   "metadata": {
    "collapsed": true
   },
   "outputs": [],
   "source": [
    "def generate_l_shape(frame, width, height, direction, position, color):\n",
    "    \"\"\"\n",
    "    Impose an triangle shape structure on the frame, position is where you start it (top-left corner of rectangle)\n",
    "    \n",
    "    This is a triangle with width = 4, height = 3, direction = 0\n",
    "    \n",
    "    S\n",
    "    o \n",
    "    o o o o\n",
    "    \n",
    "    direction = 1\n",
    "    \n",
    "    S o o o\n",
    "    o \n",
    "    o\n",
    "    \n",
    "    direction = 2\n",
    "    \n",
    "    S o o o\n",
    "          o \n",
    "          o\n",
    "    \n",
    "    direction = 3\n",
    "    \n",
    "    S     o\n",
    "          o \n",
    "    o o o o\n",
    "    \n",
    "    Parameters:\n",
    "    =====================\n",
    "    frame: squared frame\n",
    "    width: width of rectangle\n",
    "    height: height of rectangle\n",
    "    direction: \n",
    "    position: tuple of 2\n",
    "    color: (color the cells with this value)\n",
    "    \n",
    "    Returns:\n",
    "    =====================\n",
    "    - success: whether imposition successes or not\n",
    "    \n",
    "    \"\"\"\n",
    "    size = frame.shape[0]\n",
    "    other_corner = ( position[0] + height - 1, position[1] + width - 1 )\n",
    "    \n",
    "    if not check_in_frame ( size, position) or not check_in_frame ( size, other_corner ):\n",
    "        return False\n",
    "    \n",
    "    if direction == 0 or direction == 3:\n",
    "        frame[ position[0] + height - 1,  position[1] : position[1] + width ] = color\n",
    "    \n",
    "    if direction == 1 or direction == 2:\n",
    "        frame[ position[0]             ,  position[1] : position[1] + width ] = color\n",
    "        \n",
    "    if direction == 0 or direction == 1:\n",
    "        frame[ position[0]: position[0] + height,  position[1] ] = color\n",
    "        \n",
    "    if direction == 2 or direction == 3:\n",
    "        frame[ position[0]: position[0] + height,  position[1] + width - 1 ] = color\n",
    "    \n",
    "    return True"
   ]
  },
  {
   "cell_type": "markdown",
   "metadata": {},
   "source": [
    "#### Test"
   ]
  },
  {
   "cell_type": "code",
   "execution_count": 52,
   "metadata": {
    "collapsed": false
   },
   "outputs": [
    {
     "name": "stdout",
     "output_type": "stream",
     "text": [
      "[[ 0.  0.  0.  0.  0.  0.  0.  0.  0.  0.]\n",
      " [ 0.  0.  0.  0.  0.  0.  0.  0.  0.  0.]\n",
      " [ 0.  0.  1.  0.  0.  0.  0.  0.  0.  0.]\n",
      " [ 0.  0.  1.  1.  1.  0.  0.  0.  0.  0.]\n",
      " [ 0.  0.  0.  0.  0.  0.  0.  0.  0.  0.]\n",
      " [ 0.  0.  0.  0.  0.  0.  0.  0.  0.  0.]\n",
      " [ 0.  0.  0.  0.  0.  0.  0.  0.  0.  0.]\n",
      " [ 0.  0.  0.  0.  0.  0.  0.  0.  0.  0.]\n",
      " [ 0.  0.  0.  0.  0.  0.  0.  0.  0.  0.]\n",
      " [ 0.  0.  0.  0.  0.  0.  0.  0.  0.  0.]]\n"
     ]
    }
   ],
   "source": [
    "f = zeros ((10, 10))\n",
    "\n",
    "generate_l_shape(f, 3, 2, 0, (2,2), 1)\n",
    "\n",
    "print (f)"
   ]
  },
  {
   "cell_type": "code",
   "execution_count": 53,
   "metadata": {
    "collapsed": false
   },
   "outputs": [
    {
     "name": "stdout",
     "output_type": "stream",
     "text": [
      "[[ 0.  0.  0.  0.  0.  0.  0.  0.  0.  0.]\n",
      " [ 0.  0.  0.  0.  0.  0.  0.  0.  0.  0.]\n",
      " [ 0.  0.  1.  0.  0.  0.  0.  0.  0.  0.]\n",
      " [ 0.  0.  1.  1.  1.  0.  0.  0.  0.  0.]\n",
      " [ 0.  0.  0.  0.  5.  0.  0.  0.  0.  0.]\n",
      " [ 0.  0.  0.  0.  5.  5.  5.  0.  0.  0.]\n",
      " [ 0.  0.  0.  0.  0.  0.  0.  0.  0.  0.]\n",
      " [ 0.  0.  0.  0.  0.  0.  0.  0.  0.  0.]\n",
      " [ 0.  0.  0.  0.  0.  0.  0.  0.  0.  0.]\n",
      " [ 0.  0.  0.  0.  0.  0.  0.  0.  0.  0.]]\n"
     ]
    }
   ],
   "source": [
    "generate_l_shape(f, 3, 2, 0, (4,4), 5)\n",
    "\n",
    "print (f)"
   ]
  },
  {
   "cell_type": "code",
   "execution_count": 54,
   "metadata": {
    "collapsed": false
   },
   "outputs": [
    {
     "name": "stdout",
     "output_type": "stream",
     "text": [
      "[[ 0.  0.  0.  0.  0.  3.  0.  0.  0.  0.]\n",
      " [ 0.  0.  0.  0.  0.  3.  3.  3.  0.  0.]\n",
      " [ 0.  0.  1.  0.  0.  0.  0.  0.  0.  0.]\n",
      " [ 0.  0.  1.  1.  1.  0.  0.  0.  0.  0.]\n",
      " [ 0.  0.  0.  0.  5.  0.  0.  0.  0.  0.]\n",
      " [ 0.  0.  0.  0.  5.  5.  5.  0.  0.  0.]\n",
      " [ 0.  0.  0.  0.  0.  0.  0.  0.  0.  0.]\n",
      " [ 0.  0.  0.  0.  0.  0.  0.  0.  0.  0.]\n",
      " [ 0.  0.  0.  0.  0.  0.  0.  0.  0.  0.]\n",
      " [ 0.  0.  0.  0.  0.  0.  0.  0.  0.  0.]]\n"
     ]
    }
   ],
   "source": [
    "generate_l_shape(f, 3, 2, 0, (0,5), 3)\n",
    "\n",
    "print (f)"
   ]
  },
  {
   "cell_type": "markdown",
   "metadata": {},
   "source": [
    "### Create a color codes"
   ]
  },
  {
   "cell_type": "code",
   "execution_count": 135,
   "metadata": {
    "collapsed": true
   },
   "outputs": [],
   "source": [
    "codes = ['white', 'green', 'blue', 'yellow', 'purple', 'red']\n",
    "cm = mpl.colors.ListedColormap(codes)"
   ]
  },
  {
   "cell_type": "code",
   "execution_count": 185,
   "metadata": {
    "collapsed": true
   },
   "outputs": [],
   "source": [
    "# Plot function with colors\n",
    "def plot( frame , l = None):\n",
    "    # This method might code pixel's value % len(codes) == 0 to be white\n",
    "    color_frame = frame\n",
    "    color_frame[np.where ( (color_frame % len(codes) == 0) & (color_frame != 0 ) )] = len(codes) - 1\n",
    "    color_frame = color_frame % len(codes)\n",
    "    \n",
    "    # create a gray scale subplot for each frame\n",
    "    pyplot.imshow(color_frame, cmap=cm )\n",
    "    # turn of the scale to make it clearer\n",
    "    ax = pyplot.gca()\n",
    "    ax.get_xaxis().set_visible(False)\n",
    "    ax.get_yaxis().set_visible(False)\n",
    "    \n",
    "    # show the plot\n",
    "    pyplot.show()"
   ]
  },
  {
   "cell_type": "code",
   "execution_count": 58,
   "metadata": {
    "collapsed": false
   },
   "outputs": [
    {
     "data": {
      "image/png": "[encoded data removed]",
      "text/plain": [
       "<matplotlib.figure.Figure at 0x10c0f6128>"
      ]
     },
     "metadata": {},
     "output_type": "display_data"
    }
   ],
   "source": [
    "plot(f)"
   ]
  },
  {
   "cell_type": "markdown",
   "metadata": {},
   "source": [
    "Notice that pixel values in the image would be mapped to range (0, 1) before mapping to the real color values"
   ]
  },
  {
   "cell_type": "code",
   "execution_count": 94,
   "metadata": {
    "collapsed": false
   },
   "outputs": [],
   "source": [
    "import generate_rectangle\n",
    "from importlib import reload"
   ]
  },
  {
   "cell_type": "code",
   "execution_count": 124,
   "metadata": {
    "collapsed": false
   },
   "outputs": [
    {
     "data": {
      "text/plain": [
       "<module 'generate_rectangle' from '/Users/tuando/git/learn-to-perform/target/generate_rectangle.py'>"
      ]
     },
     "execution_count": 124,
     "metadata": {},
     "output_type": "execute_result"
    }
   ],
   "source": [
    "reload(generate_rectangle)"
   ]
  },
  {
   "cell_type": "code",
   "execution_count": 30,
   "metadata": {
    "collapsed": false
   },
   "outputs": [
    {
     "data": {
      "text/plain": [
       "[(1, 1), (2, 1), (3, 1), (4, 1), (5, 1), (5, 2), (5, 3)]"
      ]
     },
     "execution_count": 30,
     "metadata": {},
     "output_type": "execute_result"
    }
   ],
   "source": [
    "generate_rectangle.generate_path(f, (1,1), (5,3 ))"
   ]
  },
  {
   "cell_type": "code",
   "execution_count": 62,
   "metadata": {
    "collapsed": false
   },
   "outputs": [
    {
     "data": {
      "text/plain": [
       "(array([2, 3, 3, 3]), array([2, 2, 3, 4]))"
      ]
     },
     "execution_count": 62,
     "metadata": {},
     "output_type": "execute_result"
    }
   ],
   "source": [
    "np.where( f == 1)"
   ]
  },
  {
   "cell_type": "code",
   "execution_count": 76,
   "metadata": {
    "collapsed": false
   },
   "outputs": [
    {
     "data": {
      "text/plain": [
       "[(1, 2), (0, 2), (0, 3), (0, 4)]"
      ]
     },
     "execution_count": 76,
     "metadata": {},
     "output_type": "execute_result"
    }
   ],
   "source": [
    "generate_rectangle.shortest_path(f, 1, 3)"
   ]
  },
  {
   "cell_type": "code",
   "execution_count": 194,
   "metadata": {
    "collapsed": false
   },
   "outputs": [
    {
     "name": "stdout",
     "output_type": "stream",
     "text": [
      "6\n",
      "2\n",
      "(4, 0, 2, 3)\n",
      "(11, 4, 3, 3)\n",
      "(0, 3, 3, 3)\n",
      "(11, 10, 3, 2)\n",
      "(0, 10, 3, 3)\n",
      "(2, 7, 2, 2)\n"
     ]
    }
   ],
   "source": [
    "f = generate_rectangle.generate_frame ( 15, 3, 3, 2, (2, 3) )"
   ]
  },
  {
   "cell_type": "code",
   "execution_count": 195,
   "metadata": {
    "collapsed": false
   },
   "outputs": [
    {
     "data": {
      "image/png": "[encoded data removed]",
      "text/plain": [
       "<matplotlib.figure.Figure at 0x10fc84be0>"
      ]
     },
     "metadata": {},
     "output_type": "display_data"
    }
   ],
   "source": [
    "plot(f)"
   ]
  },
  {
   "cell_type": "code",
   "execution_count": 158,
   "metadata": {
    "collapsed": false
   },
   "outputs": [
    {
     "data": {
      "text/plain": [
       "array([ 5.,  5.,  5.])"
      ]
     },
     "execution_count": 158,
     "metadata": {},
     "output_type": "execute_result"
    }
   ],
   "source": [
    "f[ np.where ( ((f % 5 == 0) & (f != 0 )))]"
   ]
  },
  {
   "cell_type": "code",
   "execution_count": null,
   "metadata": {
    "collapsed": true
   },
   "outputs": [],
   "source": []
  }
 ],
 "metadata": {
  "kernelspec": {
   "display_name": "Python 3",
   "language": "python",
   "name": "python3"
  },
  "language_info": {
   "codemirror_mode": {
    "name": "ipython",
    "version": 3
   },
   "file_extension": ".py",
   "mimetype": "text/x-python",
   "name": "python",
   "nbconvert_exporter": "python",
   "pygments_lexer": "ipython3",
   "version": "3.6.0"
  }
 },
 "nbformat": 4,
 "nbformat_minor": 2
}
