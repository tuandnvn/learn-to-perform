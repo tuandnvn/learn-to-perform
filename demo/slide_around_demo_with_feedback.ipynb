{
 "cells": [
  {
   "cell_type": "markdown",
   "metadata": {
    "collapsed": true
   },
   "source": [
    "The first part of this demo is exactly the same as in *slide_around_demo*. You need to refer to that demo for details."
   ]
  },
  {
   "cell_type": "code",
   "execution_count": 3,
   "metadata": {},
   "outputs": [
    {
     "name": "stdout",
     "output_type": "stream",
     "text": [
      "-------- Load progress model ---------\n",
      "self.inputs.shape = (?, 20, 200)  after linear layer\n",
      "output.shape = (30, 200) after LSTM\n",
      "self.output.shape = (30,) after linear\n",
      "self._targets.shape = (?,) \n",
      "model/SlideAround/linear/weight:0\n",
      "model/SlideAround/linear/bias:0\n",
      "model/SlideAround/lstm/rnn/multi_rnn_cell/cell_0/basic_lstm_cell/kernel:0\n",
      "model/SlideAround/lstm/rnn/multi_rnn_cell/cell_0/basic_lstm_cell/bias:0\n",
      "model/SlideAround/output_linear/weight:0\n",
      "model/SlideAround/output_linear/bias:0\n",
      "INFO:tensorflow:Restoring parameters from ..\\learned_models\\progress_SlideAround.mod\n"
     ]
    }
   ],
   "source": [
    "import os\n",
    "import sys\n",
    "import collections\n",
    "import pickle\n",
    "\n",
    "# Import third party libraries\n",
    "import tensorflow as tf\n",
    "import matplotlib\n",
    "from matplotlib import pyplot as plt\n",
    "%matplotlib inline\n",
    "import numpy as np\n",
    "\n",
    "# Import local libraries\n",
    "module_path = os.path.abspath(os.path.join('..'))\n",
    "if module_path not in sys.path:\n",
    "    sys.path.append(module_path)\n",
    "a = os.path.join(module_path, \"strands_qsr_lib\\qsr_lib\\src3\")\n",
    "\n",
    "sys.path.append(a)\n",
    "\n",
    "import plotting\n",
    "from rl import action_learner, action_learner_search, value_estimator, discrete_action_learner_search as dal\n",
    "import progress_learner\n",
    "import config\n",
    "import project\n",
    "# Need to add this import to load class\n",
    "from project import Project\n",
    "from rl import block_movement_env\n",
    "import utils\n",
    "\n",
    "p = project.Project.load(os.path.join('..', utils.MODEL_PATH, 'slidearound_project.proj'))\n",
    "c = config.Config()\n",
    "c.progress_threshold=0.92\n",
    "c.keep_branching = 24\n",
    "c.branching = 24\n",
    "\n",
    "tf.reset_default_graph()\n",
    "\n",
    "global_step = tf.Variable(0, name=\"global_step\", trainable=False)\n",
    "\n",
    "sess =  tf.Session()\n",
    "\n",
    "with tf.variable_scope(\"search\") as scope:\n",
    "    policy_estimator = action_learner_search.PolicyEstimator(c)\n",
    "\n",
    "sess.run(tf.global_variables_initializer())\n",
    "\n",
    "with tf.variable_scope(\"model\") as scope:\n",
    "    print('-------- Load progress model ---------')\n",
    "    progress_estimator = progress_learner.EventProgressEstimator(is_training=False, name = p.name, config = c)  \n",
    "\n",
    "# Print out all variables that would be restored\n",
    "for variable in tf.get_collection(tf.GraphKeys.GLOBAL_VARIABLES, scope='model'):\n",
    "    print (variable.name)\n",
    "\n",
    "saver = tf.train.Saver(tf.get_collection(tf.GraphKeys.GLOBAL_VARIABLES, scope='model'))\n",
    "saver.restore(sess, os.path.join('..', utils.MODEL_PATH, 'progress_SlideAround.mod'))"
   ]
  },
  {
   "cell_type": "code",
   "execution_count": null,
   "metadata": {},
   "outputs": [],
   "source": [
    "Using \n",
    "\n",
    "We load a "
   ]
  },
  {
   "cell_type": "code",
   "execution_count": 5,
   "metadata": {},
   "outputs": [
    {
     "name": "stdout",
     "output_type": "stream",
     "text": [
      "19\n",
      "[0, 2, 3, 4, 6, 8, 9, 11, 12, 16, 17, 20, 21, 23, 24, 25, 27, 28, 29]\n",
      "4\n",
      "[10, 13, 18, 19]\n"
     ]
    }
   ],
   "source": [
    "feedback = \"..\\\\experiments\\\\human_evaluation_2d\\\\slidearound.txt\"\n",
    "\n",
    "with open(feedback, 'r') as fh:\n",
    "    bad_demonstration_indices = []\n",
    "    good_demonstration_indices = []\n",
    "    for line in fh:\n",
    "        values = [int(v) for v in line.split()]\n",
    "        index = values[0]\n",
    "        average_score = np.mean(values[1:])\n",
    "        if average_score <= 2.5:\n",
    "            bad_demonstration_indices.append(index)\n",
    "        if average_score >= 6:\n",
    "            good_demonstration_indices.append(index)\n",
    "\n",
    "print (len(bad_demonstration_indices))\n",
    "print (bad_demonstration_indices)\n",
    "print (len(good_demonstration_indices))\n",
    "print (good_demonstration_indices)"
   ]
  },
  {
   "cell_type": "code",
   "execution_count": null,
   "metadata": {},
   "outputs": [],
   "source": [
    "prefix = os.path.join( \"..\", \"experiments\", \"human_evaluation_2d\" , \"SlideAround\")\n",
    "\n"
   ]
  }
 ],
 "metadata": {
  "kernelspec": {
   "display_name": "Python 3",
   "language": "python",
   "name": "python3"
  },
  "language_info": {
   "codemirror_mode": {
    "name": "ipython",
    "version": 3
   },
   "file_extension": ".py",
   "mimetype": "text/x-python",
   "name": "python",
   "nbconvert_exporter": "python",
   "pygments_lexer": "ipython3",
   "version": "3.5.4"
  }
 },
 "nbformat": 4,
 "nbformat_minor": 2
}
